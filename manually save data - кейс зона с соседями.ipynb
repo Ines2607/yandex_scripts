{
 "cells": [
  {
   "cell_type": "code",
   "execution_count": 632,
   "id": "2205caa0",
   "metadata": {
    "ExecuteTime": {
     "end_time": "2022-06-29T13:30:43.457391Z",
     "start_time": "2022-06-29T13:30:43.451800Z"
    }
   },
   "outputs": [],
   "source": [
    "from business_models import hahn, greenplum\n",
    "\n",
    "import h3\n",
    "\n",
    "from shapely.geometry import shape,Point,Polygon\n",
    "\n",
    "import geopandas as gpd\n",
    "\n",
    "import pandas as pd\n",
    "\n",
    "import numpy as np\n",
    "\n",
    "from shapely import wkt\n",
    "\n",
    "\n",
    "# import geo_functions as gf\n",
    "\n",
    "import os\n",
    "\n",
    "import geo_functions as gf\n",
    "\n",
    "from shapely import wkt\n",
    "\n",
    "from datetime import datetime\n",
    "\n",
    "\n",
    "import zone_prediction_functions as zpf\n",
    "\n",
    "from importlib import reload\n",
    "from dateutil.relativedelta import relativedelta\n",
    "from matplotlib import pyplot as plt"
   ]
  },
  {
   "cell_type": "code",
   "execution_count": 612,
   "id": "d4cb971e",
   "metadata": {
    "ExecuteTime": {
     "end_time": "2022-06-27T09:14:40.804231Z",
     "start_time": "2022-06-27T09:14:40.776127Z"
    }
   },
   "outputs": [
    {
     "data": {
      "text/plain": [
       "<module 'zone_prediction_functions' from '/home/intra26/zone_prediction_functions.py'>"
      ]
     },
     "execution_count": 612,
     "metadata": {},
     "output_type": "execute_result"
    }
   ],
   "source": [
    "reload(zpf)"
   ]
  },
  {
   "cell_type": "code",
   "execution_count": 633,
   "id": "60161c13",
   "metadata": {
    "ExecuteTime": {
     "end_time": "2022-06-29T13:30:45.787622Z",
     "start_time": "2022-06-29T13:30:45.779929Z"
    }
   },
   "outputs": [],
   "source": [
    "def receive_intersected_zones(gdf_zones,delivery_type='foot'):\n",
    "    \n",
    "    list_zones= gdf_zones.zone_id.unique().tolist()\n",
    "   \n",
    "    gdf_inter_current_new_zones = zpf.receive_intersected_zones( list_zones, delivery_type=delivery_type)\n",
    "#     print(gdf_inter_current_new_zones.head())\n",
    "    \n",
    "    gdf_inter_current_new_zones['zone_id'] = gdf_inter_current_new_zones['current_zone']+'_'+gdf_inter_current_new_zones['delivery_type']\n",
    "    \n",
    "   \n",
    "    gdf_inter_current_new_zones['geometry'] = gdf_inter_current_new_zones['current_zone_geometry']\n",
    "\n",
    "    gdf_inter_current_new_zones['geometry_wkb']=None\n",
    "\n",
    "    gdf_inter_current_new_zones['geometry'] = gdf_inter_current_new_zones.geometry.apply(lambda x: x.buffer(0.001).buffer(-0.001) if x.geom_type=='MultiPolygon'  else x)\n",
    "\n",
    "    gdf_inter_current_new_zones['upload_dt']=datetime.today()\n",
    "    \n",
    "    gdf_inter_current_new_zones['inter_area']=gdf_inter_current_new_zones['inter_area'].apply(lambda x: wkt.loads(x))\n",
    "\n",
    "    gdf_inter_current_new_zones['diff_geometry'] = gpd.GeoSeries(gdf_inter_current_new_zones['current_zone_geometry']).difference(gpd.GeoSeries(gdf_inter_current_new_zones['inter_area'],crs='epsg:4326'))\n",
    "    \n",
    "    return gdf_inter_current_new_zones\n",
    " "
   ]
  },
  {
   "cell_type": "code",
   "execution_count": 634,
   "id": "fcce07b0",
   "metadata": {
    "ExecuteTime": {
     "end_time": "2022-06-29T13:30:58.368538Z",
     "start_time": "2022-06-29T13:30:51.015838Z"
    }
   },
   "outputs": [
    {
     "name": "stdout",
     "output_type": "stream",
     "text": [
      "Если кейс новый - 1, если кейс был загружен ранее - 00\n",
      "название кейсаmovement_spb\n",
      "movement_spb\n"
     ]
    },
    {
     "name": "stderr",
     "output_type": "stream",
     "text": [
      "ERROR:Handler :ERROR in job  launched by /usr/lib/python3.7/runpy.py. <class 'sqlalchemy.exc.ProgrammingError'>: \n",
      " Traceback (most recent call last):\n",
      "  File \"/usr/local/lib/python3.7/dist-packages/sqlalchemy/engine/base.py\", line 1809, in _execute_context\n",
      "    cursor, statement, parameters, context\n",
      "  File \"/usr/local/lib/python3.7/dist-packages/sqlalchemy/engine/default.py\", line 732, in do_execute\n",
      "    cursor.execute(statement, parameters)\n",
      "psycopg2.errors.SyntaxError: syntax error at or near \")\"\n",
      "LINE 1: ...t * from snb_geo_lavka.iat_zones2predict where zone_id in ()\n",
      "                                                                      ^\n",
      "\n",
      "\n",
      "The above exception was the direct cause of the following exception:\n",
      "\n",
      "Traceback (most recent call last):\n",
      "  File \"/usr/local/lib/python3.7/dist-packages/business_models/databases/database.py\", line 67, in wrapper\n",
      "    result = func(*args, **kwargs)\n",
      "  File \"/usr/local/lib/python3.7/dist-packages/business_models/databases/database_sql.py\", line 261, in __call__\n",
      "    connection, **kwargs)\n",
      "  File \"/usr/local/lib/python3.7/dist-packages/pandas/io/sql.py\", line 634, in read_sql\n",
      "    chunksize=chunksize,\n",
      "  File \"/usr/local/lib/python3.7/dist-packages/pandas/io/sql.py\", line 1579, in read_query\n",
      "    result = self.execute(*args)\n",
      "  File \"/usr/local/lib/python3.7/dist-packages/pandas/io/sql.py\", line 1424, in execute\n",
      "    return self.connectable.execution_options().execute(*args, **kwargs)\n",
      "  File \"/usr/local/lib/python3.7/dist-packages/sqlalchemy/engine/base.py\", line 1295, in execute\n",
      "    return meth(self, multiparams, params, _EMPTY_EXECUTION_OPTS)\n",
      "  File \"/usr/local/lib/python3.7/dist-packages/sqlalchemy/sql/elements.py\", line 326, in _execute_on_connection\n",
      "    self, multiparams, params, execution_options\n",
      "  File \"/usr/local/lib/python3.7/dist-packages/sqlalchemy/engine/base.py\", line 1497, in _execute_clauseelement\n",
      "    cache_hit=cache_hit,\n",
      "  File \"/usr/local/lib/python3.7/dist-packages/sqlalchemy/engine/base.py\", line 1852, in _execute_context\n",
      "    e, statement, parameters, cursor, context\n",
      "  File \"/usr/local/lib/python3.7/dist-packages/sqlalchemy/engine/base.py\", line 2033, in _handle_dbapi_exception\n",
      "    sqlalchemy_exception, with_traceback=exc_info[2], from_=e\n",
      "  File \"/usr/local/lib/python3.7/dist-packages/sqlalchemy/util/compat.py\", line 207, in raise_\n",
      "    raise exception\n",
      "  File \"/usr/local/lib/python3.7/dist-packages/sqlalchemy/engine/base.py\", line 1809, in _execute_context\n",
      "    cursor, statement, parameters, context\n",
      "  File \"/usr/local/lib/python3.7/dist-packages/sqlalchemy/engine/default.py\", line 732, in do_execute\n",
      "    cursor.execute(statement, parameters)\n",
      "sqlalchemy.exc.ProgrammingError: (psycopg2.errors.SyntaxError) syntax error at or near \")\"\n",
      "LINE 1: ...t * from snb_geo_lavka.iat_zones2predict where zone_id in ()\n",
      "                                                                      ^\n",
      "\n",
      "[SQL: select * from snb_geo_lavka.iat_zones2predict where zone_id in ()]\n",
      "(Background on this error at: https://sqlalche.me/e/14/f405)\n",
      "  Raised exception: True\n"
     ]
    },
    {
     "name": "stdout",
     "output_type": "stream",
     "text": [
      "case contains 0 zones\n"
     ]
    },
    {
     "ename": "ProgrammingError",
     "evalue": "(psycopg2.errors.SyntaxError) syntax error at or near \")\"\nLINE 1: ...t * from snb_geo_lavka.iat_zones2predict where zone_id in ()\n                                                                      ^\n\n[SQL: select * from snb_geo_lavka.iat_zones2predict where zone_id in ()]\n(Background on this error at: https://sqlalche.me/e/14/f405)",
     "output_type": "error",
     "traceback": [
      "\u001b[0;31m---------------------------------------------------------------------------\u001b[0m",
      "\u001b[0;31mSyntaxError\u001b[0m                               Traceback (most recent call last)",
      "\u001b[0;32m/usr/local/lib/python3.7/dist-packages/sqlalchemy/engine/base.py\u001b[0m in \u001b[0;36m_execute_context\u001b[0;34m(self, dialect, constructor, statement, parameters, execution_options, *args, **kw)\u001b[0m\n\u001b[1;32m   1808\u001b[0m                     self.dialect.do_execute(\n\u001b[0;32m-> 1809\u001b[0;31m                         \u001b[0mcursor\u001b[0m\u001b[0;34m,\u001b[0m \u001b[0mstatement\u001b[0m\u001b[0;34m,\u001b[0m \u001b[0mparameters\u001b[0m\u001b[0;34m,\u001b[0m \u001b[0mcontext\u001b[0m\u001b[0;34m\u001b[0m\u001b[0;34m\u001b[0m\u001b[0m\n\u001b[0m\u001b[1;32m   1810\u001b[0m                     )\n",
      "\u001b[0;32m/usr/local/lib/python3.7/dist-packages/sqlalchemy/engine/default.py\u001b[0m in \u001b[0;36mdo_execute\u001b[0;34m(self, cursor, statement, parameters, context)\u001b[0m\n\u001b[1;32m    731\u001b[0m     \u001b[0;32mdef\u001b[0m \u001b[0mdo_execute\u001b[0m\u001b[0;34m(\u001b[0m\u001b[0mself\u001b[0m\u001b[0;34m,\u001b[0m \u001b[0mcursor\u001b[0m\u001b[0;34m,\u001b[0m \u001b[0mstatement\u001b[0m\u001b[0;34m,\u001b[0m \u001b[0mparameters\u001b[0m\u001b[0;34m,\u001b[0m \u001b[0mcontext\u001b[0m\u001b[0;34m=\u001b[0m\u001b[0;32mNone\u001b[0m\u001b[0;34m)\u001b[0m\u001b[0;34m:\u001b[0m\u001b[0;34m\u001b[0m\u001b[0;34m\u001b[0m\u001b[0m\n\u001b[0;32m--> 732\u001b[0;31m         \u001b[0mcursor\u001b[0m\u001b[0;34m.\u001b[0m\u001b[0mexecute\u001b[0m\u001b[0;34m(\u001b[0m\u001b[0mstatement\u001b[0m\u001b[0;34m,\u001b[0m \u001b[0mparameters\u001b[0m\u001b[0;34m)\u001b[0m\u001b[0;34m\u001b[0m\u001b[0;34m\u001b[0m\u001b[0m\n\u001b[0m\u001b[1;32m    733\u001b[0m \u001b[0;34m\u001b[0m\u001b[0m\n",
      "\u001b[0;31mSyntaxError\u001b[0m: syntax error at or near \")\"\nLINE 1: ...t * from snb_geo_lavka.iat_zones2predict where zone_id in ()\n                                                                      ^\n",
      "\nThe above exception was the direct cause of the following exception:\n",
      "\u001b[0;31mProgrammingError\u001b[0m                          Traceback (most recent call last)",
      "\u001b[0;32m/tmp/ipykernel_16915/646596811.py\u001b[0m in \u001b[0;36m<module>\u001b[0;34m\u001b[0m\n\u001b[0;32m----> 1\u001b[0;31m \u001b[0mgdf_zones\u001b[0m\u001b[0;34m,\u001b[0m \u001b[0mcase_name\u001b[0m\u001b[0;34m=\u001b[0m\u001b[0mzpf\u001b[0m\u001b[0;34m.\u001b[0m\u001b[0mreceive_gdf_zones\u001b[0m\u001b[0;34m(\u001b[0m\u001b[0;34m)\u001b[0m\u001b[0;34m\u001b[0m\u001b[0;34m\u001b[0m\u001b[0m\n\u001b[0m",
      "\u001b[0;32m~/zone_prediction_functions.py\u001b[0m in \u001b[0;36mreceive_gdf_zones\u001b[0;34m()\u001b[0m\n\u001b[1;32m    106\u001b[0m         \u001b[0mgdf_zones\u001b[0m\u001b[0;34m.\u001b[0m\u001b[0mloc\u001b[0m\u001b[0;34m[\u001b[0m\u001b[0mgdf_zones\u001b[0m\u001b[0;34m[\u001b[0m\u001b[0;34m'zone_id'\u001b[0m\u001b[0;34m]\u001b[0m\u001b[0;34m.\u001b[0m\u001b[0mapply\u001b[0m\u001b[0;34m(\u001b[0m\u001b[0;32mlambda\u001b[0m \u001b[0mx\u001b[0m\u001b[0;34m:\u001b[0m \u001b[0;32mFalse\u001b[0m \u001b[0;32mif\u001b[0m \u001b[0mpd\u001b[0m\u001b[0;34m.\u001b[0m\u001b[0misnull\u001b[0m\u001b[0;34m(\u001b[0m\u001b[0mx\u001b[0m\u001b[0;34m)\u001b[0m \u001b[0;32melse\u001b[0m \u001b[0mx\u001b[0m\u001b[0;34m.\u001b[0m\u001b[0misdigit\u001b[0m\u001b[0;34m(\u001b[0m\u001b[0;34m)\u001b[0m\u001b[0;34m)\u001b[0m\u001b[0;34m,\u001b[0m\u001b[0;34m'zone_id'\u001b[0m\u001b[0;34m]\u001b[0m \u001b[0;34m=\u001b[0m \u001b[0mgdf_zones\u001b[0m\u001b[0;34m[\u001b[0m\u001b[0;34m'zone_id'\u001b[0m\u001b[0;34m]\u001b[0m\u001b[0;34m+\u001b[0m\u001b[0;34m'_'\u001b[0m\u001b[0;34m+\u001b[0m\u001b[0mcase_name\u001b[0m\u001b[0;34m\u001b[0m\u001b[0;34m\u001b[0m\u001b[0m\n\u001b[1;32m    107\u001b[0m     \u001b[0;32melse\u001b[0m\u001b[0;34m:\u001b[0m\u001b[0;34m\u001b[0m\u001b[0;34m\u001b[0m\u001b[0m\n\u001b[0;32m--> 108\u001b[0;31m         \u001b[0mgdf_zones\u001b[0m \u001b[0;34m=\u001b[0m \u001b[0mupload_custom_zones\u001b[0m\u001b[0;34m(\u001b[0m\u001b[0mcase_name\u001b[0m\u001b[0;34m=\u001b[0m\u001b[0mcase_name\u001b[0m\u001b[0;34m)\u001b[0m\u001b[0;34m\u001b[0m\u001b[0;34m\u001b[0m\u001b[0m\n\u001b[0m\u001b[1;32m    109\u001b[0m     \u001b[0;32mreturn\u001b[0m \u001b[0mgdf_zones\u001b[0m\u001b[0;34m,\u001b[0m \u001b[0mcase_name\u001b[0m\u001b[0;34m\u001b[0m\u001b[0;34m\u001b[0m\u001b[0m\n\u001b[1;32m    110\u001b[0m \u001b[0;34m\u001b[0m\u001b[0m\n",
      "\u001b[0;32m~/zone_prediction_functions.py\u001b[0m in \u001b[0;36mupload_custom_zones\u001b[0;34m(case_name, zone_geometry, flg_transform_gdf)\u001b[0m\n\u001b[1;32m    418\u001b[0m                          t2.geometry_wkb))/st_area(t1.geometry)>0.9 \"\"\".format(zone_geometry))\n\u001b[1;32m    419\u001b[0m     \u001b[0;32melse\u001b[0m\u001b[0;34m:\u001b[0m\u001b[0;34m\u001b[0m\u001b[0;34m\u001b[0m\u001b[0m\n\u001b[0;32m--> 420\u001b[0;31m         \u001b[0mdf\u001b[0m \u001b[0;34m=\u001b[0m \u001b[0mgreenplum\u001b[0m\u001b[0;34m(\u001b[0m\u001b[0;34m\"\"\"select * from snb_geo_lavka.iat_zones2predict where zone_id in {}\"\"\"\u001b[0m\u001b[0;34m.\u001b[0m\u001b[0mformat\u001b[0m\u001b[0;34m(\u001b[0m\u001b[0mtuple\u001b[0m\u001b[0;34m(\u001b[0m\u001b[0mlist_zones\u001b[0m\u001b[0;34m)\u001b[0m\u001b[0;34m)\u001b[0m\u001b[0;34m)\u001b[0m\u001b[0;34m\u001b[0m\u001b[0;34m\u001b[0m\u001b[0m\n\u001b[0m\u001b[1;32m    421\u001b[0m \u001b[0;34m\u001b[0m\u001b[0m\n\u001b[1;32m    422\u001b[0m \u001b[0;34m\u001b[0m\u001b[0m\n",
      "\u001b[0;32m/usr/local/lib/python3.7/dist-packages/business_models/util/log.py\u001b[0m in \u001b[0;36mf_retry\u001b[0;34m(*args, **kwargs)\u001b[0m\n\u001b[1;32m    306\u001b[0m             \u001b[0;32mwhile\u001b[0m \u001b[0mmtries\u001b[0m \u001b[0;34m>\u001b[0m \u001b[0;36m1\u001b[0m\u001b[0;34m:\u001b[0m\u001b[0;34m\u001b[0m\u001b[0;34m\u001b[0m\u001b[0m\n\u001b[1;32m    307\u001b[0m                 \u001b[0;32mtry\u001b[0m\u001b[0;34m:\u001b[0m\u001b[0;34m\u001b[0m\u001b[0;34m\u001b[0m\u001b[0m\n\u001b[0;32m--> 308\u001b[0;31m                     \u001b[0;32mreturn\u001b[0m \u001b[0mf\u001b[0m\u001b[0;34m(\u001b[0m\u001b[0;34m*\u001b[0m\u001b[0margs\u001b[0m\u001b[0;34m,\u001b[0m \u001b[0;34m**\u001b[0m\u001b[0mkwargs\u001b[0m\u001b[0;34m)\u001b[0m\u001b[0;34m\u001b[0m\u001b[0;34m\u001b[0m\u001b[0m\n\u001b[0m\u001b[1;32m    309\u001b[0m                 \u001b[0;32mexcept\u001b[0m \u001b[0mExceptionToCheck\u001b[0m \u001b[0;32mas\u001b[0m \u001b[0me\u001b[0m\u001b[0;34m:\u001b[0m\u001b[0;34m\u001b[0m\u001b[0;34m\u001b[0m\u001b[0m\n\u001b[1;32m    310\u001b[0m                     \u001b[0mmsg\u001b[0m \u001b[0;34m=\u001b[0m \u001b[0;34m\"%s, Retrying in %d seconds...\"\u001b[0m \u001b[0;34m%\u001b[0m \u001b[0;34m(\u001b[0m\u001b[0mstr\u001b[0m\u001b[0;34m(\u001b[0m\u001b[0me\u001b[0m\u001b[0;34m)\u001b[0m\u001b[0;34m,\u001b[0m \u001b[0mmdelay\u001b[0m\u001b[0;34m)\u001b[0m\u001b[0;34m\u001b[0m\u001b[0;34m\u001b[0m\u001b[0m\n",
      "\u001b[0;32m/usr/local/lib/python3.7/dist-packages/business_models/databases/database.py\u001b[0m in \u001b[0;36mwrapper\u001b[0;34m(*args, **kwargs)\u001b[0m\n\u001b[1;32m     65\u001b[0m             \u001b[0;31m# первая попытка выполнить код\u001b[0m\u001b[0;34m\u001b[0m\u001b[0;34m\u001b[0m\u001b[0;34m\u001b[0m\u001b[0m\n\u001b[1;32m     66\u001b[0m             \u001b[0;32mwith\u001b[0m \u001b[0mHandler\u001b[0m\u001b[0;34m(\u001b[0m\u001b[0mraise_exceptions\u001b[0m\u001b[0;34m=\u001b[0m\u001b[0mwas_authorized\u001b[0m\u001b[0;34m)\u001b[0m \u001b[0;32mas\u001b[0m \u001b[0mh\u001b[0m\u001b[0;34m:\u001b[0m\u001b[0;34m\u001b[0m\u001b[0;34m\u001b[0m\u001b[0m\n\u001b[0;32m---> 67\u001b[0;31m                 \u001b[0mresult\u001b[0m \u001b[0;34m=\u001b[0m \u001b[0mfunc\u001b[0m\u001b[0;34m(\u001b[0m\u001b[0;34m*\u001b[0m\u001b[0margs\u001b[0m\u001b[0;34m,\u001b[0m \u001b[0;34m**\u001b[0m\u001b[0mkwargs\u001b[0m\u001b[0;34m)\u001b[0m\u001b[0;34m\u001b[0m\u001b[0;34m\u001b[0m\u001b[0m\n\u001b[0m\u001b[1;32m     68\u001b[0m \u001b[0;34m\u001b[0m\u001b[0m\n\u001b[1;32m     69\u001b[0m             \u001b[0;32mif\u001b[0m \u001b[0;32mnot\u001b[0m \u001b[0mh\u001b[0m\u001b[0;34m.\u001b[0m\u001b[0msuccess\u001b[0m\u001b[0;34m:\u001b[0m\u001b[0;34m\u001b[0m\u001b[0;34m\u001b[0m\u001b[0m\n",
      "\u001b[0;32m/usr/local/lib/python3.7/dist-packages/business_models/databases/database_sql.py\u001b[0m in \u001b[0;36m__call__\u001b[0;34m(self, query, query_file_paths, query_format_kwargs, **kwargs)\u001b[0m\n\u001b[1;32m    259\u001b[0m             \u001b[0;32mwith\u001b[0m \u001b[0mConnection\u001b[0m\u001b[0;34m(\u001b[0m\u001b[0mself\u001b[0m\u001b[0;34m.\u001b[0m\u001b[0mengine\u001b[0m\u001b[0;34m)\u001b[0m \u001b[0;32mas\u001b[0m \u001b[0mconnection\u001b[0m\u001b[0;34m:\u001b[0m\u001b[0;34m\u001b[0m\u001b[0;34m\u001b[0m\u001b[0m\n\u001b[1;32m    260\u001b[0m                 result = pd.read_sql(text(query).execution_options(autocommit=True),\n\u001b[0;32m--> 261\u001b[0;31m                                      connection, **kwargs)\n\u001b[0m\u001b[1;32m    262\u001b[0m         \u001b[0;32mexcept\u001b[0m \u001b[0mResourceClosedError\u001b[0m\u001b[0;34m:\u001b[0m\u001b[0;34m\u001b[0m\u001b[0;34m\u001b[0m\u001b[0m\n\u001b[1;32m    263\u001b[0m             \u001b[0mresult\u001b[0m \u001b[0;34m=\u001b[0m \u001b[0;32mNone\u001b[0m\u001b[0;34m\u001b[0m\u001b[0;34m\u001b[0m\u001b[0m\n",
      "\u001b[0;32m/usr/local/lib/python3.7/dist-packages/pandas/io/sql.py\u001b[0m in \u001b[0;36mread_sql\u001b[0;34m(sql, con, index_col, coerce_float, params, parse_dates, columns, chunksize)\u001b[0m\n\u001b[1;32m    632\u001b[0m             \u001b[0mcoerce_float\u001b[0m\u001b[0;34m=\u001b[0m\u001b[0mcoerce_float\u001b[0m\u001b[0;34m,\u001b[0m\u001b[0;34m\u001b[0m\u001b[0;34m\u001b[0m\u001b[0m\n\u001b[1;32m    633\u001b[0m             \u001b[0mparse_dates\u001b[0m\u001b[0;34m=\u001b[0m\u001b[0mparse_dates\u001b[0m\u001b[0;34m,\u001b[0m\u001b[0;34m\u001b[0m\u001b[0;34m\u001b[0m\u001b[0m\n\u001b[0;32m--> 634\u001b[0;31m             \u001b[0mchunksize\u001b[0m\u001b[0;34m=\u001b[0m\u001b[0mchunksize\u001b[0m\u001b[0;34m,\u001b[0m\u001b[0;34m\u001b[0m\u001b[0;34m\u001b[0m\u001b[0m\n\u001b[0m\u001b[1;32m    635\u001b[0m         )\n\u001b[1;32m    636\u001b[0m \u001b[0;34m\u001b[0m\u001b[0m\n",
      "\u001b[0;32m/usr/local/lib/python3.7/dist-packages/pandas/io/sql.py\u001b[0m in \u001b[0;36mread_query\u001b[0;34m(self, sql, index_col, coerce_float, parse_dates, params, chunksize, dtype)\u001b[0m\n\u001b[1;32m   1577\u001b[0m         \u001b[0margs\u001b[0m \u001b[0;34m=\u001b[0m \u001b[0m_convert_params\u001b[0m\u001b[0;34m(\u001b[0m\u001b[0msql\u001b[0m\u001b[0;34m,\u001b[0m \u001b[0mparams\u001b[0m\u001b[0;34m)\u001b[0m\u001b[0;34m\u001b[0m\u001b[0;34m\u001b[0m\u001b[0m\n\u001b[1;32m   1578\u001b[0m \u001b[0;34m\u001b[0m\u001b[0m\n\u001b[0;32m-> 1579\u001b[0;31m         \u001b[0mresult\u001b[0m \u001b[0;34m=\u001b[0m \u001b[0mself\u001b[0m\u001b[0;34m.\u001b[0m\u001b[0mexecute\u001b[0m\u001b[0;34m(\u001b[0m\u001b[0;34m*\u001b[0m\u001b[0margs\u001b[0m\u001b[0;34m)\u001b[0m\u001b[0;34m\u001b[0m\u001b[0;34m\u001b[0m\u001b[0m\n\u001b[0m\u001b[1;32m   1580\u001b[0m         \u001b[0mcolumns\u001b[0m \u001b[0;34m=\u001b[0m \u001b[0mresult\u001b[0m\u001b[0;34m.\u001b[0m\u001b[0mkeys\u001b[0m\u001b[0;34m(\u001b[0m\u001b[0;34m)\u001b[0m\u001b[0;34m\u001b[0m\u001b[0;34m\u001b[0m\u001b[0m\n\u001b[1;32m   1581\u001b[0m \u001b[0;34m\u001b[0m\u001b[0m\n",
      "\u001b[0;32m/usr/local/lib/python3.7/dist-packages/pandas/io/sql.py\u001b[0m in \u001b[0;36mexecute\u001b[0;34m(self, *args, **kwargs)\u001b[0m\n\u001b[1;32m   1422\u001b[0m     \u001b[0;32mdef\u001b[0m \u001b[0mexecute\u001b[0m\u001b[0;34m(\u001b[0m\u001b[0mself\u001b[0m\u001b[0;34m,\u001b[0m \u001b[0;34m*\u001b[0m\u001b[0margs\u001b[0m\u001b[0;34m,\u001b[0m \u001b[0;34m**\u001b[0m\u001b[0mkwargs\u001b[0m\u001b[0;34m)\u001b[0m\u001b[0;34m:\u001b[0m\u001b[0;34m\u001b[0m\u001b[0;34m\u001b[0m\u001b[0m\n\u001b[1;32m   1423\u001b[0m         \u001b[0;34m\"\"\"Simple passthrough to SQLAlchemy connectable\"\"\"\u001b[0m\u001b[0;34m\u001b[0m\u001b[0;34m\u001b[0m\u001b[0m\n\u001b[0;32m-> 1424\u001b[0;31m         \u001b[0;32mreturn\u001b[0m \u001b[0mself\u001b[0m\u001b[0;34m.\u001b[0m\u001b[0mconnectable\u001b[0m\u001b[0;34m.\u001b[0m\u001b[0mexecution_options\u001b[0m\u001b[0;34m(\u001b[0m\u001b[0;34m)\u001b[0m\u001b[0;34m.\u001b[0m\u001b[0mexecute\u001b[0m\u001b[0;34m(\u001b[0m\u001b[0;34m*\u001b[0m\u001b[0margs\u001b[0m\u001b[0;34m,\u001b[0m \u001b[0;34m**\u001b[0m\u001b[0mkwargs\u001b[0m\u001b[0;34m)\u001b[0m\u001b[0;34m\u001b[0m\u001b[0;34m\u001b[0m\u001b[0m\n\u001b[0m\u001b[1;32m   1425\u001b[0m \u001b[0;34m\u001b[0m\u001b[0m\n\u001b[1;32m   1426\u001b[0m     def read_table(\n",
      "\u001b[0;32m/usr/local/lib/python3.7/dist-packages/sqlalchemy/engine/base.py\u001b[0m in \u001b[0;36mexecute\u001b[0;34m(self, statement, *multiparams, **params)\u001b[0m\n\u001b[1;32m   1293\u001b[0m             )\n\u001b[1;32m   1294\u001b[0m         \u001b[0;32melse\u001b[0m\u001b[0;34m:\u001b[0m\u001b[0;34m\u001b[0m\u001b[0;34m\u001b[0m\u001b[0m\n\u001b[0;32m-> 1295\u001b[0;31m             \u001b[0;32mreturn\u001b[0m \u001b[0mmeth\u001b[0m\u001b[0;34m(\u001b[0m\u001b[0mself\u001b[0m\u001b[0;34m,\u001b[0m \u001b[0mmultiparams\u001b[0m\u001b[0;34m,\u001b[0m \u001b[0mparams\u001b[0m\u001b[0;34m,\u001b[0m \u001b[0m_EMPTY_EXECUTION_OPTS\u001b[0m\u001b[0;34m)\u001b[0m\u001b[0;34m\u001b[0m\u001b[0;34m\u001b[0m\u001b[0m\n\u001b[0m\u001b[1;32m   1296\u001b[0m \u001b[0;34m\u001b[0m\u001b[0m\n\u001b[1;32m   1297\u001b[0m     \u001b[0;32mdef\u001b[0m \u001b[0m_execute_function\u001b[0m\u001b[0;34m(\u001b[0m\u001b[0mself\u001b[0m\u001b[0;34m,\u001b[0m \u001b[0mfunc\u001b[0m\u001b[0;34m,\u001b[0m \u001b[0mmultiparams\u001b[0m\u001b[0;34m,\u001b[0m \u001b[0mparams\u001b[0m\u001b[0;34m,\u001b[0m \u001b[0mexecution_options\u001b[0m\u001b[0;34m)\u001b[0m\u001b[0;34m:\u001b[0m\u001b[0;34m\u001b[0m\u001b[0;34m\u001b[0m\u001b[0m\n",
      "\u001b[0;32m/usr/local/lib/python3.7/dist-packages/sqlalchemy/sql/elements.py\u001b[0m in \u001b[0;36m_execute_on_connection\u001b[0;34m(self, connection, multiparams, params, execution_options, _force)\u001b[0m\n\u001b[1;32m    324\u001b[0m         \u001b[0;32mif\u001b[0m \u001b[0m_force\u001b[0m \u001b[0;32mor\u001b[0m \u001b[0mself\u001b[0m\u001b[0;34m.\u001b[0m\u001b[0msupports_execution\u001b[0m\u001b[0;34m:\u001b[0m\u001b[0;34m\u001b[0m\u001b[0;34m\u001b[0m\u001b[0m\n\u001b[1;32m    325\u001b[0m             return connection._execute_clauseelement(\n\u001b[0;32m--> 326\u001b[0;31m                 \u001b[0mself\u001b[0m\u001b[0;34m,\u001b[0m \u001b[0mmultiparams\u001b[0m\u001b[0;34m,\u001b[0m \u001b[0mparams\u001b[0m\u001b[0;34m,\u001b[0m \u001b[0mexecution_options\u001b[0m\u001b[0;34m\u001b[0m\u001b[0;34m\u001b[0m\u001b[0m\n\u001b[0m\u001b[1;32m    327\u001b[0m             )\n\u001b[1;32m    328\u001b[0m         \u001b[0;32melse\u001b[0m\u001b[0;34m:\u001b[0m\u001b[0;34m\u001b[0m\u001b[0;34m\u001b[0m\u001b[0m\n",
      "\u001b[0;32m/usr/local/lib/python3.7/dist-packages/sqlalchemy/engine/base.py\u001b[0m in \u001b[0;36m_execute_clauseelement\u001b[0;34m(self, elem, multiparams, params, execution_options)\u001b[0m\n\u001b[1;32m   1495\u001b[0m             \u001b[0melem\u001b[0m\u001b[0;34m,\u001b[0m\u001b[0;34m\u001b[0m\u001b[0;34m\u001b[0m\u001b[0m\n\u001b[1;32m   1496\u001b[0m             \u001b[0mextracted_params\u001b[0m\u001b[0;34m,\u001b[0m\u001b[0;34m\u001b[0m\u001b[0;34m\u001b[0m\u001b[0m\n\u001b[0;32m-> 1497\u001b[0;31m             \u001b[0mcache_hit\u001b[0m\u001b[0;34m=\u001b[0m\u001b[0mcache_hit\u001b[0m\u001b[0;34m,\u001b[0m\u001b[0;34m\u001b[0m\u001b[0;34m\u001b[0m\u001b[0m\n\u001b[0m\u001b[1;32m   1498\u001b[0m         )\n\u001b[1;32m   1499\u001b[0m         \u001b[0;32mif\u001b[0m \u001b[0mhas_events\u001b[0m\u001b[0;34m:\u001b[0m\u001b[0;34m\u001b[0m\u001b[0;34m\u001b[0m\u001b[0m\n",
      "\u001b[0;32m/usr/local/lib/python3.7/dist-packages/sqlalchemy/engine/base.py\u001b[0m in \u001b[0;36m_execute_context\u001b[0;34m(self, dialect, constructor, statement, parameters, execution_options, *args, **kw)\u001b[0m\n\u001b[1;32m   1850\u001b[0m         \u001b[0;32mexcept\u001b[0m \u001b[0mBaseException\u001b[0m \u001b[0;32mas\u001b[0m \u001b[0me\u001b[0m\u001b[0;34m:\u001b[0m\u001b[0;34m\u001b[0m\u001b[0;34m\u001b[0m\u001b[0m\n\u001b[1;32m   1851\u001b[0m             self._handle_dbapi_exception(\n\u001b[0;32m-> 1852\u001b[0;31m                 \u001b[0me\u001b[0m\u001b[0;34m,\u001b[0m \u001b[0mstatement\u001b[0m\u001b[0;34m,\u001b[0m \u001b[0mparameters\u001b[0m\u001b[0;34m,\u001b[0m \u001b[0mcursor\u001b[0m\u001b[0;34m,\u001b[0m \u001b[0mcontext\u001b[0m\u001b[0;34m\u001b[0m\u001b[0;34m\u001b[0m\u001b[0m\n\u001b[0m\u001b[1;32m   1853\u001b[0m             )\n\u001b[1;32m   1854\u001b[0m \u001b[0;34m\u001b[0m\u001b[0m\n",
      "\u001b[0;32m/usr/local/lib/python3.7/dist-packages/sqlalchemy/engine/base.py\u001b[0m in \u001b[0;36m_handle_dbapi_exception\u001b[0;34m(self, e, statement, parameters, cursor, context)\u001b[0m\n\u001b[1;32m   2031\u001b[0m             \u001b[0;32melif\u001b[0m \u001b[0mshould_wrap\u001b[0m\u001b[0;34m:\u001b[0m\u001b[0;34m\u001b[0m\u001b[0;34m\u001b[0m\u001b[0m\n\u001b[1;32m   2032\u001b[0m                 util.raise_(\n\u001b[0;32m-> 2033\u001b[0;31m                     \u001b[0msqlalchemy_exception\u001b[0m\u001b[0;34m,\u001b[0m \u001b[0mwith_traceback\u001b[0m\u001b[0;34m=\u001b[0m\u001b[0mexc_info\u001b[0m\u001b[0;34m[\u001b[0m\u001b[0;36m2\u001b[0m\u001b[0;34m]\u001b[0m\u001b[0;34m,\u001b[0m \u001b[0mfrom_\u001b[0m\u001b[0;34m=\u001b[0m\u001b[0me\u001b[0m\u001b[0;34m\u001b[0m\u001b[0;34m\u001b[0m\u001b[0m\n\u001b[0m\u001b[1;32m   2034\u001b[0m                 )\n\u001b[1;32m   2035\u001b[0m             \u001b[0;32melse\u001b[0m\u001b[0;34m:\u001b[0m\u001b[0;34m\u001b[0m\u001b[0;34m\u001b[0m\u001b[0m\n",
      "\u001b[0;32m/usr/local/lib/python3.7/dist-packages/sqlalchemy/util/compat.py\u001b[0m in \u001b[0;36mraise_\u001b[0;34m(***failed resolving arguments***)\u001b[0m\n\u001b[1;32m    205\u001b[0m \u001b[0;34m\u001b[0m\u001b[0m\n\u001b[1;32m    206\u001b[0m         \u001b[0;32mtry\u001b[0m\u001b[0;34m:\u001b[0m\u001b[0;34m\u001b[0m\u001b[0;34m\u001b[0m\u001b[0m\n\u001b[0;32m--> 207\u001b[0;31m             \u001b[0;32mraise\u001b[0m \u001b[0mexception\u001b[0m\u001b[0;34m\u001b[0m\u001b[0;34m\u001b[0m\u001b[0m\n\u001b[0m\u001b[1;32m    208\u001b[0m         \u001b[0;32mfinally\u001b[0m\u001b[0;34m:\u001b[0m\u001b[0;34m\u001b[0m\u001b[0;34m\u001b[0m\u001b[0m\n\u001b[1;32m    209\u001b[0m             \u001b[0;31m# credit to\u001b[0m\u001b[0;34m\u001b[0m\u001b[0;34m\u001b[0m\u001b[0;34m\u001b[0m\u001b[0m\n",
      "\u001b[0;32m/usr/local/lib/python3.7/dist-packages/sqlalchemy/engine/base.py\u001b[0m in \u001b[0;36m_execute_context\u001b[0;34m(self, dialect, constructor, statement, parameters, execution_options, *args, **kw)\u001b[0m\n\u001b[1;32m   1807\u001b[0m                 \u001b[0;32mif\u001b[0m \u001b[0;32mnot\u001b[0m \u001b[0mevt_handled\u001b[0m\u001b[0;34m:\u001b[0m\u001b[0;34m\u001b[0m\u001b[0;34m\u001b[0m\u001b[0m\n\u001b[1;32m   1808\u001b[0m                     self.dialect.do_execute(\n\u001b[0;32m-> 1809\u001b[0;31m                         \u001b[0mcursor\u001b[0m\u001b[0;34m,\u001b[0m \u001b[0mstatement\u001b[0m\u001b[0;34m,\u001b[0m \u001b[0mparameters\u001b[0m\u001b[0;34m,\u001b[0m \u001b[0mcontext\u001b[0m\u001b[0;34m\u001b[0m\u001b[0;34m\u001b[0m\u001b[0m\n\u001b[0m\u001b[1;32m   1810\u001b[0m                     )\n\u001b[1;32m   1811\u001b[0m \u001b[0;34m\u001b[0m\u001b[0m\n",
      "\u001b[0;32m/usr/local/lib/python3.7/dist-packages/sqlalchemy/engine/default.py\u001b[0m in \u001b[0;36mdo_execute\u001b[0;34m(self, cursor, statement, parameters, context)\u001b[0m\n\u001b[1;32m    730\u001b[0m \u001b[0;34m\u001b[0m\u001b[0m\n\u001b[1;32m    731\u001b[0m     \u001b[0;32mdef\u001b[0m \u001b[0mdo_execute\u001b[0m\u001b[0;34m(\u001b[0m\u001b[0mself\u001b[0m\u001b[0;34m,\u001b[0m \u001b[0mcursor\u001b[0m\u001b[0;34m,\u001b[0m \u001b[0mstatement\u001b[0m\u001b[0;34m,\u001b[0m \u001b[0mparameters\u001b[0m\u001b[0;34m,\u001b[0m \u001b[0mcontext\u001b[0m\u001b[0;34m=\u001b[0m\u001b[0;32mNone\u001b[0m\u001b[0;34m)\u001b[0m\u001b[0;34m:\u001b[0m\u001b[0;34m\u001b[0m\u001b[0;34m\u001b[0m\u001b[0m\n\u001b[0;32m--> 732\u001b[0;31m         \u001b[0mcursor\u001b[0m\u001b[0;34m.\u001b[0m\u001b[0mexecute\u001b[0m\u001b[0;34m(\u001b[0m\u001b[0mstatement\u001b[0m\u001b[0;34m,\u001b[0m \u001b[0mparameters\u001b[0m\u001b[0;34m)\u001b[0m\u001b[0;34m\u001b[0m\u001b[0;34m\u001b[0m\u001b[0m\n\u001b[0m\u001b[1;32m    733\u001b[0m \u001b[0;34m\u001b[0m\u001b[0m\n\u001b[1;32m    734\u001b[0m     \u001b[0;32mdef\u001b[0m \u001b[0mdo_execute_no_params\u001b[0m\u001b[0;34m(\u001b[0m\u001b[0mself\u001b[0m\u001b[0;34m,\u001b[0m \u001b[0mcursor\u001b[0m\u001b[0;34m,\u001b[0m \u001b[0mstatement\u001b[0m\u001b[0;34m,\u001b[0m \u001b[0mcontext\u001b[0m\u001b[0;34m=\u001b[0m\u001b[0;32mNone\u001b[0m\u001b[0;34m)\u001b[0m\u001b[0;34m:\u001b[0m\u001b[0;34m\u001b[0m\u001b[0;34m\u001b[0m\u001b[0m\n",
      "\u001b[0;31mProgrammingError\u001b[0m: (psycopg2.errors.SyntaxError) syntax error at or near \")\"\nLINE 1: ...t * from snb_geo_lavka.iat_zones2predict where zone_id in ()\n                                                                      ^\n\n[SQL: select * from snb_geo_lavka.iat_zones2predict where zone_id in ()]\n(Background on this error at: https://sqlalche.me/e/14/f405)"
     ]
    }
   ],
   "source": [
    "gdf_zones, case_name=zpf.receive_gdf_zones()"
   ]
  },
  {
   "cell_type": "code",
   "execution_count": 635,
   "id": "f14b9b7b",
   "metadata": {
    "ExecuteTime": {
     "end_time": "2022-06-29T13:32:27.155574Z",
     "start_time": "2022-06-29T13:32:18.624005Z"
    }
   },
   "outputs": [],
   "source": [
    "df = greenplum(\"select id, st_astext(geometry) from snb_geo_lavka.spb_zones_suggest where type='movement'\")\n",
    "\n",
    "df.columns=['zone_id','geometry']\n",
    "\n",
    "df['zone_id']=df['zone_id']+'_movement_spb'\n",
    "\n",
    "df['upload_dt']=datetime.today()\n",
    "\n",
    "\n",
    "df['geometry_wkb']=None"
   ]
  },
  {
   "cell_type": "code",
   "execution_count": 675,
   "id": "4f2baab3",
   "metadata": {
    "ExecuteTime": {
     "end_time": "2022-06-29T13:55:24.241835Z",
     "start_time": "2022-06-29T13:55:24.147923Z"
    }
   },
   "outputs": [
    {
     "name": "stderr",
     "output_type": "stream",
     "text": [
      "ERROR:Handler :ERROR in job  launched by /usr/lib/python3.7/runpy.py. <class 'sqlalchemy.exc.ProgrammingError'>: \n",
      " Traceback (most recent call last):\n",
      "  File \"/usr/local/lib/python3.7/dist-packages/sqlalchemy/engine/base.py\", line 1809, in _execute_context\n",
      "    cursor, statement, parameters, context\n",
      "  File \"/usr/local/lib/python3.7/dist-packages/sqlalchemy/engine/default.py\", line 732, in do_execute\n",
      "    cursor.execute(statement, parameters)\n",
      "psycopg2.errors.UndefinedTable: relation \"snb_geo_lavka.spb_store_suggest\" does not exist\n",
      "LINE 1: select id, st_astext(geometry) from snb_geo_lavka.spb_store_...\n",
      "                                            ^\n",
      "\n",
      "\n",
      "The above exception was the direct cause of the following exception:\n",
      "\n",
      "Traceback (most recent call last):\n",
      "  File \"/usr/local/lib/python3.7/dist-packages/business_models/databases/database.py\", line 67, in wrapper\n",
      "    result = func(*args, **kwargs)\n",
      "  File \"/usr/local/lib/python3.7/dist-packages/business_models/databases/database_sql.py\", line 261, in __call__\n",
      "    connection, **kwargs)\n",
      "  File \"/usr/local/lib/python3.7/dist-packages/pandas/io/sql.py\", line 634, in read_sql\n",
      "    chunksize=chunksize,\n",
      "  File \"/usr/local/lib/python3.7/dist-packages/pandas/io/sql.py\", line 1579, in read_query\n",
      "    result = self.execute(*args)\n",
      "  File \"/usr/local/lib/python3.7/dist-packages/pandas/io/sql.py\", line 1424, in execute\n",
      "    return self.connectable.execution_options().execute(*args, **kwargs)\n",
      "  File \"/usr/local/lib/python3.7/dist-packages/sqlalchemy/engine/base.py\", line 1295, in execute\n",
      "    return meth(self, multiparams, params, _EMPTY_EXECUTION_OPTS)\n",
      "  File \"/usr/local/lib/python3.7/dist-packages/sqlalchemy/sql/elements.py\", line 326, in _execute_on_connection\n",
      "    self, multiparams, params, execution_options\n",
      "  File \"/usr/local/lib/python3.7/dist-packages/sqlalchemy/engine/base.py\", line 1497, in _execute_clauseelement\n",
      "    cache_hit=cache_hit,\n",
      "  File \"/usr/local/lib/python3.7/dist-packages/sqlalchemy/engine/base.py\", line 1852, in _execute_context\n",
      "    e, statement, parameters, cursor, context\n",
      "  File \"/usr/local/lib/python3.7/dist-packages/sqlalchemy/engine/base.py\", line 2033, in _handle_dbapi_exception\n",
      "    sqlalchemy_exception, with_traceback=exc_info[2], from_=e\n",
      "  File \"/usr/local/lib/python3.7/dist-packages/sqlalchemy/util/compat.py\", line 207, in raise_\n",
      "    raise exception\n",
      "  File \"/usr/local/lib/python3.7/dist-packages/sqlalchemy/engine/base.py\", line 1809, in _execute_context\n",
      "    cursor, statement, parameters, context\n",
      "  File \"/usr/local/lib/python3.7/dist-packages/sqlalchemy/engine/default.py\", line 732, in do_execute\n",
      "    cursor.execute(statement, parameters)\n",
      "sqlalchemy.exc.ProgrammingError: (psycopg2.errors.UndefinedTable) relation \"snb_geo_lavka.spb_store_suggest\" does not exist\n",
      "LINE 1: select id, st_astext(geometry) from snb_geo_lavka.spb_store_...\n",
      "                                            ^\n",
      "\n",
      "[SQL: select id, st_astext(geometry) from snb_geo_lavka.spb_store_suggest where type='movement']\n",
      "(Background on this error at: https://sqlalche.me/e/14/f405)\n",
      "  Raised exception: True\n"
     ]
    },
    {
     "ename": "ProgrammingError",
     "evalue": "(psycopg2.errors.UndefinedTable) relation \"snb_geo_lavka.spb_store_suggest\" does not exist\nLINE 1: select id, st_astext(geometry) from snb_geo_lavka.spb_store_...\n                                            ^\n\n[SQL: select id, st_astext(geometry) from snb_geo_lavka.spb_store_suggest where type='movement']\n(Background on this error at: https://sqlalche.me/e/14/f405)",
     "output_type": "error",
     "traceback": [
      "\u001b[0;31m---------------------------------------------------------------------------\u001b[0m",
      "\u001b[0;31mUndefinedTable\u001b[0m                            Traceback (most recent call last)",
      "\u001b[0;32m/usr/local/lib/python3.7/dist-packages/sqlalchemy/engine/base.py\u001b[0m in \u001b[0;36m_execute_context\u001b[0;34m(self, dialect, constructor, statement, parameters, execution_options, *args, **kw)\u001b[0m\n\u001b[1;32m   1808\u001b[0m                     self.dialect.do_execute(\n\u001b[0;32m-> 1809\u001b[0;31m                         \u001b[0mcursor\u001b[0m\u001b[0;34m,\u001b[0m \u001b[0mstatement\u001b[0m\u001b[0;34m,\u001b[0m \u001b[0mparameters\u001b[0m\u001b[0;34m,\u001b[0m \u001b[0mcontext\u001b[0m\u001b[0;34m\u001b[0m\u001b[0;34m\u001b[0m\u001b[0m\n\u001b[0m\u001b[1;32m   1810\u001b[0m                     )\n",
      "\u001b[0;32m/usr/local/lib/python3.7/dist-packages/sqlalchemy/engine/default.py\u001b[0m in \u001b[0;36mdo_execute\u001b[0;34m(self, cursor, statement, parameters, context)\u001b[0m\n\u001b[1;32m    731\u001b[0m     \u001b[0;32mdef\u001b[0m \u001b[0mdo_execute\u001b[0m\u001b[0;34m(\u001b[0m\u001b[0mself\u001b[0m\u001b[0;34m,\u001b[0m \u001b[0mcursor\u001b[0m\u001b[0;34m,\u001b[0m \u001b[0mstatement\u001b[0m\u001b[0;34m,\u001b[0m \u001b[0mparameters\u001b[0m\u001b[0;34m,\u001b[0m \u001b[0mcontext\u001b[0m\u001b[0;34m=\u001b[0m\u001b[0;32mNone\u001b[0m\u001b[0;34m)\u001b[0m\u001b[0;34m:\u001b[0m\u001b[0;34m\u001b[0m\u001b[0;34m\u001b[0m\u001b[0m\n\u001b[0;32m--> 732\u001b[0;31m         \u001b[0mcursor\u001b[0m\u001b[0;34m.\u001b[0m\u001b[0mexecute\u001b[0m\u001b[0;34m(\u001b[0m\u001b[0mstatement\u001b[0m\u001b[0;34m,\u001b[0m \u001b[0mparameters\u001b[0m\u001b[0;34m)\u001b[0m\u001b[0;34m\u001b[0m\u001b[0;34m\u001b[0m\u001b[0m\n\u001b[0m\u001b[1;32m    733\u001b[0m \u001b[0;34m\u001b[0m\u001b[0m\n",
      "\u001b[0;31mUndefinedTable\u001b[0m: relation \"snb_geo_lavka.spb_store_suggest\" does not exist\nLINE 1: select id, st_astext(geometry) from snb_geo_lavka.spb_store_...\n                                            ^\n",
      "\nThe above exception was the direct cause of the following exception:\n",
      "\u001b[0;31mProgrammingError\u001b[0m                          Traceback (most recent call last)",
      "\u001b[0;32m/tmp/ipykernel_16915/4282893544.py\u001b[0m in \u001b[0;36m<module>\u001b[0;34m\u001b[0m\n\u001b[0;32m----> 1\u001b[0;31m \u001b[0mdf\u001b[0m \u001b[0;34m=\u001b[0m \u001b[0mgreenplum\u001b[0m\u001b[0;34m(\u001b[0m\u001b[0;34m\"select id, st_astext(geometry) from snb_geo_lavka.spb_store_suggest where type='movement'\"\u001b[0m\u001b[0;34m)\u001b[0m\u001b[0;34m\u001b[0m\u001b[0;34m\u001b[0m\u001b[0m\n\u001b[0m",
      "\u001b[0;32m/usr/local/lib/python3.7/dist-packages/business_models/util/log.py\u001b[0m in \u001b[0;36mf_retry\u001b[0;34m(*args, **kwargs)\u001b[0m\n\u001b[1;32m    306\u001b[0m             \u001b[0;32mwhile\u001b[0m \u001b[0mmtries\u001b[0m \u001b[0;34m>\u001b[0m \u001b[0;36m1\u001b[0m\u001b[0;34m:\u001b[0m\u001b[0;34m\u001b[0m\u001b[0;34m\u001b[0m\u001b[0m\n\u001b[1;32m    307\u001b[0m                 \u001b[0;32mtry\u001b[0m\u001b[0;34m:\u001b[0m\u001b[0;34m\u001b[0m\u001b[0;34m\u001b[0m\u001b[0m\n\u001b[0;32m--> 308\u001b[0;31m                     \u001b[0;32mreturn\u001b[0m \u001b[0mf\u001b[0m\u001b[0;34m(\u001b[0m\u001b[0;34m*\u001b[0m\u001b[0margs\u001b[0m\u001b[0;34m,\u001b[0m \u001b[0;34m**\u001b[0m\u001b[0mkwargs\u001b[0m\u001b[0;34m)\u001b[0m\u001b[0;34m\u001b[0m\u001b[0;34m\u001b[0m\u001b[0m\n\u001b[0m\u001b[1;32m    309\u001b[0m                 \u001b[0;32mexcept\u001b[0m \u001b[0mExceptionToCheck\u001b[0m \u001b[0;32mas\u001b[0m \u001b[0me\u001b[0m\u001b[0;34m:\u001b[0m\u001b[0;34m\u001b[0m\u001b[0;34m\u001b[0m\u001b[0m\n\u001b[1;32m    310\u001b[0m                     \u001b[0mmsg\u001b[0m \u001b[0;34m=\u001b[0m \u001b[0;34m\"%s, Retrying in %d seconds...\"\u001b[0m \u001b[0;34m%\u001b[0m \u001b[0;34m(\u001b[0m\u001b[0mstr\u001b[0m\u001b[0;34m(\u001b[0m\u001b[0me\u001b[0m\u001b[0;34m)\u001b[0m\u001b[0;34m,\u001b[0m \u001b[0mmdelay\u001b[0m\u001b[0;34m)\u001b[0m\u001b[0;34m\u001b[0m\u001b[0;34m\u001b[0m\u001b[0m\n",
      "\u001b[0;32m/usr/local/lib/python3.7/dist-packages/business_models/databases/database.py\u001b[0m in \u001b[0;36mwrapper\u001b[0;34m(*args, **kwargs)\u001b[0m\n\u001b[1;32m     65\u001b[0m             \u001b[0;31m# первая попытка выполнить код\u001b[0m\u001b[0;34m\u001b[0m\u001b[0;34m\u001b[0m\u001b[0;34m\u001b[0m\u001b[0m\n\u001b[1;32m     66\u001b[0m             \u001b[0;32mwith\u001b[0m \u001b[0mHandler\u001b[0m\u001b[0;34m(\u001b[0m\u001b[0mraise_exceptions\u001b[0m\u001b[0;34m=\u001b[0m\u001b[0mwas_authorized\u001b[0m\u001b[0;34m)\u001b[0m \u001b[0;32mas\u001b[0m \u001b[0mh\u001b[0m\u001b[0;34m:\u001b[0m\u001b[0;34m\u001b[0m\u001b[0;34m\u001b[0m\u001b[0m\n\u001b[0;32m---> 67\u001b[0;31m                 \u001b[0mresult\u001b[0m \u001b[0;34m=\u001b[0m \u001b[0mfunc\u001b[0m\u001b[0;34m(\u001b[0m\u001b[0;34m*\u001b[0m\u001b[0margs\u001b[0m\u001b[0;34m,\u001b[0m \u001b[0;34m**\u001b[0m\u001b[0mkwargs\u001b[0m\u001b[0;34m)\u001b[0m\u001b[0;34m\u001b[0m\u001b[0;34m\u001b[0m\u001b[0m\n\u001b[0m\u001b[1;32m     68\u001b[0m \u001b[0;34m\u001b[0m\u001b[0m\n\u001b[1;32m     69\u001b[0m             \u001b[0;32mif\u001b[0m \u001b[0;32mnot\u001b[0m \u001b[0mh\u001b[0m\u001b[0;34m.\u001b[0m\u001b[0msuccess\u001b[0m\u001b[0;34m:\u001b[0m\u001b[0;34m\u001b[0m\u001b[0;34m\u001b[0m\u001b[0m\n",
      "\u001b[0;32m/usr/local/lib/python3.7/dist-packages/business_models/databases/database_sql.py\u001b[0m in \u001b[0;36m__call__\u001b[0;34m(self, query, query_file_paths, query_format_kwargs, **kwargs)\u001b[0m\n\u001b[1;32m    259\u001b[0m             \u001b[0;32mwith\u001b[0m \u001b[0mConnection\u001b[0m\u001b[0;34m(\u001b[0m\u001b[0mself\u001b[0m\u001b[0;34m.\u001b[0m\u001b[0mengine\u001b[0m\u001b[0;34m)\u001b[0m \u001b[0;32mas\u001b[0m \u001b[0mconnection\u001b[0m\u001b[0;34m:\u001b[0m\u001b[0;34m\u001b[0m\u001b[0;34m\u001b[0m\u001b[0m\n\u001b[1;32m    260\u001b[0m                 result = pd.read_sql(text(query).execution_options(autocommit=True),\n\u001b[0;32m--> 261\u001b[0;31m                                      connection, **kwargs)\n\u001b[0m\u001b[1;32m    262\u001b[0m         \u001b[0;32mexcept\u001b[0m \u001b[0mResourceClosedError\u001b[0m\u001b[0;34m:\u001b[0m\u001b[0;34m\u001b[0m\u001b[0;34m\u001b[0m\u001b[0m\n\u001b[1;32m    263\u001b[0m             \u001b[0mresult\u001b[0m \u001b[0;34m=\u001b[0m \u001b[0;32mNone\u001b[0m\u001b[0;34m\u001b[0m\u001b[0;34m\u001b[0m\u001b[0m\n",
      "\u001b[0;32m/usr/local/lib/python3.7/dist-packages/pandas/io/sql.py\u001b[0m in \u001b[0;36mread_sql\u001b[0;34m(sql, con, index_col, coerce_float, params, parse_dates, columns, chunksize)\u001b[0m\n\u001b[1;32m    632\u001b[0m             \u001b[0mcoerce_float\u001b[0m\u001b[0;34m=\u001b[0m\u001b[0mcoerce_float\u001b[0m\u001b[0;34m,\u001b[0m\u001b[0;34m\u001b[0m\u001b[0;34m\u001b[0m\u001b[0m\n\u001b[1;32m    633\u001b[0m             \u001b[0mparse_dates\u001b[0m\u001b[0;34m=\u001b[0m\u001b[0mparse_dates\u001b[0m\u001b[0;34m,\u001b[0m\u001b[0;34m\u001b[0m\u001b[0;34m\u001b[0m\u001b[0m\n\u001b[0;32m--> 634\u001b[0;31m             \u001b[0mchunksize\u001b[0m\u001b[0;34m=\u001b[0m\u001b[0mchunksize\u001b[0m\u001b[0;34m,\u001b[0m\u001b[0;34m\u001b[0m\u001b[0;34m\u001b[0m\u001b[0m\n\u001b[0m\u001b[1;32m    635\u001b[0m         )\n\u001b[1;32m    636\u001b[0m \u001b[0;34m\u001b[0m\u001b[0m\n",
      "\u001b[0;32m/usr/local/lib/python3.7/dist-packages/pandas/io/sql.py\u001b[0m in \u001b[0;36mread_query\u001b[0;34m(self, sql, index_col, coerce_float, parse_dates, params, chunksize, dtype)\u001b[0m\n\u001b[1;32m   1577\u001b[0m         \u001b[0margs\u001b[0m \u001b[0;34m=\u001b[0m \u001b[0m_convert_params\u001b[0m\u001b[0;34m(\u001b[0m\u001b[0msql\u001b[0m\u001b[0;34m,\u001b[0m \u001b[0mparams\u001b[0m\u001b[0;34m)\u001b[0m\u001b[0;34m\u001b[0m\u001b[0;34m\u001b[0m\u001b[0m\n\u001b[1;32m   1578\u001b[0m \u001b[0;34m\u001b[0m\u001b[0m\n\u001b[0;32m-> 1579\u001b[0;31m         \u001b[0mresult\u001b[0m \u001b[0;34m=\u001b[0m \u001b[0mself\u001b[0m\u001b[0;34m.\u001b[0m\u001b[0mexecute\u001b[0m\u001b[0;34m(\u001b[0m\u001b[0;34m*\u001b[0m\u001b[0margs\u001b[0m\u001b[0;34m)\u001b[0m\u001b[0;34m\u001b[0m\u001b[0;34m\u001b[0m\u001b[0m\n\u001b[0m\u001b[1;32m   1580\u001b[0m         \u001b[0mcolumns\u001b[0m \u001b[0;34m=\u001b[0m \u001b[0mresult\u001b[0m\u001b[0;34m.\u001b[0m\u001b[0mkeys\u001b[0m\u001b[0;34m(\u001b[0m\u001b[0;34m)\u001b[0m\u001b[0;34m\u001b[0m\u001b[0;34m\u001b[0m\u001b[0m\n\u001b[1;32m   1581\u001b[0m \u001b[0;34m\u001b[0m\u001b[0m\n",
      "\u001b[0;32m/usr/local/lib/python3.7/dist-packages/pandas/io/sql.py\u001b[0m in \u001b[0;36mexecute\u001b[0;34m(self, *args, **kwargs)\u001b[0m\n\u001b[1;32m   1422\u001b[0m     \u001b[0;32mdef\u001b[0m \u001b[0mexecute\u001b[0m\u001b[0;34m(\u001b[0m\u001b[0mself\u001b[0m\u001b[0;34m,\u001b[0m \u001b[0;34m*\u001b[0m\u001b[0margs\u001b[0m\u001b[0;34m,\u001b[0m \u001b[0;34m**\u001b[0m\u001b[0mkwargs\u001b[0m\u001b[0;34m)\u001b[0m\u001b[0;34m:\u001b[0m\u001b[0;34m\u001b[0m\u001b[0;34m\u001b[0m\u001b[0m\n\u001b[1;32m   1423\u001b[0m         \u001b[0;34m\"\"\"Simple passthrough to SQLAlchemy connectable\"\"\"\u001b[0m\u001b[0;34m\u001b[0m\u001b[0;34m\u001b[0m\u001b[0m\n\u001b[0;32m-> 1424\u001b[0;31m         \u001b[0;32mreturn\u001b[0m \u001b[0mself\u001b[0m\u001b[0;34m.\u001b[0m\u001b[0mconnectable\u001b[0m\u001b[0;34m.\u001b[0m\u001b[0mexecution_options\u001b[0m\u001b[0;34m(\u001b[0m\u001b[0;34m)\u001b[0m\u001b[0;34m.\u001b[0m\u001b[0mexecute\u001b[0m\u001b[0;34m(\u001b[0m\u001b[0;34m*\u001b[0m\u001b[0margs\u001b[0m\u001b[0;34m,\u001b[0m \u001b[0;34m**\u001b[0m\u001b[0mkwargs\u001b[0m\u001b[0;34m)\u001b[0m\u001b[0;34m\u001b[0m\u001b[0;34m\u001b[0m\u001b[0m\n\u001b[0m\u001b[1;32m   1425\u001b[0m \u001b[0;34m\u001b[0m\u001b[0m\n\u001b[1;32m   1426\u001b[0m     def read_table(\n",
      "\u001b[0;32m/usr/local/lib/python3.7/dist-packages/sqlalchemy/engine/base.py\u001b[0m in \u001b[0;36mexecute\u001b[0;34m(self, statement, *multiparams, **params)\u001b[0m\n\u001b[1;32m   1293\u001b[0m             )\n\u001b[1;32m   1294\u001b[0m         \u001b[0;32melse\u001b[0m\u001b[0;34m:\u001b[0m\u001b[0;34m\u001b[0m\u001b[0;34m\u001b[0m\u001b[0m\n\u001b[0;32m-> 1295\u001b[0;31m             \u001b[0;32mreturn\u001b[0m \u001b[0mmeth\u001b[0m\u001b[0;34m(\u001b[0m\u001b[0mself\u001b[0m\u001b[0;34m,\u001b[0m \u001b[0mmultiparams\u001b[0m\u001b[0;34m,\u001b[0m \u001b[0mparams\u001b[0m\u001b[0;34m,\u001b[0m \u001b[0m_EMPTY_EXECUTION_OPTS\u001b[0m\u001b[0;34m)\u001b[0m\u001b[0;34m\u001b[0m\u001b[0;34m\u001b[0m\u001b[0m\n\u001b[0m\u001b[1;32m   1296\u001b[0m \u001b[0;34m\u001b[0m\u001b[0m\n\u001b[1;32m   1297\u001b[0m     \u001b[0;32mdef\u001b[0m \u001b[0m_execute_function\u001b[0m\u001b[0;34m(\u001b[0m\u001b[0mself\u001b[0m\u001b[0;34m,\u001b[0m \u001b[0mfunc\u001b[0m\u001b[0;34m,\u001b[0m \u001b[0mmultiparams\u001b[0m\u001b[0;34m,\u001b[0m \u001b[0mparams\u001b[0m\u001b[0;34m,\u001b[0m \u001b[0mexecution_options\u001b[0m\u001b[0;34m)\u001b[0m\u001b[0;34m:\u001b[0m\u001b[0;34m\u001b[0m\u001b[0;34m\u001b[0m\u001b[0m\n",
      "\u001b[0;32m/usr/local/lib/python3.7/dist-packages/sqlalchemy/sql/elements.py\u001b[0m in \u001b[0;36m_execute_on_connection\u001b[0;34m(self, connection, multiparams, params, execution_options, _force)\u001b[0m\n\u001b[1;32m    324\u001b[0m         \u001b[0;32mif\u001b[0m \u001b[0m_force\u001b[0m \u001b[0;32mor\u001b[0m \u001b[0mself\u001b[0m\u001b[0;34m.\u001b[0m\u001b[0msupports_execution\u001b[0m\u001b[0;34m:\u001b[0m\u001b[0;34m\u001b[0m\u001b[0;34m\u001b[0m\u001b[0m\n\u001b[1;32m    325\u001b[0m             return connection._execute_clauseelement(\n\u001b[0;32m--> 326\u001b[0;31m                 \u001b[0mself\u001b[0m\u001b[0;34m,\u001b[0m \u001b[0mmultiparams\u001b[0m\u001b[0;34m,\u001b[0m \u001b[0mparams\u001b[0m\u001b[0;34m,\u001b[0m \u001b[0mexecution_options\u001b[0m\u001b[0;34m\u001b[0m\u001b[0;34m\u001b[0m\u001b[0m\n\u001b[0m\u001b[1;32m    327\u001b[0m             )\n\u001b[1;32m    328\u001b[0m         \u001b[0;32melse\u001b[0m\u001b[0;34m:\u001b[0m\u001b[0;34m\u001b[0m\u001b[0;34m\u001b[0m\u001b[0m\n",
      "\u001b[0;32m/usr/local/lib/python3.7/dist-packages/sqlalchemy/engine/base.py\u001b[0m in \u001b[0;36m_execute_clauseelement\u001b[0;34m(self, elem, multiparams, params, execution_options)\u001b[0m\n\u001b[1;32m   1495\u001b[0m             \u001b[0melem\u001b[0m\u001b[0;34m,\u001b[0m\u001b[0;34m\u001b[0m\u001b[0;34m\u001b[0m\u001b[0m\n\u001b[1;32m   1496\u001b[0m             \u001b[0mextracted_params\u001b[0m\u001b[0;34m,\u001b[0m\u001b[0;34m\u001b[0m\u001b[0;34m\u001b[0m\u001b[0m\n\u001b[0;32m-> 1497\u001b[0;31m             \u001b[0mcache_hit\u001b[0m\u001b[0;34m=\u001b[0m\u001b[0mcache_hit\u001b[0m\u001b[0;34m,\u001b[0m\u001b[0;34m\u001b[0m\u001b[0;34m\u001b[0m\u001b[0m\n\u001b[0m\u001b[1;32m   1498\u001b[0m         )\n\u001b[1;32m   1499\u001b[0m         \u001b[0;32mif\u001b[0m \u001b[0mhas_events\u001b[0m\u001b[0;34m:\u001b[0m\u001b[0;34m\u001b[0m\u001b[0;34m\u001b[0m\u001b[0m\n",
      "\u001b[0;32m/usr/local/lib/python3.7/dist-packages/sqlalchemy/engine/base.py\u001b[0m in \u001b[0;36m_execute_context\u001b[0;34m(self, dialect, constructor, statement, parameters, execution_options, *args, **kw)\u001b[0m\n\u001b[1;32m   1850\u001b[0m         \u001b[0;32mexcept\u001b[0m \u001b[0mBaseException\u001b[0m \u001b[0;32mas\u001b[0m \u001b[0me\u001b[0m\u001b[0;34m:\u001b[0m\u001b[0;34m\u001b[0m\u001b[0;34m\u001b[0m\u001b[0m\n\u001b[1;32m   1851\u001b[0m             self._handle_dbapi_exception(\n\u001b[0;32m-> 1852\u001b[0;31m                 \u001b[0me\u001b[0m\u001b[0;34m,\u001b[0m \u001b[0mstatement\u001b[0m\u001b[0;34m,\u001b[0m \u001b[0mparameters\u001b[0m\u001b[0;34m,\u001b[0m \u001b[0mcursor\u001b[0m\u001b[0;34m,\u001b[0m \u001b[0mcontext\u001b[0m\u001b[0;34m\u001b[0m\u001b[0;34m\u001b[0m\u001b[0m\n\u001b[0m\u001b[1;32m   1853\u001b[0m             )\n\u001b[1;32m   1854\u001b[0m \u001b[0;34m\u001b[0m\u001b[0m\n",
      "\u001b[0;32m/usr/local/lib/python3.7/dist-packages/sqlalchemy/engine/base.py\u001b[0m in \u001b[0;36m_handle_dbapi_exception\u001b[0;34m(self, e, statement, parameters, cursor, context)\u001b[0m\n\u001b[1;32m   2031\u001b[0m             \u001b[0;32melif\u001b[0m \u001b[0mshould_wrap\u001b[0m\u001b[0;34m:\u001b[0m\u001b[0;34m\u001b[0m\u001b[0;34m\u001b[0m\u001b[0m\n\u001b[1;32m   2032\u001b[0m                 util.raise_(\n\u001b[0;32m-> 2033\u001b[0;31m                     \u001b[0msqlalchemy_exception\u001b[0m\u001b[0;34m,\u001b[0m \u001b[0mwith_traceback\u001b[0m\u001b[0;34m=\u001b[0m\u001b[0mexc_info\u001b[0m\u001b[0;34m[\u001b[0m\u001b[0;36m2\u001b[0m\u001b[0;34m]\u001b[0m\u001b[0;34m,\u001b[0m \u001b[0mfrom_\u001b[0m\u001b[0;34m=\u001b[0m\u001b[0me\u001b[0m\u001b[0;34m\u001b[0m\u001b[0;34m\u001b[0m\u001b[0m\n\u001b[0m\u001b[1;32m   2034\u001b[0m                 )\n\u001b[1;32m   2035\u001b[0m             \u001b[0;32melse\u001b[0m\u001b[0;34m:\u001b[0m\u001b[0;34m\u001b[0m\u001b[0;34m\u001b[0m\u001b[0m\n",
      "\u001b[0;32m/usr/local/lib/python3.7/dist-packages/sqlalchemy/util/compat.py\u001b[0m in \u001b[0;36mraise_\u001b[0;34m(***failed resolving arguments***)\u001b[0m\n\u001b[1;32m    205\u001b[0m \u001b[0;34m\u001b[0m\u001b[0m\n\u001b[1;32m    206\u001b[0m         \u001b[0;32mtry\u001b[0m\u001b[0;34m:\u001b[0m\u001b[0;34m\u001b[0m\u001b[0;34m\u001b[0m\u001b[0m\n\u001b[0;32m--> 207\u001b[0;31m             \u001b[0;32mraise\u001b[0m \u001b[0mexception\u001b[0m\u001b[0;34m\u001b[0m\u001b[0;34m\u001b[0m\u001b[0m\n\u001b[0m\u001b[1;32m    208\u001b[0m         \u001b[0;32mfinally\u001b[0m\u001b[0;34m:\u001b[0m\u001b[0;34m\u001b[0m\u001b[0;34m\u001b[0m\u001b[0m\n\u001b[1;32m    209\u001b[0m             \u001b[0;31m# credit to\u001b[0m\u001b[0;34m\u001b[0m\u001b[0;34m\u001b[0m\u001b[0;34m\u001b[0m\u001b[0m\n",
      "\u001b[0;32m/usr/local/lib/python3.7/dist-packages/sqlalchemy/engine/base.py\u001b[0m in \u001b[0;36m_execute_context\u001b[0;34m(self, dialect, constructor, statement, parameters, execution_options, *args, **kw)\u001b[0m\n\u001b[1;32m   1807\u001b[0m                 \u001b[0;32mif\u001b[0m \u001b[0;32mnot\u001b[0m \u001b[0mevt_handled\u001b[0m\u001b[0;34m:\u001b[0m\u001b[0;34m\u001b[0m\u001b[0;34m\u001b[0m\u001b[0m\n\u001b[1;32m   1808\u001b[0m                     self.dialect.do_execute(\n\u001b[0;32m-> 1809\u001b[0;31m                         \u001b[0mcursor\u001b[0m\u001b[0;34m,\u001b[0m \u001b[0mstatement\u001b[0m\u001b[0;34m,\u001b[0m \u001b[0mparameters\u001b[0m\u001b[0;34m,\u001b[0m \u001b[0mcontext\u001b[0m\u001b[0;34m\u001b[0m\u001b[0;34m\u001b[0m\u001b[0m\n\u001b[0m\u001b[1;32m   1810\u001b[0m                     )\n\u001b[1;32m   1811\u001b[0m \u001b[0;34m\u001b[0m\u001b[0m\n",
      "\u001b[0;32m/usr/local/lib/python3.7/dist-packages/sqlalchemy/engine/default.py\u001b[0m in \u001b[0;36mdo_execute\u001b[0;34m(self, cursor, statement, parameters, context)\u001b[0m\n\u001b[1;32m    730\u001b[0m \u001b[0;34m\u001b[0m\u001b[0m\n\u001b[1;32m    731\u001b[0m     \u001b[0;32mdef\u001b[0m \u001b[0mdo_execute\u001b[0m\u001b[0;34m(\u001b[0m\u001b[0mself\u001b[0m\u001b[0;34m,\u001b[0m \u001b[0mcursor\u001b[0m\u001b[0;34m,\u001b[0m \u001b[0mstatement\u001b[0m\u001b[0;34m,\u001b[0m \u001b[0mparameters\u001b[0m\u001b[0;34m,\u001b[0m \u001b[0mcontext\u001b[0m\u001b[0;34m=\u001b[0m\u001b[0;32mNone\u001b[0m\u001b[0;34m)\u001b[0m\u001b[0;34m:\u001b[0m\u001b[0;34m\u001b[0m\u001b[0;34m\u001b[0m\u001b[0m\n\u001b[0;32m--> 732\u001b[0;31m         \u001b[0mcursor\u001b[0m\u001b[0;34m.\u001b[0m\u001b[0mexecute\u001b[0m\u001b[0;34m(\u001b[0m\u001b[0mstatement\u001b[0m\u001b[0;34m,\u001b[0m \u001b[0mparameters\u001b[0m\u001b[0;34m)\u001b[0m\u001b[0;34m\u001b[0m\u001b[0;34m\u001b[0m\u001b[0m\n\u001b[0m\u001b[1;32m    733\u001b[0m \u001b[0;34m\u001b[0m\u001b[0m\n\u001b[1;32m    734\u001b[0m     \u001b[0;32mdef\u001b[0m \u001b[0mdo_execute_no_params\u001b[0m\u001b[0;34m(\u001b[0m\u001b[0mself\u001b[0m\u001b[0;34m,\u001b[0m \u001b[0mcursor\u001b[0m\u001b[0;34m,\u001b[0m \u001b[0mstatement\u001b[0m\u001b[0;34m,\u001b[0m \u001b[0mcontext\u001b[0m\u001b[0;34m=\u001b[0m\u001b[0;32mNone\u001b[0m\u001b[0;34m)\u001b[0m\u001b[0;34m:\u001b[0m\u001b[0;34m\u001b[0m\u001b[0;34m\u001b[0m\u001b[0m\n",
      "\u001b[0;31mProgrammingError\u001b[0m: (psycopg2.errors.UndefinedTable) relation \"snb_geo_lavka.spb_store_suggest\" does not exist\nLINE 1: select id, st_astext(geometry) from snb_geo_lavka.spb_store_...\n                                            ^\n\n[SQL: select id, st_astext(geometry) from snb_geo_lavka.spb_store_suggest where type='movement']\n(Background on this error at: https://sqlalche.me/e/14/f405)"
     ]
    }
   ],
   "source": [
    "df = greenplum(\"select id, st_astext(geometry) from snb_geo_lavka.spb_store_suggest where type='movement'\")"
   ]
  },
  {
   "cell_type": "code",
   "execution_count": 636,
   "id": "000e083b",
   "metadata": {
    "ExecuteTime": {
     "end_time": "2022-06-29T13:32:38.168927Z",
     "start_time": "2022-06-29T13:32:38.164272Z"
    }
   },
   "outputs": [],
   "source": [
    "gdf_zones = df.copy()"
   ]
  },
  {
   "cell_type": "code",
   "execution_count": 591,
   "id": "345dfaea",
   "metadata": {
    "ExecuteTime": {
     "end_time": "2022-06-24T11:55:42.548313Z",
     "start_time": "2022-06-24T11:55:42.504970Z"
    }
   },
   "outputs": [],
   "source": [
    "# gdf_zones=gdf_zones.iloc[:2]"
   ]
  },
  {
   "cell_type": "code",
   "execution_count": 562,
   "id": "e1d03513",
   "metadata": {
    "ExecuteTime": {
     "end_time": "2022-06-17T12:42:09.737999Z",
     "start_time": "2022-06-17T12:42:09.462851Z"
    }
   },
   "outputs": [
    {
     "data": {
      "text/plain": [
       "<AxesSubplot:>"
      ]
     },
     "execution_count": 562,
     "metadata": {},
     "output_type": "execute_result"
    },
    {
     "data": {
      "image/png": "[encoded data removed]",
      "text/plain": [
       "<Figure size 432x288 with 2 Axes>"
      ]
     },
     "metadata": {
      "needs_background": "light"
     },
     "output_type": "display_data"
    }
   ],
   "source": [
    "gdf_zones.reset_index().plot(column='index', legend=True)"
   ]
  },
  {
   "cell_type": "code",
   "execution_count": 621,
   "id": "fda562ba",
   "metadata": {
    "ExecuteTime": {
     "end_time": "2022-06-27T09:18:33.390433Z",
     "start_time": "2022-06-27T09:18:33.385874Z"
    }
   },
   "outputs": [],
   "source": [
    "new_store_zones = gdf_zones.zone_id.unique() # это верно только если гружу  новые зоны без соседей"
   ]
  },
  {
   "cell_type": "code",
   "execution_count": 699,
   "id": "5102b073",
   "metadata": {
    "ExecuteTime": {
     "end_time": "2022-06-30T20:41:41.544340Z",
     "start_time": "2022-06-30T20:41:41.538899Z"
    }
   },
   "outputs": [
    {
     "data": {
      "text/plain": [
       "['21_movement_spb',\n",
       " '17_movement_spb',\n",
       " '18_movement_spb',\n",
       " '19_movement_spb',\n",
       " '23_movement_spb',\n",
       " '20_movement_spb',\n",
       " '22_movement_spb']"
      ]
     },
     "execution_count": 699,
     "metadata": {},
     "output_type": "execute_result"
    }
   ],
   "source": [
    "new_store_zones"
   ]
  },
  {
   "cell_type": "code",
   "execution_count": 595,
   "id": "1ce78ebc",
   "metadata": {
    "ExecuteTime": {
     "end_time": "2022-06-24T11:56:30.792300Z",
     "start_time": "2022-06-24T11:56:29.961367Z"
    },
    "scrolled": true
   },
   "outputs": [
    {
     "name": "stdout",
     "output_type": "stream",
     "text": [
      "appended\n",
      "zones ['zone_gosp_0', ''] are successfuly uploaded\n"
     ]
    }
   ],
   "source": [
    "zpf.save2db(gdf_zones)"
   ]
  },
  {
   "cell_type": "code",
   "execution_count": 638,
   "id": "b1c7f770",
   "metadata": {
    "ExecuteTime": {
     "end_time": "2022-06-29T13:32:54.113551Z",
     "start_time": "2022-06-29T13:32:54.109783Z"
    }
   },
   "outputs": [],
   "source": [
    "case_name='movement_spb'"
   ]
  },
  {
   "cell_type": "code",
   "execution_count": 631,
   "id": "5b28a26d",
   "metadata": {
    "ExecuteTime": {
     "end_time": "2022-06-27T13:35:56.300195Z",
     "start_time": "2022-06-27T13:35:56.271957Z"
    }
   },
   "outputs": [
    {
     "data": {
      "text/plain": [
       "<module 'zone_prediction_functions' from '/home/intra26/zone_prediction_functions.py'>"
      ]
     },
     "execution_count": 631,
     "metadata": {},
     "output_type": "execute_result"
    }
   ],
   "source": [
    "reload(zpf)"
   ]
  },
  {
   "cell_type": "markdown",
   "id": "6442b346",
   "metadata": {
    "ExecuteTime": {
     "end_time": "2022-03-29T12:32:40.388677Z",
     "start_time": "2022-03-29T12:32:40.382650Z"
    }
   },
   "source": [
    "Здесь должна быть развилка на 2 типа кейсов: \n",
    "    1. Дается одна зона на каждый сценарий и остальные уменьшаются на пересечение\n",
    "    2. Дается несколько новых зон с геометрией и остальные уменьшаются на сумму пересечений или вообще не берутся в расчет"
   ]
  },
  {
   "cell_type": "code",
   "execution_count": 639,
   "id": "9236391e",
   "metadata": {
    "ExecuteTime": {
     "end_time": "2022-06-29T13:33:06.687425Z",
     "start_time": "2022-06-29T13:32:56.382919Z"
    },
    "scrolled": true
   },
   "outputs": [
    {
     "name": "stdout",
     "output_type": "stream",
     "text": [
      "1 - текущие и новые, где 2 - только текущие\n",
      "print type of case1\n",
      "print zone_type of neighbors taxi/footfoot\n",
      "['21_movement_spb', '17_movement_spb', '18_movement_spb', '19_movement_spb', '23_movement_spb', '20_movement_spb', '22_movement_spb']\n"
     ]
    },
    {
     "name": "stderr",
     "output_type": "stream",
     "text": [
      "/usr/local/lib/python3.7/dist-packages/pandas/core/dtypes/cast.py:1990: ShapelyDeprecationWarning: __len__ for multi-part geometries is deprecated and will be removed in Shapely 2.0. Check the length of the `geoms` property instead to get the  number of parts of a multi-part geometry.\n",
      "  result[:] = values\n"
     ]
    },
    {
     "ename": "TypeError",
     "evalue": "unhashable type: 'Polygon'",
     "output_type": "error",
     "traceback": [
      "\u001b[0;31m---------------------------------------------------------------------------\u001b[0m",
      "\u001b[0;31mTypeError\u001b[0m                                 Traceback (most recent call last)",
      "\u001b[0;32m/tmp/ipykernel_16915/1749888489.py\u001b[0m in \u001b[0;36m<module>\u001b[0;34m\u001b[0m\n\u001b[1;32m     30\u001b[0m         \u001b[0mgdf_zones2db\u001b[0m \u001b[0;34m=\u001b[0m \u001b[0mpd\u001b[0m\u001b[0;34m.\u001b[0m\u001b[0mconcat\u001b[0m\u001b[0;34m(\u001b[0m\u001b[0;34m[\u001b[0m\u001b[0mgdf_zones\u001b[0m\u001b[0;34m,\u001b[0m\u001b[0mdf_zones_asis\u001b[0m\u001b[0;34m[\u001b[0m\u001b[0mgdf_zones\u001b[0m\u001b[0;34m.\u001b[0m\u001b[0mcolumns\u001b[0m\u001b[0;34m]\u001b[0m\u001b[0;34m,\u001b[0m\u001b[0mdf_zones_new\u001b[0m\u001b[0;34m[\u001b[0m\u001b[0mgdf_zones\u001b[0m\u001b[0;34m.\u001b[0m\u001b[0mcolumns\u001b[0m\u001b[0;34m]\u001b[0m \u001b[0;34m]\u001b[0m\u001b[0;34m)\u001b[0m\u001b[0;34m\u001b[0m\u001b[0;34m\u001b[0m\u001b[0m\n\u001b[1;32m     31\u001b[0m         \u001b[0mk\u001b[0m\u001b[0;34m=\u001b[0m\u001b[0;36m1\u001b[0m\u001b[0;34m\u001b[0m\u001b[0;34m\u001b[0m\u001b[0m\n\u001b[0;32m---> 32\u001b[0;31m         \u001b[0mgdf_zones2db_fin\u001b[0m \u001b[0;34m=\u001b[0m \u001b[0mgdf_zones2db\u001b[0m\u001b[0;34m.\u001b[0m\u001b[0mdrop_duplicates\u001b[0m\u001b[0;34m(\u001b[0m\u001b[0;34m)\u001b[0m\u001b[0;34m\u001b[0m\u001b[0;34m\u001b[0m\u001b[0m\n\u001b[0m\u001b[1;32m     33\u001b[0m \u001b[0;34m\u001b[0m\u001b[0m\n\u001b[1;32m     34\u001b[0m     \u001b[0;32melif\u001b[0m \u001b[0mflag_scen_type\u001b[0m\u001b[0;34m==\u001b[0m\u001b[0;36m2\u001b[0m\u001b[0;34m:\u001b[0m\u001b[0;34m\u001b[0m\u001b[0;34m\u001b[0m\u001b[0m\n",
      "\u001b[0;32m/usr/local/lib/python3.7/dist-packages/pandas/util/_decorators.py\u001b[0m in \u001b[0;36mwrapper\u001b[0;34m(*args, **kwargs)\u001b[0m\n\u001b[1;32m    309\u001b[0m                     \u001b[0mstacklevel\u001b[0m\u001b[0;34m=\u001b[0m\u001b[0mstacklevel\u001b[0m\u001b[0;34m,\u001b[0m\u001b[0;34m\u001b[0m\u001b[0;34m\u001b[0m\u001b[0m\n\u001b[1;32m    310\u001b[0m                 )\n\u001b[0;32m--> 311\u001b[0;31m             \u001b[0;32mreturn\u001b[0m \u001b[0mfunc\u001b[0m\u001b[0;34m(\u001b[0m\u001b[0;34m*\u001b[0m\u001b[0margs\u001b[0m\u001b[0;34m,\u001b[0m \u001b[0;34m**\u001b[0m\u001b[0mkwargs\u001b[0m\u001b[0;34m)\u001b[0m\u001b[0;34m\u001b[0m\u001b[0;34m\u001b[0m\u001b[0m\n\u001b[0m\u001b[1;32m    312\u001b[0m \u001b[0;34m\u001b[0m\u001b[0m\n\u001b[1;32m    313\u001b[0m         \u001b[0;32mreturn\u001b[0m \u001b[0mwrapper\u001b[0m\u001b[0;34m\u001b[0m\u001b[0;34m\u001b[0m\u001b[0m\n",
      "\u001b[0;32m/usr/local/lib/python3.7/dist-packages/pandas/core/frame.py\u001b[0m in \u001b[0;36mdrop_duplicates\u001b[0;34m(self, subset, keep, inplace, ignore_index)\u001b[0m\n\u001b[1;32m   6061\u001b[0m         \u001b[0minplace\u001b[0m \u001b[0;34m=\u001b[0m \u001b[0mvalidate_bool_kwarg\u001b[0m\u001b[0;34m(\u001b[0m\u001b[0minplace\u001b[0m\u001b[0;34m,\u001b[0m \u001b[0;34m\"inplace\"\u001b[0m\u001b[0;34m)\u001b[0m\u001b[0;34m\u001b[0m\u001b[0;34m\u001b[0m\u001b[0m\n\u001b[1;32m   6062\u001b[0m         \u001b[0mignore_index\u001b[0m \u001b[0;34m=\u001b[0m \u001b[0mvalidate_bool_kwarg\u001b[0m\u001b[0;34m(\u001b[0m\u001b[0mignore_index\u001b[0m\u001b[0;34m,\u001b[0m \u001b[0;34m\"ignore_index\"\u001b[0m\u001b[0;34m)\u001b[0m\u001b[0;34m\u001b[0m\u001b[0;34m\u001b[0m\u001b[0m\n\u001b[0;32m-> 6063\u001b[0;31m         \u001b[0mduplicated\u001b[0m \u001b[0;34m=\u001b[0m \u001b[0mself\u001b[0m\u001b[0;34m.\u001b[0m\u001b[0mduplicated\u001b[0m\u001b[0;34m(\u001b[0m\u001b[0msubset\u001b[0m\u001b[0;34m,\u001b[0m \u001b[0mkeep\u001b[0m\u001b[0;34m=\u001b[0m\u001b[0mkeep\u001b[0m\u001b[0;34m)\u001b[0m\u001b[0;34m\u001b[0m\u001b[0;34m\u001b[0m\u001b[0m\n\u001b[0m\u001b[1;32m   6064\u001b[0m \u001b[0;34m\u001b[0m\u001b[0m\n\u001b[1;32m   6065\u001b[0m         \u001b[0mresult\u001b[0m \u001b[0;34m=\u001b[0m \u001b[0mself\u001b[0m\u001b[0;34m[\u001b[0m\u001b[0;34m-\u001b[0m\u001b[0mduplicated\u001b[0m\u001b[0;34m]\u001b[0m\u001b[0;34m\u001b[0m\u001b[0;34m\u001b[0m\u001b[0m\n",
      "\u001b[0;32m/usr/local/lib/python3.7/dist-packages/pandas/core/frame.py\u001b[0m in \u001b[0;36mduplicated\u001b[0;34m(self, subset, keep)\u001b[0m\n\u001b[1;32m   6198\u001b[0m \u001b[0;34m\u001b[0m\u001b[0m\n\u001b[1;32m   6199\u001b[0m         \u001b[0mvals\u001b[0m \u001b[0;34m=\u001b[0m \u001b[0;34m(\u001b[0m\u001b[0mcol\u001b[0m\u001b[0;34m.\u001b[0m\u001b[0mvalues\u001b[0m \u001b[0;32mfor\u001b[0m \u001b[0mname\u001b[0m\u001b[0;34m,\u001b[0m \u001b[0mcol\u001b[0m \u001b[0;32min\u001b[0m \u001b[0mself\u001b[0m\u001b[0;34m.\u001b[0m\u001b[0mitems\u001b[0m\u001b[0;34m(\u001b[0m\u001b[0;34m)\u001b[0m \u001b[0;32mif\u001b[0m \u001b[0mname\u001b[0m \u001b[0;32min\u001b[0m \u001b[0msubset\u001b[0m\u001b[0;34m)\u001b[0m\u001b[0;34m\u001b[0m\u001b[0;34m\u001b[0m\u001b[0m\n\u001b[0;32m-> 6200\u001b[0;31m         \u001b[0mlabels\u001b[0m\u001b[0;34m,\u001b[0m \u001b[0mshape\u001b[0m \u001b[0;34m=\u001b[0m \u001b[0mmap\u001b[0m\u001b[0;34m(\u001b[0m\u001b[0mlist\u001b[0m\u001b[0;34m,\u001b[0m \u001b[0mzip\u001b[0m\u001b[0;34m(\u001b[0m\u001b[0;34m*\u001b[0m\u001b[0mmap\u001b[0m\u001b[0;34m(\u001b[0m\u001b[0mf\u001b[0m\u001b[0;34m,\u001b[0m \u001b[0mvals\u001b[0m\u001b[0;34m)\u001b[0m\u001b[0;34m)\u001b[0m\u001b[0;34m)\u001b[0m\u001b[0;34m\u001b[0m\u001b[0;34m\u001b[0m\u001b[0m\n\u001b[0m\u001b[1;32m   6201\u001b[0m \u001b[0;34m\u001b[0m\u001b[0m\n\u001b[1;32m   6202\u001b[0m         ids = get_group_index(\n",
      "\u001b[0;32m/usr/local/lib/python3.7/dist-packages/pandas/core/frame.py\u001b[0m in \u001b[0;36mf\u001b[0;34m(vals)\u001b[0m\n\u001b[1;32m   6171\u001b[0m \u001b[0;34m\u001b[0m\u001b[0m\n\u001b[1;32m   6172\u001b[0m         \u001b[0;32mdef\u001b[0m \u001b[0mf\u001b[0m\u001b[0;34m(\u001b[0m\u001b[0mvals\u001b[0m\u001b[0;34m)\u001b[0m \u001b[0;34m->\u001b[0m \u001b[0mtuple\u001b[0m\u001b[0;34m[\u001b[0m\u001b[0mnp\u001b[0m\u001b[0;34m.\u001b[0m\u001b[0mndarray\u001b[0m\u001b[0;34m,\u001b[0m \u001b[0mint\u001b[0m\u001b[0;34m]\u001b[0m\u001b[0;34m:\u001b[0m\u001b[0;34m\u001b[0m\u001b[0;34m\u001b[0m\u001b[0m\n\u001b[0;32m-> 6173\u001b[0;31m             \u001b[0mlabels\u001b[0m\u001b[0;34m,\u001b[0m \u001b[0mshape\u001b[0m \u001b[0;34m=\u001b[0m \u001b[0malgorithms\u001b[0m\u001b[0;34m.\u001b[0m\u001b[0mfactorize\u001b[0m\u001b[0;34m(\u001b[0m\u001b[0mvals\u001b[0m\u001b[0;34m,\u001b[0m \u001b[0msize_hint\u001b[0m\u001b[0;34m=\u001b[0m\u001b[0mlen\u001b[0m\u001b[0;34m(\u001b[0m\u001b[0mself\u001b[0m\u001b[0;34m)\u001b[0m\u001b[0;34m)\u001b[0m\u001b[0;34m\u001b[0m\u001b[0;34m\u001b[0m\u001b[0m\n\u001b[0m\u001b[1;32m   6174\u001b[0m             \u001b[0;32mreturn\u001b[0m \u001b[0mlabels\u001b[0m\u001b[0;34m.\u001b[0m\u001b[0mastype\u001b[0m\u001b[0;34m(\u001b[0m\u001b[0;34m\"i8\"\u001b[0m\u001b[0;34m,\u001b[0m \u001b[0mcopy\u001b[0m\u001b[0;34m=\u001b[0m\u001b[0;32mFalse\u001b[0m\u001b[0;34m)\u001b[0m\u001b[0;34m,\u001b[0m \u001b[0mlen\u001b[0m\u001b[0;34m(\u001b[0m\u001b[0mshape\u001b[0m\u001b[0;34m)\u001b[0m\u001b[0;34m\u001b[0m\u001b[0;34m\u001b[0m\u001b[0m\n\u001b[1;32m   6175\u001b[0m \u001b[0;34m\u001b[0m\u001b[0m\n",
      "\u001b[0;32m/usr/local/lib/python3.7/dist-packages/pandas/core/algorithms.py\u001b[0m in \u001b[0;36mfactorize\u001b[0;34m(values, sort, na_sentinel, size_hint)\u001b[0m\n\u001b[1;32m    760\u001b[0m \u001b[0;34m\u001b[0m\u001b[0m\n\u001b[1;32m    761\u001b[0m         codes, uniques = factorize_array(\n\u001b[0;32m--> 762\u001b[0;31m             \u001b[0mvalues\u001b[0m\u001b[0;34m,\u001b[0m \u001b[0mna_sentinel\u001b[0m\u001b[0;34m=\u001b[0m\u001b[0mna_sentinel\u001b[0m\u001b[0;34m,\u001b[0m \u001b[0msize_hint\u001b[0m\u001b[0;34m=\u001b[0m\u001b[0msize_hint\u001b[0m\u001b[0;34m,\u001b[0m \u001b[0mna_value\u001b[0m\u001b[0;34m=\u001b[0m\u001b[0mna_value\u001b[0m\u001b[0;34m\u001b[0m\u001b[0;34m\u001b[0m\u001b[0m\n\u001b[0m\u001b[1;32m    763\u001b[0m         )\n\u001b[1;32m    764\u001b[0m \u001b[0;34m\u001b[0m\u001b[0m\n",
      "\u001b[0;32m/usr/local/lib/python3.7/dist-packages/pandas/core/algorithms.py\u001b[0m in \u001b[0;36mfactorize_array\u001b[0;34m(values, na_sentinel, size_hint, na_value, mask)\u001b[0m\n\u001b[1;32m    562\u001b[0m     \u001b[0mtable\u001b[0m \u001b[0;34m=\u001b[0m \u001b[0mhash_klass\u001b[0m\u001b[0;34m(\u001b[0m\u001b[0msize_hint\u001b[0m \u001b[0;32mor\u001b[0m \u001b[0mlen\u001b[0m\u001b[0;34m(\u001b[0m\u001b[0mvalues\u001b[0m\u001b[0;34m)\u001b[0m\u001b[0;34m)\u001b[0m\u001b[0;34m\u001b[0m\u001b[0;34m\u001b[0m\u001b[0m\n\u001b[1;32m    563\u001b[0m     uniques, codes = table.factorize(\n\u001b[0;32m--> 564\u001b[0;31m         \u001b[0mvalues\u001b[0m\u001b[0;34m,\u001b[0m \u001b[0mna_sentinel\u001b[0m\u001b[0;34m=\u001b[0m\u001b[0mna_sentinel\u001b[0m\u001b[0;34m,\u001b[0m \u001b[0mna_value\u001b[0m\u001b[0;34m=\u001b[0m\u001b[0mna_value\u001b[0m\u001b[0;34m,\u001b[0m \u001b[0mmask\u001b[0m\u001b[0;34m=\u001b[0m\u001b[0mmask\u001b[0m\u001b[0;34m\u001b[0m\u001b[0;34m\u001b[0m\u001b[0m\n\u001b[0m\u001b[1;32m    565\u001b[0m     )\n\u001b[1;32m    566\u001b[0m \u001b[0;34m\u001b[0m\u001b[0m\n",
      "\u001b[0;32mpandas/_libs/hashtable_class_helper.pxi\u001b[0m in \u001b[0;36mpandas._libs.hashtable.PyObjectHashTable.factorize\u001b[0;34m()\u001b[0m\n",
      "\u001b[0;32mpandas/_libs/hashtable_class_helper.pxi\u001b[0m in \u001b[0;36mpandas._libs.hashtable.PyObjectHashTable._unique\u001b[0;34m()\u001b[0m\n",
      "\u001b[0;31mTypeError\u001b[0m: unhashable type: 'Polygon'"
     ]
    }
   ],
   "source": [
    "k=0\n",
    "while k==0:\n",
    "    print('1 - текущие и новые, где 2 - только текущие')\n",
    "    flag_scen_type =int(input('print type of case'))\n",
    "\n",
    "\n",
    "    zone_type = input('print zone_type of neighbors taxi/foot')\n",
    "    df_inter_areas   = zpf.receive_intersected_zones(gdf_zones, zone_type )\n",
    "\n",
    "    # df_zones_asis - зоны базового сценария\n",
    "\n",
    "    df_zones_asis = df_inter_areas [(df_inter_areas.inter_share<=1)][['zone_id','upload_dt','geometry','geometry_wkb']]\n",
    "    df_zones_asis = df_zones_asis.drop_duplicates()\n",
    "\n",
    "\n",
    "    names2change = df_inter_areas.loc[(df_inter_areas.zone_id == df_inter_areas.proposed_zone)&(df_inter_areas.inter_share<1),'proposed_zone'].values\n",
    "    # не всегда имя надо менять!\n",
    "#     gdf_zones.loc[gdf_zones.zone_id.isin(names2change),'zone_id'] =  gdf_zones.loc[gdf_zones.zone_id.isin(names2change),'zone_id']+case_name\n",
    "\n",
    "    if flag_scen_type==1:\n",
    "    # надо исправить условие\n",
    "        df_zones_new = df_inter_areas[(df_inter_areas.inter_share<=1)][['zone_id_inter','zone_id','upload_dt','diff_geometry','geometry_wkb','inter_share','current_zone_geometry','proposed_zone']]\n",
    "\n",
    "        df_zones_new['zone_id'] = df_zones_new[['inter_share','zone_id_inter','zone_id']].apply(lambda r: r.zone_id if r.inter_share<0.05 else r.zone_id_inter, axis=1)\n",
    "        df_zones_new.rename(columns={'diff_geometry':'geometry'}, inplace=True)\n",
    "\n",
    "        df_zones_new['geometry'] = df_zones_new[['inter_share','current_zone_geometry','geometry']].apply(lambda r: r.geometry if r.inter_share>0.05 else r.current_zone_geometry, axis=1)\n",
    "\n",
    "        # df_zones_new = df_zones_new[['zone_id','upload_dt','geometry','geometry_wkb']]\n",
    "        gdf_zones2db = pd.concat([gdf_zones,df_zones_asis[gdf_zones.columns],df_zones_new[gdf_zones.columns] ])\n",
    "        k=1\n",
    "        gdf_zones2db['rank'] = gdf_zones2db.groupby([ 'zone_id'])['upload_dt'].rank('first')\n",
    "        gdf_zones2db_fin=gdf_zones2db[gdf_zones2db['rank']==1]\n",
    "\n",
    "    elif flag_scen_type==2:\n",
    "        gdf_zones2db = pd.concat([gdf_zones,df_zones_asis[gdf_zones.columns] ])\n",
    "        k=1\n",
    "        gdf_zones2db['rank'] = gdf_zones2db.groupby([ 'zone_id'])['upload_dt'].rank('first')\n",
    "        gdf_zones2db_fin=gdf_zones2db[gdf_zones2db['rank']==1]\n",
    "\n",
    "\n",
    "    else: \n",
    "        print ('try again')\n"
   ]
  },
  {
   "cell_type": "code",
   "execution_count": 646,
   "id": "f4d3132c",
   "metadata": {
    "ExecuteTime": {
     "end_time": "2022-06-29T13:37:47.326150Z",
     "start_time": "2022-06-29T13:37:47.322156Z"
    }
   },
   "outputs": [],
   "source": [
    " gdf_zones2db_fin =gdf_zones2db"
   ]
  },
  {
   "cell_type": "code",
   "execution_count": 647,
   "id": "6dad82a8",
   "metadata": {
    "ExecuteTime": {
     "end_time": "2022-06-29T13:37:49.639552Z",
     "start_time": "2022-06-29T13:37:49.635554Z"
    },
    "scrolled": true
   },
   "outputs": [],
   "source": [
    "gdf_zones2db_fin.crs='epsg:4326'"
   ]
  },
  {
   "cell_type": "code",
   "execution_count": 652,
   "id": "21ec9414",
   "metadata": {
    "ExecuteTime": {
     "end_time": "2022-06-29T13:40:20.886345Z",
     "start_time": "2022-06-29T13:40:20.864738Z"
    }
   },
   "outputs": [
    {
     "name": "stderr",
     "output_type": "stream",
     "text": [
      "/usr/local/lib/python3.7/dist-packages/pandas/core/dtypes/inference.py:383: ShapelyDeprecationWarning: Iteration over multi-part geometries is deprecated and will be removed in Shapely 2.0. Use the `geoms` property to access the constituent parts of a multi-part geometry.\n",
      "  iter(obj)  # Can iterate over it.\n",
      "/usr/local/lib/python3.7/dist-packages/pandas/core/dtypes/inference.py:384: ShapelyDeprecationWarning: __len__ for multi-part geometries is deprecated and will be removed in Shapely 2.0. Check the length of the `geoms` property instead to get the  number of parts of a multi-part geometry.\n",
      "  len(obj)  # Has a length associated with it.\n",
      "/usr/local/lib/python3.7/dist-packages/pandas/io/formats/printing.py:118: ShapelyDeprecationWarning: Iteration over multi-part geometries is deprecated and will be removed in Shapely 2.0. Use the `geoms` property to access the constituent parts of a multi-part geometry.\n",
      "  s = iter(seq)\n",
      "/usr/local/lib/python3.7/dist-packages/pandas/io/formats/printing.py:122: ShapelyDeprecationWarning: __len__ for multi-part geometries is deprecated and will be removed in Shapely 2.0. Check the length of the `geoms` property instead to get the  number of parts of a multi-part geometry.\n",
      "  for i in range(min(nitems, len(seq)))\n",
      "/usr/local/lib/python3.7/dist-packages/pandas/io/formats/printing.py:126: ShapelyDeprecationWarning: __len__ for multi-part geometries is deprecated and will be removed in Shapely 2.0. Check the length of the `geoms` property instead to get the  number of parts of a multi-part geometry.\n",
      "  if nitems < len(seq):\n",
      "/usr/local/lib/python3.7/dist-packages/pandas/core/dtypes/inference.py:383: ShapelyDeprecationWarning: Iteration over multi-part geometries is deprecated and will be removed in Shapely 2.0. Use the `geoms` property to access the constituent parts of a multi-part geometry.\n",
      "  iter(obj)  # Can iterate over it.\n",
      "/usr/local/lib/python3.7/dist-packages/pandas/core/dtypes/inference.py:384: ShapelyDeprecationWarning: __len__ for multi-part geometries is deprecated and will be removed in Shapely 2.0. Check the length of the `geoms` property instead to get the  number of parts of a multi-part geometry.\n",
      "  len(obj)  # Has a length associated with it.\n",
      "/usr/local/lib/python3.7/dist-packages/pandas/io/formats/printing.py:118: ShapelyDeprecationWarning: Iteration over multi-part geometries is deprecated and will be removed in Shapely 2.0. Use the `geoms` property to access the constituent parts of a multi-part geometry.\n",
      "  s = iter(seq)\n",
      "/usr/local/lib/python3.7/dist-packages/pandas/io/formats/printing.py:122: ShapelyDeprecationWarning: __len__ for multi-part geometries is deprecated and will be removed in Shapely 2.0. Check the length of the `geoms` property instead to get the  number of parts of a multi-part geometry.\n",
      "  for i in range(min(nitems, len(seq)))\n",
      "/usr/local/lib/python3.7/dist-packages/pandas/io/formats/printing.py:126: ShapelyDeprecationWarning: __len__ for multi-part geometries is deprecated and will be removed in Shapely 2.0. Check the length of the `geoms` property instead to get the  number of parts of a multi-part geometry.\n",
      "  if nitems < len(seq):\n"
     ]
    },
    {
     "data": {
      "text/html": [
       "<div>\n",
       "<style scoped>\n",
       "    .dataframe tbody tr th:only-of-type {\n",
       "        vertical-align: middle;\n",
       "    }\n",
       "\n",
       "    .dataframe tbody tr th {\n",
       "        vertical-align: top;\n",
       "    }\n",
       "\n",
       "    .dataframe thead th {\n",
       "        text-align: right;\n",
       "    }\n",
       "</style>\n",
       "<table border=\"1\" class=\"dataframe\">\n",
       "  <thead>\n",
       "    <tr style=\"text-align: right;\">\n",
       "      <th></th>\n",
       "      <th>zone_id</th>\n",
       "      <th>geometry</th>\n",
       "      <th>upload_dt</th>\n",
       "      <th>geometry_wkb</th>\n",
       "      <th>rank</th>\n",
       "    </tr>\n",
       "  </thead>\n",
       "  <tbody>\n",
       "    <tr>\n",
       "      <th>0</th>\n",
       "      <td>21_movement_spb</td>\n",
       "      <td>POLYGON((30.4178081672819 60.0450469506498,30....</td>\n",
       "      <td>2022-06-29 16:32:27.152904</td>\n",
       "      <td>None</td>\n",
       "      <td>1.0</td>\n",
       "    </tr>\n",
       "    <tr>\n",
       "      <th>1</th>\n",
       "      <td>17_movement_spb</td>\n",
       "      <td>POLYGON((30.23731 60.043354,30.243177 60.03902...</td>\n",
       "      <td>2022-06-29 16:32:27.152904</td>\n",
       "      <td>None</td>\n",
       "      <td>1.0</td>\n",
       "    </tr>\n",
       "    <tr>\n",
       "      <th>2</th>\n",
       "      <td>18_movement_spb</td>\n",
       "      <td>POLYGON((30.2118150371786 59.8455238656758,30....</td>\n",
       "      <td>2022-06-29 16:32:27.152904</td>\n",
       "      <td>None</td>\n",
       "      <td>1.0</td>\n",
       "    </tr>\n",
       "    <tr>\n",
       "      <th>3</th>\n",
       "      <td>19_movement_spb</td>\n",
       "      <td>POLYGON((30.267497 59.854352,30.2891247746347 ...</td>\n",
       "      <td>2022-06-29 16:32:27.152904</td>\n",
       "      <td>None</td>\n",
       "      <td>1.0</td>\n",
       "    </tr>\n",
       "    <tr>\n",
       "      <th>4</th>\n",
       "      <td>23_movement_spb</td>\n",
       "      <td>POLYGON((30.3009744096712 60.0662014268194,30....</td>\n",
       "      <td>2022-06-29 16:32:27.152904</td>\n",
       "      <td>None</td>\n",
       "      <td>1.0</td>\n",
       "    </tr>\n",
       "    <tr>\n",
       "      <th>5</th>\n",
       "      <td>20_movement_spb</td>\n",
       "      <td>POLYGON((30.315286 60.043724,30.3202960397339 ...</td>\n",
       "      <td>2022-06-29 16:32:27.152904</td>\n",
       "      <td>None</td>\n",
       "      <td>1.0</td>\n",
       "    </tr>\n",
       "    <tr>\n",
       "      <th>6</th>\n",
       "      <td>22_movement_spb</td>\n",
       "      <td>POLYGON((30.186583 59.986785,30.189791 59.9826...</td>\n",
       "      <td>2022-06-29 16:32:27.152904</td>\n",
       "      <td>None</td>\n",
       "      <td>1.0</td>\n",
       "    </tr>\n",
       "    <tr>\n",
       "      <th>0</th>\n",
       "      <td>169138_foot</td>\n",
       "      <td>POLYGON ((30.313466 60.056027, 30.314822313005...</td>\n",
       "      <td>2022-06-29 16:33:06.472468</td>\n",
       "      <td>None</td>\n",
       "      <td>1.0</td>\n",
       "    </tr>\n",
       "    <tr>\n",
       "      <th>7</th>\n",
       "      <td>124945_foot</td>\n",
       "      <td>POLYGON ((30.4103017403901 60.0256494626413, 3...</td>\n",
       "      <td>2022-06-29 16:33:06.472468</td>\n",
       "      <td>None</td>\n",
       "      <td>1.0</td>\n",
       "    </tr>\n",
       "    <tr>\n",
       "      <th>14</th>\n",
       "      <td>112330_foot</td>\n",
       "      <td>POLYGON ((30.235066 59.851522, 30.242858 59.85...</td>\n",
       "      <td>2022-06-29 16:33:06.472468</td>\n",
       "      <td>None</td>\n",
       "      <td>1.0</td>\n",
       "    </tr>\n",
       "    <tr>\n",
       "      <th>21</th>\n",
       "      <td>142875_foot</td>\n",
       "      <td>POLYGON ((30.24284 60.026322, 30.24372 60.0263...</td>\n",
       "      <td>2022-06-29 16:33:06.472468</td>\n",
       "      <td>None</td>\n",
       "      <td>1.0</td>\n",
       "    </tr>\n",
       "    <tr>\n",
       "      <th>28</th>\n",
       "      <td>319575_foot</td>\n",
       "      <td>POLYGON ((30.255544 59.841639, 30.263291670736...</td>\n",
       "      <td>2022-06-29 16:33:06.472468</td>\n",
       "      <td>None</td>\n",
       "      <td>1.0</td>\n",
       "    </tr>\n",
       "    <tr>\n",
       "      <th>35</th>\n",
       "      <td>318075_foot</td>\n",
       "      <td>POLYGON ((30.386522 60.04235, 30.393287 60.050...</td>\n",
       "      <td>2022-06-29 16:33:06.472468</td>\n",
       "      <td>None</td>\n",
       "      <td>1.0</td>\n",
       "    </tr>\n",
       "    <tr>\n",
       "      <th>42</th>\n",
       "      <td>320510_foot</td>\n",
       "      <td>POLYGON ((30.158267 59.846528, 30.157747 59.83...</td>\n",
       "      <td>2022-06-29 16:33:06.472468</td>\n",
       "      <td>None</td>\n",
       "      <td>1.0</td>\n",
       "    </tr>\n",
       "    <tr>\n",
       "      <th>49</th>\n",
       "      <td>319875_foot</td>\n",
       "      <td>POLYGON ((30.186583 59.986785, 30.189791 59.98...</td>\n",
       "      <td>2022-06-29 16:33:06.472468</td>\n",
       "      <td>None</td>\n",
       "      <td>1.0</td>\n",
       "    </tr>\n",
       "    <tr>\n",
       "      <th>56</th>\n",
       "      <td>191138_foot</td>\n",
       "      <td>POLYGON ((30.3202960397339 60.0345303300736, 3...</td>\n",
       "      <td>2022-06-29 16:33:06.472468</td>\n",
       "      <td>None</td>\n",
       "      <td>1.0</td>\n",
       "    </tr>\n",
       "    <tr>\n",
       "      <th>63</th>\n",
       "      <td>289361_foot</td>\n",
       "      <td>POLYGON ((30.2211483273051 59.8473109878627, 3...</td>\n",
       "      <td>2022-06-29 16:33:06.472468</td>\n",
       "      <td>None</td>\n",
       "      <td>1.0</td>\n",
       "    </tr>\n",
       "    <tr>\n",
       "      <th>2</th>\n",
       "      <td>169138_foot_23_movement_spb</td>\n",
       "      <td>POLYGON ((30.320709 60.065274, 30.348485 60.05...</td>\n",
       "      <td>2022-06-29 16:33:06.472468</td>\n",
       "      <td>None</td>\n",
       "      <td>1.0</td>\n",
       "    </tr>\n",
       "    <tr>\n",
       "      <th>8</th>\n",
       "      <td>124945_foot_21_movement_spb</td>\n",
       "      <td>(POLYGON ((30.3915586613769 60.0308703688946, ...</td>\n",
       "      <td>2022-06-29 16:33:06.472468</td>\n",
       "      <td>None</td>\n",
       "      <td>1.0</td>\n",
       "    </tr>\n",
       "    <tr>\n",
       "      <th>17</th>\n",
       "      <td>112330_foot_19_movement_spb</td>\n",
       "      <td>POLYGON ((30.242858 59.854771, 30.249165 59.85...</td>\n",
       "      <td>2022-06-29 16:33:06.472468</td>\n",
       "      <td>None</td>\n",
       "      <td>1.0</td>\n",
       "    </tr>\n",
       "    <tr>\n",
       "      <th>27</th>\n",
       "      <td>142875_foot_17_movement_spb</td>\n",
       "      <td>POLYGON ((30.245549 60.028392, 30.248656 60.02...</td>\n",
       "      <td>2022-06-29 16:33:06.472468</td>\n",
       "      <td>None</td>\n",
       "      <td>1.0</td>\n",
       "    </tr>\n",
       "    <tr>\n",
       "      <th>31</th>\n",
       "      <td>319575_foot_19_movement_spb</td>\n",
       "      <td>POLYGON ((30.255544 59.841639, 30.255601142941...</td>\n",
       "      <td>2022-06-29 16:33:06.472468</td>\n",
       "      <td>None</td>\n",
       "      <td>1.0</td>\n",
       "    </tr>\n",
       "    <tr>\n",
       "      <th>35</th>\n",
       "      <td>318075_foot_20_movement_spb</td>\n",
       "      <td>POLYGON ((30.337239494651854 60.04546913637639...</td>\n",
       "      <td>2022-06-29 16:33:06.472468</td>\n",
       "      <td>None</td>\n",
       "      <td>1.0</td>\n",
       "    </tr>\n",
       "    <tr>\n",
       "      <th>46</th>\n",
       "      <td>320510_foot_18_movement_spb</td>\n",
       "      <td>(POLYGON ((30.172855 59.813791, 30.169465 59.8...</td>\n",
       "      <td>2022-06-29 16:33:06.472468</td>\n",
       "      <td>None</td>\n",
       "      <td>1.0</td>\n",
       "    </tr>\n",
       "    <tr>\n",
       "      <th>54</th>\n",
       "      <td>319875_foot_22_movement_spb</td>\n",
       "      <td>POLYGON EMPTY</td>\n",
       "      <td>2022-06-29 16:33:06.472468</td>\n",
       "      <td>None</td>\n",
       "      <td>1.0</td>\n",
       "    </tr>\n",
       "    <tr>\n",
       "      <th>56</th>\n",
       "      <td>191138_foot_20_movement_spb</td>\n",
       "      <td>(POLYGON ((30.319724 60.030054, 30.32029603973...</td>\n",
       "      <td>2022-06-29 16:33:06.472468</td>\n",
       "      <td>None</td>\n",
       "      <td>1.0</td>\n",
       "    </tr>\n",
       "    <tr>\n",
       "      <th>67</th>\n",
       "      <td>289361_foot_18_movement_spb</td>\n",
       "      <td>(POLYGON ((30.220879 59.846792, 30.21710703257...</td>\n",
       "      <td>2022-06-29 16:33:06.472468</td>\n",
       "      <td>None</td>\n",
       "      <td>1.0</td>\n",
       "    </tr>\n",
       "  </tbody>\n",
       "</table>\n",
       "</div>"
      ],
      "text/plain": [
       "                        zone_id  \\\n",
       "0               21_movement_spb   \n",
       "1               17_movement_spb   \n",
       "2               18_movement_spb   \n",
       "3               19_movement_spb   \n",
       "4               23_movement_spb   \n",
       "5               20_movement_spb   \n",
       "6               22_movement_spb   \n",
       "0                   169138_foot   \n",
       "7                   124945_foot   \n",
       "14                  112330_foot   \n",
       "21                  142875_foot   \n",
       "28                  319575_foot   \n",
       "35                  318075_foot   \n",
       "42                  320510_foot   \n",
       "49                  319875_foot   \n",
       "56                  191138_foot   \n",
       "63                  289361_foot   \n",
       "2   169138_foot_23_movement_spb   \n",
       "8   124945_foot_21_movement_spb   \n",
       "17  112330_foot_19_movement_spb   \n",
       "27  142875_foot_17_movement_spb   \n",
       "31  319575_foot_19_movement_spb   \n",
       "35  318075_foot_20_movement_spb   \n",
       "46  320510_foot_18_movement_spb   \n",
       "54  319875_foot_22_movement_spb   \n",
       "56  191138_foot_20_movement_spb   \n",
       "67  289361_foot_18_movement_spb   \n",
       "\n",
       "                                             geometry  \\\n",
       "0   POLYGON((30.4178081672819 60.0450469506498,30....   \n",
       "1   POLYGON((30.23731 60.043354,30.243177 60.03902...   \n",
       "2   POLYGON((30.2118150371786 59.8455238656758,30....   \n",
       "3   POLYGON((30.267497 59.854352,30.2891247746347 ...   \n",
       "4   POLYGON((30.3009744096712 60.0662014268194,30....   \n",
       "5   POLYGON((30.315286 60.043724,30.3202960397339 ...   \n",
       "6   POLYGON((30.186583 59.986785,30.189791 59.9826...   \n",
       "0   POLYGON ((30.313466 60.056027, 30.314822313005...   \n",
       "7   POLYGON ((30.4103017403901 60.0256494626413, 3...   \n",
       "14  POLYGON ((30.235066 59.851522, 30.242858 59.85...   \n",
       "21  POLYGON ((30.24284 60.026322, 30.24372 60.0263...   \n",
       "28  POLYGON ((30.255544 59.841639, 30.263291670736...   \n",
       "35  POLYGON ((30.386522 60.04235, 30.393287 60.050...   \n",
       "42  POLYGON ((30.158267 59.846528, 30.157747 59.83...   \n",
       "49  POLYGON ((30.186583 59.986785, 30.189791 59.98...   \n",
       "56  POLYGON ((30.3202960397339 60.0345303300736, 3...   \n",
       "63  POLYGON ((30.2211483273051 59.8473109878627, 3...   \n",
       "2   POLYGON ((30.320709 60.065274, 30.348485 60.05...   \n",
       "8   (POLYGON ((30.3915586613769 60.0308703688946, ...   \n",
       "17  POLYGON ((30.242858 59.854771, 30.249165 59.85...   \n",
       "27  POLYGON ((30.245549 60.028392, 30.248656 60.02...   \n",
       "31  POLYGON ((30.255544 59.841639, 30.255601142941...   \n",
       "35  POLYGON ((30.337239494651854 60.04546913637639...   \n",
       "46  (POLYGON ((30.172855 59.813791, 30.169465 59.8...   \n",
       "54                                      POLYGON EMPTY   \n",
       "56  (POLYGON ((30.319724 60.030054, 30.32029603973...   \n",
       "67  (POLYGON ((30.220879 59.846792, 30.21710703257...   \n",
       "\n",
       "                    upload_dt geometry_wkb  rank  \n",
       "0  2022-06-29 16:32:27.152904         None   1.0  \n",
       "1  2022-06-29 16:32:27.152904         None   1.0  \n",
       "2  2022-06-29 16:32:27.152904         None   1.0  \n",
       "3  2022-06-29 16:32:27.152904         None   1.0  \n",
       "4  2022-06-29 16:32:27.152904         None   1.0  \n",
       "5  2022-06-29 16:32:27.152904         None   1.0  \n",
       "6  2022-06-29 16:32:27.152904         None   1.0  \n",
       "0  2022-06-29 16:33:06.472468         None   1.0  \n",
       "7  2022-06-29 16:33:06.472468         None   1.0  \n",
       "14 2022-06-29 16:33:06.472468         None   1.0  \n",
       "21 2022-06-29 16:33:06.472468         None   1.0  \n",
       "28 2022-06-29 16:33:06.472468         None   1.0  \n",
       "35 2022-06-29 16:33:06.472468         None   1.0  \n",
       "42 2022-06-29 16:33:06.472468         None   1.0  \n",
       "49 2022-06-29 16:33:06.472468         None   1.0  \n",
       "56 2022-06-29 16:33:06.472468         None   1.0  \n",
       "63 2022-06-29 16:33:06.472468         None   1.0  \n",
       "2  2022-06-29 16:33:06.472468         None   1.0  \n",
       "8  2022-06-29 16:33:06.472468         None   1.0  \n",
       "17 2022-06-29 16:33:06.472468         None   1.0  \n",
       "27 2022-06-29 16:33:06.472468         None   1.0  \n",
       "31 2022-06-29 16:33:06.472468         None   1.0  \n",
       "35 2022-06-29 16:33:06.472468         None   1.0  \n",
       "46 2022-06-29 16:33:06.472468         None   1.0  \n",
       "54 2022-06-29 16:33:06.472468         None   1.0  \n",
       "56 2022-06-29 16:33:06.472468         None   1.0  \n",
       "67 2022-06-29 16:33:06.472468         None   1.0  "
      ]
     },
     "execution_count": 652,
     "metadata": {},
     "output_type": "execute_result"
    }
   ],
   "source": [
    "gdf_zones2db_fin"
   ]
  },
  {
   "cell_type": "code",
   "execution_count": 653,
   "id": "8b71f4f8",
   "metadata": {
    "ExecuteTime": {
     "end_time": "2022-06-29T13:41:10.527717Z",
     "start_time": "2022-06-29T13:41:03.494359Z"
    }
   },
   "outputs": [
    {
     "name": "stdout",
     "output_type": "stream",
     "text": [
      "appended\n",
      "zones ['21_movement_spb', '17_movement_spb', '18_movement_spb', '19_movement_spb', '23_movement_spb', '20_movement_spb', '22_movement_spb', '169138_foot', '124945_foot', '112330_foot', '142875_foot', '319575_foot', '318075_foot', '320510_foot', '319875_foot', '191138_foot', '289361_foot', '169138_foot_23_movement_spb', '124945_foot_21_movement_spb', '112330_foot_19_movement_spb', '142875_foot_17_movement_spb', '319575_foot_19_movement_spb', '318075_foot_20_movement_spb', '320510_foot_18_movement_spb', '319875_foot_22_movement_spb', '191138_foot_20_movement_spb', '289361_foot_18_movement_spb'] are successfuly uploaded\n"
     ]
    }
   ],
   "source": [
    "zpf.save2db(gdf_zones2db_fin[['geometry', 'geometry_wkb', 'upload_dt', 'zone_id']])"
   ]
  },
  {
   "cell_type": "code",
   "execution_count": 654,
   "id": "0d41e59d",
   "metadata": {
    "ExecuteTime": {
     "end_time": "2022-06-29T13:41:51.746800Z",
     "start_time": "2022-06-29T13:41:38.955517Z"
    }
   },
   "outputs": [
    {
     "name": "stdout",
     "output_type": "stream",
     "text": [
      "21_movement_spb old courier type: foot/yandex_taxi foot\n",
      "17_movement_spb old courier type: foot/yandex_taxi foot\n",
      "18_movement_spb old courier type: foot/yandex_taxi foot\n",
      "19_movement_spb old courier type: foot/yandex_taxi foot\n",
      "23_movement_spb old courier type: foot/yandex_taxi foot\n",
      "20_movement_spb old courier type: foot/yandex_taxi foot\n",
      "22_movement_spb old courier type: foot/yandex_taxi foot\n"
     ]
    }
   ],
   "source": [
    "# подходит если одной точке -1 сценарий\n",
    "dict_scenarios= dict([(z,'Сценарий '+str(n)+': '+z) for n, z in enumerate(df_zones_new.proposed_zone.unique(),2)])\n",
    "\n",
    "dic_old_type=dict()\n",
    "for z in gdf_zones.zone_id.unique():\n",
    "    dic_old_type[z] = input(z+' old courier type: foot/yandex_taxi ')\n",
    "\n",
    "df_zones_new.proposed_zone.unique()\n",
    "\n",
    "df_zones_asis['scenarios']='Сценарий 1: ASIS'\n",
    "\n",
    "\n",
    "gdf_zones['scenarios']=gdf_zones['zone_id'].map(dict_scenarios)\n",
    "\n",
    "\n",
    "df_zones_new['scenarios']=df_zones_new['proposed_zone'].map(dict_scenarios)\n",
    "df_scen = pd.concat([df_zones_asis [['zone_id','scenarios','upload_dt','geometry','geometry_wkb']] , df_zones_new [['zone_id','scenarios','upload_dt','geometry','geometry_wkb']],\n",
    "                    gdf_zones[['zone_id','scenarios','upload_dt','geometry','geometry_wkb']]])\n",
    "\n",
    "# else:\n",
    "#     df_scen = pd.concat([df_zones_asis [['zone_id','scenarios','upload_dt','geometry','geometry_wkb']], \n",
    "#                         gdf_zones[['zone_id','scenarios','upload_dt','geometry','geometry_wkb']]])\n",
    "\n",
    "df_scen['case']=case_name\n",
    "\n",
    "df_scen['courier_type_hist']=df_scen['zone_id'].map(dic_old_type)\n",
    "df_scen.loc[pd.isnull(df_scen['courier_type_hist']),'courier_type_hist']=df_scen.loc[pd.isnull(df_scen['courier_type_hist']),'zone_id'].apply(lambda x: 'foot' if x.split('_')[1]=='foot' else 'yandex_taxi' )\n",
    "\n",
    "df_scen['courier_type_predict']=df_scen['zone_id'].apply(lambda x: 'foot' if ( 'foot' in x or x  in gdf_zones.zone_id.unique()) else  'yandex_taxi')\n",
    "\n",
    "\n",
    "df_scen['store_id'] = df_scen['zone_id'].apply(lambda x:x.split('_')[0])"
   ]
  },
  {
   "cell_type": "code",
   "execution_count": 655,
   "id": "729f15f6",
   "metadata": {
    "ExecuteTime": {
     "end_time": "2022-06-29T13:41:54.591111Z",
     "start_time": "2022-06-29T13:41:54.583112Z"
    }
   },
   "outputs": [
    {
     "data": {
      "text/plain": [
       "scenarios\n",
       "Сценарий 1: ASIS               10\n",
       "Сценарий 2: 20_movement_spb    11\n",
       "Сценарий 3: 21_movement_spb    11\n",
       "Сценарий 4: 23_movement_spb    11\n",
       "Сценарий 5: 19_movement_spb    11\n",
       "Сценарий 6: 18_movement_spb    11\n",
       "Сценарий 7: 22_movement_spb    11\n",
       "Сценарий 8: 17_movement_spb    11\n",
       "Name: zone_id, dtype: int64"
      ]
     },
     "execution_count": 655,
     "metadata": {},
     "output_type": "execute_result"
    }
   ],
   "source": [
    "df_scen.groupby('scenarios')['zone_id'].nunique()"
   ]
  },
  {
   "cell_type": "markdown",
   "id": "5bd77ad8",
   "metadata": {},
   "source": [
    "#### код на для загрузки существующих сценариев"
   ]
  },
  {
   "cell_type": "code",
   "execution_count": 419,
   "id": "33358c17",
   "metadata": {
    "ExecuteTime": {
     "end_time": "2022-05-19T10:09:08.669392Z",
     "start_time": "2022-05-19T10:09:08.400692Z"
    }
   },
   "outputs": [],
   "source": [
    "case_name_temp='nn_timiryaz'\n",
    "df_scen = greenplum(\"\"\"select * from snb_geo_lavka.iat_cases_scenarios_predict_metadata where \"case\"='{}'\"\"\".format(case_name_temp))\n",
    "df_scen['store_id'] = df_scen['zone_id'].apply(lambda x:x.split('_')[0])"
   ]
  },
  {
   "cell_type": "code",
   "execution_count": 418,
   "id": "9827c05b",
   "metadata": {
    "ExecuteTime": {
     "end_time": "2022-05-18T16:33:03.988260Z",
     "start_time": "2022-05-18T16:33:03.972821Z"
    },
    "scrolled": true
   },
   "outputs": [
    {
     "data": {
      "text/html": [
       "<div>\n",
       "<style scoped>\n",
       "    .dataframe tbody tr th:only-of-type {\n",
       "        vertical-align: middle;\n",
       "    }\n",
       "\n",
       "    .dataframe tbody tr th {\n",
       "        vertical-align: top;\n",
       "    }\n",
       "\n",
       "    .dataframe thead th {\n",
       "        text-align: right;\n",
       "    }\n",
       "</style>\n",
       "<table border=\"1\" class=\"dataframe\">\n",
       "  <thead>\n",
       "    <tr style=\"text-align: right;\">\n",
       "      <th></th>\n",
       "      <th>scenarios</th>\n",
       "      <th>zone_id</th>\n",
       "      <th>courier_type_hist</th>\n",
       "      <th>courier_type_predict</th>\n",
       "      <th>case</th>\n",
       "      <th>store_id</th>\n",
       "    </tr>\n",
       "  </thead>\n",
       "  <tbody>\n",
       "    <tr>\n",
       "      <th>21</th>\n",
       "      <td>Сценарий 1: ASIS</td>\n",
       "      <td>194158_foot</td>\n",
       "      <td>foot</td>\n",
       "      <td>foot</td>\n",
       "      <td>nn_timiryaz</td>\n",
       "      <td>194158</td>\n",
       "    </tr>\n",
       "    <tr>\n",
       "      <th>19</th>\n",
       "      <td>Сценарий 1: ASIS</td>\n",
       "      <td>254353_foot</td>\n",
       "      <td>foot</td>\n",
       "      <td>foot</td>\n",
       "      <td>nn_timiryaz</td>\n",
       "      <td>254353</td>\n",
       "    </tr>\n",
       "    <tr>\n",
       "      <th>4</th>\n",
       "      <td>Сценарий 1: ASIS</td>\n",
       "      <td>254353_yandex_taxi</td>\n",
       "      <td>yandex_taxi</td>\n",
       "      <td>yandex_taxi</td>\n",
       "      <td>nn_timiryaz</td>\n",
       "      <td>254353</td>\n",
       "    </tr>\n",
       "    <tr>\n",
       "      <th>16</th>\n",
       "      <td>Сценарий 1: ASIS</td>\n",
       "      <td>376612_yandex_taxi</td>\n",
       "      <td>yandex_taxi</td>\n",
       "      <td>yandex_taxi</td>\n",
       "      <td>nn_timiryaz</td>\n",
       "      <td>376612</td>\n",
       "    </tr>\n",
       "    <tr>\n",
       "      <th>6</th>\n",
       "      <td>Сценарий 1: ASIS</td>\n",
       "      <td>376612_yandex_taxi</td>\n",
       "      <td>yandex_taxi</td>\n",
       "      <td>yandex_taxi</td>\n",
       "      <td>nn_timiryaz</td>\n",
       "      <td>376612</td>\n",
       "    </tr>\n",
       "    <tr>\n",
       "      <th>15</th>\n",
       "      <td>Сценарий 1: ASIS</td>\n",
       "      <td>194158_foot</td>\n",
       "      <td>foot</td>\n",
       "      <td>foot</td>\n",
       "      <td>nn_timiryaz</td>\n",
       "      <td>194158</td>\n",
       "    </tr>\n",
       "    <tr>\n",
       "      <th>14</th>\n",
       "      <td>Сценарий 1: ASIS</td>\n",
       "      <td>254353_yandex_taxi</td>\n",
       "      <td>yandex_taxi</td>\n",
       "      <td>yandex_taxi</td>\n",
       "      <td>nn_timiryaz</td>\n",
       "      <td>254353</td>\n",
       "    </tr>\n",
       "    <tr>\n",
       "      <th>13</th>\n",
       "      <td>Сценарий 1: ASIS</td>\n",
       "      <td>376612_foot</td>\n",
       "      <td>foot</td>\n",
       "      <td>foot</td>\n",
       "      <td>nn_timiryaz</td>\n",
       "      <td>376612</td>\n",
       "    </tr>\n",
       "    <tr>\n",
       "      <th>20</th>\n",
       "      <td>Сценарий 1: ASIS</td>\n",
       "      <td>376612_foot</td>\n",
       "      <td>foot</td>\n",
       "      <td>foot</td>\n",
       "      <td>nn_timiryaz</td>\n",
       "      <td>376612</td>\n",
       "    </tr>\n",
       "    <tr>\n",
       "      <th>11</th>\n",
       "      <td>Сценарий 1: ASIS</td>\n",
       "      <td>254353_foot</td>\n",
       "      <td>foot</td>\n",
       "      <td>foot</td>\n",
       "      <td>nn_timiryaz</td>\n",
       "      <td>254353</td>\n",
       "    </tr>\n",
       "    <tr>\n",
       "      <th>18</th>\n",
       "      <td>Сценарий 2: zone_nn_timiryaz_0</td>\n",
       "      <td>376612_yandex_taxi_zone_nn_timiryaz_0</td>\n",
       "      <td>yandex_taxi</td>\n",
       "      <td>yandex_taxi</td>\n",
       "      <td>nn_timiryaz</td>\n",
       "      <td>376612</td>\n",
       "    </tr>\n",
       "    <tr>\n",
       "      <th>17</th>\n",
       "      <td>Сценарий 2: zone_nn_timiryaz_0</td>\n",
       "      <td>254353_yandex_taxi_zone_nn_timiryaz_0</td>\n",
       "      <td>yandex_taxi</td>\n",
       "      <td>yandex_taxi</td>\n",
       "      <td>nn_timiryaz</td>\n",
       "      <td>254353</td>\n",
       "    </tr>\n",
       "    <tr>\n",
       "      <th>0</th>\n",
       "      <td>Сценарий 2: zone_nn_timiryaz_0</td>\n",
       "      <td>254353_foot_zone_nn_timiryaz_0</td>\n",
       "      <td>foot</td>\n",
       "      <td>foot</td>\n",
       "      <td>nn_timiryaz</td>\n",
       "      <td>254353</td>\n",
       "    </tr>\n",
       "    <tr>\n",
       "      <th>9</th>\n",
       "      <td>Сценарий 2: zone_nn_timiryaz_0</td>\n",
       "      <td>zone_nn_timiryaz_0</td>\n",
       "      <td>yandex_taxi</td>\n",
       "      <td>foot</td>\n",
       "      <td>nn_timiryaz</td>\n",
       "      <td>zone</td>\n",
       "    </tr>\n",
       "    <tr>\n",
       "      <th>8</th>\n",
       "      <td>Сценарий 2: zone_nn_timiryaz_0</td>\n",
       "      <td>254353_yandex_taxi_zone_nn_timiryaz_0</td>\n",
       "      <td>yandex_taxi</td>\n",
       "      <td>yandex_taxi</td>\n",
       "      <td>nn_timiryaz</td>\n",
       "      <td>254353</td>\n",
       "    </tr>\n",
       "    <tr>\n",
       "      <th>7</th>\n",
       "      <td>Сценарий 2: zone_nn_timiryaz_0</td>\n",
       "      <td>376612_foot</td>\n",
       "      <td>foot</td>\n",
       "      <td>foot</td>\n",
       "      <td>nn_timiryaz</td>\n",
       "      <td>376612</td>\n",
       "    </tr>\n",
       "    <tr>\n",
       "      <th>5</th>\n",
       "      <td>Сценарий 2: zone_nn_timiryaz_0</td>\n",
       "      <td>194158_foot_zone_nn_timiryaz_0</td>\n",
       "      <td>foot</td>\n",
       "      <td>foot</td>\n",
       "      <td>nn_timiryaz</td>\n",
       "      <td>194158</td>\n",
       "    </tr>\n",
       "    <tr>\n",
       "      <th>3</th>\n",
       "      <td>Сценарий 2: zone_nn_timiryaz_0</td>\n",
       "      <td>zone_nn_timiryaz_0</td>\n",
       "      <td>yandex_taxi</td>\n",
       "      <td>foot</td>\n",
       "      <td>nn_timiryaz</td>\n",
       "      <td>zone</td>\n",
       "    </tr>\n",
       "    <tr>\n",
       "      <th>2</th>\n",
       "      <td>Сценарий 2: zone_nn_timiryaz_0</td>\n",
       "      <td>376612_yandex_taxi_zone_nn_timiryaz_0</td>\n",
       "      <td>yandex_taxi</td>\n",
       "      <td>yandex_taxi</td>\n",
       "      <td>nn_timiryaz</td>\n",
       "      <td>376612</td>\n",
       "    </tr>\n",
       "    <tr>\n",
       "      <th>1</th>\n",
       "      <td>Сценарий 2: zone_nn_timiryaz_0</td>\n",
       "      <td>254353_foot_zone_nn_timiryaz_0</td>\n",
       "      <td>foot</td>\n",
       "      <td>foot</td>\n",
       "      <td>nn_timiryaz</td>\n",
       "      <td>254353</td>\n",
       "    </tr>\n",
       "    <tr>\n",
       "      <th>12</th>\n",
       "      <td>Сценарий 2: zone_nn_timiryaz_0</td>\n",
       "      <td>194158_foot_zone_nn_timiryaz_0</td>\n",
       "      <td>foot</td>\n",
       "      <td>foot</td>\n",
       "      <td>nn_timiryaz</td>\n",
       "      <td>194158</td>\n",
       "    </tr>\n",
       "    <tr>\n",
       "      <th>10</th>\n",
       "      <td>Сценарий 2: zone_nn_timiryaz_0</td>\n",
       "      <td>376612_foot</td>\n",
       "      <td>foot</td>\n",
       "      <td>foot</td>\n",
       "      <td>nn_timiryaz</td>\n",
       "      <td>376612</td>\n",
       "    </tr>\n",
       "  </tbody>\n",
       "</table>\n",
       "</div>"
      ],
      "text/plain": [
       "                         scenarios                                zone_id  \\\n",
       "21                Сценарий 1: ASIS                            194158_foot   \n",
       "19                Сценарий 1: ASIS                            254353_foot   \n",
       "4                 Сценарий 1: ASIS                     254353_yandex_taxi   \n",
       "16                Сценарий 1: ASIS                     376612_yandex_taxi   \n",
       "6                 Сценарий 1: ASIS                     376612_yandex_taxi   \n",
       "15                Сценарий 1: ASIS                            194158_foot   \n",
       "14                Сценарий 1: ASIS                     254353_yandex_taxi   \n",
       "13                Сценарий 1: ASIS                            376612_foot   \n",
       "20                Сценарий 1: ASIS                            376612_foot   \n",
       "11                Сценарий 1: ASIS                            254353_foot   \n",
       "18  Сценарий 2: zone_nn_timiryaz_0  376612_yandex_taxi_zone_nn_timiryaz_0   \n",
       "17  Сценарий 2: zone_nn_timiryaz_0  254353_yandex_taxi_zone_nn_timiryaz_0   \n",
       "0   Сценарий 2: zone_nn_timiryaz_0         254353_foot_zone_nn_timiryaz_0   \n",
       "9   Сценарий 2: zone_nn_timiryaz_0                     zone_nn_timiryaz_0   \n",
       "8   Сценарий 2: zone_nn_timiryaz_0  254353_yandex_taxi_zone_nn_timiryaz_0   \n",
       "7   Сценарий 2: zone_nn_timiryaz_0                            376612_foot   \n",
       "5   Сценарий 2: zone_nn_timiryaz_0         194158_foot_zone_nn_timiryaz_0   \n",
       "3   Сценарий 2: zone_nn_timiryaz_0                     zone_nn_timiryaz_0   \n",
       "2   Сценарий 2: zone_nn_timiryaz_0  376612_yandex_taxi_zone_nn_timiryaz_0   \n",
       "1   Сценарий 2: zone_nn_timiryaz_0         254353_foot_zone_nn_timiryaz_0   \n",
       "12  Сценарий 2: zone_nn_timiryaz_0         194158_foot_zone_nn_timiryaz_0   \n",
       "10  Сценарий 2: zone_nn_timiryaz_0                            376612_foot   \n",
       "\n",
       "   courier_type_hist courier_type_predict         case store_id  \n",
       "21              foot                 foot  nn_timiryaz   194158  \n",
       "19              foot                 foot  nn_timiryaz   254353  \n",
       "4        yandex_taxi          yandex_taxi  nn_timiryaz   254353  \n",
       "16       yandex_taxi          yandex_taxi  nn_timiryaz   376612  \n",
       "6        yandex_taxi          yandex_taxi  nn_timiryaz   376612  \n",
       "15              foot                 foot  nn_timiryaz   194158  \n",
       "14       yandex_taxi          yandex_taxi  nn_timiryaz   254353  \n",
       "13              foot                 foot  nn_timiryaz   376612  \n",
       "20              foot                 foot  nn_timiryaz   376612  \n",
       "11              foot                 foot  nn_timiryaz   254353  \n",
       "18       yandex_taxi          yandex_taxi  nn_timiryaz   376612  \n",
       "17       yandex_taxi          yandex_taxi  nn_timiryaz   254353  \n",
       "0               foot                 foot  nn_timiryaz   254353  \n",
       "9        yandex_taxi                 foot  nn_timiryaz     zone  \n",
       "8        yandex_taxi          yandex_taxi  nn_timiryaz   254353  \n",
       "7               foot                 foot  nn_timiryaz   376612  \n",
       "5               foot                 foot  nn_timiryaz   194158  \n",
       "3        yandex_taxi                 foot  nn_timiryaz     zone  \n",
       "2        yandex_taxi          yandex_taxi  nn_timiryaz   376612  \n",
       "1               foot                 foot  nn_timiryaz   254353  \n",
       "12              foot                 foot  nn_timiryaz   194158  \n",
       "10              foot                 foot  nn_timiryaz   376612  "
      ]
     },
     "execution_count": 418,
     "metadata": {},
     "output_type": "execute_result"
    }
   ],
   "source": [
    "df_scen.sort_values('scenarios')"
   ]
  },
  {
   "cell_type": "code",
   "execution_count": 411,
   "id": "70148082",
   "metadata": {
    "ExecuteTime": {
     "end_time": "2022-05-18T14:18:52.282600Z",
     "start_time": "2022-05-18T14:18:52.278256Z"
    }
   },
   "outputs": [],
   "source": [
    "df_scen.loc[10,'courier_type_hist']='foot'"
   ]
  },
  {
   "cell_type": "code",
   "execution_count": 349,
   "id": "3afd14ab",
   "metadata": {
    "ExecuteTime": {
     "end_time": "2022-05-18T09:59:26.634743Z",
     "start_time": "2022-05-18T09:59:26.630449Z"
    }
   },
   "outputs": [],
   "source": [
    "# new_store_zones=['zone_nn_timiryaz_0']"
   ]
  },
  {
   "cell_type": "code",
   "execution_count": 661,
   "id": "30fdf046",
   "metadata": {
    "ExecuteTime": {
     "end_time": "2022-06-29T13:48:21.243613Z",
     "start_time": "2022-06-29T13:48:21.239415Z"
    }
   },
   "outputs": [],
   "source": [
    "new_store_zones=gdf_zones.zone_id.unique().tolist()"
   ]
  },
  {
   "cell_type": "code",
   "execution_count": 673,
   "id": "ab0a1347",
   "metadata": {
    "ExecuteTime": {
     "end_time": "2022-06-29T13:54:12.424783Z",
     "start_time": "2022-06-29T13:54:12.419368Z"
    }
   },
   "outputs": [
    {
     "data": {
      "text/plain": [
       "['21_movement_spb',\n",
       " '17_movement_spb',\n",
       " '18_movement_spb',\n",
       " '19_movement_spb',\n",
       " '23_movement_spb',\n",
       " '20_movement_spb',\n",
       " '22_movement_spb']"
      ]
     },
     "execution_count": 673,
     "metadata": {},
     "output_type": "execute_result"
    }
   ],
   "source": [
    "new_store_zones"
   ]
  },
  {
   "cell_type": "markdown",
   "id": "270cb7d9",
   "metadata": {},
   "source": [
    "### тут уже для всех"
   ]
  },
  {
   "cell_type": "code",
   "execution_count": 664,
   "id": "23fa65a0",
   "metadata": {
    "ExecuteTime": {
     "end_time": "2022-06-29T13:49:00.656327Z",
     "start_time": "2022-06-29T13:49:00.641448Z"
    },
    "scrolled": true
   },
   "outputs": [],
   "source": [
    "for i,r in df_scen[df_scen.zone_id.isin(new_store_zones)][['zone_id','store_id','scenarios']].iterrows():\n",
    "        df_scen.loc[(df_scen.zone_id==r['zone_id'])&(df_scen.scenarios==r['scenarios']),'store_id']='store_'+r['zone_id']"
   ]
  },
  {
   "cell_type": "code",
   "execution_count": 666,
   "id": "c3d7ba87",
   "metadata": {
    "ExecuteTime": {
     "end_time": "2022-06-29T13:49:30.020294Z",
     "start_time": "2022-06-29T13:49:24.059780Z"
    }
   },
   "outputs": [],
   "source": [
    "scen_columns = greenplum('select * from snb_geo_lavka.iat_cases_scenarios_predict_metadata limit 1').columns\n",
    "\n",
    "greenplum(\"\"\"delete from snb_geo_lavka.iat_cases_scenarios_predict_metadata where \"case\"='{}'\"\"\".format(case_name))\n",
    "greenplum.write(df_scen[scen_columns], 'snb_geo_lavka.iat_cases_scenarios_predict_metadata', if_exists='append')"
   ]
  },
  {
   "cell_type": "markdown",
   "id": "ed82cdd5",
   "metadata": {},
   "source": [
    "### Имена сторов"
   ]
  },
  {
   "cell_type": "code",
   "execution_count": 674,
   "id": "e369309e",
   "metadata": {
    "ExecuteTime": {
     "end_time": "2022-06-29T13:54:58.992555Z",
     "start_time": "2022-06-29T13:54:22.090557Z"
    }
   },
   "outputs": [
    {
     "name": "stdout",
     "output_type": "stream",
     "text": [
      "169138\n",
      "                     geometry\n",
      "0  POINT(30.339404 60.055205)\n",
      "124945\n",
      "                     geometry\n",
      "0  POINT(30.402268 60.030074)\n",
      "112330\n",
      "                     geometry\n",
      "0  POINT(30.244201 59.850509)\n",
      "142875\n",
      "                     geometry\n",
      "0  POINT(30.223512 60.027925)\n",
      "319575\n",
      "                     geometry\n",
      "0  POINT(30.245746 59.836581)\n",
      "318075\n",
      "                    geometry\n",
      "0  POINT(30.36338 60.052164)\n",
      "320510\n",
      "                     geometry\n",
      "0  POINT(30.177563 59.829427)\n",
      "319875\n",
      "                  geometry\n",
      "0  POINT(30.188514 59.989)\n",
      "191138\n",
      "                     geometry\n",
      "0  POINT(30.324097 60.031023)\n",
      "289361\n",
      "                     geometry\n",
      "0  POINT(30.208397 59.841993)\n",
      "169138\n",
      "                     geometry\n",
      "0  POINT(30.339404 60.055205)\n",
      "169138\n",
      "                     geometry\n",
      "0  POINT(30.339404 60.055205)\n",
      "169138\n",
      "                     geometry\n",
      "0  POINT(30.339404 60.055205)\n",
      "169138\n",
      "                     geometry\n",
      "0  POINT(30.339404 60.055205)\n",
      "169138\n",
      "                     geometry\n",
      "0  POINT(30.339404 60.055205)\n",
      "169138\n",
      "                     geometry\n",
      "0  POINT(30.339404 60.055205)\n",
      "169138\n",
      "                     geometry\n",
      "0  POINT(30.339404 60.055205)\n",
      "124945\n",
      "                     geometry\n",
      "0  POINT(30.402268 60.030074)\n",
      "124945\n",
      "                     geometry\n",
      "0  POINT(30.402268 60.030074)\n",
      "124945\n",
      "                     geometry\n",
      "0  POINT(30.402268 60.030074)\n",
      "124945\n",
      "                     geometry\n",
      "0  POINT(30.402268 60.030074)\n",
      "124945\n",
      "                     geometry\n",
      "0  POINT(30.402268 60.030074)\n",
      "124945\n",
      "                     geometry\n",
      "0  POINT(30.402268 60.030074)\n",
      "124945\n",
      "                     geometry\n",
      "0  POINT(30.402268 60.030074)\n",
      "112330\n",
      "                     geometry\n",
      "0  POINT(30.244201 59.850509)\n",
      "112330\n",
      "                     geometry\n",
      "0  POINT(30.244201 59.850509)\n",
      "112330\n",
      "                     geometry\n",
      "0  POINT(30.244201 59.850509)\n",
      "112330\n",
      "                     geometry\n",
      "0  POINT(30.244201 59.850509)\n",
      "112330\n",
      "                     geometry\n",
      "0  POINT(30.244201 59.850509)\n",
      "112330\n",
      "                     geometry\n",
      "0  POINT(30.244201 59.850509)\n",
      "112330\n",
      "                     geometry\n",
      "0  POINT(30.244201 59.850509)\n",
      "142875\n",
      "                     geometry\n",
      "0  POINT(30.223512 60.027925)\n",
      "142875\n",
      "                     geometry\n",
      "0  POINT(30.223512 60.027925)\n",
      "142875\n",
      "                     geometry\n",
      "0  POINT(30.223512 60.027925)\n",
      "142875\n",
      "                     geometry\n",
      "0  POINT(30.223512 60.027925)\n",
      "142875\n",
      "                     geometry\n",
      "0  POINT(30.223512 60.027925)\n",
      "142875\n",
      "                     geometry\n",
      "0  POINT(30.223512 60.027925)\n",
      "142875\n",
      "                     geometry\n",
      "0  POINT(30.223512 60.027925)\n",
      "319575\n",
      "                     geometry\n",
      "0  POINT(30.245746 59.836581)\n",
      "319575\n",
      "                     geometry\n",
      "0  POINT(30.245746 59.836581)\n",
      "319575\n",
      "                     geometry\n",
      "0  POINT(30.245746 59.836581)\n",
      "319575\n",
      "                     geometry\n",
      "0  POINT(30.245746 59.836581)\n",
      "319575\n",
      "                     geometry\n",
      "0  POINT(30.245746 59.836581)\n",
      "319575\n",
      "                     geometry\n",
      "0  POINT(30.245746 59.836581)\n",
      "319575\n",
      "                     geometry\n",
      "0  POINT(30.245746 59.836581)\n",
      "318075\n",
      "                    geometry\n",
      "0  POINT(30.36338 60.052164)\n",
      "318075\n",
      "                    geometry\n",
      "0  POINT(30.36338 60.052164)\n",
      "318075\n",
      "                    geometry\n",
      "0  POINT(30.36338 60.052164)\n",
      "318075\n",
      "                    geometry\n",
      "0  POINT(30.36338 60.052164)\n",
      "318075\n",
      "                    geometry\n",
      "0  POINT(30.36338 60.052164)\n",
      "318075\n",
      "                    geometry\n",
      "0  POINT(30.36338 60.052164)\n",
      "318075\n",
      "                    geometry\n",
      "0  POINT(30.36338 60.052164)\n",
      "320510\n",
      "                     geometry\n",
      "0  POINT(30.177563 59.829427)\n",
      "320510\n",
      "                     geometry\n",
      "0  POINT(30.177563 59.829427)\n",
      "320510\n",
      "                     geometry\n",
      "0  POINT(30.177563 59.829427)\n",
      "320510\n",
      "                     geometry\n",
      "0  POINT(30.177563 59.829427)\n",
      "320510\n",
      "                     geometry\n",
      "0  POINT(30.177563 59.829427)\n",
      "320510\n",
      "                     geometry\n",
      "0  POINT(30.177563 59.829427)\n",
      "320510\n",
      "                     geometry\n",
      "0  POINT(30.177563 59.829427)\n",
      "319875\n",
      "                  geometry\n",
      "0  POINT(30.188514 59.989)\n",
      "319875\n",
      "                  geometry\n",
      "0  POINT(30.188514 59.989)\n",
      "319875\n",
      "                  geometry\n",
      "0  POINT(30.188514 59.989)\n",
      "319875\n",
      "                  geometry\n",
      "0  POINT(30.188514 59.989)\n",
      "319875\n",
      "                  geometry\n",
      "0  POINT(30.188514 59.989)\n",
      "319875\n",
      "                  geometry\n",
      "0  POINT(30.188514 59.989)\n",
      "319875\n",
      "                  geometry\n",
      "0  POINT(30.188514 59.989)\n",
      "191138\n",
      "                     geometry\n",
      "0  POINT(30.324097 60.031023)\n",
      "191138\n",
      "                     geometry\n",
      "0  POINT(30.324097 60.031023)\n",
      "191138\n",
      "                     geometry\n",
      "0  POINT(30.324097 60.031023)\n",
      "191138\n",
      "                     geometry\n",
      "0  POINT(30.324097 60.031023)\n",
      "191138\n",
      "                     geometry\n",
      "0  POINT(30.324097 60.031023)\n",
      "191138\n",
      "                     geometry\n",
      "0  POINT(30.324097 60.031023)\n",
      "191138\n",
      "                     geometry\n",
      "0  POINT(30.324097 60.031023)\n",
      "289361\n",
      "                     geometry\n",
      "0  POINT(30.208397 59.841993)\n",
      "289361\n",
      "                     geometry\n",
      "0  POINT(30.208397 59.841993)\n",
      "289361\n",
      "                     geometry\n",
      "0  POINT(30.208397 59.841993)\n",
      "289361\n",
      "                     geometry\n",
      "0  POINT(30.208397 59.841993)\n",
      "289361\n",
      "                     geometry\n",
      "0  POINT(30.208397 59.841993)\n",
      "289361\n",
      "                     geometry\n",
      "0  POINT(30.208397 59.841993)\n",
      "289361\n",
      "                     geometry\n",
      "0  POINT(30.208397 59.841993)\n",
      "store_21_movement_spb\n"
     ]
    },
    {
     "ename": "KeyboardInterrupt",
     "evalue": "Interrupted by user",
     "output_type": "error",
     "traceback": [
      "\u001b[0;31m---------------------------------------------------------------------------\u001b[0m",
      "\u001b[0;31mKeyboardInterrupt\u001b[0m                         Traceback (most recent call last)",
      "\u001b[0;32m/tmp/ipykernel_16915/905199206.py\u001b[0m in \u001b[0;36m<module>\u001b[0;34m\u001b[0m\n\u001b[1;32m     25\u001b[0m     \u001b[0;32mif\u001b[0m \u001b[0mr\u001b[0m\u001b[0;34m[\u001b[0m\u001b[0;36m2\u001b[0m\u001b[0;34m]\u001b[0m  \u001b[0;32min\u001b[0m \u001b[0mnew_store_zones\u001b[0m\u001b[0;34m:\u001b[0m\u001b[0;34m\u001b[0m\u001b[0;34m\u001b[0m\u001b[0m\n\u001b[1;32m     26\u001b[0m         \u001b[0mprint\u001b[0m\u001b[0;34m(\u001b[0m\u001b[0mr\u001b[0m\u001b[0;34m[\u001b[0m\u001b[0;36m0\u001b[0m\u001b[0;34m]\u001b[0m\u001b[0;34m)\u001b[0m\u001b[0;34m\u001b[0m\u001b[0;34m\u001b[0m\u001b[0m\n\u001b[0;32m---> 27\u001b[0;31m         \u001b[0mdf_stores\u001b[0m\u001b[0;34m.\u001b[0m\u001b[0mloc\u001b[0m\u001b[0;34m[\u001b[0m\u001b[0mi\u001b[0m\u001b[0;34m,\u001b[0m\u001b[0;34m'geometry_store'\u001b[0m\u001b[0;34m]\u001b[0m \u001b[0;34m=\u001b[0m \u001b[0mstore_geometry\u001b[0m\u001b[0;34m(\u001b[0m\u001b[0minput\u001b[0m\u001b[0;34m(\u001b[0m\u001b[0;34m'print new store coords with comma (no space!) like in Yandex maps'\u001b[0m\u001b[0;34m)\u001b[0m\u001b[0;34m)\u001b[0m\u001b[0;34m\u001b[0m\u001b[0;34m\u001b[0m\u001b[0m\n\u001b[0m\u001b[1;32m     28\u001b[0m         \u001b[0mdf_stores\u001b[0m\u001b[0;34m.\u001b[0m\u001b[0mloc\u001b[0m\u001b[0;34m[\u001b[0m\u001b[0mi\u001b[0m\u001b[0;34m,\u001b[0m\u001b[0;34m'store_type'\u001b[0m\u001b[0;34m]\u001b[0m\u001b[0;34m=\u001b[0m\u001b[0;34m'new'\u001b[0m\u001b[0;34m\u001b[0m\u001b[0;34m\u001b[0m\u001b[0m\n\u001b[1;32m     29\u001b[0m \u001b[0;34m\u001b[0m\u001b[0m\n",
      "\u001b[0;32m/usr/local/lib/python3.7/dist-packages/ipykernel/kernelbase.py\u001b[0m in \u001b[0;36mraw_input\u001b[0;34m(self, prompt)\u001b[0m\n\u001b[1;32m   1078\u001b[0m             \u001b[0mself\u001b[0m\u001b[0;34m.\u001b[0m\u001b[0m_parent_ident\u001b[0m\u001b[0;34m[\u001b[0m\u001b[0;34m\"shell\"\u001b[0m\u001b[0;34m]\u001b[0m\u001b[0;34m,\u001b[0m\u001b[0;34m\u001b[0m\u001b[0;34m\u001b[0m\u001b[0m\n\u001b[1;32m   1079\u001b[0m             \u001b[0mself\u001b[0m\u001b[0;34m.\u001b[0m\u001b[0mget_parent\u001b[0m\u001b[0;34m(\u001b[0m\u001b[0;34m\"shell\"\u001b[0m\u001b[0;34m)\u001b[0m\u001b[0;34m,\u001b[0m\u001b[0;34m\u001b[0m\u001b[0;34m\u001b[0m\u001b[0m\n\u001b[0;32m-> 1080\u001b[0;31m             \u001b[0mpassword\u001b[0m\u001b[0;34m=\u001b[0m\u001b[0;32mFalse\u001b[0m\u001b[0;34m,\u001b[0m\u001b[0;34m\u001b[0m\u001b[0;34m\u001b[0m\u001b[0m\n\u001b[0m\u001b[1;32m   1081\u001b[0m         )\n\u001b[1;32m   1082\u001b[0m \u001b[0;34m\u001b[0m\u001b[0m\n",
      "\u001b[0;32m/usr/local/lib/python3.7/dist-packages/ipykernel/kernelbase.py\u001b[0m in \u001b[0;36m_input_request\u001b[0;34m(self, prompt, ident, parent, password)\u001b[0m\n\u001b[1;32m   1119\u001b[0m             \u001b[0;32mexcept\u001b[0m \u001b[0mKeyboardInterrupt\u001b[0m\u001b[0;34m:\u001b[0m\u001b[0;34m\u001b[0m\u001b[0;34m\u001b[0m\u001b[0m\n\u001b[1;32m   1120\u001b[0m                 \u001b[0;31m# re-raise KeyboardInterrupt, to truncate traceback\u001b[0m\u001b[0;34m\u001b[0m\u001b[0;34m\u001b[0m\u001b[0;34m\u001b[0m\u001b[0m\n\u001b[0;32m-> 1121\u001b[0;31m                 \u001b[0;32mraise\u001b[0m \u001b[0mKeyboardInterrupt\u001b[0m\u001b[0;34m(\u001b[0m\u001b[0;34m\"Interrupted by user\"\u001b[0m\u001b[0;34m)\u001b[0m \u001b[0;32mfrom\u001b[0m \u001b[0;32mNone\u001b[0m\u001b[0;34m\u001b[0m\u001b[0;34m\u001b[0m\u001b[0m\n\u001b[0m\u001b[1;32m   1122\u001b[0m             \u001b[0;32mexcept\u001b[0m \u001b[0mException\u001b[0m\u001b[0;34m:\u001b[0m\u001b[0;34m\u001b[0m\u001b[0;34m\u001b[0m\u001b[0m\n\u001b[1;32m   1123\u001b[0m                 \u001b[0mself\u001b[0m\u001b[0;34m.\u001b[0m\u001b[0mlog\u001b[0m\u001b[0;34m.\u001b[0m\u001b[0mwarning\u001b[0m\u001b[0;34m(\u001b[0m\u001b[0;34m\"Invalid Message:\"\u001b[0m\u001b[0;34m,\u001b[0m \u001b[0mexc_info\u001b[0m\u001b[0;34m=\u001b[0m\u001b[0;32mTrue\u001b[0m\u001b[0;34m)\u001b[0m\u001b[0;34m\u001b[0m\u001b[0;34m\u001b[0m\u001b[0m\n",
      "\u001b[0;31mKeyboardInterrupt\u001b[0m: Interrupted by user"
     ]
    }
   ],
   "source": [
    "def store_geometry(input_val):\n",
    "    k=0\n",
    "    while k==0:\n",
    "        try:\n",
    "            new_coords_float = [ float (c) for c in input_val.split(',')][::-1]\n",
    "            print(new_coords_float)\n",
    "            k=1\n",
    "            return Point(new_coords_float )\n",
    "        except:\n",
    "            input_val = input('print new store coords with comma like in Yandex cards')\n",
    "            print(k)\n",
    "\n",
    "df_stores = df_scen[['store_id','scenarios','zone_id']].drop_duplicates()\n",
    "\n",
    "df_stores['geometry_store'] = None\n",
    "df_stores.reset_index(inplace=True)\n",
    "df_stores.drop(df_stores.columns[0],axis=1,inplace=True)\n",
    "df_stores['store_type']='old'\n",
    "#[df_scen.zone_id.isin(gdf_zones.zone_id.unique())]\n"
   ]
  },
  {
   "cell_type": "code",
   "execution_count": 676,
   "id": "49381702",
   "metadata": {
    "ExecuteTime": {
     "end_time": "2022-06-30T20:23:40.215744Z",
     "start_time": "2022-06-30T20:23:33.131572Z"
    },
    "scrolled": true
   },
   "outputs": [
    {
     "name": "stdout",
     "output_type": "stream",
     "text": [
      "                     geometry\n",
      "0  POINT(30.339404 60.055205)\n",
      "                     geometry\n",
      "0  POINT(30.402268 60.030074)\n",
      "                     geometry\n",
      "0  POINT(30.244201 59.850509)\n",
      "                     geometry\n",
      "0  POINT(30.223512 60.027925)\n",
      "                     geometry\n",
      "0  POINT(30.245746 59.836581)\n",
      "                    geometry\n",
      "0  POINT(30.36338 60.052164)\n",
      "                     geometry\n",
      "0  POINT(30.177563 59.829427)\n",
      "                  geometry\n",
      "0  POINT(30.188514 59.989)\n",
      "                     geometry\n",
      "0  POINT(30.324097 60.031023)\n",
      "                     geometry\n",
      "0  POINT(30.208397 59.841993)\n",
      "                     geometry\n",
      "0  POINT(30.339404 60.055205)\n",
      "                     geometry\n",
      "0  POINT(30.339404 60.055205)\n",
      "                     geometry\n",
      "0  POINT(30.339404 60.055205)\n",
      "                     geometry\n",
      "0  POINT(30.339404 60.055205)\n",
      "                     geometry\n",
      "0  POINT(30.339404 60.055205)\n",
      "                     geometry\n",
      "0  POINT(30.339404 60.055205)\n",
      "                     geometry\n",
      "0  POINT(30.339404 60.055205)\n",
      "                     geometry\n",
      "0  POINT(30.402268 60.030074)\n",
      "                     geometry\n",
      "0  POINT(30.402268 60.030074)\n",
      "                     geometry\n",
      "0  POINT(30.402268 60.030074)\n",
      "                     geometry\n",
      "0  POINT(30.402268 60.030074)\n",
      "                     geometry\n",
      "0  POINT(30.402268 60.030074)\n",
      "                     geometry\n",
      "0  POINT(30.402268 60.030074)\n",
      "                     geometry\n",
      "0  POINT(30.402268 60.030074)\n",
      "                     geometry\n",
      "0  POINT(30.244201 59.850509)\n",
      "                     geometry\n",
      "0  POINT(30.244201 59.850509)\n",
      "                     geometry\n",
      "0  POINT(30.244201 59.850509)\n",
      "                     geometry\n",
      "0  POINT(30.244201 59.850509)\n",
      "                     geometry\n",
      "0  POINT(30.244201 59.850509)\n",
      "                     geometry\n",
      "0  POINT(30.244201 59.850509)\n",
      "                     geometry\n",
      "0  POINT(30.244201 59.850509)\n",
      "                     geometry\n",
      "0  POINT(30.223512 60.027925)\n",
      "                     geometry\n",
      "0  POINT(30.223512 60.027925)\n",
      "                     geometry\n",
      "0  POINT(30.223512 60.027925)\n",
      "                     geometry\n",
      "0  POINT(30.223512 60.027925)\n",
      "                     geometry\n",
      "0  POINT(30.223512 60.027925)\n",
      "                     geometry\n",
      "0  POINT(30.223512 60.027925)\n",
      "                     geometry\n",
      "0  POINT(30.223512 60.027925)\n",
      "                     geometry\n",
      "0  POINT(30.245746 59.836581)\n",
      "                     geometry\n",
      "0  POINT(30.245746 59.836581)\n",
      "                     geometry\n",
      "0  POINT(30.245746 59.836581)\n",
      "                     geometry\n",
      "0  POINT(30.245746 59.836581)\n",
      "                     geometry\n",
      "0  POINT(30.245746 59.836581)\n",
      "                     geometry\n",
      "0  POINT(30.245746 59.836581)\n",
      "                     geometry\n",
      "0  POINT(30.245746 59.836581)\n",
      "                    geometry\n",
      "0  POINT(30.36338 60.052164)\n",
      "                    geometry\n",
      "0  POINT(30.36338 60.052164)\n",
      "                    geometry\n",
      "0  POINT(30.36338 60.052164)\n",
      "                    geometry\n",
      "0  POINT(30.36338 60.052164)\n",
      "                    geometry\n",
      "0  POINT(30.36338 60.052164)\n",
      "                    geometry\n",
      "0  POINT(30.36338 60.052164)\n",
      "                    geometry\n",
      "0  POINT(30.36338 60.052164)\n",
      "                     geometry\n",
      "0  POINT(30.177563 59.829427)\n",
      "                     geometry\n",
      "0  POINT(30.177563 59.829427)\n",
      "                     geometry\n",
      "0  POINT(30.177563 59.829427)\n",
      "                     geometry\n",
      "0  POINT(30.177563 59.829427)\n",
      "                     geometry\n",
      "0  POINT(30.177563 59.829427)\n",
      "                     geometry\n",
      "0  POINT(30.177563 59.829427)\n",
      "                     geometry\n",
      "0  POINT(30.177563 59.829427)\n",
      "                  geometry\n",
      "0  POINT(30.188514 59.989)\n",
      "                  geometry\n",
      "0  POINT(30.188514 59.989)\n",
      "                  geometry\n",
      "0  POINT(30.188514 59.989)\n",
      "                  geometry\n",
      "0  POINT(30.188514 59.989)\n",
      "                  geometry\n",
      "0  POINT(30.188514 59.989)\n",
      "                  geometry\n",
      "0  POINT(30.188514 59.989)\n",
      "                  geometry\n",
      "0  POINT(30.188514 59.989)\n",
      "                     geometry\n",
      "0  POINT(30.324097 60.031023)\n",
      "                     geometry\n",
      "0  POINT(30.324097 60.031023)\n",
      "                     geometry\n",
      "0  POINT(30.324097 60.031023)\n",
      "                     geometry\n",
      "0  POINT(30.324097 60.031023)\n",
      "                     geometry\n",
      "0  POINT(30.324097 60.031023)\n",
      "                     geometry\n",
      "0  POINT(30.324097 60.031023)\n",
      "                     geometry\n",
      "0  POINT(30.324097 60.031023)\n",
      "                     geometry\n",
      "0  POINT(30.208397 59.841993)\n",
      "                     geometry\n",
      "0  POINT(30.208397 59.841993)\n",
      "                     geometry\n",
      "0  POINT(30.208397 59.841993)\n",
      "                     geometry\n",
      "0  POINT(30.208397 59.841993)\n",
      "                     geometry\n",
      "0  POINT(30.208397 59.841993)\n",
      "                     geometry\n",
      "0  POINT(30.208397 59.841993)\n",
      "                     geometry\n",
      "0  POINT(30.208397 59.841993)\n"
     ]
    }
   ],
   "source": [
    "for i, r in df_stores[['store_id','scenarios','zone_id']].iterrows():\n",
    "    \n",
    "#     flg_new = int(input('store =' + r[0]+' '+ r[1]+'- print 1 if new store 0 otherwise'))\n",
    "    \n",
    "#     if flg_new==1:\n",
    "    if r[2]  not in new_store_zones:\n",
    "#         print(r[0])\n",
    "#         df_stores.loc[i,'geometry_store'] = store_geometry(input('print new store coords with comma (no space!) like in Yandex maps'))\n",
    "#         df_stores.loc[i,'store_type']='new'\n",
    "    \n",
    "#     else:\n",
    "#         print(r[0])\n",
    "        v = greenplum(\"\"\"\n",
    "        select st_astext(geometry) as geometry\n",
    "        from snb_geo_lavka.lavka_stores \n",
    "where status='active' and external_id='{}' limit 1\"\"\".format(df_stores.loc[i,'store_id']))\n",
    "        print(v)\n",
    "        df_stores.loc[i,'geometry_store']= v.loc[0,'geometry']\n",
    "        \n",
    "df_scen_ok=df_scen.merge(df_stores, on=['store_id','scenarios']).sort_values('scenarios')"
   ]
  },
  {
   "cell_type": "code",
   "execution_count": 678,
   "id": "1e9456d3",
   "metadata": {
    "ExecuteTime": {
     "end_time": "2022-06-30T20:24:55.514994Z",
     "start_time": "2022-06-30T20:24:55.314380Z"
    }
   },
   "outputs": [],
   "source": [
    "df_stores_db = greenplum(\"\"\"select p.id, st_astext(p.geometry) from snb_geo_lavka.spb_points_suggest p\n",
    "join snb_geo_lavka.spb_zones_suggest using (id)\n",
    "where type='movement'\"\"\")"
   ]
  },
  {
   "cell_type": "code",
   "execution_count": 679,
   "id": "e56f2c67",
   "metadata": {
    "ExecuteTime": {
     "end_time": "2022-06-30T20:26:03.275287Z",
     "start_time": "2022-06-30T20:26:03.270094Z"
    }
   },
   "outputs": [],
   "source": [
    "df_stores_db['store_id']='store_'+df_stores_db['id']+'_movement_spb'"
   ]
  },
  {
   "cell_type": "code",
   "execution_count": 685,
   "id": "6be3f55d",
   "metadata": {
    "ExecuteTime": {
     "end_time": "2022-06-30T20:28:10.163188Z",
     "start_time": "2022-06-30T20:28:10.156104Z"
    }
   },
   "outputs": [],
   "source": [
    "df_stores_raw = df_stores.merge(df_stores_db,on='store_id', how='left')"
   ]
  },
  {
   "cell_type": "code",
   "execution_count": 688,
   "id": "66256a79",
   "metadata": {
    "ExecuteTime": {
     "end_time": "2022-06-30T20:28:55.989850Z",
     "start_time": "2022-06-30T20:28:55.984475Z"
    },
    "scrolled": true
   },
   "outputs": [],
   "source": [
    "df_stores_raw.loc[pd.isnull(df_stores_raw['geometry_store']),'store_type']='new'"
   ]
  },
  {
   "cell_type": "code",
   "execution_count": 690,
   "id": "d7439be7",
   "metadata": {
    "ExecuteTime": {
     "end_time": "2022-06-30T20:29:52.604994Z",
     "start_time": "2022-06-30T20:29:52.598291Z"
    }
   },
   "outputs": [],
   "source": [
    "df_stores_raw.loc[pd.isnull(df_stores_raw['geometry_store']),'geometry_store']=df_stores_raw.loc[pd.isnull(df_stores_raw['geometry_store']),'st_astext']"
   ]
  },
  {
   "cell_type": "code",
   "execution_count": 691,
   "id": "795f2d3d",
   "metadata": {
    "ExecuteTime": {
     "end_time": "2022-06-30T20:30:01.881992Z",
     "start_time": "2022-06-30T20:30:01.862383Z"
    }
   },
   "outputs": [
    {
     "data": {
      "text/html": [
       "<div>\n",
       "<style scoped>\n",
       "    .dataframe tbody tr th:only-of-type {\n",
       "        vertical-align: middle;\n",
       "    }\n",
       "\n",
       "    .dataframe tbody tr th {\n",
       "        vertical-align: top;\n",
       "    }\n",
       "\n",
       "    .dataframe thead th {\n",
       "        text-align: right;\n",
       "    }\n",
       "</style>\n",
       "<table border=\"1\" class=\"dataframe\">\n",
       "  <thead>\n",
       "    <tr style=\"text-align: right;\">\n",
       "      <th></th>\n",
       "      <th>store_id</th>\n",
       "      <th>scenarios</th>\n",
       "      <th>zone_id</th>\n",
       "      <th>geometry_store</th>\n",
       "      <th>store_type</th>\n",
       "      <th>id</th>\n",
       "      <th>st_astext</th>\n",
       "    </tr>\n",
       "  </thead>\n",
       "  <tbody>\n",
       "    <tr>\n",
       "      <th>0</th>\n",
       "      <td>169138</td>\n",
       "      <td>Сценарий 1: ASIS</td>\n",
       "      <td>169138_foot</td>\n",
       "      <td>POINT(30.339404 60.055205)</td>\n",
       "      <td>old</td>\n",
       "      <td>NaN</td>\n",
       "      <td>NaN</td>\n",
       "    </tr>\n",
       "    <tr>\n",
       "      <th>1</th>\n",
       "      <td>124945</td>\n",
       "      <td>Сценарий 1: ASIS</td>\n",
       "      <td>124945_foot</td>\n",
       "      <td>POINT(30.402268 60.030074)</td>\n",
       "      <td>old</td>\n",
       "      <td>NaN</td>\n",
       "      <td>NaN</td>\n",
       "    </tr>\n",
       "    <tr>\n",
       "      <th>2</th>\n",
       "      <td>112330</td>\n",
       "      <td>Сценарий 1: ASIS</td>\n",
       "      <td>112330_foot</td>\n",
       "      <td>POINT(30.244201 59.850509)</td>\n",
       "      <td>old</td>\n",
       "      <td>NaN</td>\n",
       "      <td>NaN</td>\n",
       "    </tr>\n",
       "    <tr>\n",
       "      <th>3</th>\n",
       "      <td>142875</td>\n",
       "      <td>Сценарий 1: ASIS</td>\n",
       "      <td>142875_foot</td>\n",
       "      <td>POINT(30.223512 60.027925)</td>\n",
       "      <td>old</td>\n",
       "      <td>NaN</td>\n",
       "      <td>NaN</td>\n",
       "    </tr>\n",
       "    <tr>\n",
       "      <th>4</th>\n",
       "      <td>319575</td>\n",
       "      <td>Сценарий 1: ASIS</td>\n",
       "      <td>319575_foot</td>\n",
       "      <td>POINT(30.245746 59.836581)</td>\n",
       "      <td>old</td>\n",
       "      <td>NaN</td>\n",
       "      <td>NaN</td>\n",
       "    </tr>\n",
       "    <tr>\n",
       "      <th>...</th>\n",
       "      <td>...</td>\n",
       "      <td>...</td>\n",
       "      <td>...</td>\n",
       "      <td>...</td>\n",
       "      <td>...</td>\n",
       "      <td>...</td>\n",
       "      <td>...</td>\n",
       "    </tr>\n",
       "    <tr>\n",
       "      <th>82</th>\n",
       "      <td>store_18_movement_spb</td>\n",
       "      <td>Сценарий 6: 18_movement_spb</td>\n",
       "      <td>18_movement_spb</td>\n",
       "      <td>POINT(30.2135184495179 59.8328666978237)</td>\n",
       "      <td>new</td>\n",
       "      <td>18</td>\n",
       "      <td>POINT(30.2135184495179 59.8328666978237)</td>\n",
       "    </tr>\n",
       "    <tr>\n",
       "      <th>83</th>\n",
       "      <td>store_19_movement_spb</td>\n",
       "      <td>Сценарий 5: 19_movement_spb</td>\n",
       "      <td>19_movement_spb</td>\n",
       "      <td>POINT(30.2569700868634 59.8500761389124)</td>\n",
       "      <td>new</td>\n",
       "      <td>19</td>\n",
       "      <td>POINT(30.2569700868634 59.8500761389124)</td>\n",
       "    </tr>\n",
       "    <tr>\n",
       "      <th>84</th>\n",
       "      <td>store_23_movement_spb</td>\n",
       "      <td>Сценарий 4: 23_movement_spb</td>\n",
       "      <td>23_movement_spb</td>\n",
       "      <td>POINT(30.3167453141471 60.053502565082)</td>\n",
       "      <td>new</td>\n",
       "      <td>23</td>\n",
       "      <td>POINT(30.3167453141471 60.053502565082)</td>\n",
       "    </tr>\n",
       "    <tr>\n",
       "      <th>85</th>\n",
       "      <td>store_20_movement_spb</td>\n",
       "      <td>Сценарий 2: 20_movement_spb</td>\n",
       "      <td>20_movement_spb</td>\n",
       "      <td>POINT(30.3317629886821 60.0348045825127)</td>\n",
       "      <td>new</td>\n",
       "      <td>20</td>\n",
       "      <td>POINT(30.3317629886821 60.0348045825127)</td>\n",
       "    </tr>\n",
       "    <tr>\n",
       "      <th>86</th>\n",
       "      <td>store_22_movement_spb</td>\n",
       "      <td>Сценарий 7: 22_movement_spb</td>\n",
       "      <td>22_movement_spb</td>\n",
       "      <td>POINT(30.2043503300176 59.9873262884873)</td>\n",
       "      <td>new</td>\n",
       "      <td>22</td>\n",
       "      <td>POINT(30.2043503300176 59.9873262884873)</td>\n",
       "    </tr>\n",
       "  </tbody>\n",
       "</table>\n",
       "<p>87 rows × 7 columns</p>\n",
       "</div>"
      ],
      "text/plain": [
       "                 store_id                    scenarios          zone_id  \\\n",
       "0                  169138             Сценарий 1: ASIS      169138_foot   \n",
       "1                  124945             Сценарий 1: ASIS      124945_foot   \n",
       "2                  112330             Сценарий 1: ASIS      112330_foot   \n",
       "3                  142875             Сценарий 1: ASIS      142875_foot   \n",
       "4                  319575             Сценарий 1: ASIS      319575_foot   \n",
       "..                    ...                          ...              ...   \n",
       "82  store_18_movement_spb  Сценарий 6: 18_movement_spb  18_movement_spb   \n",
       "83  store_19_movement_spb  Сценарий 5: 19_movement_spb  19_movement_spb   \n",
       "84  store_23_movement_spb  Сценарий 4: 23_movement_spb  23_movement_spb   \n",
       "85  store_20_movement_spb  Сценарий 2: 20_movement_spb  20_movement_spb   \n",
       "86  store_22_movement_spb  Сценарий 7: 22_movement_spb  22_movement_spb   \n",
       "\n",
       "                              geometry_store store_type   id  \\\n",
       "0                 POINT(30.339404 60.055205)        old  NaN   \n",
       "1                 POINT(30.402268 60.030074)        old  NaN   \n",
       "2                 POINT(30.244201 59.850509)        old  NaN   \n",
       "3                 POINT(30.223512 60.027925)        old  NaN   \n",
       "4                 POINT(30.245746 59.836581)        old  NaN   \n",
       "..                                       ...        ...  ...   \n",
       "82  POINT(30.2135184495179 59.8328666978237)        new   18   \n",
       "83  POINT(30.2569700868634 59.8500761389124)        new   19   \n",
       "84   POINT(30.3167453141471 60.053502565082)        new   23   \n",
       "85  POINT(30.3317629886821 60.0348045825127)        new   20   \n",
       "86  POINT(30.2043503300176 59.9873262884873)        new   22   \n",
       "\n",
       "                                   st_astext  \n",
       "0                                        NaN  \n",
       "1                                        NaN  \n",
       "2                                        NaN  \n",
       "3                                        NaN  \n",
       "4                                        NaN  \n",
       "..                                       ...  \n",
       "82  POINT(30.2135184495179 59.8328666978237)  \n",
       "83  POINT(30.2569700868634 59.8500761389124)  \n",
       "84   POINT(30.3167453141471 60.053502565082)  \n",
       "85  POINT(30.3317629886821 60.0348045825127)  \n",
       "86  POINT(30.2043503300176 59.9873262884873)  \n",
       "\n",
       "[87 rows x 7 columns]"
      ]
     },
     "execution_count": 691,
     "metadata": {},
     "output_type": "execute_result"
    }
   ],
   "source": [
    "df_stores_raw"
   ]
  },
  {
   "cell_type": "code",
   "execution_count": 696,
   "id": "52aca297",
   "metadata": {
    "ExecuteTime": {
     "end_time": "2022-06-30T20:36:39.744531Z",
     "start_time": "2022-06-30T20:36:39.734302Z"
    },
    "scrolled": true
   },
   "outputs": [],
   "source": [
    "df_scen_ok=df_scen.merge(df_stores_raw, on=['store_id','zone_id','scenarios']).sort_values('scenarios')"
   ]
  },
  {
   "cell_type": "code",
   "execution_count": 697,
   "id": "28bcf9b8",
   "metadata": {
    "ExecuteTime": {
     "end_time": "2022-06-30T20:36:43.794547Z",
     "start_time": "2022-06-30T20:36:43.771319Z"
    }
   },
   "outputs": [
    {
     "data": {
      "text/html": [
       "<div>\n",
       "<style scoped>\n",
       "    .dataframe tbody tr th:only-of-type {\n",
       "        vertical-align: middle;\n",
       "    }\n",
       "\n",
       "    .dataframe tbody tr th {\n",
       "        vertical-align: top;\n",
       "    }\n",
       "\n",
       "    .dataframe thead th {\n",
       "        text-align: right;\n",
       "    }\n",
       "</style>\n",
       "<table border=\"1\" class=\"dataframe\">\n",
       "  <thead>\n",
       "    <tr style=\"text-align: right;\">\n",
       "      <th></th>\n",
       "      <th>zone_id</th>\n",
       "      <th>scenarios</th>\n",
       "      <th>upload_dt</th>\n",
       "      <th>geometry</th>\n",
       "      <th>geometry_wkb</th>\n",
       "      <th>case</th>\n",
       "      <th>courier_type_hist</th>\n",
       "      <th>courier_type_predict</th>\n",
       "      <th>store_id</th>\n",
       "      <th>geometry_store</th>\n",
       "      <th>store_type</th>\n",
       "      <th>id</th>\n",
       "      <th>st_astext</th>\n",
       "    </tr>\n",
       "  </thead>\n",
       "  <tbody>\n",
       "    <tr>\n",
       "      <th>0</th>\n",
       "      <td>169138_foot</td>\n",
       "      <td>Сценарий 1: ASIS</td>\n",
       "      <td>2022-06-29 16:33:06.472468</td>\n",
       "      <td>POLYGON ((30.313466 60.056027, 30.314822313005...</td>\n",
       "      <td>None</td>\n",
       "      <td>movement_spb</td>\n",
       "      <td>foot</td>\n",
       "      <td>foot</td>\n",
       "      <td>169138</td>\n",
       "      <td>POINT(30.339404 60.055205)</td>\n",
       "      <td>old</td>\n",
       "      <td>NaN</td>\n",
       "      <td>NaN</td>\n",
       "    </tr>\n",
       "    <tr>\n",
       "      <th>9</th>\n",
       "      <td>289361_foot</td>\n",
       "      <td>Сценарий 1: ASIS</td>\n",
       "      <td>2022-06-29 16:33:06.472468</td>\n",
       "      <td>POLYGON ((30.2211483273051 59.8473109878627, 3...</td>\n",
       "      <td>None</td>\n",
       "      <td>movement_spb</td>\n",
       "      <td>foot</td>\n",
       "      <td>foot</td>\n",
       "      <td>289361</td>\n",
       "      <td>POINT(30.208397 59.841993)</td>\n",
       "      <td>old</td>\n",
       "      <td>NaN</td>\n",
       "      <td>NaN</td>\n",
       "    </tr>\n",
       "    <tr>\n",
       "      <th>7</th>\n",
       "      <td>319875_foot</td>\n",
       "      <td>Сценарий 1: ASIS</td>\n",
       "      <td>2022-06-29 16:33:06.472468</td>\n",
       "      <td>POLYGON ((30.186583 59.986785, 30.189791 59.98...</td>\n",
       "      <td>None</td>\n",
       "      <td>movement_spb</td>\n",
       "      <td>foot</td>\n",
       "      <td>foot</td>\n",
       "      <td>319875</td>\n",
       "      <td>POINT(30.188514 59.989)</td>\n",
       "      <td>old</td>\n",
       "      <td>NaN</td>\n",
       "      <td>NaN</td>\n",
       "    </tr>\n",
       "    <tr>\n",
       "      <th>6</th>\n",
       "      <td>320510_foot</td>\n",
       "      <td>Сценарий 1: ASIS</td>\n",
       "      <td>2022-06-29 16:33:06.472468</td>\n",
       "      <td>POLYGON ((30.158267 59.846528, 30.157747 59.83...</td>\n",
       "      <td>None</td>\n",
       "      <td>movement_spb</td>\n",
       "      <td>foot</td>\n",
       "      <td>foot</td>\n",
       "      <td>320510</td>\n",
       "      <td>POINT(30.177563 59.829427)</td>\n",
       "      <td>old</td>\n",
       "      <td>NaN</td>\n",
       "      <td>NaN</td>\n",
       "    </tr>\n",
       "    <tr>\n",
       "      <th>5</th>\n",
       "      <td>318075_foot</td>\n",
       "      <td>Сценарий 1: ASIS</td>\n",
       "      <td>2022-06-29 16:33:06.472468</td>\n",
       "      <td>POLYGON ((30.386522 60.04235, 30.393287 60.050...</td>\n",
       "      <td>None</td>\n",
       "      <td>movement_spb</td>\n",
       "      <td>foot</td>\n",
       "      <td>foot</td>\n",
       "      <td>318075</td>\n",
       "      <td>POINT(30.36338 60.052164)</td>\n",
       "      <td>old</td>\n",
       "      <td>NaN</td>\n",
       "      <td>NaN</td>\n",
       "    </tr>\n",
       "    <tr>\n",
       "      <th>...</th>\n",
       "      <td>...</td>\n",
       "      <td>...</td>\n",
       "      <td>...</td>\n",
       "      <td>...</td>\n",
       "      <td>...</td>\n",
       "      <td>...</td>\n",
       "      <td>...</td>\n",
       "      <td>...</td>\n",
       "      <td>...</td>\n",
       "      <td>...</td>\n",
       "      <td>...</td>\n",
       "      <td>...</td>\n",
       "      <td>...</td>\n",
       "    </tr>\n",
       "    <tr>\n",
       "      <th>23</th>\n",
       "      <td>124945_foot</td>\n",
       "      <td>Сценарий 8: 17_movement_spb</td>\n",
       "      <td>2022-06-29 16:33:06.472468</td>\n",
       "      <td>POLYGON ((30.4103017403901 60.0256494626413, 3...</td>\n",
       "      <td>None</td>\n",
       "      <td>movement_spb</td>\n",
       "      <td>foot</td>\n",
       "      <td>foot</td>\n",
       "      <td>124945</td>\n",
       "      <td>POINT(30.402268 60.030074)</td>\n",
       "      <td>old</td>\n",
       "      <td>NaN</td>\n",
       "      <td>NaN</td>\n",
       "    </tr>\n",
       "    <tr>\n",
       "      <th>81</th>\n",
       "      <td>17_movement_spb</td>\n",
       "      <td>Сценарий 8: 17_movement_spb</td>\n",
       "      <td>2022-06-29 16:32:27.152904</td>\n",
       "      <td>POLYGON((30.23731 60.043354,30.243177 60.03902...</td>\n",
       "      <td>None</td>\n",
       "      <td>movement_spb</td>\n",
       "      <td>foot</td>\n",
       "      <td>foot</td>\n",
       "      <td>store_17_movement_spb</td>\n",
       "      <td>POINT(30.2250035173419 60.0355372618534)</td>\n",
       "      <td>new</td>\n",
       "      <td>17</td>\n",
       "      <td>POINT(30.2250035173419 60.0355372618534)</td>\n",
       "    </tr>\n",
       "    <tr>\n",
       "      <th>16</th>\n",
       "      <td>169138_foot</td>\n",
       "      <td>Сценарий 8: 17_movement_spb</td>\n",
       "      <td>2022-06-29 16:33:06.472468</td>\n",
       "      <td>POLYGON ((30.313466 60.056027, 30.314822313005...</td>\n",
       "      <td>None</td>\n",
       "      <td>movement_spb</td>\n",
       "      <td>foot</td>\n",
       "      <td>foot</td>\n",
       "      <td>169138</td>\n",
       "      <td>POINT(30.339404 60.055205)</td>\n",
       "      <td>old</td>\n",
       "      <td>NaN</td>\n",
       "      <td>NaN</td>\n",
       "    </tr>\n",
       "    <tr>\n",
       "      <th>58</th>\n",
       "      <td>320510_foot</td>\n",
       "      <td>Сценарий 8: 17_movement_spb</td>\n",
       "      <td>2022-06-29 16:33:06.472468</td>\n",
       "      <td>POLYGON ((30.158267 59.846528, 30.157747 59.83...</td>\n",
       "      <td>None</td>\n",
       "      <td>movement_spb</td>\n",
       "      <td>foot</td>\n",
       "      <td>foot</td>\n",
       "      <td>320510</td>\n",
       "      <td>POINT(30.177563 59.829427)</td>\n",
       "      <td>old</td>\n",
       "      <td>NaN</td>\n",
       "      <td>NaN</td>\n",
       "    </tr>\n",
       "    <tr>\n",
       "      <th>30</th>\n",
       "      <td>112330_foot</td>\n",
       "      <td>Сценарий 8: 17_movement_spb</td>\n",
       "      <td>2022-06-29 16:33:06.472468</td>\n",
       "      <td>POLYGON ((30.235066 59.851522, 30.242858 59.85...</td>\n",
       "      <td>None</td>\n",
       "      <td>movement_spb</td>\n",
       "      <td>foot</td>\n",
       "      <td>foot</td>\n",
       "      <td>112330</td>\n",
       "      <td>POINT(30.244201 59.850509)</td>\n",
       "      <td>old</td>\n",
       "      <td>NaN</td>\n",
       "      <td>NaN</td>\n",
       "    </tr>\n",
       "  </tbody>\n",
       "</table>\n",
       "<p>87 rows × 13 columns</p>\n",
       "</div>"
      ],
      "text/plain": [
       "            zone_id                    scenarios                  upload_dt  \\\n",
       "0       169138_foot             Сценарий 1: ASIS 2022-06-29 16:33:06.472468   \n",
       "9       289361_foot             Сценарий 1: ASIS 2022-06-29 16:33:06.472468   \n",
       "7       319875_foot             Сценарий 1: ASIS 2022-06-29 16:33:06.472468   \n",
       "6       320510_foot             Сценарий 1: ASIS 2022-06-29 16:33:06.472468   \n",
       "5       318075_foot             Сценарий 1: ASIS 2022-06-29 16:33:06.472468   \n",
       "..              ...                          ...                        ...   \n",
       "23      124945_foot  Сценарий 8: 17_movement_spb 2022-06-29 16:33:06.472468   \n",
       "81  17_movement_spb  Сценарий 8: 17_movement_spb 2022-06-29 16:32:27.152904   \n",
       "16      169138_foot  Сценарий 8: 17_movement_spb 2022-06-29 16:33:06.472468   \n",
       "58      320510_foot  Сценарий 8: 17_movement_spb 2022-06-29 16:33:06.472468   \n",
       "30      112330_foot  Сценарий 8: 17_movement_spb 2022-06-29 16:33:06.472468   \n",
       "\n",
       "                                             geometry geometry_wkb  \\\n",
       "0   POLYGON ((30.313466 60.056027, 30.314822313005...         None   \n",
       "9   POLYGON ((30.2211483273051 59.8473109878627, 3...         None   \n",
       "7   POLYGON ((30.186583 59.986785, 30.189791 59.98...         None   \n",
       "6   POLYGON ((30.158267 59.846528, 30.157747 59.83...         None   \n",
       "5   POLYGON ((30.386522 60.04235, 30.393287 60.050...         None   \n",
       "..                                                ...          ...   \n",
       "23  POLYGON ((30.4103017403901 60.0256494626413, 3...         None   \n",
       "81  POLYGON((30.23731 60.043354,30.243177 60.03902...         None   \n",
       "16  POLYGON ((30.313466 60.056027, 30.314822313005...         None   \n",
       "58  POLYGON ((30.158267 59.846528, 30.157747 59.83...         None   \n",
       "30  POLYGON ((30.235066 59.851522, 30.242858 59.85...         None   \n",
       "\n",
       "            case courier_type_hist courier_type_predict  \\\n",
       "0   movement_spb              foot                 foot   \n",
       "9   movement_spb              foot                 foot   \n",
       "7   movement_spb              foot                 foot   \n",
       "6   movement_spb              foot                 foot   \n",
       "5   movement_spb              foot                 foot   \n",
       "..           ...               ...                  ...   \n",
       "23  movement_spb              foot                 foot   \n",
       "81  movement_spb              foot                 foot   \n",
       "16  movement_spb              foot                 foot   \n",
       "58  movement_spb              foot                 foot   \n",
       "30  movement_spb              foot                 foot   \n",
       "\n",
       "                 store_id                            geometry_store  \\\n",
       "0                  169138                POINT(30.339404 60.055205)   \n",
       "9                  289361                POINT(30.208397 59.841993)   \n",
       "7                  319875                   POINT(30.188514 59.989)   \n",
       "6                  320510                POINT(30.177563 59.829427)   \n",
       "5                  318075                 POINT(30.36338 60.052164)   \n",
       "..                    ...                                       ...   \n",
       "23                 124945                POINT(30.402268 60.030074)   \n",
       "81  store_17_movement_spb  POINT(30.2250035173419 60.0355372618534)   \n",
       "16                 169138                POINT(30.339404 60.055205)   \n",
       "58                 320510                POINT(30.177563 59.829427)   \n",
       "30                 112330                POINT(30.244201 59.850509)   \n",
       "\n",
       "   store_type   id                                 st_astext  \n",
       "0         old  NaN                                       NaN  \n",
       "9         old  NaN                                       NaN  \n",
       "7         old  NaN                                       NaN  \n",
       "6         old  NaN                                       NaN  \n",
       "5         old  NaN                                       NaN  \n",
       "..        ...  ...                                       ...  \n",
       "23        old  NaN                                       NaN  \n",
       "81        new   17  POINT(30.2250035173419 60.0355372618534)  \n",
       "16        old  NaN                                       NaN  \n",
       "58        old  NaN                                       NaN  \n",
       "30        old  NaN                                       NaN  \n",
       "\n",
       "[87 rows x 13 columns]"
      ]
     },
     "execution_count": 697,
     "metadata": {},
     "output_type": "execute_result"
    }
   ],
   "source": [
    "df_scen_ok"
   ]
  },
  {
   "cell_type": "code",
   "execution_count": 698,
   "id": "9140e678",
   "metadata": {
    "ExecuteTime": {
     "end_time": "2022-06-30T20:36:58.593337Z",
     "start_time": "2022-06-30T20:36:47.783400Z"
    },
    "scrolled": true
   },
   "outputs": [
    {
     "name": "stdout",
     "output_type": "stream",
     "text": [
      "            zone_id               store_id store_type  \\\n",
      "0       169138_foot                 169138        old   \n",
      "9       289361_foot                 289361        old   \n",
      "7       319875_foot                 319875        old   \n",
      "6       320510_foot                 320510        old   \n",
      "5       318075_foot                 318075        old   \n",
      "..              ...                    ...        ...   \n",
      "23      124945_foot                 124945        old   \n",
      "81  17_movement_spb  store_17_movement_spb        new   \n",
      "16      169138_foot                 169138        old   \n",
      "58      320510_foot                 320510        old   \n",
      "30      112330_foot                 112330        old   \n",
      "\n",
      "                                    geometry geometry_wkb  \n",
      "0                 POINT(30.339404 60.055205)         None  \n",
      "9                 POINT(30.208397 59.841993)         None  \n",
      "7                    POINT(30.188514 59.989)         None  \n",
      "6                 POINT(30.177563 59.829427)         None  \n",
      "5                  POINT(30.36338 60.052164)         None  \n",
      "..                                       ...          ...  \n",
      "23                POINT(30.402268 60.030074)         None  \n",
      "81  POINT(30.2250035173419 60.0355372618534)         None  \n",
      "16                POINT(30.339404 60.055205)         None  \n",
      "58                POINT(30.177563 59.829427)         None  \n",
      "30                POINT(30.244201 59.850509)         None  \n",
      "\n",
      "[87 rows x 5 columns]\n",
      "success\n"
     ]
    }
   ],
   "source": [
    "\n",
    "gdf_stores = df_scen_ok[['zone_id', 'store_id','store_type','geometry_store']].dropna()\n",
    "gdf_stores['geometry_wkb']=None\n",
    "gdf_stores.rename(columns={'geometry_store':'geometry'}, inplace=True)\n",
    "print(gdf_stores)\n",
    "for n, r in gdf_stores.iterrows():\n",
    "    greenplum(\"\"\"delete from snb_geo_lavka.iat_zones_stores_geometry where zone_id='{}' \"\"\".format(r['zone_id']))\n",
    "\n",
    "greenplum.write(gdf_stores, 'snb_geo_lavka.iat_zones_stores_geometry', if_exists='append')\n",
    "print('success')"
   ]
  },
  {
   "cell_type": "markdown",
   "id": "49818fef",
   "metadata": {},
   "source": [
    "____________"
   ]
  },
  {
   "cell_type": "markdown",
   "id": "a1189afe",
   "metadata": {},
   "source": [
    "### Здесь конец. Дальше делаем карту для финансов и развития, чтобы были видны новые границы зон"
   ]
  },
  {
   "cell_type": "code",
   "execution_count": 515,
   "id": "10cd1e72",
   "metadata": {
    "ExecuteTime": {
     "end_time": "2022-05-23T09:58:13.171677Z",
     "start_time": "2022-05-23T09:58:13.168056Z"
    }
   },
   "outputs": [],
   "source": [
    "del case_name"
   ]
  },
  {
   "cell_type": "code",
   "execution_count": 537,
   "id": "8a66ecd0",
   "metadata": {
    "ExecuteTime": {
     "end_time": "2022-06-16T16:29:27.584627Z",
     "start_time": "2022-06-16T16:29:26.615401Z"
    },
    "scrolled": true
   },
   "outputs": [
    {
     "name": "stdout",
     "output_type": "stream",
     "text": [
      "case nameo4akovskaya\n"
     ]
    }
   ],
   "source": [
    "try:\n",
    "    case_scen = case_name\n",
    "except:\n",
    "    case_scen=input('case name')\n",
    "df_scen_new = greenplum(\"\"\"select * from snb_geo_lavka.iat_cases_scenarios_predict_metadata \n",
    "where \"case\" ='{}' \"\"\".format(case_scen))"
   ]
  },
  {
   "cell_type": "code",
   "execution_count": 538,
   "id": "6161763a",
   "metadata": {
    "ExecuteTime": {
     "end_time": "2022-06-16T16:29:30.912286Z",
     "start_time": "2022-06-16T16:29:30.907201Z"
    }
   },
   "outputs": [
    {
     "data": {
      "text/plain": [
       "'o4akovskaya'"
      ]
     },
     "execution_count": 538,
     "metadata": {},
     "output_type": "execute_result"
    }
   ],
   "source": [
    "case_scen"
   ]
  },
  {
   "cell_type": "code",
   "execution_count": 539,
   "id": "777cb365",
   "metadata": {
    "ExecuteTime": {
     "end_time": "2022-06-16T16:29:32.066735Z",
     "start_time": "2022-06-16T16:29:31.325282Z"
    }
   },
   "outputs": [],
   "source": [
    "df_scen_new_geo = greenplum(\"\"\"select distinct t.*, zp.geometry as geometry_zone, zs.geometry as geometry_store,z.title from snb_geo_lavka.iat_cases_scenarios_predict_metadata  t\n",
    "\n",
    "join snb_geo_lavka.iat_zones2predict  zp\n",
    "    using(zone_id)\n",
    "join snb_geo_lavka.iat_zones_stores_geometry zs \n",
    "    using(zone_id)\n",
    "left join (\n",
    "    select z.title,z.external_id, z.delivery_type\n",
    "    from snb_geo_lavka.lavka_zones z\n",
    "    join snb_geo_lavka.lavka_stores using (store_id)\n",
    "    where z.status_zone='active' and status='active' and (delivery_type='foot' or delivery_type='yandex_taxi') \n",
    ") z \n",
    "    on z.external_id = t.store_id\n",
    "\n",
    "where \"case\" ='{}'\n",
    "\"\"\".format(case_scen))"
   ]
  },
  {
   "cell_type": "code",
   "execution_count": 540,
   "id": "87a8a485",
   "metadata": {
    "ExecuteTime": {
     "end_time": "2022-06-16T16:29:32.076259Z",
     "start_time": "2022-06-16T16:29:32.069550Z"
    }
   },
   "outputs": [],
   "source": [
    "df_scen_new_geo['zone_name'] = df_scen_new_geo[['zone_id','store_id','title']].apply(lambda r: r['zone_id'] if pd.isnull(r.title) else r['zone_id'].replace(r['store_id'],r['title']) , axis=1)"
   ]
  },
  {
   "cell_type": "code",
   "execution_count": 541,
   "id": "41aac9ff",
   "metadata": {
    "ExecuteTime": {
     "end_time": "2022-06-16T16:29:32.119858Z",
     "start_time": "2022-06-16T16:29:32.077866Z"
    }
   },
   "outputs": [],
   "source": [
    "import contextily as ctx"
   ]
  },
  {
   "cell_type": "code",
   "execution_count": 542,
   "id": "db55a750",
   "metadata": {
    "ExecuteTime": {
     "end_time": "2022-06-16T16:29:32.186348Z",
     "start_time": "2022-06-16T16:29:32.122251Z"
    },
    "scrolled": true
   },
   "outputs": [],
   "source": [
    "df_scen_new_geo['geometry_zone'] = df_scen_new_geo['geometry_zone'].apply(lambda x: wkt.loads(x))\n",
    "df_scen_new_geo['geometry_store'] = df_scen_new_geo['geometry_store'].apply(lambda x: None if pd.isnull(x) else wkt.loads(x))\n",
    "\n",
    "gdf_scen_new_geo= gf.get_gdf(df_scen_new_geo, 'geometry_zone', crs=4326)"
   ]
  },
  {
   "cell_type": "code",
   "execution_count": 543,
   "id": "51e6611f",
   "metadata": {
    "ExecuteTime": {
     "end_time": "2022-06-16T16:29:32.405388Z",
     "start_time": "2022-06-16T16:29:32.399839Z"
    },
    "scrolled": true
   },
   "outputs": [],
   "source": [
    "point_start = df_scen_new_geo[~pd.isnull(df_scen_new_geo['geometry_store'])].iloc[0]['geometry_store']"
   ]
  },
  {
   "cell_type": "code",
   "execution_count": 544,
   "id": "0f8fc14c",
   "metadata": {
    "ExecuteTime": {
     "end_time": "2022-06-16T16:29:32.891632Z",
     "start_time": "2022-06-16T16:29:32.887648Z"
    }
   },
   "outputs": [],
   "source": [
    "import plotly.express as px\n",
    "import pandas as pd\n",
    "import json\n",
    "from urllib.request import urlopen\n",
    "\n",
    "\n"
   ]
  },
  {
   "cell_type": "code",
   "execution_count": 545,
   "id": "03e2eb57",
   "metadata": {
    "ExecuteTime": {
     "end_time": "2022-06-16T16:29:33.240066Z",
     "start_time": "2022-06-16T16:29:33.236955Z"
    }
   },
   "outputs": [],
   "source": [
    "from geojson import Feature, Point, FeatureCollection\n",
    "import folium"
   ]
  },
  {
   "cell_type": "code",
   "execution_count": 546,
   "id": "6eee6af6",
   "metadata": {
    "ExecuteTime": {
     "end_time": "2022-06-16T16:29:33.409415Z",
     "start_time": "2022-06-16T16:29:33.404569Z"
    }
   },
   "outputs": [],
   "source": [
    "gdf_scen_new_geo['zone_type'] = gdf_scen_new_geo['courier_type_hist']+gdf_scen_new_geo['courier_type_predict']"
   ]
  },
  {
   "cell_type": "code",
   "execution_count": 547,
   "id": "d5f24850",
   "metadata": {
    "ExecuteTime": {
     "end_time": "2022-06-16T16:29:33.745849Z",
     "start_time": "2022-06-16T16:29:33.741363Z"
    }
   },
   "outputs": [],
   "source": [
    "def get_color(f):\n",
    "    try:\n",
    "        if f=='foot':\n",
    "            return 'blue'\n",
    "\n",
    "        else: \n",
    "            return 'red'\n",
    "    except:\n",
    "        print('error get color')"
   ]
  },
  {
   "cell_type": "code",
   "execution_count": 548,
   "id": "59dec8ef",
   "metadata": {
    "ExecuteTime": {
     "end_time": "2022-06-16T16:29:34.295541Z",
     "start_time": "2022-06-16T16:29:34.291483Z"
    }
   },
   "outputs": [],
   "source": [
    "scen_name = gdf_scen_new_geo.scenarios.unique()[1]"
   ]
  },
  {
   "cell_type": "code",
   "execution_count": 549,
   "id": "35ad4045",
   "metadata": {
    "ExecuteTime": {
     "end_time": "2022-06-16T16:29:34.477870Z",
     "start_time": "2022-06-16T16:29:34.471863Z"
    }
   },
   "outputs": [
    {
     "data": {
      "text/plain": [
       "array(['Сценарий 2: zone_o4akovskaya6s2', 'Сценарий 1: ASIS'],\n",
       "      dtype=object)"
      ]
     },
     "execution_count": 549,
     "metadata": {},
     "output_type": "execute_result"
    }
   ],
   "source": [
    "gdf_scen_new_geo.scenarios.unique()"
   ]
  },
  {
   "cell_type": "code",
   "execution_count": 550,
   "id": "9609d4fe",
   "metadata": {
    "ExecuteTime": {
     "end_time": "2022-06-16T16:29:34.776727Z",
     "start_time": "2022-06-16T16:29:34.698935Z"
    },
    "scrolled": true
   },
   "outputs": [],
   "source": [
    "gdf_scen_new_geo.drop('geometry_store', axis=1).to_file('gdf_scen_new_geo.geojson', driver='GeoJSON')"
   ]
  },
  {
   "cell_type": "code",
   "execution_count": 551,
   "id": "b2d7de1f",
   "metadata": {
    "ExecuteTime": {
     "end_time": "2022-06-16T16:29:35.481139Z",
     "start_time": "2022-06-16T16:29:35.120849Z"
    }
   },
   "outputs": [
    {
     "data": {
      "text/html": [
       "<div style=\"width:100%;\"><div style=\"position:relative;width:100%;height:0;padding-bottom:60%;\"><span style=\"color:#565656\">Make this Notebook Trusted to load map: File -> Trust Notebook</span><iframe src=\"about:blank\" style=\"position:absolute;width:100%;height:100%;left:0;top:0;border:none !important;\" data-html=%3C%21DOCTYPE%20html%3E%0A%3Chead%3E%20%20%20%20%0A%20%20%20%20%3Cmeta%20http-equiv%3D%22content-type%22%20content%3D%22text/html%3B%20charset%3DUTF-8%22%20/%3E%0A%20%20%20%20%0A%20%20%20%20%20%20%20%20%3Cscript%3E%0A%20%20%20%20%20%20%20%20%20%20%20%20L_NO_TOUCH%20%3D%20false%3B%0A%20%20%20%20%20%20%20%20%20%20%20%20L_DISABLE_3D%20%3D%20false%3B%0A%20%20%20%20%20%20%20%20%3C/script%3E%0A%20%20%20%20%0A%20%20%20%20%3Cstyle%3Ehtml%2C%20body%20%7Bwidth%3A%20100%25%3Bheight%3A%20100%25%3Bmargin%3A%200%3Bpadding%3A%200%3B%7D%3C/style%3E%0A%20%20%20%20%3Cstyle%3E%23map%20%7Bposition%3Aabsolute%3Btop%3A0%3Bbottom%3A0%3Bright%3A0%3Bleft%3A0%3B%7D%3C/style%3E%0A%20%20%20%20%3Cscript%20src%3D%22https%3A//cdn.jsdelivr.net/npm/leaflet%401.6.0/dist/leaflet.js%22%3E%3C/script%3E%0A%20%20%20%20%3Cscript%20src%3D%22https%3A//code.jquery.com/jquery-1.12.4.min.js%22%3E%3C/script%3E%0A%20%20%20%20%3Cscript%20src%3D%22https%3A//maxcdn.bootstrapcdn.com/bootstrap/3.2.0/js/bootstrap.min.js%22%3E%3C/script%3E%0A%20%20%20%20%3Cscript%20src%3D%22https%3A//cdnjs.cloudflare.com/ajax/libs/Leaflet.awesome-markers/2.0.2/leaflet.awesome-markers.js%22%3E%3C/script%3E%0A%20%20%20%20%3Clink%20rel%3D%22stylesheet%22%20href%3D%22https%3A//cdn.jsdelivr.net/npm/leaflet%401.6.0/dist/leaflet.css%22/%3E%0A%20%20%20%20%3Clink%20rel%3D%22stylesheet%22%20href%3D%22https%3A//maxcdn.bootstrapcdn.com/bootstrap/3.2.0/css/bootstrap.min.css%22/%3E%0A%20%20%20%20%3Clink%20rel%3D%22stylesheet%22%20href%3D%22https%3A//maxcdn.bootstrapcdn.com/bootstrap/3.2.0/css/bootstrap-theme.min.css%22/%3E%0A%20%20%20%20%3Clink%20rel%3D%22stylesheet%22%20href%3D%22https%3A//maxcdn.bootstrapcdn.com/font-awesome/4.6.3/css/font-awesome.min.css%22/%3E%0A%20%20%20%20%3Clink%20rel%3D%22stylesheet%22%20href%3D%22https%3A//cdnjs.cloudflare.com/ajax/libs/Leaflet.awesome-markers/2.0.2/leaflet.awesome-markers.css%22/%3E%0A%20%20%20%20%3Clink%20rel%3D%22stylesheet%22%20href%3D%22https%3A//cdn.jsdelivr.net/gh/python-visualization/folium/folium/templates/leaflet.awesome.rotate.min.css%22/%3E%0A%20%20%20%20%0A%20%20%20%20%20%20%20%20%20%20%20%20%3Cmeta%20name%3D%22viewport%22%20content%3D%22width%3Ddevice-width%2C%0A%20%20%20%20%20%20%20%20%20%20%20%20%20%20%20%20initial-scale%3D1.0%2C%20maximum-scale%3D1.0%2C%20user-scalable%3Dno%22%20/%3E%0A%20%20%20%20%20%20%20%20%20%20%20%20%3Cstyle%3E%0A%20%20%20%20%20%20%20%20%20%20%20%20%20%20%20%20%23map_00d09ec529bb497396f87803b6b7ca1a%20%7B%0A%20%20%20%20%20%20%20%20%20%20%20%20%20%20%20%20%20%20%20%20position%3A%20relative%3B%0A%20%20%20%20%20%20%20%20%20%20%20%20%20%20%20%20%20%20%20%20width%3A%20100.0%25%3B%0A%20%20%20%20%20%20%20%20%20%20%20%20%20%20%20%20%20%20%20%20height%3A%20100.0%25%3B%0A%20%20%20%20%20%20%20%20%20%20%20%20%20%20%20%20%20%20%20%20left%3A%200.0%25%3B%0A%20%20%20%20%20%20%20%20%20%20%20%20%20%20%20%20%20%20%20%20top%3A%200.0%25%3B%0A%20%20%20%20%20%20%20%20%20%20%20%20%20%20%20%20%7D%0A%20%20%20%20%20%20%20%20%20%20%20%20%3C/style%3E%0A%20%20%20%20%20%20%20%20%0A%20%20%20%20%0A%20%20%20%20%20%20%20%20%20%20%20%20%20%20%20%20%20%20%20%20%3Cstyle%3E%0A%20%20%20%20%20%20%20%20%20%20%20%20%20%20%20%20%20%20%20%20%20%20%20%20.foliumtooltip%20%7B%0A%20%20%20%20%20%20%20%20%20%20%20%20%20%20%20%20%20%20%20%20%20%20%20%20%20%20%20%20background-color%3A%20white%3B%20color%3A%20%23333333%3B%20font-family%3A%20arial%3B%20font-size%3A%2012px%3B%20padding%3A%2010px%3B%0A%20%20%20%20%20%20%20%20%20%20%20%20%20%20%20%20%20%20%20%20%20%20%20%20%7D%0A%20%20%20%20%20%20%20%20%20%20%20%20%20%20%20%20%20%20%20%20%20%20%20.foliumtooltip%20table%7B%0A%20%20%20%20%20%20%20%20%20%20%20%20%20%20%20%20%20%20%20%20%20%20%20%20%20%20%20%20margin%3A%20auto%3B%0A%20%20%20%20%20%20%20%20%20%20%20%20%20%20%20%20%20%20%20%20%20%20%20%20%7D%0A%20%20%20%20%20%20%20%20%20%20%20%20%20%20%20%20%20%20%20%20%20%20%20%20.foliumtooltip%20tr%7B%0A%20%20%20%20%20%20%20%20%20%20%20%20%20%20%20%20%20%20%20%20%20%20%20%20%20%20%20%20text-align%3A%20left%3B%0A%20%20%20%20%20%20%20%20%20%20%20%20%20%20%20%20%20%20%20%20%20%20%20%20%7D%0A%20%20%20%20%20%20%20%20%20%20%20%20%20%20%20%20%20%20%20%20%20%20%20%20.foliumtooltip%20th%7B%0A%20%20%20%20%20%20%20%20%20%20%20%20%20%20%20%20%20%20%20%20%20%20%20%20%20%20%20%20padding%3A%202px%3B%20padding-right%3A%208px%3B%0A%20%20%20%20%20%20%20%20%20%20%20%20%20%20%20%20%20%20%20%20%20%20%20%20%7D%0A%20%20%20%20%20%20%20%20%20%20%20%20%20%20%20%20%20%20%20%20%3C/style%3E%0A%20%20%20%20%20%20%20%20%20%20%20%20%0A%20%20%20%20%0A%20%20%20%20%20%20%20%20%20%20%20%20%20%20%20%20%20%20%20%20%3Cstyle%3E%0A%20%20%20%20%20%20%20%20%20%20%20%20%20%20%20%20%20%20%20%20%20%20%20%20.foliumtooltip%20%7B%0A%20%20%20%20%20%20%20%20%20%20%20%20%20%20%20%20%20%20%20%20%20%20%20%20%20%20%20%20background-color%3A%20white%3B%20color%3A%20%23333333%3B%20font-family%3A%20arial%3B%20font-size%3A%2012px%3B%20padding%3A%2010px%3B%0A%20%20%20%20%20%20%20%20%20%20%20%20%20%20%20%20%20%20%20%20%20%20%20%20%7D%0A%20%20%20%20%20%20%20%20%20%20%20%20%20%20%20%20%20%20%20%20%20%20%20.foliumtooltip%20table%7B%0A%20%20%20%20%20%20%20%20%20%20%20%20%20%20%20%20%20%20%20%20%20%20%20%20%20%20%20%20margin%3A%20auto%3B%0A%20%20%20%20%20%20%20%20%20%20%20%20%20%20%20%20%20%20%20%20%20%20%20%20%7D%0A%20%20%20%20%20%20%20%20%20%20%20%20%20%20%20%20%20%20%20%20%20%20%20%20.foliumtooltip%20tr%7B%0A%20%20%20%20%20%20%20%20%20%20%20%20%20%20%20%20%20%20%20%20%20%20%20%20%20%20%20%20text-align%3A%20left%3B%0A%20%20%20%20%20%20%20%20%20%20%20%20%20%20%20%20%20%20%20%20%20%20%20%20%7D%0A%20%20%20%20%20%20%20%20%20%20%20%20%20%20%20%20%20%20%20%20%20%20%20%20.foliumtooltip%20th%7B%0A%20%20%20%20%20%20%20%20%20%20%20%20%20%20%20%20%20%20%20%20%20%20%20%20%20%20%20%20padding%3A%202px%3B%20padding-right%3A%208px%3B%0A%20%20%20%20%20%20%20%20%20%20%20%20%20%20%20%20%20%20%20%20%20%20%20%20%7D%0A%20%20%20%20%20%20%20%20%20%20%20%20%20%20%20%20%20%20%20%20%3C/style%3E%0A%20%20%20%20%20%20%20%20%20%20%20%20%0A%20%20%20%20%0A%20%20%20%20%20%20%20%20%20%20%20%20%20%20%20%20%20%20%20%20%3Cstyle%3E%0A%20%20%20%20%20%20%20%20%20%20%20%20%20%20%20%20%20%20%20%20%20%20%20%20.foliumtooltip%20%7B%0A%20%20%20%20%20%20%20%20%20%20%20%20%20%20%20%20%20%20%20%20%20%20%20%20%20%20%20%20background-color%3A%20white%3B%20color%3A%20%23333333%3B%20font-family%3A%20arial%3B%20font-size%3A%2012px%3B%20padding%3A%2010px%3B%0A%20%20%20%20%20%20%20%20%20%20%20%20%20%20%20%20%20%20%20%20%20%20%20%20%7D%0A%20%20%20%20%20%20%20%20%20%20%20%20%20%20%20%20%20%20%20%20%20%20%20.foliumtooltip%20table%7B%0A%20%20%20%20%20%20%20%20%20%20%20%20%20%20%20%20%20%20%20%20%20%20%20%20%20%20%20%20margin%3A%20auto%3B%0A%20%20%20%20%20%20%20%20%20%20%20%20%20%20%20%20%20%20%20%20%20%20%20%20%7D%0A%20%20%20%20%20%20%20%20%20%20%20%20%20%20%20%20%20%20%20%20%20%20%20%20.foliumtooltip%20tr%7B%0A%20%20%20%20%20%20%20%20%20%20%20%20%20%20%20%20%20%20%20%20%20%20%20%20%20%20%20%20text-align%3A%20left%3B%0A%20%20%20%20%20%20%20%20%20%20%20%20%20%20%20%20%20%20%20%20%20%20%20%20%7D%0A%20%20%20%20%20%20%20%20%20%20%20%20%20%20%20%20%20%20%20%20%20%20%20%20.foliumtooltip%20th%7B%0A%20%20%20%20%20%20%20%20%20%20%20%20%20%20%20%20%20%20%20%20%20%20%20%20%20%20%20%20padding%3A%202px%3B%20padding-right%3A%208px%3B%0A%20%20%20%20%20%20%20%20%20%20%20%20%20%20%20%20%20%20%20%20%20%20%20%20%7D%0A%20%20%20%20%20%20%20%20%20%20%20%20%20%20%20%20%20%20%20%20%3C/style%3E%0A%20%20%20%20%20%20%20%20%20%20%20%20%0A%20%20%20%20%0A%20%20%20%20%20%20%20%20%20%20%20%20%20%20%20%20%20%20%20%20%3Cstyle%3E%0A%20%20%20%20%20%20%20%20%20%20%20%20%20%20%20%20%20%20%20%20%20%20%20%20.foliumpopup%20%7B%0A%20%20%20%20%20%20%20%20%20%20%20%20%20%20%20%20%20%20%20%20%20%20%20%20%20%20%20%20background-color%3A%20white%3B%20color%3A%20%23333333%3B%20font-family%3A%20arial%3B%20font-size%3A%2012px%3B%20padding%3A%2010px%3B%0A%20%20%20%20%20%20%20%20%20%20%20%20%20%20%20%20%20%20%20%20%20%20%20%20%7D%0A%20%20%20%20%20%20%20%20%20%20%20%20%20%20%20%20%20%20%20%20%20%20%20.foliumpopup%20table%7B%0A%20%20%20%20%20%20%20%20%20%20%20%20%20%20%20%20%20%20%20%20%20%20%20%20%20%20%20%20margin%3A%20auto%3B%0A%20%20%20%20%20%20%20%20%20%20%20%20%20%20%20%20%20%20%20%20%20%20%20%20%7D%0A%20%20%20%20%20%20%20%20%20%20%20%20%20%20%20%20%20%20%20%20%20%20%20%20.foliumpopup%20tr%7B%0A%20%20%20%20%20%20%20%20%20%20%20%20%20%20%20%20%20%20%20%20%20%20%20%20%20%20%20%20text-align%3A%20left%3B%0A%20%20%20%20%20%20%20%20%20%20%20%20%20%20%20%20%20%20%20%20%20%20%20%20%7D%0A%20%20%20%20%20%20%20%20%20%20%20%20%20%20%20%20%20%20%20%20%20%20%20%20.foliumpopup%20th%7B%0A%20%20%20%20%20%20%20%20%20%20%20%20%20%20%20%20%20%20%20%20%20%20%20%20%20%20%20%20padding%3A%202px%3B%20padding-right%3A%208px%3B%0A%20%20%20%20%20%20%20%20%20%20%20%20%20%20%20%20%20%20%20%20%20%20%20%20%7D%0A%20%20%20%20%20%20%20%20%20%20%20%20%20%20%20%20%20%20%20%20%3C/style%3E%0A%20%20%20%20%20%20%20%20%20%20%20%20%0A%20%20%20%20%0A%20%20%20%20%20%20%20%20%20%20%20%20%20%20%20%20%20%20%20%20%3Cstyle%3E%0A%20%20%20%20%20%20%20%20%20%20%20%20%20%20%20%20%20%20%20%20%20%20%20%20.foliumtooltip%20%7B%0A%20%20%20%20%20%20%20%20%20%20%20%20%20%20%20%20%20%20%20%20%20%20%20%20%20%20%20%20background-color%3A%20white%3B%20color%3A%20%23333333%3B%20font-family%3A%20arial%3B%20font-size%3A%2012px%3B%20padding%3A%2010px%3B%0A%20%20%20%20%20%20%20%20%20%20%20%20%20%20%20%20%20%20%20%20%20%20%20%20%7D%0A%20%20%20%20%20%20%20%20%20%20%20%20%20%20%20%20%20%20%20%20%20%20%20.foliumtooltip%20table%7B%0A%20%20%20%20%20%20%20%20%20%20%20%20%20%20%20%20%20%20%20%20%20%20%20%20%20%20%20%20margin%3A%20auto%3B%0A%20%20%20%20%20%20%20%20%20%20%20%20%20%20%20%20%20%20%20%20%20%20%20%20%7D%0A%20%20%20%20%20%20%20%20%20%20%20%20%20%20%20%20%20%20%20%20%20%20%20%20.foliumtooltip%20tr%7B%0A%20%20%20%20%20%20%20%20%20%20%20%20%20%20%20%20%20%20%20%20%20%20%20%20%20%20%20%20text-align%3A%20left%3B%0A%20%20%20%20%20%20%20%20%20%20%20%20%20%20%20%20%20%20%20%20%20%20%20%20%7D%0A%20%20%20%20%20%20%20%20%20%20%20%20%20%20%20%20%20%20%20%20%20%20%20%20.foliumtooltip%20th%7B%0A%20%20%20%20%20%20%20%20%20%20%20%20%20%20%20%20%20%20%20%20%20%20%20%20%20%20%20%20padding%3A%202px%3B%20padding-right%3A%208px%3B%0A%20%20%20%20%20%20%20%20%20%20%20%20%20%20%20%20%20%20%20%20%20%20%20%20%7D%0A%20%20%20%20%20%20%20%20%20%20%20%20%20%20%20%20%20%20%20%20%3C/style%3E%0A%20%20%20%20%20%20%20%20%20%20%20%20%0A%20%20%20%20%0A%20%20%20%20%20%20%20%20%20%20%20%20%20%20%20%20%20%20%20%20%3Cstyle%3E%0A%20%20%20%20%20%20%20%20%20%20%20%20%20%20%20%20%20%20%20%20%20%20%20%20.foliumpopup%20%7B%0A%20%20%20%20%20%20%20%20%20%20%20%20%20%20%20%20%20%20%20%20%20%20%20%20%20%20%20%20background-color%3A%20white%3B%20color%3A%20%23333333%3B%20font-family%3A%20arial%3B%20font-size%3A%2012px%3B%20padding%3A%2010px%3B%0A%20%20%20%20%20%20%20%20%20%20%20%20%20%20%20%20%20%20%20%20%20%20%20%20%7D%0A%20%20%20%20%20%20%20%20%20%20%20%20%20%20%20%20%20%20%20%20%20%20%20.foliumpopup%20table%7B%0A%20%20%20%20%20%20%20%20%20%20%20%20%20%20%20%20%20%20%20%20%20%20%20%20%20%20%20%20margin%3A%20auto%3B%0A%20%20%20%20%20%20%20%20%20%20%20%20%20%20%20%20%20%20%20%20%20%20%20%20%7D%0A%20%20%20%20%20%20%20%20%20%20%20%20%20%20%20%20%20%20%20%20%20%20%20%20.foliumpopup%20tr%7B%0A%20%20%20%20%20%20%20%20%20%20%20%20%20%20%20%20%20%20%20%20%20%20%20%20%20%20%20%20text-align%3A%20left%3B%0A%20%20%20%20%20%20%20%20%20%20%20%20%20%20%20%20%20%20%20%20%20%20%20%20%7D%0A%20%20%20%20%20%20%20%20%20%20%20%20%20%20%20%20%20%20%20%20%20%20%20%20.foliumpopup%20th%7B%0A%20%20%20%20%20%20%20%20%20%20%20%20%20%20%20%20%20%20%20%20%20%20%20%20%20%20%20%20padding%3A%202px%3B%20padding-right%3A%208px%3B%0A%20%20%20%20%20%20%20%20%20%20%20%20%20%20%20%20%20%20%20%20%20%20%20%20%7D%0A%20%20%20%20%20%20%20%20%20%20%20%20%20%20%20%20%20%20%20%20%3C/style%3E%0A%20%20%20%20%20%20%20%20%20%20%20%20%0A%20%20%20%20%0A%20%20%20%20%20%20%20%20%20%20%20%20%20%20%20%20%20%20%20%20%3Cstyle%3E%0A%20%20%20%20%20%20%20%20%20%20%20%20%20%20%20%20%20%20%20%20%20%20%20%20.foliumtooltip%20%7B%0A%20%20%20%20%20%20%20%20%20%20%20%20%20%20%20%20%20%20%20%20%20%20%20%20%20%20%20%20background-color%3A%20white%3B%20color%3A%20%23333333%3B%20font-family%3A%20arial%3B%20font-size%3A%2012px%3B%20padding%3A%2010px%3B%0A%20%20%20%20%20%20%20%20%20%20%20%20%20%20%20%20%20%20%20%20%20%20%20%20%7D%0A%20%20%20%20%20%20%20%20%20%20%20%20%20%20%20%20%20%20%20%20%20%20%20.foliumtooltip%20table%7B%0A%20%20%20%20%20%20%20%20%20%20%20%20%20%20%20%20%20%20%20%20%20%20%20%20%20%20%20%20margin%3A%20auto%3B%0A%20%20%20%20%20%20%20%20%20%20%20%20%20%20%20%20%20%20%20%20%20%20%20%20%7D%0A%20%20%20%20%20%20%20%20%20%20%20%20%20%20%20%20%20%20%20%20%20%20%20%20.foliumtooltip%20tr%7B%0A%20%20%20%20%20%20%20%20%20%20%20%20%20%20%20%20%20%20%20%20%20%20%20%20%20%20%20%20text-align%3A%20left%3B%0A%20%20%20%20%20%20%20%20%20%20%20%20%20%20%20%20%20%20%20%20%20%20%20%20%7D%0A%20%20%20%20%20%20%20%20%20%20%20%20%20%20%20%20%20%20%20%20%20%20%20%20.foliumtooltip%20th%7B%0A%20%20%20%20%20%20%20%20%20%20%20%20%20%20%20%20%20%20%20%20%20%20%20%20%20%20%20%20padding%3A%202px%3B%20padding-right%3A%208px%3B%0A%20%20%20%20%20%20%20%20%20%20%20%20%20%20%20%20%20%20%20%20%20%20%20%20%7D%0A%20%20%20%20%20%20%20%20%20%20%20%20%20%20%20%20%20%20%20%20%3C/style%3E%0A%20%20%20%20%20%20%20%20%20%20%20%20%0A%20%20%20%20%0A%20%20%20%20%20%20%20%20%20%20%20%20%20%20%20%20%20%20%20%20%3Cstyle%3E%0A%20%20%20%20%20%20%20%20%20%20%20%20%20%20%20%20%20%20%20%20%20%20%20%20.foliumpopup%20%7B%0A%20%20%20%20%20%20%20%20%20%20%20%20%20%20%20%20%20%20%20%20%20%20%20%20%20%20%20%20background-color%3A%20white%3B%20color%3A%20%23333333%3B%20font-family%3A%20arial%3B%20font-size%3A%2012px%3B%20padding%3A%2010px%3B%0A%20%20%20%20%20%20%20%20%20%20%20%20%20%20%20%20%20%20%20%20%20%20%20%20%7D%0A%20%20%20%20%20%20%20%20%20%20%20%20%20%20%20%20%20%20%20%20%20%20%20.foliumpopup%20table%7B%0A%20%20%20%20%20%20%20%20%20%20%20%20%20%20%20%20%20%20%20%20%20%20%20%20%20%20%20%20margin%3A%20auto%3B%0A%20%20%20%20%20%20%20%20%20%20%20%20%20%20%20%20%20%20%20%20%20%20%20%20%7D%0A%20%20%20%20%20%20%20%20%20%20%20%20%20%20%20%20%20%20%20%20%20%20%20%20.foliumpopup%20tr%7B%0A%20%20%20%20%20%20%20%20%20%20%20%20%20%20%20%20%20%20%20%20%20%20%20%20%20%20%20%20text-align%3A%20left%3B%0A%20%20%20%20%20%20%20%20%20%20%20%20%20%20%20%20%20%20%20%20%20%20%20%20%7D%0A%20%20%20%20%20%20%20%20%20%20%20%20%20%20%20%20%20%20%20%20%20%20%20%20.foliumpopup%20th%7B%0A%20%20%20%20%20%20%20%20%20%20%20%20%20%20%20%20%20%20%20%20%20%20%20%20%20%20%20%20padding%3A%202px%3B%20padding-right%3A%208px%3B%0A%20%20%20%20%20%20%20%20%20%20%20%20%20%20%20%20%20%20%20%20%20%20%20%20%7D%0A%20%20%20%20%20%20%20%20%20%20%20%20%20%20%20%20%20%20%20%20%3C/style%3E%0A%20%20%20%20%20%20%20%20%20%20%20%20%0A%3C/head%3E%0A%3Cbody%3E%20%20%20%20%0A%20%20%20%20%0A%20%20%20%20%20%20%20%20%20%20%20%20%3Cdiv%20class%3D%22folium-map%22%20id%3D%22map_00d09ec529bb497396f87803b6b7ca1a%22%20%3E%3C/div%3E%0A%20%20%20%20%20%20%20%20%0A%3C/body%3E%0A%3Cscript%3E%20%20%20%20%0A%20%20%20%20%0A%20%20%20%20%20%20%20%20%20%20%20%20var%20map_00d09ec529bb497396f87803b6b7ca1a%20%3D%20L.map%28%0A%20%20%20%20%20%20%20%20%20%20%20%20%20%20%20%20%22map_00d09ec529bb497396f87803b6b7ca1a%22%2C%0A%20%20%20%20%20%20%20%20%20%20%20%20%20%20%20%20%7B%0A%20%20%20%20%20%20%20%20%20%20%20%20%20%20%20%20%20%20%20%20center%3A%20%5B55.669239%2C%2037.448249%5D%2C%0A%20%20%20%20%20%20%20%20%20%20%20%20%20%20%20%20%20%20%20%20crs%3A%20L.CRS.EPSG3857%2C%0A%20%20%20%20%20%20%20%20%20%20%20%20%20%20%20%20%20%20%20%20zoom%3A%2012%2C%0A%20%20%20%20%20%20%20%20%20%20%20%20%20%20%20%20%20%20%20%20zoomControl%3A%20true%2C%0A%20%20%20%20%20%20%20%20%20%20%20%20%20%20%20%20%20%20%20%20preferCanvas%3A%20false%2C%0A%20%20%20%20%20%20%20%20%20%20%20%20%20%20%20%20%7D%0A%20%20%20%20%20%20%20%20%20%20%20%20%29%3B%0A%0A%20%20%20%20%20%20%20%20%20%20%20%20%0A%0A%20%20%20%20%20%20%20%20%0A%20%20%20%20%0A%20%20%20%20%20%20%20%20%20%20%20%20var%20tile_layer_ec99295c1b1441ee9d15a591afb6e2f5%20%3D%20L.tileLayer%28%0A%20%20%20%20%20%20%20%20%20%20%20%20%20%20%20%20%22https%3A//%7Bs%7D.tile.openstreetmap.org/%7Bz%7D/%7Bx%7D/%7By%7D.png%22%2C%0A%20%20%20%20%20%20%20%20%20%20%20%20%20%20%20%20%7B%22attribution%22%3A%20%22Data%20by%20%5Cu0026copy%3B%20%5Cu003ca%20href%3D%5C%22http%3A//openstreetmap.org%5C%22%5Cu003eOpenStreetMap%5Cu003c/a%5Cu003e%2C%20under%20%5Cu003ca%20href%3D%5C%22http%3A//www.openstreetmap.org/copyright%5C%22%5Cu003eODbL%5Cu003c/a%5Cu003e.%22%2C%20%22detectRetina%22%3A%20false%2C%20%22maxNativeZoom%22%3A%2018%2C%20%22maxZoom%22%3A%2018%2C%20%22minZoom%22%3A%200%2C%20%22noWrap%22%3A%20false%2C%20%22opacity%22%3A%201%2C%20%22subdomains%22%3A%20%22abc%22%2C%20%22tms%22%3A%20false%7D%0A%20%20%20%20%20%20%20%20%20%20%20%20%29.addTo%28map_00d09ec529bb497396f87803b6b7ca1a%29%3B%0A%20%20%20%20%20%20%20%20%0A%20%20%20%20%0A%20%20%20%20%20%20%20%20function%20geo_json_5b6625602a3843799af2d7fa12e9960a_styler%28feature%29%20%7B%0A%20%20%20%20%20%20%20%20%20%20%20%20switch%28feature.id%29%20%7B%0A%20%20%20%20%20%20%20%20%20%20%20%20%20%20%20%20default%3A%0A%20%20%20%20%20%20%20%20%20%20%20%20%20%20%20%20%20%20%20%20return%20%7B%22color%22%3A%20%22blue%22%2C%20%22fillOpacity%22%3A%200.0%2C%20%22weight%22%3A%202%7D%3B%0A%20%20%20%20%20%20%20%20%20%20%20%20%7D%0A%20%20%20%20%20%20%20%20%7D%0A%0A%20%20%20%20%20%20%20%20function%20geo_json_5b6625602a3843799af2d7fa12e9960a_onEachFeature%28feature%2C%20layer%29%20%7B%0A%20%20%20%20%20%20%20%20%20%20%20%20layer.on%28%7B%0A%20%20%20%20%20%20%20%20%20%20%20%20%7D%29%3B%0A%20%20%20%20%20%20%20%20%7D%3B%0A%20%20%20%20%20%20%20%20var%20geo_json_5b6625602a3843799af2d7fa12e9960a%20%3D%20L.geoJson%28null%2C%20%7B%0A%20%20%20%20%20%20%20%20%20%20%20%20%20%20%20%20onEachFeature%3A%20geo_json_5b6625602a3843799af2d7fa12e9960a_onEachFeature%2C%0A%20%20%20%20%20%20%20%20%20%20%20%20%0A%20%20%20%20%20%20%20%20%20%20%20%20%20%20%20%20style%3A%20geo_json_5b6625602a3843799af2d7fa12e9960a_styler%2C%0A%20%20%20%20%20%20%20%20%7D%29%3B%0A%0A%20%20%20%20%20%20%20%20function%20geo_json_5b6625602a3843799af2d7fa12e9960a_add%20%28data%29%20%7B%0A%20%20%20%20%20%20%20%20%20%20%20%20geo_json_5b6625602a3843799af2d7fa12e9960a%0A%20%20%20%20%20%20%20%20%20%20%20%20%20%20%20%20.addData%28data%29%0A%20%20%20%20%20%20%20%20%20%20%20%20%20%20%20%20.addTo%28map_00d09ec529bb497396f87803b6b7ca1a%29%3B%0A%20%20%20%20%20%20%20%20%7D%0A%20%20%20%20%20%20%20%20%20%20%20%20geo_json_5b6625602a3843799af2d7fa12e9960a_add%28%7B%22bbox%22%3A%20%5B37.430291%2C%2055.661808%2C%2037.509309%2C%2055.706075%5D%2C%20%22features%22%3A%20%5B%7B%22bbox%22%3A%20%5B37.461716%2C%2055.67456%2C%2037.509309%2C%2055.706075%5D%2C%20%22geometry%22%3A%20%7B%22coordinates%22%3A%20%5B%5B%5B37.498066%2C%2055.706068%5D%2C%20%5B37.492143%2C%2055.706075%5D%2C%20%5B37.48665%2C%2055.705784%5D%2C%20%5B37.479355%2C%2055.702537%5D%2C%20%5B37.474634%2C%2055.701519%5D%2C%20%5B37.467167%2C%2055.696138%5D%2C%20%5B37.46339%2C%2055.690902%5D%2C%20%5B37.461716%2C%2055.689691%5D%2C%20%5B37.468711%2C%2055.686224%5D%2C%20%5B37.470728%2C%2055.686745%5D%2C%20%5B37.476479%2C%2055.685739%5D%2C%20%5B37.470986%2C%2055.681957%5D%2C%20%5B37.471115%2C%2055.679022%5D%2C%20%5B37.478539%2C%2055.67507%5D%2C%20%5B37.481114%2C%2055.67456%5D%2C%20%5B37.484762%2C%2055.67604%5D%2C%20%5B37.482659%2C%2055.678828%5D%2C%20%5B37.485921%2C%2055.679459%5D%2C%20%5B37.489697%2C%2055.681884%5D%2C%20%5B37.494117%2C%2055.683629%5D%2C%20%5B37.496735%2C%2055.685108%5D%2C%20%5B37.49519%2C%2055.687654%5D%2C%20%5B37.509309%2C%2055.694441%5D%2C%20%5B37.500297%2C%2055.698804%5D%2C%20%5B37.497637%2C%2055.700816%5D%2C%20%5B37.493388%2C%2055.703242%5D%2C%20%5B37.498066%2C%2055.706068%5D%5D%5D%2C%20%22type%22%3A%20%22Polygon%22%7D%2C%20%22id%22%3A%20%226%22%2C%20%22properties%22%3A%20%7B%22courier_type_predict%22%3A%20%22foot%22%2C%20%22zone_name%22%3A%20%22%5Cu041c%5Cu0438%5Cu0447%5Cu0443%5Cu0440%5Cu0438%5Cu043d%5Cu0441%5Cu043a%5Cu0438%5Cu0439%20%5Cu043f%5Cu0440%5Cu043e%5Cu0441%5Cu043f%5Cu0435%5Cu043a%5Cu0442%2C%2054%20%5Cu043a%202_foot%22%2C%20%22zone_type%22%3A%20%22footfoot%22%7D%2C%20%22type%22%3A%20%22Feature%22%7D%2C%20%7B%22bbox%22%3A%20%5B37.430291%2C%2055.661808%2C%2037.472755447113%2C%2055.6827660307944%5D%2C%20%22geometry%22%3A%20%7B%22coordinates%22%3A%20%5B%5B%5B37.4348507632446%2C%2055.663087808904%5D%2C%20%5B37.4378655740967%2C%2055.6638579673727%5D%2C%20%5B37.439432%2C%2055.664622%5D%2C%20%5B37.443745%2C%2055.66843%5D%2C%20%5B37.450461%2C%2055.661808%5D%2C%20%5B37.454034%2C%2055.662227%5D%2C%20%5B37.454833%2C%2055.665243%5D%2C%20%5B37.472755447113%2C%2055.6753913628803%5D%2C%20%5B37.4701680582275%2C%2055.6770155401594%5D%2C%20%5B37.468872%2C%2055.676385%5D%2C%20%5B37.467475%2C%2055.677258%5D%2C%20%5B37.469823%2C%2055.678422%5D%2C%20%5B37.471105%2C%2055.679028%5D%2C%20%5B37.470839%2C%2055.681897%5D%2C%20%5B37.4679769869655%2C%2055.6801005686309%5D%2C%20%5B37.4641708363577%2C%2055.6819655087803%5D%2C%20%5B37.4583474338379%2C%2055.6793619830399%5D%2C%20%5B37.4515753067304%2C%2055.6823997187564%5D%2C%20%5B37.4513490392675%2C%2055.6822642026357%5D%2C%20%5B37.4503433055572%2C%2055.6827660307944%5D%2C%20%5B37.4438978273696%2C%2055.6794970877058%5D%2C%20%5B37.4404564232788%2C%2055.6768098772826%5D%2C%20%5B37.430291%2C%2055.667533%5D%2C%20%5B37.4348507632446%2C%2055.663087808904%5D%5D%5D%2C%20%22type%22%3A%20%22Polygon%22%7D%2C%20%22id%22%3A%20%227%22%2C%20%22properties%22%3A%20%7B%22courier_type_predict%22%3A%20%22foot%22%2C%20%22zone_name%22%3A%20%22%5Cu041e%5Cu0437%5Cu0435%5Cu0440%5Cu043d%5Cu0430%5Cu044f%2C%2035_foot%22%2C%20%22zone_type%22%3A%20%22footfoot%22%7D%2C%20%22type%22%3A%20%22Feature%22%7D%5D%2C%20%22type%22%3A%20%22FeatureCollection%22%7D%29%3B%0A%0A%20%20%20%20%20%20%20%20%0A%20%20%20%20%0A%20%20%20%20geo_json_5b6625602a3843799af2d7fa12e9960a.bindTooltip%28%0A%20%20%20%20function%28layer%29%7B%0A%20%20%20%20let%20div%20%3D%20L.DomUtil.create%28%27div%27%29%3B%0A%20%20%20%20%0A%20%20%20%20let%20handleObject%20%3D%20feature%3D%3Etypeof%28feature%29%3D%3D%27object%27%20%3F%20JSON.stringify%28feature%29%20%3A%20feature%3B%0A%20%20%20%20let%20fields%20%3D%20%5B%22zone_name%22%2C%20%22courier_type_predict%22%5D%3B%0A%20%20%20%20let%20aliases%20%3D%20%5B%22%5Cu041b%5Cu0430%5Cu0432%5Cu043a%5Cu0430%3A%22%2C%20%22%5Cu0421%5Cu043f%5Cu043e%5Cu0441%5Cu043e%5Cu0431%20%5Cu0434%5Cu043e%5Cu0441%5Cu0442%5Cu0430%5Cu0432%5Cu043a%5Cu0438%3A%22%5D%3B%0A%20%20%20%20let%20table%20%3D%20%27%3Ctable%3E%27%20%2B%0A%20%20%20%20%20%20%20%20String%28%0A%20%20%20%20%20%20%20%20fields.map%28%0A%20%20%20%20%20%20%20%20%28v%2Ci%29%3D%3E%0A%20%20%20%20%20%20%20%20%60%3Ctr%3E%0A%20%20%20%20%20%20%20%20%20%20%20%20%3Cth%3E%24%7Baliases%5Bi%5D%7D%3C/th%3E%0A%20%20%20%20%20%20%20%20%20%20%20%20%0A%20%20%20%20%20%20%20%20%20%20%20%20%3Ctd%3E%24%7BhandleObject%28layer.feature.properties%5Bv%5D%29%7D%3C/td%3E%0A%20%20%20%20%20%20%20%20%3C/tr%3E%60%29.join%28%27%27%29%29%0A%20%20%20%20%2B%27%3C/table%3E%27%3B%0A%20%20%20%20div.innerHTML%3Dtable%3B%0A%20%20%20%20%0A%20%20%20%20return%20div%0A%20%20%20%20%7D%0A%20%20%20%20%2C%7B%22className%22%3A%20%22foliumtooltip%22%2C%20%22sticky%22%3A%20true%7D%29%3B%0A%20%20%20%20%20%20%20%20%20%20%20%20%20%20%20%20%20%20%20%20%20%0A%20%20%20%20%0A%20%20%20%20%20%20%20%20function%20geo_json_6220fd283f3b4b4db62274a16c2c5cc5_styler%28feature%29%20%7B%0A%20%20%20%20%20%20%20%20%20%20%20%20switch%28feature.id%29%20%7B%0A%20%20%20%20%20%20%20%20%20%20%20%20%20%20%20%20default%3A%0A%20%20%20%20%20%20%20%20%20%20%20%20%20%20%20%20%20%20%20%20return%20%7B%22color%22%3A%20%22brown%22%2C%20%22fillOpacity%22%3A%200.1%2C%20%22weight%22%3A%202%7D%3B%0A%20%20%20%20%20%20%20%20%20%20%20%20%7D%0A%20%20%20%20%20%20%20%20%7D%0A%0A%20%20%20%20%20%20%20%20function%20geo_json_6220fd283f3b4b4db62274a16c2c5cc5_onEachFeature%28feature%2C%20layer%29%20%7B%0A%20%20%20%20%20%20%20%20%20%20%20%20layer.on%28%7B%0A%20%20%20%20%20%20%20%20%20%20%20%20%7D%29%3B%0A%20%20%20%20%20%20%20%20%7D%3B%0A%20%20%20%20%20%20%20%20var%20geo_json_6220fd283f3b4b4db62274a16c2c5cc5%20%3D%20L.geoJson%28null%2C%20%7B%0A%20%20%20%20%20%20%20%20%20%20%20%20%20%20%20%20onEachFeature%3A%20geo_json_6220fd283f3b4b4db62274a16c2c5cc5_onEachFeature%2C%0A%20%20%20%20%20%20%20%20%20%20%20%20%0A%20%20%20%20%20%20%20%20%20%20%20%20%20%20%20%20style%3A%20geo_json_6220fd283f3b4b4db62274a16c2c5cc5_styler%2C%0A%20%20%20%20%20%20%20%20%7D%29%3B%0A%0A%20%20%20%20%20%20%20%20function%20geo_json_6220fd283f3b4b4db62274a16c2c5cc5_add%20%28data%29%20%7B%0A%20%20%20%20%20%20%20%20%20%20%20%20geo_json_6220fd283f3b4b4db62274a16c2c5cc5%0A%20%20%20%20%20%20%20%20%20%20%20%20%20%20%20%20.addData%28data%29%0A%20%20%20%20%20%20%20%20%20%20%20%20%20%20%20%20.addTo%28map_00d09ec529bb497396f87803b6b7ca1a%29%3B%0A%20%20%20%20%20%20%20%20%7D%0A%20%20%20%20%20%20%20%20%20%20%20%20geo_json_6220fd283f3b4b4db62274a16c2c5cc5_add%28%7B%22bbox%22%3A%20%5B37.3781464092793%2C%2055.6478734770522%2C%2037.509309%2C%2055.706075%5D%2C%20%22features%22%3A%20%5B%7B%22bbox%22%3A%20%5B37.445637%2C%2055.674669%2C%2037.509309%2C%2055.706075%5D%2C%20%22geometry%22%3A%20%7B%22coordinates%22%3A%20%5B%5B%5B37.498066%2C%2055.706068%5D%2C%20%5B37.492143%2C%2055.706075%5D%2C%20%5B37.48665%2C%2055.705784%5D%2C%20%5B37.479355%2C%2055.702537%5D%2C%20%5B37.474634%2C%2055.701519%5D%2C%20%5B37.466011%2C%2055.700645%5D%2C%20%5B37.459142%2C%2055.70127%5D%2C%20%5B37.454382%2C%2055.699625%5D%2C%20%5B37.447342%2C%2055.692934%5D%2C%20%5B37.445637%2C%2055.69166%5D%2C%20%5B37.448791%2C%2055.689498%5D%2C%20%5B37.455909%2C%2055.686398%5D%2C%20%5B37.461716%2C%2055.689691%5D%2C%20%5B37.468711%2C%2055.686224%5D%2C%20%5B37.470728%2C%2055.686745%5D%2C%20%5B37.476479%2C%2055.685739%5D%2C%20%5B37.470839%2C%2055.681897%5D%2C%20%5B37.471115%2C%2055.679022%5D%2C%20%5B37.478539%2C%2055.67507%5D%2C%20%5B37.481185%2C%2055.674669%5D%2C%20%5B37.482108%2C%2055.675074%5D%2C%20%5B37.484762%2C%2055.67604%5D%2C%20%5B37.482659%2C%2055.678828%5D%2C%20%5B37.485921%2C%2055.679459%5D%2C%20%5B37.489697%2C%2055.681884%5D%2C%20%5B37.494017%2C%2055.683711%5D%2C%20%5B37.496735%2C%2055.685108%5D%2C%20%5B37.49519%2C%2055.687654%5D%2C%20%5B37.509309%2C%2055.694441%5D%2C%20%5B37.500728%2C%2055.698694%5D%2C%20%5B37.497744%2C%2055.700845%5D%2C%20%5B37.493388%2C%2055.703242%5D%2C%20%5B37.498066%2C%2055.706068%5D%5D%5D%2C%20%22type%22%3A%20%22Polygon%22%7D%2C%20%22id%22%3A%20%223%22%2C%20%22properties%22%3A%20%7B%22courier_type_predict%22%3A%20%22yandex_taxi%22%2C%20%22zone_name%22%3A%20%22%5Cu041c%5Cu0438%5Cu0447%5Cu0443%5Cu0440%5Cu0438%5Cu043d%5Cu0441%5Cu043a%5Cu0438%5Cu0439%20%5Cu043f%5Cu0440%5Cu043e%5Cu0441%5Cu043f%5Cu0435%5Cu043a%5Cu0442%2C%2054%20%5Cu043a%202_yandex_taxi%22%7D%2C%20%22type%22%3A%20%22Feature%22%7D%2C%20%7B%22bbox%22%3A%20%5B37.3781464092793%2C%2055.6478734770522%2C%2037.476479%2C%2055.7030935798656%5D%2C%20%22geometry%22%3A%20%7B%22coordinates%22%3A%20%5B%5B%5B37.4327425061238%2C%2055.66168912282%5D%2C%20%5B37.4373247014748%2C%2055.6574211017095%5D%2C%20%5B37.4293357938284%2C%2055.6547141683111%5D%2C%20%5B37.4277447163106%2C%2055.6530083202258%5D%2C%20%5B37.4288599341663%2C%2055.6518393253181%5D%2C%20%5B37.4287357492586%2C%2055.6516735662771%5D%2C%20%5B37.431762129444%2C%2055.6484507295494%5D%2C%20%5B37.4398608933203%2C%2055.6478734770522%5D%2C%20%5B37.4444217761348%2C%2055.6514330652324%5D%2C%20%5B37.4444217761348%2C%2055.6514330652324%5D%2C%20%5B37.4604715939332%2C%2055.6568436802571%5D%2C%20%5B37.4656858518676%2C%2055.6580974959267%5D%2C%20%5B37.4677463651123%2C%2055.6650115329161%5D%2C%20%5B37.4662322308927%2C%2055.6652235601879%5D%2C%20%5B37.4662322308927%2C%2055.6657785298289%5D%2C%20%5B37.4653794759799%2C%2055.6665924710666%5D%2C%20%5B37.4655270681764%2C%2055.6671381721892%5D%2C%20%5B37.4659534456327%2C%2055.6675081347237%5D%2C%20%5B37.4696760488096%2C%2055.6697093394857%5D%2C%20%5B37.4657164229644%2C%2055.6714059168335%5D%2C%20%5B37.472755447113%2C%2055.6753913628803%5D%2C%20%5B37.4701680582275%2C%2055.6770155401594%5D%2C%20%5B37.468872%2C%2055.676385%5D%2C%20%5B37.467475%2C%2055.677258%5D%2C%20%5B37.471105%2C%2055.679028%5D%2C%20%5B37.470839%2C%2055.681897%5D%2C%20%5B37.476479%2C%2055.685739%5D%2C%20%5B37.470728%2C%2055.686745%5D%2C%20%5B37.468711%2C%2055.686224%5D%2C%20%5B37.461716%2C%2055.689691%5D%2C%20%5B37.4559092333173%2C%2055.6863984264361%5D%2C%20%5B37.4487908461207%2C%2055.6894980055616%5D%2C%20%5B37.4456365907163%2C%2055.6916603571222%5D%2C%20%5B37.4473415936376%2C%2055.6929336859818%5D%2C%20%5B37.4543818840331%2C%2055.6996246594523%5D%2C%20%5B37.4524145169427%2C%2055.7030935798656%5D%2C%20%5B37.4515498273748%2C%2055.7024141248575%5D%2C%20%5B37.4472819100576%2C%2055.7026376310982%5D%2C%20%5B37.4469328610577%2C%2055.7020028700349%5D%2C%20%5B37.4229040105864%2C%2055.697675491751%5D%2C%20%5B37.4287426484031%2C%2055.6874094635675%5D%2C%20%5B37.4257580335427%2C%2055.6888049030786%5D%2C%20%5B37.4218999660884%2C%2055.6888007564566%5D%2C%20%5B37.4156191022178%2C%2055.6873731317991%5D%2C%20%5B37.4136935527617%2C%2055.6900739748039%5D%2C%20%5B37.4021415699616%2C%2055.6850536162083%5D%2C%20%5B37.3948070003561%2C%2055.681497643911%5D%2C%20%5B37.3904932473735%2C%2055.6880154402321%5D%2C%20%5B37.3849687306412%2C%2055.6822083518549%5D%2C%20%5B37.3781464092793%2C%2055.6798110460002%5D%2C%20%5B37.3859815954051%2C%2055.6718922071431%5D%2C%20%5B37.3984229830015%2C%2055.6715803705517%5D%2C%20%5B37.4131562850651%2C%2055.6673029658114%5D%2C%20%5B37.4155859142279%2C%2055.6643458812218%5D%2C%20%5B37.4084888395679%2C%2055.6624104325283%5D%2C%20%5B37.408531464641%2C%2055.659909835371%5D%2C%20%5B37.4327425061238%2C%2055.66168912282%5D%5D%5D%2C%20%22type%22%3A%20%22Polygon%22%7D%2C%20%22id%22%3A%20%224%22%2C%20%22properties%22%3A%20%7B%22courier_type_predict%22%3A%20%22yandex_taxi%22%2C%20%22zone_name%22%3A%20%22%5Cu041e%5Cu0437%5Cu0435%5Cu0440%5Cu043d%5Cu0430%5Cu044f%2C%2035_yandex_taxi%22%7D%2C%20%22type%22%3A%20%22Feature%22%7D%5D%2C%20%22type%22%3A%20%22FeatureCollection%22%7D%29%3B%0A%0A%20%20%20%20%20%20%20%20%0A%20%20%20%20%0A%20%20%20%20geo_json_6220fd283f3b4b4db62274a16c2c5cc5.bindTooltip%28%0A%20%20%20%20function%28layer%29%7B%0A%20%20%20%20let%20div%20%3D%20L.DomUtil.create%28%27div%27%29%3B%0A%20%20%20%20%0A%20%20%20%20let%20handleObject%20%3D%20feature%3D%3Etypeof%28feature%29%3D%3D%27object%27%20%3F%20JSON.stringify%28feature%29%20%3A%20feature%3B%0A%20%20%20%20let%20fields%20%3D%20%5B%22zone_name%22%2C%20%22courier_type_predict%22%5D%3B%0A%20%20%20%20let%20aliases%20%3D%20%5B%22%5Cu041b%5Cu0430%5Cu0432%5Cu043a%5Cu0430%3A%22%2C%20%22%5Cu0421%5Cu043f%5Cu043e%5Cu0441%5Cu043e%5Cu0431%20%5Cu0434%5Cu043e%5Cu0441%5Cu0442%5Cu0430%5Cu0432%5Cu043a%5Cu0438%3A%22%5D%3B%0A%20%20%20%20let%20table%20%3D%20%27%3Ctable%3E%27%20%2B%0A%20%20%20%20%20%20%20%20String%28%0A%20%20%20%20%20%20%20%20fields.map%28%0A%20%20%20%20%20%20%20%20%28v%2Ci%29%3D%3E%0A%20%20%20%20%20%20%20%20%60%3Ctr%3E%0A%20%20%20%20%20%20%20%20%20%20%20%20%3Cth%3E%24%7Baliases%5Bi%5D%7D%3C/th%3E%0A%20%20%20%20%20%20%20%20%20%20%20%20%0A%20%20%20%20%20%20%20%20%20%20%20%20%3Ctd%3E%24%7BhandleObject%28layer.feature.properties%5Bv%5D%29%7D%3C/td%3E%0A%20%20%20%20%20%20%20%20%3C/tr%3E%60%29.join%28%27%27%29%29%0A%20%20%20%20%2B%27%3C/table%3E%27%3B%0A%20%20%20%20div.innerHTML%3Dtable%3B%0A%20%20%20%20%0A%20%20%20%20return%20div%0A%20%20%20%20%7D%0A%20%20%20%20%2C%7B%22className%22%3A%20%22foliumtooltip%22%2C%20%22sticky%22%3A%20true%7D%29%3B%0A%20%20%20%20%20%20%20%20%20%20%20%20%20%20%20%20%20%20%20%20%20%0A%20%20%20%20%0A%20%20%20%20%20%20%20%20function%20geo_json_741c6640da284290863c73629277ebf1_styler%28feature%29%20%7B%0A%20%20%20%20%20%20%20%20%20%20%20%20switch%28feature.id%29%20%7B%0A%20%20%20%20%20%20%20%20%20%20%20%20%20%20%20%20default%3A%0A%20%20%20%20%20%20%20%20%20%20%20%20%20%20%20%20%20%20%20%20return%20%7B%22color%22%3A%20%22black%22%2C%20%22fillOpacity%22%3A%200.3%2C%20%22weight%22%3A%202%7D%3B%0A%20%20%20%20%20%20%20%20%20%20%20%20%7D%0A%20%20%20%20%20%20%20%20%7D%0A%0A%20%20%20%20%20%20%20%20function%20geo_json_741c6640da284290863c73629277ebf1_onEachFeature%28feature%2C%20layer%29%20%7B%0A%20%20%20%20%20%20%20%20%20%20%20%20layer.on%28%7B%0A%20%20%20%20%20%20%20%20%20%20%20%20%7D%29%3B%0A%20%20%20%20%20%20%20%20%7D%3B%0A%20%20%20%20%20%20%20%20var%20geo_json_741c6640da284290863c73629277ebf1%20%3D%20L.geoJson%28null%2C%20%7B%0A%20%20%20%20%20%20%20%20%20%20%20%20%20%20%20%20onEachFeature%3A%20geo_json_741c6640da284290863c73629277ebf1_onEachFeature%2C%0A%20%20%20%20%20%20%20%20%20%20%20%20%0A%20%20%20%20%20%20%20%20%20%20%20%20%20%20%20%20style%3A%20geo_json_741c6640da284290863c73629277ebf1_styler%2C%0A%20%20%20%20%20%20%20%20%7D%29%3B%0A%0A%20%20%20%20%20%20%20%20function%20geo_json_741c6640da284290863c73629277ebf1_add%20%28data%29%20%7B%0A%20%20%20%20%20%20%20%20%20%20%20%20geo_json_741c6640da284290863c73629277ebf1%0A%20%20%20%20%20%20%20%20%20%20%20%20%20%20%20%20.addData%28data%29%0A%20%20%20%20%20%20%20%20%20%20%20%20%20%20%20%20.addTo%28map_00d09ec529bb497396f87803b6b7ca1a%29%3B%0A%20%20%20%20%20%20%20%20%7D%0A%20%20%20%20%20%20%20%20%20%20%20%20geo_json_741c6640da284290863c73629277ebf1_add%28%7B%22bbox%22%3A%20%5B37.44791463815073%2C%2055.67844447340155%2C%2037.480094569229884%2C%2055.69979818152731%5D%2C%20%22features%22%3A%20%5B%7B%22bbox%22%3A%20%5B37.44791463815073%2C%2055.67844447340155%2C%2037.480094569229884%2C%2055.69979818152731%5D%2C%20%22geometry%22%3A%20%7B%22coordinates%22%3A%20%5B%5B%5B37.44791463815073%2C%2055.68153431942374%5D%2C%20%5B37.45178203627463%2C%2055.679551672650625%5D%2C%20%5B37.45322025025739%2C%2055.68056008037598%5D%2C%20%5B37.45569102812517%2C%2055.67948929606124%5D%2C%20%5B37.456032142980064%2C%2055.67924498679501%5D%2C%20%5B37.456576082883785%2C%2055.67907344958986%5D%2C%20%5B37.45599526569845%2C%2055.67857962616291%5D%2C%20%5B37.45632716123293%2C%2055.678454869784375%5D%2C%20%5B37.45887169366395%2C%2055.67844447340155%5D%2C%20%5B37.464170836357646%2C%2055.68196550878034%5D%2C%20%5B37.467976986965446%2C%2055.68010056863094%5D%2C%20%5B37.477531598158066%2C%2055.685918759451866%5D%2C%20%5B37.47574877011719%2C%2055.68730863682456%5D%2C%20%5B37.47957828728735%2C%2055.6906271380833%5D%2C%20%5B37.480094569229884%2C%2055.69304866611983%5D%2C%20%5B37.47624089330175%2C%2055.694929663790845%5D%2C%20%5B37.47535583854314%2C%2055.69615590083094%5D%2C%20%5B37.47535583854314%2C%2055.69768344740469%5D%2C%20%5B37.47550334766957%2C%2055.69891998900492%5D%2C%20%5B37.473843869997175%2C%2055.69899272552789%5D%2C%20%5B37.472245976736986%2C%2055.69979818152731%5D%2C%20%5B37.469105139310436%2C%2055.69774579497646%5D%2C%20%5B37.4677406798909%2C%2055.696322167298675%5D%2C%20%5B37.466505290956995%2C%2055.694513981488306%5D%2C%20%5B37.46373949483633%2C%2055.6909597173422%5D%2C%20%5B37.46270693095128%2C%2055.69018023024926%5D%2C%20%5B37.44791463815073%2C%2055.68153431942374%5D%5D%5D%2C%20%22type%22%3A%20%22Polygon%22%7D%2C%20%22id%22%3A%20%221%22%2C%20%22properties%22%3A%20%7B%22courier_type_predict%22%3A%20%22foot%22%2C%20%22zone_name%22%3A%20%22zone_o4akovskaya6s2%22%7D%2C%20%22type%22%3A%20%22Feature%22%7D%5D%2C%20%22type%22%3A%20%22FeatureCollection%22%7D%29%3B%0A%0A%20%20%20%20%20%20%20%20%0A%20%20%20%20%0A%20%20%20%20geo_json_741c6640da284290863c73629277ebf1.bindTooltip%28%0A%20%20%20%20function%28layer%29%7B%0A%20%20%20%20let%20div%20%3D%20L.DomUtil.create%28%27div%27%29%3B%0A%20%20%20%20%0A%20%20%20%20let%20handleObject%20%3D%20feature%3D%3Etypeof%28feature%29%3D%3D%27object%27%20%3F%20JSON.stringify%28feature%29%20%3A%20feature%3B%0A%20%20%20%20let%20fields%20%3D%20%5B%22zone_name%22%2C%20%22courier_type_predict%22%5D%3B%0A%20%20%20%20let%20aliases%20%3D%20%5B%22%5Cu041b%5Cu0430%5Cu0432%5Cu043a%5Cu0430%3A%22%2C%20%22%5Cu0421%5Cu043f%5Cu043e%5Cu0441%5Cu043e%5Cu0431%20%5Cu0434%5Cu043e%5Cu0441%5Cu0442%5Cu0430%5Cu0432%5Cu043a%5Cu0438%3A%22%5D%3B%0A%20%20%20%20let%20table%20%3D%20%27%3Ctable%3E%27%20%2B%0A%20%20%20%20%20%20%20%20String%28%0A%20%20%20%20%20%20%20%20fields.map%28%0A%20%20%20%20%20%20%20%20%28v%2Ci%29%3D%3E%0A%20%20%20%20%20%20%20%20%60%3Ctr%3E%0A%20%20%20%20%20%20%20%20%20%20%20%20%3Cth%3E%24%7Baliases%5Bi%5D%7D%3C/th%3E%0A%20%20%20%20%20%20%20%20%20%20%20%20%0A%20%20%20%20%20%20%20%20%20%20%20%20%3Ctd%3E%24%7BhandleObject%28layer.feature.properties%5Bv%5D%29%7D%3C/td%3E%0A%20%20%20%20%20%20%20%20%3C/tr%3E%60%29.join%28%27%27%29%29%0A%20%20%20%20%2B%27%3C/table%3E%27%3B%0A%20%20%20%20div.innerHTML%3Dtable%3B%0A%20%20%20%20%0A%20%20%20%20return%20div%0A%20%20%20%20%7D%0A%20%20%20%20%2C%7B%22className%22%3A%20%22foliumtooltip%22%2C%20%22sticky%22%3A%20true%7D%29%3B%0A%20%20%20%20%20%20%20%20%20%20%20%20%20%20%20%20%20%20%20%20%20%0A%20%20%20%20%0A%20%20%20%20geo_json_741c6640da284290863c73629277ebf1.bindPopup%28%0A%20%20%20%20function%28layer%29%7B%0A%20%20%20%20let%20div%20%3D%20L.DomUtil.create%28%27div%27%29%3B%0A%20%20%20%20%0A%20%20%20%20let%20handleObject%20%3D%20feature%3D%3Etypeof%28feature%29%3D%3D%27object%27%20%3F%20JSON.stringify%28feature%29%20%3A%20feature%3B%0A%20%20%20%20let%20fields%20%3D%20%5B%22zone_name%22%5D%3B%0A%20%20%20%20let%20aliases%20%3D%20%5B%22zone_name%22%5D%3B%0A%20%20%20%20let%20table%20%3D%20%27%3Ctable%3E%27%20%2B%0A%20%20%20%20%20%20%20%20String%28%0A%20%20%20%20%20%20%20%20fields.map%28%0A%20%20%20%20%20%20%20%20%28v%2Ci%29%3D%3E%0A%20%20%20%20%20%20%20%20%60%3Ctr%3E%0A%20%20%20%20%20%20%20%20%20%20%20%20%3Cth%3E%24%7Baliases%5Bi%5D.toLocaleString%28%29%7D%3C/th%3E%0A%20%20%20%20%20%20%20%20%20%20%20%20%0A%20%20%20%20%20%20%20%20%20%20%20%20%3Ctd%3E%24%7BhandleObject%28layer.feature.properties%5Bv%5D%29.toLocaleString%28%29%7D%3C/td%3E%0A%20%20%20%20%20%20%20%20%3C/tr%3E%60%29.join%28%27%27%29%29%0A%20%20%20%20%2B%27%3C/table%3E%27%3B%0A%20%20%20%20div.innerHTML%3Dtable%3B%0A%20%20%20%20%0A%20%20%20%20return%20div%0A%20%20%20%20%7D%0A%20%20%20%20%2C%7B%22className%22%3A%20%22foliumpopup%22%7D%29%3B%0A%20%20%20%20%20%20%20%20%20%20%20%20%20%20%20%20%20%20%20%20%20%0A%20%20%20%20%0A%20%20%20%20%20%20%20%20function%20geo_json_a286faba982246bfa11b118d7a787122_styler%28feature%29%20%7B%0A%20%20%20%20%20%20%20%20%20%20%20%20switch%28feature.id%29%20%7B%0A%20%20%20%20%20%20%20%20%20%20%20%20%20%20%20%20default%3A%0A%20%20%20%20%20%20%20%20%20%20%20%20%20%20%20%20%20%20%20%20return%20%7B%22color%22%3A%20%22green%22%2C%20%22fillOpacity%22%3A%200.3%2C%20%22weight%22%3A%203%7D%3B%0A%20%20%20%20%20%20%20%20%20%20%20%20%7D%0A%20%20%20%20%20%20%20%20%7D%0A%0A%20%20%20%20%20%20%20%20function%20geo_json_a286faba982246bfa11b118d7a787122_onEachFeature%28feature%2C%20layer%29%20%7B%0A%20%20%20%20%20%20%20%20%20%20%20%20layer.on%28%7B%0A%20%20%20%20%20%20%20%20%20%20%20%20%7D%29%3B%0A%20%20%20%20%20%20%20%20%7D%3B%0A%20%20%20%20%20%20%20%20var%20geo_json_a286faba982246bfa11b118d7a787122%20%3D%20L.geoJson%28null%2C%20%7B%0A%20%20%20%20%20%20%20%20%20%20%20%20%20%20%20%20onEachFeature%3A%20geo_json_a286faba982246bfa11b118d7a787122_onEachFeature%2C%0A%20%20%20%20%20%20%20%20%20%20%20%20%0A%20%20%20%20%20%20%20%20%20%20%20%20%20%20%20%20style%3A%20geo_json_a286faba982246bfa11b118d7a787122_styler%2C%0A%20%20%20%20%20%20%20%20%7D%29%3B%0A%0A%20%20%20%20%20%20%20%20function%20geo_json_a286faba982246bfa11b118d7a787122_add%20%28data%29%20%7B%0A%20%20%20%20%20%20%20%20%20%20%20%20geo_json_a286faba982246bfa11b118d7a787122%0A%20%20%20%20%20%20%20%20%20%20%20%20%20%20%20%20.addData%28data%29%0A%20%20%20%20%20%20%20%20%20%20%20%20%20%20%20%20.addTo%28map_00d09ec529bb497396f87803b6b7ca1a%29%3B%0A%20%20%20%20%20%20%20%20%7D%0A%20%20%20%20%20%20%20%20%20%20%20%20geo_json_a286faba982246bfa11b118d7a787122_add%28%7B%22bbox%22%3A%20%5B37.430291%2C%2055.661808%2C%2037.509309%2C%2055.706075%5D%2C%20%22features%22%3A%20%5B%7B%22bbox%22%3A%20%5B37.430291%2C%2055.661808%2C%2037.472755447113%2C%2055.68196539372731%5D%2C%20%22geometry%22%3A%20%7B%22coordinates%22%3A%20%5B%5B%5B37.471105%2C%2055.679028%5D%2C%20%5B37.469823%2C%2055.678422%5D%2C%20%5B37.467475%2C%2055.677258%5D%2C%20%5B37.468872%2C%2055.676385%5D%2C%20%5B37.4701680582275%2C%2055.6770155401594%5D%2C%20%5B37.472755447113%2C%2055.6753913628803%5D%2C%20%5B37.454833%2C%2055.665243%5D%2C%20%5B37.454034%2C%2055.662227%5D%2C%20%5B37.450461%2C%2055.661808%5D%2C%20%5B37.443745%2C%2055.66843%5D%2C%20%5B37.439432%2C%2055.664622%5D%2C%20%5B37.4378655740967%2C%2055.6638579673727%5D%2C%20%5B37.4348507632446%2C%2055.663087808904%5D%2C%20%5B37.430291%2C%2055.667533%5D%2C%20%5B37.4404564232788%2C%2055.6768098772826%5D%2C%20%5B37.4438978273696%2C%2055.6794970877058%5D%2C%20%5B37.447914580509924%2C%2055.68153425811186%5D%2C%20%5B37.44791458172673%2C%2055.68153425557683%5D%2C%20%5B37.44791458692613%2C%2055.68153424704762%5D%2C%20%5B37.44791459295052%2C%2055.681534239079696%5D%2C%20%5B37.447914599739775%2C%2055.68153423175255%5D%2C%20%5B37.44791460722616%2C%2055.681534225139295%5D%2C%20%5B37.44791461533497%2C%2055.68153421930592%5D%2C%20%5B37.4479146239853%2C%2055.68153421431063%5D%2C%20%5B37.451781990654496%2C%2055.67955158366293%5D%2C%20%5B37.4517819996413%2C%2055.67955157960222%5D%2C%20%5B37.45178200898437%2C%2055.67955157644642%5D%2C%20%5B37.45178201859284%2C%2055.67955157422623%5D%2C%20%5B37.45178202837327%2C%2055.67955157296324%5D%2C%20%5B37.45178203823054%2C%2055.67955157266973%5D%2C%20%5B37.45178204806879%2C%2055.67955157334855%5D%2C%20%5B37.45178205779234%2C%2055.6795515749931%5D%2C%20%5B37.45178206730663%2C%2055.67955157758739%5D%2C%20%5B37.45178207651912%2C%2055.67955158110619%5D%2C%20%5B37.451782085340234%2C%2055.67955158551528%5D%2C%20%5B37.451782093684166%2C%2055.67955159077177%5D%2C%20%5B37.45322026184337%2C%2055.68055996636783%5D%2C%20%5B37.45569097857172%2C%2055.67948920854961%5D%2C%20%5B37.456032084752835%2C%2055.67924490549564%5D%2C%20%5B37.4560320936242%2C%2055.679244899823765%5D%2C%20%5B37.45603210304279%2C%2055.67924489511615%5D%2C%20%5B37.45603211290416%2C%2055.67924489142499%5D%2C%20%5B37.4565758803128%2C%2055.67907340861804%5D%2C%20%5B37.455995200923745%2C%2055.67857970234849%5D%2C%20%5B37.455995193716085%2C%2055.67857969557865%5D%2C%20%5B37.455995187212274%2C%2055.67857968813005%5D%2C%20%5B37.455995181475906%2C%2055.67857968007553%5D%2C%20%5B37.45599517656308%2C%2055.67857967149385%5D%2C%20%5B37.455995172521824%2C%2055.67857966246891%5D%2C%20%5B37.45599516939166%2C%2055.678579653088974%5D%2C%20%5B37.455995167203206%2C%2055.678579643445744%5D%2C%20%5B37.45599516597784%2C%2055.678579633633525%5D%2C%20%5B37.45599516572756%2C%2055.678579623748256%5D%2C%20%5B37.4559951664548%2C%2055.6785796138866%5D%2C%20%5B37.455995168152455%2C%2055.67857960414498%5D%2C%20%5B37.455995170803924%2C%2055.678579594618654%5D%2C%20%5B37.45599517438329%2C%2055.678579585400776%5D%2C%20%5B37.455995178855545%2C%2055.67857957658147%5D%2C%20%5B37.455995184176956%2C%2055.678579568246974%5D%2C%20%5B37.45599519029549%2C%2055.678579560478795%5D%2C%20%5B37.45599519715133%2C%2055.678579553352876%5D%2C%20%5B37.45599520467743%2C%2055.678579546938906%5D%2C%20%5B37.4559952128002%2C%2055.6785795412996%5D%2C%20%5B37.45599522144021%2C%2055.67857953649009%5D%2C%20%5B37.45599523051298%2C%2055.678579532557414%5D%2C%20%5B37.45632712604748%2C%2055.67845477617892%5D%2C%20%5B37.45632713449376%2C%2055.6784547734256%5D%2C%20%5B37.456327143151064%2C%2055.678454771432754%5D%2C%20%5B37.456327151951065%2C%2055.6784547702161%5D%2C%20%5B37.45632716082432%2C%2055.67845476978524%5D%2C%20%5B37.458871693255425%2C%2055.678444373402336%5D%2C%20%5B37.458871703084014%2C%2055.67844437384617%5D%2C%20%5B37.45887171282143%2C%2055.67844437525368%5D%2C%20%5B37.45887172237339%2C%2055.67844437761126%5D%2C%20%5B37.458871731647456%2C%2055.67844438089605%5D%2C%20%5B37.458871740553846%2C%2055.67844438507629%5D%2C%20%5B37.458871749006356%2C%2055.6784443901115%5D%2C%20%5B37.464170843896795%2C%2055.68196539372731%5D%2C%20%5B37.46797694296527%2C%2055.68010047883118%5D%2C%20%5B37.46797694411746%2C%2055.68010047833517%5D%2C%20%5B37.46797694522923%2C%2055.68010047775719%5D%2C%20%5B37.46797694863913%2C%2055.68010047638864%5D%2C%20%5B37.46797695197906%2C%2055.68010047495083%5D%2C%20%5B37.46797695315384%2C%2055.68010047457666%5D%2C%20%5B37.467976954297356%2C%2055.680100474117715%5D%2C%20%5B37.46797695784621%2C%2055.68010047308216%5D%2C%20%5B37.46797696132978%2C%2055.68010047197266%5D%2C%20%5B37.467976962514705%2C%2055.680100471719896%5D%2C%20%5B37.467976963677394%2C%2055.68010047138063%5D%2C%20%5B37.46797696733258%2C%2055.68010047069218%5D%2C%20%5B37.46797697092739%2C%2055.680100469925364%5D%2C%20%5B37.467976972110016%2C%2055.680100469792364%5D%2C%20%5B37.467976973279775%2C%2055.68010046957205%5D%2C%20%5B37.46797697700764%2C%2055.68010046924159%5D%2C%20%5B37.467976980679445%2C%2055.68010046882866%5D%2C%20%5B37.467976981847904%2C%2055.68010046881252%5D%2C%20%5B37.467976983012825%2C%2055.680100468709256%5D%2C%20%5B37.46797698677815%2C%2055.68010046874441%5D%2C%20%5B37.46797699049205%2C%2055.680100468693105%5D%2C%20%5B37.467976991635034%2C%2055.68010046878976%5D%2C%20%5B37.46797699278362%2C%2055.68010046880048%5D%2C%20%5B37.467976996550625%2C%2055.68010046920543%5D%2C%20%5B37.46797700027068%2C%2055.680100469520006%5D%2C%20%5B37.46797700137749%2C%2055.680100469724316%5D%2C%20%5B37.46797700249886%2C%2055.68010046984486%5D%2C%20%5B37.467977006231074%2C%2055.68010047062024%5D%2C%20%5B37.46797700992118%2C%2055.680100471301394%5D%2C%20%5B37.46797701098201%2C%2055.680100471607254%5D%2C%20%5B37.4679770120658%2C%2055.68010047183242%5D%2C%20%5B37.467977015726866%2C%2055.68010047297531%5D%2C%20%5B37.4679770193506%2C%2055.68010047402012%5D%2C%20%5B37.46797702035626%2C%2055.6801004744205%5D%2C%20%5B37.4679770213931%2C%2055.68010047474417%5D%2C%20%5B37.46797702494707%2C%2055.6801004762482%5D%2C%20%5B37.467977028468134%2C%2055.68010047765001%5D%2C%20%5B37.46797702941052%2C%2055.680100478137106%5D%2C%20%5B37.46797703039169%2C%2055.68010047855233%5D%2C%20%5B37.467977033802775%2C%2055.680100480407376%5D%2C%20%5B37.467977037185975%2C%2055.680100482156085%5D%2C%20%5B37.467977038057974%2C%2055.68010048272147%5D%2C%20%5B37.46797703897566%2C%2055.680100483220535%5D%2C%20%5B37.470843717340905%2C%2055.681846120108794%5D%2C%20%5B37.471105%2C%2055.679028%5D%5D%5D%2C%20%22type%22%3A%20%22Polygon%22%7D%2C%20%22id%22%3A%20%222%22%2C%20%22properties%22%3A%20%7B%22courier_type_predict%22%3A%20%22foot%22%2C%20%22zone_name%22%3A%20%22%5Cu041e%5Cu0437%5Cu0435%5Cu0440%5Cu043d%5Cu0430%5Cu044f%2C%2035_foot_zone_o4akovskaya6s2%22%7D%2C%20%22type%22%3A%20%22Feature%22%7D%2C%20%7B%22bbox%22%3A%20%5B37.461716%2C%2055.67456%2C%2037.509309%2C%2055.706075%5D%2C%20%22geometry%22%3A%20%7B%22coordinates%22%3A%20%5B%5B%5B%5B37.474634%2C%2055.701519%5D%2C%20%5B37.479355%2C%2055.702537%5D%2C%20%5B37.48665%2C%2055.705784%5D%2C%20%5B37.492143%2C%2055.706075%5D%2C%20%5B37.498066%2C%2055.706068%5D%2C%20%5B37.493388%2C%2055.703242%5D%2C%20%5B37.497637%2C%2055.700816%5D%2C%20%5B37.500297%2C%2055.698804%5D%2C%20%5B37.509309%2C%2055.694441%5D%2C%20%5B37.49519%2C%2055.687654%5D%2C%20%5B37.496735%2C%2055.685108%5D%2C%20%5B37.494117%2C%2055.683629%5D%2C%20%5B37.489697%2C%2055.681884%5D%2C%20%5B37.485921%2C%2055.679459%5D%2C%20%5B37.482659%2C%2055.678828%5D%2C%20%5B37.484762%2C%2055.67604%5D%2C%20%5B37.481114%2C%2055.67456%5D%2C%20%5B37.478539%2C%2055.67507%5D%2C%20%5B37.471115%2C%2055.679022%5D%2C%20%5B37.47098703693251%2C%2055.681933407775915%5D%2C%20%5B37.470987037860404%2C%2055.68193340777946%5D%2C%20%5B37.470987047679934%2C%2055.68193340879023%5D%2C%20%5B37.47098705735197%2C%2055.681933410764216%5D%2C%20%5B37.47098706678226%2C%2055.68193341368219%5D%2C%20%5B37.470987075878895%2C%2055.681933417515715%5D%2C%20%5B37.47098708455326%2C%2055.68193342222744%5D%2C%20%5B37.47753165016806%2C%2055.68591867404134%5D%2C%20%5B37.477531658165226%2C%2055.685918679457245%5D%2C%20%5B37.47753166560261%2C%2055.6859186856194%5D%2C%20%5B37.47753167241082%2C%2055.68591869247031%5D%2C%20%5B37.477531678526354%2C%2055.68591869994607%5D%2C%20%5B37.47753168389216%2C%2055.685918707976946%5D%2C%20%5B37.47753168845818%2C%2055.685918716488004%5D%2C%20%5B37.47753169218182%2C%2055.685918725399866%5D%2C%20%5B37.47753169502834%2C%2055.68591873462939%5D%2C%20%5B37.47753169697119%2C%2055.68591874409047%5D%2C%20%5B37.47753169799225%2C%2055.68591875369486%5D%2C%20%5B37.47753169808198%2C%2055.685918763352944%5D%2C%20%5B37.47753169723956%2C%2055.685918772974645%5D%2C%20%5B37.47753169547284%2C%2055.68591878247019%5D%2C%20%5B37.4775316927983%2C%2055.68591879175101%5D%2C%20%5B37.4775316892409%2C%2055.68591880073052%5D%2C%20%5B37.47753168483381%2C%2055.68591880932496%5D%2C%20%5B37.47753167961815%2C%2055.685918817454144%5D%2C%20%5B37.47753167364258%2C%2055.68591882504224%5D%2C%20%5B37.47753166696284%2C%2055.68591883201848%5D%2C%20%5B37.477531659641244%2C%2055.68591883831776%5D%2C%20%5B37.47574892752695%2C%2055.687308640906906%5D%2C%20%5B37.479578352775796%2C%2055.69062706251035%5D%2C%20%5B37.479578359468526%2C%2055.6906270688743%5D%2C%20%5B37.479578365545606%2C%2055.69062707582855%5D%2C%20%5B37.4795783709552%2C%2055.690627083313785%5D%2C%20%5B37.47957837565117%2C%2055.690627091266165%5D%2C%20%5B37.47957837959347%2C%2055.690627099617856%5D%2C%20%5B37.479578382748464%2C%2055.69062710829763%5D%2C%20%5B37.47957838508925%2C%2055.69062711723146%5D%2C%20%5B37.48009466703174%2C%2055.69304864526796%5D%2C%20%5B37.48009466856604%2C%2055.69304865461627%5D%2C%20%5B37.480094669208846%2C%2055.69304866406782%5D%2C%20%5B37.480094668954386%2C%2055.69304867353778%5D%2C%20%5B37.480094667804956%2C%2055.693048682941175%5D%2C%20%5B37.48009466577086%2C%2055.6930486921936%5D%2C%20%5B37.48009466287036%2C%2055.69304870121203%5D%2C%20%5B37.48009465912948%2C%2055.69304870991552%5D%2C%20%5B37.4800946545818%2C%2055.693048718225974%5D%2C%20%5B37.480094649268125%2C%2055.693048726068795%5D%2C%20%5B37.48009464323616%2C%2055.6930487333736%5D%2C%20%5B37.48009463654001%2C%2055.69304874007484%5D%2C%20%5B37.480094629239794%2C%2055.693048746112375%5D%2C%20%5B37.480094621401015%2C%2055.693048751432016%5D%2C%20%5B37.48009461309403%2C%2055.69304875598602%5D%2C%20%5B37.47624095970728%2C%2055.69492974265443%5D%2C%20%5B37.4753559385431%2C%2055.696155933149704%5D%2C%20%5B37.4753559385431%2C%2055.69768344146119%5D%2C%20%5B37.47550344696558%2C%2055.69891997715972%5D%2C%20%5B37.47550344764557%2C%2055.69891998681275%5D%2C%20%5B37.47550344738935%2C%2055.6989199964863%5D%2C%20%5B37.475503446199326%2C%2055.6989200060898%5D%2C%20%5B37.47550344408663%2C%2055.69892001553331%5D%2C%20%5B37.475503441071055%2C%2055.6989200247284%5D%2C%20%5B37.47550343718083%2C%2055.69892003358896%5D%2C%20%5B37.475503432452406%2C%2055.69892004203203%5D%2C%20%5B37.47550342693004%2C%2055.698920049978526%5D%2C%20%5B37.475503420665454%2C%2055.698920057354044%5D%2C%20%5B37.475503413717306%2C%2055.69892006408952%5D%2C%20%5B37.47550340615067%2C%2055.69892007012188%5D%2C%20%5B37.475503398036395%2C%2055.69892007539463%5D%2C%20%5B37.47550338945047%2C%2055.698920079858404%5D%2C%20%5B37.4755033804733%2C%2055.698920083471386%5D%2C%20%5B37.475503371188935%2C%2055.69892008619976%5D%2C%20%5B37.47550336168433%2C%2055.698920088017964%5D%2C%20%5B37.47550335204849%2C%2055.69892008890898%5D%2C%20%5B37.47384389583175%2C%2055.698992824491555%5D%2C%20%5B37.472246133965676%2C%2055.69979821425864%5D%2C%20%5B37.474634%2C%2055.701519%5D%5D%5D%2C%20%5B%5B%5B37.461716%2C%2055.689691%5D%2C%20%5B37.46339%2C%2055.690902%5D%2C%20%5B37.467167%2C%2055.696138%5D%2C%20%5B37.46845057966753%2C%2055.69706299560613%5D%2C%20%5B37.46774060769587%2C%2055.696322236493195%5D%2C%20%5B37.46774060224552%2C%2055.69632223031611%5D%2C%20%5B37.467740597322084%2C%2055.696322223711384%5D%2C%20%5B37.466505210134905%2C%2055.694514040457584%5D%2C%20%5B37.46373942403476%2C%2055.69095978918869%5D%2C%20%5B37.46270687540331%2C%2055.69018031361076%5D%2C%20%5B37.46179923282007%2C%2055.689649807830286%5D%2C%20%5B37.46179922462782%2C%2055.689649802488056%5D%2C%20%5B37.4617992169966%2C%2055.68964979637111%5D%2C%20%5B37.46179920999942%2C%2055.68964978953796%5D%2C%20%5B37.461799203703194%2C%2055.689649782053976%5D%2C%20%5B37.46179919816816%2C%2055.68964977399074%5D%2C%20%5B37.46179919370519%2C%2055.68964976589337%5D%2C%20%5B37.461716%2C%2055.689691%5D%5D%5D%5D%2C%20%22type%22%3A%20%22MultiPolygon%22%7D%2C%20%22id%22%3A%20%225%22%2C%20%22properties%22%3A%20%7B%22courier_type_predict%22%3A%20%22foot%22%2C%20%22zone_name%22%3A%20%22%5Cu041c%5Cu0438%5Cu0447%5Cu0443%5Cu0440%5Cu0438%5Cu043d%5Cu0441%5Cu043a%5Cu0438%5Cu0439%20%5Cu043f%5Cu0440%5Cu043e%5Cu0441%5Cu043f%5Cu0435%5Cu043a%5Cu0442%2C%2054%20%5Cu043a%202_foot_zone_o4akovskaya6s2%22%7D%2C%20%22type%22%3A%20%22Feature%22%7D%5D%2C%20%22type%22%3A%20%22FeatureCollection%22%7D%29%3B%0A%0A%20%20%20%20%20%20%20%20%0A%20%20%20%20%0A%20%20%20%20geo_json_a286faba982246bfa11b118d7a787122.bindTooltip%28%0A%20%20%20%20function%28layer%29%7B%0A%20%20%20%20let%20div%20%3D%20L.DomUtil.create%28%27div%27%29%3B%0A%20%20%20%20%0A%20%20%20%20let%20handleObject%20%3D%20feature%3D%3Etypeof%28feature%29%3D%3D%27object%27%20%3F%20JSON.stringify%28feature%29%20%3A%20feature%3B%0A%20%20%20%20let%20fields%20%3D%20%5B%22zone_name%22%2C%20%22courier_type_predict%22%5D%3B%0A%20%20%20%20let%20aliases%20%3D%20%5B%22%5Cu041b%5Cu0430%5Cu0432%5Cu043a%5Cu0430%3A%22%2C%20%22%5Cu0421%5Cu043f%5Cu043e%5Cu0441%5Cu043e%5Cu0431%20%5Cu0434%5Cu043e%5Cu0441%5Cu0442%5Cu0430%5Cu0432%5Cu043a%5Cu0438%3A%22%5D%3B%0A%20%20%20%20let%20table%20%3D%20%27%3Ctable%3E%27%20%2B%0A%20%20%20%20%20%20%20%20String%28%0A%20%20%20%20%20%20%20%20fields.map%28%0A%20%20%20%20%20%20%20%20%28v%2Ci%29%3D%3E%0A%20%20%20%20%20%20%20%20%60%3Ctr%3E%0A%20%20%20%20%20%20%20%20%20%20%20%20%3Cth%3E%24%7Baliases%5Bi%5D%7D%3C/th%3E%0A%20%20%20%20%20%20%20%20%20%20%20%20%0A%20%20%20%20%20%20%20%20%20%20%20%20%3Ctd%3E%24%7BhandleObject%28layer.feature.properties%5Bv%5D%29%7D%3C/td%3E%0A%20%20%20%20%20%20%20%20%3C/tr%3E%60%29.join%28%27%27%29%29%0A%20%20%20%20%2B%27%3C/table%3E%27%3B%0A%20%20%20%20div.innerHTML%3Dtable%3B%0A%20%20%20%20%0A%20%20%20%20return%20div%0A%20%20%20%20%7D%0A%20%20%20%20%2C%7B%22className%22%3A%20%22foliumtooltip%22%2C%20%22sticky%22%3A%20true%7D%29%3B%0A%20%20%20%20%20%20%20%20%20%20%20%20%20%20%20%20%20%20%20%20%20%0A%20%20%20%20%0A%20%20%20%20geo_json_a286faba982246bfa11b118d7a787122.bindPopup%28%0A%20%20%20%20function%28layer%29%7B%0A%20%20%20%20let%20div%20%3D%20L.DomUtil.create%28%27div%27%29%3B%0A%20%20%20%20%0A%20%20%20%20let%20handleObject%20%3D%20feature%3D%3Etypeof%28feature%29%3D%3D%27object%27%20%3F%20JSON.stringify%28feature%29%20%3A%20feature%3B%0A%20%20%20%20let%20fields%20%3D%20%5B%22zone_name%22%5D%3B%0A%20%20%20%20let%20aliases%20%3D%20%5B%22zone_name%22%5D%3B%0A%20%20%20%20let%20table%20%3D%20%27%3Ctable%3E%27%20%2B%0A%20%20%20%20%20%20%20%20String%28%0A%20%20%20%20%20%20%20%20fields.map%28%0A%20%20%20%20%20%20%20%20%28v%2Ci%29%3D%3E%0A%20%20%20%20%20%20%20%20%60%3Ctr%3E%0A%20%20%20%20%20%20%20%20%20%20%20%20%3Cth%3E%24%7Baliases%5Bi%5D.toLocaleString%28%29%7D%3C/th%3E%0A%20%20%20%20%20%20%20%20%20%20%20%20%0A%20%20%20%20%20%20%20%20%20%20%20%20%3Ctd%3E%24%7BhandleObject%28layer.feature.properties%5Bv%5D%29.toLocaleString%28%29%7D%3C/td%3E%0A%20%20%20%20%20%20%20%20%3C/tr%3E%60%29.join%28%27%27%29%29%0A%20%20%20%20%2B%27%3C/table%3E%27%3B%0A%20%20%20%20div.innerHTML%3Dtable%3B%0A%20%20%20%20%0A%20%20%20%20return%20div%0A%20%20%20%20%7D%0A%20%20%20%20%2C%7B%22className%22%3A%20%22foliumpopup%22%7D%29%3B%0A%20%20%20%20%20%20%20%20%20%20%20%20%20%20%20%20%20%20%20%20%20%0A%20%20%20%20%0A%20%20%20%20%20%20%20%20function%20geo_json_368eb0e10b434a56a0a60ef372b7bf34_styler%28feature%29%20%7B%0A%20%20%20%20%20%20%20%20%20%20%20%20switch%28feature.id%29%20%7B%0A%20%20%20%20%20%20%20%20%20%20%20%20%20%20%20%20default%3A%0A%20%20%20%20%20%20%20%20%20%20%20%20%20%20%20%20%20%20%20%20return%20%7B%22color%22%3A%20%22orange%22%2C%20%22fillOpacity%22%3A%200.3%2C%20%22weight%22%3A%202%7D%3B%0A%20%20%20%20%20%20%20%20%20%20%20%20%7D%0A%20%20%20%20%20%20%20%20%7D%0A%0A%20%20%20%20%20%20%20%20function%20geo_json_368eb0e10b434a56a0a60ef372b7bf34_onEachFeature%28feature%2C%20layer%29%20%7B%0A%20%20%20%20%20%20%20%20%20%20%20%20layer.on%28%7B%0A%20%20%20%20%20%20%20%20%20%20%20%20%7D%29%3B%0A%20%20%20%20%20%20%20%20%7D%3B%0A%20%20%20%20%20%20%20%20var%20geo_json_368eb0e10b434a56a0a60ef372b7bf34%20%3D%20L.geoJson%28null%2C%20%7B%0A%20%20%20%20%20%20%20%20%20%20%20%20%20%20%20%20onEachFeature%3A%20geo_json_368eb0e10b434a56a0a60ef372b7bf34_onEachFeature%2C%0A%20%20%20%20%20%20%20%20%20%20%20%20%0A%20%20%20%20%20%20%20%20%20%20%20%20%20%20%20%20style%3A%20geo_json_368eb0e10b434a56a0a60ef372b7bf34_styler%2C%0A%20%20%20%20%20%20%20%20%7D%29%3B%0A%0A%20%20%20%20%20%20%20%20function%20geo_json_368eb0e10b434a56a0a60ef372b7bf34_add%20%28data%29%20%7B%0A%20%20%20%20%20%20%20%20%20%20%20%20geo_json_368eb0e10b434a56a0a60ef372b7bf34%0A%20%20%20%20%20%20%20%20%20%20%20%20%20%20%20%20.addData%28data%29%0A%20%20%20%20%20%20%20%20%20%20%20%20%20%20%20%20.addTo%28map_00d09ec529bb497396f87803b6b7ca1a%29%3B%0A%20%20%20%20%20%20%20%20%7D%0A%20%20%20%20%20%20%20%20%20%20%20%20geo_json_368eb0e10b434a56a0a60ef372b7bf34_add%28%7B%22bbox%22%3A%20%5B37.3781464092793%2C%2055.6478734770522%2C%2037.509309%2C%2055.706075%5D%2C%20%22features%22%3A%20%5B%7B%22bbox%22%3A%20%5B37.3781464092793%2C%2055.6478734770522%2C%2037.472755447113%2C%2055.7030935798656%5D%2C%20%22geometry%22%3A%20%7B%22coordinates%22%3A%20%5B%5B%5B37.471105%2C%2055.679028%5D%2C%20%5B37.467475%2C%2055.677258%5D%2C%20%5B37.468872%2C%2055.676385%5D%2C%20%5B37.4701680582275%2C%2055.6770155401594%5D%2C%20%5B37.472755447113%2C%2055.6753913628803%5D%2C%20%5B37.4657164229644%2C%2055.6714059168335%5D%2C%20%5B37.4696760488096%2C%2055.6697093394857%5D%2C%20%5B37.4659534456327%2C%2055.6675081347237%5D%2C%20%5B37.4655270681764%2C%2055.6671381721892%5D%2C%20%5B37.4653794759799%2C%2055.6665924710666%5D%2C%20%5B37.4662322308927%2C%2055.6657785298289%5D%2C%20%5B37.4662322308927%2C%2055.6652235601879%5D%2C%20%5B37.4677463651123%2C%2055.6650115329161%5D%2C%20%5B37.4656858518676%2C%2055.6580974959267%5D%2C%20%5B37.4604715939332%2C%2055.6568436802571%5D%2C%20%5B37.4444217761348%2C%2055.6514330652324%5D%2C%20%5B37.4398608933203%2C%2055.6478734770522%5D%2C%20%5B37.431762129444%2C%2055.6484507295494%5D%2C%20%5B37.4287357492586%2C%2055.6516735662771%5D%2C%20%5B37.4288599341663%2C%2055.6518393253181%5D%2C%20%5B37.4277447163106%2C%2055.6530083202258%5D%2C%20%5B37.4293357938284%2C%2055.6547141683111%5D%2C%20%5B37.4373247014748%2C%2055.6574211017095%5D%2C%20%5B37.4327425061238%2C%2055.66168912282%5D%2C%20%5B37.408531464641%2C%2055.659909835371%5D%2C%20%5B37.4084888395679%2C%2055.6624104325283%5D%2C%20%5B37.4155859142279%2C%2055.6643458812218%5D%2C%20%5B37.4131562850651%2C%2055.6673029658114%5D%2C%20%5B37.3984229830015%2C%2055.6715803705517%5D%2C%20%5B37.3859815954051%2C%2055.6718922071431%5D%2C%20%5B37.3781464092793%2C%2055.6798110460002%5D%2C%20%5B37.3849687306412%2C%2055.6822083518549%5D%2C%20%5B37.3904932473735%2C%2055.6880154402321%5D%2C%20%5B37.3948070003561%2C%2055.681497643911%5D%2C%20%5B37.4021415699616%2C%2055.6850536162083%5D%2C%20%5B37.4136935527617%2C%2055.6900739748039%5D%2C%20%5B37.4156191022178%2C%2055.6873731317991%5D%2C%20%5B37.4218999660884%2C%2055.6888007564566%5D%2C%20%5B37.4257580335427%2C%2055.6888049030786%5D%2C%20%5B37.4287426484031%2C%2055.6874094635675%5D%2C%20%5B37.4229040105864%2C%2055.697675491751%5D%2C%20%5B37.4469328610577%2C%2055.7020028700349%5D%2C%20%5B37.4472819100576%2C%2055.7026376310982%5D%2C%20%5B37.4515498273748%2C%2055.7024141248575%5D%2C%20%5B37.4524145169427%2C%2055.7030935798656%5D%2C%20%5B37.4543818840331%2C%2055.6996246594523%5D%2C%20%5B37.4473415936376%2C%2055.6929336859818%5D%2C%20%5B37.4456365907163%2C%2055.6916603571222%5D%2C%20%5B37.4487908461207%2C%2055.6894980055616%5D%2C%20%5B37.4559092333173%2C%2055.6863984264361%5D%2C%20%5B37.461716%2C%2055.689691%5D%2C%20%5B37.46179917604546%2C%2055.689649774646234%5D%2C%20%5B37.44791458768927%2C%2055.681534405758185%5D%2C%20%5B37.447914579546975%2C%2055.68153440045211%5D%2C%20%5B37.44791457195821%2C%2055.68153439438071%5D%2C%20%5B37.44791456499463%2C%2055.68153438760133%5D%2C%20%5B37.447914558722026%2C%2055.68153438017801%5D%2C%20%5B37.44791455319964%2C%2055.68153437218085%5D%2C%20%5B37.44791454847962%2C%2055.681534363685394%5D%2C%20%5B37.44791454460656%2C%2055.68153435477188%5D%2C%20%5B37.44791454161704%2C%2055.6815343455245%5D%2C%20%5B37.44791453953928%2C%2055.68153433603059%5D%2C%20%5B37.44791453839293%2C%2055.681534326379825%5D%2C%20%5B37.447914538188805%2C%2055.68153431666336%5D%2C%20%5B37.44791453892883%2C%2055.68153430697297%5D%2C%20%5B37.44791454060602%2C%2055.68153429740018%5D%2C%20%5B37.44791454320453%2C%2055.6815342880354%5D%2C%20%5B37.44791454669982%2C%2055.681534278967085%5D%2C%20%5B37.44791455105888%2C%2055.68153427028089%5D%2C%20%5B37.447914556240534%2C%2055.68153426205886%5D%2C%20%5B37.447914562195834%2C%2055.68153425437865%5D%2C%20%5B37.44791456886854%2C%2055.68153424731279%5D%2C%20%5B37.44791457619563%2C%2055.68153424092803%5D%2C%20%5B37.44791458410789%2C%2055.68153423528468%5D%2C%20%5B37.447914592530594%2C%2055.68153423043603%5D%2C%20%5B37.451781990654496%2C%2055.67955158366293%5D%2C%20%5B37.4517819996413%2C%2055.67955157960222%5D%2C%20%5B37.45178200898437%2C%2055.67955157644642%5D%2C%20%5B37.45178201859284%2C%2055.67955157422623%5D%2C%20%5B37.45178202837327%2C%2055.67955157296324%5D%2C%20%5B37.45178203823054%2C%2055.67955157266973%5D%2C%20%5B37.45178204806879%2C%2055.67955157334855%5D%2C%20%5B37.45178205779234%2C%2055.6795515749931%5D%2C%20%5B37.45178206730663%2C%2055.67955157758739%5D%2C%20%5B37.45178207651912%2C%2055.67955158110619%5D%2C%20%5B37.451782085340234%2C%2055.67955158551528%5D%2C%20%5B37.451782093684166%2C%2055.67955159077177%5D%2C%20%5B37.45322026184337%2C%2055.68055996636783%5D%2C%20%5B37.45569097857172%2C%2055.67948920854961%5D%2C%20%5B37.456032084752835%2C%2055.67924490549564%5D%2C%20%5B37.4560320936242%2C%2055.679244899823765%5D%2C%20%5B37.45603210304279%2C%2055.67924489511615%5D%2C%20%5B37.45603211290416%2C%2055.67924489142499%5D%2C%20%5B37.4565758803128%2C%2055.67907340861804%5D%2C%20%5B37.455995200923745%2C%2055.67857970234849%5D%2C%20%5B37.455995193716085%2C%2055.67857969557865%5D%2C%20%5B37.455995187212274%2C%2055.67857968813005%5D%2C%20%5B37.455995181475906%2C%2055.67857968007553%5D%2C%20%5B37.45599517656308%2C%2055.67857967149385%5D%2C%20%5B37.455995172521824%2C%2055.67857966246891%5D%2C%20%5B37.45599516939166%2C%2055.678579653088974%5D%2C%20%5B37.455995167203206%2C%2055.678579643445744%5D%2C%20%5B37.45599516597784%2C%2055.678579633633525%5D%2C%20%5B37.45599516572756%2C%2055.678579623748256%5D%2C%20%5B37.4559951664548%2C%2055.6785796138866%5D%2C%20%5B37.455995168152455%2C%2055.67857960414498%5D%2C%20%5B37.455995170803924%2C%2055.678579594618654%5D%2C%20%5B37.45599517438329%2C%2055.678579585400776%5D%2C%20%5B37.455995178855545%2C%2055.67857957658147%5D%2C%20%5B37.455995184176956%2C%2055.678579568246974%5D%2C%20%5B37.45599519029549%2C%2055.678579560478795%5D%2C%20%5B37.45599519715133%2C%2055.678579553352876%5D%2C%20%5B37.45599520467743%2C%2055.678579546938906%5D%2C%20%5B37.4559952128002%2C%2055.6785795412996%5D%2C%20%5B37.45599522144021%2C%2055.67857953649009%5D%2C%20%5B37.45599523051298%2C%2055.678579532557414%5D%2C%20%5B37.45632712604748%2C%2055.67845477617892%5D%2C%20%5B37.45632713449376%2C%2055.6784547734256%5D%2C%20%5B37.456327143151064%2C%2055.678454771432754%5D%2C%20%5B37.456327151951065%2C%2055.6784547702161%5D%2C%20%5B37.45632716082432%2C%2055.67845476978524%5D%2C%20%5B37.458871693255425%2C%2055.678444373402336%5D%2C%20%5B37.458871703084014%2C%2055.67844437384617%5D%2C%20%5B37.45887171282143%2C%2055.67844437525368%5D%2C%20%5B37.45887172237339%2C%2055.67844437761126%5D%2C%20%5B37.458871731647456%2C%2055.67844438089605%5D%2C%20%5B37.458871740553846%2C%2055.67844438507629%5D%2C%20%5B37.458871749006356%2C%2055.6784443901115%5D%2C%20%5B37.464170843896795%2C%2055.68196539372731%5D%2C%20%5B37.46797694296527%2C%2055.68010047883118%5D%2C%20%5B37.467976952174176%2C%2055.68010047487819%5D%2C%20%5B37.46797696173248%2C%2055.68010047186675%5D%2C%20%5B37.4679769715442%2C%2055.68010046982712%5D%2C%20%5B37.4679769815108%2C%2055.68010046877977%5D%2C%20%5B37.46797699153218%2C%2055.68010046873523%5D%2C%20%5B37.4679770015077%2C%2055.68010046969394%5D%2C%20%5B37.46797701133716%2C%2055.68010047164628%5D%2C%20%5B37.467977020921865%2C%2055.680100474572626%5D%2C%20%5B37.46797703016554%2C%2055.680100478443606%5D%2C%20%5B37.467977038975356%2C%2055.680100483220336%5D%2C%20%5B37.470843717340905%2C%2055.681846120108794%5D%2C%20%5B37.471105%2C%2055.679028%5D%5D%5D%2C%20%22type%22%3A%20%22Polygon%22%7D%2C%20%22id%22%3A%20%220%22%2C%20%22properties%22%3A%20%7B%22courier_type_predict%22%3A%20%22yandex_taxi%22%2C%20%22zone_name%22%3A%20%22%5Cu041e%5Cu0437%5Cu0435%5Cu0440%5Cu043d%5Cu0430%5Cu044f%2C%2035_yandex_taxi_zone_o4akovskaya6s2%22%7D%2C%20%22type%22%3A%20%22Feature%22%7D%2C%20%7B%22bbox%22%3A%20%5B37.445637%2C%2055.674669%2C%2037.509309%2C%2055.706075%5D%2C%20%22geometry%22%3A%20%7B%22coordinates%22%3A%20%5B%5B%5B37.461716%2C%2055.689691%5D%2C%20%5B37.455909%2C%2055.686398%5D%2C%20%5B37.448791%2C%2055.689498%5D%2C%20%5B37.445637%2C%2055.69166%5D%2C%20%5B37.447342%2C%2055.692934%5D%2C%20%5B37.454382%2C%2055.699625%5D%2C%20%5B37.459142%2C%2055.70127%5D%2C%20%5B37.466011%2C%2055.700645%5D%2C%20%5B37.474634%2C%2055.701519%5D%2C%20%5B37.479355%2C%2055.702537%5D%2C%20%5B37.48665%2C%2055.705784%5D%2C%20%5B37.492143%2C%2055.706075%5D%2C%20%5B37.498066%2C%2055.706068%5D%2C%20%5B37.493388%2C%2055.703242%5D%2C%20%5B37.497744%2C%2055.700845%5D%2C%20%5B37.500728%2C%2055.698694%5D%2C%20%5B37.509309%2C%2055.694441%5D%2C%20%5B37.49519%2C%2055.687654%5D%2C%20%5B37.496735%2C%2055.685108%5D%2C%20%5B37.494017%2C%2055.683711%5D%2C%20%5B37.489697%2C%2055.681884%5D%2C%20%5B37.485921%2C%2055.679459%5D%2C%20%5B37.482659%2C%2055.678828%5D%2C%20%5B37.484762%2C%2055.67604%5D%2C%20%5B37.482108%2C%2055.675074%5D%2C%20%5B37.481185%2C%2055.674669%5D%2C%20%5B37.478539%2C%2055.67507%5D%2C%20%5B37.471115%2C%2055.679022%5D%2C%20%5B37.47084387416657%2C%2055.68184622743154%5D%2C%20%5B37.47084388073086%2C%2055.68184622818093%5D%2C%20%5B37.470843890144614%2C%2055.681846230186984%5D%2C%20%5B37.4708438993219%2C%2055.68184623308879%5D%2C%20%5B37.47084390817769%2C%2055.68184623685945%5D%2C%20%5B37.47084391662996%2C%2055.68184624146404%5D%2C%20%5B37.47753165016806%2C%2055.68591867404134%5D%2C%20%5B37.477531658165226%2C%2055.685918679457245%5D%2C%20%5B37.47753166560261%2C%2055.6859186856194%5D%2C%20%5B37.47753167241082%2C%2055.68591869247031%5D%2C%20%5B37.477531678526354%2C%2055.68591869994607%5D%2C%20%5B37.47753168389216%2C%2055.685918707976946%5D%2C%20%5B37.47753168845818%2C%2055.685918716488004%5D%2C%20%5B37.47753169218182%2C%2055.685918725399866%5D%2C%20%5B37.47753169502834%2C%2055.68591873462939%5D%2C%20%5B37.47753169697119%2C%2055.68591874409047%5D%2C%20%5B37.47753169799225%2C%2055.68591875369486%5D%2C%20%5B37.47753169808198%2C%2055.685918763352944%5D%2C%20%5B37.47753169723956%2C%2055.685918772974645%5D%2C%20%5B37.47753169547284%2C%2055.68591878247019%5D%2C%20%5B37.4775316927983%2C%2055.68591879175101%5D%2C%20%5B37.4775316892409%2C%2055.68591880073052%5D%2C%20%5B37.47753168483381%2C%2055.68591880932496%5D%2C%20%5B37.47753167961815%2C%2055.685918817454144%5D%2C%20%5B37.47753167364258%2C%2055.68591882504224%5D%2C%20%5B37.47753166696284%2C%2055.68591883201848%5D%2C%20%5B37.477531659641244%2C%2055.68591883831776%5D%2C%20%5B37.47574892752695%2C%2055.687308640906906%5D%2C%20%5B37.479578352775796%2C%2055.69062706251035%5D%2C%20%5B37.479578359468526%2C%2055.6906270688743%5D%2C%20%5B37.479578365545606%2C%2055.69062707582855%5D%2C%20%5B37.4795783709552%2C%2055.690627083313785%5D%2C%20%5B37.47957837565117%2C%2055.690627091266165%5D%2C%20%5B37.47957837959347%2C%2055.690627099617856%5D%2C%20%5B37.479578382748464%2C%2055.69062710829763%5D%2C%20%5B37.47957838508925%2C%2055.69062711723146%5D%2C%20%5B37.48009466703174%2C%2055.69304864526796%5D%2C%20%5B37.48009466856604%2C%2055.69304865461627%5D%2C%20%5B37.480094669208846%2C%2055.69304866406782%5D%2C%20%5B37.480094668954386%2C%2055.69304867353778%5D%2C%20%5B37.480094667804956%2C%2055.693048682941175%5D%2C%20%5B37.48009466577086%2C%2055.6930486921936%5D%2C%20%5B37.48009466287036%2C%2055.69304870121203%5D%2C%20%5B37.48009465912948%2C%2055.69304870991552%5D%2C%20%5B37.4800946545818%2C%2055.693048718225974%5D%2C%20%5B37.480094649268125%2C%2055.693048726068795%5D%2C%20%5B37.48009464323616%2C%2055.6930487333736%5D%2C%20%5B37.48009463654001%2C%2055.69304874007484%5D%2C%20%5B37.480094629239794%2C%2055.693048746112375%5D%2C%20%5B37.480094621401015%2C%2055.693048751432016%5D%2C%20%5B37.48009461309403%2C%2055.69304875598602%5D%2C%20%5B37.47624095970728%2C%2055.69492974265443%5D%2C%20%5B37.4753559385431%2C%2055.696155933149704%5D%2C%20%5B37.4753559385431%2C%2055.69768344146119%5D%2C%20%5B37.47550344696558%2C%2055.69891997715972%5D%2C%20%5B37.47550344764557%2C%2055.69891998681275%5D%2C%20%5B37.47550344738935%2C%2055.6989199964863%5D%2C%20%5B37.475503446199326%2C%2055.6989200060898%5D%2C%20%5B37.47550344408663%2C%2055.69892001553331%5D%2C%20%5B37.475503441071055%2C%2055.6989200247284%5D%2C%20%5B37.47550343718083%2C%2055.69892003358896%5D%2C%20%5B37.475503432452406%2C%2055.69892004203203%5D%2C%20%5B37.47550342693004%2C%2055.698920049978526%5D%2C%20%5B37.475503420665454%2C%2055.698920057354044%5D%2C%20%5B37.475503413717306%2C%2055.69892006408952%5D%2C%20%5B37.47550340615067%2C%2055.69892007012188%5D%2C%20%5B37.475503398036395%2C%2055.69892007539463%5D%2C%20%5B37.47550338945047%2C%2055.698920079858404%5D%2C%20%5B37.4755033804733%2C%2055.698920083471386%5D%2C%20%5B37.475503371188935%2C%2055.69892008619976%5D%2C%20%5B37.47550336168433%2C%2055.698920088017964%5D%2C%20%5B37.47550335204849%2C%2055.69892008890898%5D%2C%20%5B37.47384389583175%2C%2055.698992824491555%5D%2C%20%5B37.472246021749136%2C%2055.69979827082404%5D%2C%20%5B37.472246013069814%2C%2055.69979827469342%5D%2C%20%5B37.47224600406239%2C%2055.69979827772149%5D%2C%20%5B37.47224599480822%2C%2055.6997982798809%5D%2C%20%5B37.472245985390856%2C%2055.69979828115215%5D%2C%20%5B37.47224597589535%2C%2055.699798281523755%5D%2C%20%5B37.472245966407435%2C%2055.69979828099237%5D%2C%20%5B37.4722459570128%2C%2055.699798279562785%5D%2C%20%5B37.47224594779629%2C%2055.69979827724791%5D%2C%20%5B37.47224593884112%2C%2055.699798274068655%5D%2C%20%5B37.472245930228155%2C%2055.69979827005372%5D%2C%20%5B37.47224592203518%2C%2055.69979826523937%5D%2C%20%5B37.46910508460858%2C%2055.69774587868857%5D%2C%20%5B37.469105075448105%2C%2055.69774587192848%5D%2C%20%5B37.46910506711537%2C%2055.69774586417099%5D%2C%20%5B37.46774060769587%2C%2055.696322236493195%5D%2C%20%5B37.46774060224552%2C%2055.69632223031611%5D%2C%20%5B37.467740597322084%2C%2055.696322223711384%5D%2C%20%5B37.466505210134905%2C%2055.694514040457584%5D%2C%20%5B37.46373942403476%2C%2055.69095978918869%5D%2C%20%5B37.46270687540331%2C%2055.69018031361076%5D%2C%20%5B37.46179923282007%2C%2055.689649807830286%5D%2C%20%5B37.46179922462782%2C%2055.689649802488056%5D%2C%20%5B37.4617992169966%2C%2055.68964979637111%5D%2C%20%5B37.46179920999942%2C%2055.68964978953796%5D%2C%20%5B37.461799203703194%2C%2055.689649782053976%5D%2C%20%5B37.46179919816816%2C%2055.68964977399074%5D%2C%20%5B37.46179919370519%2C%2055.68964976589337%5D%2C%20%5B37.461716%2C%2055.689691%5D%5D%5D%2C%20%22type%22%3A%20%22Polygon%22%7D%2C%20%22id%22%3A%20%228%22%2C%20%22properties%22%3A%20%7B%22courier_type_predict%22%3A%20%22yandex_taxi%22%2C%20%22zone_name%22%3A%20%22%5Cu041c%5Cu0438%5Cu0447%5Cu0443%5Cu0440%5Cu0438%5Cu043d%5Cu0441%5Cu043a%5Cu0438%5Cu0439%20%5Cu043f%5Cu0440%5Cu043e%5Cu0441%5Cu043f%5Cu0435%5Cu043a%5Cu0442%2C%2054%20%5Cu043a%202_yandex_taxi_zone_o4akovskaya6s2%22%7D%2C%20%22type%22%3A%20%22Feature%22%7D%5D%2C%20%22type%22%3A%20%22FeatureCollection%22%7D%29%3B%0A%0A%20%20%20%20%20%20%20%20%0A%20%20%20%20%0A%20%20%20%20geo_json_368eb0e10b434a56a0a60ef372b7bf34.bindTooltip%28%0A%20%20%20%20function%28layer%29%7B%0A%20%20%20%20let%20div%20%3D%20L.DomUtil.create%28%27div%27%29%3B%0A%20%20%20%20%0A%20%20%20%20let%20handleObject%20%3D%20feature%3D%3Etypeof%28feature%29%3D%3D%27object%27%20%3F%20JSON.stringify%28feature%29%20%3A%20feature%3B%0A%20%20%20%20let%20fields%20%3D%20%5B%22zone_name%22%2C%20%22courier_type_predict%22%5D%3B%0A%20%20%20%20let%20aliases%20%3D%20%5B%22%5Cu041b%5Cu0430%5Cu0432%5Cu043a%5Cu0430%3A%22%2C%20%22%5Cu0421%5Cu043f%5Cu043e%5Cu0441%5Cu043e%5Cu0431%20%5Cu0434%5Cu043e%5Cu0441%5Cu0442%5Cu0430%5Cu0432%5Cu043a%5Cu0438%3A%22%5D%3B%0A%20%20%20%20let%20table%20%3D%20%27%3Ctable%3E%27%20%2B%0A%20%20%20%20%20%20%20%20String%28%0A%20%20%20%20%20%20%20%20fields.map%28%0A%20%20%20%20%20%20%20%20%28v%2Ci%29%3D%3E%0A%20%20%20%20%20%20%20%20%60%3Ctr%3E%0A%20%20%20%20%20%20%20%20%20%20%20%20%3Cth%3E%24%7Baliases%5Bi%5D%7D%3C/th%3E%0A%20%20%20%20%20%20%20%20%20%20%20%20%0A%20%20%20%20%20%20%20%20%20%20%20%20%3Ctd%3E%24%7BhandleObject%28layer.feature.properties%5Bv%5D%29%7D%3C/td%3E%0A%20%20%20%20%20%20%20%20%3C/tr%3E%60%29.join%28%27%27%29%29%0A%20%20%20%20%2B%27%3C/table%3E%27%3B%0A%20%20%20%20div.innerHTML%3Dtable%3B%0A%20%20%20%20%0A%20%20%20%20return%20div%0A%20%20%20%20%7D%0A%20%20%20%20%2C%7B%22className%22%3A%20%22foliumtooltip%22%2C%20%22sticky%22%3A%20true%7D%29%3B%0A%20%20%20%20%20%20%20%20%20%20%20%20%20%20%20%20%20%20%20%20%20%0A%20%20%20%20%0A%20%20%20%20geo_json_368eb0e10b434a56a0a60ef372b7bf34.bindPopup%28%0A%20%20%20%20function%28layer%29%7B%0A%20%20%20%20let%20div%20%3D%20L.DomUtil.create%28%27div%27%29%3B%0A%20%20%20%20%0A%20%20%20%20let%20handleObject%20%3D%20feature%3D%3Etypeof%28feature%29%3D%3D%27object%27%20%3F%20JSON.stringify%28feature%29%20%3A%20feature%3B%0A%20%20%20%20let%20fields%20%3D%20%5B%22zone_name%22%5D%3B%0A%20%20%20%20let%20aliases%20%3D%20%5B%22zone_name%22%5D%3B%0A%20%20%20%20let%20table%20%3D%20%27%3Ctable%3E%27%20%2B%0A%20%20%20%20%20%20%20%20String%28%0A%20%20%20%20%20%20%20%20fields.map%28%0A%20%20%20%20%20%20%20%20%28v%2Ci%29%3D%3E%0A%20%20%20%20%20%20%20%20%60%3Ctr%3E%0A%20%20%20%20%20%20%20%20%20%20%20%20%3Cth%3E%24%7Baliases%5Bi%5D.toLocaleString%28%29%7D%3C/th%3E%0A%20%20%20%20%20%20%20%20%20%20%20%20%0A%20%20%20%20%20%20%20%20%20%20%20%20%3Ctd%3E%24%7BhandleObject%28layer.feature.properties%5Bv%5D%29.toLocaleString%28%29%7D%3C/td%3E%0A%20%20%20%20%20%20%20%20%3C/tr%3E%60%29.join%28%27%27%29%29%0A%20%20%20%20%2B%27%3C/table%3E%27%3B%0A%20%20%20%20div.innerHTML%3Dtable%3B%0A%20%20%20%20%0A%20%20%20%20return%20div%0A%20%20%20%20%7D%0A%20%20%20%20%2C%7B%22className%22%3A%20%22foliumpopup%22%7D%29%3B%0A%20%20%20%20%20%20%20%20%20%20%20%20%20%20%20%20%20%20%20%20%20%0A%20%20%20%20%0A%20%20%20%20%20%20%20%20%20%20%20%20var%20layer_control_766c5570329d4c40bc91632075730a34%20%3D%20%7B%0A%20%20%20%20%20%20%20%20%20%20%20%20%20%20%20%20base_layers%20%3A%20%7B%0A%20%20%20%20%20%20%20%20%20%20%20%20%20%20%20%20%20%20%20%20%22openstreetmap%22%20%3A%20tile_layer_ec99295c1b1441ee9d15a591afb6e2f5%2C%0A%20%20%20%20%20%20%20%20%20%20%20%20%20%20%20%20%7D%2C%0A%20%20%20%20%20%20%20%20%20%20%20%20%20%20%20%20overlays%20%3A%20%20%7B%0A%20%20%20%20%20%20%20%20%20%20%20%20%20%20%20%20%20%20%20%20%22%5Cu0441%5Cu0446%5Cu0435%5Cu043d%5Cu0430%5Cu0440%5Cu0438%5Cu0439%3D%5Cu0421%5Cu0446%5Cu0435%5Cu043d%5Cu0430%5Cu0440%5Cu0438%5Cu0439%201%3A%20ASIS%2C%20zones%20foot%22%20%3A%20geo_json_5b6625602a3843799af2d7fa12e9960a%2C%0A%20%20%20%20%20%20%20%20%20%20%20%20%20%20%20%20%20%20%20%20%22%5Cu0441%5Cu0446%5Cu0435%5Cu043d%5Cu0430%5Cu0440%5Cu0438%5Cu0439%3D%5Cu0421%5Cu0446%5Cu0435%5Cu043d%5Cu0430%5Cu0440%5Cu0438%5Cu0439%201%3A%20ASIS%2C%20zones%20auto%20%22%20%3A%20geo_json_6220fd283f3b4b4db62274a16c2c5cc5%2C%0A%20%20%20%20%20%20%20%20%20%20%20%20%20%20%20%20%20%20%20%20%22%5Cu0441%5Cu0446%5Cu0435%5Cu043d%5Cu0430%5Cu0440%5Cu0438%5Cu0439%3D%5Cu0421%5Cu0446%5Cu0435%5Cu043d%5Cu0430%5Cu0440%5Cu0438%5Cu0439%202%3A%20zone_o4akovskaya6s2%2C%20zones%20new%22%20%3A%20geo_json_741c6640da284290863c73629277ebf1%2C%0A%20%20%20%20%20%20%20%20%20%20%20%20%20%20%20%20%20%20%20%20%22%20%5Cu0441%5Cu0446%5Cu0435%5Cu043d%5Cu0430%5Cu0440%5Cu0438%5Cu0439%3A%5Cu0421%5Cu0446%5Cu0435%5Cu043d%5Cu0430%5Cu0440%5Cu0438%5Cu0439%202%3A%20zone_o4akovskaya6s2%2C%20foot%20zones%20changed%22%20%3A%20geo_json_a286faba982246bfa11b118d7a787122%2C%0A%20%20%20%20%20%20%20%20%20%20%20%20%20%20%20%20%20%20%20%20%22%20%5Cu0441%5Cu0446%5Cu0435%5Cu043d%5Cu0430%5Cu0440%5Cu0438%5Cu0439%3D%5Cu0421%5Cu0446%5Cu0435%5Cu043d%5Cu0430%5Cu0440%5Cu0438%5Cu0439%202%3A%20zone_o4akovskaya6s2%2C%20auto%20zones%20changed%22%20%3A%20geo_json_368eb0e10b434a56a0a60ef372b7bf34%2C%0A%20%20%20%20%20%20%20%20%20%20%20%20%20%20%20%20%7D%2C%0A%20%20%20%20%20%20%20%20%20%20%20%20%7D%3B%0A%20%20%20%20%20%20%20%20%20%20%20%20L.control.layers%28%0A%20%20%20%20%20%20%20%20%20%20%20%20%20%20%20%20layer_control_766c5570329d4c40bc91632075730a34.base_layers%2C%0A%20%20%20%20%20%20%20%20%20%20%20%20%20%20%20%20layer_control_766c5570329d4c40bc91632075730a34.overlays%2C%0A%20%20%20%20%20%20%20%20%20%20%20%20%20%20%20%20%7B%22autoZIndex%22%3A%20true%2C%20%22collapsed%22%3A%20true%2C%20%22position%22%3A%20%22topright%22%7D%0A%20%20%20%20%20%20%20%20%20%20%20%20%29.addTo%28map_00d09ec529bb497396f87803b6b7ca1a%29%3B%0A%20%20%20%20%20%20%20%20%0A%3C/script%3E onload=\"this.contentDocument.open();this.contentDocument.write(    decodeURIComponent(this.getAttribute('data-html')));this.contentDocument.close();\" allowfullscreen webkitallowfullscreen mozallowfullscreen></iframe></div></div>"
      ],
      "text/plain": [
       "<folium.folium.Map at 0x7f46dd8d8f10>"
      ]
     },
     "execution_count": 551,
     "metadata": {},
     "output_type": "execute_result"
    }
   ],
   "source": [
    "m1 = folium.Map([point_start.y,point_start.x], zoom_start=12, attr='My Data Attribution')\n",
    "\n",
    "transparetn_style = lambda feature: {'fillColor': 'gray','color': 'gray','weight': 0,'fillOpacity':0.00}\n",
    "\n",
    "\n",
    "    # старые пешие\n",
    "if gdf_scen_new_geo[(gdf_scen_new_geo.scenarios=='Сценарий 1: ASIS')&(gdf_scen_new_geo.zone_type =='footfoot')].size>0:\n",
    "    layer_lavka_zones_foot = folium.GeoJson(\n",
    "                    gdf_scen_new_geo[(gdf_scen_new_geo.scenarios=='Сценарий 1: ASIS')&(gdf_scen_new_geo.zone_type =='footfoot')][['geometry_zone','zone_name','courier_type_predict', 'zone_type']],\n",
    "                    show=True,\n",
    "                    name='сценарий={}, zones foot'.format(scen_name),\n",
    "                    style_function=lambda feature: {\n",
    "                        'color':'blue' ,\n",
    "                        'weight':2,\n",
    "                        'fillOpacity':0.0,\n",
    "                        },\n",
    "                    tooltip=folium.features.GeoJsonTooltip(\n",
    "                                fields=['zone_name','courier_type_predict'\n",
    "                                       ],\n",
    "                                aliases=['Лавка:','Способ доставки:'\n",
    "                                      ],\n",
    "                                style=(\"background-color: white; color: #333333; font-family: arial; font-size: 12px; padding: 10px;\") \n",
    "                    )\n",
    "                    ).add_to(m1)\n",
    "   # старые авто \n",
    "if gdf_scen_new_geo[(gdf_scen_new_geo.scenarios=='Сценарий 1: ASIS')&(gdf_scen_new_geo.zone_type =='yandex_taxiyandex_taxi')].size>0:\n",
    "    layer_lavka_zones_auto = folium.GeoJson(\n",
    "                    gdf_scen_new_geo[(gdf_scen_new_geo.scenarios=='Сценарий 1: ASIS')&(gdf_scen_new_geo.zone_type =='yandex_taxiyandex_taxi')][['geometry_zone','zone_name','courier_type_predict']],\n",
    "                    show=True,\n",
    "                    name='сценарий={}, zones auto '.format(scen_name),\n",
    "                    style_function=lambda feature: {\n",
    "                        'color':'brown' ,\n",
    "                        'weight':2,\n",
    "                        'fillOpacity':0.1,\n",
    "                        },\n",
    "                    tooltip=folium.features.GeoJsonTooltip(\n",
    "                                fields=['zone_name','courier_type_predict'\n",
    "                                       ],\n",
    "                                aliases=['Лавка:','Способ доставки:'\n",
    "                                      ],\n",
    "                                style=(\"background-color: white; color: #333333; font-family: arial; font-size: 12px; padding: 10px;\")) \n",
    "    #                 )\n",
    "                    ).add_to(m1)\n",
    "# folium.LayerControl(collapsed=False).add_to(m1)\n",
    "     # новые зоны\n",
    "    for scen_name in gdf_scen_new_geo.scenarios.unique():\n",
    "        if scen_name!='Сценарий 1: ASIS':\n",
    "            if gdf_scen_new_geo[(gdf_scen_new_geo.scenarios==scen_name)&(gdf_scen_new_geo.zone_type =='yandex_taxifoot')].size>0:\n",
    "                try:\n",
    "                    layer_lavka_zones_new = folium.GeoJson(\n",
    "                                    gdf_scen_new_geo[(gdf_scen_new_geo.scenarios==scen_name)&(gdf_scen_new_geo.zone_type =='yandex_taxifoot')][['geometry_zone','zone_name','courier_type_predict']],\n",
    "                                    show=True,\n",
    "                                    name='сценарий={}, zones new'.format(scen_name),\n",
    "                                    style_function=lambda feature: {\n",
    "                                        'color':'black' ,\n",
    "                                        'weight':2,\n",
    "                                        'fillOpacity':0.3,\n",
    "                                        },\n",
    "                                    popup=folium.GeoJsonPopup(fields=['zone_name'],style=(\"background-color: white; color: #333333; font-family: arial; font-size: 12px; padding: 10px;\") ),\n",
    "                                    tooltip=folium.features.GeoJsonTooltip(\n",
    "                                                fields=['zone_name','courier_type_predict'\n",
    "                                                       ],\n",
    "                                                aliases=['Лавка:','Способ доставки:'\n",
    "                                                      ],\n",
    "                                                style=(\"background-color: white; color: #333333; font-family: arial; font-size: 12px; padding: 10px;\") \n",
    "                                    )\n",
    "                                    ).add_to(m1)\n",
    "                except:\n",
    "                     pass\n",
    "            if gdf_scen_new_geo[(gdf_scen_new_geo.scenarios==scen_name)&(gdf_scen_new_geo.zone_type =='footfoot')].size>0:\n",
    "                try:\n",
    "                    layer_lavka_zones_new_foot = folium.GeoJson(\n",
    "                                    gdf_scen_new_geo[(gdf_scen_new_geo.scenarios==scen_name)&(gdf_scen_new_geo.zone_type =='footfoot')][['geometry_zone','zone_name','courier_type_predict']],\n",
    "                                    show=True,\n",
    "                                    name=' сценарий:{}, foot zones changed'.format(scen_name),\n",
    "                                    style_function=lambda feature: {\n",
    "                                        'color':'green' ,\n",
    "                                        'weight':3,\n",
    "                                        'fillOpacity':0.3,\n",
    "                                        },\n",
    "                                    popup=folium.GeoJsonPopup(fields=['zone_name'],style=(\"background-color: white; color: #333333; font-family: arial; font-size: 12px; padding: 10px;\") ),\n",
    "                                    tooltip=folium.features.GeoJsonTooltip(\n",
    "                                                fields=['zone_name','courier_type_predict'\n",
    "                                                       ],\n",
    "                                                aliases=['Лавка:','Способ доставки:'\n",
    "                                                      ],\n",
    "                                                style=(\"background-color: white; color: #333333; font-family: arial; font-size: 12px; padding: 10px;\") \n",
    "                                    )\n",
    "                                    ).add_to(m1)\n",
    "                except:\n",
    "                     pass\n",
    "            \n",
    "            if gdf_scen_new_geo[(gdf_scen_new_geo.scenarios==scen_name)&(gdf_scen_new_geo.zone_type =='yandex_taxiyandex_taxi')].size>0:\n",
    "                try:\n",
    "                    layer_lavka_zones_new_foot = folium.GeoJson(\n",
    "                                    gdf_scen_new_geo[(gdf_scen_new_geo.scenarios==scen_name)&(gdf_scen_new_geo.zone_type =='yandex_taxiyandex_taxi')][['geometry_zone','zone_name','courier_type_predict']],\n",
    "                                    show=True,\n",
    "                                    name=' сценарий={}, auto zones changed'.format(scen_name),\n",
    "                                    style_function=lambda feature: {\n",
    "                                        'color':'orange' ,\n",
    "                                        'weight':2,\n",
    "                                        'fillOpacity':0.3,\n",
    "                                        },\n",
    "                                    popup=folium.GeoJsonPopup(fields=['zone_name'],style=(\"background-color: white; color: #333333; font-family: arial; font-size: 12px; padding: 10px;\") ),\n",
    "                                    tooltip=folium.features.GeoJsonTooltip(\n",
    "                                                fields=['zone_name','courier_type_predict'\n",
    "                                                       ],\n",
    "                                                aliases=['Лавка:','Способ доставки:'\n",
    "                                                      ],\n",
    "                                                style=(\"background-color: white; color: #333333; font-family: arial; font-size: 12px; padding: 10px;\") \n",
    "                                    )\n",
    "                                    ).add_to(m1)\n",
    "                except:\n",
    "                     pass\n",
    "folium.LayerControl(collapsed=True ).add_to(m1)\n",
    "m1"
   ]
  },
  {
   "cell_type": "code",
   "execution_count": 552,
   "id": "0b58c3c8",
   "metadata": {
    "ExecuteTime": {
     "end_time": "2022-06-16T16:29:35.524805Z",
     "start_time": "2022-06-16T16:29:35.483814Z"
    }
   },
   "outputs": [],
   "source": [
    "m1.save(case_scen+'.html')"
   ]
  },
  {
   "cell_type": "code",
   "execution_count": null,
   "id": "11633008",
   "metadata": {},
   "outputs": [],
   "source": []
  }
 ],
 "metadata": {
  "kernelspec": {
   "display_name": "Python 3",
   "language": "python",
   "name": "python3"
  },
  "language_info": {
   "codemirror_mode": {
    "name": "ipython",
    "version": 3
   },
   "file_extension": ".py",
   "mimetype": "text/x-python",
   "name": "python",
   "nbconvert_exporter": "python",
   "pygments_lexer": "ipython3",
   "version": "3.7.5"
  }
 },
 "nbformat": 4,
 "nbformat_minor": 5
}
