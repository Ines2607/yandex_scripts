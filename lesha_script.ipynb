{
 "cells": [
  {
   "cell_type": "code",
   "execution_count": 1,
   "id": "371b7a2a",
   "metadata": {
    "ExecuteTime": {
     "end_time": "2021-05-17T08:05:48.195735Z",
     "start_time": "2021-05-17T08:05:46.693243Z"
    }
   },
   "outputs": [],
   "source": [
    "import pandas as pd\n",
    "from business_models.databases import gdocs\n",
    "\n",
    "from business_models.util.basic import send_mail\n",
    "\n",
    "from business_models import gdocs_helper"
   ]
  },
  {
   "cell_type": "code",
   "execution_count": 4,
   "id": "51ab7d09",
   "metadata": {
    "ExecuteTime": {
     "end_time": "2021-05-17T08:05:48.970385Z",
     "start_time": "2021-05-17T08:05:48.259425Z"
    }
   },
   "outputs": [
    {
     "name": "stderr",
     "output_type": "stream",
     "text": [
      "/usr/local/lib/python3.7/dist-packages/geopandas/_compat.py:110: UserWarning: The Shapely GEOS version (3.8.0-CAPI-1.13.1 ) is incompatible with the GEOS version PyGEOS was compiled with (3.9.0-CAPI-1.16.2). Conversions between both will be slow.\n",
      "  shapely_geos_version, geos_capi_version_string\n"
     ]
    }
   ],
   "source": [
    "import geopandas as gpd\n",
    "import folium\n",
    "from business_models import greenplum, hahn\n",
    "from ast import literal_eval\n",
    "import pandas as pd\n",
    "from folium.features import GeoJson, GeoJsonTooltip, GeoJsonPopup\n",
    "from shapely.geometry.geo import shape\n",
    "from shapely.geometry import Point\n",
    "import geojson"
   ]
  },
  {
   "cell_type": "code",
   "execution_count": 5,
   "id": "f470c161",
   "metadata": {
    "ExecuteTime": {
     "end_time": "2021-05-17T08:05:50.825946Z",
     "start_time": "2021-05-17T08:05:50.819083Z"
    }
   },
   "outputs": [],
   "source": [
    "def get_potential(orders_map):\n",
    "    \n",
    "    def get_new_lavka_orders(row):\n",
    "        if row['eda_orders']>0: \n",
    "            return row['eda_orders'] * max(row['current_ratio'], row['base_close_ratio_orders'])\n",
    "        else:\n",
    "            return row['lavka_orders']\n",
    "    \n",
    "    orders_map['current_ratio'] = orders_map['lavka_orders']/orders_map['eda_orders']\n",
    "    orders_map['new_lavka_orders'] = orders_map.apply(get_new_lavka_orders, axis=1)\n",
    "    orders_map['lavka_orders_daily'] = orders_map['lavka_orders']/orders_map['days']\n",
    "    orders_map['new_lavka_orders_daily'] = orders_map['new_lavka_orders']/orders_map['days']\n",
    "    orders_map['diff'] = orders_map['new_lavka_orders'] - orders_map['lavka_orders']\n",
    "    orders_map['diff_daily'] = orders_map['new_lavka_orders_daily'] - orders_map['lavka_orders_daily']\n",
    "    \n",
    "    return orders_map\n",
    "\n",
    "def get_heatmap():\n",
    "    \n",
    "    def create_point(row):\n",
    "        p = Point(row['lon'], row['lat'])\n",
    "        return p\n",
    "\n",
    "    orders_by_coord = greenplum(\n",
    "        \"\"\"\n",
    "        Select * \n",
    "        From analyst.lavka_and_eda_orders_comparison\n",
    "        \"\"\"\n",
    "    )\n",
    "    \n",
    "     \n",
    "    orders_by_coord['geometry'] = orders_by_coord.apply(create_point, axis=1)\n",
    "    orders_by_coord = get_potential(orders_by_coord)    \n",
    "    \n",
    "    return orders_by_coord"
   ]
  },
  {
   "cell_type": "markdown",
   "id": "783a250a",
   "metadata": {},
   "source": [
    "# Зоны"
   ]
  },
  {
   "cell_type": "code",
   "execution_count": 7,
   "id": "9c666f03",
   "metadata": {
    "ExecuteTime": {
     "end_time": "2021-05-17T08:06:00.205818Z",
     "start_time": "2021-05-17T08:06:00.202196Z"
    }
   },
   "outputs": [],
   "source": [
    "def get_splits(path_to_file):\n",
    "    with open(path_to_file) as f:\n",
    "        gj = gpd.read_file(f)\n",
    "    return gj"
   ]
  },
  {
   "cell_type": "code",
   "execution_count": 8,
   "id": "dbc4e463",
   "metadata": {
    "ExecuteTime": {
     "end_time": "2021-05-17T08:06:01.880837Z",
     "start_time": "2021-05-17T08:06:01.876649Z"
    }
   },
   "outputs": [],
   "source": [
    "def get_splits_from_text(txt):\n",
    "    with open('tmp', 'w') as f:\n",
    "        f.write(txt)\n",
    "        \n",
    "    with open('tmp') as f:\n",
    "        gj = gpd.read_file(f)\n",
    "    return gj"
   ]
  },
  {
   "cell_type": "code",
   "execution_count": 9,
   "id": "fd13a868",
   "metadata": {
    "ExecuteTime": {
     "end_time": "2021-05-17T08:06:04.816098Z",
     "start_time": "2021-05-17T08:06:04.810401Z"
    }
   },
   "outputs": [],
   "source": [
    "def get_current_lavka_zones():\n",
    "    lavka_list = hahn(\"\"\"\n",
    "    SELECT external_id as place_id, location, cluster, title as lavka_name, ezones, status\n",
    "    FROM hahn.`home/lavka/production/replica/postgres/wms/stores`;\n",
    "    \"\"\")\n",
    "\n",
    "    lavka_list = lavka_list[lavka_list['ezones']!='{}']\n",
    "\n",
    "    lavka_list['shape'] = lavka_list['ezones'].apply(\n",
    "        lambda a: geojson.Polygon(literal_eval(a)['main']['zone']['geometry']['coordinates'][0]))\n",
    "\n",
    "    lavka_list = lavka_list[['place_id', 'cluster', 'lavka_name', 'shape']]\n",
    "\n",
    "    lavka_list['place_id'] = lavka_list.place_id.astype(int)\n",
    "    return lavka_list"
   ]
  },
  {
   "cell_type": "markdown",
   "id": "bbaf3a42",
   "metadata": {
    "ExecuteTime": {
     "end_time": "2021-04-12T09:41:02.083321Z",
     "start_time": "2021-04-12T09:41:02.032352Z"
    }
   },
   "source": [
    "# Pipeline"
   ]
  },
  {
   "cell_type": "code",
   "execution_count": 10,
   "id": "904734a5",
   "metadata": {
    "ExecuteTime": {
     "end_time": "2021-05-17T08:07:00.133901Z",
     "start_time": "2021-05-17T08:06:06.998875Z"
    }
   },
   "outputs": [
    {
     "name": "stderr",
     "output_type": "stream",
     "text": [
      "/usr/local/lib/python3.7/dist-packages/business_models/databases/hahn.py:197: FutureWarning: The pandas.datetime class is deprecated and will be removed from pandas in a future version. Import from datetime module instead.\n",
      "  start = pd.datetime.now()\n"
     ]
    }
   ],
   "source": [
    "# Соберем статистику еды и лавки\n",
    "heatmap = get_heatmap()\n",
    "heatmap = gpd.GeoDataFrame(heatmap)\n",
    "\n",
    "# Текущие границы лавок\n",
    "lavka_list = get_current_lavka_zones()"
   ]
  },
  {
   "cell_type": "code",
   "execution_count": 44,
   "id": "e745db12",
   "metadata": {
    "ExecuteTime": {
     "end_time": "2021-05-17T11:37:29.397475Z",
     "start_time": "2021-05-17T11:37:29.393685Z"
    }
   },
   "outputs": [],
   "source": [
    "import shapely"
   ]
  },
  {
   "cell_type": "code",
   "execution_count": 11,
   "id": "5b1da7b2",
   "metadata": {
    "ExecuteTime": {
     "end_time": "2021-05-17T08:07:00.198752Z",
     "start_time": "2021-05-17T08:07:00.136958Z"
    }
   },
   "outputs": [],
   "source": [
    "# данный merge только ради названия лавок (нужно для унификации)\n",
    "heatmap = heatmap.merge(lavka_list[['place_id', 'lavka_name']], on='place_id', how='left')"
   ]
  },
  {
   "cell_type": "code",
   "execution_count": 12,
   "id": "9e522523",
   "metadata": {
    "ExecuteTime": {
     "end_time": "2021-05-17T08:07:00.206616Z",
     "start_time": "2021-05-17T08:07:00.201862Z"
    },
    "run_control": {
     "marked": false
    }
   },
   "outputs": [],
   "source": [
    "def get_actual_places(heatmap, splits, column_name):\n",
    "    # оставим только актуальные для данного сплитования\n",
    "    orders = gpd.sjoin(heatmap, splits, how='left')\n",
    "    affected_lavkas = orders[~orders[column_name].isna()].place_id.unique()\n",
    "    orders = orders[orders.place_id.isin(affected_lavkas)]\n",
    "    return orders"
   ]
  },
  {
   "cell_type": "markdown",
   "id": "f296c687",
   "metadata": {},
   "source": [
    "# Делаем новые зоны"
   ]
  },
  {
   "cell_type": "code",
   "execution_count": 13,
   "id": "6f194752",
   "metadata": {
    "ExecuteTime": {
     "end_time": "2021-05-17T08:07:00.272742Z",
     "start_time": "2021-05-17T08:07:00.209120Z"
    }
   },
   "outputs": [],
   "source": [
    "def new_zones_after_split(orders, column_name):\n",
    "    lavka_to_split_dict = orders[['lavka_name', column_name]].dropna(\n",
    "    ).drop_duplicates().groupby(['lavka_name']).agg(splits = (column_name ,  'unique')).to_dict()['splits']\n",
    "\n",
    "    def get_new_geo(lavka_id, zones_list):\n",
    "        new_geo = shape(lavka_list[lavka_list.lavka_name==lavka_id]['shape'].values[0])\n",
    "        for zone in zones_list:\n",
    "            new_geo = new_geo - splits[splits[column_name]==zone].geometry.values[0]\n",
    "        return new_geo\n",
    "\n",
    "    changed_lavka_area = [[i, get_new_geo(i, lavka_to_split_dict[i])] for i in lavka_to_split_dict]\n",
    "    changed_lavka_area = gpd.GeoDataFrame(changed_lavka_area, columns=['lavka_name', 'geometry'])\n",
    "    geometry_after_split = pd.concat([changed_lavka_area, splits[[column_name,'geometry']]])\n",
    "    geometry_after_split.loc[geometry_after_split.lavka_name.isna(\n",
    "    ),'lavka_name'] = geometry_after_split.loc[geometry_after_split.lavka_name.isna(),column_name]\n",
    "    geometry_after_split = geometry_after_split[['lavka_name', 'geometry']].set_index('lavka_name')\n",
    "    return geometry_after_split"
   ]
  },
  {
   "cell_type": "markdown",
   "id": "074325dc",
   "metadata": {},
   "source": [
    "# Calc Effect"
   ]
  },
  {
   "cell_type": "code",
   "execution_count": 14,
   "id": "2d9f7c61",
   "metadata": {
    "ExecuteTime": {
     "end_time": "2021-05-17T08:07:00.355516Z",
     "start_time": "2021-05-17T08:07:00.275495Z"
    },
    "run_control": {
     "marked": false
    }
   },
   "outputs": [],
   "source": [
    "def get_stat_table(df, geo, column_name):\n",
    "    current_state = df.groupby('lavka_name')[['lavka_orders_daily']].sum()\n",
    "    current_state['lavka_orders_daily'] = current_state['lavka_orders_daily'].round(1)\n",
    "    \n",
    "    df.loc[~df[column_name].isna(), 'lavka_name'] = df[column_name]\n",
    "    result_table = df.groupby('lavka_name'\n",
    "                             ).agg({'lavka_orders_daily':'sum', \n",
    "                                    'new_lavka_orders_daily':'sum', \n",
    "                                    'diff_daily':'sum',\n",
    "                                    'first_day':'max'})\n",
    "    \n",
    "    result_table = result_table.join(current_state, how='left', rsuffix='_before_split').fillna(0)\n",
    "\n",
    "    result_table['lavka_orders_daily'] = result_table['lavka_orders_daily'].round(1)\n",
    "    result_table['new_lavka_orders_daily'] = result_table['new_lavka_orders_daily'].round(1)\n",
    "    result_table['diff_daily'] = result_table['diff_daily'].round(1)\n",
    "\n",
    "    \n",
    "    result_table['diff_conf'] = result_table['diff_daily'] * (\n",
    "        1 * result_table['lavka_orders_daily_before_split']==0.0)\n",
    "    result_table['diff_non_conf'] = result_table['diff_daily'] - result_table['diff_conf']\n",
    "    result_table['first_day'] = result_table['first_day'].apply(lambda x: str(x))\n",
    "    result_table = geo.join(result_table)\n",
    "    \n",
    "    return result_table"
   ]
  },
  {
   "cell_type": "code",
   "execution_count": 18,
   "id": "7e25b16c",
   "metadata": {
    "ExecuteTime": {
     "end_time": "2021-05-17T08:07:45.576225Z",
     "start_time": "2021-05-17T08:07:45.566458Z"
    },
    "code_folding": []
   },
   "outputs": [],
   "source": [
    "def get_name_field(s):\n",
    "    if 'description' in s.columns:\n",
    "        return 'description'\n",
    "    if 'name' in s.columns:\n",
    "        return 'name'\n",
    "    if 'address' in s.columns:\n",
    "        return 'address'\n",
    "    else:\n",
    "        return 'something'\n",
    "\n",
    "\n",
    "def main(heatmap, splits):\n",
    "    column_name = get_name_field(splits)\n",
    "    \n",
    "    if column_name == 'something':\n",
    "        splits['description'] = 'Сплит'\n",
    "        column_name = 'description'\n",
    "        \n",
    "    splits  = splits.fillna({'description':'Сплит'})\n",
    "    orders = get_actual_places(heatmap, splits, column_name)\n",
    "    new_geometry = new_zones_after_split(orders, column_name)\n",
    "    result_table = get_stat_table(orders, new_geometry, column_name)\n",
    "    result_table_for_geo = result_table.reset_index()\n",
    "    result_table_for_geo['old_zone'] = 1*(result_table_for_geo['lavka_orders_daily_before_split']>0)\n",
    "    result_table = result_table[['lavka_orders_daily_before_split',\n",
    "                                 'lavka_orders_daily', \n",
    "                                 'new_lavka_orders_daily', \n",
    "                                 'diff_daily', 'diff_conf', \n",
    "                                 'diff_non_conf', \n",
    "                                 'first_day']]\n",
    "\n",
    "    result_table.loc['Total',:]= result_table.sum(axis=0)\n",
    "    result_table.loc['Total','first_day']= None\n",
    "    \n",
    "\n",
    "    result_table = result_table.rename(columns={\n",
    "        'lavka_orders_daily_before_split':'Было заказов до сплитования',\n",
    "        'lavka_orders_daily':'Заказов в зоне сейчас', \n",
    "        'new_lavka_orders_daily':'Потенциал заказов в зоне', \n",
    "        'diff_daily':'Полный прирост',\n",
    "        'diff_conf':'Прирост в сплите',\n",
    "        'diff_non_conf':'Прирост оставшихся зон',\n",
    "        'first_day':'Первый день продаж'})\n",
    "    return result_table, result_table_for_geo"
   ]
  },
  {
   "cell_type": "code",
   "execution_count": 19,
   "id": "d419a771",
   "metadata": {
    "ExecuteTime": {
     "end_time": "2021-05-17T08:07:46.204398Z",
     "start_time": "2021-05-17T08:07:46.196794Z"
    }
   },
   "outputs": [],
   "source": [
    "def create_map(result_table_for_geo):\n",
    "    m = folium.Map(location=[55.777157, 37.436088], zoom_start=11)\n",
    "\n",
    "    choropleth = folium.Choropleth(\n",
    "        geo_data=result_table_for_geo.to_json(),\n",
    "        name=\"choropleth\",\n",
    "        data=result_table_for_geo,\n",
    "        columns=[\"lavka_name\", \"old_zone\"],\n",
    "        key_on=\"feature.properties.lavka_name\",\n",
    "#         fill_color=\"YlGn\",\n",
    "        fill_opacity=0.7,\n",
    "        line_opacity=0.2,\n",
    "        show=True\n",
    "\n",
    "    )\n",
    "\n",
    "\n",
    "    \n",
    "    # Display Region Label\n",
    "    choropleth.geojson.add_child( folium.features.GeoJsonTooltip(\n",
    "        fields=['lavka_name', 'lavka_orders_daily', 'new_lavka_orders_daily', 'diff_conf', 'diff_non_conf'], \n",
    "        aliases=['Название', 'Заказов сейчас', 'Заказов будет', 'Прирост в сплите', 'Прирост оставшихся зон']\n",
    "    )\n",
    "    )\n",
    "\n",
    "    \n",
    "    for key in choropleth._children:\n",
    "        if key.startswith('color_map'):\n",
    "            del(choropleth._children[key])\n",
    "\n",
    "    choropleth.add_to(m)\n",
    "\n",
    "#     folium.LayerControl().add_to(m)\n",
    "\n",
    "\n",
    "    return m"
   ]
  },
  {
   "cell_type": "markdown",
   "id": "c688cd4a",
   "metadata": {},
   "source": [
    "# Основной цикл"
   ]
  },
  {
   "cell_type": "code",
   "execution_count": 20,
   "id": "96068a3a",
   "metadata": {
    "ExecuteTime": {
     "end_time": "2021-05-17T08:07:47.200277Z",
     "start_time": "2021-05-17T08:07:47.196575Z"
    }
   },
   "outputs": [],
   "source": [
    "import datetime"
   ]
  },
  {
   "cell_type": "code",
   "execution_count": null,
   "id": "08bffa7f",
   "metadata": {
    "ExecuteTime": {
     "end_time": "2021-05-31T11:29:12.232919Z",
     "start_time": "2021-05-31T11:29:06.111706Z"
    },
    "run_control": {
     "marked": false
    }
   },
   "outputs": [],
   "source": [
    "zones_for_split = gdocs_helper.read_table('1kOnZhDEHDPrhJaZSZxNaV8YnRf0HigeN9aVj6tqXs6E', 'Список', )\n",
    "to_process = zones_for_split[zones_for_split['Processed']!='1']\n",
    "\n",
    "for q in to_process.iterrows():\n",
    "    split_name = q[1]['Name']\n",
    "    coord = q[1]['Coord']\n",
    "    splits = get_splits_from_text(coord)\n",
    "    splits = splits[splits.geometry.apply(lambda x: x.type=='Polygon')]\n",
    "    zones_for_split.loc[zones_for_split.Name==split_name, 'Processed'] = '1'\n",
    "    zones_for_split.loc[zones_for_split.Name==split_name, 'Date'] = str(datetime.datetime.today())\n",
    "\n",
    "    res, result_table_for_geo = main(heatmap, splits)\n",
    "    map_of_split = create_map(result_table_for_geo)\n",
    "    map_of_split.save(f'./{split_name}.html')\n",
    "    map_of_split.save(f'./map.html')\n",
    "    mail = q[1]['email']\n",
    "    \n",
    "    if (mail!=''):\n",
    "        send_mail('aaraskin', mail, f'Сплитование {split_name}', \n",
    "                  res.to_html(), files=[f'./map.html'], use_suffix=True)\n",
    "\n",
    "    gdocs_helper.upload_table('1kOnZhDEHDPrhJaZSZxNaV8YnRf0HigeN9aVj6tqXs6E', split_name, res.reset_index())\n",
    "    \n",
    "    graphic_orders = graphic_norm * res.loc['Total','Прирост в сплите']\n",
    "    forecast = pd.DataFrame(graphic_orders).round(1)\n",
    "    forecast = forecast.rename(columns={'count':'Прирост в сплите'})\n",
    "\n",
    "    blank = pd.DataFrame([['-', '-']])\n",
    "    blank = blank.rename(columns={0:' ', 1:'  '})\n",
    "    \n",
    "    gdocs.write(blank, split_name, '1kOnZhDEHDPrhJaZSZxNaV8YnRf0HigeN9aVj6tqXs6E', if_exists='append')\n",
    "    gdocs.write(forecast, \n",
    "                split_name, \n",
    "                '1kOnZhDEHDPrhJaZSZxNaV8YnRf0HigeN9aVj6tqXs6E', \n",
    "                if_exists='append',\n",
    "                index=True)\n",
    "    \n",
    "    gdocs_helper.upload_table('1kOnZhDEHDPrhJaZSZxNaV8YnRf0HigeN9aVj6tqXs6E', \n",
    "                              'Список', \n",
    "                              zones_for_split, \n",
    "                              with_drop=True)\n",
    "    \n",
    "    "
   ]
  },
  {
   "cell_type": "markdown",
   "id": "ef932db1",
   "metadata": {},
   "source": [
    "# "
   ]
  },
  {
   "cell_type": "code",
   "execution_count": 24,
   "id": "7ef56b30",
   "metadata": {
    "ExecuteTime": {
     "end_time": "2021-05-17T08:08:22.268212Z",
     "start_time": "2021-05-17T08:08:17.830714Z"
    }
   },
   "outputs": [],
   "source": [
    "dyn = greenplum(\"\"\"\n",
    "Select place_id, date_trunc('month', msk_created_dttm::date), count(*)\n",
    "from eda_cdm_marketplace.dm_order\n",
    "where region_name='Москва'\n",
    "and brand_store_flg\n",
    "and confirmed_flg\n",
    "and place_id in (\n",
    "    Select place_id from eda_cdm_marketplace.dm_order\n",
    "    where msk_created_dttm::date<'2020-01-01'::date\n",
    "    )\n",
    "group by place_id, date_trunc('month', msk_created_dttm::date)\n",
    "\n",
    "\"\"\")"
   ]
  },
  {
   "cell_type": "code",
   "execution_count": 25,
   "id": "98d064ce",
   "metadata": {
    "ExecuteTime": {
     "end_time": "2021-05-17T08:08:22.277844Z",
     "start_time": "2021-05-17T08:08:22.270958Z"
    }
   },
   "outputs": [],
   "source": [
    "dyn = dyn.sort_values(by=['place_id', 'date_trunc'])"
   ]
  },
  {
   "cell_type": "code",
   "execution_count": 26,
   "id": "772e1f8a",
   "metadata": {
    "ExecuteTime": {
     "end_time": "2021-05-17T08:08:22.328560Z",
     "start_time": "2021-05-17T08:08:22.280328Z"
    }
   },
   "outputs": [],
   "source": [
    "q = pd.merge(dyn.groupby('place_id', as_index=False)[['date_trunc']].min(), dyn, on='place_id')"
   ]
  },
  {
   "cell_type": "code",
   "execution_count": 27,
   "id": "3c0c515e",
   "metadata": {
    "ExecuteTime": {
     "end_time": "2021-05-17T08:08:23.548932Z",
     "start_time": "2021-05-17T08:08:23.544743Z"
    }
   },
   "outputs": [],
   "source": [
    "def get_month_num(row):\n",
    "    return (row.date_trunc_y.month - row.date_trunc_x.month) + (row.date_trunc_y.year - row.date_trunc_x.year) * 12"
   ]
  },
  {
   "cell_type": "code",
   "execution_count": 28,
   "id": "8d9ecdd1",
   "metadata": {
    "ExecuteTime": {
     "end_time": "2021-05-17T08:08:23.858402Z",
     "start_time": "2021-05-17T08:08:23.786704Z"
    }
   },
   "outputs": [],
   "source": [
    "q['month'] = q.apply(get_month_num, axis=1)"
   ]
  },
  {
   "cell_type": "code",
   "execution_count": 29,
   "id": "5027d4f0",
   "metadata": {
    "ExecuteTime": {
     "end_time": "2021-05-17T08:08:24.045656Z",
     "start_time": "2021-05-17T08:08:24.035192Z"
    }
   },
   "outputs": [
    {
     "name": "stderr",
     "output_type": "stream",
     "text": [
      "/usr/local/lib/python3.7/dist-packages/ipykernel_launcher.py:2: SettingWithCopyWarning: \n",
      "A value is trying to be set on a copy of a slice from a DataFrame.\n",
      "Try using .loc[row_indexer,col_indexer] = value instead\n",
      "\n",
      "See the caveats in the documentation: https://pandas.pydata.org/pandas-docs/stable/user_guide/indexing.html#returning-a-view-versus-a-copy\n",
      "  \n"
     ]
    }
   ],
   "source": [
    "graphic = q[q.month.between(5, 15)]\n",
    "graphic['month'] = graphic['month']-3\n",
    "graphic = graphic.groupby('month')['count'].sum()"
   ]
  },
  {
   "cell_type": "code",
   "execution_count": 31,
   "id": "0d5ed27a",
   "metadata": {
    "ExecuteTime": {
     "end_time": "2021-05-17T08:08:28.447298Z",
     "start_time": "2021-05-17T08:08:28.442811Z"
    }
   },
   "outputs": [],
   "source": [
    "graphic_norm = graphic/graphic.min()"
   ]
  },
  {
   "cell_type": "code",
   "execution_count": 32,
   "id": "b2b8fa03",
   "metadata": {
    "ExecuteTime": {
     "end_time": "2021-05-17T08:08:28.694607Z",
     "start_time": "2021-05-17T08:08:28.687819Z"
    }
   },
   "outputs": [
    {
     "data": {
      "text/plain": [
       "month\n",
       "2     1.000000\n",
       "3     1.034044\n",
       "4     1.021539\n",
       "5     1.015016\n",
       "6     1.040366\n",
       "7     1.094437\n",
       "8     1.118598\n",
       "9     1.162978\n",
       "10    1.158825\n",
       "11    1.156323\n",
       "12    1.248591\n",
       "Name: count, dtype: float64"
      ]
     },
     "execution_count": 32,
     "metadata": {},
     "output_type": "execute_result"
    }
   ],
   "source": [
    "graphic_norm"
   ]
  }
 ],
 "metadata": {
  "kernelspec": {
   "display_name": "Python 3",
   "language": "python",
   "name": "python3"
  },
  "language_info": {
   "codemirror_mode": {
    "name": "ipython",
    "version": 3
   },
   "file_extension": ".py",
   "mimetype": "text/x-python",
   "name": "python",
   "nbconvert_exporter": "python",
   "pygments_lexer": "ipython3",
   "version": "3.7.5"
  }
 },
 "nbformat": 4,
 "nbformat_minor": 5
}
