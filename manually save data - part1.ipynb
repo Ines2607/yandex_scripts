{
 "cells": [
  {
   "cell_type": "code",
   "execution_count": 1,
   "id": "2beef7fe",
   "metadata": {
    "ExecuteTime": {
     "end_time": "2022-02-10T18:05:33.838948Z",
     "start_time": "2022-02-10T18:05:31.754745Z"
    }
   },
   "outputs": [],
   "source": [
    "from business_models import hahn, greenplum\n",
    "\n",
    "import h3\n",
    "\n",
    "from shapely.geometry import shape,Point,Polygon\n",
    "\n",
    "import geopandas as gpd\n",
    "\n",
    "import pandas as pd\n",
    "\n",
    "import numpy as np\n",
    "\n",
    "from shapely import wkt\n",
    "\n",
    "\n",
    "# import geo_functions as gf\n",
    "\n",
    "import os\n",
    "\n",
    "import geo_functions as gf\n",
    "\n",
    "from shapely import wkt\n",
    "\n",
    "from datetime import datetime\n",
    "\n",
    "\n",
    "import zone_prediction_functions as zpf\n",
    "\n",
    "from importlib import reload\n",
    "from dateutil.relativedelta import relativedelta\n",
    "from matplotlib import pyplot as plt"
   ]
  },
  {
   "cell_type": "code",
   "execution_count": 7,
   "id": "2d05b480",
   "metadata": {
    "ExecuteTime": {
     "end_time": "2022-02-10T18:09:30.241484Z",
     "start_time": "2022-02-10T18:09:30.222491Z"
    }
   },
   "outputs": [
    {
     "data": {
      "text/plain": [
       "<module 'zone_prediction_functions' from '/home/intra26/zone_prediction_functions.py'>"
      ]
     },
     "execution_count": 7,
     "metadata": {},
     "output_type": "execute_result"
    }
   ],
   "source": [
    "reload(zpf)"
   ]
  },
  {
   "cell_type": "code",
   "execution_count": null,
   "id": "004d2ded",
   "metadata": {},
   "outputs": [],
   "source": [
    "# Для расчета дистанции важно, чтобы все текущие зоны имели тип external_id + '_' +delivery_type\n",
    "# все текущие сторы - external_id"
   ]
  },
  {
   "cell_type": "code",
   "execution_count": 2,
   "id": "1abe6f0f",
   "metadata": {
    "ExecuteTime": {
     "end_time": "2022-02-10T18:05:35.152343Z",
     "start_time": "2022-02-10T18:05:35.148809Z"
    }
   },
   "outputs": [],
   "source": [
    "case_scen = 'dolgop'\n",
    "list_scenarios = ['Сценарий 2: новая точка']"
   ]
  },
  {
   "cell_type": "code",
   "execution_count": 1,
   "id": "ba897814",
   "metadata": {
    "ExecuteTime": {
     "end_time": "2022-02-09T10:37:38.760506Z",
     "start_time": "2022-02-09T10:37:38.755906Z"
    }
   },
   "outputs": [],
   "source": [
    "def get_point_geometry(x):\n",
    "    if x.isnumeric():\n",
    "        geo = wkt.loads(greenplum(\"select st_astext(geometry) from snb_geo_lavka.lavka_stores where external_id ='{}'\".format(x)).iloc[0].values[0])\n",
    "    else:\n",
    "        try:\n",
    "            geo = wkt.loads(x)\n",
    "        except:\n",
    "            geo=''\n",
    "            print(x)\n",
    "    return geo"
   ]
  },
  {
   "cell_type": "code",
   "execution_count": 3,
   "id": "3dc6345e",
   "metadata": {
    "ExecuteTime": {
     "end_time": "2022-02-10T18:05:37.266690Z",
     "start_time": "2022-02-10T18:05:37.260911Z"
    }
   },
   "outputs": [],
   "source": [
    "def receive_intersected_zones(gdf_zones):\n",
    "    \n",
    "    list_zones= gdf_zones.zone_id.unique().tolist()\n",
    "   \n",
    "    gdf_inter_current_new_zones = zpf.receive_intersected_zones( list_zones)\n",
    "    \n",
    "    gdf_inter_current_new_zones['zone_id'] = gdf_inter_current_new_zones['current_zone']+'_'+gdf_inter_current_new_zones['delivery_type']\n",
    "    \n",
    "   \n",
    "    gdf_inter_current_new_zones['geometry'] = gdf_inter_current_new_zones['current_zone_geometry']\n",
    "\n",
    "    gdf_inter_current_new_zones['geometry_wkb']=None\n",
    "\n",
    "    gdf_inter_current_new_zones['geometry'] = gdf_inter_current_new_zones.geometry.apply(lambda x: x.buffer(0.001).buffer(-0.001) if x.geom_type=='MultiPolygon'  else x)\n",
    "\n",
    "    gdf_inter_current_new_zones['upload_dt']=datetime.today()\n",
    "    return gdf_inter_current_new_zones, gdf_inter_current_new_zones[['zone_id','upload_dt','geometry','geometry_wkb']], gdf_inter_current_new_zones[gdf_inter_current_new_zones.inter_share<1][['zone_id','upload_dt','geometry','geometry_wkb']]\n",
    "    \n",
    " "
   ]
  },
  {
   "cell_type": "code",
   "execution_count": 8,
   "id": "21db0c24",
   "metadata": {
    "ExecuteTime": {
     "end_time": "2022-02-10T18:09:35.877428Z",
     "start_time": "2022-02-10T18:09:35.538869Z"
    }
   },
   "outputs": [
    {
     "name": "stderr",
     "output_type": "stream",
     "text": [
      "/usr/local/lib/python3.7/dist-packages/pandas/core/frame.py:5047: SettingWithCopyWarning: \n",
      "A value is trying to be set on a copy of a slice from a DataFrame\n",
      "\n",
      "See the caveats in the documentation: https://pandas.pydata.org/pandas-docs/stable/user_guide/indexing.html#returning-a-view-versus-a-copy\n",
      "  errors=errors,\n"
     ]
    },
    {
     "data": {
      "image/png": "[encoded data removed]",
      "text/plain": [
       "<Figure size 432x288 with 1 Axes>"
      ]
     },
     "metadata": {
      "needs_background": "light"
     },
     "output_type": "display_data"
    }
   ],
   "source": [
    "gdf_zones1= zpf.get_gdf2upload(data_source ='db',lavka_ids = ['245674'],delivery_type='foot',geometry_col='geometry_zone' )"
   ]
  },
  {
   "cell_type": "code",
   "execution_count": 11,
   "id": "dd1e841d",
   "metadata": {
    "ExecuteTime": {
     "end_time": "2022-02-10T18:10:09.481211Z",
     "start_time": "2022-02-10T18:10:09.229418Z"
    },
    "scrolled": true
   },
   "outputs": [
    {
     "name": "stderr",
     "output_type": "stream",
     "text": [
      "/usr/local/lib/python3.7/dist-packages/geopandas/geodataframe.py:1351: SettingWithCopyWarning: \n",
      "A value is trying to be set on a copy of a slice from a DataFrame.\n",
      "Try using .loc[row_indexer,col_indexer] = value instead\n",
      "\n",
      "See the caveats in the documentation: https://pandas.pydata.org/pandas-docs/stable/user_guide/indexing.html#returning-a-view-versus-a-copy\n",
      "  super().__setitem__(key, value)\n"
     ]
    },
    {
     "data": {
      "image/png": "[encoded data removed]",
      "text/plain": [
       "<Figure size 432x288 with 1 Axes>"
      ]
     },
     "metadata": {
      "needs_background": "light"
     },
     "output_type": "display_data"
    }
   ],
   "source": [
    "gdf_zones2= zpf.get_gdf2upload(data_source ='file_geo',file_name='dolgop_old_borders.geojson',geometry_col='geometry')"
   ]
  },
  {
   "cell_type": "code",
   "execution_count": 28,
   "id": "0321cf41",
   "metadata": {
    "ExecuteTime": {
     "end_time": "2022-02-11T10:51:08.312430Z",
     "start_time": "2022-02-11T10:51:07.675669Z"
    }
   },
   "outputs": [
    {
     "name": "stderr",
     "output_type": "stream",
     "text": [
      "/usr/local/lib/python3.7/dist-packages/pandas/core/frame.py:5047: SettingWithCopyWarning: \n",
      "A value is trying to be set on a copy of a slice from a DataFrame\n",
      "\n",
      "See the caveats in the documentation: https://pandas.pydata.org/pandas-docs/stable/user_guide/indexing.html#returning-a-view-versus-a-copy\n",
      "  errors=errors,\n"
     ]
    },
    {
     "data": {
      "image/png": "[encoded data removed]",
      "text/plain": [
       "<Figure size 432x288 with 1 Axes>"
      ]
     },
     "metadata": {
      "needs_background": "light"
     },
     "output_type": "display_data"
    }
   ],
   "source": [
    "gdf_zones= zpf.get_gdf2upload(data_source ='db',lavka_ids = ['185748',\n",
    "'375798',\n",
    "'201043',\n",
    "'124845'],delivery_type='foot',geometry_col='geometry_zone' )"
   ]
  },
  {
   "cell_type": "code",
   "execution_count": 29,
   "id": "3ffa2219",
   "metadata": {
    "ExecuteTime": {
     "end_time": "2022-02-11T10:51:48.178610Z",
     "start_time": "2022-02-11T10:51:48.164613Z"
    }
   },
   "outputs": [
    {
     "data": {
      "text/html": [
       "<div>\n",
       "<style scoped>\n",
       "    .dataframe tbody tr th:only-of-type {\n",
       "        vertical-align: middle;\n",
       "    }\n",
       "\n",
       "    .dataframe tbody tr th {\n",
       "        vertical-align: top;\n",
       "    }\n",
       "\n",
       "    .dataframe thead th {\n",
       "        text-align: right;\n",
       "    }\n",
       "</style>\n",
       "<table border=\"1\" class=\"dataframe\">\n",
       "  <thead>\n",
       "    <tr style=\"text-align: right;\">\n",
       "      <th></th>\n",
       "      <th>zone_id</th>\n",
       "      <th>geometry_zone</th>\n",
       "      <th>upload_dt</th>\n",
       "      <th>geometry_wkb</th>\n",
       "      <th>geometry</th>\n",
       "    </tr>\n",
       "  </thead>\n",
       "  <tbody>\n",
       "    <tr>\n",
       "      <th>0</th>\n",
       "      <td>375798_foot</td>\n",
       "      <td>POLYGON((37.506771 55.777834,37.507451 55.7771...</td>\n",
       "      <td>2022-02-11 13:51:08.140180</td>\n",
       "      <td>None</td>\n",
       "      <td>POLYGON ((37.50677 55.77783, 37.50745 55.77712...</td>\n",
       "    </tr>\n",
       "    <tr>\n",
       "      <th>1</th>\n",
       "      <td>124845_foot</td>\n",
       "      <td>POLYGON((37.477392 55.775214,37.488114 55.7755...</td>\n",
       "      <td>2022-02-11 13:51:08.140180</td>\n",
       "      <td>None</td>\n",
       "      <td>POLYGON ((37.47739 55.77521, 37.48811 55.77557...</td>\n",
       "    </tr>\n",
       "    <tr>\n",
       "      <th>2</th>\n",
       "      <td>185748_foot</td>\n",
       "      <td>POLYGON((37.512328 55.787653,37.514483 55.7835...</td>\n",
       "      <td>2022-02-11 13:51:08.140180</td>\n",
       "      <td>None</td>\n",
       "      <td>POLYGON ((37.51233 55.78765, 37.51448 55.78358...</td>\n",
       "    </tr>\n",
       "    <tr>\n",
       "      <th>3</th>\n",
       "      <td>201043_foot</td>\n",
       "      <td>POLYGON((37.565382 55.785379,37.542738 55.7954...</td>\n",
       "      <td>2022-02-11 13:51:08.140180</td>\n",
       "      <td>None</td>\n",
       "      <td>POLYGON ((37.56538 55.78538, 37.54274 55.79548...</td>\n",
       "    </tr>\n",
       "  </tbody>\n",
       "</table>\n",
       "</div>"
      ],
      "text/plain": [
       "       zone_id                                      geometry_zone  \\\n",
       "0  375798_foot  POLYGON((37.506771 55.777834,37.507451 55.7771...   \n",
       "1  124845_foot  POLYGON((37.477392 55.775214,37.488114 55.7755...   \n",
       "2  185748_foot  POLYGON((37.512328 55.787653,37.514483 55.7835...   \n",
       "3  201043_foot  POLYGON((37.565382 55.785379,37.542738 55.7954...   \n",
       "\n",
       "                   upload_dt geometry_wkb  \\\n",
       "0 2022-02-11 13:51:08.140180         None   \n",
       "1 2022-02-11 13:51:08.140180         None   \n",
       "2 2022-02-11 13:51:08.140180         None   \n",
       "3 2022-02-11 13:51:08.140180         None   \n",
       "\n",
       "                                            geometry  \n",
       "0  POLYGON ((37.50677 55.77783, 37.50745 55.77712...  \n",
       "1  POLYGON ((37.47739 55.77521, 37.48811 55.77557...  \n",
       "2  POLYGON ((37.51233 55.78765, 37.51448 55.78358...  \n",
       "3  POLYGON ((37.56538 55.78538, 37.54274 55.79548...  "
      ]
     },
     "execution_count": 29,
     "metadata": {},
     "output_type": "execute_result"
    }
   ],
   "source": [
    "gdf_zones"
   ]
  },
  {
   "cell_type": "code",
   "execution_count": 31,
   "id": "81aacf17",
   "metadata": {
    "ExecuteTime": {
     "end_time": "2022-02-11T10:52:26.046206Z",
     "start_time": "2022-02-11T10:52:25.112240Z"
    }
   },
   "outputs": [
    {
     "name": "stdout",
     "output_type": "stream",
     "text": [
      "appended\n",
      "zones ['375798_foot', '124845_foot', '185748_foot', '201043_foot'] are successfuly uploaded\n"
     ]
    }
   ],
   "source": [
    "zpf.save2db(gdf_zones[['geometry', 'geometry_wkb', 'upload_dt', 'zone_id'] ])"
   ]
  },
  {
   "cell_type": "code",
   "execution_count": 183,
   "id": "9f7f7c20",
   "metadata": {
    "ExecuteTime": {
     "end_time": "2022-02-10T17:50:00.291572Z",
     "start_time": "2022-02-10T17:50:00.280006Z"
    }
   },
   "outputs": [
    {
     "data": {
      "text/html": [
       "<div>\n",
       "<style scoped>\n",
       "    .dataframe tbody tr th:only-of-type {\n",
       "        vertical-align: middle;\n",
       "    }\n",
       "\n",
       "    .dataframe tbody tr th {\n",
       "        vertical-align: top;\n",
       "    }\n",
       "\n",
       "    .dataframe thead th {\n",
       "        text-align: right;\n",
       "    }\n",
       "</style>\n",
       "<table border=\"1\" class=\"dataframe\">\n",
       "  <thead>\n",
       "    <tr style=\"text-align: right;\">\n",
       "      <th></th>\n",
       "      <th>zone_id</th>\n",
       "      <th>geometry</th>\n",
       "      <th>upload_dt</th>\n",
       "      <th>geometry_wkb</th>\n",
       "    </tr>\n",
       "  </thead>\n",
       "  <tbody>\n",
       "    <tr>\n",
       "      <th>0</th>\n",
       "      <td>245674_foot</td>\n",
       "      <td>POLYGON ((37.48527 55.93808, 37.47979 55.94474...</td>\n",
       "      <td>2022-02-10 20:49:56.838885</td>\n",
       "      <td>None</td>\n",
       "    </tr>\n",
       "  </tbody>\n",
       "</table>\n",
       "</div>"
      ],
      "text/plain": [
       "       zone_id                                           geometry  \\\n",
       "0  245674_foot  POLYGON ((37.48527 55.93808, 37.47979 55.94474...   \n",
       "\n",
       "                   upload_dt geometry_wkb  \n",
       "0 2022-02-10 20:49:56.838885         None  "
      ]
     },
     "execution_count": 183,
     "metadata": {},
     "output_type": "execute_result"
    }
   ],
   "source": [
    "gdf_zones1"
   ]
  },
  {
   "cell_type": "code",
   "execution_count": 12,
   "id": "f2f032b1",
   "metadata": {
    "ExecuteTime": {
     "end_time": "2022-02-10T18:10:13.971911Z",
     "start_time": "2022-02-10T18:10:13.967572Z"
    }
   },
   "outputs": [],
   "source": [
    "gdf_zones2['zone_id']='245674_foot_old'"
   ]
  },
  {
   "cell_type": "code",
   "execution_count": 13,
   "id": "2d1299a0",
   "metadata": {
    "ExecuteTime": {
     "end_time": "2022-02-10T18:10:15.648953Z",
     "start_time": "2022-02-10T18:10:15.626565Z"
    }
   },
   "outputs": [],
   "source": [
    "gdf_zones = pd.concat([gdf_zones1,gdf_zones2])"
   ]
  },
  {
   "cell_type": "code",
   "execution_count": 14,
   "id": "d11b568e",
   "metadata": {
    "ExecuteTime": {
     "end_time": "2022-02-10T18:10:16.128446Z",
     "start_time": "2022-02-10T18:10:16.116680Z"
    }
   },
   "outputs": [
    {
     "data": {
      "text/html": [
       "<div>\n",
       "<style scoped>\n",
       "    .dataframe tbody tr th:only-of-type {\n",
       "        vertical-align: middle;\n",
       "    }\n",
       "\n",
       "    .dataframe tbody tr th {\n",
       "        vertical-align: top;\n",
       "    }\n",
       "\n",
       "    .dataframe thead th {\n",
       "        text-align: right;\n",
       "    }\n",
       "</style>\n",
       "<table border=\"1\" class=\"dataframe\">\n",
       "  <thead>\n",
       "    <tr style=\"text-align: right;\">\n",
       "      <th></th>\n",
       "      <th>zone_id</th>\n",
       "      <th>geometry_zone</th>\n",
       "      <th>upload_dt</th>\n",
       "      <th>geometry_wkb</th>\n",
       "      <th>geometry</th>\n",
       "    </tr>\n",
       "  </thead>\n",
       "  <tbody>\n",
       "    <tr>\n",
       "      <th>0</th>\n",
       "      <td>245674_foot</td>\n",
       "      <td>POLYGON((37.485266 55.938079,37.479789 55.9447...</td>\n",
       "      <td>2022-02-10 21:09:35.704789</td>\n",
       "      <td>None</td>\n",
       "      <td>POLYGON ((37.48527 55.93808, 37.47979 55.94474...</td>\n",
       "    </tr>\n",
       "    <tr>\n",
       "      <th>0</th>\n",
       "      <td>245674_foot_old</td>\n",
       "      <td>NaN</td>\n",
       "      <td>2022-02-10 21:10:09.297704</td>\n",
       "      <td>None</td>\n",
       "      <td>POLYGON ((37.47979 55.94474, 37.48118 55.95121...</td>\n",
       "    </tr>\n",
       "  </tbody>\n",
       "</table>\n",
       "</div>"
      ],
      "text/plain": [
       "           zone_id                                      geometry_zone  \\\n",
       "0      245674_foot  POLYGON((37.485266 55.938079,37.479789 55.9447...   \n",
       "0  245674_foot_old                                                NaN   \n",
       "\n",
       "                   upload_dt geometry_wkb  \\\n",
       "0 2022-02-10 21:09:35.704789         None   \n",
       "0 2022-02-10 21:10:09.297704         None   \n",
       "\n",
       "                                            geometry  \n",
       "0  POLYGON ((37.48527 55.93808, 37.47979 55.94474...  \n",
       "0  POLYGON ((37.47979 55.94474, 37.48118 55.95121...  "
      ]
     },
     "execution_count": 14,
     "metadata": {},
     "output_type": "execute_result"
    }
   ],
   "source": [
    "gdf_zones"
   ]
  },
  {
   "cell_type": "code",
   "execution_count": 87,
   "id": "8baed7b0",
   "metadata": {
    "ExecuteTime": {
     "end_time": "2022-02-09T12:42:26.878142Z",
     "start_time": "2022-02-09T12:42:26.852307Z"
    }
   },
   "outputs": [
    {
     "data": {
      "text/plain": [
       "<module 'zone_prediction_functions' from '/home/intra26/zone_prediction_functions.py'>"
      ]
     },
     "execution_count": 87,
     "metadata": {},
     "output_type": "execute_result"
    }
   ],
   "source": [
    "reload(zpf)"
   ]
  },
  {
   "cell_type": "code",
   "execution_count": 188,
   "id": "5b8b1d6b",
   "metadata": {
    "ExecuteTime": {
     "end_time": "2022-02-10T17:51:07.862066Z",
     "start_time": "2022-02-10T17:51:07.355903Z"
    }
   },
   "outputs": [],
   "source": [
    "df_inter_areas, df2scen, df2db  = receive_intersected_zones(gdf_zones)\n",
    "\n",
    "names2change = df_inter_areas.loc[(df_inter_areas.zone_id == df_inter_areas.proposed_zone)&(df_inter_areas.inter_share<1),'proposed_zone'].values\n",
    "\n",
    "gdf_zones.loc[gdf_zones.zone_id.isin(names2change),'zone_id'] =  gdf_zones.loc[gdf_zones.zone_id.isin(names2change),'zone_id']+case_scen\n",
    "\n",
    "gdf_zones2db = pd.concat([gdf_zones,df2db])\n"
   ]
  },
  {
   "cell_type": "code",
   "execution_count": 193,
   "id": "b018a392",
   "metadata": {
    "ExecuteTime": {
     "end_time": "2022-02-10T17:53:10.295780Z",
     "start_time": "2022-02-10T17:53:10.285114Z"
    }
   },
   "outputs": [
    {
     "data": {
      "text/html": [
       "<div>\n",
       "<style scoped>\n",
       "    .dataframe tbody tr th:only-of-type {\n",
       "        vertical-align: middle;\n",
       "    }\n",
       "\n",
       "    .dataframe tbody tr th {\n",
       "        vertical-align: top;\n",
       "    }\n",
       "\n",
       "    .dataframe thead th {\n",
       "        text-align: right;\n",
       "    }\n",
       "</style>\n",
       "<table border=\"1\" class=\"dataframe\">\n",
       "  <thead>\n",
       "    <tr style=\"text-align: right;\">\n",
       "      <th></th>\n",
       "      <th>zone_id</th>\n",
       "      <th>upload_dt</th>\n",
       "      <th>geometry</th>\n",
       "      <th>geometry_wkb</th>\n",
       "    </tr>\n",
       "  </thead>\n",
       "  <tbody>\n",
       "    <tr>\n",
       "      <th>0</th>\n",
       "      <td>245674_foot</td>\n",
       "      <td>2022-02-10 20:51:07.803536</td>\n",
       "      <td>POLYGON ((37.48527 55.93808, 37.47979 55.94474...</td>\n",
       "      <td>None</td>\n",
       "    </tr>\n",
       "  </tbody>\n",
       "</table>\n",
       "</div>"
      ],
      "text/plain": [
       "       zone_id                  upload_dt  \\\n",
       "0  245674_foot 2022-02-10 20:51:07.803536   \n",
       "\n",
       "                                            geometry geometry_wkb  \n",
       "0  POLYGON ((37.48527 55.93808, 37.47979 55.94474...         None  "
      ]
     },
     "execution_count": 193,
     "metadata": {},
     "output_type": "execute_result"
    }
   ],
   "source": [
    "df2scen"
   ]
  },
  {
   "cell_type": "code",
   "execution_count": 189,
   "id": "ffac11d4",
   "metadata": {
    "ExecuteTime": {
     "end_time": "2022-02-10T17:51:10.996370Z",
     "start_time": "2022-02-10T17:51:10.986426Z"
    }
   },
   "outputs": [
    {
     "data": {
      "text/html": [
       "<div>\n",
       "<style scoped>\n",
       "    .dataframe tbody tr th:only-of-type {\n",
       "        vertical-align: middle;\n",
       "    }\n",
       "\n",
       "    .dataframe tbody tr th {\n",
       "        vertical-align: top;\n",
       "    }\n",
       "\n",
       "    .dataframe thead th {\n",
       "        text-align: right;\n",
       "    }\n",
       "</style>\n",
       "<table border=\"1\" class=\"dataframe\">\n",
       "  <thead>\n",
       "    <tr style=\"text-align: right;\">\n",
       "      <th></th>\n",
       "      <th>zone_id</th>\n",
       "      <th>geometry</th>\n",
       "      <th>upload_dt</th>\n",
       "      <th>geometry_wkb</th>\n",
       "    </tr>\n",
       "  </thead>\n",
       "  <tbody>\n",
       "    <tr>\n",
       "      <th>0</th>\n",
       "      <td>245674_foot</td>\n",
       "      <td>POLYGON ((37.48527 55.93808, 37.47979 55.94474...</td>\n",
       "      <td>2022-02-10 20:49:56.838885</td>\n",
       "      <td>None</td>\n",
       "    </tr>\n",
       "    <tr>\n",
       "      <th>0</th>\n",
       "      <td>245674_foot_old</td>\n",
       "      <td>POLYGON ((37.47979 55.94474, 37.48118 55.95121...</td>\n",
       "      <td>2022-02-10 20:49:17.910525</td>\n",
       "      <td>None</td>\n",
       "    </tr>\n",
       "  </tbody>\n",
       "</table>\n",
       "</div>"
      ],
      "text/plain": [
       "           zone_id                                           geometry  \\\n",
       "0      245674_foot  POLYGON ((37.48527 55.93808, 37.47979 55.94474...   \n",
       "0  245674_foot_old  POLYGON ((37.47979 55.94474, 37.48118 55.95121...   \n",
       "\n",
       "                   upload_dt geometry_wkb  \n",
       "0 2022-02-10 20:49:56.838885         None  \n",
       "0 2022-02-10 20:49:17.910525         None  "
      ]
     },
     "execution_count": 189,
     "metadata": {},
     "output_type": "execute_result"
    }
   ],
   "source": [
    "gdf_zones2db"
   ]
  },
  {
   "cell_type": "code",
   "execution_count": 190,
   "id": "e2a76fa7",
   "metadata": {
    "ExecuteTime": {
     "end_time": "2022-02-10T17:51:18.898158Z",
     "start_time": "2022-02-10T17:51:18.190994Z"
    }
   },
   "outputs": [
    {
     "name": "stdout",
     "output_type": "stream",
     "text": [
      "appended\n",
      "zones ['245674_foot', '245674_foot_old'] are successfuly uploaded\n"
     ]
    }
   ],
   "source": [
    "zpf.save2db(gdf_zones2db)"
   ]
  },
  {
   "cell_type": "code",
   "execution_count": 195,
   "id": "99f9a892",
   "metadata": {
    "ExecuteTime": {
     "end_time": "2022-02-10T17:54:34.937699Z",
     "start_time": "2022-02-10T17:54:34.931655Z"
    }
   },
   "outputs": [],
   "source": [
    "# плохой вариант : сценарий это зона +точка, а не только зона\n",
    "dict_scenarios = {'245674_foot':'Сценарий 2: текущая зона, новая точка', '245674_foot_old':'Сценарий 3: старая зона, новая точка'}\n",
    "\n",
    "gdf_zones['scenarios']=gdf_zones['zone_id'].map(dict_scenarios)"
   ]
  },
  {
   "cell_type": "code",
   "execution_count": 196,
   "id": "cec1792c",
   "metadata": {
    "ExecuteTime": {
     "end_time": "2022-02-10T17:54:35.688307Z",
     "start_time": "2022-02-10T17:54:35.666637Z"
    }
   },
   "outputs": [],
   "source": [
    "\n",
    "gdf_zones_scen = pd.concat([gdf_zones,df2scen])"
   ]
  },
  {
   "cell_type": "code",
   "execution_count": 201,
   "id": "a654509d",
   "metadata": {
    "ExecuteTime": {
     "end_time": "2022-02-10T17:57:48.213983Z",
     "start_time": "2022-02-10T17:57:48.209679Z"
    },
    "scrolled": true
   },
   "outputs": [
    {
     "data": {
      "text/plain": [
       "Index(['zone_id', 'geometry', 'upload_dt', 'geometry_wkb', 'scenarios'], dtype='object')"
      ]
     },
     "execution_count": 201,
     "metadata": {},
     "output_type": "execute_result"
    }
   ],
   "source": [
    "gdf_zones_scen.columns"
   ]
  },
  {
   "cell_type": "code",
   "execution_count": 15,
   "id": "9e8194a5",
   "metadata": {
    "ExecuteTime": {
     "end_time": "2022-02-10T18:10:28.984731Z",
     "start_time": "2022-02-10T18:10:28.980286Z"
    }
   },
   "outputs": [],
   "source": [
    "def create_scenarious(gdf_zones, case, type_hist, type_predict='foot'):\n",
    "\n",
    "    \n",
    "    df_scen_new = gdf_zones[['zone_id','scenarios','store']]\n",
    "    df_scen_new['courier_type_hist']=type_hist\n",
    "    df_scen_new['courier_type_predict']=type_predict\n",
    "    df_scen_new['case']=case\n",
    "#     df_scen_new['store_id'] = df_scen_new['zone_id'].apply(lambda x: x.split('_')[0])\n",
    "    df_scen_new.reset_index(inplace=True)\n",
    "    df_scen_new.drop( 'index', axis=1, inplace=True)\n",
    "    return df_scen_new"
   ]
  },
  {
   "cell_type": "code",
   "execution_count": 16,
   "id": "9bd4823f",
   "metadata": {
    "ExecuteTime": {
     "end_time": "2022-02-10T18:10:29.315423Z",
     "start_time": "2022-02-10T18:10:29.309124Z"
    }
   },
   "outputs": [],
   "source": [
    "gdf_zones_scen= pd.read_csv('dolgop_scenarious.csv', sep=';')"
   ]
  },
  {
   "cell_type": "code",
   "execution_count": 203,
   "id": "bca29b0f",
   "metadata": {
    "ExecuteTime": {
     "end_time": "2022-02-10T18:01:12.918543Z",
     "start_time": "2022-02-10T18:01:12.908257Z"
    }
   },
   "outputs": [
    {
     "data": {
      "text/html": [
       "<div>\n",
       "<style scoped>\n",
       "    .dataframe tbody tr th:only-of-type {\n",
       "        vertical-align: middle;\n",
       "    }\n",
       "\n",
       "    .dataframe tbody tr th {\n",
       "        vertical-align: top;\n",
       "    }\n",
       "\n",
       "    .dataframe thead th {\n",
       "        text-align: right;\n",
       "    }\n",
       "</style>\n",
       "<table border=\"1\" class=\"dataframe\">\n",
       "  <thead>\n",
       "    <tr style=\"text-align: right;\">\n",
       "      <th></th>\n",
       "      <th>zone_id</th>\n",
       "      <th>geometry</th>\n",
       "      <th>upload_dt</th>\n",
       "      <th>geometry_wkb</th>\n",
       "      <th>scenarios</th>\n",
       "      <th>store</th>\n",
       "    </tr>\n",
       "  </thead>\n",
       "  <tbody>\n",
       "    <tr>\n",
       "      <th>0</th>\n",
       "      <td>245674_foot</td>\n",
       "      <td>POLYGON ((37.48527 55.93808, 37.47979 55.94474...</td>\n",
       "      <td>2022-02-10 20:49:56.838885</td>\n",
       "      <td>None</td>\n",
       "      <td>Сценарий 2: текущая зона, новая точка</td>\n",
       "      <td>245674_new1</td>\n",
       "    </tr>\n",
       "    <tr>\n",
       "      <th>1</th>\n",
       "      <td>245674_foot_old</td>\n",
       "      <td>POLYGON ((37.47979 55.94474, 37.48118 55.95121...</td>\n",
       "      <td>2022-02-10 20:49:17.910525</td>\n",
       "      <td>None</td>\n",
       "      <td>Сценарий 4: старая зона, новая точка</td>\n",
       "      <td>245674_new1</td>\n",
       "    </tr>\n",
       "    <tr>\n",
       "      <th>2</th>\n",
       "      <td>245674_foot</td>\n",
       "      <td>POLYGON ((37.48527 55.93808, 37.47979 55.94474...</td>\n",
       "      <td>2022-02-10 20:51:07.803536</td>\n",
       "      <td>None</td>\n",
       "      <td>Сценарий 1: ASIS</td>\n",
       "      <td>245674</td>\n",
       "    </tr>\n",
       "    <tr>\n",
       "      <th>3</th>\n",
       "      <td>245674_foot_old</td>\n",
       "      <td>POLYGON ((37.47979 55.94474, 37.48118 55.95121...</td>\n",
       "      <td>2022-02-10 20:49:17.910525</td>\n",
       "      <td>NaN</td>\n",
       "      <td>Сценарий 3: старая зона, старая точка</td>\n",
       "      <td>245674</td>\n",
       "    </tr>\n",
       "  </tbody>\n",
       "</table>\n",
       "</div>"
      ],
      "text/plain": [
       "           zone_id                                           geometry  \\\n",
       "0      245674_foot  POLYGON ((37.48527 55.93808, 37.47979 55.94474...   \n",
       "1  245674_foot_old  POLYGON ((37.47979 55.94474, 37.48118 55.95121...   \n",
       "2      245674_foot  POLYGON ((37.48527 55.93808, 37.47979 55.94474...   \n",
       "3  245674_foot_old  POLYGON ((37.47979 55.94474, 37.48118 55.95121...   \n",
       "\n",
       "                    upload_dt  geometry_wkb  \\\n",
       "0  2022-02-10 20:49:56.838885          None   \n",
       "1  2022-02-10 20:49:17.910525          None   \n",
       "2  2022-02-10 20:51:07.803536          None   \n",
       "3  2022-02-10 20:49:17.910525           NaN   \n",
       "\n",
       "                               scenarios        store  \n",
       "0  Сценарий 2: текущая зона, новая точка  245674_new1  \n",
       "1   Сценарий 4: старая зона, новая точка  245674_new1  \n",
       "2                       Сценарий 1: ASIS       245674  \n",
       "3  Сценарий 3: старая зона, старая точка       245674  "
      ]
     },
     "execution_count": 203,
     "metadata": {},
     "output_type": "execute_result"
    }
   ],
   "source": [
    "gdf_zones_scen"
   ]
  },
  {
   "cell_type": "code",
   "execution_count": 17,
   "id": "14bf4779",
   "metadata": {
    "ExecuteTime": {
     "end_time": "2022-02-10T18:10:34.600129Z",
     "start_time": "2022-02-10T18:10:34.590947Z"
    },
    "scrolled": true
   },
   "outputs": [
    {
     "name": "stderr",
     "output_type": "stream",
     "text": [
      "/usr/local/lib/python3.7/dist-packages/ipykernel_launcher.py:5: SettingWithCopyWarning: \n",
      "A value is trying to be set on a copy of a slice from a DataFrame.\n",
      "Try using .loc[row_indexer,col_indexer] = value instead\n",
      "\n",
      "See the caveats in the documentation: https://pandas.pydata.org/pandas-docs/stable/user_guide/indexing.html#returning-a-view-versus-a-copy\n",
      "  \"\"\"\n",
      "/usr/local/lib/python3.7/dist-packages/ipykernel_launcher.py:6: SettingWithCopyWarning: \n",
      "A value is trying to be set on a copy of a slice from a DataFrame.\n",
      "Try using .loc[row_indexer,col_indexer] = value instead\n",
      "\n",
      "See the caveats in the documentation: https://pandas.pydata.org/pandas-docs/stable/user_guide/indexing.html#returning-a-view-versus-a-copy\n",
      "  \n"
     ]
    }
   ],
   "source": [
    "df_scenarios = create_scenarious(gdf_zones_scen, case_scen, type_hist='foot', type_predict='foot')\n",
    "\n",
    "\n",
    "\n",
    "\n"
   ]
  },
  {
   "cell_type": "code",
   "execution_count": 18,
   "id": "5efe994a",
   "metadata": {
    "ExecuteTime": {
     "end_time": "2022-02-10T18:10:37.245910Z",
     "start_time": "2022-02-10T18:10:37.234739Z"
    }
   },
   "outputs": [
    {
     "data": {
      "text/html": [
       "<div>\n",
       "<style scoped>\n",
       "    .dataframe tbody tr th:only-of-type {\n",
       "        vertical-align: middle;\n",
       "    }\n",
       "\n",
       "    .dataframe tbody tr th {\n",
       "        vertical-align: top;\n",
       "    }\n",
       "\n",
       "    .dataframe thead th {\n",
       "        text-align: right;\n",
       "    }\n",
       "</style>\n",
       "<table border=\"1\" class=\"dataframe\">\n",
       "  <thead>\n",
       "    <tr style=\"text-align: right;\">\n",
       "      <th></th>\n",
       "      <th>zone_id</th>\n",
       "      <th>scenarios</th>\n",
       "      <th>store</th>\n",
       "      <th>courier_type_hist</th>\n",
       "      <th>courier_type_predict</th>\n",
       "      <th>case</th>\n",
       "    </tr>\n",
       "  </thead>\n",
       "  <tbody>\n",
       "    <tr>\n",
       "      <th>0</th>\n",
       "      <td>245674_foot</td>\n",
       "      <td>Сценарий 2: текущая зона, новая точка</td>\n",
       "      <td>245674_new1</td>\n",
       "      <td>foot</td>\n",
       "      <td>foot</td>\n",
       "      <td>dolgop</td>\n",
       "    </tr>\n",
       "    <tr>\n",
       "      <th>1</th>\n",
       "      <td>245674_foot_old</td>\n",
       "      <td>Сценарий 4: старая зона, новая точка</td>\n",
       "      <td>245674_new1</td>\n",
       "      <td>foot</td>\n",
       "      <td>foot</td>\n",
       "      <td>dolgop</td>\n",
       "    </tr>\n",
       "    <tr>\n",
       "      <th>2</th>\n",
       "      <td>245674_foot</td>\n",
       "      <td>Сценарий 1: ASIS</td>\n",
       "      <td>245674</td>\n",
       "      <td>foot</td>\n",
       "      <td>foot</td>\n",
       "      <td>dolgop</td>\n",
       "    </tr>\n",
       "    <tr>\n",
       "      <th>3</th>\n",
       "      <td>245674_foot_old</td>\n",
       "      <td>Сценарий 3: старая зона, старая точка</td>\n",
       "      <td>245674</td>\n",
       "      <td>foot</td>\n",
       "      <td>foot</td>\n",
       "      <td>dolgop</td>\n",
       "    </tr>\n",
       "  </tbody>\n",
       "</table>\n",
       "</div>"
      ],
      "text/plain": [
       "           zone_id                              scenarios        store  \\\n",
       "0      245674_foot  Сценарий 2: текущая зона, новая точка  245674_new1   \n",
       "1  245674_foot_old   Сценарий 4: старая зона, новая точка  245674_new1   \n",
       "2      245674_foot                       Сценарий 1: ASIS       245674   \n",
       "3  245674_foot_old  Сценарий 3: старая зона, старая точка       245674   \n",
       "\n",
       "  courier_type_hist courier_type_predict    case  \n",
       "0              foot                 foot  dolgop  \n",
       "1              foot                 foot  dolgop  \n",
       "2              foot                 foot  dolgop  \n",
       "3              foot                 foot  dolgop  "
      ]
     },
     "execution_count": 18,
     "metadata": {},
     "output_type": "execute_result"
    }
   ],
   "source": [
    "df_scenarios"
   ]
  },
  {
   "cell_type": "code",
   "execution_count": null,
   "id": "0370edac",
   "metadata": {},
   "outputs": [],
   "source": [
    "## Нужно предусмотреть ввод точек через словарь или файл"
   ]
  },
  {
   "cell_type": "code",
   "execution_count": 19,
   "id": "29921278",
   "metadata": {
    "ExecuteTime": {
     "end_time": "2022-02-10T18:10:47.167720Z",
     "start_time": "2022-02-10T18:10:47.163504Z"
    }
   },
   "outputs": [],
   "source": [
    "\n",
    "new_point = Point(\n",
    "37.499032,55.937564)\n",
    "\n",
    "## здесь добавить цикл по количеству сценариев , формат точки : newN\n",
    "\n"
   ]
  },
  {
   "cell_type": "code",
   "execution_count": 20,
   "id": "3d8cfc36",
   "metadata": {
    "ExecuteTime": {
     "end_time": "2022-02-10T18:10:49.111801Z",
     "start_time": "2022-02-10T18:10:49.107286Z"
    }
   },
   "outputs": [],
   "source": [
    "df_scenarios.rename(columns={'store':'store_id'}, inplace=True)"
   ]
  },
  {
   "cell_type": "code",
   "execution_count": null,
   "id": "0d74fe9f",
   "metadata": {},
   "outputs": [],
   "source": [
    "# Другой тип кейса, когда для новой зоны старый стор\n",
    "# greenplum(\"\"\"\n",
    "# insert into analyst.iat_zones_stores_geometry (zone_id,store_id,geometry)\n",
    "# select ts.zone_id, ts.store_id, st_astext(geometry)\n",
    "# from analyst.iat_cases_scenarios_predict_metadata ts\n",
    "# join snb_geo_lavka.lavka_stores  ls on  external_id =ts.store_id\n",
    "where scenarios = 'Сценарий 2: Оптимальные границы'\"\"\")"
   ]
  },
  {
   "cell_type": "code",
   "execution_count": 21,
   "id": "32dfb209",
   "metadata": {
    "ExecuteTime": {
     "end_time": "2022-02-10T18:10:53.352331Z",
     "start_time": "2022-02-10T18:10:53.340744Z"
    }
   },
   "outputs": [
    {
     "data": {
      "text/html": [
       "<div>\n",
       "<style scoped>\n",
       "    .dataframe tbody tr th:only-of-type {\n",
       "        vertical-align: middle;\n",
       "    }\n",
       "\n",
       "    .dataframe tbody tr th {\n",
       "        vertical-align: top;\n",
       "    }\n",
       "\n",
       "    .dataframe thead th {\n",
       "        text-align: right;\n",
       "    }\n",
       "</style>\n",
       "<table border=\"1\" class=\"dataframe\">\n",
       "  <thead>\n",
       "    <tr style=\"text-align: right;\">\n",
       "      <th></th>\n",
       "      <th>zone_id</th>\n",
       "      <th>scenarios</th>\n",
       "      <th>store_id</th>\n",
       "      <th>courier_type_hist</th>\n",
       "      <th>courier_type_predict</th>\n",
       "      <th>case</th>\n",
       "    </tr>\n",
       "  </thead>\n",
       "  <tbody>\n",
       "    <tr>\n",
       "      <th>0</th>\n",
       "      <td>245674_foot</td>\n",
       "      <td>Сценарий 2: текущая зона, новая точка</td>\n",
       "      <td>245674_new1</td>\n",
       "      <td>foot</td>\n",
       "      <td>foot</td>\n",
       "      <td>dolgop</td>\n",
       "    </tr>\n",
       "    <tr>\n",
       "      <th>1</th>\n",
       "      <td>245674_foot_old</td>\n",
       "      <td>Сценарий 4: старая зона, новая точка</td>\n",
       "      <td>245674_new1</td>\n",
       "      <td>foot</td>\n",
       "      <td>foot</td>\n",
       "      <td>dolgop</td>\n",
       "    </tr>\n",
       "    <tr>\n",
       "      <th>2</th>\n",
       "      <td>245674_foot</td>\n",
       "      <td>Сценарий 1: ASIS</td>\n",
       "      <td>245674</td>\n",
       "      <td>foot</td>\n",
       "      <td>foot</td>\n",
       "      <td>dolgop</td>\n",
       "    </tr>\n",
       "    <tr>\n",
       "      <th>3</th>\n",
       "      <td>245674_foot_old</td>\n",
       "      <td>Сценарий 3: старая зона, старая точка</td>\n",
       "      <td>245674</td>\n",
       "      <td>foot</td>\n",
       "      <td>foot</td>\n",
       "      <td>dolgop</td>\n",
       "    </tr>\n",
       "  </tbody>\n",
       "</table>\n",
       "</div>"
      ],
      "text/plain": [
       "           zone_id                              scenarios     store_id  \\\n",
       "0      245674_foot  Сценарий 2: текущая зона, новая точка  245674_new1   \n",
       "1  245674_foot_old   Сценарий 4: старая зона, новая точка  245674_new1   \n",
       "2      245674_foot                       Сценарий 1: ASIS       245674   \n",
       "3  245674_foot_old  Сценарий 3: старая зона, старая точка       245674   \n",
       "\n",
       "  courier_type_hist courier_type_predict    case  \n",
       "0              foot                 foot  dolgop  \n",
       "1              foot                 foot  dolgop  \n",
       "2              foot                 foot  dolgop  \n",
       "3              foot                 foot  dolgop  "
      ]
     },
     "execution_count": 21,
     "metadata": {},
     "output_type": "execute_result"
    }
   ],
   "source": [
    "df_scenarios"
   ]
  },
  {
   "cell_type": "code",
   "execution_count": 25,
   "id": "f6bcb190",
   "metadata": {
    "ExecuteTime": {
     "end_time": "2022-02-10T18:14:21.582132Z",
     "start_time": "2022-02-10T18:14:21.153403Z"
    }
   },
   "outputs": [],
   "source": [
    "greenplum(\"\"\"delete from analyst.iat_cases_scenarios_predict_metadata where \"case\"='{}'\"\"\".format(case_scen))\n",
    "greenplum.write(df_scenarios, 'analyst.iat_cases_scenarios_predict_metadata', if_exists='append')"
   ]
  },
  {
   "cell_type": "code",
   "execution_count": 22,
   "id": "09a8e8b4",
   "metadata": {
    "ExecuteTime": {
     "end_time": "2022-02-10T18:10:58.720066Z",
     "start_time": "2022-02-10T18:10:58.712453Z"
    }
   },
   "outputs": [],
   "source": [
    "gdf_stores = df_scenarios[df_scenarios.scenarios!='Сценарий 1: ASIS'][['zone_id', 'store_id']]\n",
    "\n",
    "gdf_stores['geometry'] = new_point\n",
    "\n",
    "gdf_stores['geometry_wkb']=None"
   ]
  },
  {
   "cell_type": "code",
   "execution_count": 23,
   "id": "96d9bf9a",
   "metadata": {
    "ExecuteTime": {
     "end_time": "2022-02-10T18:11:00.741139Z",
     "start_time": "2022-02-10T18:11:00.730538Z"
    }
   },
   "outputs": [
    {
     "data": {
      "text/html": [
       "<div>\n",
       "<style scoped>\n",
       "    .dataframe tbody tr th:only-of-type {\n",
       "        vertical-align: middle;\n",
       "    }\n",
       "\n",
       "    .dataframe tbody tr th {\n",
       "        vertical-align: top;\n",
       "    }\n",
       "\n",
       "    .dataframe thead th {\n",
       "        text-align: right;\n",
       "    }\n",
       "</style>\n",
       "<table border=\"1\" class=\"dataframe\">\n",
       "  <thead>\n",
       "    <tr style=\"text-align: right;\">\n",
       "      <th></th>\n",
       "      <th>zone_id</th>\n",
       "      <th>store_id</th>\n",
       "      <th>geometry</th>\n",
       "      <th>geometry_wkb</th>\n",
       "    </tr>\n",
       "  </thead>\n",
       "  <tbody>\n",
       "    <tr>\n",
       "      <th>0</th>\n",
       "      <td>245674_foot</td>\n",
       "      <td>245674_new1</td>\n",
       "      <td>POINT (37.499032 55.937564)</td>\n",
       "      <td>None</td>\n",
       "    </tr>\n",
       "    <tr>\n",
       "      <th>1</th>\n",
       "      <td>245674_foot_old</td>\n",
       "      <td>245674_new1</td>\n",
       "      <td>POINT (37.499032 55.937564)</td>\n",
       "      <td>None</td>\n",
       "    </tr>\n",
       "    <tr>\n",
       "      <th>3</th>\n",
       "      <td>245674_foot_old</td>\n",
       "      <td>245674</td>\n",
       "      <td>POINT (37.499032 55.937564)</td>\n",
       "      <td>None</td>\n",
       "    </tr>\n",
       "  </tbody>\n",
       "</table>\n",
       "</div>"
      ],
      "text/plain": [
       "           zone_id     store_id                     geometry geometry_wkb\n",
       "0      245674_foot  245674_new1  POINT (37.499032 55.937564)         None\n",
       "1  245674_foot_old  245674_new1  POINT (37.499032 55.937564)         None\n",
       "3  245674_foot_old       245674  POINT (37.499032 55.937564)         None"
      ]
     },
     "execution_count": 23,
     "metadata": {},
     "output_type": "execute_result"
    }
   ],
   "source": [
    "gdf_stores"
   ]
  },
  {
   "cell_type": "code",
   "execution_count": 24,
   "id": "8800483f",
   "metadata": {
    "ExecuteTime": {
     "end_time": "2022-02-10T18:11:03.207701Z",
     "start_time": "2022-02-10T18:11:02.681625Z"
    }
   },
   "outputs": [],
   "source": [
    "for n, r in gdf_stores.iterrows():\n",
    "    greenplum(\"\"\"delete from analyst.iat_cases_scenarios_predict_metadata where zone_id='{}' and store_id='{}'\"\"\".format(r['zone_id'],r['store_id']))\n",
    "\n",
    "greenplum.write(gdf_stores, 'analyst.iat_zones_stores_geometry', if_exists='append')"
   ]
  },
  {
   "cell_type": "code",
   "execution_count": 33,
   "id": "678a5c6b",
   "metadata": {
    "ExecuteTime": {
     "end_time": "2022-02-16T19:16:36.994268Z",
     "start_time": "2022-02-16T19:16:31.361316Z"
    }
   },
   "outputs": [
    {
     "name": "stdout",
     "output_type": "stream",
     "text": [
      "case name:msk_makeeva\n",
      "                 scenarios      zone_id courier_type_hist  \\\n",
      "0  Сценарий 2: новая точка  120345_foot              foot   \n",
      "1         Сценарий 1: ASIS  120345_foot              foot   \n",
      "\n",
      "  courier_type_predict         case     store_id  \n",
      "0                 foot  msk_makeeva  120345_new1  \n",
      "1                 foot  msk_makeeva       120345  \n"
     ]
    }
   ],
   "source": [
    "case_scen = input(\"case name:\")\n",
    "df_scen_new = greenplum(\"\"\"select * from analyst.iat_cases_scenarios_predict_metadata  where \"case\" ='{}' \"\"\".format(case_scen))\n",
    "print(df_scen_new)"
   ]
  },
  {
   "cell_type": "code",
   "execution_count": null,
   "id": "f2c473b0",
   "metadata": {},
   "outputs": [],
   "source": [
    "add_new_point(geometry_point, case_name):\n",
    "    "
   ]
  },
  {
   "cell_type": "code",
   "execution_count": 27,
   "id": "cfb1fc9c",
   "metadata": {
    "ExecuteTime": {
     "end_time": "2022-02-10T18:26:57.429530Z",
     "start_time": "2022-02-10T18:26:57.267407Z"
    }
   },
   "outputs": [
    {
     "data": {
      "text/plain": [
       "<AxesSubplot:>"
      ]
     },
     "execution_count": 27,
     "metadata": {},
     "output_type": "execute_result"
    },
    {
     "data": {
      "image/png": "[encoded data removed]",
      "text/plain": [
       "<Figure size 432x288 with 1 Axes>"
      ]
     },
     "metadata": {
      "needs_background": "light"
     },
     "output_type": "display_data"
    }
   ],
   "source": [
    "gdf_zones.plot(column='zone_id')"
   ]
  },
  {
   "cell_type": "code",
   "execution_count": null,
   "id": "86fcc26a",
   "metadata": {},
   "outputs": [],
   "source": []
  }
 ],
 "metadata": {
  "kernelspec": {
   "display_name": "Python 3",
   "language": "python",
   "name": "python3"
  },
  "language_info": {
   "codemirror_mode": {
    "name": "ipython",
    "version": 3
   },
   "file_extension": ".py",
   "mimetype": "text/x-python",
   "name": "python",
   "nbconvert_exporter": "python",
   "pygments_lexer": "ipython3",
   "version": "3.7.5"
  }
 },
 "nbformat": 4,
 "nbformat_minor": 5
}
