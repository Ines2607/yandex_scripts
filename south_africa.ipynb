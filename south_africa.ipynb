{
 "cells": [
  {
   "cell_type": "code",
   "execution_count": 9,
   "id": "76d7076a",
   "metadata": {
    "ExecuteTime": {
     "end_time": "2022-07-11T07:48:48.905724Z",
     "start_time": "2022-07-11T07:48:44.403579Z"
    }
   },
   "outputs": [
    {
     "name": "stderr",
     "output_type": "stream",
     "text": [
      "/usr/local/lib/python3.7/dist-packages/geopandas/_compat.py:115: UserWarning: The Shapely GEOS version (3.10.2-CAPI-1.16.0) is incompatible with the GEOS version PyGEOS was compiled with (3.9.1-CAPI-1.14.2). Conversions between both will be slow.\n",
      "  shapely_geos_version, geos_capi_version_string\n"
     ]
    }
   ],
   "source": [
    "from h3 import h3\n",
    "\n",
    "import pandas as pd\n",
    "\n",
    "from shapely.geometry import Point,Polygon\n",
    "\n",
    "from shapely.geometry import shape\n",
    "\n",
    "import folium\n",
    "\n",
    "# from cartoframes.viz import Map, Layer, color_continuous_style, palettes, histogram_widget\n",
    "\n",
    "import numpy as np\n",
    "import geopandas as gpd\n",
    "\n",
    "# from cartoframes.viz import color_category_style, color_bins_style, popup_element, size_bins_style\n",
    "\n",
    "# from cartoframes.viz import  basic_widget , category_widget\n",
    "\n",
    "from shapely.geometry import shape, GeometryCollection\n",
    "\n",
    "import time\n",
    "\n",
    "import seaborn as sn\n",
    "\n",
    "from sklearn.cluster import DBSCAN, KMeans\n",
    "\n",
    "from matplotlib import pyplot as plt\n",
    "\n",
    "from shapely import wkt\n",
    "\n",
    "import geo_functions as gf\n",
    "\n",
    "from business_models import hahn, greenplum"
   ]
  },
  {
   "cell_type": "code",
   "execution_count": null,
   "id": "1647c751",
   "metadata": {},
   "outputs": [],
   "source": []
  },
  {
   "cell_type": "code",
   "execution_count": 13,
   "id": "47347a51",
   "metadata": {
    "ExecuteTime": {
     "end_time": "2022-02-15T08:39:44.306040Z",
     "start_time": "2022-02-15T08:38:15.069090Z"
    }
   },
   "outputs": [],
   "source": [
    "pop_layer = gpd.read_file('density_layer.geojson')\n",
    "\n",
    "borders_jhb  = gpd.read_file('metropolitan municipality jhb.shp')\n",
    "\n",
    "borders  = gpd.read_file('metropolitan municipality cpt.shp')\n",
    "# gdf_pop_stat_cpt_jhb = gpd.read_file('pop_stat_cpt_jhb.geojson')\n",
    "gdf_cpt_jhb_pop_100m_ward = gpd.read_file('cpt_jhb_pop_100m_ward.geojson')\n",
    "pop_grid_best_wards = gpd.read_file('pop_grid_best_wards_clusters.geojson')"
   ]
  },
  {
   "cell_type": "code",
   "execution_count": 14,
   "id": "1ba8bce4",
   "metadata": {
    "ExecuteTime": {
     "end_time": "2022-02-15T08:42:48.321793Z",
     "start_time": "2022-02-15T08:42:48.188578Z"
    },
    "scrolled": true
   },
   "outputs": [
    {
     "data": {
      "text/html": [
       "<div>\n",
       "<style scoped>\n",
       "    .dataframe tbody tr th:only-of-type {\n",
       "        vertical-align: middle;\n",
       "    }\n",
       "\n",
       "    .dataframe tbody tr th {\n",
       "        vertical-align: top;\n",
       "    }\n",
       "\n",
       "    .dataframe thead th {\n",
       "        text-align: right;\n",
       "    }\n",
       "</style>\n",
       "<table border=\"1\" class=\"dataframe\">\n",
       "  <thead>\n",
       "    <tr style=\"text-align: right;\">\n",
       "      <th></th>\n",
       "      <th>pop</th>\n",
       "      <th>index_right</th>\n",
       "      <th>CAT_B</th>\n",
       "      <th>WARD_ID</th>\n",
       "      <th>x</th>\n",
       "      <th>y</th>\n",
       "      <th>cluster</th>\n",
       "      <th>geometry</th>\n",
       "    </tr>\n",
       "  </thead>\n",
       "  <tbody>\n",
       "    <tr>\n",
       "      <th>0</th>\n",
       "      <td>2</td>\n",
       "      <td>111</td>\n",
       "      <td>JHB</td>\n",
       "      <td>79800112</td>\n",
       "      <td>28.078333</td>\n",
       "      <td>-25.922500</td>\n",
       "      <td>6</td>\n",
       "      <td>POLYGON ((28.07792 -25.92208, 28.07792 -25.922...</td>\n",
       "    </tr>\n",
       "    <tr>\n",
       "      <th>1</th>\n",
       "      <td>5</td>\n",
       "      <td>111</td>\n",
       "      <td>JHB</td>\n",
       "      <td>79800112</td>\n",
       "      <td>28.076667</td>\n",
       "      <td>-25.924166</td>\n",
       "      <td>6</td>\n",
       "      <td>POLYGON ((28.07625 -25.92375, 28.07625 -25.924...</td>\n",
       "    </tr>\n",
       "    <tr>\n",
       "      <th>2</th>\n",
       "      <td>2</td>\n",
       "      <td>111</td>\n",
       "      <td>JHB</td>\n",
       "      <td>79800112</td>\n",
       "      <td>28.080000</td>\n",
       "      <td>-25.925000</td>\n",
       "      <td>6</td>\n",
       "      <td>POLYGON ((28.07958 -25.92458, 28.07958 -25.925...</td>\n",
       "    </tr>\n",
       "    <tr>\n",
       "      <th>3</th>\n",
       "      <td>2</td>\n",
       "      <td>111</td>\n",
       "      <td>JHB</td>\n",
       "      <td>79800112</td>\n",
       "      <td>28.084167</td>\n",
       "      <td>-25.925000</td>\n",
       "      <td>6</td>\n",
       "      <td>POLYGON ((28.08375 -25.92458, 28.08375 -25.925...</td>\n",
       "    </tr>\n",
       "    <tr>\n",
       "      <th>4</th>\n",
       "      <td>5</td>\n",
       "      <td>111</td>\n",
       "      <td>JHB</td>\n",
       "      <td>79800112</td>\n",
       "      <td>28.085000</td>\n",
       "      <td>-25.925000</td>\n",
       "      <td>6</td>\n",
       "      <td>POLYGON ((28.08458 -25.92458, 28.08458 -25.925...</td>\n",
       "    </tr>\n",
       "    <tr>\n",
       "      <th>...</th>\n",
       "      <td>...</td>\n",
       "      <td>...</td>\n",
       "      <td>...</td>\n",
       "      <td>...</td>\n",
       "      <td>...</td>\n",
       "      <td>...</td>\n",
       "      <td>...</td>\n",
       "      <td>...</td>\n",
       "    </tr>\n",
       "    <tr>\n",
       "      <th>57615</th>\n",
       "      <td>8</td>\n",
       "      <td>202</td>\n",
       "      <td>CPT</td>\n",
       "      <td>19100073</td>\n",
       "      <td>18.463333</td>\n",
       "      <td>-34.042500</td>\n",
       "      <td>4</td>\n",
       "      <td>POLYGON ((18.46292 -34.04208, 18.46292 -34.042...</td>\n",
       "    </tr>\n",
       "    <tr>\n",
       "      <th>57616</th>\n",
       "      <td>30</td>\n",
       "      <td>202</td>\n",
       "      <td>CPT</td>\n",
       "      <td>19100073</td>\n",
       "      <td>18.464167</td>\n",
       "      <td>-34.042916</td>\n",
       "      <td>4</td>\n",
       "      <td>POLYGON ((18.46375 -34.04208, 18.46375 -34.043...</td>\n",
       "    </tr>\n",
       "    <tr>\n",
       "      <th>57617</th>\n",
       "      <td>33</td>\n",
       "      <td>202</td>\n",
       "      <td>CPT</td>\n",
       "      <td>19100073</td>\n",
       "      <td>18.465833</td>\n",
       "      <td>-34.042500</td>\n",
       "      <td>4</td>\n",
       "      <td>POLYGON ((18.46542 -34.04208, 18.46542 -34.042...</td>\n",
       "    </tr>\n",
       "    <tr>\n",
       "      <th>57618</th>\n",
       "      <td>5</td>\n",
       "      <td>202</td>\n",
       "      <td>CPT</td>\n",
       "      <td>19100073</td>\n",
       "      <td>18.466667</td>\n",
       "      <td>-34.042500</td>\n",
       "      <td>4</td>\n",
       "      <td>POLYGON ((18.46625 -34.04208, 18.46625 -34.042...</td>\n",
       "    </tr>\n",
       "    <tr>\n",
       "      <th>57619</th>\n",
       "      <td>8</td>\n",
       "      <td>202</td>\n",
       "      <td>CPT</td>\n",
       "      <td>19100073</td>\n",
       "      <td>18.466667</td>\n",
       "      <td>-34.043333</td>\n",
       "      <td>4</td>\n",
       "      <td>POLYGON ((18.46625 -34.04292, 18.46625 -34.043...</td>\n",
       "    </tr>\n",
       "  </tbody>\n",
       "</table>\n",
       "<p>57620 rows × 8 columns</p>\n",
       "</div>"
      ],
      "text/plain": [
       "       pop  index_right CAT_B   WARD_ID          x          y  cluster  \\\n",
       "0        2          111   JHB  79800112  28.078333 -25.922500        6   \n",
       "1        5          111   JHB  79800112  28.076667 -25.924166        6   \n",
       "2        2          111   JHB  79800112  28.080000 -25.925000        6   \n",
       "3        2          111   JHB  79800112  28.084167 -25.925000        6   \n",
       "4        5          111   JHB  79800112  28.085000 -25.925000        6   \n",
       "...    ...          ...   ...       ...        ...        ...      ...   \n",
       "57615    8          202   CPT  19100073  18.463333 -34.042500        4   \n",
       "57616   30          202   CPT  19100073  18.464167 -34.042916        4   \n",
       "57617   33          202   CPT  19100073  18.465833 -34.042500        4   \n",
       "57618    5          202   CPT  19100073  18.466667 -34.042500        4   \n",
       "57619    8          202   CPT  19100073  18.466667 -34.043333        4   \n",
       "\n",
       "                                                geometry  \n",
       "0      POLYGON ((28.07792 -25.92208, 28.07792 -25.922...  \n",
       "1      POLYGON ((28.07625 -25.92375, 28.07625 -25.924...  \n",
       "2      POLYGON ((28.07958 -25.92458, 28.07958 -25.925...  \n",
       "3      POLYGON ((28.08375 -25.92458, 28.08375 -25.925...  \n",
       "4      POLYGON ((28.08458 -25.92458, 28.08458 -25.925...  \n",
       "...                                                  ...  \n",
       "57615  POLYGON ((18.46292 -34.04208, 18.46292 -34.042...  \n",
       "57616  POLYGON ((18.46375 -34.04208, 18.46375 -34.043...  \n",
       "57617  POLYGON ((18.46542 -34.04208, 18.46542 -34.042...  \n",
       "57618  POLYGON ((18.46625 -34.04208, 18.46625 -34.042...  \n",
       "57619  POLYGON ((18.46625 -34.04292, 18.46625 -34.043...  \n",
       "\n",
       "[57620 rows x 8 columns]"
      ]
     },
     "execution_count": 14,
     "metadata": {},
     "output_type": "execute_result"
    }
   ],
   "source": [
    "pop_grid_best_wards "
   ]
  },
  {
   "cell_type": "code",
   "execution_count": 4,
   "id": "e16e4058",
   "metadata": {
    "ExecuteTime": {
     "end_time": "2022-01-11T13:14:08.613648Z",
     "start_time": "2022-01-11T13:14:08.610027Z"
    }
   },
   "outputs": [
    {
     "data": {
      "text/plain": [
       "Index(['Density per 1 km', 'geometry'], dtype='object')"
      ]
     },
     "execution_count": 4,
     "metadata": {},
     "output_type": "execute_result"
    }
   ],
   "source": [
    "pop_layer.columns"
   ]
  },
  {
   "cell_type": "code",
   "execution_count": 5,
   "id": "15130eb7",
   "metadata": {
    "ExecuteTime": {
     "end_time": "2022-01-11T13:14:17.781655Z",
     "start_time": "2022-01-11T13:14:17.630506Z"
    }
   },
   "outputs": [],
   "source": [
    "pop_layer= pop_layer[pop_layer['Density per 1 km'] >0]"
   ]
  },
  {
   "cell_type": "code",
   "execution_count": 6,
   "id": "6506befc",
   "metadata": {
    "ExecuteTime": {
     "end_time": "2022-01-11T13:14:24.544651Z",
     "start_time": "2022-01-11T13:14:24.540254Z"
    }
   },
   "outputs": [
    {
     "data": {
      "text/plain": [
       "(800732, 2)"
      ]
     },
     "execution_count": 6,
     "metadata": {},
     "output_type": "execute_result"
    }
   ],
   "source": [
    "pop_layer.shape"
   ]
  },
  {
   "cell_type": "code",
   "execution_count": 8,
   "id": "8be2cf33",
   "metadata": {
    "ExecuteTime": {
     "end_time": "2022-01-11T13:26:11.185702Z",
     "start_time": "2022-01-11T13:26:10.936104Z"
    }
   },
   "outputs": [
    {
     "data": {
      "text/plain": [
       "<AxesSubplot:>"
      ]
     },
     "execution_count": 8,
     "metadata": {},
     "output_type": "execute_result"
    },
    {
     "data": {
      "image/png": "[encoded data removed]",
      "text/plain": [
       "<Figure size 432x288 with 1 Axes>"
      ]
     },
     "metadata": {
      "needs_background": "light"
     },
     "output_type": "display_data"
    }
   ],
   "source": [
    "borders.plot()"
   ]
  },
  {
   "cell_type": "code",
   "execution_count": 9,
   "id": "d623a4bc",
   "metadata": {
    "ExecuteTime": {
     "end_time": "2022-01-11T13:28:13.117433Z",
     "start_time": "2022-01-11T13:28:13.049536Z"
    }
   },
   "outputs": [
    {
     "data": {
      "text/html": [
       "<div>\n",
       "<style scoped>\n",
       "    .dataframe tbody tr th:only-of-type {\n",
       "        vertical-align: middle;\n",
       "    }\n",
       "\n",
       "    .dataframe tbody tr th {\n",
       "        vertical-align: top;\n",
       "    }\n",
       "\n",
       "    .dataframe thead th {\n",
       "        text-align: right;\n",
       "    }\n",
       "</style>\n",
       "<table border=\"1\" class=\"dataframe\">\n",
       "  <thead>\n",
       "    <tr style=\"text-align: right;\">\n",
       "      <th></th>\n",
       "      <th>OBJECTID</th>\n",
       "      <th>CATEGORY</th>\n",
       "      <th>CAT2</th>\n",
       "      <th>CAT_B</th>\n",
       "      <th>MUNICNAME</th>\n",
       "      <th>DISTRICT</th>\n",
       "      <th>PROVINCE</th>\n",
       "      <th>PROVNAME</th>\n",
       "      <th>AREA</th>\n",
       "      <th>SHAPE_LENG</th>\n",
       "      <th>SHAPE_AREA</th>\n",
       "      <th>EA_NUMBER</th>\n",
       "      <th>geometry</th>\n",
       "    </tr>\n",
       "  </thead>\n",
       "  <tbody>\n",
       "    <tr>\n",
       "      <th>0</th>\n",
       "      <td>2</td>\n",
       "      <td>A</td>\n",
       "      <td>Metropolitan Municipality</td>\n",
       "      <td>CPT</td>\n",
       "      <td>City of Cape Town</td>\n",
       "      <td>CPT</td>\n",
       "      <td>WC</td>\n",
       "      <td>Western Cape</td>\n",
       "      <td>2439.78</td>\n",
       "      <td>5.198175</td>\n",
       "      <td>0.238297</td>\n",
       "      <td>Metropolitan Municipality CPT</td>\n",
       "      <td>MULTIPOLYGON (((18.37075 -33.82018, 18.37030 -...</td>\n",
       "    </tr>\n",
       "  </tbody>\n",
       "</table>\n",
       "</div>"
      ],
      "text/plain": [
       "   OBJECTID CATEGORY                       CAT2 CAT_B          MUNICNAME  \\\n",
       "0         2        A  Metropolitan Municipality   CPT  City of Cape Town   \n",
       "\n",
       "  DISTRICT PROVINCE      PROVNAME     AREA  SHAPE_LENG  SHAPE_AREA  \\\n",
       "0      CPT       WC  Western Cape  2439.78    5.198175    0.238297   \n",
       "\n",
       "                       EA_NUMBER  \\\n",
       "0  Metropolitan Municipality CPT   \n",
       "\n",
       "                                            geometry  \n",
       "0  MULTIPOLYGON (((18.37075 -33.82018, 18.37030 -...  "
      ]
     },
     "execution_count": 9,
     "metadata": {},
     "output_type": "execute_result"
    }
   ],
   "source": [
    "xf.head()"
   ]
  },
  {
   "cell_type": "code",
   "execution_count": 13,
   "id": "c35b968c",
   "metadata": {
    "ExecuteTime": {
     "end_time": "2022-01-11T13:29:28.603534Z",
     "start_time": "2022-01-11T13:29:28.554197Z"
    }
   },
   "outputs": [],
   "source": [
    "borders =borders.set_crs('epsg:4326')"
   ]
  },
  {
   "cell_type": "code",
   "execution_count": 19,
   "id": "fb81f6b9",
   "metadata": {
    "ExecuteTime": {
     "end_time": "2022-01-11T13:31:11.103521Z",
     "start_time": "2022-01-11T13:30:50.269192Z"
    }
   },
   "outputs": [],
   "source": [
    "pop_layer_capetown = pop_layer[pop_layer.geometry.within(borders.iloc[0].geometry)]"
   ]
  },
  {
   "cell_type": "code",
   "execution_count": 20,
   "id": "74b0d098",
   "metadata": {
    "ExecuteTime": {
     "end_time": "2022-01-11T13:31:11.109549Z",
     "start_time": "2022-01-11T13:31:11.105888Z"
    }
   },
   "outputs": [
    {
     "data": {
      "text/plain": [
       "(4410, 2)"
      ]
     },
     "execution_count": 20,
     "metadata": {},
     "output_type": "execute_result"
    }
   ],
   "source": [
    "pop_layer_capetown.shape"
   ]
  },
  {
   "cell_type": "code",
   "execution_count": 21,
   "id": "4c8e1c19",
   "metadata": {
    "ExecuteTime": {
     "end_time": "2022-01-11T13:31:32.672138Z",
     "start_time": "2022-01-11T13:31:31.694189Z"
    }
   },
   "outputs": [
    {
     "data": {
      "text/plain": [
       "<AxesSubplot:>"
      ]
     },
     "execution_count": 21,
     "metadata": {},
     "output_type": "execute_result"
    },
    {
     "data": {
      "image/png": "[encoded data removed]",
      "text/plain": [
       "<Figure size 432x288 with 1 Axes>"
      ]
     },
     "metadata": {
      "needs_background": "light"
     },
     "output_type": "display_data"
    }
   ],
   "source": [
    "pop_layer_capetown.plot(column='Density per 1 km')"
   ]
  },
  {
   "cell_type": "code",
   "execution_count": 22,
   "id": "33096d1f",
   "metadata": {
    "ExecuteTime": {
     "end_time": "2022-01-11T13:32:03.643441Z",
     "start_time": "2022-01-11T13:32:02.762799Z"
    }
   },
   "outputs": [],
   "source": [
    "pop_layer_capetown.to_file('pop_density_capetown.geojson', driver='GeoJSON')"
   ]
  },
  {
   "cell_type": "code",
   "execution_count": 23,
   "id": "49d69048",
   "metadata": {
    "ExecuteTime": {
     "end_time": "2022-01-11T14:27:57.918781Z",
     "start_time": "2022-01-11T14:27:57.329008Z"
    }
   },
   "outputs": [],
   "source": [
    "airbnb_capetown = pd.read_csv('listings.csv')"
   ]
  },
  {
   "cell_type": "code",
   "execution_count": 24,
   "id": "16ecff89",
   "metadata": {
    "ExecuteTime": {
     "end_time": "2022-01-11T14:28:04.099162Z",
     "start_time": "2022-01-11T14:28:04.077415Z"
    }
   },
   "outputs": [
    {
     "data": {
      "text/html": [
       "<div>\n",
       "<style scoped>\n",
       "    .dataframe tbody tr th:only-of-type {\n",
       "        vertical-align: middle;\n",
       "    }\n",
       "\n",
       "    .dataframe tbody tr th {\n",
       "        vertical-align: top;\n",
       "    }\n",
       "\n",
       "    .dataframe thead th {\n",
       "        text-align: right;\n",
       "    }\n",
       "</style>\n",
       "<table border=\"1\" class=\"dataframe\">\n",
       "  <thead>\n",
       "    <tr style=\"text-align: right;\">\n",
       "      <th></th>\n",
       "      <th>id</th>\n",
       "      <th>listing_url</th>\n",
       "      <th>scrape_id</th>\n",
       "      <th>last_scraped</th>\n",
       "      <th>name</th>\n",
       "      <th>description</th>\n",
       "      <th>neighborhood_overview</th>\n",
       "      <th>picture_url</th>\n",
       "      <th>host_id</th>\n",
       "      <th>host_url</th>\n",
       "      <th>...</th>\n",
       "      <th>review_scores_communication</th>\n",
       "      <th>review_scores_location</th>\n",
       "      <th>review_scores_value</th>\n",
       "      <th>license</th>\n",
       "      <th>instant_bookable</th>\n",
       "      <th>calculated_host_listings_count</th>\n",
       "      <th>calculated_host_listings_count_entire_homes</th>\n",
       "      <th>calculated_host_listings_count_private_rooms</th>\n",
       "      <th>calculated_host_listings_count_shared_rooms</th>\n",
       "      <th>reviews_per_month</th>\n",
       "    </tr>\n",
       "  </thead>\n",
       "  <tbody>\n",
       "    <tr>\n",
       "      <th>0</th>\n",
       "      <td>3191</td>\n",
       "      <td>https://www.airbnb.com/rooms/3191</td>\n",
       "      <td>20211026143401</td>\n",
       "      <td>2021-10-27</td>\n",
       "      <td>Malleson Garden Cottage</td>\n",
       "      <td>This is a lovely, separate, self-catering cott...</td>\n",
       "      <td>Mowbray is on the Southern Suburbs line, 6km (...</td>\n",
       "      <td>https://a0.muscache.com/pictures/697022/385407...</td>\n",
       "      <td>3754</td>\n",
       "      <td>https://www.airbnb.com/users/show/3754</td>\n",
       "      <td>...</td>\n",
       "      <td>4.98</td>\n",
       "      <td>4.72</td>\n",
       "      <td>4.78</td>\n",
       "      <td>NaN</td>\n",
       "      <td>f</td>\n",
       "      <td>1</td>\n",
       "      <td>1</td>\n",
       "      <td>0</td>\n",
       "      <td>0</td>\n",
       "      <td>0.56</td>\n",
       "    </tr>\n",
       "    <tr>\n",
       "      <th>1</th>\n",
       "      <td>15007</td>\n",
       "      <td>https://www.airbnb.com/rooms/15007</td>\n",
       "      <td>20211026143401</td>\n",
       "      <td>2021-10-27</td>\n",
       "      <td>Blaauwberg House</td>\n",
       "      <td>Welcome to our self-catering beach-front famil...</td>\n",
       "      <td>Bloubergstrand is a lovely, cosy suburb near C...</td>\n",
       "      <td>https://a0.muscache.com/pictures/3b654aa4-248e...</td>\n",
       "      <td>59072</td>\n",
       "      <td>https://www.airbnb.com/users/show/59072</td>\n",
       "      <td>...</td>\n",
       "      <td>4.93</td>\n",
       "      <td>4.93</td>\n",
       "      <td>4.83</td>\n",
       "      <td>NaN</td>\n",
       "      <td>f</td>\n",
       "      <td>2</td>\n",
       "      <td>2</td>\n",
       "      <td>0</td>\n",
       "      <td>0</td>\n",
       "      <td>0.63</td>\n",
       "    </tr>\n",
       "    <tr>\n",
       "      <th>2</th>\n",
       "      <td>15077</td>\n",
       "      <td>https://www.airbnb.com/rooms/15077</td>\n",
       "      <td>20211026143401</td>\n",
       "      <td>2021-10-27</td>\n",
       "      <td>Top relaxed beach living in style</td>\n",
       "      <td>Situated either on the ground floor with direc...</td>\n",
       "      <td>It is probably the best hub in order to explor...</td>\n",
       "      <td>https://a0.muscache.com/pictures/4a8fceaa-655e...</td>\n",
       "      <td>59342</td>\n",
       "      <td>https://www.airbnb.com/users/show/59342</td>\n",
       "      <td>...</td>\n",
       "      <td>4.80</td>\n",
       "      <td>4.80</td>\n",
       "      <td>5.00</td>\n",
       "      <td>NaN</td>\n",
       "      <td>f</td>\n",
       "      <td>5</td>\n",
       "      <td>1</td>\n",
       "      <td>4</td>\n",
       "      <td>0</td>\n",
       "      <td>0.06</td>\n",
       "    </tr>\n",
       "    <tr>\n",
       "      <th>3</th>\n",
       "      <td>15199</td>\n",
       "      <td>https://www.airbnb.com/rooms/15199</td>\n",
       "      <td>20211026143401</td>\n",
       "      <td>2021-10-26</td>\n",
       "      <td>Self catering apartment</td>\n",
       "      <td>&lt;b&gt;The space&lt;/b&gt;&lt;br /&gt;Amenities :&lt;br /&gt;Welcome...</td>\n",
       "      <td>NaN</td>\n",
       "      <td>https://a0.muscache.com/pictures/142776/5b6c9e...</td>\n",
       "      <td>59694</td>\n",
       "      <td>https://www.airbnb.com/users/show/59694</td>\n",
       "      <td>...</td>\n",
       "      <td>5.00</td>\n",
       "      <td>5.00</td>\n",
       "      <td>4.00</td>\n",
       "      <td>NaN</td>\n",
       "      <td>f</td>\n",
       "      <td>1</td>\n",
       "      <td>1</td>\n",
       "      <td>0</td>\n",
       "      <td>0</td>\n",
       "      <td>0.02</td>\n",
       "    </tr>\n",
       "    <tr>\n",
       "      <th>4</th>\n",
       "      <td>15285</td>\n",
       "      <td>https://www.airbnb.com/rooms/15285</td>\n",
       "      <td>20211026143401</td>\n",
       "      <td>2021-10-27</td>\n",
       "      <td>Waterford-Guinea Fowl Self Catering</td>\n",
       "      <td>Our returning guests are a testament to the re...</td>\n",
       "      <td>Constantia is home to the earliest wine farms ...</td>\n",
       "      <td>https://a0.muscache.com/pictures/7b09362c-5a62...</td>\n",
       "      <td>59964</td>\n",
       "      <td>https://www.airbnb.com/users/show/59964</td>\n",
       "      <td>...</td>\n",
       "      <td>5.00</td>\n",
       "      <td>4.89</td>\n",
       "      <td>4.89</td>\n",
       "      <td>NaN</td>\n",
       "      <td>f</td>\n",
       "      <td>3</td>\n",
       "      <td>2</td>\n",
       "      <td>0</td>\n",
       "      <td>0</td>\n",
       "      <td>0.08</td>\n",
       "    </tr>\n",
       "  </tbody>\n",
       "</table>\n",
       "<p>5 rows × 74 columns</p>\n",
       "</div>"
      ],
      "text/plain": [
       "      id                         listing_url       scrape_id last_scraped  \\\n",
       "0   3191   https://www.airbnb.com/rooms/3191  20211026143401   2021-10-27   \n",
       "1  15007  https://www.airbnb.com/rooms/15007  20211026143401   2021-10-27   \n",
       "2  15077  https://www.airbnb.com/rooms/15077  20211026143401   2021-10-27   \n",
       "3  15199  https://www.airbnb.com/rooms/15199  20211026143401   2021-10-26   \n",
       "4  15285  https://www.airbnb.com/rooms/15285  20211026143401   2021-10-27   \n",
       "\n",
       "                                  name  \\\n",
       "0              Malleson Garden Cottage   \n",
       "1                     Blaauwberg House   \n",
       "2    Top relaxed beach living in style   \n",
       "3              Self catering apartment   \n",
       "4  Waterford-Guinea Fowl Self Catering   \n",
       "\n",
       "                                         description  \\\n",
       "0  This is a lovely, separate, self-catering cott...   \n",
       "1  Welcome to our self-catering beach-front famil...   \n",
       "2  Situated either on the ground floor with direc...   \n",
       "3  <b>The space</b><br />Amenities :<br />Welcome...   \n",
       "4  Our returning guests are a testament to the re...   \n",
       "\n",
       "                               neighborhood_overview  \\\n",
       "0  Mowbray is on the Southern Suburbs line, 6km (...   \n",
       "1  Bloubergstrand is a lovely, cosy suburb near C...   \n",
       "2  It is probably the best hub in order to explor...   \n",
       "3                                                NaN   \n",
       "4  Constantia is home to the earliest wine farms ...   \n",
       "\n",
       "                                         picture_url  host_id  \\\n",
       "0  https://a0.muscache.com/pictures/697022/385407...     3754   \n",
       "1  https://a0.muscache.com/pictures/3b654aa4-248e...    59072   \n",
       "2  https://a0.muscache.com/pictures/4a8fceaa-655e...    59342   \n",
       "3  https://a0.muscache.com/pictures/142776/5b6c9e...    59694   \n",
       "4  https://a0.muscache.com/pictures/7b09362c-5a62...    59964   \n",
       "\n",
       "                                  host_url  ... review_scores_communication  \\\n",
       "0   https://www.airbnb.com/users/show/3754  ...                        4.98   \n",
       "1  https://www.airbnb.com/users/show/59072  ...                        4.93   \n",
       "2  https://www.airbnb.com/users/show/59342  ...                        4.80   \n",
       "3  https://www.airbnb.com/users/show/59694  ...                        5.00   \n",
       "4  https://www.airbnb.com/users/show/59964  ...                        5.00   \n",
       "\n",
       "  review_scores_location review_scores_value license instant_bookable  \\\n",
       "0                   4.72                4.78     NaN                f   \n",
       "1                   4.93                4.83     NaN                f   \n",
       "2                   4.80                5.00     NaN                f   \n",
       "3                   5.00                4.00     NaN                f   \n",
       "4                   4.89                4.89     NaN                f   \n",
       "\n",
       "  calculated_host_listings_count calculated_host_listings_count_entire_homes  \\\n",
       "0                              1                                           1   \n",
       "1                              2                                           2   \n",
       "2                              5                                           1   \n",
       "3                              1                                           1   \n",
       "4                              3                                           2   \n",
       "\n",
       "  calculated_host_listings_count_private_rooms  \\\n",
       "0                                            0   \n",
       "1                                            0   \n",
       "2                                            4   \n",
       "3                                            0   \n",
       "4                                            0   \n",
       "\n",
       "  calculated_host_listings_count_shared_rooms reviews_per_month  \n",
       "0                                           0              0.56  \n",
       "1                                           0              0.63  \n",
       "2                                           0              0.06  \n",
       "3                                           0              0.02  \n",
       "4                                           0              0.08  \n",
       "\n",
       "[5 rows x 74 columns]"
      ]
     },
     "execution_count": 24,
     "metadata": {},
     "output_type": "execute_result"
    }
   ],
   "source": [
    "airbnb_capetown.head()"
   ]
  },
  {
   "cell_type": "code",
   "execution_count": 27,
   "id": "d601a491",
   "metadata": {
    "ExecuteTime": {
     "end_time": "2022-01-11T14:30:47.081721Z",
     "start_time": "2022-01-11T14:30:46.595127Z"
    }
   },
   "outputs": [
    {
     "name": "stderr",
     "output_type": "stream",
     "text": [
      "/usr/local/lib/python3.7/dist-packages/pandas/core/dtypes/cast.py:118: ShapelyDeprecationWarning: The array interface is deprecated and will no longer work in Shapely 2.0. Convert the '.coords' to a numpy array instead.\n",
      "  arr = construct_1d_object_array_from_listlike(values)\n"
     ]
    }
   ],
   "source": [
    "airbnb_capetown['geometry'] = gf.get_points(airbnb_capetown.latitude,airbnb_capetown.longitude)"
   ]
  },
  {
   "cell_type": "code",
   "execution_count": 29,
   "id": "79ea4c33",
   "metadata": {
    "ExecuteTime": {
     "end_time": "2022-01-11T14:31:23.797377Z",
     "start_time": "2022-01-11T14:31:23.759670Z"
    }
   },
   "outputs": [],
   "source": [
    "gdf_airbnb_capetown = gf.get_gdf(airbnb_capetown,'geometry',4326)"
   ]
  },
  {
   "cell_type": "code",
   "execution_count": 30,
   "id": "9cac035a",
   "metadata": {
    "ExecuteTime": {
     "end_time": "2022-01-11T14:31:35.808459Z",
     "start_time": "2022-01-11T14:31:35.600855Z"
    }
   },
   "outputs": [
    {
     "data": {
      "text/plain": [
       "<AxesSubplot:>"
      ]
     },
     "execution_count": 30,
     "metadata": {},
     "output_type": "execute_result"
    },
    {
     "data": {
      "image/png": "[encoded data removed]",
      "text/plain": [
       "<Figure size 432x288 with 1 Axes>"
      ]
     },
     "metadata": {
      "needs_background": "light"
     },
     "output_type": "display_data"
    }
   ],
   "source": [
    "gdf_airbnb_capetown.head(20).plot()"
   ]
  },
  {
   "cell_type": "code",
   "execution_count": 32,
   "id": "c2bfce65",
   "metadata": {
    "ExecuteTime": {
     "end_time": "2022-01-11T14:32:40.706302Z",
     "start_time": "2022-01-11T14:32:40.228575Z"
    }
   },
   "outputs": [
    {
     "name": "stderr",
     "output_type": "stream",
     "text": [
      "/usr/local/lib/python3.7/dist-packages/IPython/core/interactiveshell.py:3377: FutureWarning: The `op` parameter is deprecated and will be removed in a future release. Please use the `predicate` parameter instead.\n",
      "  if (await self.run_code(code, result,  async_=asy)):\n"
     ]
    }
   ],
   "source": [
    "grid_pop_airbnb = gpd.sjoin(pop_layer_capetown,gdf_airbnb_capetown, op='contains',how='left')"
   ]
  },
  {
   "cell_type": "code",
   "execution_count": 37,
   "id": "8e52bf21",
   "metadata": {
    "ExecuteTime": {
     "end_time": "2022-01-11T14:33:38.106023Z",
     "start_time": "2022-01-11T14:33:38.101882Z"
    }
   },
   "outputs": [],
   "source": [
    "grid_pop_airbnb['flg_airbnb'] = grid_pop_airbnb['id'].isnull()==False"
   ]
  },
  {
   "cell_type": "code",
   "execution_count": 41,
   "id": "9164ab9a",
   "metadata": {
    "ExecuteTime": {
     "end_time": "2022-01-11T14:34:36.092391Z",
     "start_time": "2022-01-11T14:34:36.087063Z"
    }
   },
   "outputs": [],
   "source": [
    "grid_pop_airbnb['price'] = grid_pop_airbnb['price'].fillna(0)"
   ]
  },
  {
   "cell_type": "code",
   "execution_count": 43,
   "id": "18084cae",
   "metadata": {
    "ExecuteTime": {
     "end_time": "2022-01-11T14:35:05.986439Z",
     "start_time": "2022-01-11T14:35:05.982496Z"
    }
   },
   "outputs": [],
   "source": [
    "grid_pop_airbnb.reset_index(inplace=True)"
   ]
  },
  {
   "cell_type": "code",
   "execution_count": 44,
   "id": "41f4252b",
   "metadata": {
    "ExecuteTime": {
     "end_time": "2022-01-11T14:35:17.862878Z",
     "start_time": "2022-01-11T14:35:17.636648Z"
    },
    "scrolled": true
   },
   "outputs": [
    {
     "data": {
      "text/html": [
       "<div>\n",
       "<style scoped>\n",
       "    .dataframe tbody tr th:only-of-type {\n",
       "        vertical-align: middle;\n",
       "    }\n",
       "\n",
       "    .dataframe tbody tr th {\n",
       "        vertical-align: top;\n",
       "    }\n",
       "\n",
       "    .dataframe thead th {\n",
       "        text-align: right;\n",
       "    }\n",
       "</style>\n",
       "<table border=\"1\" class=\"dataframe\">\n",
       "  <thead>\n",
       "    <tr style=\"text-align: right;\">\n",
       "      <th></th>\n",
       "      <th>index</th>\n",
       "      <th>Density per 1 km</th>\n",
       "      <th>geometry</th>\n",
       "      <th>index_right</th>\n",
       "      <th>id</th>\n",
       "      <th>listing_url</th>\n",
       "      <th>scrape_id</th>\n",
       "      <th>last_scraped</th>\n",
       "      <th>name</th>\n",
       "      <th>description</th>\n",
       "      <th>...</th>\n",
       "      <th>review_scores_location</th>\n",
       "      <th>review_scores_value</th>\n",
       "      <th>license</th>\n",
       "      <th>instant_bookable</th>\n",
       "      <th>calculated_host_listings_count</th>\n",
       "      <th>calculated_host_listings_count_entire_homes</th>\n",
       "      <th>calculated_host_listings_count_private_rooms</th>\n",
       "      <th>calculated_host_listings_count_shared_rooms</th>\n",
       "      <th>reviews_per_month</th>\n",
       "      <th>flg_airbnb</th>\n",
       "    </tr>\n",
       "  </thead>\n",
       "  <tbody>\n",
       "    <tr>\n",
       "      <th>0</th>\n",
       "      <td>377456</td>\n",
       "      <td>2</td>\n",
       "      <td>POLYGON ((18.46542 -33.49208, 18.46542 -33.500...</td>\n",
       "      <td>NaN</td>\n",
       "      <td>NaN</td>\n",
       "      <td>NaN</td>\n",
       "      <td>NaN</td>\n",
       "      <td>NaN</td>\n",
       "      <td>NaN</td>\n",
       "      <td>NaN</td>\n",
       "      <td>...</td>\n",
       "      <td>NaN</td>\n",
       "      <td>NaN</td>\n",
       "      <td>NaN</td>\n",
       "      <td>NaN</td>\n",
       "      <td>NaN</td>\n",
       "      <td>NaN</td>\n",
       "      <td>NaN</td>\n",
       "      <td>NaN</td>\n",
       "      <td>NaN</td>\n",
       "      <td>False</td>\n",
       "    </tr>\n",
       "    <tr>\n",
       "      <th>1</th>\n",
       "      <td>377813</td>\n",
       "      <td>3</td>\n",
       "      <td>POLYGON ((18.44042 -33.50042, 18.44042 -33.508...</td>\n",
       "      <td>NaN</td>\n",
       "      <td>NaN</td>\n",
       "      <td>NaN</td>\n",
       "      <td>NaN</td>\n",
       "      <td>NaN</td>\n",
       "      <td>NaN</td>\n",
       "      <td>NaN</td>\n",
       "      <td>...</td>\n",
       "      <td>NaN</td>\n",
       "      <td>NaN</td>\n",
       "      <td>NaN</td>\n",
       "      <td>NaN</td>\n",
       "      <td>NaN</td>\n",
       "      <td>NaN</td>\n",
       "      <td>NaN</td>\n",
       "      <td>NaN</td>\n",
       "      <td>NaN</td>\n",
       "      <td>False</td>\n",
       "    </tr>\n",
       "    <tr>\n",
       "      <th>2</th>\n",
       "      <td>377814</td>\n",
       "      <td>2</td>\n",
       "      <td>POLYGON ((18.44875 -33.50042, 18.44875 -33.508...</td>\n",
       "      <td>NaN</td>\n",
       "      <td>NaN</td>\n",
       "      <td>NaN</td>\n",
       "      <td>NaN</td>\n",
       "      <td>NaN</td>\n",
       "      <td>NaN</td>\n",
       "      <td>NaN</td>\n",
       "      <td>...</td>\n",
       "      <td>NaN</td>\n",
       "      <td>NaN</td>\n",
       "      <td>NaN</td>\n",
       "      <td>NaN</td>\n",
       "      <td>NaN</td>\n",
       "      <td>NaN</td>\n",
       "      <td>NaN</td>\n",
       "      <td>NaN</td>\n",
       "      <td>NaN</td>\n",
       "      <td>False</td>\n",
       "    </tr>\n",
       "    <tr>\n",
       "      <th>3</th>\n",
       "      <td>377815</td>\n",
       "      <td>78</td>\n",
       "      <td>POLYGON ((18.46542 -33.50042, 18.46542 -33.508...</td>\n",
       "      <td>NaN</td>\n",
       "      <td>NaN</td>\n",
       "      <td>NaN</td>\n",
       "      <td>NaN</td>\n",
       "      <td>NaN</td>\n",
       "      <td>NaN</td>\n",
       "      <td>NaN</td>\n",
       "      <td>...</td>\n",
       "      <td>NaN</td>\n",
       "      <td>NaN</td>\n",
       "      <td>NaN</td>\n",
       "      <td>NaN</td>\n",
       "      <td>NaN</td>\n",
       "      <td>NaN</td>\n",
       "      <td>NaN</td>\n",
       "      <td>NaN</td>\n",
       "      <td>NaN</td>\n",
       "      <td>False</td>\n",
       "    </tr>\n",
       "    <tr>\n",
       "      <th>4</th>\n",
       "      <td>377816</td>\n",
       "      <td>121</td>\n",
       "      <td>POLYGON ((18.47375 -33.50042, 18.47375 -33.508...</td>\n",
       "      <td>NaN</td>\n",
       "      <td>NaN</td>\n",
       "      <td>NaN</td>\n",
       "      <td>NaN</td>\n",
       "      <td>NaN</td>\n",
       "      <td>NaN</td>\n",
       "      <td>NaN</td>\n",
       "      <td>...</td>\n",
       "      <td>NaN</td>\n",
       "      <td>NaN</td>\n",
       "      <td>NaN</td>\n",
       "      <td>NaN</td>\n",
       "      <td>NaN</td>\n",
       "      <td>NaN</td>\n",
       "      <td>NaN</td>\n",
       "      <td>NaN</td>\n",
       "      <td>NaN</td>\n",
       "      <td>False</td>\n",
       "    </tr>\n",
       "    <tr>\n",
       "      <th>...</th>\n",
       "      <td>...</td>\n",
       "      <td>...</td>\n",
       "      <td>...</td>\n",
       "      <td>...</td>\n",
       "      <td>...</td>\n",
       "      <td>...</td>\n",
       "      <td>...</td>\n",
       "      <td>...</td>\n",
       "      <td>...</td>\n",
       "      <td>...</td>\n",
       "      <td>...</td>\n",
       "      <td>...</td>\n",
       "      <td>...</td>\n",
       "      <td>...</td>\n",
       "      <td>...</td>\n",
       "      <td>...</td>\n",
       "      <td>...</td>\n",
       "      <td>...</td>\n",
       "      <td>...</td>\n",
       "      <td>...</td>\n",
       "      <td>...</td>\n",
       "    </tr>\n",
       "    <tr>\n",
       "      <th>25361</th>\n",
       "      <td>813854</td>\n",
       "      <td>2</td>\n",
       "      <td>POLYGON ((18.43208 -34.24208, 18.43208 -34.250...</td>\n",
       "      <td>9676.0</td>\n",
       "      <td>33388612.0</td>\n",
       "      <td>https://www.airbnb.com/rooms/33388612</td>\n",
       "      <td>2.021103e+13</td>\n",
       "      <td>2021-10-27</td>\n",
       "      <td>Moon Wagon on Lalaphanzi Farm, in Cape Point, SA.</td>\n",
       "      <td>Situated on a farm at the tip of Africa, this ...</td>\n",
       "      <td>...</td>\n",
       "      <td>5.0</td>\n",
       "      <td>4.79</td>\n",
       "      <td>NaN</td>\n",
       "      <td>f</td>\n",
       "      <td>2.0</td>\n",
       "      <td>0.0</td>\n",
       "      <td>2.0</td>\n",
       "      <td>0.0</td>\n",
       "      <td>0.45</td>\n",
       "      <td>True</td>\n",
       "    </tr>\n",
       "    <tr>\n",
       "      <th>25362</th>\n",
       "      <td>813855</td>\n",
       "      <td>1</td>\n",
       "      <td>POLYGON ((18.44042 -34.24208, 18.44042 -34.258...</td>\n",
       "      <td>NaN</td>\n",
       "      <td>NaN</td>\n",
       "      <td>NaN</td>\n",
       "      <td>NaN</td>\n",
       "      <td>NaN</td>\n",
       "      <td>NaN</td>\n",
       "      <td>NaN</td>\n",
       "      <td>...</td>\n",
       "      <td>NaN</td>\n",
       "      <td>NaN</td>\n",
       "      <td>NaN</td>\n",
       "      <td>NaN</td>\n",
       "      <td>NaN</td>\n",
       "      <td>NaN</td>\n",
       "      <td>NaN</td>\n",
       "      <td>NaN</td>\n",
       "      <td>NaN</td>\n",
       "      <td>False</td>\n",
       "    </tr>\n",
       "    <tr>\n",
       "      <th>25363</th>\n",
       "      <td>813856</td>\n",
       "      <td>10</td>\n",
       "      <td>POLYGON ((18.46542 -34.24208, 18.46542 -34.250...</td>\n",
       "      <td>NaN</td>\n",
       "      <td>NaN</td>\n",
       "      <td>NaN</td>\n",
       "      <td>NaN</td>\n",
       "      <td>NaN</td>\n",
       "      <td>NaN</td>\n",
       "      <td>NaN</td>\n",
       "      <td>...</td>\n",
       "      <td>NaN</td>\n",
       "      <td>NaN</td>\n",
       "      <td>NaN</td>\n",
       "      <td>NaN</td>\n",
       "      <td>NaN</td>\n",
       "      <td>NaN</td>\n",
       "      <td>NaN</td>\n",
       "      <td>NaN</td>\n",
       "      <td>NaN</td>\n",
       "      <td>False</td>\n",
       "    </tr>\n",
       "    <tr>\n",
       "      <th>25364</th>\n",
       "      <td>813859</td>\n",
       "      <td>4</td>\n",
       "      <td>POLYGON ((18.85708 -34.24208, 18.85708 -34.258...</td>\n",
       "      <td>NaN</td>\n",
       "      <td>NaN</td>\n",
       "      <td>NaN</td>\n",
       "      <td>NaN</td>\n",
       "      <td>NaN</td>\n",
       "      <td>NaN</td>\n",
       "      <td>NaN</td>\n",
       "      <td>...</td>\n",
       "      <td>NaN</td>\n",
       "      <td>NaN</td>\n",
       "      <td>NaN</td>\n",
       "      <td>NaN</td>\n",
       "      <td>NaN</td>\n",
       "      <td>NaN</td>\n",
       "      <td>NaN</td>\n",
       "      <td>NaN</td>\n",
       "      <td>NaN</td>\n",
       "      <td>False</td>\n",
       "    </tr>\n",
       "    <tr>\n",
       "      <th>25365</th>\n",
       "      <td>813964</td>\n",
       "      <td>2</td>\n",
       "      <td>POLYGON ((18.44875 -34.25042, 18.44875 -34.258...</td>\n",
       "      <td>NaN</td>\n",
       "      <td>NaN</td>\n",
       "      <td>NaN</td>\n",
       "      <td>NaN</td>\n",
       "      <td>NaN</td>\n",
       "      <td>NaN</td>\n",
       "      <td>NaN</td>\n",
       "      <td>...</td>\n",
       "      <td>NaN</td>\n",
       "      <td>NaN</td>\n",
       "      <td>NaN</td>\n",
       "      <td>NaN</td>\n",
       "      <td>NaN</td>\n",
       "      <td>NaN</td>\n",
       "      <td>NaN</td>\n",
       "      <td>NaN</td>\n",
       "      <td>NaN</td>\n",
       "      <td>False</td>\n",
       "    </tr>\n",
       "  </tbody>\n",
       "</table>\n",
       "<p>25366 rows × 79 columns</p>\n",
       "</div>"
      ],
      "text/plain": [
       "        index  Density per 1 km  \\\n",
       "0      377456                 2   \n",
       "1      377813                 3   \n",
       "2      377814                 2   \n",
       "3      377815                78   \n",
       "4      377816               121   \n",
       "...       ...               ...   \n",
       "25361  813854                 2   \n",
       "25362  813855                 1   \n",
       "25363  813856                10   \n",
       "25364  813859                 4   \n",
       "25365  813964                 2   \n",
       "\n",
       "                                                geometry  index_right  \\\n",
       "0      POLYGON ((18.46542 -33.49208, 18.46542 -33.500...          NaN   \n",
       "1      POLYGON ((18.44042 -33.50042, 18.44042 -33.508...          NaN   \n",
       "2      POLYGON ((18.44875 -33.50042, 18.44875 -33.508...          NaN   \n",
       "3      POLYGON ((18.46542 -33.50042, 18.46542 -33.508...          NaN   \n",
       "4      POLYGON ((18.47375 -33.50042, 18.47375 -33.508...          NaN   \n",
       "...                                                  ...          ...   \n",
       "25361  POLYGON ((18.43208 -34.24208, 18.43208 -34.250...       9676.0   \n",
       "25362  POLYGON ((18.44042 -34.24208, 18.44042 -34.258...          NaN   \n",
       "25363  POLYGON ((18.46542 -34.24208, 18.46542 -34.250...          NaN   \n",
       "25364  POLYGON ((18.85708 -34.24208, 18.85708 -34.258...          NaN   \n",
       "25365  POLYGON ((18.44875 -34.25042, 18.44875 -34.258...          NaN   \n",
       "\n",
       "               id                            listing_url     scrape_id  \\\n",
       "0             NaN                                    NaN           NaN   \n",
       "1             NaN                                    NaN           NaN   \n",
       "2             NaN                                    NaN           NaN   \n",
       "3             NaN                                    NaN           NaN   \n",
       "4             NaN                                    NaN           NaN   \n",
       "...           ...                                    ...           ...   \n",
       "25361  33388612.0  https://www.airbnb.com/rooms/33388612  2.021103e+13   \n",
       "25362         NaN                                    NaN           NaN   \n",
       "25363         NaN                                    NaN           NaN   \n",
       "25364         NaN                                    NaN           NaN   \n",
       "25365         NaN                                    NaN           NaN   \n",
       "\n",
       "      last_scraped                                               name  \\\n",
       "0              NaN                                                NaN   \n",
       "1              NaN                                                NaN   \n",
       "2              NaN                                                NaN   \n",
       "3              NaN                                                NaN   \n",
       "4              NaN                                                NaN   \n",
       "...            ...                                                ...   \n",
       "25361   2021-10-27  Moon Wagon on Lalaphanzi Farm, in Cape Point, SA.   \n",
       "25362          NaN                                                NaN   \n",
       "25363          NaN                                                NaN   \n",
       "25364          NaN                                                NaN   \n",
       "25365          NaN                                                NaN   \n",
       "\n",
       "                                             description  ...  \\\n",
       "0                                                    NaN  ...   \n",
       "1                                                    NaN  ...   \n",
       "2                                                    NaN  ...   \n",
       "3                                                    NaN  ...   \n",
       "4                                                    NaN  ...   \n",
       "...                                                  ...  ...   \n",
       "25361  Situated on a farm at the tip of Africa, this ...  ...   \n",
       "25362                                                NaN  ...   \n",
       "25363                                                NaN  ...   \n",
       "25364                                                NaN  ...   \n",
       "25365                                                NaN  ...   \n",
       "\n",
       "      review_scores_location review_scores_value  license instant_bookable  \\\n",
       "0                        NaN                 NaN      NaN              NaN   \n",
       "1                        NaN                 NaN      NaN              NaN   \n",
       "2                        NaN                 NaN      NaN              NaN   \n",
       "3                        NaN                 NaN      NaN              NaN   \n",
       "4                        NaN                 NaN      NaN              NaN   \n",
       "...                      ...                 ...      ...              ...   \n",
       "25361                    5.0                4.79      NaN                f   \n",
       "25362                    NaN                 NaN      NaN              NaN   \n",
       "25363                    NaN                 NaN      NaN              NaN   \n",
       "25364                    NaN                 NaN      NaN              NaN   \n",
       "25365                    NaN                 NaN      NaN              NaN   \n",
       "\n",
       "      calculated_host_listings_count  \\\n",
       "0                                NaN   \n",
       "1                                NaN   \n",
       "2                                NaN   \n",
       "3                                NaN   \n",
       "4                                NaN   \n",
       "...                              ...   \n",
       "25361                            2.0   \n",
       "25362                            NaN   \n",
       "25363                            NaN   \n",
       "25364                            NaN   \n",
       "25365                            NaN   \n",
       "\n",
       "      calculated_host_listings_count_entire_homes  \\\n",
       "0                                             NaN   \n",
       "1                                             NaN   \n",
       "2                                             NaN   \n",
       "3                                             NaN   \n",
       "4                                             NaN   \n",
       "...                                           ...   \n",
       "25361                                         0.0   \n",
       "25362                                         NaN   \n",
       "25363                                         NaN   \n",
       "25364                                         NaN   \n",
       "25365                                         NaN   \n",
       "\n",
       "      calculated_host_listings_count_private_rooms  \\\n",
       "0                                              NaN   \n",
       "1                                              NaN   \n",
       "2                                              NaN   \n",
       "3                                              NaN   \n",
       "4                                              NaN   \n",
       "...                                            ...   \n",
       "25361                                          2.0   \n",
       "25362                                          NaN   \n",
       "25363                                          NaN   \n",
       "25364                                          NaN   \n",
       "25365                                          NaN   \n",
       "\n",
       "      calculated_host_listings_count_shared_rooms reviews_per_month flg_airbnb  \n",
       "0                                             NaN               NaN      False  \n",
       "1                                             NaN               NaN      False  \n",
       "2                                             NaN               NaN      False  \n",
       "3                                             NaN               NaN      False  \n",
       "4                                             NaN               NaN      False  \n",
       "...                                           ...               ...        ...  \n",
       "25361                                         0.0              0.45       True  \n",
       "25362                                         NaN               NaN      False  \n",
       "25363                                         NaN               NaN      False  \n",
       "25364                                         NaN               NaN      False  \n",
       "25365                                         NaN               NaN      False  \n",
       "\n",
       "[25366 rows x 79 columns]"
      ]
     },
     "execution_count": 44,
     "metadata": {},
     "output_type": "execute_result"
    }
   ],
   "source": [
    "grid_pop_airbnb"
   ]
  },
  {
   "cell_type": "code",
   "execution_count": 55,
   "id": "9d9ed736",
   "metadata": {
    "ExecuteTime": {
     "end_time": "2022-01-11T14:38:22.053889Z",
     "start_time": "2022-01-11T14:38:22.025007Z"
    }
   },
   "outputs": [],
   "source": [
    "grid_pop_airbnb['price'] = grid_pop_airbnb['price'].apply(lambda x: float(x[1:].replace(',','')) if str(x)[0]=='$' else x)"
   ]
  },
  {
   "cell_type": "code",
   "execution_count": 57,
   "id": "01bcc81d",
   "metadata": {
    "ExecuteTime": {
     "end_time": "2022-01-11T14:38:40.645689Z",
     "start_time": "2022-01-11T14:38:40.429009Z"
    }
   },
   "outputs": [
    {
     "data": {
      "text/plain": [
       "<AxesSubplot:ylabel='Frequency'>"
      ]
     },
     "execution_count": 57,
     "metadata": {},
     "output_type": "execute_result"
    },
    {
     "data": {
      "image/png": "[encoded data removed]",
      "text/plain": [
       "<Figure size 432x288 with 1 Axes>"
      ]
     },
     "metadata": {
      "needs_background": "light"
     },
     "output_type": "display_data"
    }
   ],
   "source": [
    "grid_pop_airbnb.groupby('index')['price'].mean().plot(kind='hist')"
   ]
  },
  {
   "cell_type": "code",
   "execution_count": 59,
   "id": "e4dbdda0",
   "metadata": {
    "ExecuteTime": {
     "end_time": "2022-01-11T14:39:08.394321Z",
     "start_time": "2022-01-11T14:39:08.386819Z"
    }
   },
   "outputs": [
    {
     "data": {
      "text/plain": [
       "802245    649\n",
       "393490    649\n",
       "393124    388\n",
       "801879    388\n",
       "393874    296\n",
       "         ... \n",
       "400572      1\n",
       "400573      1\n",
       "400574      1\n",
       "400575      1\n",
       "813964      1\n",
       "Name: index, Length: 4410, dtype: int64"
      ]
     },
     "execution_count": 59,
     "metadata": {},
     "output_type": "execute_result"
    }
   ],
   "source": [
    "grid_pop_airbnb['index'].value_counts()"
   ]
  },
  {
   "cell_type": "code",
   "execution_count": 63,
   "id": "e2dd642a",
   "metadata": {
    "ExecuteTime": {
     "end_time": "2022-01-11T14:51:01.954064Z",
     "start_time": "2022-01-11T14:51:01.929099Z"
    }
   },
   "outputs": [],
   "source": [
    "grid_data_capetown = pop_layer_capetown.join(grid_pop_airbnb.groupby('index')['price'].agg(['mean','count']))"
   ]
  },
  {
   "cell_type": "code",
   "execution_count": 64,
   "id": "8eeb07ad",
   "metadata": {
    "ExecuteTime": {
     "end_time": "2022-01-11T14:51:26.191140Z",
     "start_time": "2022-01-11T14:51:25.338056Z"
    }
   },
   "outputs": [],
   "source": [
    "grid_data_capetown.to_file('grid_data_capetown.geojson', driver='GeoJSON')"
   ]
  },
  {
   "cell_type": "code",
   "execution_count": null,
   "id": "4234be1b",
   "metadata": {},
   "outputs": [],
   "source": [
    "grid_pop_airbnb.groupby('index')['price'].mean()"
   ]
  },
  {
   "cell_type": "code",
   "execution_count": 9,
   "id": "5e4f3adc",
   "metadata": {
    "ExecuteTime": {
     "end_time": "2022-02-15T08:35:19.703588Z",
     "start_time": "2022-02-15T08:35:19.665424Z"
    }
   },
   "outputs": [],
   "source": [
    "borders_jhb=borders_jhb.set_crs('epsg:4326')"
   ]
  },
  {
   "cell_type": "code",
   "execution_count": 10,
   "id": "af1ffc2d",
   "metadata": {
    "ExecuteTime": {
     "end_time": "2022-07-11T07:48:52.158176Z",
     "start_time": "2022-07-11T07:48:52.026074Z"
    }
   },
   "outputs": [
    {
     "ename": "NameError",
     "evalue": "name 'pop_layer' is not defined",
     "output_type": "error",
     "traceback": [
      "\u001b[0;31m---------------------------------------------------------------------------\u001b[0m",
      "\u001b[0;31mNameError\u001b[0m                                 Traceback (most recent call last)",
      "\u001b[0;32m/tmp/ipykernel_2269/3467537174.py\u001b[0m in \u001b[0;36m<module>\u001b[0;34m\u001b[0m\n\u001b[0;32m----> 1\u001b[0;31m \u001b[0mpop_layer_jhb\u001b[0m \u001b[0;34m=\u001b[0m \u001b[0mpop_layer\u001b[0m\u001b[0;34m[\u001b[0m\u001b[0mpop_layer\u001b[0m\u001b[0;34m.\u001b[0m\u001b[0mgeometry\u001b[0m\u001b[0;34m.\u001b[0m\u001b[0mwithin\u001b[0m\u001b[0;34m(\u001b[0m\u001b[0mborders_jhb\u001b[0m\u001b[0;34m.\u001b[0m\u001b[0miloc\u001b[0m\u001b[0;34m[\u001b[0m\u001b[0;36m0\u001b[0m\u001b[0;34m]\u001b[0m\u001b[0;34m.\u001b[0m\u001b[0mgeometry\u001b[0m\u001b[0;34m)\u001b[0m\u001b[0;34m]\u001b[0m\u001b[0;34m\u001b[0m\u001b[0;34m\u001b[0m\u001b[0m\n\u001b[0m",
      "\u001b[0;31mNameError\u001b[0m: name 'pop_layer' is not defined"
     ]
    }
   ],
   "source": [
    "pop_layer_jhb = pop_layer[pop_layer.geometry.within(borders_jhb.iloc[0].geometry)]"
   ]
  },
  {
   "cell_type": "code",
   "execution_count": 11,
   "id": "1f72d383",
   "metadata": {
    "ExecuteTime": {
     "end_time": "2022-07-11T07:48:52.539592Z",
     "start_time": "2022-07-11T07:48:52.522719Z"
    }
   },
   "outputs": [
    {
     "ename": "NameError",
     "evalue": "name 'pop_layer_jhb' is not defined",
     "output_type": "error",
     "traceback": [
      "\u001b[0;31m---------------------------------------------------------------------------\u001b[0m",
      "\u001b[0;31mNameError\u001b[0m                                 Traceback (most recent call last)",
      "\u001b[0;32m/tmp/ipykernel_2269/3564337858.py\u001b[0m in \u001b[0;36m<module>\u001b[0;34m\u001b[0m\n\u001b[0;32m----> 1\u001b[0;31m \u001b[0mpop_layer_jhb\u001b[0m\u001b[0;34m.\u001b[0m\u001b[0mplot\u001b[0m\u001b[0;34m(\u001b[0m\u001b[0;34m)\u001b[0m\u001b[0;34m\u001b[0m\u001b[0;34m\u001b[0m\u001b[0m\n\u001b[0m",
      "\u001b[0;31mNameError\u001b[0m: name 'pop_layer_jhb' is not defined"
     ]
    }
   ],
   "source": [
    "pop_layer_jhb.plot()"
   ]
  },
  {
   "cell_type": "code",
   "execution_count": 12,
   "id": "d4e041e4",
   "metadata": {
    "ExecuteTime": {
     "end_time": "2022-07-11T07:48:58.682082Z",
     "start_time": "2022-07-11T07:48:58.666827Z"
    }
   },
   "outputs": [
    {
     "ename": "NameError",
     "evalue": "name 'pop_layer_jhb' is not defined",
     "output_type": "error",
     "traceback": [
      "\u001b[0;31m---------------------------------------------------------------------------\u001b[0m",
      "\u001b[0;31mNameError\u001b[0m                                 Traceback (most recent call last)",
      "\u001b[0;32m/tmp/ipykernel_2269/795491981.py\u001b[0m in \u001b[0;36m<module>\u001b[0;34m\u001b[0m\n\u001b[0;32m----> 1\u001b[0;31m \u001b[0mpop_layer_jhb\u001b[0m\u001b[0;34m.\u001b[0m\u001b[0msum\u001b[0m\u001b[0;34m(\u001b[0m\u001b[0;34m)\u001b[0m\u001b[0;34m\u001b[0m\u001b[0;34m\u001b[0m\u001b[0m\n\u001b[0m",
      "\u001b[0;31mNameError\u001b[0m: name 'pop_layer_jhb' is not defined"
     ]
    }
   ],
   "source": [
    "pop_layer_jhb.sum()"
   ]
  },
  {
   "cell_type": "code",
   "execution_count": 71,
   "id": "77397911",
   "metadata": {
    "ExecuteTime": {
     "end_time": "2022-01-12T15:15:33.301853Z",
     "start_time": "2022-01-12T15:15:33.278840Z"
    }
   },
   "outputs": [
    {
     "data": {
      "text/html": [
       "<div>\n",
       "<style scoped>\n",
       "    .dataframe tbody tr th:only-of-type {\n",
       "        vertical-align: middle;\n",
       "    }\n",
       "\n",
       "    .dataframe tbody tr th {\n",
       "        vertical-align: top;\n",
       "    }\n",
       "\n",
       "    .dataframe thead th {\n",
       "        text-align: right;\n",
       "    }\n",
       "</style>\n",
       "<table border=\"1\" class=\"dataframe\">\n",
       "  <thead>\n",
       "    <tr style=\"text-align: right;\">\n",
       "      <th></th>\n",
       "      <th>Density per 1 km</th>\n",
       "      <th>geometry</th>\n",
       "    </tr>\n",
       "  </thead>\n",
       "  <tbody>\n",
       "    <tr>\n",
       "      <th>85073</th>\n",
       "      <td>12</td>\n",
       "      <td>POLYGON ((27.94875 -25.90875, 27.94875 -25.917...</td>\n",
       "    </tr>\n",
       "    <tr>\n",
       "      <th>85467</th>\n",
       "      <td>12</td>\n",
       "      <td>POLYGON ((27.94042 -25.91708, 27.94042 -25.925...</td>\n",
       "    </tr>\n",
       "    <tr>\n",
       "      <th>85468</th>\n",
       "      <td>1</td>\n",
       "      <td>POLYGON ((27.94875 -25.91708, 27.94875 -25.942...</td>\n",
       "    </tr>\n",
       "    <tr>\n",
       "      <th>85895</th>\n",
       "      <td>39415</td>\n",
       "      <td>POLYGON ((28.00708 -25.92542, 28.00708 -25.933...</td>\n",
       "    </tr>\n",
       "    <tr>\n",
       "      <th>85896</th>\n",
       "      <td>35406</td>\n",
       "      <td>POLYGON ((28.01542 -25.92542, 28.01542 -25.933...</td>\n",
       "    </tr>\n",
       "  </tbody>\n",
       "</table>\n",
       "</div>"
      ],
      "text/plain": [
       "       Density per 1 km                                           geometry\n",
       "85073                12  POLYGON ((27.94875 -25.90875, 27.94875 -25.917...\n",
       "85467                12  POLYGON ((27.94042 -25.91708, 27.94042 -25.925...\n",
       "85468                 1  POLYGON ((27.94875 -25.91708, 27.94875 -25.942...\n",
       "85895             39415  POLYGON ((28.00708 -25.92542, 28.00708 -25.933...\n",
       "85896             35406  POLYGON ((28.01542 -25.92542, 28.01542 -25.933..."
      ]
     },
     "execution_count": 71,
     "metadata": {},
     "output_type": "execute_result"
    }
   ],
   "source": [
    "pop_layer_jhb"
   ]
  },
  {
   "cell_type": "code",
   "execution_count": 70,
   "id": "ca1adafe",
   "metadata": {
    "ExecuteTime": {
     "end_time": "2022-01-12T15:15:16.099654Z",
     "start_time": "2022-01-12T15:15:16.092318Z"
    }
   },
   "outputs": [
    {
     "name": "stderr",
     "output_type": "stream",
     "text": [
      "/usr/local/lib/python3.7/dist-packages/ipykernel_launcher.py:1: FutureWarning: Dropping of nuisance columns in DataFrame reductions (with 'numeric_only=None') is deprecated; in a future version this will raise TypeError.  Select only valid columns before calling the reduction.\n",
      "  \"\"\"Entry point for launching an IPython kernel.\n"
     ]
    },
    {
     "data": {
      "text/plain": [
       "Density per 1 km    12748144\n",
       "dtype: int64"
      ]
     },
     "execution_count": 70,
     "metadata": {},
     "output_type": "execute_result"
    }
   ],
   "source": [
    "pop_layer_capetown.sum()"
   ]
  },
  {
   "cell_type": "code",
   "execution_count": 72,
   "id": "0d45e859",
   "metadata": {
    "ExecuteTime": {
     "end_time": "2022-01-12T16:02:42.433614Z",
     "start_time": "2022-01-12T16:02:37.392117Z"
    }
   },
   "outputs": [
    {
     "name": "stdout",
     "output_type": "stream",
     "text": [
      "Defaulting to user installation because normal site-packages is not writeable\n",
      "Looking in indexes: https://pypi.yandex-team.ru/simple\n",
      "Collecting pyreadstat\n",
      "  Downloading pyreadstat-1.1.4-cp37-cp37m-manylinux_2_17_x86_64.manylinux2014_x86_64.whl (2.4 MB)\n",
      "     |████████████████████████████████| 2.4 MB 1.2 MB/s            \n",
      "\u001b[?25hRequirement already satisfied: pandas>=1.2.0 in /usr/local/lib/python3.7/dist-packages (from pyreadstat) (1.3.5)\n",
      "Requirement already satisfied: numpy>=1.17.3 in /usr/local/lib/python3.7/dist-packages (from pandas>=1.2.0->pyreadstat) (1.21.5)\n",
      "Requirement already satisfied: python-dateutil>=2.7.3 in ./.local/lib/python3.7/site-packages (from pandas>=1.2.0->pyreadstat) (2.8.0)\n",
      "Requirement already satisfied: pytz>=2017.3 in /usr/local/lib/python3.7/dist-packages (from pandas>=1.2.0->pyreadstat) (2021.3)\n",
      "Requirement already satisfied: six>=1.5 in /usr/local/lib/python3.7/dist-packages (from python-dateutil>=2.7.3->pandas>=1.2.0->pyreadstat) (1.16.0)\n",
      "Installing collected packages: pyreadstat\n",
      "Successfully installed pyreadstat-1.1.4\n"
     ]
    }
   ],
   "source": [
    "!pip3 install pyreadstat "
   ]
  },
  {
   "cell_type": "code",
   "execution_count": 3,
   "id": "35ade92a",
   "metadata": {
    "ExecuteTime": {
     "end_time": "2022-07-11T07:47:57.837303Z",
     "start_time": "2022-07-11T07:47:57.079857Z"
    }
   },
   "outputs": [],
   "source": [
    "import pyreadstat"
   ]
  },
  {
   "cell_type": "code",
   "execution_count": 4,
   "id": "dc819b76",
   "metadata": {
    "ExecuteTime": {
     "end_time": "2022-07-11T07:48:08.179854Z",
     "start_time": "2022-07-11T07:47:57.839619Z"
    }
   },
   "outputs": [],
   "source": [
    "df = pyreadstat.read_sav('sa-census-2011-household-v1.1-20140618.sav')"
   ]
  },
  {
   "cell_type": "code",
   "execution_count": 5,
   "id": "2882bd2b",
   "metadata": {
    "ExecuteTime": {
     "end_time": "2022-07-11T07:48:08.186006Z",
     "start_time": "2022-07-11T07:48:08.182665Z"
    }
   },
   "outputs": [],
   "source": [
    "df = df[0]"
   ]
  },
  {
   "cell_type": "code",
   "execution_count": 6,
   "id": "135332c5",
   "metadata": {
    "ExecuteTime": {
     "end_time": "2022-07-11T07:48:28.730500Z",
     "start_time": "2022-07-11T07:48:28.718040Z"
    }
   },
   "outputs": [
    {
     "data": {
      "text/plain": [
       "Index(['QN_TYPE', 'SN', 'H01_QUARTERS', 'H02_MAINDWELLING',\n",
       "       'H02_OTHERDWELLING', 'H02A_ROOF', 'H02A_WALL', 'H03_DININGROOMS',\n",
       "       'H03_LIVINGROOMS', 'H03_DINING_LIVING', 'H03_BEDROOMS',\n",
       "       'H03_STUDYROOMS', 'H03_MULTIPLE_USE', 'H03_OTHERROOMS', 'H03_TOTROOMS',\n",
       "       'H04_TENURE', 'H07_WATERPIPED', 'H08_WATERSOURCE', 'H09_WATERSUPPLY',\n",
       "       'H09A_WATERSUPPLY', 'H09B_ALT_WATERSOURCE', 'H10_TOILET',\n",
       "       'H11_ENERGY_COOKING', 'H11_ENERGY_HEATING', 'H11_ENERGY_LIGHTING',\n",
       "       'H12_REFUSE', 'H13_REFRIDGERATOR', 'H13_STOVE', 'H13_VACUUM',\n",
       "       'H13_WASHINGM', 'H13_COMPUTER', 'H13_SATELLITE', 'H13_DVD_PLAYER',\n",
       "       'H13_MOTORCAR', 'H13_TV', 'H13_RADIO', 'H13_LANDLINE', 'H13_CELLPHONE',\n",
       "       'H13_POSTBOX', 'H13_RESIDENTIAL_MAIL', 'H13A_INTERNET', 'HM00_DEATHS',\n",
       "       'HM00A_DEATHSNO', 'DERH_HHAGE', 'DERH_HHPOP', 'DERH_HHSEX',\n",
       "       'DERH_HINCOME', 'DERH_HH_EMPLOY_STATUS', 'DERH_HSIZE', 'DERH_XPOP',\n",
       "       'DERH_INCOME_CLASS', 'H_GEOTYPE', 'H_PROVINCE', 'H_DISTRICT', 'H_MUNIC',\n",
       "       'HHLD_10PERCENT_WGT'],\n",
       "      dtype='object')"
      ]
     },
     "execution_count": 6,
     "metadata": {},
     "output_type": "execute_result"
    }
   ],
   "source": [
    "df.columns"
   ]
  },
  {
   "cell_type": "code",
   "execution_count": 7,
   "id": "db0da64e",
   "metadata": {
    "ExecuteTime": {
     "end_time": "2022-07-11T07:48:37.554428Z",
     "start_time": "2022-07-11T07:48:37.487734Z"
    }
   },
   "outputs": [],
   "source": [
    "df_cpt_jhb = df[df['H_MUNIC'].isin([199,798])]"
   ]
  },
  {
   "cell_type": "code",
   "execution_count": 14,
   "id": "05bb23a0",
   "metadata": {
    "ExecuteTime": {
     "end_time": "2022-07-11T07:50:15.467219Z",
     "start_time": "2022-07-11T07:50:15.463353Z"
    }
   },
   "outputs": [],
   "source": [
    "import seaborn as sns"
   ]
  },
  {
   "cell_type": "code",
   "execution_count": 21,
   "id": "a7a5fb22",
   "metadata": {
    "ExecuteTime": {
     "end_time": "2022-07-11T07:53:37.859953Z",
     "start_time": "2022-07-11T07:53:37.705866Z"
    }
   },
   "outputs": [
    {
     "name": "stderr",
     "output_type": "stream",
     "text": [
      "/usr/local/lib/python3.7/dist-packages/seaborn/_decorators.py:43: FutureWarning: Pass the following variable as a keyword arg: x. From version 0.12, the only valid positional argument will be `data`, and passing other arguments without an explicit keyword will result in an error or misinterpretation.\n",
      "  FutureWarning\n"
     ]
    },
    {
     "data": {
      "text/plain": [
       "Text(0.5, 1.0, 'Распределение по типам доступа в интернет')"
      ]
     },
     "execution_count": 21,
     "metadata": {},
     "output_type": "execute_result"
    },
    {
     "data": {
      "image/png": "[encoded data removed]",
      "text/plain": [
       "<Figure size 504x360 with 1 Axes>"
      ]
     },
     "metadata": {
      "needs_background": "light"
     },
     "output_type": "display_data"
    }
   ],
   "source": [
    "plt.figure(figsize=(7,5))\n",
    "sns.countplot(df_cpt_jhb['H13A_INTERNET']);\n",
    "plt.title('Распределение по типам доступа в интернет')\n",
    "# 1 - home, 2- cell phone, 5 - no"
   ]
  },
  {
   "cell_type": "code",
   "execution_count": 230,
   "id": "d5b5e62c",
   "metadata": {
    "ExecuteTime": {
     "end_time": "2022-01-13T13:56:53.773441Z",
     "start_time": "2022-01-13T13:56:53.747030Z"
    }
   },
   "outputs": [
    {
     "data": {
      "text/plain": [
       "H_MUNIC\n",
       "199.0    14408\n",
       "798.0    21789\n",
       "dtype: int64"
      ]
     },
     "execution_count": 230,
     "metadata": {},
     "output_type": "execute_result"
    }
   ],
   "source": [
    "df_cpt_jhb[df_cpt_jhb['H13A_INTERNET']==2].groupby('H_MUNIC').size()"
   ]
  },
  {
   "cell_type": "code",
   "execution_count": 231,
   "id": "dbb95cec",
   "metadata": {
    "ExecuteTime": {
     "end_time": "2022-01-13T14:17:38.702367Z",
     "start_time": "2022-01-13T14:17:38.630211Z"
    }
   },
   "outputs": [
    {
     "data": {
      "text/plain": [
       "H_MUNIC\n",
       "199.0    101004.545369\n",
       "798.0    120054.393635\n",
       "Name: DERH_HINCOME, dtype: float64"
      ]
     },
     "execution_count": 231,
     "metadata": {},
     "output_type": "execute_result"
    }
   ],
   "source": [
    "df_cpt_jhb.groupby('H_MUNIC')['DERH_HINCOME'].mean()"
   ]
  },
  {
   "cell_type": "code",
   "execution_count": 157,
   "id": "b4087469",
   "metadata": {
    "ExecuteTime": {
     "end_time": "2022-01-13T11:05:17.002692Z",
     "start_time": "2022-01-13T11:05:16.874498Z"
    }
   },
   "outputs": [
    {
     "data": {
      "text/plain": [
       "1194122"
      ]
     },
     "execution_count": 157,
     "metadata": {},
     "output_type": "execute_result"
    }
   ],
   "source": [
    "df['SN'].nunique()"
   ]
  },
  {
   "cell_type": "code",
   "execution_count": 158,
   "id": "f863f010",
   "metadata": {
    "ExecuteTime": {
     "end_time": "2022-01-13T11:05:30.820989Z",
     "start_time": "2022-01-13T11:05:30.817309Z"
    }
   },
   "outputs": [
    {
     "data": {
      "text/plain": [
       "(1194122, 56)"
      ]
     },
     "execution_count": 158,
     "metadata": {},
     "output_type": "execute_result"
    }
   ],
   "source": [
    "df.shape"
   ]
  },
  {
   "cell_type": "code",
   "execution_count": 172,
   "id": "f1753b35",
   "metadata": {
    "ExecuteTime": {
     "end_time": "2022-01-13T11:41:17.898586Z",
     "start_time": "2022-01-13T11:41:17.887825Z"
    }
   },
   "outputs": [
    {
     "data": {
      "text/plain": [
       "H_MUNIC\n",
       "199.0     87482\n",
       "798.0    117543\n",
       "dtype: int64"
      ]
     },
     "execution_count": 172,
     "metadata": {},
     "output_type": "execute_result"
    }
   ],
   "source": [
    "df_cpt_jhb.groupby('H_MUNIC').size()"
   ]
  },
  {
   "cell_type": "code",
   "execution_count": 173,
   "id": "e32030de",
   "metadata": {
    "ExecuteTime": {
     "end_time": "2022-01-13T11:42:11.161333Z",
     "start_time": "2022-01-13T11:42:11.157535Z"
    }
   },
   "outputs": [
    {
     "data": {
      "text/plain": [
       "0.8409090909090908"
      ]
     },
     "execution_count": 173,
     "metadata": {},
     "output_type": "execute_result"
    }
   ],
   "source": [
    "3.7/4.4"
   ]
  },
  {
   "cell_type": "code",
   "execution_count": 174,
   "id": "be8438cb",
   "metadata": {
    "ExecuteTime": {
     "end_time": "2022-01-13T11:42:21.835064Z",
     "start_time": "2022-01-13T11:42:21.831846Z"
    }
   },
   "outputs": [
    {
     "data": {
      "text/plain": [
       "0.7435897435897436"
      ]
     },
     "execution_count": 174,
     "metadata": {},
     "output_type": "execute_result"
    }
   ],
   "source": [
    "87/117"
   ]
  },
  {
   "cell_type": "code",
   "execution_count": null,
   "id": "fed072b2",
   "metadata": {},
   "outputs": [],
   "source": [
    "df_cpt_jhb.groupby('H_MUNIC')"
   ]
  },
  {
   "cell_type": "code",
   "execution_count": 88,
   "id": "fc339f09",
   "metadata": {
    "ExecuteTime": {
     "end_time": "2022-01-12T16:24:05.383325Z",
     "start_time": "2022-01-12T16:24:04.916921Z"
    }
   },
   "outputs": [],
   "source": [
    "borders_jhb.to_file('borders_jhb.geojson', driver='GeoJSON')"
   ]
  },
  {
   "cell_type": "code",
   "execution_count": 90,
   "id": "e80655e5",
   "metadata": {
    "ExecuteTime": {
     "end_time": "2022-01-12T16:24:33.726057Z",
     "start_time": "2022-01-12T16:24:33.575945Z"
    }
   },
   "outputs": [],
   "source": [
    "borders.to_file('borders_cpt.geojson', driver='GeoJSON')"
   ]
  },
  {
   "cell_type": "code",
   "execution_count": 92,
   "id": "018804ce",
   "metadata": {
    "ExecuteTime": {
     "end_time": "2022-01-12T16:36:55.166021Z",
     "start_time": "2022-01-12T16:36:53.374992Z"
    }
   },
   "outputs": [],
   "source": [
    "pop_stat = gpd.read_file('Census 2011 WardLvl Dwellings Geo_region.shp')"
   ]
  },
  {
   "cell_type": "code",
   "execution_count": 94,
   "id": "4bef0408",
   "metadata": {
    "ExecuteTime": {
     "end_time": "2022-01-12T16:37:27.567341Z",
     "start_time": "2022-01-12T16:37:27.562716Z"
    }
   },
   "outputs": [
    {
     "data": {
      "text/plain": [
       "14449486"
      ]
     },
     "execution_count": 94,
     "metadata": {},
     "output_type": "execute_result"
    }
   ],
   "source": [
    "pop_stat['Total_Dwel'].sum()"
   ]
  },
  {
   "cell_type": "code",
   "execution_count": 100,
   "id": "318b2edb",
   "metadata": {
    "ExecuteTime": {
     "end_time": "2022-01-12T16:40:54.677153Z",
     "start_time": "2022-01-12T16:40:54.671380Z"
    }
   },
   "outputs": [
    {
     "data": {
      "text/plain": [
       "4277"
      ]
     },
     "execution_count": 100,
     "metadata": {},
     "output_type": "execute_result"
    }
   ],
   "source": [
    "pop_stat['Ward_ID'].nunique()"
   ]
  },
  {
   "cell_type": "code",
   "execution_count": null,
   "id": "fbf5ff6a",
   "metadata": {},
   "outputs": [],
   "source": [
    "pop_stat['Ward_ID']"
   ]
  },
  {
   "cell_type": "code",
   "execution_count": 95,
   "id": "0e7eb54e",
   "metadata": {
    "ExecuteTime": {
     "end_time": "2022-01-12T16:39:56.240973Z",
     "start_time": "2022-01-12T16:39:55.053916Z"
    }
   },
   "outputs": [],
   "source": [
    "wards = gpd.read_file('WD_SA_2011.shp')"
   ]
  },
  {
   "cell_type": "code",
   "execution_count": 103,
   "id": "1b174eec",
   "metadata": {
    "ExecuteTime": {
     "end_time": "2022-01-12T16:42:04.419246Z",
     "start_time": "2022-01-12T16:42:04.404683Z"
    }
   },
   "outputs": [],
   "source": [
    "pop_stat = pop_stat.merge(wards, left_on='Ward_ID', right_on='WARD_ID')"
   ]
  },
  {
   "cell_type": "code",
   "execution_count": 107,
   "id": "a491679f",
   "metadata": {
    "ExecuteTime": {
     "end_time": "2022-01-12T16:43:33.472831Z",
     "start_time": "2022-01-12T16:43:33.464405Z"
    },
    "scrolled": true
   },
   "outputs": [
    {
     "data": {
      "text/plain": [
       "array(['EC101', 'EC102', 'EC103', 'EC104', 'EC105', 'EC106', 'EC107',\n",
       "       'EC108', 'EC109', 'EC121', 'EC122', 'EC123', 'EC124', 'EC126',\n",
       "       'EC127', 'EC128', 'EC131', 'EC132', 'EC133', 'EC134', 'EC135',\n",
       "       'EC136', 'EC137', 'EC138', 'EC141', 'EC142', 'EC143', 'EC144',\n",
       "       'EC153', 'EC154', 'EC155', 'EC156', 'EC157', 'EC441', 'EC442',\n",
       "       'EC443', 'EC444', 'BUF', 'NMA', 'FS161', 'FS162', 'FS163', 'FS164',\n",
       "       'FS181', 'FS182', 'FS183', 'FS184', 'FS185', 'FS191', 'FS192',\n",
       "       'FS193', 'FS194', 'FS195', 'FS196', 'FS201', 'FS203', 'FS204',\n",
       "       'FS205', 'MAN', 'GT421', 'GT422', 'GT423', 'GT481', 'GT482',\n",
       "       'GT483', 'GT484', 'EKU', 'JHB', 'TSH', 'KZN213', 'KZN214',\n",
       "       'KZN215', 'KZN216', 'KZN211', 'KZN212', 'KZN221', 'KZN222',\n",
       "       'KZN223', 'KZN224', 'KZN225', 'KZN226', 'KZN227', 'KZN232',\n",
       "       'KZN233', 'KZN234', 'KZN235', 'KZN236', 'KZN271', 'KZN272',\n",
       "       'KZN273', 'KZN274', 'KZN275', 'KZN282', 'KZN286', 'KZN281',\n",
       "       'KZN283', 'KZN284', 'KZN285', 'KZN431', 'KZN432', 'KZN433',\n",
       "       'KZN434', 'KZN435', 'KZN241', 'KZN242', 'KZN244', 'KZN245',\n",
       "       'KZN252', 'KZN253', 'KZN254', 'KZN263', 'KZN261', 'KZN262',\n",
       "       'KZN265', 'KZN266', 'KZN294', 'KZN291', 'KZN292', 'KZN293', 'ETH',\n",
       "       'LIM331', 'LIM332', 'LIM333', 'LIM334', 'LIM335', 'LIM342',\n",
       "       'LIM343', 'LIM341', 'LIM344', 'LIM351', 'LIM352', 'LIM353',\n",
       "       'LIM354', 'LIM355', 'LIM361', 'LIM362', 'LIM364', 'LIM365',\n",
       "       'LIM366', 'LIM367', 'LIM471', 'LIM472', 'LIM473', 'LIM474',\n",
       "       'LIM475', 'MP301', 'MP302', 'MP303', 'MP304', 'MP305', 'MP306',\n",
       "       'MP307', 'MP311', 'MP312', 'MP313', 'MP314', 'MP315', 'MP316',\n",
       "       'MP321', 'MP322', 'MP323', 'MP324', 'MP325', 'NW371', 'NW372',\n",
       "       'NW373', 'NW374', 'NW375', 'NW381', 'NW382', 'NW383', 'NW384',\n",
       "       'NW385', 'NW392', 'NW393', 'NW394', 'NW396', 'NW397', 'NW401',\n",
       "       'NW402', 'NW403', 'NW404', 'NC061', 'NC062', 'NC064', 'NC065',\n",
       "       'NC066', 'NC067', 'NC071', 'NC072', 'NC073', 'NC074', 'NC075',\n",
       "       'NC076', 'NC077', 'NC078', 'NC081', 'NC082', 'NC083', 'NC084',\n",
       "       'NC085', 'NC086', 'NC091', 'NC092', 'NC093', 'NC094', 'NC451',\n",
       "       'NC452', 'NC453', 'WC011', 'WC012', 'WC013', 'WC014', 'WC015',\n",
       "       'WC022', 'WC023', 'WC024', 'WC025', 'WC026', 'WC034', 'WC031',\n",
       "       'WC032', 'WC033', 'WC041', 'WC042', 'WC043', 'WC044', 'WC045',\n",
       "       'WC047', 'WC048', 'WC051', 'WC052', 'WC053', 'CPT'], dtype=object)"
      ]
     },
     "execution_count": 107,
     "metadata": {},
     "output_type": "execute_result"
    }
   ],
   "source": [
    "pop_stat['CAT_B'].unique()"
   ]
  },
  {
   "cell_type": "code",
   "execution_count": 108,
   "id": "09862a14",
   "metadata": {
    "ExecuteTime": {
     "end_time": "2022-01-12T16:44:02.333037Z",
     "start_time": "2022-01-12T16:44:02.322304Z"
    }
   },
   "outputs": [],
   "source": [
    "pop_stat_cpt_jhb = pop_stat[pop_stat['CAT_B'].isin(['CPT','JHB'])]"
   ]
  },
  {
   "cell_type": "code",
   "execution_count": 110,
   "id": "5fc5fa60",
   "metadata": {
    "ExecuteTime": {
     "end_time": "2022-01-12T16:44:36.387987Z",
     "start_time": "2022-01-12T16:44:36.376008Z"
    }
   },
   "outputs": [
    {
     "data": {
      "text/plain": [
       "CAT_B\n",
       "CPT    1068563\n",
       "JHB    1434860\n",
       "Name: Total_Dwel, dtype: int64"
      ]
     },
     "execution_count": 110,
     "metadata": {},
     "output_type": "execute_result"
    }
   ],
   "source": [
    "pop_stat_cpt_jhb.groupby('CAT_B')['Total_Dwel'].sum()"
   ]
  },
  {
   "cell_type": "code",
   "execution_count": 117,
   "id": "a3258405",
   "metadata": {
    "ExecuteTime": {
     "end_time": "2022-01-12T16:49:45.806007Z",
     "start_time": "2022-01-12T16:49:45.771042Z"
    }
   },
   "outputs": [],
   "source": [
    "gdf_pop_stat_cpt_jhb = gf.get_gdf(pop_stat_cpt_jhb,'geometry_y', 4326)"
   ]
  },
  {
   "cell_type": "code",
   "execution_count": 120,
   "id": "3b0a6179",
   "metadata": {
    "ExecuteTime": {
     "end_time": "2022-01-12T16:50:29.489392Z",
     "start_time": "2022-01-12T16:50:29.484411Z"
    }
   },
   "outputs": [
    {
     "data": {
      "text/plain": [
       "Index(['Ward_ID', 'Total_Dwel', 'Urban_area', 'Tribal_or_', 'Farm',\n",
       "       'House_or_b', 'Traditiona', 'Flat_or_ap', 'Cluster_ho', 'Townhouse_',\n",
       "       'Semi_detac', 'House_flat', 'Informal_d', 'Informal00', 'Room_flatl',\n",
       "       'Caravan_te', 'Other', 'Unspecifie', 'Not_applic', 'Rented',\n",
       "       'Owned_but_', 'Occupied_r', 'Owned_and_', 'Other1', 'AHHI_No_in',\n",
       "       'AHHI_R_1__', 'AHHI_R_480', 'AHHI_R_960', 'AHHI_R_19_', 'AHHI_R_38_',\n",
       "       'AHHI_R_76_', 'AHHI_R_153', 'AHHI_R_307', 'AHHI_R_614', 'AHHI_R_1_2',\n",
       "       'AHHI_R_2_4', 'AHHI_Unspe', 'HH_Size_1', 'HH_Size_2', 'HH_Size_3',\n",
       "       'HH_Size_4', 'HH_Size_5', 'HH_Size_6', 'HH_Size_7', 'HH_Size_8',\n",
       "       'HH_Size_9', 'HH_Size_10', '_Object', 'geometry_x', 'OBJECTID',\n",
       "       'PROVINCE', 'CAT_B', 'WARDNO', 'WARD_ID', 'WD_CODE_st', 'SUM_WARD_P',\n",
       "       'SHAPE_LENG', 'WARD_EXT', 'ALBERS_ARE', 'SHAPE_Le_1', 'SHAPE_Area',\n",
       "       'geometry_y'],\n",
       "      dtype='object')"
      ]
     },
     "execution_count": 120,
     "metadata": {},
     "output_type": "execute_result"
    }
   ],
   "source": [
    "gdf_pop_stat_cpt_jhb.columns"
   ]
  },
  {
   "cell_type": "code",
   "execution_count": 122,
   "id": "b4180565",
   "metadata": {
    "ExecuteTime": {
     "end_time": "2022-01-12T16:51:11.208652Z",
     "start_time": "2022-01-12T16:51:10.273829Z"
    }
   },
   "outputs": [],
   "source": [
    "gdf_pop_stat_cpt_jhb[['Ward_ID', 'Total_Dwel', 'Urban_area', 'Tribal_or_', 'Farm',\n",
    "       'House_or_b', 'Traditiona', 'Flat_or_ap', 'Cluster_ho', 'Townhouse_',\n",
    "       'Semi_detac', 'House_flat', 'Informal_d', 'Informal00', 'Room_flatl',\n",
    "       'Caravan_te', 'Other', 'Unspecifie', 'Not_applic', 'Rented',\n",
    "       'Owned_but_', 'Occupied_r', 'Owned_and_', 'Other1', 'AHHI_No_in',\n",
    "       'AHHI_R_1__', 'AHHI_R_480', 'AHHI_R_960', 'AHHI_R_19_', 'AHHI_R_38_',\n",
    "       'AHHI_R_76_', 'AHHI_R_153', 'AHHI_R_307', 'AHHI_R_614', 'AHHI_R_1_2',\n",
    "       'AHHI_R_2_4', 'AHHI_Unspe', 'HH_Size_1', 'HH_Size_2', 'HH_Size_3',\n",
    "       'HH_Size_4', 'HH_Size_5', 'HH_Size_6', 'HH_Size_7', 'HH_Size_8',\n",
    "       'HH_Size_9', 'HH_Size_10',\n",
    "       'PROVINCE', 'CAT_B', 'WARDNO', 'WARD_ID', 'WD_CODE_st', 'SUM_WARD_P',\n",
    "       'SHAPE_LENG', 'WARD_EXT', 'ALBERS_ARE', 'SHAPE_Le_1', 'SHAPE_Area',\n",
    "       'geometry_y']].to_file('pop_stat_cpt_jhb.geojson', driver='GeoJSON')"
   ]
  },
  {
   "cell_type": "code",
   "execution_count": 123,
   "id": "e814f397",
   "metadata": {
    "ExecuteTime": {
     "end_time": "2022-01-12T16:57:40.929453Z",
     "start_time": "2022-01-12T16:57:39.091373Z"
    }
   },
   "outputs": [],
   "source": [
    "pop_stat =  gpd.read_file('Census 2011 WardLvl Pop Labour Force_region.shp')"
   ]
  },
  {
   "cell_type": "code",
   "execution_count": 125,
   "id": "fbd9bded",
   "metadata": {
    "ExecuteTime": {
     "end_time": "2022-01-12T16:58:03.232931Z",
     "start_time": "2022-01-12T16:58:03.227352Z"
    }
   },
   "outputs": [
    {
     "data": {
      "text/plain": [
       "Index(['Ward_ID', 'Pop', 'Black_Afri', 'Coloured', 'Indian_or_', 'White',\n",
       "       'Other', 'Gade_0', 'Grade_1___', 'Grade_2___', 'Grade_3___',\n",
       "       'Grade_4___', 'Grade_5___', 'Grade_6___', 'Grade_7___', 'Grade_8___',\n",
       "       'Grade_9___', 'Grade_10__', 'Grade_11__', 'Grade_12__', 'NTC_I___N1',\n",
       "       'NTC_II___N', 'NTC_III__N', 'N4___NTC_4', 'N5__NTC_5', 'N6___NTC_6',\n",
       "       'Certificat', 'Diploma_wi', 'Certific00', 'Diploma_00', 'Higher_Dip',\n",
       "       'Post_Highe', 'Bachelors_', 'Bachelor00', 'Honours_de', 'Higher_Deg',\n",
       "       'Other1', 'No_schooli', 'Unspecifie', 'Not_applic', 'PMI_No_inc',\n",
       "       'PMI_R_1___', 'PMI_R_401_', 'PMI_R_801_', 'PMI_R_1_60', 'PMI_R_3_20',\n",
       "       'PMI_R_6_40', 'PMI_R_12_8', 'PMI_R_25_6', 'PMI_R51201', 'PMI_R10240',\n",
       "       'PMI_R20480', 'PMI_Unspec', 'PMI_NotApp', 'Employed', 'Unemployed',\n",
       "       'Discourage', 'Other_NotE', 'Age_Lessth', 'Employment', 'FormalSect',\n",
       "       'InformalSe', 'Private_ho', 'Do_not_kno', 'Unsepcifie', 'Sector_Not',\n",
       "       'geometry'],\n",
       "      dtype='object')"
      ]
     },
     "execution_count": 125,
     "metadata": {},
     "output_type": "execute_result"
    }
   ],
   "source": [
    "pop_stat.columns"
   ]
  },
  {
   "cell_type": "code",
   "execution_count": 126,
   "id": "6d471699",
   "metadata": {
    "ExecuteTime": {
     "end_time": "2022-01-12T17:02:54.771561Z",
     "start_time": "2022-01-12T17:02:54.681773Z"
    }
   },
   "outputs": [],
   "source": [
    "gdf_pop_stat_cpt_jhb = gdf_pop_stat_cpt_jhb.merge(pop_stat, on='Ward_ID', how='left')"
   ]
  },
  {
   "cell_type": "code",
   "execution_count": 127,
   "id": "1cbc1e38",
   "metadata": {
    "ExecuteTime": {
     "end_time": "2022-01-12T17:03:01.007686Z",
     "start_time": "2022-01-12T17:03:01.004098Z"
    }
   },
   "outputs": [
    {
     "data": {
      "text/plain": [
       "(241, 128)"
      ]
     },
     "execution_count": 127,
     "metadata": {},
     "output_type": "execute_result"
    }
   ],
   "source": [
    "gdf_pop_stat_cpt_jhb.shape"
   ]
  },
  {
   "cell_type": "code",
   "execution_count": 128,
   "id": "529e4dc8",
   "metadata": {
    "ExecuteTime": {
     "end_time": "2022-01-12T17:03:13.667661Z",
     "start_time": "2022-01-12T17:03:13.663571Z"
    }
   },
   "outputs": [
    {
     "data": {
      "text/plain": [
       "Index(['Ward_ID', 'Total_Dwel', 'Urban_area', 'Tribal_or_', 'Farm',\n",
       "       'House_or_b', 'Traditiona', 'Flat_or_ap', 'Cluster_ho', 'Townhouse_',\n",
       "       ...\n",
       "       'Other_NotE', 'Age_Lessth', 'Employment', 'FormalSect', 'InformalSe',\n",
       "       'Private_ho', 'Do_not_kno', 'Unsepcifie', 'Sector_Not', 'geometry'],\n",
       "      dtype='object', length=128)"
      ]
     },
     "execution_count": 128,
     "metadata": {},
     "output_type": "execute_result"
    }
   ],
   "source": [
    "gdf_pop_stat_cpt_jhb.columns"
   ]
  },
  {
   "cell_type": "code",
   "execution_count": 130,
   "id": "0d8a53e6",
   "metadata": {
    "ExecuteTime": {
     "end_time": "2022-01-12T17:04:40.081325Z",
     "start_time": "2022-01-12T17:04:38.551546Z"
    }
   },
   "outputs": [],
   "source": [
    "gdf_pop_stat_cpt_jhb[[ i for i in gdf_pop_stat_cpt_jhb.columns if 'geometry' not in i]+['geometry_y']].to_file('pop_stat_cpt_jhb.geojson', driver='GeoJSON')"
   ]
  },
  {
   "cell_type": "code",
   "execution_count": 131,
   "id": "5625596c",
   "metadata": {
    "ExecuteTime": {
     "end_time": "2022-01-12T17:11:37.903796Z",
     "start_time": "2022-01-12T17:11:37.897349Z"
    }
   },
   "outputs": [
    {
     "data": {
      "text/plain": [
       "CAT_B\n",
       "CPT    3740025\n",
       "JHB    4434821\n",
       "Name: Pop, dtype: int64"
      ]
     },
     "execution_count": 131,
     "metadata": {},
     "output_type": "execute_result"
    }
   ],
   "source": [
    "gdf_pop_stat_cpt_jhb.groupby('CAT_B')['Pop'].sum()"
   ]
  },
  {
   "cell_type": "code",
   "execution_count": 134,
   "id": "92981781",
   "metadata": {
    "ExecuteTime": {
     "end_time": "2022-01-12T17:23:36.120506Z",
     "start_time": "2022-01-12T17:23:35.683036Z"
    }
   },
   "outputs": [],
   "source": [
    "gdf_pop_stat_cpt_jhb['area_metres' ] = gdf_pop_stat_cpt_jhb.geometry_y.to_crs('epsg:22289').area"
   ]
  },
  {
   "cell_type": "code",
   "execution_count": 135,
   "id": "49b0facb",
   "metadata": {
    "ExecuteTime": {
     "end_time": "2022-01-12T17:23:43.375229Z",
     "start_time": "2022-01-12T17:23:43.158392Z"
    }
   },
   "outputs": [
    {
     "data": {
      "text/plain": [
       "(array([225.,  10.,   1.,   2.,   2.,   0.,   0.,   0.,   0.,   1.]),\n",
       " array([2.07506396e+05, 4.99543292e+07, 9.97011521e+07, 1.49447975e+08,\n",
       "        1.99194798e+08, 2.48941621e+08, 2.98688444e+08, 3.48435266e+08,\n",
       "        3.98182089e+08, 4.47928912e+08, 4.97675735e+08]),\n",
       " <BarContainer object of 10 artists>)"
      ]
     },
     "execution_count": 135,
     "metadata": {},
     "output_type": "execute_result"
    },
    {
     "data": {
      "image/png": "[encoded data removed]",
      "text/plain": [
       "<Figure size 432x288 with 1 Axes>"
      ]
     },
     "metadata": {
      "needs_background": "light"
     },
     "output_type": "display_data"
    }
   ],
   "source": [
    "plt.hist(gdf_pop_stat_cpt_jhb['area_metres' ])"
   ]
  },
  {
   "cell_type": "code",
   "execution_count": 138,
   "id": "b751dea9",
   "metadata": {
    "ExecuteTime": {
     "end_time": "2022-01-13T10:36:53.680074Z",
     "start_time": "2022-01-13T10:36:53.673139Z"
    },
    "scrolled": true
   },
   "outputs": [
    {
     "data": {
      "text/plain": [
       "['Ward_ID',\n",
       " 'Total_Dwel',\n",
       " 'Urban_area',\n",
       " 'Tribal_or_',\n",
       " 'Farm',\n",
       " 'House_or_b',\n",
       " 'Traditiona',\n",
       " 'Flat_or_ap',\n",
       " 'Cluster_ho',\n",
       " 'Townhouse_',\n",
       " 'Semi_detac',\n",
       " 'House_flat',\n",
       " 'Informal_d',\n",
       " 'Informal00',\n",
       " 'Room_flatl',\n",
       " 'Caravan_te',\n",
       " 'Other_x',\n",
       " 'Unspecifie_x',\n",
       " 'Not_applic_x',\n",
       " 'Rented',\n",
       " 'Owned_but_',\n",
       " 'Occupied_r',\n",
       " 'Owned_and_',\n",
       " 'Other1_x',\n",
       " 'AHHI_No_in',\n",
       " 'AHHI_R_1__',\n",
       " 'AHHI_R_480',\n",
       " 'AHHI_R_960',\n",
       " 'AHHI_R_19_',\n",
       " 'AHHI_R_38_',\n",
       " 'AHHI_R_76_',\n",
       " 'AHHI_R_153',\n",
       " 'AHHI_R_307',\n",
       " 'AHHI_R_614',\n",
       " 'AHHI_R_1_2',\n",
       " 'AHHI_R_2_4',\n",
       " 'AHHI_Unspe',\n",
       " 'HH_Size_1',\n",
       " 'HH_Size_2',\n",
       " 'HH_Size_3',\n",
       " 'HH_Size_4',\n",
       " 'HH_Size_5',\n",
       " 'HH_Size_6',\n",
       " 'HH_Size_7',\n",
       " 'HH_Size_8',\n",
       " 'HH_Size_9',\n",
       " 'HH_Size_10',\n",
       " '_Object',\n",
       " 'geometry_x',\n",
       " 'OBJECTID',\n",
       " 'PROVINCE',\n",
       " 'CAT_B',\n",
       " 'WARDNO',\n",
       " 'WARD_ID',\n",
       " 'WD_CODE_st',\n",
       " 'SUM_WARD_P',\n",
       " 'SHAPE_LENG',\n",
       " 'WARD_EXT',\n",
       " 'ALBERS_ARE',\n",
       " 'SHAPE_Le_1',\n",
       " 'SHAPE_Area',\n",
       " 'geometry_y',\n",
       " 'Pop',\n",
       " 'Black_Afri',\n",
       " 'Coloured',\n",
       " 'Indian_or_',\n",
       " 'White',\n",
       " 'Other_y',\n",
       " 'Gade_0',\n",
       " 'Grade_1___',\n",
       " 'Grade_2___',\n",
       " 'Grade_3___',\n",
       " 'Grade_4___',\n",
       " 'Grade_5___',\n",
       " 'Grade_6___',\n",
       " 'Grade_7___',\n",
       " 'Grade_8___',\n",
       " 'Grade_9___',\n",
       " 'Grade_10__',\n",
       " 'Grade_11__',\n",
       " 'Grade_12__',\n",
       " 'NTC_I___N1',\n",
       " 'NTC_II___N',\n",
       " 'NTC_III__N',\n",
       " 'N4___NTC_4',\n",
       " 'N5__NTC_5',\n",
       " 'N6___NTC_6',\n",
       " 'Certificat',\n",
       " 'Diploma_wi',\n",
       " 'Certific00',\n",
       " 'Diploma_00',\n",
       " 'Higher_Dip',\n",
       " 'Post_Highe',\n",
       " 'Bachelors_',\n",
       " 'Bachelor00',\n",
       " 'Honours_de',\n",
       " 'Higher_Deg',\n",
       " 'Other1_y',\n",
       " 'No_schooli',\n",
       " 'Unspecifie_y',\n",
       " 'Not_applic_y',\n",
       " 'PMI_No_inc',\n",
       " 'PMI_R_1___',\n",
       " 'PMI_R_401_',\n",
       " 'PMI_R_801_',\n",
       " 'PMI_R_1_60',\n",
       " 'PMI_R_3_20',\n",
       " 'PMI_R_6_40',\n",
       " 'PMI_R_12_8',\n",
       " 'PMI_R_25_6',\n",
       " 'PMI_R51201',\n",
       " 'PMI_R10240',\n",
       " 'PMI_R20480',\n",
       " 'PMI_Unspec',\n",
       " 'PMI_NotApp',\n",
       " 'Employed',\n",
       " 'Unemployed',\n",
       " 'Discourage',\n",
       " 'Other_NotE',\n",
       " 'Age_Lessth',\n",
       " 'Employment',\n",
       " 'FormalSect',\n",
       " 'InformalSe',\n",
       " 'Private_ho',\n",
       " 'Do_not_kno',\n",
       " 'Unsepcifie',\n",
       " 'Sector_Not',\n",
       " 'geometry',\n",
       " 'area_metres']"
      ]
     },
     "execution_count": 138,
     "metadata": {},
     "output_type": "execute_result"
    }
   ],
   "source": [
    "gdf_pop_stat_cpt_jhb.columns.tolist()"
   ]
  },
  {
   "cell_type": "code",
   "execution_count": 146,
   "id": "ebef2bf3",
   "metadata": {
    "ExecuteTime": {
     "end_time": "2022-01-13T10:54:20.035892Z",
     "start_time": "2022-01-13T10:54:20.022648Z"
    }
   },
   "outputs": [
    {
     "data": {
      "text/html": [
       "<div>\n",
       "<style scoped>\n",
       "    .dataframe tbody tr th:only-of-type {\n",
       "        vertical-align: middle;\n",
       "    }\n",
       "\n",
       "    .dataframe tbody tr th {\n",
       "        vertical-align: top;\n",
       "    }\n",
       "\n",
       "    .dataframe thead th {\n",
       "        text-align: right;\n",
       "    }\n",
       "</style>\n",
       "<table border=\"1\" class=\"dataframe\">\n",
       "  <thead>\n",
       "    <tr style=\"text-align: right;\">\n",
       "      <th></th>\n",
       "      <th>Ward_ID</th>\n",
       "      <th>Total_Dwel</th>\n",
       "      <th>Urban_area</th>\n",
       "      <th>Tribal_or_</th>\n",
       "      <th>Farm</th>\n",
       "      <th>House_or_b</th>\n",
       "      <th>Traditiona</th>\n",
       "      <th>Flat_or_ap</th>\n",
       "      <th>Cluster_ho</th>\n",
       "      <th>Townhouse_</th>\n",
       "      <th>Semi_detac</th>\n",
       "      <th>House_flat</th>\n",
       "      <th>Informal_d</th>\n",
       "      <th>Informal00</th>\n",
       "      <th>Room_flatl</th>\n",
       "    </tr>\n",
       "  </thead>\n",
       "  <tbody>\n",
       "    <tr>\n",
       "      <th>0</th>\n",
       "      <td>79800001</td>\n",
       "      <td>12656</td>\n",
       "      <td>12658</td>\n",
       "      <td>0</td>\n",
       "      <td>0</td>\n",
       "      <td>8935</td>\n",
       "      <td>11</td>\n",
       "      <td>105</td>\n",
       "      <td>5</td>\n",
       "      <td>7</td>\n",
       "      <td>5</td>\n",
       "      <td>293</td>\n",
       "      <td>1990</td>\n",
       "      <td>1175</td>\n",
       "      <td>54</td>\n",
       "    </tr>\n",
       "    <tr>\n",
       "      <th>1</th>\n",
       "      <td>79800002</td>\n",
       "      <td>11920</td>\n",
       "      <td>11921</td>\n",
       "      <td>0</td>\n",
       "      <td>0</td>\n",
       "      <td>10841</td>\n",
       "      <td>43</td>\n",
       "      <td>56</td>\n",
       "      <td>6</td>\n",
       "      <td>4</td>\n",
       "      <td>51</td>\n",
       "      <td>130</td>\n",
       "      <td>345</td>\n",
       "      <td>361</td>\n",
       "      <td>39</td>\n",
       "    </tr>\n",
       "    <tr>\n",
       "      <th>2</th>\n",
       "      <td>79800003</td>\n",
       "      <td>8535</td>\n",
       "      <td>8535</td>\n",
       "      <td>0</td>\n",
       "      <td>0</td>\n",
       "      <td>6728</td>\n",
       "      <td>17</td>\n",
       "      <td>40</td>\n",
       "      <td>5</td>\n",
       "      <td>5</td>\n",
       "      <td>8</td>\n",
       "      <td>200</td>\n",
       "      <td>843</td>\n",
       "      <td>632</td>\n",
       "      <td>18</td>\n",
       "    </tr>\n",
       "    <tr>\n",
       "      <th>3</th>\n",
       "      <td>79800004</td>\n",
       "      <td>11589</td>\n",
       "      <td>11589</td>\n",
       "      <td>0</td>\n",
       "      <td>0</td>\n",
       "      <td>7145</td>\n",
       "      <td>13</td>\n",
       "      <td>29</td>\n",
       "      <td>33</td>\n",
       "      <td>5</td>\n",
       "      <td>9</td>\n",
       "      <td>218</td>\n",
       "      <td>896</td>\n",
       "      <td>3044</td>\n",
       "      <td>54</td>\n",
       "    </tr>\n",
       "    <tr>\n",
       "      <th>4</th>\n",
       "      <td>79800005</td>\n",
       "      <td>14828</td>\n",
       "      <td>14731</td>\n",
       "      <td>0</td>\n",
       "      <td>97</td>\n",
       "      <td>9034</td>\n",
       "      <td>30</td>\n",
       "      <td>64</td>\n",
       "      <td>5</td>\n",
       "      <td>4</td>\n",
       "      <td>114</td>\n",
       "      <td>245</td>\n",
       "      <td>2113</td>\n",
       "      <td>3031</td>\n",
       "      <td>22</td>\n",
       "    </tr>\n",
       "    <tr>\n",
       "      <th>5</th>\n",
       "      <td>79800006</td>\n",
       "      <td>12434</td>\n",
       "      <td>12250</td>\n",
       "      <td>0</td>\n",
       "      <td>186</td>\n",
       "      <td>3165</td>\n",
       "      <td>175</td>\n",
       "      <td>77</td>\n",
       "      <td>9</td>\n",
       "      <td>15</td>\n",
       "      <td>43</td>\n",
       "      <td>107</td>\n",
       "      <td>1951</td>\n",
       "      <td>6509</td>\n",
       "      <td>30</td>\n",
       "    </tr>\n",
       "    <tr>\n",
       "      <th>6</th>\n",
       "      <td>79800007</td>\n",
       "      <td>10669</td>\n",
       "      <td>10669</td>\n",
       "      <td>0</td>\n",
       "      <td>0</td>\n",
       "      <td>6603</td>\n",
       "      <td>21</td>\n",
       "      <td>156</td>\n",
       "      <td>47</td>\n",
       "      <td>38</td>\n",
       "      <td>14</td>\n",
       "      <td>393</td>\n",
       "      <td>1652</td>\n",
       "      <td>1636</td>\n",
       "      <td>60</td>\n",
       "    </tr>\n",
       "    <tr>\n",
       "      <th>7</th>\n",
       "      <td>79800008</td>\n",
       "      <td>14151</td>\n",
       "      <td>14113</td>\n",
       "      <td>0</td>\n",
       "      <td>39</td>\n",
       "      <td>3414</td>\n",
       "      <td>85</td>\n",
       "      <td>111</td>\n",
       "      <td>35</td>\n",
       "      <td>21</td>\n",
       "      <td>62</td>\n",
       "      <td>172</td>\n",
       "      <td>1614</td>\n",
       "      <td>8525</td>\n",
       "      <td>15</td>\n",
       "    </tr>\n",
       "    <tr>\n",
       "      <th>8</th>\n",
       "      <td>79800009</td>\n",
       "      <td>6975</td>\n",
       "      <td>6976</td>\n",
       "      <td>0</td>\n",
       "      <td>0</td>\n",
       "      <td>5557</td>\n",
       "      <td>19</td>\n",
       "      <td>618</td>\n",
       "      <td>18</td>\n",
       "      <td>14</td>\n",
       "      <td>64</td>\n",
       "      <td>495</td>\n",
       "      <td>90</td>\n",
       "      <td>26</td>\n",
       "      <td>32</td>\n",
       "    </tr>\n",
       "    <tr>\n",
       "      <th>9</th>\n",
       "      <td>79800010</td>\n",
       "      <td>9674</td>\n",
       "      <td>9674</td>\n",
       "      <td>0</td>\n",
       "      <td>0</td>\n",
       "      <td>4513</td>\n",
       "      <td>39</td>\n",
       "      <td>424</td>\n",
       "      <td>32</td>\n",
       "      <td>16</td>\n",
       "      <td>16</td>\n",
       "      <td>284</td>\n",
       "      <td>677</td>\n",
       "      <td>3549</td>\n",
       "      <td>76</td>\n",
       "    </tr>\n",
       "  </tbody>\n",
       "</table>\n",
       "</div>"
      ],
      "text/plain": [
       "    Ward_ID  Total_Dwel  Urban_area  Tribal_or_  Farm  House_or_b  Traditiona  \\\n",
       "0  79800001       12656       12658           0     0        8935          11   \n",
       "1  79800002       11920       11921           0     0       10841          43   \n",
       "2  79800003        8535        8535           0     0        6728          17   \n",
       "3  79800004       11589       11589           0     0        7145          13   \n",
       "4  79800005       14828       14731           0    97        9034          30   \n",
       "5  79800006       12434       12250           0   186        3165         175   \n",
       "6  79800007       10669       10669           0     0        6603          21   \n",
       "7  79800008       14151       14113           0    39        3414          85   \n",
       "8  79800009        6975        6976           0     0        5557          19   \n",
       "9  79800010        9674        9674           0     0        4513          39   \n",
       "\n",
       "   Flat_or_ap  Cluster_ho  Townhouse_  Semi_detac  House_flat  Informal_d  \\\n",
       "0         105           5           7           5         293        1990   \n",
       "1          56           6           4          51         130         345   \n",
       "2          40           5           5           8         200         843   \n",
       "3          29          33           5           9         218         896   \n",
       "4          64           5           4         114         245        2113   \n",
       "5          77           9          15          43         107        1951   \n",
       "6         156          47          38          14         393        1652   \n",
       "7         111          35          21          62         172        1614   \n",
       "8         618          18          14          64         495          90   \n",
       "9         424          32          16          16         284         677   \n",
       "\n",
       "   Informal00  Room_flatl  \n",
       "0        1175          54  \n",
       "1         361          39  \n",
       "2         632          18  \n",
       "3        3044          54  \n",
       "4        3031          22  \n",
       "5        6509          30  \n",
       "6        1636          60  \n",
       "7        8525          15  \n",
       "8          26          32  \n",
       "9        3549          76  "
      ]
     },
     "execution_count": 146,
     "metadata": {},
     "output_type": "execute_result"
    }
   ],
   "source": [
    "gdf_pop_stat_cpt_jhb[gdf_pop_stat_cpt_jhb.columns[:15]].head(10)"
   ]
  },
  {
   "cell_type": "code",
   "execution_count": 151,
   "id": "98048a97",
   "metadata": {
    "ExecuteTime": {
     "end_time": "2022-01-13T10:55:07.410264Z",
     "start_time": "2022-01-13T10:55:07.402788Z"
    }
   },
   "outputs": [
    {
     "data": {
      "text/plain": [
       "0    12656\n",
       "1    11920\n",
       "2     8535\n",
       "3    11589\n",
       "4    14925\n",
       "5    12620\n",
       "6    10669\n",
       "7    14190\n",
       "8     6975\n",
       "9     9674\n",
       "dtype: int64"
      ]
     },
     "execution_count": 151,
     "metadata": {},
     "output_type": "execute_result"
    }
   ],
   "source": [
    "gdf_pop_stat_cpt_jhb[gdf_pop_stat_cpt_jhb.columns[3:17]].head(10).sum(axis=1)"
   ]
  },
  {
   "cell_type": "code",
   "execution_count": 169,
   "id": "932cda52",
   "metadata": {
    "ExecuteTime": {
     "end_time": "2022-01-13T11:12:12.192266Z",
     "start_time": "2022-01-13T11:12:12.179833Z"
    }
   },
   "outputs": [
    {
     "data": {
      "text/html": [
       "<div>\n",
       "<style scoped>\n",
       "    .dataframe tbody tr th:only-of-type {\n",
       "        vertical-align: middle;\n",
       "    }\n",
       "\n",
       "    .dataframe tbody tr th {\n",
       "        vertical-align: top;\n",
       "    }\n",
       "\n",
       "    .dataframe thead th {\n",
       "        text-align: right;\n",
       "    }\n",
       "</style>\n",
       "<table border=\"1\" class=\"dataframe\">\n",
       "  <thead>\n",
       "    <tr style=\"text-align: right;\">\n",
       "      <th></th>\n",
       "      <th>Owned_and_</th>\n",
       "      <th>Other1_x</th>\n",
       "      <th>AHHI_No_in</th>\n",
       "      <th>AHHI_R_1__</th>\n",
       "      <th>AHHI_R_480</th>\n",
       "      <th>AHHI_R_960</th>\n",
       "      <th>AHHI_R_19_</th>\n",
       "      <th>AHHI_R_38_</th>\n",
       "      <th>AHHI_R_76_</th>\n",
       "      <th>AHHI_R_153</th>\n",
       "    </tr>\n",
       "  </thead>\n",
       "  <tbody>\n",
       "    <tr>\n",
       "      <th>0</th>\n",
       "      <td>6684</td>\n",
       "      <td>790</td>\n",
       "      <td>2486</td>\n",
       "      <td>997</td>\n",
       "      <td>1436</td>\n",
       "      <td>2186</td>\n",
       "      <td>2715</td>\n",
       "      <td>1780</td>\n",
       "      <td>741</td>\n",
       "      <td>242</td>\n",
       "    </tr>\n",
       "    <tr>\n",
       "      <th>1</th>\n",
       "      <td>5873</td>\n",
       "      <td>549</td>\n",
       "      <td>2238</td>\n",
       "      <td>757</td>\n",
       "      <td>1168</td>\n",
       "      <td>2086</td>\n",
       "      <td>2680</td>\n",
       "      <td>1893</td>\n",
       "      <td>748</td>\n",
       "      <td>243</td>\n",
       "    </tr>\n",
       "    <tr>\n",
       "      <th>2</th>\n",
       "      <td>4366</td>\n",
       "      <td>318</td>\n",
       "      <td>1391</td>\n",
       "      <td>574</td>\n",
       "      <td>854</td>\n",
       "      <td>1587</td>\n",
       "      <td>1977</td>\n",
       "      <td>1349</td>\n",
       "      <td>517</td>\n",
       "      <td>192</td>\n",
       "    </tr>\n",
       "    <tr>\n",
       "      <th>3</th>\n",
       "      <td>5311</td>\n",
       "      <td>1994</td>\n",
       "      <td>2816</td>\n",
       "      <td>653</td>\n",
       "      <td>955</td>\n",
       "      <td>1894</td>\n",
       "      <td>2434</td>\n",
       "      <td>1709</td>\n",
       "      <td>741</td>\n",
       "      <td>262</td>\n",
       "    </tr>\n",
       "    <tr>\n",
       "      <th>4</th>\n",
       "      <td>4932</td>\n",
       "      <td>1262</td>\n",
       "      <td>3166</td>\n",
       "      <td>1172</td>\n",
       "      <td>1646</td>\n",
       "      <td>2809</td>\n",
       "      <td>3105</td>\n",
       "      <td>1927</td>\n",
       "      <td>677</td>\n",
       "      <td>227</td>\n",
       "    </tr>\n",
       "    <tr>\n",
       "      <th>...</th>\n",
       "      <td>...</td>\n",
       "      <td>...</td>\n",
       "      <td>...</td>\n",
       "      <td>...</td>\n",
       "      <td>...</td>\n",
       "      <td>...</td>\n",
       "      <td>...</td>\n",
       "      <td>...</td>\n",
       "      <td>...</td>\n",
       "      <td>...</td>\n",
       "    </tr>\n",
       "    <tr>\n",
       "      <th>236</th>\n",
       "      <td>2815</td>\n",
       "      <td>98</td>\n",
       "      <td>1150</td>\n",
       "      <td>75</td>\n",
       "      <td>115</td>\n",
       "      <td>286</td>\n",
       "      <td>584</td>\n",
       "      <td>1243</td>\n",
       "      <td>2612</td>\n",
       "      <td>3977</td>\n",
       "    </tr>\n",
       "    <tr>\n",
       "      <th>237</th>\n",
       "      <td>4814</td>\n",
       "      <td>885</td>\n",
       "      <td>3506</td>\n",
       "      <td>1123</td>\n",
       "      <td>1537</td>\n",
       "      <td>2895</td>\n",
       "      <td>4377</td>\n",
       "      <td>2438</td>\n",
       "      <td>1081</td>\n",
       "      <td>361</td>\n",
       "    </tr>\n",
       "    <tr>\n",
       "      <th>238</th>\n",
       "      <td>4963</td>\n",
       "      <td>192</td>\n",
       "      <td>1268</td>\n",
       "      <td>198</td>\n",
       "      <td>379</td>\n",
       "      <td>1233</td>\n",
       "      <td>2024</td>\n",
       "      <td>2051</td>\n",
       "      <td>1326</td>\n",
       "      <td>658</td>\n",
       "    </tr>\n",
       "    <tr>\n",
       "      <th>239</th>\n",
       "      <td>2046</td>\n",
       "      <td>194</td>\n",
       "      <td>766</td>\n",
       "      <td>66</td>\n",
       "      <td>100</td>\n",
       "      <td>643</td>\n",
       "      <td>890</td>\n",
       "      <td>1147</td>\n",
       "      <td>1144</td>\n",
       "      <td>812</td>\n",
       "    </tr>\n",
       "    <tr>\n",
       "      <th>240</th>\n",
       "      <td>3057</td>\n",
       "      <td>859</td>\n",
       "      <td>1860</td>\n",
       "      <td>362</td>\n",
       "      <td>610</td>\n",
       "      <td>1267</td>\n",
       "      <td>1598</td>\n",
       "      <td>1366</td>\n",
       "      <td>1256</td>\n",
       "      <td>856</td>\n",
       "    </tr>\n",
       "  </tbody>\n",
       "</table>\n",
       "<p>241 rows × 10 columns</p>\n",
       "</div>"
      ],
      "text/plain": [
       "     Owned_and_  Other1_x  AHHI_No_in  AHHI_R_1__  AHHI_R_480  AHHI_R_960  \\\n",
       "0          6684       790        2486         997        1436        2186   \n",
       "1          5873       549        2238         757        1168        2086   \n",
       "2          4366       318        1391         574         854        1587   \n",
       "3          5311      1994        2816         653         955        1894   \n",
       "4          4932      1262        3166        1172        1646        2809   \n",
       "..          ...       ...         ...         ...         ...         ...   \n",
       "236        2815        98        1150          75         115         286   \n",
       "237        4814       885        3506        1123        1537        2895   \n",
       "238        4963       192        1268         198         379        1233   \n",
       "239        2046       194         766          66         100         643   \n",
       "240        3057       859        1860         362         610        1267   \n",
       "\n",
       "     AHHI_R_19_  AHHI_R_38_  AHHI_R_76_  AHHI_R_153  \n",
       "0          2715        1780         741         242  \n",
       "1          2680        1893         748         243  \n",
       "2          1977        1349         517         192  \n",
       "3          2434        1709         741         262  \n",
       "4          3105        1927         677         227  \n",
       "..          ...         ...         ...         ...  \n",
       "236         584        1243        2612        3977  \n",
       "237        4377        2438        1081         361  \n",
       "238        2024        2051        1326         658  \n",
       "239         890        1147        1144         812  \n",
       "240        1598        1366        1256         856  \n",
       "\n",
       "[241 rows x 10 columns]"
      ]
     },
     "execution_count": 169,
     "metadata": {},
     "output_type": "execute_result"
    }
   ],
   "source": [
    "gdf_pop_stat_cpt_jhb[gdf_pop_stat_cpt_jhb.columns[22:32]]"
   ]
  },
  {
   "cell_type": "code",
   "execution_count": 178,
   "id": "9546487a",
   "metadata": {
    "ExecuteTime": {
     "end_time": "2022-01-13T12:03:16.586839Z",
     "start_time": "2022-01-13T12:03:16.581253Z"
    }
   },
   "outputs": [],
   "source": [
    "cols_analyse = ['Ward_ID',\n",
    " 'Total_Dwel',\n",
    " 'Farm',\n",
    " 'House_or_b',\n",
    " 'Flat_or_ap',\n",
    " 'Cluster_ho',\n",
    " 'Townhouse_',\n",
    " 'Semi_detac',\n",
    " 'Informal_d',\n",
    " 'Informal00',\n",
    " 'Owned_but_',\n",
    " 'Owned_and_',\n",
    " 'HH_Size_1',\n",
    " 'HH_Size_2',\n",
    " 'HH_Size_3',\n",
    " 'HH_Size_4',\n",
    " 'HH_Size_5',\n",
    " 'HH_Size_6',\n",
    " 'HH_Size_7',\n",
    " 'HH_Size_8',\n",
    " 'HH_Size_9',\n",
    " 'HH_Size_10',\n",
    " 'Pop',\n",
    " 'Black_Afri',\n",
    " 'Coloured',\n",
    " 'Indian_or_',\n",
    " 'White',\n",
    " 'NTC_I___N1',\n",
    " 'NTC_II___N',\n",
    " 'NTC_III__N',\n",
    " 'N4___NTC_4',\n",
    " 'N5__NTC_5',\n",
    " 'N6___NTC_6',\n",
    " 'Certificat',\n",
    " 'Diploma_wi',\n",
    " 'Certific00',\n",
    " 'Diploma_00',\n",
    " 'Higher_Dip',\n",
    " 'Post_Highe',\n",
    " 'Bachelors_',\n",
    " 'Bachelor00',\n",
    " 'Honours_de',\n",
    " 'Higher_Deg',\n",
    " 'No_schooli',\n",
    " 'Employed',\n",
    " 'Unemployed']"
   ]
  },
  {
   "cell_type": "code",
   "execution_count": 180,
   "id": "2cfd6da1",
   "metadata": {
    "ExecuteTime": {
     "end_time": "2022-01-13T12:05:47.760484Z",
     "start_time": "2022-01-13T12:05:47.739431Z"
    }
   },
   "outputs": [
    {
     "data": {
      "text/html": [
       "<div>\n",
       "<style scoped>\n",
       "    .dataframe tbody tr th:only-of-type {\n",
       "        vertical-align: middle;\n",
       "    }\n",
       "\n",
       "    .dataframe tbody tr th {\n",
       "        vertical-align: top;\n",
       "    }\n",
       "\n",
       "    .dataframe thead th {\n",
       "        text-align: right;\n",
       "    }\n",
       "</style>\n",
       "<table border=\"1\" class=\"dataframe\">\n",
       "  <thead>\n",
       "    <tr style=\"text-align: right;\">\n",
       "      <th></th>\n",
       "      <th>Ward_ID</th>\n",
       "      <th>Total_Dwel</th>\n",
       "      <th>Farm</th>\n",
       "      <th>House_or_b</th>\n",
       "      <th>Flat_or_ap</th>\n",
       "      <th>Cluster_ho</th>\n",
       "      <th>Townhouse_</th>\n",
       "      <th>Semi_detac</th>\n",
       "      <th>Informal_d</th>\n",
       "      <th>Informal00</th>\n",
       "      <th>...</th>\n",
       "      <th>Diploma_00</th>\n",
       "      <th>Higher_Dip</th>\n",
       "      <th>Post_Highe</th>\n",
       "      <th>Bachelors_</th>\n",
       "      <th>Bachelor00</th>\n",
       "      <th>Honours_de</th>\n",
       "      <th>Higher_Deg</th>\n",
       "      <th>No_schooli</th>\n",
       "      <th>Employed</th>\n",
       "      <th>Unemployed</th>\n",
       "    </tr>\n",
       "  </thead>\n",
       "  <tbody>\n",
       "    <tr>\n",
       "      <th>0</th>\n",
       "      <td>79800001</td>\n",
       "      <td>12656</td>\n",
       "      <td>0</td>\n",
       "      <td>8935</td>\n",
       "      <td>105</td>\n",
       "      <td>5</td>\n",
       "      <td>7</td>\n",
       "      <td>5</td>\n",
       "      <td>1990</td>\n",
       "      <td>1175</td>\n",
       "      <td>...</td>\n",
       "      <td>258</td>\n",
       "      <td>152</td>\n",
       "      <td>38</td>\n",
       "      <td>82</td>\n",
       "      <td>24</td>\n",
       "      <td>20</td>\n",
       "      <td>15</td>\n",
       "      <td>2104</td>\n",
       "      <td>10578</td>\n",
       "      <td>6678</td>\n",
       "    </tr>\n",
       "    <tr>\n",
       "      <th>1</th>\n",
       "      <td>79800002</td>\n",
       "      <td>11920</td>\n",
       "      <td>0</td>\n",
       "      <td>10841</td>\n",
       "      <td>56</td>\n",
       "      <td>6</td>\n",
       "      <td>4</td>\n",
       "      <td>51</td>\n",
       "      <td>345</td>\n",
       "      <td>361</td>\n",
       "      <td>...</td>\n",
       "      <td>230</td>\n",
       "      <td>116</td>\n",
       "      <td>20</td>\n",
       "      <td>67</td>\n",
       "      <td>39</td>\n",
       "      <td>18</td>\n",
       "      <td>15</td>\n",
       "      <td>1459</td>\n",
       "      <td>9872</td>\n",
       "      <td>6101</td>\n",
       "    </tr>\n",
       "    <tr>\n",
       "      <th>2</th>\n",
       "      <td>79800003</td>\n",
       "      <td>8535</td>\n",
       "      <td>0</td>\n",
       "      <td>6728</td>\n",
       "      <td>40</td>\n",
       "      <td>5</td>\n",
       "      <td>5</td>\n",
       "      <td>8</td>\n",
       "      <td>843</td>\n",
       "      <td>632</td>\n",
       "      <td>...</td>\n",
       "      <td>159</td>\n",
       "      <td>110</td>\n",
       "      <td>17</td>\n",
       "      <td>66</td>\n",
       "      <td>27</td>\n",
       "      <td>14</td>\n",
       "      <td>9</td>\n",
       "      <td>1838</td>\n",
       "      <td>7476</td>\n",
       "      <td>4679</td>\n",
       "    </tr>\n",
       "    <tr>\n",
       "      <th>3</th>\n",
       "      <td>79800004</td>\n",
       "      <td>11589</td>\n",
       "      <td>0</td>\n",
       "      <td>7145</td>\n",
       "      <td>29</td>\n",
       "      <td>33</td>\n",
       "      <td>5</td>\n",
       "      <td>9</td>\n",
       "      <td>896</td>\n",
       "      <td>3044</td>\n",
       "      <td>...</td>\n",
       "      <td>252</td>\n",
       "      <td>175</td>\n",
       "      <td>26</td>\n",
       "      <td>99</td>\n",
       "      <td>34</td>\n",
       "      <td>23</td>\n",
       "      <td>28</td>\n",
       "      <td>2004</td>\n",
       "      <td>9221</td>\n",
       "      <td>7231</td>\n",
       "    </tr>\n",
       "    <tr>\n",
       "      <th>4</th>\n",
       "      <td>79800005</td>\n",
       "      <td>14828</td>\n",
       "      <td>97</td>\n",
       "      <td>9034</td>\n",
       "      <td>64</td>\n",
       "      <td>5</td>\n",
       "      <td>4</td>\n",
       "      <td>114</td>\n",
       "      <td>2113</td>\n",
       "      <td>3031</td>\n",
       "      <td>...</td>\n",
       "      <td>186</td>\n",
       "      <td>137</td>\n",
       "      <td>32</td>\n",
       "      <td>67</td>\n",
       "      <td>37</td>\n",
       "      <td>26</td>\n",
       "      <td>25</td>\n",
       "      <td>2008</td>\n",
       "      <td>12093</td>\n",
       "      <td>8039</td>\n",
       "    </tr>\n",
       "    <tr>\n",
       "      <th>...</th>\n",
       "      <td>...</td>\n",
       "      <td>...</td>\n",
       "      <td>...</td>\n",
       "      <td>...</td>\n",
       "      <td>...</td>\n",
       "      <td>...</td>\n",
       "      <td>...</td>\n",
       "      <td>...</td>\n",
       "      <td>...</td>\n",
       "      <td>...</td>\n",
       "      <td>...</td>\n",
       "      <td>...</td>\n",
       "      <td>...</td>\n",
       "      <td>...</td>\n",
       "      <td>...</td>\n",
       "      <td>...</td>\n",
       "      <td>...</td>\n",
       "      <td>...</td>\n",
       "      <td>...</td>\n",
       "      <td>...</td>\n",
       "      <td>...</td>\n",
       "    </tr>\n",
       "    <tr>\n",
       "      <th>236</th>\n",
       "      <td>19100107</td>\n",
       "      <td>16076</td>\n",
       "      <td>0</td>\n",
       "      <td>10744</td>\n",
       "      <td>3340</td>\n",
       "      <td>463</td>\n",
       "      <td>1121</td>\n",
       "      <td>172</td>\n",
       "      <td>13</td>\n",
       "      <td>41</td>\n",
       "      <td>...</td>\n",
       "      <td>2271</td>\n",
       "      <td>3711</td>\n",
       "      <td>433</td>\n",
       "      <td>2516</td>\n",
       "      <td>840</td>\n",
       "      <td>931</td>\n",
       "      <td>712</td>\n",
       "      <td>553</td>\n",
       "      <td>22887</td>\n",
       "      <td>1472</td>\n",
       "    </tr>\n",
       "    <tr>\n",
       "      <th>237</th>\n",
       "      <td>19100108</td>\n",
       "      <td>17470</td>\n",
       "      <td>0</td>\n",
       "      <td>8440</td>\n",
       "      <td>21</td>\n",
       "      <td>15</td>\n",
       "      <td>10</td>\n",
       "      <td>6</td>\n",
       "      <td>1538</td>\n",
       "      <td>7280</td>\n",
       "      <td>...</td>\n",
       "      <td>295</td>\n",
       "      <td>280</td>\n",
       "      <td>45</td>\n",
       "      <td>131</td>\n",
       "      <td>62</td>\n",
       "      <td>44</td>\n",
       "      <td>38</td>\n",
       "      <td>1085</td>\n",
       "      <td>15867</td>\n",
       "      <td>10301</td>\n",
       "    </tr>\n",
       "    <tr>\n",
       "      <th>238</th>\n",
       "      <td>19100109</td>\n",
       "      <td>9467</td>\n",
       "      <td>0</td>\n",
       "      <td>5482</td>\n",
       "      <td>629</td>\n",
       "      <td>9</td>\n",
       "      <td>4</td>\n",
       "      <td>1429</td>\n",
       "      <td>944</td>\n",
       "      <td>666</td>\n",
       "      <td>...</td>\n",
       "      <td>248</td>\n",
       "      <td>205</td>\n",
       "      <td>45</td>\n",
       "      <td>121</td>\n",
       "      <td>49</td>\n",
       "      <td>44</td>\n",
       "      <td>29</td>\n",
       "      <td>1050</td>\n",
       "      <td>12953</td>\n",
       "      <td>4635</td>\n",
       "    </tr>\n",
       "    <tr>\n",
       "      <th>239</th>\n",
       "      <td>19100110</td>\n",
       "      <td>6112</td>\n",
       "      <td>0</td>\n",
       "      <td>3811</td>\n",
       "      <td>618</td>\n",
       "      <td>9</td>\n",
       "      <td>6</td>\n",
       "      <td>972</td>\n",
       "      <td>465</td>\n",
       "      <td>10</td>\n",
       "      <td>...</td>\n",
       "      <td>336</td>\n",
       "      <td>362</td>\n",
       "      <td>60</td>\n",
       "      <td>238</td>\n",
       "      <td>65</td>\n",
       "      <td>98</td>\n",
       "      <td>46</td>\n",
       "      <td>477</td>\n",
       "      <td>10507</td>\n",
       "      <td>2452</td>\n",
       "    </tr>\n",
       "    <tr>\n",
       "      <th>240</th>\n",
       "      <td>19100111</td>\n",
       "      <td>9745</td>\n",
       "      <td>0</td>\n",
       "      <td>6722</td>\n",
       "      <td>106</td>\n",
       "      <td>13</td>\n",
       "      <td>16</td>\n",
       "      <td>309</td>\n",
       "      <td>859</td>\n",
       "      <td>1463</td>\n",
       "      <td>...</td>\n",
       "      <td>389</td>\n",
       "      <td>322</td>\n",
       "      <td>47</td>\n",
       "      <td>183</td>\n",
       "      <td>54</td>\n",
       "      <td>75</td>\n",
       "      <td>42</td>\n",
       "      <td>1281</td>\n",
       "      <td>13267</td>\n",
       "      <td>4274</td>\n",
       "    </tr>\n",
       "  </tbody>\n",
       "</table>\n",
       "<p>241 rows × 46 columns</p>\n",
       "</div>"
      ],
      "text/plain": [
       "      Ward_ID  Total_Dwel  Farm  House_or_b  Flat_or_ap  Cluster_ho  \\\n",
       "0    79800001       12656     0        8935         105           5   \n",
       "1    79800002       11920     0       10841          56           6   \n",
       "2    79800003        8535     0        6728          40           5   \n",
       "3    79800004       11589     0        7145          29          33   \n",
       "4    79800005       14828    97        9034          64           5   \n",
       "..        ...         ...   ...         ...         ...         ...   \n",
       "236  19100107       16076     0       10744        3340         463   \n",
       "237  19100108       17470     0        8440          21          15   \n",
       "238  19100109        9467     0        5482         629           9   \n",
       "239  19100110        6112     0        3811         618           9   \n",
       "240  19100111        9745     0        6722         106          13   \n",
       "\n",
       "     Townhouse_  Semi_detac  Informal_d  Informal00  ...  Diploma_00  \\\n",
       "0             7           5        1990        1175  ...         258   \n",
       "1             4          51         345         361  ...         230   \n",
       "2             5           8         843         632  ...         159   \n",
       "3             5           9         896        3044  ...         252   \n",
       "4             4         114        2113        3031  ...         186   \n",
       "..          ...         ...         ...         ...  ...         ...   \n",
       "236        1121         172          13          41  ...        2271   \n",
       "237          10           6        1538        7280  ...         295   \n",
       "238           4        1429         944         666  ...         248   \n",
       "239           6         972         465          10  ...         336   \n",
       "240          16         309         859        1463  ...         389   \n",
       "\n",
       "     Higher_Dip  Post_Highe  Bachelors_  Bachelor00  Honours_de  Higher_Deg  \\\n",
       "0           152          38          82          24          20          15   \n",
       "1           116          20          67          39          18          15   \n",
       "2           110          17          66          27          14           9   \n",
       "3           175          26          99          34          23          28   \n",
       "4           137          32          67          37          26          25   \n",
       "..          ...         ...         ...         ...         ...         ...   \n",
       "236        3711         433        2516         840         931         712   \n",
       "237         280          45         131          62          44          38   \n",
       "238         205          45         121          49          44          29   \n",
       "239         362          60         238          65          98          46   \n",
       "240         322          47         183          54          75          42   \n",
       "\n",
       "     No_schooli  Employed  Unemployed  \n",
       "0          2104     10578        6678  \n",
       "1          1459      9872        6101  \n",
       "2          1838      7476        4679  \n",
       "3          2004      9221        7231  \n",
       "4          2008     12093        8039  \n",
       "..          ...       ...         ...  \n",
       "236         553     22887        1472  \n",
       "237        1085     15867       10301  \n",
       "238        1050     12953        4635  \n",
       "239         477     10507        2452  \n",
       "240        1281     13267        4274  \n",
       "\n",
       "[241 rows x 46 columns]"
      ]
     },
     "execution_count": 180,
     "metadata": {},
     "output_type": "execute_result"
    }
   ],
   "source": [
    "gdf_pop_stat_cpt_jhb = gdf_pop_stat_cpt_jhb[cols_analyse]"
   ]
  },
  {
   "cell_type": "code",
   "execution_count": null,
   "id": "ab6bdde7",
   "metadata": {},
   "outputs": [],
   "source": [
    "# жилье"
   ]
  },
  {
   "cell_type": "code",
   "execution_count": 195,
   "id": "7b8a6aa6",
   "metadata": {
    "ExecuteTime": {
     "end_time": "2022-01-13T12:14:11.087201Z",
     "start_time": "2022-01-13T12:14:11.082177Z"
    }
   },
   "outputs": [],
   "source": [
    "gdf_pop_stat_cpt_jhb['informal_dwell_level'] = (gdf_pop_stat_cpt_jhb['Informal_d']+gdf_pop_stat_cpt_jhb['Informal00'])/gdf_pop_stat_cpt_jhb['Total_Dwel']"
   ]
  },
  {
   "cell_type": "code",
   "execution_count": 186,
   "id": "3c1085a6",
   "metadata": {
    "ExecuteTime": {
     "end_time": "2022-01-13T12:10:34.803559Z",
     "start_time": "2022-01-13T12:10:34.678682Z"
    }
   },
   "outputs": [
    {
     "data": {
      "text/plain": [
       "(array([120.,  42.,  24.,  15.,  10.,   9.,   7.,   9.,   3.,   2.]),\n",
       " array([5.25052505e-04, 8.68001010e-02, 1.73075150e-01, 2.59350198e-01,\n",
       "        3.45625247e-01, 4.31900295e-01, 5.18175344e-01, 6.04450392e-01,\n",
       "        6.90725441e-01, 7.77000489e-01, 8.63275538e-01]),\n",
       " <BarContainer object of 10 artists>)"
      ]
     },
     "execution_count": 186,
     "metadata": {},
     "output_type": "execute_result"
    },
    {
     "data": {
      "image/png": "[encoded data removed]",
      "text/plain": [
       "<Figure size 432x288 with 1 Axes>"
      ]
     },
     "metadata": {
      "needs_background": "light"
     },
     "output_type": "display_data"
    }
   ],
   "source": [
    "plt.hist(gdf_pop_stat_cpt_jhb['informal_dwell_share'])"
   ]
  },
  {
   "cell_type": "code",
   "execution_count": 185,
   "id": "9042a2eb",
   "metadata": {
    "ExecuteTime": {
     "end_time": "2022-01-13T12:10:07.545389Z",
     "start_time": "2022-01-13T12:10:07.540604Z"
    }
   },
   "outputs": [],
   "source": [
    "gdf_pop_stat_cpt_jhb['formal_dwellings'] = gdf_pop_stat_cpt_jhb[['Farm',\n",
    " 'House_or_b',\n",
    " 'Flat_or_ap',\n",
    " 'Cluster_ho',\n",
    " 'Townhouse_',\n",
    " 'Semi_detac']].sum(axis=1)"
   ]
  },
  {
   "cell_type": "code",
   "execution_count": null,
   "id": "9a6e4078",
   "metadata": {},
   "outputs": [],
   "source": [
    "### Население"
   ]
  },
  {
   "cell_type": "code",
   "execution_count": 191,
   "id": "469928bb",
   "metadata": {
    "ExecuteTime": {
     "end_time": "2022-01-13T12:12:41.047579Z",
     "start_time": "2022-01-13T12:12:41.043366Z"
    }
   },
   "outputs": [],
   "source": [
    "gdf_pop_stat_cpt_jhb['employed_level'] = gdf_pop_stat_cpt_jhb['Employed']/gdf_pop_stat_cpt_jhb['Pop']"
   ]
  },
  {
   "cell_type": "code",
   "execution_count": 188,
   "id": "fb2af205",
   "metadata": {
    "ExecuteTime": {
     "end_time": "2022-01-13T12:12:10.242386Z",
     "start_time": "2022-01-13T12:12:10.237556Z"
    }
   },
   "outputs": [],
   "source": [
    "gdf_pop_stat_cpt_jhb['unemployed_level'] = gdf_pop_stat_cpt_jhb['Unemployed']/gdf_pop_stat_cpt_jhb['Pop']"
   ]
  },
  {
   "cell_type": "code",
   "execution_count": 192,
   "id": "4d8b3f8f",
   "metadata": {
    "ExecuteTime": {
     "end_time": "2022-01-13T12:12:43.127011Z",
     "start_time": "2022-01-13T12:12:43.034539Z"
    }
   },
   "outputs": [
    {
     "data": {
      "text/html": [
       "<div>\n",
       "<style scoped>\n",
       "    .dataframe tbody tr th:only-of-type {\n",
       "        vertical-align: middle;\n",
       "    }\n",
       "\n",
       "    .dataframe tbody tr th {\n",
       "        vertical-align: top;\n",
       "    }\n",
       "\n",
       "    .dataframe thead th {\n",
       "        text-align: right;\n",
       "    }\n",
       "</style>\n",
       "<table border=\"1\" class=\"dataframe\">\n",
       "  <thead>\n",
       "    <tr style=\"text-align: right;\">\n",
       "      <th></th>\n",
       "      <th>unemployed_level</th>\n",
       "      <th>employed_level</th>\n",
       "    </tr>\n",
       "  </thead>\n",
       "  <tbody>\n",
       "    <tr>\n",
       "      <th>unemployed_level</th>\n",
       "      <td>1.000000</td>\n",
       "      <td>-0.753227</td>\n",
       "    </tr>\n",
       "    <tr>\n",
       "      <th>employed_level</th>\n",
       "      <td>-0.753227</td>\n",
       "      <td>1.000000</td>\n",
       "    </tr>\n",
       "  </tbody>\n",
       "</table>\n",
       "</div>"
      ],
      "text/plain": [
       "                  unemployed_level  employed_level\n",
       "unemployed_level          1.000000       -0.753227\n",
       "employed_level           -0.753227        1.000000"
      ]
     },
     "execution_count": 192,
     "metadata": {},
     "output_type": "execute_result"
    }
   ],
   "source": [
    "gdf_pop_stat_cpt_jhb[['unemployed_level','employed_level']].corr()"
   ]
  },
  {
   "cell_type": "code",
   "execution_count": 194,
   "id": "e54fa822",
   "metadata": {
    "ExecuteTime": {
     "end_time": "2022-01-13T12:13:52.503396Z",
     "start_time": "2022-01-13T12:13:52.499263Z"
    }
   },
   "outputs": [],
   "source": [
    "gdf_pop_stat_cpt_jhb['not_educated_level'] = gdf_pop_stat_cpt_jhb['No_schooli']/gdf_pop_stat_cpt_jhb['Pop']"
   ]
  },
  {
   "cell_type": "code",
   "execution_count": 196,
   "id": "acf4321a",
   "metadata": {
    "ExecuteTime": {
     "end_time": "2022-01-13T12:14:48.729409Z",
     "start_time": "2022-01-13T12:14:48.724172Z"
    }
   },
   "outputs": [],
   "source": [
    "gdf_pop_stat_cpt_jhb['white_level'] = gdf_pop_stat_cpt_jhb['White']/gdf_pop_stat_cpt_jhb['Pop']"
   ]
  },
  {
   "cell_type": "code",
   "execution_count": 199,
   "id": "e2e04598",
   "metadata": {
    "ExecuteTime": {
     "end_time": "2022-01-13T12:16:10.174652Z",
     "start_time": "2022-01-13T12:16:10.168225Z"
    }
   },
   "outputs": [],
   "source": [
    "gdf_pop_stat_cpt_jhb['higher_educ_level'] = gdf_pop_stat_cpt_jhb[['NTC_I___N1',\n",
    " 'NTC_II___N',\n",
    " 'NTC_III__N',\n",
    " 'N4___NTC_4',\n",
    " 'N5__NTC_5',\n",
    " 'N6___NTC_6',\n",
    " 'Certificat',\n",
    " 'Diploma_wi',\n",
    " 'Certific00',\n",
    " 'Diploma_00',\n",
    " 'Higher_Dip',\n",
    " 'Post_Highe',\n",
    " 'Bachelors_',\n",
    " 'Bachelor00',\n",
    " 'Honours_de',\n",
    " 'Higher_Deg']].sum(axis=1)/gdf_pop_stat_cpt_jhb['Pop']"
   ]
  },
  {
   "cell_type": "code",
   "execution_count": 201,
   "id": "f24be807",
   "metadata": {
    "ExecuteTime": {
     "end_time": "2022-01-13T12:17:10.993067Z",
     "start_time": "2022-01-13T12:17:10.989117Z"
    }
   },
   "outputs": [],
   "source": [
    "gdf_pop_stat_cpt_jhb['pop_per_dwelling'] = gdf_pop_stat_cpt_jhb['Pop']/gdf_pop_stat_cpt_jhb['Total_Dwel']"
   ]
  },
  {
   "cell_type": "code",
   "execution_count": 207,
   "id": "9c504cd3",
   "metadata": {
    "ExecuteTime": {
     "end_time": "2022-01-13T12:20:22.080489Z",
     "start_time": "2022-01-13T12:20:22.075469Z"
    },
    "code_folding": [],
    "run_control": {
     "marked": false
    }
   },
   "outputs": [],
   "source": [
    "gdf_pop_stat_cpt_jhb['large_families_level'] = gdf_pop_stat_cpt_jhb[[\n",
    " 'HH_Size_5',\n",
    " 'HH_Size_6',\n",
    " 'HH_Size_7',\n",
    " 'HH_Size_8',\n",
    " 'HH_Size_9',\n",
    " 'HH_Size_10']].sum(axis=1)/gdf_pop_stat_cpt_jhb['Total_Dwel']"
   ]
  },
  {
   "cell_type": "code",
   "execution_count": 209,
   "id": "cb4e0407",
   "metadata": {
    "ExecuteTime": {
     "end_time": "2022-01-13T12:21:17.488466Z",
     "start_time": "2022-01-13T12:21:17.481341Z"
    },
    "scrolled": true
   },
   "outputs": [
    {
     "data": {
      "text/plain": [
       "['Ward_ID',\n",
       " 'Total_Dwel',\n",
       " 'Urban_area',\n",
       " 'Tribal_or_',\n",
       " 'Farm',\n",
       " 'House_or_b',\n",
       " 'Traditiona',\n",
       " 'Flat_or_ap',\n",
       " 'Cluster_ho',\n",
       " 'Townhouse_',\n",
       " 'Semi_detac',\n",
       " 'House_flat',\n",
       " 'Informal_d',\n",
       " 'Informal00',\n",
       " 'Room_flatl',\n",
       " 'Caravan_te',\n",
       " 'Other_x',\n",
       " 'Unspecifie_x',\n",
       " 'Not_applic_x',\n",
       " 'Rented',\n",
       " 'Owned_but_',\n",
       " 'Occupied_r',\n",
       " 'Owned_and_',\n",
       " 'Other1_x',\n",
       " 'AHHI_No_in',\n",
       " 'AHHI_R_1__',\n",
       " 'AHHI_R_480',\n",
       " 'AHHI_R_960',\n",
       " 'AHHI_R_19_',\n",
       " 'AHHI_R_38_',\n",
       " 'AHHI_R_76_',\n",
       " 'AHHI_R_153',\n",
       " 'AHHI_R_307',\n",
       " 'AHHI_R_614',\n",
       " 'AHHI_R_1_2',\n",
       " 'AHHI_R_2_4',\n",
       " 'AHHI_Unspe',\n",
       " 'HH_Size_1',\n",
       " 'HH_Size_2',\n",
       " 'HH_Size_3',\n",
       " 'HH_Size_4',\n",
       " 'HH_Size_5',\n",
       " 'HH_Size_6',\n",
       " 'HH_Size_7',\n",
       " 'HH_Size_8',\n",
       " 'HH_Size_9',\n",
       " 'HH_Size_10',\n",
       " '_Object',\n",
       " 'geometry_x',\n",
       " 'OBJECTID',\n",
       " 'PROVINCE',\n",
       " 'CAT_B',\n",
       " 'WARDNO',\n",
       " 'WARD_ID',\n",
       " 'WD_CODE_st',\n",
       " 'SUM_WARD_P',\n",
       " 'SHAPE_LENG',\n",
       " 'WARD_EXT',\n",
       " 'ALBERS_ARE',\n",
       " 'SHAPE_Le_1',\n",
       " 'SHAPE_Area',\n",
       " 'geometry_y',\n",
       " 'Pop',\n",
       " 'Black_Afri',\n",
       " 'Coloured',\n",
       " 'Indian_or_',\n",
       " 'White',\n",
       " 'Other_y',\n",
       " 'Gade_0',\n",
       " 'Grade_1___',\n",
       " 'Grade_2___',\n",
       " 'Grade_3___',\n",
       " 'Grade_4___',\n",
       " 'Grade_5___',\n",
       " 'Grade_6___',\n",
       " 'Grade_7___',\n",
       " 'Grade_8___',\n",
       " 'Grade_9___',\n",
       " 'Grade_10__',\n",
       " 'Grade_11__',\n",
       " 'Grade_12__',\n",
       " 'NTC_I___N1',\n",
       " 'NTC_II___N',\n",
       " 'NTC_III__N',\n",
       " 'N4___NTC_4',\n",
       " 'N5__NTC_5',\n",
       " 'N6___NTC_6',\n",
       " 'Certificat',\n",
       " 'Diploma_wi',\n",
       " 'Certific00',\n",
       " 'Diploma_00',\n",
       " 'Higher_Dip',\n",
       " 'Post_Highe',\n",
       " 'Bachelors_',\n",
       " 'Bachelor00',\n",
       " 'Honours_de',\n",
       " 'Higher_Deg',\n",
       " 'Other1_y',\n",
       " 'No_schooli',\n",
       " 'Unspecifie_y',\n",
       " 'Not_applic_y',\n",
       " 'PMI_No_inc',\n",
       " 'PMI_R_1___',\n",
       " 'PMI_R_401_',\n",
       " 'PMI_R_801_',\n",
       " 'PMI_R_1_60',\n",
       " 'PMI_R_3_20',\n",
       " 'PMI_R_6_40',\n",
       " 'PMI_R_12_8',\n",
       " 'PMI_R_25_6',\n",
       " 'PMI_R51201',\n",
       " 'PMI_R10240',\n",
       " 'PMI_R20480',\n",
       " 'PMI_Unspec',\n",
       " 'PMI_NotApp',\n",
       " 'Employed',\n",
       " 'Unemployed',\n",
       " 'Discourage',\n",
       " 'Other_NotE',\n",
       " 'Age_Lessth',\n",
       " 'Employment',\n",
       " 'FormalSect',\n",
       " 'InformalSe',\n",
       " 'Private_ho',\n",
       " 'Do_not_kno',\n",
       " 'Unsepcifie',\n",
       " 'Sector_Not',\n",
       " 'geometry',\n",
       " 'area_metres',\n",
       " 'informal_dwell_share',\n",
       " 'formal_dwellings',\n",
       " 'unemployed_level',\n",
       " 'employed_level',\n",
       " 'not_educated_level',\n",
       " 'informal_dwell_level',\n",
       " 'white_level',\n",
       " 'higher_educ_level',\n",
       " 'pop_per_dwelling',\n",
       " 'large_families_level']"
      ]
     },
     "execution_count": 209,
     "metadata": {},
     "output_type": "execute_result"
    }
   ],
   "source": [
    "gdf_pop_stat_cpt_jhb.columns.tolist()"
   ]
  },
  {
   "cell_type": "code",
   "execution_count": 225,
   "id": "bd381fe2",
   "metadata": {
    "ExecuteTime": {
     "end_time": "2022-01-13T12:34:40.619811Z",
     "start_time": "2022-01-13T12:34:40.615231Z"
    }
   },
   "outputs": [],
   "source": [
    "gdf_pop_stat_cpt_jhb['dwell_density']= gdf_pop_stat_cpt_jhb['Total_Dwel']/(gdf_pop_stat_cpt_jhb['area_metres']/(10**6))"
   ]
  },
  {
   "cell_type": "code",
   "execution_count": 226,
   "id": "c10eb400",
   "metadata": {
    "ExecuteTime": {
     "end_time": "2022-01-13T12:34:51.473077Z",
     "start_time": "2022-01-13T12:34:51.467424Z"
    }
   },
   "outputs": [],
   "source": [
    "gdf_fin_cpt_jhb_wrd = gdf_pop_stat_cpt_jhb[['CAT_B',\n",
    " 'WARDNO',\n",
    " 'WARD_ID',\n",
    " 'PROVINCE',\n",
    "'Pop',\n",
    "'Total_Dwel',\n",
    "\n",
    " 'White',\n",
    "'Employed', \n",
    "'geometry_y',\n",
    " 'area_metres',\n",
    " 'informal_dwell_share',\n",
    " 'formal_dwellings',\n",
    " 'unemployed_level',\n",
    " 'employed_level',\n",
    " 'not_educated_level',\n",
    " 'informal_dwell_level',\n",
    " 'white_level',\n",
    " 'higher_educ_level',\n",
    " 'pop_per_dwelling',\n",
    " 'large_families_level', 'dwell_density']]"
   ]
  },
  {
   "cell_type": "code",
   "execution_count": 676,
   "id": "b9aece60",
   "metadata": {
    "ExecuteTime": {
     "end_time": "2022-02-07T18:37:08.053144Z",
     "start_time": "2022-02-07T18:37:04.570580Z"
    }
   },
   "outputs": [],
   "source": [
    "greenplum.write(gdf_fin_cpt_jhb_wrd,'snb_geo_lavka.wards_joburg_capetown')"
   ]
  },
  {
   "cell_type": "code",
   "execution_count": 221,
   "id": "6542151c",
   "metadata": {
    "ExecuteTime": {
     "end_time": "2022-01-13T12:26:22.994733Z",
     "start_time": "2022-01-13T12:26:22.990580Z"
    }
   },
   "outputs": [
    {
     "data": {
      "text/plain": [
       "['CAT_B',\n",
       " 'Employed',\n",
       " 'PROVINCE',\n",
       " 'Pop',\n",
       " 'Total_Dwel',\n",
       " 'WARDNO',\n",
       " 'WARD_ID',\n",
       " 'White',\n",
       " 'area_metres',\n",
       " 'employed_level',\n",
       " 'formal_dwellings',\n",
       " 'geometry_y',\n",
       " 'higher_educ_level',\n",
       " 'informal_dwell_level',\n",
       " 'informal_dwell_share',\n",
       " 'large_families_level',\n",
       " 'not_educated_level',\n",
       " 'pop_per_dwelling',\n",
       " 'unemployed_level',\n",
       " 'white_level']"
      ]
     },
     "execution_count": 221,
     "metadata": {},
     "output_type": "execute_result"
    }
   ],
   "source": [
    "sorted(gdf_fin_cpt_jhb_wrd.columns)"
   ]
  },
  {
   "cell_type": "code",
   "execution_count": null,
   "id": "b42fd8d3",
   "metadata": {},
   "outputs": [],
   "source": []
  },
  {
   "cell_type": "code",
   "execution_count": 227,
   "id": "0c7348c2",
   "metadata": {
    "ExecuteTime": {
     "end_time": "2022-01-13T12:34:56.095710Z",
     "start_time": "2022-01-13T12:34:55.362848Z"
    },
    "scrolled": true
   },
   "outputs": [],
   "source": [
    "gdf_fin_cpt_jhb_wrd.to_file('gdf_fin_cpt_jhb_wrd.geojson', driver='GeoJSON')"
   ]
  },
  {
   "cell_type": "code",
   "execution_count": 234,
   "id": "e1e48cd0",
   "metadata": {
    "ExecuteTime": {
     "end_time": "2022-01-13T14:28:15.026082Z",
     "start_time": "2022-01-13T14:28:15.020544Z"
    }
   },
   "outputs": [],
   "source": [
    "gdf_pop_stat_cpt_jhb['high_educ_num'] = gdf_pop_stat_cpt_jhb[['NTC_I___N1',\n",
    " 'NTC_II___N',\n",
    " 'NTC_III__N',\n",
    " 'N4___NTC_4',\n",
    " 'N5__NTC_5',\n",
    " 'N6___NTC_6',\n",
    " 'Certificat',\n",
    " 'Diploma_wi',\n",
    " 'Certific00',\n",
    " 'Diploma_00',\n",
    " 'Higher_Dip',\n",
    " 'Post_Highe',\n",
    " 'Bachelors_',\n",
    " 'Bachelor00',\n",
    " 'Honours_de',\n",
    " 'Higher_Deg']].sum(axis=1)"
   ]
  },
  {
   "cell_type": "code",
   "execution_count": 239,
   "id": "bfd1f2fb",
   "metadata": {
    "ExecuteTime": {
     "end_time": "2022-01-13T14:31:30.833827Z",
     "start_time": "2022-01-13T14:31:30.827418Z"
    }
   },
   "outputs": [
    {
     "data": {
      "text/plain": [
       "CAT_B\n",
       "CPT    405991\n",
       "JHB    564972\n",
       "Name: Unemployed, dtype: int64"
      ]
     },
     "execution_count": 239,
     "metadata": {},
     "output_type": "execute_result"
    }
   ],
   "source": [
    "gdf_pop_stat_cpt_jhb.groupby('CAT_B')['Unemployed'].sum()"
   ]
  },
  {
   "cell_type": "code",
   "execution_count": 240,
   "id": "3be0a377",
   "metadata": {
    "ExecuteTime": {
     "end_time": "2022-01-13T14:31:49.121169Z",
     "start_time": "2022-01-13T14:31:49.112865Z"
    }
   },
   "outputs": [
    {
     "data": {
      "text/plain": [
       "CAT_B\n",
       "CPT    1294242\n",
       "JHB    1696521\n",
       "Name: Employed, dtype: int64"
      ]
     },
     "execution_count": 240,
     "metadata": {},
     "output_type": "execute_result"
    }
   ],
   "source": [
    "gdf_pop_stat_cpt_jhb.groupby('CAT_B')['Employed'].sum()"
   ]
  },
  {
   "cell_type": "code",
   "execution_count": 241,
   "id": "08f3308a",
   "metadata": {
    "ExecuteTime": {
     "end_time": "2022-01-13T14:38:42.377100Z",
     "start_time": "2022-01-13T14:38:42.369983Z"
    }
   },
   "outputs": [
    {
     "data": {
      "text/plain": [
       "CAT_B\n",
       "CPT     815858\n",
       "JHB    1054926\n",
       "Name: formal_dwellings, dtype: int64"
      ]
     },
     "execution_count": 241,
     "metadata": {},
     "output_type": "execute_result"
    }
   ],
   "source": [
    "gdf_pop_stat_cpt_jhb.groupby('CAT_B')['formal_dwellings'].sum()"
   ]
  },
  {
   "cell_type": "code",
   "execution_count": 249,
   "id": "8a3e93d4",
   "metadata": {
    "ExecuteTime": {
     "end_time": "2022-01-13T14:56:33.632636Z",
     "start_time": "2022-01-13T14:56:33.604266Z"
    }
   },
   "outputs": [
    {
     "data": {
      "text/html": [
       "<div>\n",
       "<style scoped>\n",
       "    .dataframe tbody tr th:only-of-type {\n",
       "        vertical-align: middle;\n",
       "    }\n",
       "\n",
       "    .dataframe tbody tr th {\n",
       "        vertical-align: top;\n",
       "    }\n",
       "\n",
       "    .dataframe thead th {\n",
       "        text-align: right;\n",
       "    }\n",
       "</style>\n",
       "<table border=\"1\" class=\"dataframe\">\n",
       "  <thead>\n",
       "    <tr style=\"text-align: right;\">\n",
       "      <th></th>\n",
       "      <th>CAT_B</th>\n",
       "      <th>WARD_ID</th>\n",
       "    </tr>\n",
       "  </thead>\n",
       "  <tbody>\n",
       "    <tr>\n",
       "      <th>111</th>\n",
       "      <td>JHB</td>\n",
       "      <td>79800112</td>\n",
       "    </tr>\n",
       "    <tr>\n",
       "      <th>96</th>\n",
       "      <td>JHB</td>\n",
       "      <td>79800097</td>\n",
       "    </tr>\n",
       "    <tr>\n",
       "      <th>52</th>\n",
       "      <td>JHB</td>\n",
       "      <td>79800053</td>\n",
       "    </tr>\n",
       "    <tr>\n",
       "      <th>236</th>\n",
       "      <td>CPT</td>\n",
       "      <td>19100107</td>\n",
       "    </tr>\n",
       "    <tr>\n",
       "      <th>99</th>\n",
       "      <td>JHB</td>\n",
       "      <td>79800100</td>\n",
       "    </tr>\n",
       "    <tr>\n",
       "      <th>112</th>\n",
       "      <td>JHB</td>\n",
       "      <td>79800113</td>\n",
       "    </tr>\n",
       "    <tr>\n",
       "      <th>102</th>\n",
       "      <td>JHB</td>\n",
       "      <td>79800103</td>\n",
       "    </tr>\n",
       "    <tr>\n",
       "      <th>152</th>\n",
       "      <td>CPT</td>\n",
       "      <td>19100023</td>\n",
       "    </tr>\n",
       "    <tr>\n",
       "      <th>232</th>\n",
       "      <td>CPT</td>\n",
       "      <td>19100103</td>\n",
       "    </tr>\n",
       "    <tr>\n",
       "      <th>105</th>\n",
       "      <td>JHB</td>\n",
       "      <td>79800106</td>\n",
       "    </tr>\n",
       "  </tbody>\n",
       "</table>\n",
       "</div>"
      ],
      "text/plain": [
       "    CAT_B   WARD_ID\n",
       "111   JHB  79800112\n",
       "96    JHB  79800097\n",
       "52    JHB  79800053\n",
       "236   CPT  19100107\n",
       "99    JHB  79800100\n",
       "112   JHB  79800113\n",
       "102   JHB  79800103\n",
       "152   CPT  19100023\n",
       "232   CPT  19100103\n",
       "105   JHB  79800106"
      ]
     },
     "execution_count": 249,
     "metadata": {},
     "output_type": "execute_result"
    }
   ],
   "source": [
    "gdf_pop_stat_cpt_jhb.sort_values(['formal_dwellings','high_educ_num','Pop'], ascending=False)[['CAT_B','WARD_ID']].head(10)"
   ]
  },
  {
   "cell_type": "code",
   "execution_count": 20,
   "id": "bfc2b454",
   "metadata": {
    "ExecuteTime": {
     "end_time": "2022-01-13T22:11:52.221600Z",
     "start_time": "2022-01-13T22:11:52.083446Z"
    }
   },
   "outputs": [
    {
     "data": {
      "text/plain": [
       "169"
      ]
     },
     "execution_count": 20,
     "metadata": {},
     "output_type": "execute_result"
    }
   ],
   "source": [
    "import gc\n",
    "gc.collect()"
   ]
  },
  {
   "cell_type": "code",
   "execution_count": 4,
   "id": "873da13d",
   "metadata": {
    "ExecuteTime": {
     "end_time": "2022-01-14T07:27:35.252668Z",
     "start_time": "2022-01-14T07:27:29.398364Z"
    },
    "scrolled": true
   },
   "outputs": [
    {
     "ename": "KeyboardInterrupt",
     "evalue": "",
     "output_type": "error",
     "traceback": [
      "\u001b[0;31m---------------------------------------------------------------------------\u001b[0m",
      "\u001b[0;31mKeyboardInterrupt\u001b[0m                         Traceback (most recent call last)",
      "\u001b[0;32m/tmp/ipykernel_27805/919571857.py\u001b[0m in \u001b[0;36m<module>\u001b[0;34m\u001b[0m\n\u001b[0;32m----> 1\u001b[0;31m \u001b[0mpop_grid\u001b[0m \u001b[0;34m=\u001b[0m \u001b[0mgpd\u001b[0m\u001b[0;34m.\u001b[0m\u001b[0mread_file\u001b[0m\u001b[0;34m(\u001b[0m\u001b[0;34m'cpt_jhb_pop_100m.geojson'\u001b[0m\u001b[0;34m)\u001b[0m\u001b[0;34m\u001b[0m\u001b[0;34m\u001b[0m\u001b[0m\n\u001b[0m",
      "\u001b[0;32m/usr/local/lib/python3.7/dist-packages/geopandas/io/file.py\u001b[0m in \u001b[0;36m_read_file\u001b[0;34m(filename, bbox, mask, rows, **kwargs)\u001b[0m\n\u001b[1;32m    243\u001b[0m \u001b[0;34m\u001b[0m\u001b[0m\n\u001b[1;32m    244\u001b[0m             return GeoDataFrame.from_features(\n\u001b[0;32m--> 245\u001b[0;31m                 \u001b[0mf_filt\u001b[0m\u001b[0;34m,\u001b[0m \u001b[0mcrs\u001b[0m\u001b[0;34m=\u001b[0m\u001b[0mcrs\u001b[0m\u001b[0;34m,\u001b[0m \u001b[0mcolumns\u001b[0m\u001b[0;34m=\u001b[0m\u001b[0mcolumns\u001b[0m \u001b[0;34m+\u001b[0m \u001b[0;34m[\u001b[0m\u001b[0;34m\"geometry\"\u001b[0m\u001b[0;34m]\u001b[0m\u001b[0;34m\u001b[0m\u001b[0;34m\u001b[0m\u001b[0m\n\u001b[0m\u001b[1;32m    246\u001b[0m             )\n\u001b[1;32m    247\u001b[0m \u001b[0;34m\u001b[0m\u001b[0m\n",
      "\u001b[0;32m/usr/local/lib/python3.7/dist-packages/geopandas/geodataframe.py\u001b[0m in \u001b[0;36mfrom_features\u001b[0;34m(cls, features, crs, columns)\u001b[0m\n\u001b[1;32m    598\u001b[0m \u001b[0;34m\u001b[0m\u001b[0m\n\u001b[1;32m    599\u001b[0m         \u001b[0mrows\u001b[0m \u001b[0;34m=\u001b[0m \u001b[0;34m[\u001b[0m\u001b[0;34m]\u001b[0m\u001b[0;34m\u001b[0m\u001b[0;34m\u001b[0m\u001b[0m\n\u001b[0;32m--> 600\u001b[0;31m         \u001b[0;32mfor\u001b[0m \u001b[0mfeature\u001b[0m \u001b[0;32min\u001b[0m \u001b[0mfeatures_lst\u001b[0m\u001b[0;34m:\u001b[0m\u001b[0;34m\u001b[0m\u001b[0;34m\u001b[0m\u001b[0m\n\u001b[0m\u001b[1;32m    601\u001b[0m             \u001b[0;31m# load geometry\u001b[0m\u001b[0;34m\u001b[0m\u001b[0;34m\u001b[0m\u001b[0;34m\u001b[0m\u001b[0m\n\u001b[1;32m    602\u001b[0m             \u001b[0;32mif\u001b[0m \u001b[0mhasattr\u001b[0m\u001b[0;34m(\u001b[0m\u001b[0mfeature\u001b[0m\u001b[0;34m,\u001b[0m \u001b[0;34m\"__geo_interface__\"\u001b[0m\u001b[0;34m)\u001b[0m\u001b[0;34m:\u001b[0m\u001b[0;34m\u001b[0m\u001b[0;34m\u001b[0m\u001b[0m\n",
      "\u001b[0;32mfiona/ogrext.pyx\u001b[0m in \u001b[0;36mfiona.ogrext.Iterator.__next__\u001b[0;34m()\u001b[0m\n",
      "\u001b[0;32m/usr/local/lib/python3.7/dist-packages/fiona/collection.py\u001b[0m in \u001b[0;36mdriver\u001b[0;34m(self)\u001b[0m\n\u001b[1;32m    190\u001b[0m             \u001b[0;32mraise\u001b[0m \u001b[0mDriverError\u001b[0m\u001b[0;34m(\u001b[0m\u001b[0;34m\"unsupported mode: %r\"\u001b[0m \u001b[0;34m%\u001b[0m \u001b[0mself\u001b[0m\u001b[0;34m.\u001b[0m\u001b[0mmode\u001b[0m\u001b[0;34m)\u001b[0m\u001b[0;34m\u001b[0m\u001b[0;34m\u001b[0m\u001b[0m\n\u001b[1;32m    191\u001b[0m \u001b[0;34m\u001b[0m\u001b[0m\n\u001b[0;32m--> 192\u001b[0;31m     \u001b[0;34m@\u001b[0m\u001b[0mproperty\u001b[0m\u001b[0;34m\u001b[0m\u001b[0;34m\u001b[0m\u001b[0m\n\u001b[0m\u001b[1;32m    193\u001b[0m     \u001b[0;32mdef\u001b[0m \u001b[0mdriver\u001b[0m\u001b[0;34m(\u001b[0m\u001b[0mself\u001b[0m\u001b[0;34m)\u001b[0m\u001b[0;34m:\u001b[0m\u001b[0;34m\u001b[0m\u001b[0;34m\u001b[0m\u001b[0m\n\u001b[1;32m    194\u001b[0m         \u001b[0;34m\"\"\"Returns the name of the proper OGR driver.\"\"\"\u001b[0m\u001b[0;34m\u001b[0m\u001b[0;34m\u001b[0m\u001b[0m\n",
      "\u001b[0;31mKeyboardInterrupt\u001b[0m: "
     ]
    }
   ],
   "source": [
    "pop_grid = gpd.read_file('cpt_jhb_pop_100m.geojson')"
   ]
  },
  {
   "cell_type": "code",
   "execution_count": 257,
   "id": "749d1ba5",
   "metadata": {
    "ExecuteTime": {
     "end_time": "2022-01-13T17:03:43.950116Z",
     "start_time": "2022-01-13T17:03:23.571192Z"
    }
   },
   "outputs": [
    {
     "name": "stderr",
     "output_type": "stream",
     "text": [
      "/usr/local/lib/python3.7/dist-packages/IPython/core/interactiveshell.py:3377: FutureWarning: The `op` parameter is deprecated and will be removed in a future release. Please use the `predicate` parameter instead.\n",
      "  if (await self.run_code(code, result,  async_=asy)):\n"
     ]
    }
   ],
   "source": [
    "pop_grid =  gpd.sjoin(pop_grid,gdf_fin_cpt_jhb_wrd[['CAT_B','geometry_y','WARD_ID']],  op='intersects')"
   ]
  },
  {
   "cell_type": "code",
   "execution_count": 259,
   "id": "e8b7eac8",
   "metadata": {
    "ExecuteTime": {
     "end_time": "2022-01-13T17:04:56.756846Z",
     "start_time": "2022-01-13T17:04:14.557611Z"
    }
   },
   "outputs": [],
   "source": [
    "pop_grid.to_file('cpt_jhb_pop_100m_ward.geojson')"
   ]
  },
  {
   "cell_type": "code",
   "execution_count": 5,
   "id": "f209f9d5",
   "metadata": {
    "ExecuteTime": {
     "end_time": "2022-01-14T07:27:54.970932Z",
     "start_time": "2022-01-14T07:27:39.856986Z"
    }
   },
   "outputs": [],
   "source": [
    "pop_grid=  gpd.read_file('cpt_jhb_pop_100m_ward.geojson')"
   ]
  },
  {
   "cell_type": "code",
   "execution_count": 260,
   "id": "0ac99faa",
   "metadata": {
    "ExecuteTime": {
     "end_time": "2022-01-13T18:14:15.171243Z",
     "start_time": "2022-01-13T18:14:15.166976Z"
    }
   },
   "outputs": [
    {
     "data": {
      "text/plain": [
       "(219984, 5)"
      ]
     },
     "execution_count": 260,
     "metadata": {},
     "output_type": "execute_result"
    }
   ],
   "source": [
    "pop_grid.shape"
   ]
  },
  {
   "cell_type": "code",
   "execution_count": 4,
   "id": "ef9dbd2b",
   "metadata": {
    "ExecuteTime": {
     "end_time": "2022-01-13T19:23:03.754775Z",
     "start_time": "2022-01-13T19:22:38.346733Z"
    },
    "scrolled": true
   },
   "outputs": [],
   "source": [
    "pop_grid['5000_buffer'] = pop_grid.geometry.to_crs('epsg:22289').apply(lambda x : x.centroid.buffer(5000))"
   ]
  },
  {
   "cell_type": "code",
   "execution_count": 5,
   "id": "fe10d8b0",
   "metadata": {
    "ExecuteTime": {
     "end_time": "2022-01-13T19:23:34.942001Z",
     "start_time": "2022-01-13T19:23:03.756772Z"
    },
    "scrolled": true
   },
   "outputs": [],
   "source": [
    "pop_grid['5000_buffer'] = pop_grid['5000_buffer'].to_crs('epsg:4326')"
   ]
  },
  {
   "cell_type": "code",
   "execution_count": 6,
   "id": "108c2d5e",
   "metadata": {
    "ExecuteTime": {
     "end_time": "2022-01-13T19:23:34.987297Z",
     "start_time": "2022-01-13T19:23:34.943557Z"
    },
    "scrolled": true
   },
   "outputs": [],
   "source": [
    "pop_grid.drop('index_right', inplace=True, axis=1)"
   ]
  },
  {
   "cell_type": "code",
   "execution_count": 6,
   "id": "3cca94af",
   "metadata": {
    "ExecuteTime": {
     "end_time": "2022-01-14T07:27:55.349319Z",
     "start_time": "2022-01-14T07:27:54.973678Z"
    }
   },
   "outputs": [],
   "source": [
    "gdf_fin_cpt_jhb_wrd = gpd.read_file('gdf_fin_cpt_jhb_wrd.geojson', driver='GeoJSON')\n",
    "\n",
    "gdf_fin_cpt_jhb_wrd_bests = gdf_fin_cpt_jhb_wrd[(gdf_fin_cpt_jhb_wrd.informal_dwell_level<=0.1)&\n",
    "                                 (gdf_fin_cpt_jhb_wrd.higher_educ_level>=0.2)&\n",
    "                                 (gdf_fin_cpt_jhb_wrd.employed_level>=0.3)\n",
    "                                ]\n",
    "\n",
    "best_wards= gdf_fin_cpt_jhb_wrd[(gdf_fin_cpt_jhb_wrd.informal_dwell_level<=0.1)&\n",
    "                                 (gdf_fin_cpt_jhb_wrd.higher_educ_level>=0.3)&\n",
    "                                 (gdf_fin_cpt_jhb_wrd.employed_level>=0.45)\n",
    "                                ]['WARD_ID']\n",
    "pop_grid_best_wards = pop_grid[pop_grid['WARD_ID'].isin(best_wards)]"
   ]
  },
  {
   "cell_type": "code",
   "execution_count": 9,
   "id": "e91fa2cd",
   "metadata": {
    "ExecuteTime": {
     "end_time": "2022-01-14T07:28:20.495765Z",
     "start_time": "2022-01-14T07:28:20.322655Z"
    },
    "scrolled": true
   },
   "outputs": [
    {
     "data": {
      "text/html": [
       "<div>\n",
       "<style scoped>\n",
       "    .dataframe tbody tr th:only-of-type {\n",
       "        vertical-align: middle;\n",
       "    }\n",
       "\n",
       "    .dataframe tbody tr th {\n",
       "        vertical-align: top;\n",
       "    }\n",
       "\n",
       "    .dataframe thead th {\n",
       "        text-align: right;\n",
       "    }\n",
       "</style>\n",
       "<table border=\"1\" class=\"dataframe\">\n",
       "  <thead>\n",
       "    <tr style=\"text-align: right;\">\n",
       "      <th></th>\n",
       "      <th>pop</th>\n",
       "      <th>index_right</th>\n",
       "      <th>CAT_B</th>\n",
       "      <th>WARD_ID</th>\n",
       "      <th>geometry</th>\n",
       "    </tr>\n",
       "  </thead>\n",
       "  <tbody>\n",
       "    <tr>\n",
       "      <th>8727</th>\n",
       "      <td>2</td>\n",
       "      <td>111</td>\n",
       "      <td>JHB</td>\n",
       "      <td>79800112</td>\n",
       "      <td>POLYGON ((28.07792 -25.92208, 28.07792 -25.922...</td>\n",
       "    </tr>\n",
       "    <tr>\n",
       "      <th>8728</th>\n",
       "      <td>5</td>\n",
       "      <td>111</td>\n",
       "      <td>JHB</td>\n",
       "      <td>79800112</td>\n",
       "      <td>POLYGON ((28.07625 -25.92375, 28.07625 -25.924...</td>\n",
       "    </tr>\n",
       "    <tr>\n",
       "      <th>8729</th>\n",
       "      <td>2</td>\n",
       "      <td>111</td>\n",
       "      <td>JHB</td>\n",
       "      <td>79800112</td>\n",
       "      <td>POLYGON ((28.07958 -25.92458, 28.07958 -25.925...</td>\n",
       "    </tr>\n",
       "    <tr>\n",
       "      <th>8730</th>\n",
       "      <td>2</td>\n",
       "      <td>111</td>\n",
       "      <td>JHB</td>\n",
       "      <td>79800112</td>\n",
       "      <td>POLYGON ((28.08375 -25.92458, 28.08375 -25.925...</td>\n",
       "    </tr>\n",
       "    <tr>\n",
       "      <th>8731</th>\n",
       "      <td>5</td>\n",
       "      <td>111</td>\n",
       "      <td>JHB</td>\n",
       "      <td>79800112</td>\n",
       "      <td>POLYGON ((28.08458 -25.92458, 28.08458 -25.925...</td>\n",
       "    </tr>\n",
       "    <tr>\n",
       "      <th>...</th>\n",
       "      <td>...</td>\n",
       "      <td>...</td>\n",
       "      <td>...</td>\n",
       "      <td>...</td>\n",
       "      <td>...</td>\n",
       "    </tr>\n",
       "    <tr>\n",
       "      <th>193551</th>\n",
       "      <td>8</td>\n",
       "      <td>202</td>\n",
       "      <td>CPT</td>\n",
       "      <td>19100073</td>\n",
       "      <td>POLYGON ((18.46292 -34.04208, 18.46292 -34.042...</td>\n",
       "    </tr>\n",
       "    <tr>\n",
       "      <th>193552</th>\n",
       "      <td>30</td>\n",
       "      <td>202</td>\n",
       "      <td>CPT</td>\n",
       "      <td>19100073</td>\n",
       "      <td>POLYGON ((18.46375 -34.04208, 18.46375 -34.043...</td>\n",
       "    </tr>\n",
       "    <tr>\n",
       "      <th>193553</th>\n",
       "      <td>33</td>\n",
       "      <td>202</td>\n",
       "      <td>CPT</td>\n",
       "      <td>19100073</td>\n",
       "      <td>POLYGON ((18.46542 -34.04208, 18.46542 -34.042...</td>\n",
       "    </tr>\n",
       "    <tr>\n",
       "      <th>193554</th>\n",
       "      <td>5</td>\n",
       "      <td>202</td>\n",
       "      <td>CPT</td>\n",
       "      <td>19100073</td>\n",
       "      <td>POLYGON ((18.46625 -34.04208, 18.46625 -34.042...</td>\n",
       "    </tr>\n",
       "    <tr>\n",
       "      <th>193555</th>\n",
       "      <td>8</td>\n",
       "      <td>202</td>\n",
       "      <td>CPT</td>\n",
       "      <td>19100073</td>\n",
       "      <td>POLYGON ((18.46625 -34.04292, 18.46625 -34.043...</td>\n",
       "    </tr>\n",
       "  </tbody>\n",
       "</table>\n",
       "<p>57620 rows × 5 columns</p>\n",
       "</div>"
      ],
      "text/plain": [
       "        pop  index_right CAT_B   WARD_ID  \\\n",
       "8727      2          111   JHB  79800112   \n",
       "8728      5          111   JHB  79800112   \n",
       "8729      2          111   JHB  79800112   \n",
       "8730      2          111   JHB  79800112   \n",
       "8731      5          111   JHB  79800112   \n",
       "...     ...          ...   ...       ...   \n",
       "193551    8          202   CPT  19100073   \n",
       "193552   30          202   CPT  19100073   \n",
       "193553   33          202   CPT  19100073   \n",
       "193554    5          202   CPT  19100073   \n",
       "193555    8          202   CPT  19100073   \n",
       "\n",
       "                                                 geometry  \n",
       "8727    POLYGON ((28.07792 -25.92208, 28.07792 -25.922...  \n",
       "8728    POLYGON ((28.07625 -25.92375, 28.07625 -25.924...  \n",
       "8729    POLYGON ((28.07958 -25.92458, 28.07958 -25.925...  \n",
       "8730    POLYGON ((28.08375 -25.92458, 28.08375 -25.925...  \n",
       "8731    POLYGON ((28.08458 -25.92458, 28.08458 -25.925...  \n",
       "...                                                   ...  \n",
       "193551  POLYGON ((18.46292 -34.04208, 18.46292 -34.042...  \n",
       "193552  POLYGON ((18.46375 -34.04208, 18.46375 -34.043...  \n",
       "193553  POLYGON ((18.46542 -34.04208, 18.46542 -34.042...  \n",
       "193554  POLYGON ((18.46625 -34.04208, 18.46625 -34.042...  \n",
       "193555  POLYGON ((18.46625 -34.04292, 18.46625 -34.043...  \n",
       "\n",
       "[57620 rows x 5 columns]"
      ]
     },
     "execution_count": 9,
     "metadata": {},
     "output_type": "execute_result"
    }
   ],
   "source": [
    "pop_grid_best_wards"
   ]
  },
  {
   "cell_type": "code",
   "execution_count": 14,
   "id": "add491bd",
   "metadata": {
    "ExecuteTime": {
     "end_time": "2022-01-13T20:38:21.767065Z",
     "start_time": "2022-01-13T20:21:03.760608Z"
    },
    "scrolled": true
   },
   "outputs": [
    {
     "ename": "MemoryError",
     "evalue": "Unable to allocate 2.09 GiB for an array with shape (279918719,) and data type int64",
     "output_type": "error",
     "traceback": [
      "\u001b[0;31m---------------------------------------------------------------------------\u001b[0m",
      "\u001b[0;31mMemoryError\u001b[0m                               Traceback (most recent call last)",
      "\u001b[0;32m/tmp/ipykernel_8328/1434821126.py\u001b[0m in \u001b[0;36m<module>\u001b[0;34m\u001b[0m\n\u001b[0;32m----> 1\u001b[0;31m \u001b[0mpop_grid_inter\u001b[0m \u001b[0;34m=\u001b[0m \u001b[0mgpd\u001b[0m\u001b[0;34m.\u001b[0m\u001b[0msjoin\u001b[0m\u001b[0;34m(\u001b[0m\u001b[0mpop_grid_best_wards\u001b[0m\u001b[0;34m.\u001b[0m\u001b[0mset_geometry\u001b[0m\u001b[0;34m(\u001b[0m\u001b[0;34m'5000_buffer'\u001b[0m\u001b[0;34m)\u001b[0m\u001b[0;34m,\u001b[0m \u001b[0mpop_grid_best_wards\u001b[0m\u001b[0;34m,\u001b[0m \u001b[0mhow\u001b[0m\u001b[0;34m=\u001b[0m\u001b[0;34m'inner'\u001b[0m\u001b[0;34m,\u001b[0m \u001b[0mpredicate\u001b[0m\u001b[0;34m=\u001b[0m\u001b[0;34m'intersects'\u001b[0m\u001b[0;34m,\u001b[0m\u001b[0;34m)\u001b[0m\u001b[0;34m\u001b[0m\u001b[0;34m\u001b[0m\u001b[0m\n\u001b[0m",
      "\u001b[0;32m/usr/local/lib/python3.7/dist-packages/geopandas/tools/sjoin.py\u001b[0m in \u001b[0;36msjoin\u001b[0;34m(left_df, right_df, how, predicate, lsuffix, rsuffix, **kwargs)\u001b[0m\n\u001b[1;32m    124\u001b[0m     \u001b[0mindices\u001b[0m \u001b[0;34m=\u001b[0m \u001b[0m_geom_predicate_query\u001b[0m\u001b[0;34m(\u001b[0m\u001b[0mleft_df\u001b[0m\u001b[0;34m,\u001b[0m \u001b[0mright_df\u001b[0m\u001b[0;34m,\u001b[0m \u001b[0mpredicate\u001b[0m\u001b[0;34m)\u001b[0m\u001b[0;34m\u001b[0m\u001b[0;34m\u001b[0m\u001b[0m\n\u001b[1;32m    125\u001b[0m \u001b[0;34m\u001b[0m\u001b[0m\n\u001b[0;32m--> 126\u001b[0;31m     \u001b[0mjoined\u001b[0m \u001b[0;34m=\u001b[0m \u001b[0m_frame_join\u001b[0m\u001b[0;34m(\u001b[0m\u001b[0mindices\u001b[0m\u001b[0;34m,\u001b[0m \u001b[0mleft_df\u001b[0m\u001b[0;34m,\u001b[0m \u001b[0mright_df\u001b[0m\u001b[0;34m,\u001b[0m \u001b[0mhow\u001b[0m\u001b[0;34m,\u001b[0m \u001b[0mlsuffix\u001b[0m\u001b[0;34m,\u001b[0m \u001b[0mrsuffix\u001b[0m\u001b[0;34m)\u001b[0m\u001b[0;34m\u001b[0m\u001b[0;34m\u001b[0m\u001b[0m\n\u001b[0m\u001b[1;32m    127\u001b[0m \u001b[0;34m\u001b[0m\u001b[0m\n\u001b[1;32m    128\u001b[0m     \u001b[0;32mreturn\u001b[0m \u001b[0mjoined\u001b[0m\u001b[0;34m\u001b[0m\u001b[0;34m\u001b[0m\u001b[0m\n",
      "\u001b[0;32m/usr/local/lib/python3.7/dist-packages/geopandas/tools/sjoin.py\u001b[0m in \u001b[0;36m_frame_join\u001b[0;34m(join_df, left_df, right_df, how, lsuffix, rsuffix)\u001b[0m\n\u001b[1;32m    296\u001b[0m         \u001b[0mjoin_df\u001b[0m \u001b[0;34m=\u001b[0m \u001b[0mjoin_df\u001b[0m\u001b[0;34m.\u001b[0m\u001b[0mset_index\u001b[0m\u001b[0;34m(\u001b[0m\u001b[0;34m\"_key_left\"\u001b[0m\u001b[0;34m)\u001b[0m\u001b[0;34m\u001b[0m\u001b[0;34m\u001b[0m\u001b[0m\n\u001b[1;32m    297\u001b[0m         joined = (\n\u001b[0;32m--> 298\u001b[0;31m             \u001b[0mleft_df\u001b[0m\u001b[0;34m.\u001b[0m\u001b[0mmerge\u001b[0m\u001b[0;34m(\u001b[0m\u001b[0mjoin_df\u001b[0m\u001b[0;34m,\u001b[0m \u001b[0mleft_index\u001b[0m\u001b[0;34m=\u001b[0m\u001b[0;32mTrue\u001b[0m\u001b[0;34m,\u001b[0m \u001b[0mright_index\u001b[0m\u001b[0;34m=\u001b[0m\u001b[0;32mTrue\u001b[0m\u001b[0;34m)\u001b[0m\u001b[0;34m\u001b[0m\u001b[0;34m\u001b[0m\u001b[0m\n\u001b[0m\u001b[1;32m    299\u001b[0m             .merge(\n\u001b[1;32m    300\u001b[0m                 \u001b[0mright_df\u001b[0m\u001b[0;34m.\u001b[0m\u001b[0mdrop\u001b[0m\u001b[0;34m(\u001b[0m\u001b[0mright_df\u001b[0m\u001b[0;34m.\u001b[0m\u001b[0mgeometry\u001b[0m\u001b[0;34m.\u001b[0m\u001b[0mname\u001b[0m\u001b[0;34m,\u001b[0m \u001b[0maxis\u001b[0m\u001b[0;34m=\u001b[0m\u001b[0;36m1\u001b[0m\u001b[0;34m)\u001b[0m\u001b[0;34m,\u001b[0m\u001b[0;34m\u001b[0m\u001b[0;34m\u001b[0m\u001b[0m\n",
      "\u001b[0;32m/usr/local/lib/python3.7/dist-packages/geopandas/geodataframe.py\u001b[0m in \u001b[0;36mmerge\u001b[0;34m(self, *args, **kwargs)\u001b[0m\n\u001b[1;32m   1376\u001b[0m \u001b[0;34m\u001b[0m\u001b[0m\n\u001b[1;32m   1377\u001b[0m         \"\"\"\n\u001b[0;32m-> 1378\u001b[0;31m         \u001b[0mresult\u001b[0m \u001b[0;34m=\u001b[0m \u001b[0mDataFrame\u001b[0m\u001b[0;34m.\u001b[0m\u001b[0mmerge\u001b[0m\u001b[0;34m(\u001b[0m\u001b[0mself\u001b[0m\u001b[0;34m,\u001b[0m \u001b[0;34m*\u001b[0m\u001b[0margs\u001b[0m\u001b[0;34m,\u001b[0m \u001b[0;34m**\u001b[0m\u001b[0mkwargs\u001b[0m\u001b[0;34m)\u001b[0m\u001b[0;34m\u001b[0m\u001b[0;34m\u001b[0m\u001b[0m\n\u001b[0m\u001b[1;32m   1379\u001b[0m         \u001b[0mgeo_col\u001b[0m \u001b[0;34m=\u001b[0m \u001b[0mself\u001b[0m\u001b[0;34m.\u001b[0m\u001b[0m_geometry_column_name\u001b[0m\u001b[0;34m\u001b[0m\u001b[0;34m\u001b[0m\u001b[0m\n\u001b[1;32m   1380\u001b[0m         \u001b[0;32mif\u001b[0m \u001b[0misinstance\u001b[0m\u001b[0;34m(\u001b[0m\u001b[0mresult\u001b[0m\u001b[0;34m,\u001b[0m \u001b[0mDataFrame\u001b[0m\u001b[0;34m)\u001b[0m \u001b[0;32mand\u001b[0m \u001b[0mgeo_col\u001b[0m \u001b[0;32min\u001b[0m \u001b[0mresult\u001b[0m\u001b[0;34m:\u001b[0m\u001b[0;34m\u001b[0m\u001b[0;34m\u001b[0m\u001b[0m\n",
      "\u001b[0;32m/usr/local/lib/python3.7/dist-packages/pandas/core/frame.py\u001b[0m in \u001b[0;36mmerge\u001b[0;34m(self, right, how, on, left_on, right_on, left_index, right_index, sort, suffixes, copy, indicator, validate)\u001b[0m\n\u001b[1;32m   9201\u001b[0m             \u001b[0mcopy\u001b[0m\u001b[0;34m=\u001b[0m\u001b[0mcopy\u001b[0m\u001b[0;34m,\u001b[0m\u001b[0;34m\u001b[0m\u001b[0;34m\u001b[0m\u001b[0m\n\u001b[1;32m   9202\u001b[0m             \u001b[0mindicator\u001b[0m\u001b[0;34m=\u001b[0m\u001b[0mindicator\u001b[0m\u001b[0;34m,\u001b[0m\u001b[0;34m\u001b[0m\u001b[0;34m\u001b[0m\u001b[0m\n\u001b[0;32m-> 9203\u001b[0;31m             \u001b[0mvalidate\u001b[0m\u001b[0;34m=\u001b[0m\u001b[0mvalidate\u001b[0m\u001b[0;34m,\u001b[0m\u001b[0;34m\u001b[0m\u001b[0;34m\u001b[0m\u001b[0m\n\u001b[0m\u001b[1;32m   9204\u001b[0m         )\n\u001b[1;32m   9205\u001b[0m \u001b[0;34m\u001b[0m\u001b[0m\n",
      "\u001b[0;32m/usr/local/lib/python3.7/dist-packages/pandas/core/reshape/merge.py\u001b[0m in \u001b[0;36mmerge\u001b[0;34m(left, right, how, on, left_on, right_on, left_index, right_index, sort, suffixes, copy, indicator, validate)\u001b[0m\n\u001b[1;32m    119\u001b[0m         \u001b[0mvalidate\u001b[0m\u001b[0;34m=\u001b[0m\u001b[0mvalidate\u001b[0m\u001b[0;34m,\u001b[0m\u001b[0;34m\u001b[0m\u001b[0;34m\u001b[0m\u001b[0m\n\u001b[1;32m    120\u001b[0m     )\n\u001b[0;32m--> 121\u001b[0;31m     \u001b[0;32mreturn\u001b[0m \u001b[0mop\u001b[0m\u001b[0;34m.\u001b[0m\u001b[0mget_result\u001b[0m\u001b[0;34m(\u001b[0m\u001b[0;34m)\u001b[0m\u001b[0;34m\u001b[0m\u001b[0;34m\u001b[0m\u001b[0m\n\u001b[0m\u001b[1;32m    122\u001b[0m \u001b[0;34m\u001b[0m\u001b[0m\n\u001b[1;32m    123\u001b[0m \u001b[0;34m\u001b[0m\u001b[0m\n",
      "\u001b[0;32m/usr/local/lib/python3.7/dist-packages/pandas/core/reshape/merge.py\u001b[0m in \u001b[0;36mget_result\u001b[0;34m(self)\u001b[0m\n\u001b[1;32m    713\u001b[0m             \u001b[0mself\u001b[0m\u001b[0;34m.\u001b[0m\u001b[0mleft\u001b[0m\u001b[0;34m,\u001b[0m \u001b[0mself\u001b[0m\u001b[0;34m.\u001b[0m\u001b[0mright\u001b[0m \u001b[0;34m=\u001b[0m \u001b[0mself\u001b[0m\u001b[0;34m.\u001b[0m\u001b[0m_indicator_pre_merge\u001b[0m\u001b[0;34m(\u001b[0m\u001b[0mself\u001b[0m\u001b[0;34m.\u001b[0m\u001b[0mleft\u001b[0m\u001b[0;34m,\u001b[0m \u001b[0mself\u001b[0m\u001b[0;34m.\u001b[0m\u001b[0mright\u001b[0m\u001b[0;34m)\u001b[0m\u001b[0;34m\u001b[0m\u001b[0;34m\u001b[0m\u001b[0m\n\u001b[1;32m    714\u001b[0m \u001b[0;34m\u001b[0m\u001b[0m\n\u001b[0;32m--> 715\u001b[0;31m         \u001b[0mjoin_index\u001b[0m\u001b[0;34m,\u001b[0m \u001b[0mleft_indexer\u001b[0m\u001b[0;34m,\u001b[0m \u001b[0mright_indexer\u001b[0m \u001b[0;34m=\u001b[0m \u001b[0mself\u001b[0m\u001b[0;34m.\u001b[0m\u001b[0m_get_join_info\u001b[0m\u001b[0;34m(\u001b[0m\u001b[0;34m)\u001b[0m\u001b[0;34m\u001b[0m\u001b[0;34m\u001b[0m\u001b[0m\n\u001b[0m\u001b[1;32m    716\u001b[0m \u001b[0;34m\u001b[0m\u001b[0m\n\u001b[1;32m    717\u001b[0m         llabels, rlabels = _items_overlap_with_suffix(\n",
      "\u001b[0;32m/usr/local/lib/python3.7/dist-packages/pandas/core/reshape/merge.py\u001b[0m in \u001b[0;36m_get_join_info\u001b[0;34m(self)\u001b[0m\n\u001b[1;32m    951\u001b[0m         \u001b[0;32mif\u001b[0m \u001b[0mself\u001b[0m\u001b[0;34m.\u001b[0m\u001b[0mleft_index\u001b[0m \u001b[0;32mand\u001b[0m \u001b[0mself\u001b[0m\u001b[0;34m.\u001b[0m\u001b[0mright_index\u001b[0m \u001b[0;32mand\u001b[0m \u001b[0mself\u001b[0m\u001b[0;34m.\u001b[0m\u001b[0mhow\u001b[0m \u001b[0;34m!=\u001b[0m \u001b[0;34m\"asof\"\u001b[0m\u001b[0;34m:\u001b[0m\u001b[0;34m\u001b[0m\u001b[0;34m\u001b[0m\u001b[0m\n\u001b[1;32m    952\u001b[0m             join_index, left_indexer, right_indexer = left_ax.join(\n\u001b[0;32m--> 953\u001b[0;31m                 \u001b[0mright_ax\u001b[0m\u001b[0;34m,\u001b[0m \u001b[0mhow\u001b[0m\u001b[0;34m=\u001b[0m\u001b[0mself\u001b[0m\u001b[0;34m.\u001b[0m\u001b[0mhow\u001b[0m\u001b[0;34m,\u001b[0m \u001b[0mreturn_indexers\u001b[0m\u001b[0;34m=\u001b[0m\u001b[0;32mTrue\u001b[0m\u001b[0;34m,\u001b[0m \u001b[0msort\u001b[0m\u001b[0;34m=\u001b[0m\u001b[0mself\u001b[0m\u001b[0;34m.\u001b[0m\u001b[0msort\u001b[0m\u001b[0;34m\u001b[0m\u001b[0;34m\u001b[0m\u001b[0m\n\u001b[0m\u001b[1;32m    954\u001b[0m             )\n\u001b[1;32m    955\u001b[0m \u001b[0;34m\u001b[0m\u001b[0m\n",
      "\u001b[0;32m/usr/local/lib/python3.7/dist-packages/pandas/core/indexes/base.py\u001b[0m in \u001b[0;36mjoin\u001b[0;34m(self, other, how, level, return_indexers, sort)\u001b[0m\n\u001b[1;32m    205\u001b[0m         \u001b[0msort\u001b[0m\u001b[0;34m:\u001b[0m \u001b[0mbool\u001b[0m \u001b[0;34m=\u001b[0m \u001b[0;32mFalse\u001b[0m\u001b[0;34m,\u001b[0m\u001b[0;34m\u001b[0m\u001b[0;34m\u001b[0m\u001b[0m\n\u001b[1;32m    206\u001b[0m     ):\n\u001b[0;32m--> 207\u001b[0;31m         \u001b[0mjoin_index\u001b[0m\u001b[0;34m,\u001b[0m \u001b[0mlidx\u001b[0m\u001b[0;34m,\u001b[0m \u001b[0mridx\u001b[0m \u001b[0;34m=\u001b[0m \u001b[0mmeth\u001b[0m\u001b[0;34m(\u001b[0m\u001b[0mself\u001b[0m\u001b[0;34m,\u001b[0m \u001b[0mother\u001b[0m\u001b[0;34m,\u001b[0m \u001b[0mhow\u001b[0m\u001b[0;34m=\u001b[0m\u001b[0mhow\u001b[0m\u001b[0;34m,\u001b[0m \u001b[0mlevel\u001b[0m\u001b[0;34m=\u001b[0m\u001b[0mlevel\u001b[0m\u001b[0;34m,\u001b[0m \u001b[0msort\u001b[0m\u001b[0;34m=\u001b[0m\u001b[0msort\u001b[0m\u001b[0;34m)\u001b[0m\u001b[0;34m\u001b[0m\u001b[0;34m\u001b[0m\u001b[0m\n\u001b[0m\u001b[1;32m    208\u001b[0m         \u001b[0;32mif\u001b[0m \u001b[0;32mnot\u001b[0m \u001b[0mreturn_indexers\u001b[0m\u001b[0;34m:\u001b[0m\u001b[0;34m\u001b[0m\u001b[0;34m\u001b[0m\u001b[0m\n\u001b[1;32m    209\u001b[0m             \u001b[0;32mreturn\u001b[0m \u001b[0mjoin_index\u001b[0m\u001b[0;34m\u001b[0m\u001b[0;34m\u001b[0m\u001b[0m\n",
      "\u001b[0;32m/usr/local/lib/python3.7/dist-packages/pandas/core/indexes/base.py\u001b[0m in \u001b[0;36mjoin\u001b[0;34m(self, other, how, level, return_indexers, sort)\u001b[0m\n\u001b[1;32m   3993\u001b[0m         \u001b[0;32melif\u001b[0m \u001b[0;32mnot\u001b[0m \u001b[0mself\u001b[0m\u001b[0;34m.\u001b[0m\u001b[0mis_unique\u001b[0m \u001b[0;32mor\u001b[0m \u001b[0;32mnot\u001b[0m \u001b[0mother\u001b[0m\u001b[0;34m.\u001b[0m\u001b[0mis_unique\u001b[0m\u001b[0;34m:\u001b[0m\u001b[0;34m\u001b[0m\u001b[0;34m\u001b[0m\u001b[0m\n\u001b[1;32m   3994\u001b[0m             \u001b[0;32mif\u001b[0m \u001b[0mself\u001b[0m\u001b[0;34m.\u001b[0m\u001b[0mis_monotonic\u001b[0m \u001b[0;32mand\u001b[0m \u001b[0mother\u001b[0m\u001b[0;34m.\u001b[0m\u001b[0mis_monotonic\u001b[0m\u001b[0;34m:\u001b[0m\u001b[0;34m\u001b[0m\u001b[0;34m\u001b[0m\u001b[0m\n\u001b[0;32m-> 3995\u001b[0;31m                 \u001b[0;32mreturn\u001b[0m \u001b[0mself\u001b[0m\u001b[0;34m.\u001b[0m\u001b[0m_join_monotonic\u001b[0m\u001b[0;34m(\u001b[0m\u001b[0mother\u001b[0m\u001b[0;34m,\u001b[0m \u001b[0mhow\u001b[0m\u001b[0;34m=\u001b[0m\u001b[0mhow\u001b[0m\u001b[0;34m)\u001b[0m\u001b[0;34m\u001b[0m\u001b[0;34m\u001b[0m\u001b[0m\n\u001b[0m\u001b[1;32m   3996\u001b[0m             \u001b[0;32melse\u001b[0m\u001b[0;34m:\u001b[0m\u001b[0;34m\u001b[0m\u001b[0;34m\u001b[0m\u001b[0m\n\u001b[1;32m   3997\u001b[0m                 \u001b[0;32mreturn\u001b[0m \u001b[0mself\u001b[0m\u001b[0;34m.\u001b[0m\u001b[0m_join_non_unique\u001b[0m\u001b[0;34m(\u001b[0m\u001b[0mother\u001b[0m\u001b[0;34m,\u001b[0m \u001b[0mhow\u001b[0m\u001b[0;34m=\u001b[0m\u001b[0mhow\u001b[0m\u001b[0;34m)\u001b[0m\u001b[0;34m\u001b[0m\u001b[0;34m\u001b[0m\u001b[0m\n",
      "\u001b[0;32m/usr/local/lib/python3.7/dist-packages/pandas/core/indexes/base.py\u001b[0m in \u001b[0;36m_join_monotonic\u001b[0;34m(self, other, how)\u001b[0m\n\u001b[1;32m   4323\u001b[0m                 \u001b[0mjoin_array\u001b[0m\u001b[0;34m,\u001b[0m \u001b[0mridx\u001b[0m\u001b[0;34m,\u001b[0m \u001b[0mlidx\u001b[0m \u001b[0;34m=\u001b[0m \u001b[0mother\u001b[0m\u001b[0;34m.\u001b[0m\u001b[0m_left_indexer\u001b[0m\u001b[0;34m(\u001b[0m\u001b[0mself\u001b[0m\u001b[0;34m)\u001b[0m\u001b[0;34m\u001b[0m\u001b[0;34m\u001b[0m\u001b[0m\n\u001b[1;32m   4324\u001b[0m             \u001b[0;32melif\u001b[0m \u001b[0mhow\u001b[0m \u001b[0;34m==\u001b[0m \u001b[0;34m\"inner\"\u001b[0m\u001b[0;34m:\u001b[0m\u001b[0;34m\u001b[0m\u001b[0;34m\u001b[0m\u001b[0m\n\u001b[0;32m-> 4325\u001b[0;31m                 \u001b[0mjoin_array\u001b[0m\u001b[0;34m,\u001b[0m \u001b[0mlidx\u001b[0m\u001b[0;34m,\u001b[0m \u001b[0mridx\u001b[0m \u001b[0;34m=\u001b[0m \u001b[0mself\u001b[0m\u001b[0;34m.\u001b[0m\u001b[0m_inner_indexer\u001b[0m\u001b[0;34m(\u001b[0m\u001b[0mother\u001b[0m\u001b[0;34m)\u001b[0m\u001b[0;34m\u001b[0m\u001b[0;34m\u001b[0m\u001b[0m\n\u001b[0m\u001b[1;32m   4326\u001b[0m             \u001b[0;32melif\u001b[0m \u001b[0mhow\u001b[0m \u001b[0;34m==\u001b[0m \u001b[0;34m\"outer\"\u001b[0m\u001b[0;34m:\u001b[0m\u001b[0;34m\u001b[0m\u001b[0;34m\u001b[0m\u001b[0m\n\u001b[1;32m   4327\u001b[0m                 \u001b[0mjoin_array\u001b[0m\u001b[0;34m,\u001b[0m \u001b[0mlidx\u001b[0m\u001b[0;34m,\u001b[0m \u001b[0mridx\u001b[0m \u001b[0;34m=\u001b[0m \u001b[0mself\u001b[0m\u001b[0;34m.\u001b[0m\u001b[0m_outer_indexer\u001b[0m\u001b[0;34m(\u001b[0m\u001b[0mother\u001b[0m\u001b[0;34m)\u001b[0m\u001b[0;34m\u001b[0m\u001b[0;34m\u001b[0m\u001b[0m\n",
      "\u001b[0;32m/usr/local/lib/python3.7/dist-packages/pandas/core/indexes/base.py\u001b[0m in \u001b[0;36m_inner_indexer\u001b[0;34m(self, other)\u001b[0m\n\u001b[1;32m    332\u001b[0m         \u001b[0msv\u001b[0m \u001b[0;34m=\u001b[0m \u001b[0mself\u001b[0m\u001b[0;34m.\u001b[0m\u001b[0m_get_join_target\u001b[0m\u001b[0;34m(\u001b[0m\u001b[0;34m)\u001b[0m\u001b[0;34m\u001b[0m\u001b[0;34m\u001b[0m\u001b[0m\n\u001b[1;32m    333\u001b[0m         \u001b[0mov\u001b[0m \u001b[0;34m=\u001b[0m \u001b[0mother\u001b[0m\u001b[0;34m.\u001b[0m\u001b[0m_get_join_target\u001b[0m\u001b[0;34m(\u001b[0m\u001b[0;34m)\u001b[0m\u001b[0;34m\u001b[0m\u001b[0;34m\u001b[0m\u001b[0m\n\u001b[0;32m--> 334\u001b[0;31m         \u001b[0mjoined_ndarray\u001b[0m\u001b[0;34m,\u001b[0m \u001b[0mlidx\u001b[0m\u001b[0;34m,\u001b[0m \u001b[0mridx\u001b[0m \u001b[0;34m=\u001b[0m \u001b[0mlibjoin\u001b[0m\u001b[0;34m.\u001b[0m\u001b[0minner_join_indexer\u001b[0m\u001b[0;34m(\u001b[0m\u001b[0msv\u001b[0m\u001b[0;34m,\u001b[0m \u001b[0mov\u001b[0m\u001b[0;34m)\u001b[0m\u001b[0;34m\u001b[0m\u001b[0;34m\u001b[0m\u001b[0m\n\u001b[0m\u001b[1;32m    335\u001b[0m         \u001b[0mjoined\u001b[0m \u001b[0;34m=\u001b[0m \u001b[0mself\u001b[0m\u001b[0;34m.\u001b[0m\u001b[0m_from_join_target\u001b[0m\u001b[0;34m(\u001b[0m\u001b[0mjoined_ndarray\u001b[0m\u001b[0;34m)\u001b[0m\u001b[0;34m\u001b[0m\u001b[0;34m\u001b[0m\u001b[0m\n\u001b[1;32m    336\u001b[0m         \u001b[0;32mreturn\u001b[0m \u001b[0mjoined\u001b[0m\u001b[0;34m,\u001b[0m \u001b[0mlidx\u001b[0m\u001b[0;34m,\u001b[0m \u001b[0mridx\u001b[0m\u001b[0;34m\u001b[0m\u001b[0;34m\u001b[0m\u001b[0m\n",
      "\u001b[0;32m/usr/local/lib/python3.7/dist-packages/pandas/_libs/join.pyx\u001b[0m in \u001b[0;36mpandas._libs.join.inner_join_indexer\u001b[0;34m()\u001b[0m\n",
      "\u001b[0;31mMemoryError\u001b[0m: Unable to allocate 2.09 GiB for an array with shape (279918719,) and data type int64"
     ]
    }
   ],
   "source": [
    "pop_grid_inter = gpd.sjoin(pop_grid_best_wards.set_geometry('5000_buffer'), pop_grid_best_wards, how='inner', predicate='intersects',)"
   ]
  },
  {
   "cell_type": "code",
   "execution_count": 18,
   "id": "4ff29986",
   "metadata": {
    "ExecuteTime": {
     "end_time": "2022-01-13T22:02:54.268126Z",
     "start_time": "2022-01-13T22:02:54.229040Z"
    }
   },
   "outputs": [
    {
     "data": {
      "text/plain": [
       "CAT_B\n",
       "CPT    14187\n",
       "JHB    43433\n",
       "dtype: int64"
      ]
     },
     "execution_count": 18,
     "metadata": {},
     "output_type": "execute_result"
    }
   ],
   "source": [
    "pop_grid_best_wards.groupby('CAT_B').size()"
   ]
  },
  {
   "cell_type": "code",
   "execution_count": 680,
   "id": "5331e339",
   "metadata": {
    "ExecuteTime": {
     "end_time": "2022-02-07T18:40:00.608607Z",
     "start_time": "2022-02-07T18:40:00.570143Z"
    }
   },
   "outputs": [],
   "source": [
    "pop_grid['flag_good_place'] = 0\n",
    "pop_grid.loc[pop_grid['WARD_ID'].isin(best_wards),'flag_good_place'] = 1"
   ]
  },
  {
   "cell_type": "code",
   "execution_count": 682,
   "id": "32605d4f",
   "metadata": {
    "ExecuteTime": {
     "end_time": "2022-02-07T18:41:31.116617Z",
     "start_time": "2022-02-07T18:41:16.505527Z"
    }
   },
   "outputs": [],
   "source": [
    "greenplum.write(pop_grid,'snb_geo_lavka.pop_joburg_capetown_raw')"
   ]
  },
  {
   "cell_type": "code",
   "execution_count": 49,
   "id": "1c5dc84f",
   "metadata": {
    "ExecuteTime": {
     "end_time": "2022-01-14T08:38:05.099366Z",
     "start_time": "2022-01-14T08:38:05.070307Z"
    }
   },
   "outputs": [
    {
     "data": {
      "text/plain": [
       "CAT_B\n",
       "CPT    244.783675\n",
       "JHB    486.854681\n",
       "Name: area_metres, dtype: float64"
      ]
     },
     "execution_count": 49,
     "metadata": {},
     "output_type": "execute_result"
    }
   ],
   "source": [
    " gdf_fin_cpt_jhb_wrd[(gdf_fin_cpt_jhb_wrd.informal_dwell_level<=0.1)&\n",
    "                                 (gdf_fin_cpt_jhb_wrd.higher_educ_level>=0.3)&\n",
    "                                 (gdf_fin_cpt_jhb_wrd.employed_level>=0.45)].groupby('CAT_B')['area_metres'].sum()/(10**6)"
   ]
  },
  {
   "cell_type": "code",
   "execution_count": 53,
   "id": "040d0a8b",
   "metadata": {
    "ExecuteTime": {
     "end_time": "2022-01-14T08:40:30.826475Z",
     "start_time": "2022-01-14T08:40:30.822020Z"
    }
   },
   "outputs": [
    {
     "data": {
      "text/plain": [
       "3.119436937813006"
      ]
     },
     "execution_count": 53,
     "metadata": {},
     "output_type": "execute_result"
    }
   ],
   "source": [
    "245/(25*3.1415926)"
   ]
  },
  {
   "cell_type": "code",
   "execution_count": 54,
   "id": "ca016f9f",
   "metadata": {
    "ExecuteTime": {
     "end_time": "2022-01-14T08:40:40.459715Z",
     "start_time": "2022-01-14T08:40:40.455178Z"
    }
   },
   "outputs": [
    {
     "data": {
      "text/plain": [
       "6.18794429296784"
      ]
     },
     "execution_count": 54,
     "metadata": {},
     "output_type": "execute_result"
    }
   ],
   "source": [
    "486/(25*3.1415926)"
   ]
  },
  {
   "cell_type": "code",
   "execution_count": 22,
   "id": "575f1408",
   "metadata": {
    "ExecuteTime": {
     "end_time": "2022-01-13T22:14:42.317784Z",
     "start_time": "2022-01-13T22:14:42.291132Z"
    },
    "scrolled": true
   },
   "outputs": [
    {
     "data": {
      "text/plain": [
       "CAT_B\n",
       "CPT    2126\n",
       "JHB    6642\n",
       "dtype: int64"
      ]
     },
     "execution_count": 22,
     "metadata": {},
     "output_type": "execute_result"
    }
   ],
   "source": [
    "pop_grid_best_wards[pop_grid_best_wards['pop']>30].groupby('CAT_B').size()"
   ]
  },
  {
   "cell_type": "code",
   "execution_count": null,
   "id": "43a565ae",
   "metadata": {
    "ExecuteTime": {
     "start_time": "2022-01-13T22:15:15.688Z"
    }
   },
   "outputs": [],
   "source": [
    "pop_grid_inter = gpd.sjoin(pop_grid_best_wards[pop_grid_best_wards['pop']>30].set_geometry('5000_buffer'), pop_grid_best_wards, how='inner', predicate='intersects',)"
   ]
  },
  {
   "cell_type": "code",
   "execution_count": 11,
   "id": "97c16e4d",
   "metadata": {
    "ExecuteTime": {
     "end_time": "2022-01-14T07:32:31.087849Z",
     "start_time": "2022-01-14T07:32:30.889785Z"
    }
   },
   "outputs": [],
   "source": [
    "wealth_grid = gpd.read_file('grid_wealth_index_values.geojson', driver='GeoJSON')"
   ]
  },
  {
   "cell_type": "code",
   "execution_count": 12,
   "id": "87658628",
   "metadata": {
    "ExecuteTime": {
     "end_time": "2022-01-14T07:32:32.108909Z",
     "start_time": "2022-01-14T07:32:31.982037Z"
    }
   },
   "outputs": [
    {
     "data": {
      "text/html": [
       "<div>\n",
       "<style scoped>\n",
       "    .dataframe tbody tr th:only-of-type {\n",
       "        vertical-align: middle;\n",
       "    }\n",
       "\n",
       "    .dataframe tbody tr th {\n",
       "        vertical-align: top;\n",
       "    }\n",
       "\n",
       "    .dataframe thead th {\n",
       "        text-align: right;\n",
       "    }\n",
       "</style>\n",
       "<table border=\"1\" class=\"dataframe\">\n",
       "  <thead>\n",
       "    <tr style=\"text-align: right;\">\n",
       "      <th></th>\n",
       "      <th>id</th>\n",
       "      <th>left</th>\n",
       "      <th>top</th>\n",
       "      <th>right</th>\n",
       "      <th>bottom</th>\n",
       "      <th>rwi</th>\n",
       "      <th>geometry</th>\n",
       "    </tr>\n",
       "  </thead>\n",
       "  <tbody>\n",
       "    <tr>\n",
       "      <th>0</th>\n",
       "      <td>330425</td>\n",
       "      <td>3.113266e+06</td>\n",
       "      <td>-2.987925e+06</td>\n",
       "      <td>3.115766e+06</td>\n",
       "      <td>-2.990425e+06</td>\n",
       "      <td>0.774</td>\n",
       "      <td>MULTIPOLYGON (((27.96849 -25.91015, 27.96903 -...</td>\n",
       "    </tr>\n",
       "    <tr>\n",
       "      <th>1</th>\n",
       "      <td>333657</td>\n",
       "      <td>3.125766e+06</td>\n",
       "      <td>-3.005425e+06</td>\n",
       "      <td>3.128266e+06</td>\n",
       "      <td>-3.007925e+06</td>\n",
       "      <td>0.960</td>\n",
       "      <td>MULTIPOLYGON (((28.07923 -26.05121, 28.10169 -...</td>\n",
       "    </tr>\n",
       "    <tr>\n",
       "      <th>2</th>\n",
       "      <td>330428</td>\n",
       "      <td>3.113266e+06</td>\n",
       "      <td>-2.995425e+06</td>\n",
       "      <td>3.115766e+06</td>\n",
       "      <td>-2.997925e+06</td>\n",
       "      <td>0.748</td>\n",
       "      <td>MULTIPOLYGON (((27.96694 -25.97048, 27.98940 -...</td>\n",
       "    </tr>\n",
       "    <tr>\n",
       "      <th>3</th>\n",
       "      <td>333019</td>\n",
       "      <td>3.123266e+06</td>\n",
       "      <td>-3.022925e+06</td>\n",
       "      <td>3.125766e+06</td>\n",
       "      <td>-3.025425e+06</td>\n",
       "      <td>1.165</td>\n",
       "      <td>MULTIPOLYGON (((28.05677 -26.19236, 28.07923 -...</td>\n",
       "    </tr>\n",
       "    <tr>\n",
       "      <th>4</th>\n",
       "      <td>327853</td>\n",
       "      <td>3.103266e+06</td>\n",
       "      <td>-3.007925e+06</td>\n",
       "      <td>3.105766e+06</td>\n",
       "      <td>-3.010425e+06</td>\n",
       "      <td>0.819</td>\n",
       "      <td>MULTIPOLYGON (((27.87711 -26.07139, 27.89957 -...</td>\n",
       "    </tr>\n",
       "    <tr>\n",
       "      <th>...</th>\n",
       "      <td>...</td>\n",
       "      <td>...</td>\n",
       "      <td>...</td>\n",
       "      <td>...</td>\n",
       "      <td>...</td>\n",
       "      <td>...</td>\n",
       "      <td>...</td>\n",
       "    </tr>\n",
       "    <tr>\n",
       "      <th>1098</th>\n",
       "      <td>336239</td>\n",
       "      <td>3.135766e+06</td>\n",
       "      <td>-3.010425e+06</td>\n",
       "      <td>3.138266e+06</td>\n",
       "      <td>-3.012925e+06</td>\n",
       "      <td>NaN</td>\n",
       "      <td>MULTIPOLYGON (((28.18365 -26.09174, 28.18342 -...</td>\n",
       "    </tr>\n",
       "    <tr>\n",
       "      <th>1099</th>\n",
       "      <td>336240</td>\n",
       "      <td>3.135766e+06</td>\n",
       "      <td>-3.012925e+06</td>\n",
       "      <td>3.138266e+06</td>\n",
       "      <td>-3.015425e+06</td>\n",
       "      <td>NaN</td>\n",
       "      <td>MULTIPOLYGON (((28.17961 -26.11421, 28.17985 -...</td>\n",
       "    </tr>\n",
       "    <tr>\n",
       "      <th>1100</th>\n",
       "      <td>336879</td>\n",
       "      <td>3.138266e+06</td>\n",
       "      <td>-2.997925e+06</td>\n",
       "      <td>3.140766e+06</td>\n",
       "      <td>-3.000425e+06</td>\n",
       "      <td>NaN</td>\n",
       "      <td>MULTIPOLYGON (((28.21391 -25.99162, 28.21398 -...</td>\n",
       "    </tr>\n",
       "    <tr>\n",
       "      <th>1101</th>\n",
       "      <td>336880</td>\n",
       "      <td>3.138266e+06</td>\n",
       "      <td>-3.000425e+06</td>\n",
       "      <td>3.140766e+06</td>\n",
       "      <td>-3.002925e+06</td>\n",
       "      <td>NaN</td>\n",
       "      <td>MULTIPOLYGON (((28.19279 -26.01101, 28.19152 -...</td>\n",
       "    </tr>\n",
       "    <tr>\n",
       "      <th>1102</th>\n",
       "      <td>337524</td>\n",
       "      <td>3.140766e+06</td>\n",
       "      <td>-2.997925e+06</td>\n",
       "      <td>3.143266e+06</td>\n",
       "      <td>-3.000425e+06</td>\n",
       "      <td>NaN</td>\n",
       "      <td>MULTIPOLYGON (((28.21400 -25.99209, 28.21446 -...</td>\n",
       "    </tr>\n",
       "  </tbody>\n",
       "</table>\n",
       "<p>1103 rows × 7 columns</p>\n",
       "</div>"
      ],
      "text/plain": [
       "          id          left           top         right        bottom    rwi  \\\n",
       "0     330425  3.113266e+06 -2.987925e+06  3.115766e+06 -2.990425e+06  0.774   \n",
       "1     333657  3.125766e+06 -3.005425e+06  3.128266e+06 -3.007925e+06  0.960   \n",
       "2     330428  3.113266e+06 -2.995425e+06  3.115766e+06 -2.997925e+06  0.748   \n",
       "3     333019  3.123266e+06 -3.022925e+06  3.125766e+06 -3.025425e+06  1.165   \n",
       "4     327853  3.103266e+06 -3.007925e+06  3.105766e+06 -3.010425e+06  0.819   \n",
       "...      ...           ...           ...           ...           ...    ...   \n",
       "1098  336239  3.135766e+06 -3.010425e+06  3.138266e+06 -3.012925e+06    NaN   \n",
       "1099  336240  3.135766e+06 -3.012925e+06  3.138266e+06 -3.015425e+06    NaN   \n",
       "1100  336879  3.138266e+06 -2.997925e+06  3.140766e+06 -3.000425e+06    NaN   \n",
       "1101  336880  3.138266e+06 -3.000425e+06  3.140766e+06 -3.002925e+06    NaN   \n",
       "1102  337524  3.140766e+06 -2.997925e+06  3.143266e+06 -3.000425e+06    NaN   \n",
       "\n",
       "                                               geometry  \n",
       "0     MULTIPOLYGON (((27.96849 -25.91015, 27.96903 -...  \n",
       "1     MULTIPOLYGON (((28.07923 -26.05121, 28.10169 -...  \n",
       "2     MULTIPOLYGON (((27.96694 -25.97048, 27.98940 -...  \n",
       "3     MULTIPOLYGON (((28.05677 -26.19236, 28.07923 -...  \n",
       "4     MULTIPOLYGON (((27.87711 -26.07139, 27.89957 -...  \n",
       "...                                                 ...  \n",
       "1098  MULTIPOLYGON (((28.18365 -26.09174, 28.18342 -...  \n",
       "1099  MULTIPOLYGON (((28.17961 -26.11421, 28.17985 -...  \n",
       "1100  MULTIPOLYGON (((28.21391 -25.99162, 28.21398 -...  \n",
       "1101  MULTIPOLYGON (((28.19279 -26.01101, 28.19152 -...  \n",
       "1102  MULTIPOLYGON (((28.21400 -25.99209, 28.21446 -...  \n",
       "\n",
       "[1103 rows x 7 columns]"
      ]
     },
     "execution_count": 12,
     "metadata": {},
     "output_type": "execute_result"
    }
   ],
   "source": [
    "wealth_grid"
   ]
  },
  {
   "cell_type": "code",
   "execution_count": 21,
   "id": "a1b65e4d",
   "metadata": {
    "ExecuteTime": {
     "end_time": "2022-01-14T07:46:47.129398Z",
     "start_time": "2022-01-14T07:46:46.720726Z"
    }
   },
   "outputs": [
    {
     "name": "stderr",
     "output_type": "stream",
     "text": [
      "/usr/local/lib/python3.7/dist-packages/IPython/core/interactiveshell.py:3377: FutureWarning: The `op` parameter is deprecated and will be removed in a future release. Please use the `predicate` parameter instead.\n",
      "  if (await self.run_code(code, result,  async_=asy)):\n"
     ]
    }
   ],
   "source": [
    "pop_grid_best_wards_wealth = gpd.sjoin(pop_grid_best_wards.drop('index_right', axis=1), wealth_grid[wealth_grid.rwi>=1], op='intersects', how='inner')"
   ]
  },
  {
   "cell_type": "code",
   "execution_count": 22,
   "id": "bcc466d4",
   "metadata": {
    "ExecuteTime": {
     "end_time": "2022-01-14T07:46:48.146827Z",
     "start_time": "2022-01-14T07:46:48.143470Z"
    }
   },
   "outputs": [
    {
     "data": {
      "text/plain": [
       "(41818, 11)"
      ]
     },
     "execution_count": 22,
     "metadata": {},
     "output_type": "execute_result"
    }
   ],
   "source": [
    "pop_grid_best_wards_wealth.shape"
   ]
  },
  {
   "cell_type": "code",
   "execution_count": 23,
   "id": "6f5113be",
   "metadata": {
    "ExecuteTime": {
     "end_time": "2022-01-14T07:46:49.101572Z",
     "start_time": "2022-01-14T07:46:49.088617Z"
    }
   },
   "outputs": [
    {
     "data": {
      "text/plain": [
       "CAT_B\n",
       "CPT    10073\n",
       "JHB    31745\n",
       "dtype: int64"
      ]
     },
     "execution_count": 23,
     "metadata": {},
     "output_type": "execute_result"
    }
   ],
   "source": [
    "pop_grid_best_wards_wealth.groupby('CAT_B').size()"
   ]
  },
  {
   "cell_type": "code",
   "execution_count": 24,
   "id": "98757e8b",
   "metadata": {
    "ExecuteTime": {
     "end_time": "2022-01-14T07:46:49.681641Z",
     "start_time": "2022-01-14T07:46:49.667702Z"
    }
   },
   "outputs": [
    {
     "data": {
      "text/plain": [
       "CAT_B\n",
       "CPT    190183\n",
       "JHB    619860\n",
       "Name: pop, dtype: int64"
      ]
     },
     "execution_count": 24,
     "metadata": {},
     "output_type": "execute_result"
    }
   ],
   "source": [
    "pop_grid_best_wards_wealth.groupby('CAT_B')['pop'].sum()"
   ]
  },
  {
   "cell_type": "code",
   "execution_count": 25,
   "id": "51a51efa",
   "metadata": {
    "ExecuteTime": {
     "end_time": "2022-01-14T07:49:16.676567Z",
     "start_time": "2022-01-14T07:49:16.661512Z"
    }
   },
   "outputs": [
    {
     "data": {
      "text/plain": [
       "CAT_B\n",
       "CPT    1.332676\n",
       "JHB    1.296191\n",
       "Name: rwi, dtype: float64"
      ]
     },
     "execution_count": 25,
     "metadata": {},
     "output_type": "execute_result"
    }
   ],
   "source": [
    "pop_grid_best_wards_wealth.groupby('CAT_B')['rwi'].mean()"
   ]
  },
  {
   "cell_type": "code",
   "execution_count": 26,
   "id": "516517c7",
   "metadata": {
    "ExecuteTime": {
     "end_time": "2022-01-14T07:50:13.258525Z",
     "start_time": "2022-01-14T07:50:13.255483Z"
    }
   },
   "outputs": [],
   "source": [
    "import seaborn as sns"
   ]
  },
  {
   "cell_type": "code",
   "execution_count": 32,
   "id": "7e955463",
   "metadata": {
    "ExecuteTime": {
     "end_time": "2022-01-14T07:52:34.931316Z",
     "start_time": "2022-01-14T07:52:34.585275Z"
    }
   },
   "outputs": [
    {
     "data": {
      "text/plain": [
       "<AxesSubplot:xlabel='rwi', ylabel='Count'>"
      ]
     },
     "execution_count": 32,
     "metadata": {},
     "output_type": "execute_result"
    },
    {
     "data": {
      "image/png": "[encoded data removed]",
      "text/plain": [
       "<Figure size 432x288 with 1 Axes>"
      ]
     },
     "metadata": {
      "needs_background": "light"
     },
     "output_type": "display_data"
    }
   ],
   "source": [
    "sns.histplot(pop_grid_best_wards_wealth[pop_grid_best_wards_wealth['CAT_B']=='CPT']['rwi'])\n",
    "sns.histplot(pop_grid_best_wards_wealth[pop_grid_best_wards_wealth['CAT_B']=='JHB']['rwi'],color='red', alpha=0.5)"
   ]
  },
  {
   "cell_type": "code",
   "execution_count": 35,
   "id": "2086fd27",
   "metadata": {
    "ExecuteTime": {
     "end_time": "2022-01-14T07:59:01.483437Z",
     "start_time": "2022-01-14T07:59:01.480413Z"
    }
   },
   "outputs": [],
   "source": [
    "from sklearn.cluster import KMeans"
   ]
  },
  {
   "cell_type": "code",
   "execution_count": 68,
   "id": "5c181c54",
   "metadata": {
    "ExecuteTime": {
     "end_time": "2022-01-15T11:55:29.157941Z",
     "start_time": "2022-01-15T11:55:29.154975Z"
    }
   },
   "outputs": [],
   "source": [
    " km= KMeans(n_clusters=7)"
   ]
  },
  {
   "cell_type": "code",
   "execution_count": 65,
   "id": "08e2b4c1",
   "metadata": {
    "ExecuteTime": {
     "end_time": "2022-01-15T11:54:18.152054Z",
     "start_time": "2022-01-15T11:54:18.148976Z"
    }
   },
   "outputs": [],
   "source": [
    "km10= KMeans(n_clusters=10)"
   ]
  },
  {
   "cell_type": "code",
   "execution_count": 57,
   "id": "72fcfbf4",
   "metadata": {
    "ExecuteTime": {
     "end_time": "2022-01-15T11:42:03.568320Z",
     "start_time": "2022-01-15T11:42:03.416262Z"
    }
   },
   "outputs": [
    {
     "data": {
      "text/html": [
       "<div>\n",
       "<style scoped>\n",
       "    .dataframe tbody tr th:only-of-type {\n",
       "        vertical-align: middle;\n",
       "    }\n",
       "\n",
       "    .dataframe tbody tr th {\n",
       "        vertical-align: top;\n",
       "    }\n",
       "\n",
       "    .dataframe thead th {\n",
       "        text-align: right;\n",
       "    }\n",
       "</style>\n",
       "<table border=\"1\" class=\"dataframe\">\n",
       "  <thead>\n",
       "    <tr style=\"text-align: right;\">\n",
       "      <th></th>\n",
       "      <th>pop</th>\n",
       "      <th>index_right</th>\n",
       "      <th>CAT_B</th>\n",
       "      <th>WARD_ID</th>\n",
       "      <th>geometry</th>\n",
       "    </tr>\n",
       "  </thead>\n",
       "  <tbody>\n",
       "    <tr>\n",
       "      <th>8727</th>\n",
       "      <td>2</td>\n",
       "      <td>111</td>\n",
       "      <td>JHB</td>\n",
       "      <td>79800112</td>\n",
       "      <td>POLYGON ((28.07792 -25.92208, 28.07792 -25.922...</td>\n",
       "    </tr>\n",
       "    <tr>\n",
       "      <th>8728</th>\n",
       "      <td>5</td>\n",
       "      <td>111</td>\n",
       "      <td>JHB</td>\n",
       "      <td>79800112</td>\n",
       "      <td>POLYGON ((28.07625 -25.92375, 28.07625 -25.924...</td>\n",
       "    </tr>\n",
       "    <tr>\n",
       "      <th>8729</th>\n",
       "      <td>2</td>\n",
       "      <td>111</td>\n",
       "      <td>JHB</td>\n",
       "      <td>79800112</td>\n",
       "      <td>POLYGON ((28.07958 -25.92458, 28.07958 -25.925...</td>\n",
       "    </tr>\n",
       "    <tr>\n",
       "      <th>8730</th>\n",
       "      <td>2</td>\n",
       "      <td>111</td>\n",
       "      <td>JHB</td>\n",
       "      <td>79800112</td>\n",
       "      <td>POLYGON ((28.08375 -25.92458, 28.08375 -25.925...</td>\n",
       "    </tr>\n",
       "    <tr>\n",
       "      <th>8731</th>\n",
       "      <td>5</td>\n",
       "      <td>111</td>\n",
       "      <td>JHB</td>\n",
       "      <td>79800112</td>\n",
       "      <td>POLYGON ((28.08458 -25.92458, 28.08458 -25.925...</td>\n",
       "    </tr>\n",
       "    <tr>\n",
       "      <th>...</th>\n",
       "      <td>...</td>\n",
       "      <td>...</td>\n",
       "      <td>...</td>\n",
       "      <td>...</td>\n",
       "      <td>...</td>\n",
       "    </tr>\n",
       "    <tr>\n",
       "      <th>193551</th>\n",
       "      <td>8</td>\n",
       "      <td>202</td>\n",
       "      <td>CPT</td>\n",
       "      <td>19100073</td>\n",
       "      <td>POLYGON ((18.46292 -34.04208, 18.46292 -34.042...</td>\n",
       "    </tr>\n",
       "    <tr>\n",
       "      <th>193552</th>\n",
       "      <td>30</td>\n",
       "      <td>202</td>\n",
       "      <td>CPT</td>\n",
       "      <td>19100073</td>\n",
       "      <td>POLYGON ((18.46375 -34.04208, 18.46375 -34.043...</td>\n",
       "    </tr>\n",
       "    <tr>\n",
       "      <th>193553</th>\n",
       "      <td>33</td>\n",
       "      <td>202</td>\n",
       "      <td>CPT</td>\n",
       "      <td>19100073</td>\n",
       "      <td>POLYGON ((18.46542 -34.04208, 18.46542 -34.042...</td>\n",
       "    </tr>\n",
       "    <tr>\n",
       "      <th>193554</th>\n",
       "      <td>5</td>\n",
       "      <td>202</td>\n",
       "      <td>CPT</td>\n",
       "      <td>19100073</td>\n",
       "      <td>POLYGON ((18.46625 -34.04208, 18.46625 -34.042...</td>\n",
       "    </tr>\n",
       "    <tr>\n",
       "      <th>193555</th>\n",
       "      <td>8</td>\n",
       "      <td>202</td>\n",
       "      <td>CPT</td>\n",
       "      <td>19100073</td>\n",
       "      <td>POLYGON ((18.46625 -34.04292, 18.46625 -34.043...</td>\n",
       "    </tr>\n",
       "  </tbody>\n",
       "</table>\n",
       "<p>57620 rows × 5 columns</p>\n",
       "</div>"
      ],
      "text/plain": [
       "        pop  index_right CAT_B   WARD_ID  \\\n",
       "8727      2          111   JHB  79800112   \n",
       "8728      5          111   JHB  79800112   \n",
       "8729      2          111   JHB  79800112   \n",
       "8730      2          111   JHB  79800112   \n",
       "8731      5          111   JHB  79800112   \n",
       "...     ...          ...   ...       ...   \n",
       "193551    8          202   CPT  19100073   \n",
       "193552   30          202   CPT  19100073   \n",
       "193553   33          202   CPT  19100073   \n",
       "193554    5          202   CPT  19100073   \n",
       "193555    8          202   CPT  19100073   \n",
       "\n",
       "                                                 geometry  \n",
       "8727    POLYGON ((28.07792 -25.92208, 28.07792 -25.922...  \n",
       "8728    POLYGON ((28.07625 -25.92375, 28.07625 -25.924...  \n",
       "8729    POLYGON ((28.07958 -25.92458, 28.07958 -25.925...  \n",
       "8730    POLYGON ((28.08375 -25.92458, 28.08375 -25.925...  \n",
       "8731    POLYGON ((28.08458 -25.92458, 28.08458 -25.925...  \n",
       "...                                                   ...  \n",
       "193551  POLYGON ((18.46292 -34.04208, 18.46292 -34.042...  \n",
       "193552  POLYGON ((18.46375 -34.04208, 18.46375 -34.043...  \n",
       "193553  POLYGON ((18.46542 -34.04208, 18.46542 -34.042...  \n",
       "193554  POLYGON ((18.46625 -34.04208, 18.46625 -34.042...  \n",
       "193555  POLYGON ((18.46625 -34.04292, 18.46625 -34.043...  \n",
       "\n",
       "[57620 rows x 5 columns]"
      ]
     },
     "execution_count": 57,
     "metadata": {},
     "output_type": "execute_result"
    }
   ],
   "source": [
    "pop_grid_best_wards"
   ]
  },
  {
   "cell_type": "code",
   "execution_count": 60,
   "id": "cd9b825b",
   "metadata": {
    "ExecuteTime": {
     "end_time": "2022-01-15T11:53:14.228255Z",
     "start_time": "2022-01-15T11:53:13.886705Z"
    },
    "scrolled": true
   },
   "outputs": [
    {
     "name": "stderr",
     "output_type": "stream",
     "text": [
      "/usr/local/lib/python3.7/dist-packages/ipykernel_launcher.py:1: UserWarning: Geometry is in a geographic CRS. Results from 'centroid' are likely incorrect. Use 'GeoSeries.to_crs()' to re-project geometries to a projected CRS before this operation.\n",
      "\n",
      "  \"\"\"Entry point for launching an IPython kernel.\n",
      "/usr/local/lib/python3.7/dist-packages/geopandas/geodataframe.py:1351: SettingWithCopyWarning: \n",
      "A value is trying to be set on a copy of a slice from a DataFrame.\n",
      "Try using .loc[row_indexer,col_indexer] = value instead\n",
      "\n",
      "See the caveats in the documentation: https://pandas.pydata.org/pandas-docs/stable/user_guide/indexing.html#returning-a-view-versus-a-copy\n",
      "  super().__setitem__(key, value)\n",
      "/usr/local/lib/python3.7/dist-packages/ipykernel_launcher.py:2: UserWarning: Geometry is in a geographic CRS. Results from 'centroid' are likely incorrect. Use 'GeoSeries.to_crs()' to re-project geometries to a projected CRS before this operation.\n",
      "\n",
      "  \n",
      "/usr/local/lib/python3.7/dist-packages/geopandas/geodataframe.py:1351: SettingWithCopyWarning: \n",
      "A value is trying to be set on a copy of a slice from a DataFrame.\n",
      "Try using .loc[row_indexer,col_indexer] = value instead\n",
      "\n",
      "See the caveats in the documentation: https://pandas.pydata.org/pandas-docs/stable/user_guide/indexing.html#returning-a-view-versus-a-copy\n",
      "  super().__setitem__(key, value)\n"
     ]
    }
   ],
   "source": [
    "pop_grid_best_wards['x'] = pop_grid_best_wards.geometry.centroid.x\n",
    "pop_grid_best_wards['y'] = pop_grid_best_wards.geometry.centroid.y"
   ]
  },
  {
   "cell_type": "code",
   "execution_count": 70,
   "id": "c49b36ca",
   "metadata": {
    "ExecuteTime": {
     "end_time": "2022-01-15T11:57:11.874106Z",
     "start_time": "2022-01-15T11:57:09.317510Z"
    }
   },
   "outputs": [
    {
     "name": "stderr",
     "output_type": "stream",
     "text": [
      "/usr/local/lib/python3.7/dist-packages/pandas/core/indexing.py:1773: SettingWithCopyWarning: \n",
      "A value is trying to be set on a copy of a slice from a DataFrame.\n",
      "Try using .loc[row_indexer,col_indexer] = value instead\n",
      "\n",
      "See the caveats in the documentation: https://pandas.pydata.org/pandas-docs/stable/user_guide/indexing.html#returning-a-view-versus-a-copy\n",
      "  self._setitem_single_column(ilocs[0], value, pi)\n"
     ]
    }
   ],
   "source": [
    "pop_grid_best_wards.loc[pop_grid_best_wards['CAT_B']=='JHB','cluster'] = km.fit_predict(pop_grid_best_wards.loc[pop_grid_best_wards['CAT_B']=='JHB',['x','y']])"
   ]
  },
  {
   "cell_type": "code",
   "execution_count": 73,
   "id": "6ea06a79",
   "metadata": {
    "ExecuteTime": {
     "end_time": "2022-01-15T12:01:57.653211Z",
     "start_time": "2022-01-15T12:01:47.857307Z"
    }
   },
   "outputs": [
    {
     "data": {
      "text/plain": [
       "<AxesSubplot:>"
      ]
     },
     "execution_count": 73,
     "metadata": {},
     "output_type": "execute_result"
    },
    {
     "data": {
      "image/png": "[encoded data removed]",
      "text/plain": [
       "<Figure size 864x504 with 1 Axes>"
      ]
     },
     "metadata": {
      "needs_background": "light"
     },
     "output_type": "display_data"
    }
   ],
   "source": [
    "pop_grid_best_wards.loc[pop_grid_best_wards['CAT_B']=='JHB'].plot(column ='cluster', figsize=(12,7))"
   ]
  },
  {
   "cell_type": "code",
   "execution_count": 97,
   "id": "24a4e14a",
   "metadata": {
    "ExecuteTime": {
     "end_time": "2022-01-15T12:51:27.702143Z",
     "start_time": "2022-01-15T12:51:09.382156Z"
    }
   },
   "outputs": [],
   "source": [
    "dict_clusters={0:pop_grid_best_wards[pop_grid_best_wards.cluster==0].unary_union.convex_hull,\n",
    " 2:pop_grid_best_wards[pop_grid_best_wards.cluster==2].unary_union.convex_hull,\n",
    "  3:pop_grid_best_wards[pop_grid_best_wards.cluster==3].unary_union.convex_hull,\n",
    " 4:pop_grid_best_wards[pop_grid_best_wards.cluster==4].unary_union.convex_hull,\n",
    " 5:pop_grid_best_wards[pop_grid_best_wards.cluster==5].unary_union.convex_hull,\n",
    " 6:pop_grid_best_wards[pop_grid_best_wards.cluster==6].unary_union.convex_hull}"
   ]
  },
  {
   "cell_type": "code",
   "execution_count": 98,
   "id": "577ee4ff",
   "metadata": {
    "ExecuteTime": {
     "end_time": "2022-01-15T12:51:27.724560Z",
     "start_time": "2022-01-15T12:51:27.704153Z"
    }
   },
   "outputs": [],
   "source": [
    "df_clusters = pd.DataFrame(pd.Series(dict_clusters))\n",
    "df_clusters.columns = ['geometry']\n",
    "gdf_clusters=gf.get_gdf(df_clusters, 'geometry', 4326)"
   ]
  },
  {
   "cell_type": "code",
   "execution_count": 100,
   "id": "4d808d4c",
   "metadata": {
    "ExecuteTime": {
     "end_time": "2022-01-15T12:51:48.319936Z",
     "start_time": "2022-01-15T12:51:48.253899Z"
    }
   },
   "outputs": [],
   "source": [
    "gdf_clusters = gdf_clusters.join(pop_grid_best_wards[pop_grid_best_wards['CAT_B']=='JHB'].groupby('cluster')['pop'].sum())"
   ]
  },
  {
   "cell_type": "code",
   "execution_count": 101,
   "id": "41ab272a",
   "metadata": {
    "ExecuteTime": {
     "end_time": "2022-01-15T12:52:06.526099Z",
     "start_time": "2022-01-15T12:52:06.420514Z"
    }
   },
   "outputs": [],
   "source": [
    "gdf_clusters.to_file('gdf_clusters.geojson', driver='GeoJSON')"
   ]
  },
  {
   "cell_type": "code",
   "execution_count": 103,
   "id": "d99fe838",
   "metadata": {
    "ExecuteTime": {
     "end_time": "2022-01-15T13:00:18.210891Z",
     "start_time": "2022-01-15T13:00:05.755441Z"
    }
   },
   "outputs": [],
   "source": [
    "pop_grid_best_wards.to_file('pop_grid_best_wards_clusters.geojson', driver='GeoJSON')"
   ]
  },
  {
   "cell_type": "markdown",
   "id": "429cf4b6",
   "metadata": {},
   "source": [
    "### 2-ой способ spopt"
   ]
  },
  {
   "cell_type": "code",
   "execution_count": 104,
   "id": "e3d1acf2",
   "metadata": {
    "ExecuteTime": {
     "end_time": "2022-01-15T15:00:48.460661Z",
     "start_time": "2022-01-15T15:00:45.117712Z"
    },
    "scrolled": true
   },
   "outputs": [
    {
     "name": "stdout",
     "output_type": "stream",
     "text": [
      "Defaulting to user installation because normal site-packages is not writeable\n",
      "Looking in indexes: https://pypi.yandex-team.ru/simple\n",
      "Requirement already satisfied: spopt in /usr/local/lib/python3.7/dist-packages (0.1.2)\n",
      "Collecting spopt\n",
      "  Downloading https://pypi.yandex-team.ru/repo/default/download/spopt/878166/spopt-0.2.1-py3-none-any.whl (81 kB)\n",
      "     |████████████████████████████████| 81 kB 7.1 MB/s            \n",
      "\u001b[?25hRequirement already satisfied: geopandas>=0.7 in /usr/local/lib/python3.7/dist-packages (from spopt) (0.10.2)\n",
      "Requirement already satisfied: pandas>=1 in /usr/local/lib/python3.7/dist-packages (from spopt) (1.3.5)\n",
      "Requirement already satisfied: spaghetti in /usr/local/lib/python3.7/dist-packages (from spopt) (1.6.2)\n",
      "Requirement already satisfied: pulp in /usr/local/lib/python3.7/dist-packages (from spopt) (2.4)\n",
      "Requirement already satisfied: numpy>=1.3 in /usr/local/lib/python3.7/dist-packages (from spopt) (1.21.5)\n",
      "Requirement already satisfied: networkx in /usr/local/lib/python3.7/dist-packages (from spopt) (2.5.1)\n",
      "Requirement already satisfied: scipy>=0.11 in /usr/local/lib/python3.7/dist-packages (from spopt) (1.7.3)\n",
      "Requirement already satisfied: scikit-learn>=0.22 in /usr/local/lib/python3.7/dist-packages (from spopt) (1.0.2)\n",
      "Requirement already satisfied: libpysal in /usr/local/lib/python3.7/dist-packages (from spopt) (4.5.1)\n",
      "Requirement already satisfied: pyproj>=2.2.0 in /usr/local/lib/python3.7/dist-packages (from geopandas>=0.7->spopt) (3.1.0)\n",
      "Requirement already satisfied: fiona>=1.8 in /usr/local/lib/python3.7/dist-packages (from geopandas>=0.7->spopt) (1.8.20)\n",
      "Requirement already satisfied: shapely>=1.6 in /usr/local/lib/python3.7/dist-packages (from geopandas>=0.7->spopt) (1.8.0)\n",
      "Requirement already satisfied: pytz>=2017.3 in /usr/local/lib/python3.7/dist-packages (from pandas>=1->spopt) (2021.3)\n",
      "Requirement already satisfied: python-dateutil>=2.7.3 in ./.local/lib/python3.7/site-packages (from pandas>=1->spopt) (2.8.0)\n",
      "Requirement already satisfied: joblib>=0.11 in /usr/local/lib/python3.7/dist-packages (from scikit-learn>=0.22->spopt) (1.0.1)\n",
      "Requirement already satisfied: threadpoolctl>=2.0.0 in /usr/local/lib/python3.7/dist-packages (from scikit-learn>=0.22->spopt) (2.1.0)\n",
      "Requirement already satisfied: requests in /usr/local/lib/python3.7/dist-packages (from libpysal->spopt) (2.27.1)\n",
      "Requirement already satisfied: jinja2 in /usr/local/lib/python3.7/dist-packages (from libpysal->spopt) (3.0.1)\n",
      "Requirement already satisfied: beautifulsoup4 in /usr/local/lib/python3.7/dist-packages (from libpysal->spopt) (4.10.0)\n",
      "Requirement already satisfied: decorator<5,>=4.3 in ./.local/lib/python3.7/site-packages (from networkx->spopt) (4.4.2)\n",
      "Requirement already satisfied: amply>=0.1.2 in /usr/local/lib/python3.7/dist-packages (from pulp->spopt) (0.1.4)\n",
      "Requirement already satisfied: esda in /usr/local/lib/python3.7/dist-packages (from spaghetti->spopt) (2.4.1)\n",
      "Requirement already satisfied: rtree in /usr/local/lib/python3.7/dist-packages (from spaghetti->spopt) (0.9.7)\n",
      "Requirement already satisfied: docutils>=0.3 in /usr/local/lib/python3.7/dist-packages (from amply>=0.1.2->pulp->spopt) (0.17.1)\n",
      "Requirement already satisfied: pyparsing in /usr/local/lib/python3.7/dist-packages (from amply>=0.1.2->pulp->spopt) (2.4.7)\n",
      "Requirement already satisfied: setuptools in /usr/local/lib/python3.7/dist-packages (from fiona>=1.8->geopandas>=0.7->spopt) (60.5.0)\n",
      "Requirement already satisfied: attrs>=17 in /usr/local/lib/python3.7/dist-packages (from fiona>=1.8->geopandas>=0.7->spopt) (21.2.0)\n",
      "Requirement already satisfied: munch in /usr/local/lib/python3.7/dist-packages (from fiona>=1.8->geopandas>=0.7->spopt) (2.5.0)\n",
      "Requirement already satisfied: click-plugins>=1.0 in /usr/local/lib/python3.7/dist-packages (from fiona>=1.8->geopandas>=0.7->spopt) (1.1.1)\n",
      "Requirement already satisfied: cligj>=0.5 in /usr/local/lib/python3.7/dist-packages (from fiona>=1.8->geopandas>=0.7->spopt) (0.7.2)\n",
      "Requirement already satisfied: certifi in /usr/local/lib/python3.7/dist-packages (from fiona>=1.8->geopandas>=0.7->spopt) (2021.10.8)\n",
      "Requirement already satisfied: six>=1.7 in /usr/local/lib/python3.7/dist-packages (from fiona>=1.8->geopandas>=0.7->spopt) (1.16.0)\n",
      "Requirement already satisfied: click>=4.0 in /usr/local/lib/python3.7/dist-packages (from fiona>=1.8->geopandas>=0.7->spopt) (8.0.1)\n",
      "Requirement already satisfied: soupsieve>1.2 in /usr/local/lib/python3.7/dist-packages (from beautifulsoup4->libpysal->spopt) (2.2.1)\n",
      "Requirement already satisfied: MarkupSafe>=2.0 in /usr/local/lib/python3.7/dist-packages (from jinja2->libpysal->spopt) (2.0.1)\n",
      "Requirement already satisfied: charset-normalizer~=2.0.0 in /usr/local/lib/python3.7/dist-packages (from requests->libpysal->spopt) (2.0.4)\n",
      "Requirement already satisfied: idna<4,>=2.5 in /usr/local/lib/python3.7/dist-packages (from requests->libpysal->spopt) (3.2)\n",
      "Requirement already satisfied: urllib3<1.27,>=1.21.1 in /usr/local/lib/python3.7/dist-packages (from requests->libpysal->spopt) (1.26.5)\n",
      "Requirement already satisfied: importlib-metadata in /usr/local/lib/python3.7/dist-packages (from click>=4.0->fiona>=1.8->geopandas>=0.7->spopt) (3.10.1)\n",
      "Requirement already satisfied: zipp>=0.5 in /usr/local/lib/python3.7/dist-packages (from importlib-metadata->click>=4.0->fiona>=1.8->geopandas>=0.7->spopt) (3.4.1)\n",
      "Requirement already satisfied: typing-extensions>=3.6.4 in /usr/local/lib/python3.7/dist-packages (from importlib-metadata->click>=4.0->fiona>=1.8->geopandas>=0.7->spopt) (3.7.4.3)\n",
      "Installing collected packages: spopt\n",
      "Successfully installed spopt-0.2.1\n"
     ]
    }
   ],
   "source": [
    "!pip install -U spopt"
   ]
  },
  {
   "cell_type": "code",
   "execution_count": 105,
   "id": "5562b46f",
   "metadata": {
    "ExecuteTime": {
     "end_time": "2022-01-15T15:08:22.019963Z",
     "start_time": "2022-01-15T15:08:19.939167Z"
    }
   },
   "outputs": [],
   "source": [
    "import spopt"
   ]
  },
  {
   "cell_type": "code",
   "execution_count": 106,
   "id": "b7d562b5",
   "metadata": {
    "ExecuteTime": {
     "end_time": "2022-01-15T15:20:30.591372Z",
     "start_time": "2022-01-15T15:20:30.585296Z"
    }
   },
   "outputs": [],
   "source": [
    "import libpysal"
   ]
  },
  {
   "cell_type": "code",
   "execution_count": 159,
   "id": "5ff552bc",
   "metadata": {
    "ExecuteTime": {
     "end_time": "2022-01-16T07:14:46.410403Z",
     "start_time": "2022-01-16T07:14:46.340624Z"
    }
   },
   "outputs": [
    {
     "name": "stderr",
     "output_type": "stream",
     "text": [
      "/usr/local/lib/python3.7/dist-packages/libpysal/weights/_contW_lists.py:31: ShapelyDeprecationWarning: Iteration over multi-part geometries is deprecated and will be removed in Shapely 2.0. Use the `geoms` property to access the constituent parts of a multi-part geometry.\n",
      "  return list(it.chain(*(_get_boundary_points(part.boundary) for part in shape)))\n",
      "/usr/local/lib/python3.7/dist-packages/libpysal/weights/weights.py:172: UserWarning: The weights matrix is not fully connected: \n",
      " There are 6 disconnected components.\n",
      " There is 1 island with id: 25.\n",
      "  warnings.warn(message)\n"
     ]
    }
   ],
   "source": [
    "w = libpysal.weights.Queen.from_dataframe(gdf_fin_cpt_jhb_wrd_bests)"
   ]
  },
  {
   "cell_type": "code",
   "execution_count": 178,
   "id": "92960cc3",
   "metadata": {
    "ExecuteTime": {
     "end_time": "2022-01-16T07:19:57.703097Z",
     "start_time": "2022-01-16T07:19:57.698755Z"
    }
   },
   "outputs": [
    {
     "data": {
      "text/plain": [
       "<libpysal.weights.contiguity.Queen at 0x7f55d1e6b410>"
      ]
     },
     "execution_count": 178,
     "metadata": {},
     "output_type": "execute_result"
    }
   ],
   "source": [
    "w"
   ]
  },
  {
   "cell_type": "code",
   "execution_count": 160,
   "id": "51ec0473",
   "metadata": {
    "ExecuteTime": {
     "end_time": "2022-01-16T07:15:03.486748Z",
     "start_time": "2022-01-16T07:15:03.483148Z"
    }
   },
   "outputs": [],
   "source": [
    "gdf_fin_cpt_jhb_wrd_bests.reset_index(inplace=True)"
   ]
  },
  {
   "cell_type": "code",
   "execution_count": 166,
   "id": "f452a47c",
   "metadata": {
    "ExecuteTime": {
     "end_time": "2022-01-16T07:16:45.154552Z",
     "start_time": "2022-01-16T07:16:45.149718Z"
    }
   },
   "outputs": [
    {
     "data": {
      "text/plain": [
       "39"
      ]
     },
     "execution_count": 166,
     "metadata": {},
     "output_type": "execute_result"
    }
   ],
   "source": [
    "gdf_fin_cpt_jhb_wrd_bests['index'].nunique()"
   ]
  },
  {
   "cell_type": "code",
   "execution_count": null,
   "id": "39534da5",
   "metadata": {},
   "outputs": [],
   "source": []
  },
  {
   "cell_type": "code",
   "execution_count": 167,
   "id": "397c1c8c",
   "metadata": {
    "ExecuteTime": {
     "end_time": "2022-01-16T07:16:59.378410Z",
     "start_time": "2022-01-16T07:16:59.374792Z"
    }
   },
   "outputs": [
    {
     "data": {
      "text/plain": [
       "(39, 25)"
      ]
     },
     "execution_count": 167,
     "metadata": {},
     "output_type": "execute_result"
    }
   ],
   "source": [
    "gdf_fin_cpt_jhb_wrd_bests.shape"
   ]
  },
  {
   "cell_type": "code",
   "execution_count": 111,
   "id": "c9c11ce5",
   "metadata": {
    "ExecuteTime": {
     "end_time": "2022-01-15T15:34:10.487431Z",
     "start_time": "2022-01-15T15:34:10.484933Z"
    }
   },
   "outputs": [],
   "source": [
    "from spopt.region import MaxPHeuristic as MaxP\n",
    "\n",
    "import numpy"
   ]
  },
  {
   "cell_type": "code",
   "execution_count": 169,
   "id": "b558dba6",
   "metadata": {
    "ExecuteTime": {
     "end_time": "2022-01-16T07:17:27.375845Z",
     "start_time": "2022-01-16T07:17:27.372937Z"
    }
   },
   "outputs": [],
   "source": [
    "RANDOM_SEED = 123456"
   ]
  },
  {
   "cell_type": "markdown",
   "id": "525217ed",
   "metadata": {},
   "source": [
    "##### Модель"
   ]
  },
  {
   "cell_type": "code",
   "execution_count": 187,
   "id": "bdfe8aeb",
   "metadata": {
    "ExecuteTime": {
     "end_time": "2022-01-16T07:28:53.561444Z",
     "start_time": "2022-01-16T07:28:53.556993Z"
    }
   },
   "outputs": [
    {
     "name": "stderr",
     "output_type": "stream",
     "text": [
      "/usr/local/lib/python3.7/dist-packages/geopandas/geodataframe.py:1351: SettingWithCopyWarning: \n",
      "A value is trying to be set on a copy of a slice from a DataFrame.\n",
      "Try using .loc[row_indexer,col_indexer] = value instead\n",
      "\n",
      "See the caveats in the documentation: https://pandas.pydata.org/pandas-docs/stable/user_guide/indexing.html#returning-a-view-versus-a-copy\n",
      "  super().__setitem__(key, value)\n"
     ]
    }
   ],
   "source": [
    "threshold = 2\n",
    "top_n = 1\n",
    "gdf_fin_cpt_jhb_wrd_bests[\"count\"] = 1\n",
    "threshold_name = \"count\"\n",
    "attrs_name = [\"index\"]"
   ]
  },
  {
   "cell_type": "code",
   "execution_count": 193,
   "id": "4f4a0a3f",
   "metadata": {
    "ExecuteTime": {
     "end_time": "2022-01-16T07:33:36.662096Z",
     "start_time": "2022-01-16T07:33:36.524771Z"
    }
   },
   "outputs": [
    {
     "data": {
      "text/plain": [
       "(array([ 4.,  8., 11.,  6.,  2.,  4.,  2.,  0.,  1.,  1.]),\n",
       " array([ 5353.,  6981.,  8609., 10237., 11865., 13493., 15121., 16749.,\n",
       "        18377., 20005., 21633.]),\n",
       " <BarContainer object of 10 artists>)"
      ]
     },
     "execution_count": 193,
     "metadata": {},
     "output_type": "execute_result"
    },
    {
     "data": {
      "image/png": "[encoded data removed]",
      "text/plain": [
       "<Figure size 432x288 with 1 Axes>"
      ]
     },
     "metadata": {
      "needs_background": "light"
     },
     "output_type": "display_data"
    }
   ],
   "source": [
    "plt.hist(gdf_fin_cpt_jhb_wrd_bests.formal_dwellings)"
   ]
  },
  {
   "cell_type": "code",
   "execution_count": 440,
   "id": "1750bcd4",
   "metadata": {
    "ExecuteTime": {
     "end_time": "2022-01-17T11:35:20.213696Z",
     "start_time": "2022-01-17T11:35:20.209082Z"
    }
   },
   "outputs": [
    {
     "name": "stderr",
     "output_type": "stream",
     "text": [
      "/usr/local/lib/python3.7/dist-packages/geopandas/geodataframe.py:1351: SettingWithCopyWarning: \n",
      "A value is trying to be set on a copy of a slice from a DataFrame.\n",
      "Try using .loc[row_indexer,col_indexer] = value instead\n",
      "\n",
      "See the caveats in the documentation: https://pandas.pydata.org/pandas-docs/stable/user_guide/indexing.html#returning-a-view-versus-a-copy\n",
      "  super().__setitem__(key, value)\n"
     ]
    }
   ],
   "source": [
    "gdf_fin_cpt_jhb_wrd_bests['area_km'] = gdf_fin_cpt_jhb_wrd_bests['area_metres']/(10**6)"
   ]
  },
  {
   "cell_type": "code",
   "execution_count": 188,
   "id": "8e58d206",
   "metadata": {
    "ExecuteTime": {
     "end_time": "2022-01-16T07:28:58.052859Z",
     "start_time": "2022-01-16T07:28:57.960984Z"
    },
    "scrolled": true
   },
   "outputs": [],
   "source": [
    "numpy.random.seed(RANDOM_SEED)\n",
    "model = MaxP(gdf_fin_cpt_jhb_wrd_bests[gdf_fin_cpt_jhb_wrd_bests['CAT_B']=='JHB'][['index','count','geometry']], w, attrs_name, threshold_name, threshold, top_n)\n",
    "model.solve()"
   ]
  },
  {
   "cell_type": "code",
   "execution_count": 239,
   "id": "e9290511",
   "metadata": {
    "ExecuteTime": {
     "end_time": "2022-01-16T07:42:14.888476Z",
     "start_time": "2022-01-16T07:42:14.870779Z"
    }
   },
   "outputs": [],
   "source": [
    "gdf_fin_cpt_jhb_wrd_bests_jhb = gdf_fin_cpt_jhb_wrd_bests[gdf_fin_cpt_jhb_wrd_bests['CAT_B']=='JHB']"
   ]
  },
  {
   "cell_type": "code",
   "execution_count": 240,
   "id": "902ef593",
   "metadata": {
    "ExecuteTime": {
     "end_time": "2022-01-16T07:42:15.763524Z",
     "start_time": "2022-01-16T07:42:15.760321Z"
    }
   },
   "outputs": [
    {
     "name": "stderr",
     "output_type": "stream",
     "text": [
      "/usr/local/lib/python3.7/dist-packages/geopandas/geodataframe.py:1351: SettingWithCopyWarning: \n",
      "A value is trying to be set on a copy of a slice from a DataFrame.\n",
      "Try using .loc[row_indexer,col_indexer] = value instead\n",
      "\n",
      "See the caveats in the documentation: https://pandas.pydata.org/pandas-docs/stable/user_guide/indexing.html#returning-a-view-versus-a-copy\n",
      "  super().__setitem__(key, value)\n"
     ]
    }
   ],
   "source": [
    "gdf_fin_cpt_jhb_wrd_bests_jhb['cluster_new'] =  model.labels_"
   ]
  },
  {
   "cell_type": "code",
   "execution_count": 320,
   "id": "7d605f3c",
   "metadata": {
    "ExecuteTime": {
     "end_time": "2022-01-16T08:26:02.777585Z",
     "start_time": "2022-01-16T08:26:02.688151Z"
    }
   },
   "outputs": [],
   "source": [
    "# input 1\n",
    "top_n = 2\n",
    "# gdf_fin_cpt_jhb_wrd_bests[\"count\"] = 1\n",
    "threshold_name_hsld = \"formal_dwellings\"\n",
    "attrs_name = [\"index\"]\n",
    "\n",
    "df = gdf_fin_cpt_jhb_wrd_bests[(gdf_fin_cpt_jhb_wrd_bests['CAT_B']=='JHB')& (gdf_fin_cpt_jhb_wrd_bests['WARD_ID'].isin(['79800023','79800054'])==False)][['index','geometry',\"formal_dwellings\",'White','Employed','Pop','area_km']]\n",
    "\n",
    "w =  libpysal.weights.Rook.from_dataframe(df)\n",
    "\n",
    "threshold_value = 20000"
   ]
  },
  {
   "cell_type": "code",
   "execution_count": 495,
   "id": "846c4cd6",
   "metadata": {
    "ExecuteTime": {
     "end_time": "2022-01-17T12:01:29.798810Z",
     "start_time": "2022-01-17T12:01:29.791845Z"
    },
    "run_control": {
     "marked": false
    }
   },
   "outputs": [],
   "source": [
    "def calc_cluster_maxp(df, w, attrs_name, threshold_name, threshold_value, top_n):\n",
    "\n",
    "    numpy.random.seed(RANDOM_SEED)\n",
    "    model_pop = MaxP(df, w, attrs_name, threshold_name, threshold_value, top_n)\n",
    "    model_pop.solve()\n",
    "\n",
    "    df['cluster_pop'] =  model_pop.labels_\n",
    "\n",
    "    df['cluster_pop'].nunique()\n",
    "\n",
    "    df['cluster_pop']=df['cluster_pop'].astype(str)\n",
    "\n",
    "    df.plot(column='cluster_pop', figsize=(10,9), legend=True)\n",
    "    plt.show()\n",
    "\n",
    "    print(df.groupby('cluster_pop')['formal_dwellings','White','Pop','Employed','area_km'].sum())\n",
    "    \n",
    "    clust_geom = df[['cluster_pop','geometry']].dissolve(by='cluster_pop', aggfunc='sum')\n",
    "\n",
    "    clust_desc_gr  = df.groupby('cluster_pop')['formal_dwellings','White','Pop','Employed','area_km'].sum().reset_index().merge(\n",
    "    clust_geom.reset_index(), on='cluster_pop')\n",
    "    return clust_desc_gr"
   ]
  },
  {
   "cell_type": "code",
   "execution_count": 345,
   "id": "62dc9ee2",
   "metadata": {
    "ExecuteTime": {
     "end_time": "2022-01-16T09:12:08.000086Z",
     "start_time": "2022-01-16T09:12:06.849952Z"
    }
   },
   "outputs": [
    {
     "data": {
      "image/png": "[encoded data removed]",
      "text/plain": [
       "<Figure size 720x648 with 1 Axes>"
      ]
     },
     "metadata": {
      "needs_background": "light"
     },
     "output_type": "display_data"
    },
    {
     "name": "stdout",
     "output_type": "stream",
     "text": [
      "             formal_dwellings  White     Pop  Employed     area_km\n",
      "cluster_pop                                                       \n",
      "1                       39015  57613  100835     60690   59.541932\n",
      "2                       38445  58369  113083     58687   61.498893\n",
      "3                       44349  61696  111712     62631   62.223500\n",
      "4                       35453  63805  103680     58384   70.905449\n",
      "5                       39541  37266  102265     61502  117.215101\n",
      "6                       36257  57964  103192     57441   44.082049\n"
     ]
    },
    {
     "name": "stderr",
     "output_type": "stream",
     "text": [
      "/usr/local/lib/python3.7/dist-packages/ipykernel_launcher.py:16: FutureWarning: Indexing with multiple keys (implicitly converted to a tuple of keys) will be deprecated, use a list instead.\n",
      "  app.launch_new_instance()\n"
     ]
    }
   ],
   "source": [
    "df_fdw = calc_cluster_maxp(df, w, attrs_name, threshold_name_hsld, threshold_value, top_n)"
   ]
  },
  {
   "cell_type": "code",
   "execution_count": 347,
   "id": "c2a677ab",
   "metadata": {
    "ExecuteTime": {
     "end_time": "2022-01-16T09:13:43.418300Z",
     "start_time": "2022-01-16T09:13:28.052138Z"
    },
    "scrolled": true
   },
   "outputs": [
    {
     "ename": "KeyboardInterrupt",
     "evalue": "",
     "output_type": "error",
     "traceback": [
      "\u001b[0;31m---------------------------------------------------------------------------\u001b[0m",
      "\u001b[0;31mKeyboardInterrupt\u001b[0m                         Traceback (most recent call last)",
      "\u001b[0;32m/tmp/ipykernel_27805/2535817310.py\u001b[0m in \u001b[0;36m<module>\u001b[0;34m\u001b[0m\n\u001b[0;32m----> 1\u001b[0;31m \u001b[0mdf_fdw_2\u001b[0m \u001b[0;34m=\u001b[0m \u001b[0mcalc_cluster_maxp\u001b[0m\u001b[0;34m(\u001b[0m\u001b[0mdf\u001b[0m\u001b[0;34m,\u001b[0m \u001b[0mw\u001b[0m\u001b[0;34m,\u001b[0m \u001b[0mattrs_name\u001b[0m\u001b[0;34m,\u001b[0m \u001b[0mthreshold_name_hsld\u001b[0m\u001b[0;34m,\u001b[0m \u001b[0mthreshold_value\u001b[0m\u001b[0;34m,\u001b[0m \u001b[0;36m2\u001b[0m\u001b[0;34m)\u001b[0m\u001b[0;34m\u001b[0m\u001b[0;34m\u001b[0m\u001b[0m\n\u001b[0m",
      "\u001b[0;32m/tmp/ipykernel_27805/614562848.py\u001b[0m in \u001b[0;36mcalc_cluster_maxp\u001b[0;34m(df, w, attrs_name, threshold_name, threshold_value, top_n)\u001b[0m\n\u001b[1;32m      3\u001b[0m     \u001b[0mnumpy\u001b[0m\u001b[0;34m.\u001b[0m\u001b[0mrandom\u001b[0m\u001b[0;34m.\u001b[0m\u001b[0mseed\u001b[0m\u001b[0;34m(\u001b[0m\u001b[0mRANDOM_SEED\u001b[0m\u001b[0;34m)\u001b[0m\u001b[0;34m\u001b[0m\u001b[0;34m\u001b[0m\u001b[0m\n\u001b[1;32m      4\u001b[0m     \u001b[0mmodel_pop\u001b[0m \u001b[0;34m=\u001b[0m \u001b[0mMaxP\u001b[0m\u001b[0;34m(\u001b[0m\u001b[0mdf\u001b[0m\u001b[0;34m,\u001b[0m \u001b[0mw\u001b[0m\u001b[0;34m,\u001b[0m \u001b[0mattrs_name\u001b[0m\u001b[0;34m,\u001b[0m \u001b[0mthreshold_name\u001b[0m\u001b[0;34m,\u001b[0m \u001b[0mthreshold_value\u001b[0m\u001b[0;34m,\u001b[0m \u001b[0mtop_n\u001b[0m\u001b[0;34m)\u001b[0m\u001b[0;34m\u001b[0m\u001b[0;34m\u001b[0m\u001b[0m\n\u001b[0;32m----> 5\u001b[0;31m     \u001b[0mmodel_pop\u001b[0m\u001b[0;34m.\u001b[0m\u001b[0msolve\u001b[0m\u001b[0;34m(\u001b[0m\u001b[0;34m)\u001b[0m\u001b[0;34m\u001b[0m\u001b[0;34m\u001b[0m\u001b[0m\n\u001b[0m\u001b[1;32m      6\u001b[0m \u001b[0;34m\u001b[0m\u001b[0m\n\u001b[1;32m      7\u001b[0m     \u001b[0mdf\u001b[0m\u001b[0;34m[\u001b[0m\u001b[0;34m'cluster_pop'\u001b[0m\u001b[0;34m]\u001b[0m \u001b[0;34m=\u001b[0m  \u001b[0mmodel_pop\u001b[0m\u001b[0;34m.\u001b[0m\u001b[0mlabels_\u001b[0m\u001b[0;34m\u001b[0m\u001b[0;34m\u001b[0m\u001b[0m\n",
      "\u001b[0;32m~/.local/lib/python3.7/site-packages/spopt/region/maxp.py\u001b[0m in \u001b[0;36msolve\u001b[0;34m(self)\u001b[0m\n\u001b[1;32m    815\u001b[0m             \u001b[0mself\u001b[0m\u001b[0;34m.\u001b[0m\u001b[0mmax_iterations_construction\u001b[0m\u001b[0;34m,\u001b[0m\u001b[0;34m\u001b[0m\u001b[0;34m\u001b[0m\u001b[0m\n\u001b[1;32m    816\u001b[0m             \u001b[0mself\u001b[0m\u001b[0;34m.\u001b[0m\u001b[0mmax_iterations_sa\u001b[0m\u001b[0;34m,\u001b[0m\u001b[0;34m\u001b[0m\u001b[0;34m\u001b[0m\u001b[0m\n\u001b[0;32m--> 817\u001b[0;31m             \u001b[0mverbose\u001b[0m\u001b[0;34m=\u001b[0m\u001b[0mself\u001b[0m\u001b[0;34m.\u001b[0m\u001b[0mverbose\u001b[0m\u001b[0;34m,\u001b[0m\u001b[0;34m\u001b[0m\u001b[0;34m\u001b[0m\u001b[0m\n\u001b[0m\u001b[1;32m    818\u001b[0m         )\n\u001b[1;32m    819\u001b[0m         \u001b[0mself\u001b[0m\u001b[0;34m.\u001b[0m\u001b[0mlabels_\u001b[0m \u001b[0;34m=\u001b[0m \u001b[0mlabel\u001b[0m\u001b[0;34m\u001b[0m\u001b[0;34m\u001b[0m\u001b[0m\n",
      "\u001b[0;32m~/.local/lib/python3.7/site-packages/spopt/region/maxp.py\u001b[0m in \u001b[0;36mmaxp\u001b[0;34m(gdf, w, attrs_name, threshold_name, threshold, top_n, max_iterations_construction, max_iterations_sa, verbose)\u001b[0m\n\u001b[1;32m    130\u001b[0m                 \u001b[0malpha\u001b[0m\u001b[0;34m,\u001b[0m\u001b[0;34m\u001b[0m\u001b[0;34m\u001b[0m\u001b[0m\n\u001b[1;32m    131\u001b[0m                 \u001b[0mtabuLength\u001b[0m\u001b[0;34m,\u001b[0m\u001b[0;34m\u001b[0m\u001b[0;34m\u001b[0m\u001b[0m\n\u001b[0;32m--> 132\u001b[0;31m                 \u001b[0mmax_no_move\u001b[0m\u001b[0;34m,\u001b[0m\u001b[0;34m\u001b[0m\u001b[0;34m\u001b[0m\u001b[0m\n\u001b[0m\u001b[1;32m    133\u001b[0m             )\n\u001b[1;32m    134\u001b[0m             totalWithinRegionDistance = calculateWithinRegionDistance(\n",
      "\u001b[0;32m~/.local/lib/python3.7/site-packages/spopt/region/maxp.py\u001b[0m in \u001b[0;36mperformSA\u001b[0;34m(initLabels, initRegionList, initRegionSpatialAttr, threshold_array, weight, distance_matrix, threshold, alpha, tabuLength, max_no_move)\u001b[0m\n\u001b[1;32m    632\u001b[0m                 \u001b[0mweight\u001b[0m\u001b[0;34m,\u001b[0m\u001b[0;34m\u001b[0m\u001b[0;34m\u001b[0m\u001b[0m\n\u001b[1;32m    633\u001b[0m                 \u001b[0mdistance_matrix\u001b[0m\u001b[0;34m,\u001b[0m\u001b[0;34m\u001b[0m\u001b[0;34m\u001b[0m\u001b[0m\n\u001b[0;32m--> 634\u001b[0;31m                 \u001b[0mthreshold\u001b[0m\u001b[0;34m,\u001b[0m\u001b[0;34m\u001b[0m\u001b[0;34m\u001b[0m\u001b[0m\n\u001b[0m\u001b[1;32m    635\u001b[0m             )\n\u001b[1;32m    636\u001b[0m \u001b[0;34m\u001b[0m\u001b[0m\n",
      "\u001b[0;32m~/.local/lib/python3.7/site-packages/spopt/region/maxp.py\u001b[0m in \u001b[0;36mpickMoveArea\u001b[0;34m(labels, regionLists, regionSpatialAttrs, threshold_array, weight, distance_matrix, threshold)\u001b[0m\n\u001b[1;32m    487\u001b[0m         \u001b[0;32mif\u001b[0m \u001b[0mpas_indices\u001b[0m\u001b[0;34m.\u001b[0m\u001b[0msize\u001b[0m \u001b[0;34m>\u001b[0m \u001b[0;36m0\u001b[0m\u001b[0;34m:\u001b[0m\u001b[0;34m\u001b[0m\u001b[0;34m\u001b[0m\u001b[0m\n\u001b[1;32m    488\u001b[0m             \u001b[0;32mfor\u001b[0m \u001b[0mpasi\u001b[0m \u001b[0;32min\u001b[0m \u001b[0mpas_indices\u001b[0m\u001b[0;34m:\u001b[0m\u001b[0;34m\u001b[0m\u001b[0;34m\u001b[0m\u001b[0m\n\u001b[0;32m--> 489\u001b[0;31m                 \u001b[0mleftAreas\u001b[0m \u001b[0;34m=\u001b[0m \u001b[0mnp\u001b[0m\u001b[0;34m.\u001b[0m\u001b[0mdelete\u001b[0m\u001b[0;34m(\u001b[0m\u001b[0mrla\u001b[0m\u001b[0;34m,\u001b[0m \u001b[0mpasi\u001b[0m\u001b[0;34m)\u001b[0m\u001b[0;34m\u001b[0m\u001b[0;34m\u001b[0m\u001b[0m\n\u001b[0m\u001b[1;32m    490\u001b[0m                 \u001b[0mws\u001b[0m \u001b[0;34m=\u001b[0m \u001b[0mweight\u001b[0m\u001b[0;34m.\u001b[0m\u001b[0msparse\u001b[0m\u001b[0;34m\u001b[0m\u001b[0;34m\u001b[0m\u001b[0m\n\u001b[1;32m    491\u001b[0m                 \u001b[0mcc\u001b[0m \u001b[0;34m=\u001b[0m \u001b[0mconnected_components\u001b[0m\u001b[0;34m(\u001b[0m\u001b[0mws\u001b[0m\u001b[0;34m[\u001b[0m\u001b[0mleftAreas\u001b[0m\u001b[0;34m,\u001b[0m \u001b[0;34m:\u001b[0m\u001b[0;34m]\u001b[0m\u001b[0;34m[\u001b[0m\u001b[0;34m:\u001b[0m\u001b[0;34m,\u001b[0m \u001b[0mleftAreas\u001b[0m\u001b[0;34m]\u001b[0m\u001b[0;34m)\u001b[0m\u001b[0;34m\u001b[0m\u001b[0;34m\u001b[0m\u001b[0m\n",
      "\u001b[0;32m<__array_function__ internals>\u001b[0m in \u001b[0;36mdelete\u001b[0;34m(*args, **kwargs)\u001b[0m\n",
      "\u001b[0;32m/usr/local/lib/python3.7/dist-packages/numpy/lib/function_base.py\u001b[0m in \u001b[0;36mdelete\u001b[0;34m(arr, obj, axis)\u001b[0m\n\u001b[1;32m   4453\u001b[0m \u001b[0;34m\u001b[0m\u001b[0m\n\u001b[1;32m   4454\u001b[0m     \u001b[0marr\u001b[0m \u001b[0;34m=\u001b[0m \u001b[0masarray\u001b[0m\u001b[0;34m(\u001b[0m\u001b[0marr\u001b[0m\u001b[0;34m)\u001b[0m\u001b[0;34m\u001b[0m\u001b[0;34m\u001b[0m\u001b[0m\n\u001b[0;32m-> 4455\u001b[0;31m     \u001b[0mndim\u001b[0m \u001b[0;34m=\u001b[0m \u001b[0marr\u001b[0m\u001b[0;34m.\u001b[0m\u001b[0mndim\u001b[0m\u001b[0;34m\u001b[0m\u001b[0;34m\u001b[0m\u001b[0m\n\u001b[0m\u001b[1;32m   4456\u001b[0m     \u001b[0marrorder\u001b[0m \u001b[0;34m=\u001b[0m \u001b[0;34m'F'\u001b[0m \u001b[0;32mif\u001b[0m \u001b[0marr\u001b[0m\u001b[0;34m.\u001b[0m\u001b[0mflags\u001b[0m\u001b[0;34m.\u001b[0m\u001b[0mfnc\u001b[0m \u001b[0;32melse\u001b[0m \u001b[0;34m'C'\u001b[0m\u001b[0;34m\u001b[0m\u001b[0;34m\u001b[0m\u001b[0m\n\u001b[1;32m   4457\u001b[0m     \u001b[0;32mif\u001b[0m \u001b[0maxis\u001b[0m \u001b[0;32mis\u001b[0m \u001b[0;32mNone\u001b[0m\u001b[0;34m:\u001b[0m\u001b[0;34m\u001b[0m\u001b[0;34m\u001b[0m\u001b[0m\n",
      "\u001b[0;31mKeyboardInterrupt\u001b[0m: "
     ]
    }
   ],
   "source": [
    "df_fdw_2 = calc_cluster_maxp(df, w, attrs_name, threshold_name_hsld, threshold_value, 2)"
   ]
  },
  {
   "cell_type": "markdown",
   "id": "2156c1c6",
   "metadata": {},
   "source": [
    "### по числу рабочего населения"
   ]
  },
  {
   "cell_type": "code",
   "execution_count": 375,
   "id": "06d0ee2a",
   "metadata": {
    "ExecuteTime": {
     "end_time": "2022-01-16T09:31:47.041015Z",
     "start_time": "2022-01-16T09:31:46.963446Z"
    }
   },
   "outputs": [],
   "source": [
    "# input 2\n",
    "top_n = 3\n",
    "# gdf_fin_cpt_jhb_wrd_bests[\"count\"] = 1\n",
    "threshold_name_empl = \"Employed\"\n",
    "attrs_name = [\"index\"]\n",
    "\n",
    "df = gdf_fin_cpt_jhb_wrd_bests[(gdf_fin_cpt_jhb_wrd_bests['CAT_B']=='JHB')& (gdf_fin_cpt_jhb_wrd_bests['WARD_ID'].isin(['79800023','79800054'])==False)][['index','geometry',\"formal_dwellings\",'White','Employed','Pop','area_km']]\n",
    "\n",
    "w =  libpysal.weights.Rook.from_dataframe(df)\n",
    "\n",
    "threshold_value = 35000"
   ]
  },
  {
   "cell_type": "code",
   "execution_count": 376,
   "id": "ff4d2872",
   "metadata": {
    "ExecuteTime": {
     "end_time": "2022-01-16T09:31:51.161581Z",
     "start_time": "2022-01-16T09:31:47.260050Z"
    }
   },
   "outputs": [
    {
     "data": {
      "image/png": "[encoded data removed]",
      "text/plain": [
       "<Figure size 720x648 with 1 Axes>"
      ]
     },
     "metadata": {
      "needs_background": "light"
     },
     "output_type": "display_data"
    },
    {
     "name": "stdout",
     "output_type": "stream",
     "text": [
      "             formal_dwellings  White    Pop  Employed    area_km\n",
      "cluster_pop                                                     \n",
      "1                       23989  30809  58314     35388  56.960249\n",
      "2                       31490  49090  93015     50390  48.692121\n",
      "3                       29897  26257  78408     46801  86.508352\n",
      "4                       24621  35782  72128     36651  34.608549\n",
      "5                       24468  38296  62549     35817  34.267317\n",
      "6                       37395  50671  98704     55117  54.491418\n",
      "7                       26053  46040  75428     41940  59.136836\n",
      "8                       35147  59768  96221     57231  40.802082\n"
     ]
    },
    {
     "name": "stderr",
     "output_type": "stream",
     "text": [
      "/usr/local/lib/python3.7/dist-packages/ipykernel_launcher.py:16: FutureWarning: Indexing with multiple keys (implicitly converted to a tuple of keys) will be deprecated, use a list instead.\n",
      "  app.launch_new_instance()\n"
     ]
    }
   ],
   "source": [
    "clust_desc_employed = calc_cluster_maxp(df, w, attrs_name, threshold_name_empl, threshold_value, top_n)"
   ]
  },
  {
   "cell_type": "code",
   "execution_count": 387,
   "id": "4ea01196",
   "metadata": {
    "ExecuteTime": {
     "end_time": "2022-01-16T09:36:13.271015Z",
     "start_time": "2022-01-16T09:36:13.135500Z"
    }
   },
   "outputs": [],
   "source": [
    "clust_geom = clust_desc_employed[['cluster_pop','geometry']].dissolve(by='cluster_pop', aggfunc='sum')\n",
    "\n",
    "clust_desc_employed_gr  = clust_desc_employed.groupby('cluster_pop')['formal_dwellings','White','Pop','Employed','area_km'].sum().reset_index().merge(\n",
    "clust_geom.reset_index(), on='cluster_pop')"
   ]
  },
  {
   "cell_type": "code",
   "execution_count": 395,
   "id": "ac59bd99",
   "metadata": {
    "ExecuteTime": {
     "end_time": "2022-01-16T09:38:35.849269Z",
     "start_time": "2022-01-16T09:38:35.600071Z"
    }
   },
   "outputs": [
    {
     "data": {
      "text/plain": [
       "<AxesSubplot:>"
      ]
     },
     "execution_count": 395,
     "metadata": {},
     "output_type": "execute_result"
    },
    {
     "data": {
      "image/png": "[encoded data removed]",
      "text/plain": [
       "<Figure size 720x720 with 2 Axes>"
      ]
     },
     "metadata": {
      "needs_background": "light"
     },
     "output_type": "display_data"
    }
   ],
   "source": [
    "clust_desc_employed_gr.plot(column='Employed',cmap='Reds', label='cluster_pop', figsize=(10,10), legend=True)"
   ]
  },
  {
   "cell_type": "code",
   "execution_count": 409,
   "id": "f2624a78",
   "metadata": {
    "ExecuteTime": {
     "end_time": "2022-01-16T10:31:46.754339Z",
     "start_time": "2022-01-16T10:31:46.628267Z"
    }
   },
   "outputs": [],
   "source": [
    "clust_desc_employed_gr.to_file('clust_desc_employed_gr.geojson', driver='GeoJSON')"
   ]
  },
  {
   "cell_type": "code",
   "execution_count": 403,
   "id": "0faf187a",
   "metadata": {
    "ExecuteTime": {
     "end_time": "2022-01-16T09:53:47.101137Z",
     "start_time": "2022-01-16T09:53:47.097040Z"
    }
   },
   "outputs": [
    {
     "name": "stdout",
     "output_type": "stream",
     "text": [
      "6.0 расстояние с cte 20 мин\n",
      "40.82 площадь\n"
     ]
    }
   ],
   "source": [
    "#30 км в час\n",
    "print(30/(60/12),'расстояние с cte 20 мин') #12 мин\n",
    "print(3.14*(3**2+2**2), 'площадь') "
   ]
  },
  {
   "cell_type": "code",
   "execution_count": 404,
   "id": "cd3a596c",
   "metadata": {
    "ExecuteTime": {
     "end_time": "2022-01-16T09:53:56.472310Z",
     "start_time": "2022-01-16T09:53:56.397365Z"
    }
   },
   "outputs": [],
   "source": [
    "# input 3\n",
    "top_n = 2\n",
    "# gdf_fin_cpt_jhb_wrd_bests[\"count\"] = 1\n",
    "threshold_name_area = \"area_km\"\n",
    "attrs_name = [\"index\"]\n",
    "\n",
    "df = gdf_fin_cpt_jhb_wrd_bests[(gdf_fin_cpt_jhb_wrd_bests['CAT_B']=='JHB')& (gdf_fin_cpt_jhb_wrd_bests['WARD_ID'].isin(['79800023','79800054'])==False)][['index','geometry',\"formal_dwellings\",'White','Employed','Pop','area_km']]\n",
    "\n",
    "w =  libpysal.weights.Rook.from_dataframe(df)\n",
    "\n",
    "threshold_value = 40"
   ]
  },
  {
   "cell_type": "code",
   "execution_count": 405,
   "id": "86e73763",
   "metadata": {
    "ExecuteTime": {
     "end_time": "2022-01-16T09:54:11.090802Z",
     "start_time": "2022-01-16T09:54:06.322030Z"
    }
   },
   "outputs": [
    {
     "data": {
      "image/png": "[encoded data removed]",
      "text/plain": [
       "<Figure size 720x648 with 1 Axes>"
      ]
     },
     "metadata": {
      "needs_background": "light"
     },
     "output_type": "display_data"
    },
    {
     "name": "stdout",
     "output_type": "stream",
     "text": [
      "             formal_dwellings  White     Pop  Employed    area_km\n",
      "cluster_pop                                                      \n",
      "1                       29974  45092   88832     45523  43.875180\n",
      "2                       33021  52501   96429     52633  48.179901\n",
      "3                       40212  53784  100286     58308  64.374971\n",
      "4                       17908  24647   44487     26988  63.004116\n",
      "5                       35147  59768   96221     57231  40.802082\n",
      "6                       26053  46040   75428     41940  59.136836\n",
      "7                       29112  42262   75306     42198  41.882853\n",
      "8                       21633  12619   57778     34514  54.210985\n"
     ]
    },
    {
     "name": "stderr",
     "output_type": "stream",
     "text": [
      "/usr/local/lib/python3.7/dist-packages/ipykernel_launcher.py:16: FutureWarning: Indexing with multiple keys (implicitly converted to a tuple of keys) will be deprecated, use a list instead.\n",
      "  app.launch_new_instance()\n",
      "/usr/local/lib/python3.7/dist-packages/ipykernel_launcher.py:20: FutureWarning: Indexing with multiple keys (implicitly converted to a tuple of keys) will be deprecated, use a list instead.\n"
     ]
    }
   ],
   "source": [
    "clust_desc_area= calc_cluster_maxp(df, w, attrs_name, threshold_name_area, threshold_value, top_n)"
   ]
  },
  {
   "cell_type": "code",
   "execution_count": 407,
   "id": "0bdce62d",
   "metadata": {
    "ExecuteTime": {
     "end_time": "2022-01-16T09:55:23.076879Z",
     "start_time": "2022-01-16T09:55:22.965085Z"
    }
   },
   "outputs": [],
   "source": [
    "clust_desc_area.to_file('clust_desc_area_gr.geojson', driver='GeoJSON')"
   ]
  },
  {
   "cell_type": "code",
   "execution_count": 408,
   "id": "d0e6e2d6",
   "metadata": {
    "ExecuteTime": {
     "end_time": "2022-01-16T09:56:22.837517Z",
     "start_time": "2022-01-16T09:56:22.794694Z"
    }
   },
   "outputs": [
    {
     "data": {
      "text/html": [
       "<div>\n",
       "<style scoped>\n",
       "    .dataframe tbody tr th:only-of-type {\n",
       "        vertical-align: middle;\n",
       "    }\n",
       "\n",
       "    .dataframe tbody tr th {\n",
       "        vertical-align: top;\n",
       "    }\n",
       "\n",
       "    .dataframe thead th {\n",
       "        text-align: right;\n",
       "    }\n",
       "</style>\n",
       "<table border=\"1\" class=\"dataframe\">\n",
       "  <thead>\n",
       "    <tr style=\"text-align: right;\">\n",
       "      <th></th>\n",
       "      <th>cluster_pop</th>\n",
       "      <th>formal_dwellings</th>\n",
       "      <th>White</th>\n",
       "      <th>Pop</th>\n",
       "      <th>Employed</th>\n",
       "      <th>area_km</th>\n",
       "      <th>geometry</th>\n",
       "    </tr>\n",
       "  </thead>\n",
       "  <tbody>\n",
       "    <tr>\n",
       "      <th>0</th>\n",
       "      <td>1</td>\n",
       "      <td>29974</td>\n",
       "      <td>45092</td>\n",
       "      <td>88832</td>\n",
       "      <td>45523</td>\n",
       "      <td>43.875180</td>\n",
       "      <td>POLYGON ((28.09601 -26.04677, 28.09564 -26.047...</td>\n",
       "    </tr>\n",
       "    <tr>\n",
       "      <th>1</th>\n",
       "      <td>2</td>\n",
       "      <td>33021</td>\n",
       "      <td>52501</td>\n",
       "      <td>96429</td>\n",
       "      <td>52633</td>\n",
       "      <td>48.179901</td>\n",
       "      <td>POLYGON ((28.01435 -26.14256, 28.01451 -26.142...</td>\n",
       "    </tr>\n",
       "    <tr>\n",
       "      <th>2</th>\n",
       "      <td>3</td>\n",
       "      <td>40212</td>\n",
       "      <td>53784</td>\n",
       "      <td>100286</td>\n",
       "      <td>58308</td>\n",
       "      <td>64.374971</td>\n",
       "      <td>POLYGON ((28.07578 -25.99720, 28.07548 -25.997...</td>\n",
       "    </tr>\n",
       "    <tr>\n",
       "      <th>3</th>\n",
       "      <td>4</td>\n",
       "      <td>17908</td>\n",
       "      <td>24647</td>\n",
       "      <td>44487</td>\n",
       "      <td>26988</td>\n",
       "      <td>63.004116</td>\n",
       "      <td>POLYGON ((28.08749 -26.16750, 28.08739 -26.167...</td>\n",
       "    </tr>\n",
       "    <tr>\n",
       "      <th>4</th>\n",
       "      <td>5</td>\n",
       "      <td>35147</td>\n",
       "      <td>59768</td>\n",
       "      <td>96221</td>\n",
       "      <td>57231</td>\n",
       "      <td>40.802082</td>\n",
       "      <td>POLYGON ((28.04398 -26.14119, 28.04379 -26.141...</td>\n",
       "    </tr>\n",
       "    <tr>\n",
       "      <th>5</th>\n",
       "      <td>6</td>\n",
       "      <td>26053</td>\n",
       "      <td>46040</td>\n",
       "      <td>75428</td>\n",
       "      <td>41940</td>\n",
       "      <td>59.136836</td>\n",
       "      <td>POLYGON ((28.02760 -26.09165, 28.02760 -26.091...</td>\n",
       "    </tr>\n",
       "    <tr>\n",
       "      <th>6</th>\n",
       "      <td>7</td>\n",
       "      <td>29112</td>\n",
       "      <td>42262</td>\n",
       "      <td>75306</td>\n",
       "      <td>42198</td>\n",
       "      <td>41.882853</td>\n",
       "      <td>POLYGON ((27.87916 -26.12588, 27.87907 -26.126...</td>\n",
       "    </tr>\n",
       "    <tr>\n",
       "      <th>7</th>\n",
       "      <td>8</td>\n",
       "      <td>21633</td>\n",
       "      <td>12619</td>\n",
       "      <td>57778</td>\n",
       "      <td>34514</td>\n",
       "      <td>54.210985</td>\n",
       "      <td>POLYGON ((27.94480 -26.12285, 27.94404 -26.123...</td>\n",
       "    </tr>\n",
       "  </tbody>\n",
       "</table>\n",
       "</div>"
      ],
      "text/plain": [
       "  cluster_pop  formal_dwellings  White     Pop  Employed    area_km  \\\n",
       "0           1             29974  45092   88832     45523  43.875180   \n",
       "1           2             33021  52501   96429     52633  48.179901   \n",
       "2           3             40212  53784  100286     58308  64.374971   \n",
       "3           4             17908  24647   44487     26988  63.004116   \n",
       "4           5             35147  59768   96221     57231  40.802082   \n",
       "5           6             26053  46040   75428     41940  59.136836   \n",
       "6           7             29112  42262   75306     42198  41.882853   \n",
       "7           8             21633  12619   57778     34514  54.210985   \n",
       "\n",
       "                                            geometry  \n",
       "0  POLYGON ((28.09601 -26.04677, 28.09564 -26.047...  \n",
       "1  POLYGON ((28.01435 -26.14256, 28.01451 -26.142...  \n",
       "2  POLYGON ((28.07578 -25.99720, 28.07548 -25.997...  \n",
       "3  POLYGON ((28.08749 -26.16750, 28.08739 -26.167...  \n",
       "4  POLYGON ((28.04398 -26.14119, 28.04379 -26.141...  \n",
       "5  POLYGON ((28.02760 -26.09165, 28.02760 -26.091...  \n",
       "6  POLYGON ((27.87916 -26.12588, 27.87907 -26.126...  \n",
       "7  POLYGON ((27.94480 -26.12285, 27.94404 -26.123...  "
      ]
     },
     "execution_count": 408,
     "metadata": {},
     "output_type": "execute_result"
    }
   ],
   "source": [
    "clust_desc_area"
   ]
  },
  {
   "cell_type": "code",
   "execution_count": 410,
   "id": "6121923b",
   "metadata": {
    "ExecuteTime": {
     "end_time": "2022-01-16T10:51:36.227214Z",
     "start_time": "2022-01-16T10:51:36.161127Z"
    }
   },
   "outputs": [],
   "source": [
    "borders_jhb = gpd.read_file('borders_jhb.geojson')"
   ]
  },
  {
   "cell_type": "code",
   "execution_count": 433,
   "id": "2164ee4a",
   "metadata": {
    "ExecuteTime": {
     "end_time": "2022-01-16T11:02:39.887458Z",
     "start_time": "2022-01-16T11:02:39.882097Z"
    }
   },
   "outputs": [],
   "source": [
    "def get_h3_net (city_boarders,scale ):\n",
    "    \"\"\"Create a h3 net for  given city borders.\n",
    "    borders type : [[]]\n",
    "    \"\"\"\n",
    "    pass\n",
    "    boarders_gjson= { \n",
    "                    \"type\": \"Polygon\",\n",
    "                    \"coordinates\": [\n",
    "                       city_boarders \n",
    "                    ] \n",
    "                }\n",
    "    hexs = h3.polyfill(boarders_gjson, res=scale,geo_json_conformant = True)\n",
    "    \n",
    "    polygonise = lambda hex_id: Polygon(\\\n",
    "                            h3.h3_to_geo_boundary(\n",
    "                            hex_id, geo_json=True)\n",
    "                                        )\n",
    "    \n",
    "    # %time all_polys = gpd.GeoSeries(list(map(polygonise, hexs)), \\\n",
    "    #                                       index=hexs, \\\n",
    "    #                                       crs=\"EPSG:4326\" \\\n",
    "    #                                      )\n",
    "    \n",
    "    gdf_hex = gpd.GeoDataFrame(list(map(polygonise, hexs)), \\\n",
    "                                          index=hexs, \\\n",
    "                                          crs=\"EPSG:4326\", \\\n",
    "                     columns=['geometry']\\\n",
    "                                         )\n",
    "    #     fig, ax=plt.subplots(figsize=(13,10))\n",
    "    #     gdf_hex.plot(alpha=0.5, linewidth=1, ax=ax)\n",
    "    #     ctx.add_basemap(ax=ax, crs='epsg:4326')\n",
    "    #     plt.show()\n",
    "   \n",
    "    return gdf_hex\n",
    "\n",
    "import h3\n",
    "\n",
    "df_hex_jhb = get_h3_net(borders_jhb.iloc[0].geometry.boundary.coords,10).reset_index()\n",
    "\n",
    "df_hex_jhb\n",
    "\n",
    "df_hex_jhb_bests = gpd.sjoin(df_hex_jhb, pop_grid_best_wards[['geometry','pop']],op='intersects',how='inner' )"
   ]
  },
  {
   "cell_type": "code",
   "execution_count": 531,
   "id": "5a53e51d",
   "metadata": {
    "ExecuteTime": {
     "end_time": "2022-01-17T19:57:37.601566Z",
     "start_time": "2022-01-17T19:57:21.374744Z"
    }
   },
   "outputs": [],
   "source": [
    "df_hex_jhb_bests_gr = df_hex_jhb_bests.dissolve(by = 'index',aggfunc='sum')"
   ]
  },
  {
   "cell_type": "code",
   "execution_count": 533,
   "id": "92871ab5",
   "metadata": {
    "ExecuteTime": {
     "end_time": "2022-01-17T19:58:07.123602Z",
     "start_time": "2022-01-17T19:58:07.120234Z"
    }
   },
   "outputs": [],
   "source": [
    "df_hex_jhb_bests_gr.reset_index(inplace=True)"
   ]
  },
  {
   "cell_type": "code",
   "execution_count": 534,
   "id": "dfc5ab50",
   "metadata": {
    "ExecuteTime": {
     "end_time": "2022-01-17T19:59:06.443438Z",
     "start_time": "2022-01-17T19:59:06.334583Z"
    }
   },
   "outputs": [
    {
     "data": {
      "text/html": [
       "<div>\n",
       "<style scoped>\n",
       "    .dataframe tbody tr th:only-of-type {\n",
       "        vertical-align: middle;\n",
       "    }\n",
       "\n",
       "    .dataframe tbody tr th {\n",
       "        vertical-align: top;\n",
       "    }\n",
       "\n",
       "    .dataframe thead th {\n",
       "        text-align: right;\n",
       "    }\n",
       "</style>\n",
       "<table border=\"1\" class=\"dataframe\">\n",
       "  <thead>\n",
       "    <tr style=\"text-align: right;\">\n",
       "      <th></th>\n",
       "      <th>index</th>\n",
       "      <th>geometry</th>\n",
       "      <th>index_right</th>\n",
       "      <th>pop</th>\n",
       "    </tr>\n",
       "  </thead>\n",
       "  <tbody>\n",
       "    <tr>\n",
       "      <th>0</th>\n",
       "      <td>87bcc3400ffffff</td>\n",
       "      <td>POLYGON ((28.01466 -26.00823, 28.00202 -26.000...</td>\n",
       "      <td>1729880</td>\n",
       "      <td>5610</td>\n",
       "    </tr>\n",
       "    <tr>\n",
       "      <th>1</th>\n",
       "      <td>87bcc3401ffffff</td>\n",
       "      <td>POLYGON ((27.97675 -25.98635, 27.99023 -25.980...</td>\n",
       "      <td>78532</td>\n",
       "      <td>313</td>\n",
       "    </tr>\n",
       "    <tr>\n",
       "      <th>2</th>\n",
       "      <td>87bcc3402ffffff</td>\n",
       "      <td>POLYGON ((28.04246 -25.98316, 28.02898 -25.989...</td>\n",
       "      <td>1050889</td>\n",
       "      <td>1636</td>\n",
       "    </tr>\n",
       "    <tr>\n",
       "      <th>3</th>\n",
       "      <td>87bcc3403ffffff</td>\n",
       "      <td>POLYGON ((28.01634 -25.98179, 28.00286 -25.987...</td>\n",
       "      <td>9154</td>\n",
       "      <td>4</td>\n",
       "    </tr>\n",
       "    <tr>\n",
       "      <th>4</th>\n",
       "      <td>87bcc3404ffffff</td>\n",
       "      <td>POLYGON ((28.01466 -26.00823, 28.02814 -26.002...</td>\n",
       "      <td>5010404</td>\n",
       "      <td>15257</td>\n",
       "    </tr>\n",
       "    <tr>\n",
       "      <th>...</th>\n",
       "      <td>...</td>\n",
       "      <td>...</td>\n",
       "      <td>...</td>\n",
       "      <td>...</td>\n",
       "    </tr>\n",
       "    <tr>\n",
       "      <th>111</th>\n",
       "      <td>87bcc3cf0ffffff</td>\n",
       "      <td>POLYGON ((28.04843 -26.30140, 28.04927 -26.288...</td>\n",
       "      <td>23375015</td>\n",
       "      <td>12047</td>\n",
       "    </tr>\n",
       "    <tr>\n",
       "      <th>112</th>\n",
       "      <td>87bcc3cf1ffffff</td>\n",
       "      <td>POLYGON ((28.04843 -26.30140, 28.03493 -26.307...</td>\n",
       "      <td>5690480</td>\n",
       "      <td>2709</td>\n",
       "    </tr>\n",
       "    <tr>\n",
       "      <th>113</th>\n",
       "      <td>87bcc3cf3ffffff</td>\n",
       "      <td>POLYGON ((28.03661 -26.28094, 28.03745 -26.267...</td>\n",
       "      <td>19854042</td>\n",
       "      <td>9858</td>\n",
       "    </tr>\n",
       "    <tr>\n",
       "      <th>114</th>\n",
       "      <td>87bcc3cf4ffffff</td>\n",
       "      <td>POLYGON ((28.07291 -26.32913, 28.06025 -26.321...</td>\n",
       "      <td>6342411</td>\n",
       "      <td>2851</td>\n",
       "    </tr>\n",
       "    <tr>\n",
       "      <th>115</th>\n",
       "      <td>87bcc3cf5ffffff</td>\n",
       "      <td>POLYGON ((28.04675 -26.32777, 28.03409 -26.320...</td>\n",
       "      <td>10984476</td>\n",
       "      <td>3421</td>\n",
       "    </tr>\n",
       "  </tbody>\n",
       "</table>\n",
       "<p>116 rows × 4 columns</p>\n",
       "</div>"
      ],
      "text/plain": [
       "               index                                           geometry  \\\n",
       "0    87bcc3400ffffff  POLYGON ((28.01466 -26.00823, 28.00202 -26.000...   \n",
       "1    87bcc3401ffffff  POLYGON ((27.97675 -25.98635, 27.99023 -25.980...   \n",
       "2    87bcc3402ffffff  POLYGON ((28.04246 -25.98316, 28.02898 -25.989...   \n",
       "3    87bcc3403ffffff  POLYGON ((28.01634 -25.98179, 28.00286 -25.987...   \n",
       "4    87bcc3404ffffff  POLYGON ((28.01466 -26.00823, 28.02814 -26.002...   \n",
       "..               ...                                                ...   \n",
       "111  87bcc3cf0ffffff  POLYGON ((28.04843 -26.30140, 28.04927 -26.288...   \n",
       "112  87bcc3cf1ffffff  POLYGON ((28.04843 -26.30140, 28.03493 -26.307...   \n",
       "113  87bcc3cf3ffffff  POLYGON ((28.03661 -26.28094, 28.03745 -26.267...   \n",
       "114  87bcc3cf4ffffff  POLYGON ((28.07291 -26.32913, 28.06025 -26.321...   \n",
       "115  87bcc3cf5ffffff  POLYGON ((28.04675 -26.32777, 28.03409 -26.320...   \n",
       "\n",
       "     index_right    pop  \n",
       "0        1729880   5610  \n",
       "1          78532    313  \n",
       "2        1050889   1636  \n",
       "3           9154      4  \n",
       "4        5010404  15257  \n",
       "..           ...    ...  \n",
       "111     23375015  12047  \n",
       "112      5690480   2709  \n",
       "113     19854042   9858  \n",
       "114      6342411   2851  \n",
       "115     10984476   3421  \n",
       "\n",
       "[116 rows x 4 columns]"
      ]
     },
     "execution_count": 534,
     "metadata": {},
     "output_type": "execute_result"
    }
   ],
   "source": [
    "df_hex_jhb_bests_gr"
   ]
  },
  {
   "cell_type": "code",
   "execution_count": 538,
   "id": "0bc72b5c",
   "metadata": {
    "ExecuteTime": {
     "end_time": "2022-01-17T20:01:59.067083Z",
     "start_time": "2022-01-17T20:01:58.940531Z"
    }
   },
   "outputs": [
    {
     "data": {
      "text/html": [
       "<div>\n",
       "<style scoped>\n",
       "    .dataframe tbody tr th:only-of-type {\n",
       "        vertical-align: middle;\n",
       "    }\n",
       "\n",
       "    .dataframe tbody tr th {\n",
       "        vertical-align: top;\n",
       "    }\n",
       "\n",
       "    .dataframe thead th {\n",
       "        text-align: right;\n",
       "    }\n",
       "</style>\n",
       "<table border=\"1\" class=\"dataframe\">\n",
       "  <thead>\n",
       "    <tr style=\"text-align: right;\">\n",
       "      <th></th>\n",
       "      <th>level_0</th>\n",
       "      <th>index</th>\n",
       "      <th>geometry</th>\n",
       "      <th>index_right</th>\n",
       "      <th>pop</th>\n",
       "    </tr>\n",
       "  </thead>\n",
       "  <tbody>\n",
       "    <tr>\n",
       "      <th>0</th>\n",
       "      <td>0</td>\n",
       "      <td>87bcc3400ffffff</td>\n",
       "      <td>POLYGON ((28.01466 -26.00823, 28.00202 -26.000...</td>\n",
       "      <td>1729880</td>\n",
       "      <td>5610</td>\n",
       "    </tr>\n",
       "    <tr>\n",
       "      <th>1</th>\n",
       "      <td>1</td>\n",
       "      <td>87bcc3401ffffff</td>\n",
       "      <td>POLYGON ((27.97675 -25.98635, 27.99023 -25.980...</td>\n",
       "      <td>78532</td>\n",
       "      <td>313</td>\n",
       "    </tr>\n",
       "    <tr>\n",
       "      <th>2</th>\n",
       "      <td>2</td>\n",
       "      <td>87bcc3402ffffff</td>\n",
       "      <td>POLYGON ((28.04246 -25.98316, 28.02898 -25.989...</td>\n",
       "      <td>1050889</td>\n",
       "      <td>1636</td>\n",
       "    </tr>\n",
       "    <tr>\n",
       "      <th>3</th>\n",
       "      <td>3</td>\n",
       "      <td>87bcc3403ffffff</td>\n",
       "      <td>POLYGON ((28.01634 -25.98179, 28.00286 -25.987...</td>\n",
       "      <td>9154</td>\n",
       "      <td>4</td>\n",
       "    </tr>\n",
       "    <tr>\n",
       "      <th>4</th>\n",
       "      <td>4</td>\n",
       "      <td>87bcc3404ffffff</td>\n",
       "      <td>POLYGON ((28.01466 -26.00823, 28.02814 -26.002...</td>\n",
       "      <td>5010404</td>\n",
       "      <td>15257</td>\n",
       "    </tr>\n",
       "    <tr>\n",
       "      <th>...</th>\n",
       "      <td>...</td>\n",
       "      <td>...</td>\n",
       "      <td>...</td>\n",
       "      <td>...</td>\n",
       "      <td>...</td>\n",
       "    </tr>\n",
       "    <tr>\n",
       "      <th>111</th>\n",
       "      <td>111</td>\n",
       "      <td>87bcc3cf0ffffff</td>\n",
       "      <td>POLYGON ((28.04843 -26.30140, 28.04927 -26.288...</td>\n",
       "      <td>23375015</td>\n",
       "      <td>12047</td>\n",
       "    </tr>\n",
       "    <tr>\n",
       "      <th>112</th>\n",
       "      <td>112</td>\n",
       "      <td>87bcc3cf1ffffff</td>\n",
       "      <td>POLYGON ((28.04843 -26.30140, 28.03493 -26.307...</td>\n",
       "      <td>5690480</td>\n",
       "      <td>2709</td>\n",
       "    </tr>\n",
       "    <tr>\n",
       "      <th>113</th>\n",
       "      <td>113</td>\n",
       "      <td>87bcc3cf3ffffff</td>\n",
       "      <td>POLYGON ((28.03661 -26.28094, 28.03745 -26.267...</td>\n",
       "      <td>19854042</td>\n",
       "      <td>9858</td>\n",
       "    </tr>\n",
       "    <tr>\n",
       "      <th>114</th>\n",
       "      <td>114</td>\n",
       "      <td>87bcc3cf4ffffff</td>\n",
       "      <td>POLYGON ((28.07291 -26.32913, 28.06025 -26.321...</td>\n",
       "      <td>6342411</td>\n",
       "      <td>2851</td>\n",
       "    </tr>\n",
       "    <tr>\n",
       "      <th>115</th>\n",
       "      <td>115</td>\n",
       "      <td>87bcc3cf5ffffff</td>\n",
       "      <td>POLYGON ((28.04675 -26.32777, 28.03409 -26.320...</td>\n",
       "      <td>10984476</td>\n",
       "      <td>3421</td>\n",
       "    </tr>\n",
       "  </tbody>\n",
       "</table>\n",
       "<p>116 rows × 5 columns</p>\n",
       "</div>"
      ],
      "text/plain": [
       "     level_0            index  \\\n",
       "0          0  87bcc3400ffffff   \n",
       "1          1  87bcc3401ffffff   \n",
       "2          2  87bcc3402ffffff   \n",
       "3          3  87bcc3403ffffff   \n",
       "4          4  87bcc3404ffffff   \n",
       "..       ...              ...   \n",
       "111      111  87bcc3cf0ffffff   \n",
       "112      112  87bcc3cf1ffffff   \n",
       "113      113  87bcc3cf3ffffff   \n",
       "114      114  87bcc3cf4ffffff   \n",
       "115      115  87bcc3cf5ffffff   \n",
       "\n",
       "                                              geometry  index_right    pop  \n",
       "0    POLYGON ((28.01466 -26.00823, 28.00202 -26.000...      1729880   5610  \n",
       "1    POLYGON ((27.97675 -25.98635, 27.99023 -25.980...        78532    313  \n",
       "2    POLYGON ((28.04246 -25.98316, 28.02898 -25.989...      1050889   1636  \n",
       "3    POLYGON ((28.01634 -25.98179, 28.00286 -25.987...         9154      4  \n",
       "4    POLYGON ((28.01466 -26.00823, 28.02814 -26.002...      5010404  15257  \n",
       "..                                                 ...          ...    ...  \n",
       "111  POLYGON ((28.04843 -26.30140, 28.04927 -26.288...     23375015  12047  \n",
       "112  POLYGON ((28.04843 -26.30140, 28.03493 -26.307...      5690480   2709  \n",
       "113  POLYGON ((28.03661 -26.28094, 28.03745 -26.267...     19854042   9858  \n",
       "114  POLYGON ((28.07291 -26.32913, 28.06025 -26.321...      6342411   2851  \n",
       "115  POLYGON ((28.04675 -26.32777, 28.03409 -26.320...     10984476   3421  \n",
       "\n",
       "[116 rows x 5 columns]"
      ]
     },
     "execution_count": 538,
     "metadata": {},
     "output_type": "execute_result"
    }
   ],
   "source": []
  },
  {
   "cell_type": "code",
   "execution_count": 543,
   "id": "0eab8c69",
   "metadata": {
    "ExecuteTime": {
     "end_time": "2022-01-17T20:03:15.029052Z",
     "start_time": "2022-01-17T20:03:14.995487Z"
    }
   },
   "outputs": [
    {
     "name": "stderr",
     "output_type": "stream",
     "text": [
      "/usr/local/lib/python3.7/dist-packages/libpysal/weights/weights.py:172: UserWarning: The weights matrix is not fully connected: \n",
      " There are 2 disconnected components.\n",
      "  warnings.warn(message)\n"
     ]
    }
   ],
   "source": [
    "# input 3\n",
    "top_n = 4\n",
    "# gdf_fin_cpt_jhb_wrd_bests[\"count\"] = 1\n",
    "threshold_name = \"pop\"\n",
    "attrs_name = [\"level_0\"]\n",
    "\n",
    "df = df_hex_jhb_bests_gr\n",
    "df = df.reset_index()\n",
    "\n",
    "w =  libpysal.weights.Rook.from_dataframe(df)\n",
    "\n",
    "threshold_value = 50000"
   ]
  },
  {
   "cell_type": "code",
   "execution_count": 1,
   "id": "145ecb04",
   "metadata": {
    "ExecuteTime": {
     "end_time": "2022-02-12T10:12:36.397918Z",
     "start_time": "2022-02-12T10:12:36.343237Z"
    }
   },
   "outputs": [
    {
     "ename": "NameError",
     "evalue": "name 'df' is not defined",
     "output_type": "error",
     "traceback": [
      "\u001b[0;31m---------------------------------------------------------------------------\u001b[0m",
      "\u001b[0;31mNameError\u001b[0m                                 Traceback (most recent call last)",
      "\u001b[0;32m/tmp/ipykernel_5686/1396537375.py\u001b[0m in \u001b[0;36m<module>\u001b[0;34m\u001b[0m\n\u001b[0;32m----> 1\u001b[0;31m \u001b[0mdf\u001b[0m\u001b[0;34m\u001b[0m\u001b[0;34m\u001b[0m\u001b[0m\n\u001b[0m",
      "\u001b[0;31mNameError\u001b[0m: name 'df' is not defined"
     ]
    }
   ],
   "source": [
    "df"
   ]
  },
  {
   "cell_type": "code",
   "execution_count": 536,
   "id": "5e979b65",
   "metadata": {
    "ExecuteTime": {
     "end_time": "2022-01-17T20:00:21.328977Z",
     "start_time": "2022-01-17T20:00:21.168985Z"
    }
   },
   "outputs": [
    {
     "data": {
      "text/plain": [
       "<AxesSubplot:>"
      ]
     },
     "execution_count": 536,
     "metadata": {},
     "output_type": "execute_result"
    },
    {
     "data": {
      "image/png": "[encoded data removed]",
      "text/plain": [
       "<Figure size 432x288 with 1 Axes>"
      ]
     },
     "metadata": {
      "needs_background": "light"
     },
     "output_type": "display_data"
    }
   ],
   "source": [
    "df.plot()"
   ]
  },
  {
   "cell_type": "code",
   "execution_count": 544,
   "id": "fdd9ec01",
   "metadata": {
    "ExecuteTime": {
     "end_time": "2022-01-17T20:05:01.296007Z",
     "start_time": "2022-01-17T20:03:17.822913Z"
    }
   },
   "outputs": [
    {
     "data": {
      "image/png": "[encoded data removed]",
      "text/plain": [
       "<Figure size 720x648 with 1 Axes>"
      ]
     },
     "metadata": {
      "needs_background": "light"
     },
     "output_type": "display_data"
    },
    {
     "name": "stderr",
     "output_type": "stream",
     "text": [
      "/usr/local/lib/python3.7/dist-packages/ipykernel_launcher.py:16: FutureWarning: Indexing with multiple keys (implicitly converted to a tuple of keys) will be deprecated, use a list instead.\n",
      "  app.launch_new_instance()\n"
     ]
    },
    {
     "ename": "KeyError",
     "evalue": "\"Columns not found: 'Pop', 'area_km', 'White', 'formal_dwellings', 'Employed'\"",
     "output_type": "error",
     "traceback": [
      "\u001b[0;31m---------------------------------------------------------------------------\u001b[0m",
      "\u001b[0;31mKeyError\u001b[0m                                  Traceback (most recent call last)",
      "\u001b[0;32m/tmp/ipykernel_27805/3530953710.py\u001b[0m in \u001b[0;36m<module>\u001b[0;34m\u001b[0m\n\u001b[0;32m----> 1\u001b[0;31m \u001b[0mclust_desc_pop\u001b[0m\u001b[0;34m=\u001b[0m \u001b[0mcalc_cluster_maxp\u001b[0m\u001b[0;34m(\u001b[0m\u001b[0mdf\u001b[0m\u001b[0;34m,\u001b[0m \u001b[0mw\u001b[0m\u001b[0;34m,\u001b[0m \u001b[0mattrs_name\u001b[0m\u001b[0;34m,\u001b[0m \u001b[0mthreshold_name\u001b[0m\u001b[0;34m,\u001b[0m \u001b[0mthreshold_value\u001b[0m\u001b[0;34m,\u001b[0m \u001b[0mtop_n\u001b[0m\u001b[0;34m)\u001b[0m\u001b[0;34m\u001b[0m\u001b[0;34m\u001b[0m\u001b[0m\n\u001b[0m",
      "\u001b[0;32m/tmp/ipykernel_27805/1308406781.py\u001b[0m in \u001b[0;36mcalc_cluster_maxp\u001b[0;34m(df, w, attrs_name, threshold_name, threshold_value, top_n)\u001b[0m\n\u001b[1;32m     14\u001b[0m     \u001b[0mplt\u001b[0m\u001b[0;34m.\u001b[0m\u001b[0mshow\u001b[0m\u001b[0;34m(\u001b[0m\u001b[0;34m)\u001b[0m\u001b[0;34m\u001b[0m\u001b[0;34m\u001b[0m\u001b[0m\n\u001b[1;32m     15\u001b[0m \u001b[0;34m\u001b[0m\u001b[0m\n\u001b[0;32m---> 16\u001b[0;31m     \u001b[0mprint\u001b[0m\u001b[0;34m(\u001b[0m\u001b[0mdf\u001b[0m\u001b[0;34m.\u001b[0m\u001b[0mgroupby\u001b[0m\u001b[0;34m(\u001b[0m\u001b[0;34m'cluster_pop'\u001b[0m\u001b[0;34m)\u001b[0m\u001b[0;34m[\u001b[0m\u001b[0;34m'formal_dwellings'\u001b[0m\u001b[0;34m,\u001b[0m\u001b[0;34m'White'\u001b[0m\u001b[0;34m,\u001b[0m\u001b[0;34m'Pop'\u001b[0m\u001b[0;34m,\u001b[0m\u001b[0;34m'Employed'\u001b[0m\u001b[0;34m,\u001b[0m\u001b[0;34m'area_km'\u001b[0m\u001b[0;34m]\u001b[0m\u001b[0;34m.\u001b[0m\u001b[0msum\u001b[0m\u001b[0;34m(\u001b[0m\u001b[0;34m)\u001b[0m\u001b[0;34m)\u001b[0m\u001b[0;34m\u001b[0m\u001b[0;34m\u001b[0m\u001b[0m\n\u001b[0m\u001b[1;32m     17\u001b[0m \u001b[0;34m\u001b[0m\u001b[0m\n\u001b[1;32m     18\u001b[0m     \u001b[0mclust_geom\u001b[0m \u001b[0;34m=\u001b[0m \u001b[0mdf\u001b[0m\u001b[0;34m[\u001b[0m\u001b[0;34m[\u001b[0m\u001b[0;34m'cluster_pop'\u001b[0m\u001b[0;34m,\u001b[0m\u001b[0;34m'geometry'\u001b[0m\u001b[0;34m]\u001b[0m\u001b[0;34m]\u001b[0m\u001b[0;34m.\u001b[0m\u001b[0mdissolve\u001b[0m\u001b[0;34m(\u001b[0m\u001b[0mby\u001b[0m\u001b[0;34m=\u001b[0m\u001b[0;34m'cluster_pop'\u001b[0m\u001b[0;34m,\u001b[0m \u001b[0maggfunc\u001b[0m\u001b[0;34m=\u001b[0m\u001b[0;34m'sum'\u001b[0m\u001b[0;34m)\u001b[0m\u001b[0;34m\u001b[0m\u001b[0;34m\u001b[0m\u001b[0m\n",
      "\u001b[0;32m/usr/local/lib/python3.7/dist-packages/pandas/core/groupby/generic.py\u001b[0m in \u001b[0;36m__getitem__\u001b[0;34m(self, key)\u001b[0m\n\u001b[1;32m   1536\u001b[0m                 \u001b[0mstacklevel\u001b[0m\u001b[0;34m=\u001b[0m\u001b[0;36m2\u001b[0m\u001b[0;34m,\u001b[0m\u001b[0;34m\u001b[0m\u001b[0;34m\u001b[0m\u001b[0m\n\u001b[1;32m   1537\u001b[0m             )\n\u001b[0;32m-> 1538\u001b[0;31m         \u001b[0;32mreturn\u001b[0m \u001b[0msuper\u001b[0m\u001b[0;34m(\u001b[0m\u001b[0;34m)\u001b[0m\u001b[0;34m.\u001b[0m\u001b[0m__getitem__\u001b[0m\u001b[0;34m(\u001b[0m\u001b[0mkey\u001b[0m\u001b[0;34m)\u001b[0m\u001b[0;34m\u001b[0m\u001b[0;34m\u001b[0m\u001b[0m\n\u001b[0m\u001b[1;32m   1539\u001b[0m \u001b[0;34m\u001b[0m\u001b[0m\n\u001b[1;32m   1540\u001b[0m     \u001b[0;32mdef\u001b[0m \u001b[0m_gotitem\u001b[0m\u001b[0;34m(\u001b[0m\u001b[0mself\u001b[0m\u001b[0;34m,\u001b[0m \u001b[0mkey\u001b[0m\u001b[0;34m,\u001b[0m \u001b[0mndim\u001b[0m\u001b[0;34m:\u001b[0m \u001b[0mint\u001b[0m\u001b[0;34m,\u001b[0m \u001b[0msubset\u001b[0m\u001b[0;34m=\u001b[0m\u001b[0;32mNone\u001b[0m\u001b[0;34m)\u001b[0m\u001b[0;34m:\u001b[0m\u001b[0;34m\u001b[0m\u001b[0;34m\u001b[0m\u001b[0m\n",
      "\u001b[0;32m/usr/local/lib/python3.7/dist-packages/pandas/core/base.py\u001b[0m in \u001b[0;36m__getitem__\u001b[0;34m(self, key)\u001b[0m\n\u001b[1;32m    220\u001b[0m             \u001b[0;32mif\u001b[0m \u001b[0mlen\u001b[0m\u001b[0;34m(\u001b[0m\u001b[0mself\u001b[0m\u001b[0;34m.\u001b[0m\u001b[0mobj\u001b[0m\u001b[0;34m.\u001b[0m\u001b[0mcolumns\u001b[0m\u001b[0;34m.\u001b[0m\u001b[0mintersection\u001b[0m\u001b[0;34m(\u001b[0m\u001b[0mkey\u001b[0m\u001b[0;34m)\u001b[0m\u001b[0;34m)\u001b[0m \u001b[0;34m!=\u001b[0m \u001b[0mlen\u001b[0m\u001b[0;34m(\u001b[0m\u001b[0mkey\u001b[0m\u001b[0;34m)\u001b[0m\u001b[0;34m:\u001b[0m\u001b[0;34m\u001b[0m\u001b[0;34m\u001b[0m\u001b[0m\n\u001b[1;32m    221\u001b[0m                 \u001b[0mbad_keys\u001b[0m \u001b[0;34m=\u001b[0m \u001b[0mlist\u001b[0m\u001b[0;34m(\u001b[0m\u001b[0mset\u001b[0m\u001b[0;34m(\u001b[0m\u001b[0mkey\u001b[0m\u001b[0;34m)\u001b[0m\u001b[0;34m.\u001b[0m\u001b[0mdifference\u001b[0m\u001b[0;34m(\u001b[0m\u001b[0mself\u001b[0m\u001b[0;34m.\u001b[0m\u001b[0mobj\u001b[0m\u001b[0;34m.\u001b[0m\u001b[0mcolumns\u001b[0m\u001b[0;34m)\u001b[0m\u001b[0;34m)\u001b[0m\u001b[0;34m\u001b[0m\u001b[0;34m\u001b[0m\u001b[0m\n\u001b[0;32m--> 222\u001b[0;31m                 \u001b[0;32mraise\u001b[0m \u001b[0mKeyError\u001b[0m\u001b[0;34m(\u001b[0m\u001b[0;34mf\"Columns not found: {str(bad_keys)[1:-1]}\"\u001b[0m\u001b[0;34m)\u001b[0m\u001b[0;34m\u001b[0m\u001b[0;34m\u001b[0m\u001b[0m\n\u001b[0m\u001b[1;32m    223\u001b[0m             \u001b[0;32mreturn\u001b[0m \u001b[0mself\u001b[0m\u001b[0;34m.\u001b[0m\u001b[0m_gotitem\u001b[0m\u001b[0;34m(\u001b[0m\u001b[0mlist\u001b[0m\u001b[0;34m(\u001b[0m\u001b[0mkey\u001b[0m\u001b[0;34m)\u001b[0m\u001b[0;34m,\u001b[0m \u001b[0mndim\u001b[0m\u001b[0;34m=\u001b[0m\u001b[0;36m2\u001b[0m\u001b[0;34m)\u001b[0m\u001b[0;34m\u001b[0m\u001b[0;34m\u001b[0m\u001b[0m\n\u001b[1;32m    224\u001b[0m \u001b[0;34m\u001b[0m\u001b[0m\n",
      "\u001b[0;31mKeyError\u001b[0m: \"Columns not found: 'Pop', 'area_km', 'White', 'formal_dwellings', 'Employed'\""
     ]
    }
   ],
   "source": [
    "clust_desc_pop= calc_cluster_maxp(df, w, attrs_name, threshold_name, threshold_value, top_n)"
   ]
  },
  {
   "cell_type": "markdown",
   "id": "9ce8d5e5",
   "metadata": {},
   "source": [
    "### Кейптаун"
   ]
  },
  {
   "cell_type": "code",
   "execution_count": 445,
   "id": "c1669a39",
   "metadata": {
    "ExecuteTime": {
     "end_time": "2022-01-17T11:39:41.705490Z",
     "start_time": "2022-01-17T11:39:41.624373Z"
    }
   },
   "outputs": [
    {
     "name": "stderr",
     "output_type": "stream",
     "text": [
      "/usr/local/lib/python3.7/dist-packages/libpysal/weights/_contW_lists.py:31: ShapelyDeprecationWarning: Iteration over multi-part geometries is deprecated and will be removed in Shapely 2.0. Use the `geoms` property to access the constituent parts of a multi-part geometry.\n",
      "  return list(it.chain(*(_get_boundary_points(part.boundary) for part in shape)))\n",
      "/usr/local/lib/python3.7/dist-packages/libpysal/weights/weights.py:172: UserWarning: The weights matrix is not fully connected: \n",
      " There are 2 disconnected components.\n",
      "  warnings.warn(message)\n"
     ]
    }
   ],
   "source": [
    "# input 4\n",
    "top_n = 1\n",
    "# gdf_fin_cpt_jhb_wrd_bests[\"count\"] = 1\n",
    "threshold_name_hsld = \"formal_dwellings\"\n",
    "attrs_name = [\"index\"]\n",
    "\n",
    "df = gdf_fin_cpt_jhb_wrd_bests[(gdf_fin_cpt_jhb_wrd_bests['CAT_B']=='CPT')&(gdf_fin_cpt_jhb_wrd_bests['WARD_ID'].isin(['19100023','19100107','19100015','19100084'])==False)][['index','geometry',\"formal_dwellings\",'White','Employed','Pop','area_km']]\n",
    "\n"
   ]
  },
  {
   "cell_type": "code",
   "execution_count": 488,
   "id": "e65fdfca",
   "metadata": {
    "ExecuteTime": {
     "end_time": "2022-01-17T11:58:33.515453Z",
     "start_time": "2022-01-17T11:58:33.472041Z"
    }
   },
   "outputs": [
    {
     "name": "stderr",
     "output_type": "stream",
     "text": [
      "/usr/local/lib/python3.7/dist-packages/libpysal/weights/weights.py:172: UserWarning: The weights matrix is not fully connected: \n",
      " There are 2 disconnected components.\n",
      "  warnings.warn(message)\n"
     ]
    }
   ],
   "source": [
    "w =  libpysal.weights.Rook.from_dataframe(df)\n",
    "\n",
    "threshold_value = 20000"
   ]
  },
  {
   "cell_type": "code",
   "execution_count": 451,
   "id": "1fd4c67b",
   "metadata": {
    "ExecuteTime": {
     "end_time": "2022-01-17T11:41:54.816670Z",
     "start_time": "2022-01-17T11:41:54.742000Z"
    }
   },
   "outputs": [
    {
     "name": "stderr",
     "output_type": "stream",
     "text": [
      "/usr/local/lib/python3.7/dist-packages/ipykernel_launcher.py:1: UserWarning: Geometry is in a geographic CRS. Results from 'centroid' are likely incorrect. Use 'GeoSeries.to_crs()' to re-project geometries to a projected CRS before this operation.\n",
      "\n",
      "  \"\"\"Entry point for launching an IPython kernel.\n",
      "/usr/local/lib/python3.7/dist-packages/ipykernel_launcher.py:1: UserWarning: Geometry is in a geographic CRS. Results from 'centroid' are likely incorrect. Use 'GeoSeries.to_crs()' to re-project geometries to a projected CRS before this operation.\n",
      "\n",
      "  \"\"\"Entry point for launching an IPython kernel.\n"
     ]
    },
    {
     "data": {
      "text/html": [
       "<div>\n",
       "<style scoped>\n",
       "    .dataframe tbody tr th:only-of-type {\n",
       "        vertical-align: middle;\n",
       "    }\n",
       "\n",
       "    .dataframe tbody tr th {\n",
       "        vertical-align: top;\n",
       "    }\n",
       "\n",
       "    .dataframe thead th {\n",
       "        text-align: right;\n",
       "    }\n",
       "</style>\n",
       "<table border=\"1\" class=\"dataframe\">\n",
       "  <thead>\n",
       "    <tr style=\"text-align: right;\">\n",
       "      <th></th>\n",
       "      <th>index</th>\n",
       "      <th>geometry</th>\n",
       "      <th>formal_dwellings</th>\n",
       "      <th>White</th>\n",
       "      <th>Employed</th>\n",
       "      <th>Pop</th>\n",
       "      <th>area_km</th>\n",
       "    </tr>\n",
       "  </thead>\n",
       "  <tbody>\n",
       "    <tr>\n",
       "      <th>183</th>\n",
       "      <td>183</td>\n",
       "      <td>MULTIPOLYGON (((18.41515 -33.89914, 18.41514 -...</td>\n",
       "      <td>12903</td>\n",
       "      <td>18494</td>\n",
       "      <td>13318</td>\n",
       "      <td>27903</td>\n",
       "      <td>15.210237</td>\n",
       "    </tr>\n",
       "  </tbody>\n",
       "</table>\n",
       "</div>"
      ],
      "text/plain": [
       "     index                                           geometry  \\\n",
       "183    183  MULTIPOLYGON (((18.41515 -33.89914, 18.41514 -...   \n",
       "\n",
       "     formal_dwellings  White  Employed    Pop    area_km  \n",
       "183             12903  18494     13318  27903  15.210237  "
      ]
     },
     "execution_count": 451,
     "metadata": {},
     "output_type": "execute_result"
    }
   ],
   "source": [
    "df[df.geometry.centroid.x==df.geometry.centroid.x.min()]"
   ]
  },
  {
   "cell_type": "code",
   "execution_count": 459,
   "id": "d93cfff4",
   "metadata": {
    "ExecuteTime": {
     "end_time": "2022-01-17T11:43:06.684541Z",
     "start_time": "2022-01-17T11:43:06.680083Z"
    }
   },
   "outputs": [
    {
     "name": "stderr",
     "output_type": "stream",
     "text": [
      "/usr/local/lib/python3.7/dist-packages/ipykernel_launcher.py:1: ShapelyDeprecationWarning: __getitem__ for multi-part geometries is deprecated and will be removed in Shapely 2.0. Use the `geoms` property to access the constituent parts of a multi-part geometry.\n",
      "  \"\"\"Entry point for launching an IPython kernel.\n"
     ]
    }
   ],
   "source": [
    "df.loc[183,'geometry'] = df.loc[183,'geometry'][0]"
   ]
  },
  {
   "cell_type": "code",
   "execution_count": 487,
   "id": "a96b0ce8",
   "metadata": {
    "ExecuteTime": {
     "end_time": "2022-01-17T11:58:18.231007Z",
     "start_time": "2022-01-17T11:58:18.070515Z"
    }
   },
   "outputs": [
    {
     "data": {
      "text/plain": [
       "<AxesSubplot:>"
      ]
     },
     "execution_count": 487,
     "metadata": {},
     "output_type": "execute_result"
    },
    {
     "data": {
      "image/png": "[encoded data removed]",
      "text/plain": [
       "<Figure size 432x288 with 1 Axes>"
      ]
     },
     "metadata": {
      "needs_background": "light"
     },
     "output_type": "display_data"
    }
   ],
   "source": [
    "df.plot()"
   ]
  },
  {
   "cell_type": "code",
   "execution_count": 489,
   "id": "8b0de5d2",
   "metadata": {
    "ExecuteTime": {
     "end_time": "2022-01-17T11:59:00.452956Z",
     "start_time": "2022-01-17T11:58:43.430078Z"
    }
   },
   "outputs": [
    {
     "ename": "KeyboardInterrupt",
     "evalue": "",
     "output_type": "error",
     "traceback": [
      "\u001b[0;31m---------------------------------------------------------------------------\u001b[0m",
      "\u001b[0;31mKeyboardInterrupt\u001b[0m                         Traceback (most recent call last)",
      "\u001b[0;32m/tmp/ipykernel_27805/3258359252.py\u001b[0m in \u001b[0;36m<module>\u001b[0;34m\u001b[0m\n\u001b[0;32m----> 1\u001b[0;31m \u001b[0mclust_desc_cpt_dwh\u001b[0m \u001b[0;34m=\u001b[0m \u001b[0mcalc_cluster_maxp\u001b[0m\u001b[0;34m(\u001b[0m\u001b[0mdf\u001b[0m\u001b[0;34m,\u001b[0m \u001b[0mw\u001b[0m\u001b[0;34m,\u001b[0m \u001b[0mattrs_name\u001b[0m\u001b[0;34m,\u001b[0m \u001b[0mthreshold_name_hsld\u001b[0m\u001b[0;34m,\u001b[0m \u001b[0mthreshold_value\u001b[0m\u001b[0;34m,\u001b[0m \u001b[0mtop_n\u001b[0m\u001b[0;34m)\u001b[0m\u001b[0;34m\u001b[0m\u001b[0;34m\u001b[0m\u001b[0m\n\u001b[0m",
      "\u001b[0;32m/tmp/ipykernel_27805/3216125361.py\u001b[0m in \u001b[0;36mcalc_cluster_maxp\u001b[0;34m(df, w, attrs_name, threshold_name, threshold_value, top_n)\u001b[0m\n\u001b[1;32m     11\u001b[0m     \u001b[0mdf\u001b[0m\u001b[0;34m[\u001b[0m\u001b[0;34m'cluster_pop'\u001b[0m\u001b[0;34m]\u001b[0m\u001b[0;34m=\u001b[0m\u001b[0mdf\u001b[0m\u001b[0;34m[\u001b[0m\u001b[0;34m'cluster_pop'\u001b[0m\u001b[0;34m]\u001b[0m\u001b[0;34m.\u001b[0m\u001b[0mastype\u001b[0m\u001b[0;34m(\u001b[0m\u001b[0mstr\u001b[0m\u001b[0;34m)\u001b[0m\u001b[0;34m\u001b[0m\u001b[0;34m\u001b[0m\u001b[0m\n\u001b[1;32m     12\u001b[0m \u001b[0;34m\u001b[0m\u001b[0m\n\u001b[0;32m---> 13\u001b[0;31m     \u001b[0mdf\u001b[0m\u001b[0;34m.\u001b[0m\u001b[0mplot\u001b[0m\u001b[0;34m(\u001b[0m\u001b[0mcolumn\u001b[0m\u001b[0;34m=\u001b[0m\u001b[0;34m'cluster_pop'\u001b[0m\u001b[0;34m,\u001b[0m \u001b[0mfigsize\u001b[0m\u001b[0;34m=\u001b[0m\u001b[0;34m(\u001b[0m\u001b[0;36m10\u001b[0m\u001b[0;34m,\u001b[0m\u001b[0;36m9\u001b[0m\u001b[0;34m)\u001b[0m\u001b[0;34m,\u001b[0m \u001b[0mlegend\u001b[0m\u001b[0;34m=\u001b[0m\u001b[0;32mTrue\u001b[0m\u001b[0;34m)\u001b[0m\u001b[0;34m\u001b[0m\u001b[0;34m\u001b[0m\u001b[0m\n\u001b[0m\u001b[1;32m     14\u001b[0m     \u001b[0mplt\u001b[0m\u001b[0;34m.\u001b[0m\u001b[0mshow\u001b[0m\u001b[0;34m(\u001b[0m\u001b[0;34m)\u001b[0m\u001b[0;34m\u001b[0m\u001b[0;34m\u001b[0m\u001b[0m\n\u001b[1;32m     15\u001b[0m \u001b[0;34m\u001b[0m\u001b[0m\n",
      "\u001b[0;32m/usr/local/lib/python3.7/dist-packages/geopandas/plotting.py\u001b[0m in \u001b[0;36m__call__\u001b[0;34m(self, *args, **kwargs)\u001b[0m\n\u001b[1;32m    948\u001b[0m         \u001b[0mkind\u001b[0m \u001b[0;34m=\u001b[0m \u001b[0mkwargs\u001b[0m\u001b[0;34m.\u001b[0m\u001b[0mpop\u001b[0m\u001b[0;34m(\u001b[0m\u001b[0;34m\"kind\"\u001b[0m\u001b[0;34m,\u001b[0m \u001b[0;34m\"geo\"\u001b[0m\u001b[0;34m)\u001b[0m\u001b[0;34m\u001b[0m\u001b[0;34m\u001b[0m\u001b[0m\n\u001b[1;32m    949\u001b[0m         \u001b[0;32mif\u001b[0m \u001b[0mkind\u001b[0m \u001b[0;34m==\u001b[0m \u001b[0;34m\"geo\"\u001b[0m\u001b[0;34m:\u001b[0m\u001b[0;34m\u001b[0m\u001b[0;34m\u001b[0m\u001b[0m\n\u001b[0;32m--> 950\u001b[0;31m             \u001b[0;32mreturn\u001b[0m \u001b[0mplot_dataframe\u001b[0m\u001b[0;34m(\u001b[0m\u001b[0mdata\u001b[0m\u001b[0;34m,\u001b[0m \u001b[0;34m*\u001b[0m\u001b[0margs\u001b[0m\u001b[0;34m,\u001b[0m \u001b[0;34m**\u001b[0m\u001b[0mkwargs\u001b[0m\u001b[0;34m)\u001b[0m\u001b[0;34m\u001b[0m\u001b[0;34m\u001b[0m\u001b[0m\n\u001b[0m\u001b[1;32m    951\u001b[0m         \u001b[0;32mif\u001b[0m \u001b[0mkind\u001b[0m \u001b[0;32min\u001b[0m \u001b[0mself\u001b[0m\u001b[0;34m.\u001b[0m\u001b[0m_pandas_kinds\u001b[0m\u001b[0;34m:\u001b[0m\u001b[0;34m\u001b[0m\u001b[0;34m\u001b[0m\u001b[0m\n\u001b[1;32m    952\u001b[0m             \u001b[0;31m# Access pandas plots\u001b[0m\u001b[0;34m\u001b[0m\u001b[0;34m\u001b[0m\u001b[0;34m\u001b[0m\u001b[0m\n",
      "\u001b[0;32m/usr/local/lib/python3.7/dist-packages/geopandas/plotting.py\u001b[0m in \u001b[0;36mplot_dataframe\u001b[0;34m(df, column, cmap, color, ax, cax, categorical, legend, scheme, k, vmin, vmax, markersize, figsize, legend_kwds, categories, classification_kwds, missing_kwds, aspect, **style_kwds)\u001b[0m\n\u001b[1;32m    659\u001b[0m         \u001b[0;32mif\u001b[0m \u001b[0mcax\u001b[0m \u001b[0;32mis\u001b[0m \u001b[0;32mnot\u001b[0m \u001b[0;32mNone\u001b[0m\u001b[0;34m:\u001b[0m\u001b[0;34m\u001b[0m\u001b[0;34m\u001b[0m\u001b[0m\n\u001b[1;32m    660\u001b[0m             \u001b[0;32mraise\u001b[0m \u001b[0mValueError\u001b[0m\u001b[0;34m(\u001b[0m\u001b[0;34m\"'ax' can not be None if 'cax' is not.\"\u001b[0m\u001b[0;34m)\u001b[0m\u001b[0;34m\u001b[0m\u001b[0;34m\u001b[0m\u001b[0m\n\u001b[0;32m--> 661\u001b[0;31m         \u001b[0mfig\u001b[0m\u001b[0;34m,\u001b[0m \u001b[0max\u001b[0m \u001b[0;34m=\u001b[0m \u001b[0mplt\u001b[0m\u001b[0;34m.\u001b[0m\u001b[0msubplots\u001b[0m\u001b[0;34m(\u001b[0m\u001b[0mfigsize\u001b[0m\u001b[0;34m=\u001b[0m\u001b[0mfigsize\u001b[0m\u001b[0;34m)\u001b[0m\u001b[0;34m\u001b[0m\u001b[0;34m\u001b[0m\u001b[0m\n\u001b[0m\u001b[1;32m    662\u001b[0m \u001b[0;34m\u001b[0m\u001b[0m\n\u001b[1;32m    663\u001b[0m     \u001b[0;32mif\u001b[0m \u001b[0maspect\u001b[0m \u001b[0;34m==\u001b[0m \u001b[0;34m\"auto\"\u001b[0m\u001b[0;34m:\u001b[0m\u001b[0;34m\u001b[0m\u001b[0;34m\u001b[0m\u001b[0m\n",
      "\u001b[0;32m/usr/local/lib/python3.7/dist-packages/matplotlib/pyplot.py\u001b[0m in \u001b[0;36msubplots\u001b[0;34m(nrows, ncols, sharex, sharey, squeeze, subplot_kw, gridspec_kw, **fig_kw)\u001b[0m\n\u001b[1;32m   1435\u001b[0m     axs = fig.subplots(nrows=nrows, ncols=ncols, sharex=sharex, sharey=sharey,\n\u001b[1;32m   1436\u001b[0m                        \u001b[0msqueeze\u001b[0m\u001b[0;34m=\u001b[0m\u001b[0msqueeze\u001b[0m\u001b[0;34m,\u001b[0m \u001b[0msubplot_kw\u001b[0m\u001b[0;34m=\u001b[0m\u001b[0msubplot_kw\u001b[0m\u001b[0;34m,\u001b[0m\u001b[0;34m\u001b[0m\u001b[0;34m\u001b[0m\u001b[0m\n\u001b[0;32m-> 1437\u001b[0;31m                        gridspec_kw=gridspec_kw)\n\u001b[0m\u001b[1;32m   1438\u001b[0m     \u001b[0;32mreturn\u001b[0m \u001b[0mfig\u001b[0m\u001b[0;34m,\u001b[0m \u001b[0maxs\u001b[0m\u001b[0;34m\u001b[0m\u001b[0;34m\u001b[0m\u001b[0m\n\u001b[1;32m   1439\u001b[0m \u001b[0;34m\u001b[0m\u001b[0m\n",
      "\u001b[0;32m/usr/local/lib/python3.7/dist-packages/matplotlib/figure.py\u001b[0m in \u001b[0;36msubplots\u001b[0;34m(self, nrows, ncols, sharex, sharey, squeeze, subplot_kw, gridspec_kw)\u001b[0m\n\u001b[1;32m    896\u001b[0m         \u001b[0mgs\u001b[0m \u001b[0;34m=\u001b[0m \u001b[0mself\u001b[0m\u001b[0;34m.\u001b[0m\u001b[0madd_gridspec\u001b[0m\u001b[0;34m(\u001b[0m\u001b[0mnrows\u001b[0m\u001b[0;34m,\u001b[0m \u001b[0mncols\u001b[0m\u001b[0;34m,\u001b[0m \u001b[0mfigure\u001b[0m\u001b[0;34m=\u001b[0m\u001b[0mself\u001b[0m\u001b[0;34m,\u001b[0m \u001b[0;34m**\u001b[0m\u001b[0mgridspec_kw\u001b[0m\u001b[0;34m)\u001b[0m\u001b[0;34m\u001b[0m\u001b[0;34m\u001b[0m\u001b[0m\n\u001b[1;32m    897\u001b[0m         axs = gs.subplots(sharex=sharex, sharey=sharey, squeeze=squeeze,\n\u001b[0;32m--> 898\u001b[0;31m                           subplot_kw=subplot_kw)\n\u001b[0m\u001b[1;32m    899\u001b[0m         \u001b[0;32mreturn\u001b[0m \u001b[0maxs\u001b[0m\u001b[0;34m\u001b[0m\u001b[0;34m\u001b[0m\u001b[0m\n\u001b[1;32m    900\u001b[0m \u001b[0;34m\u001b[0m\u001b[0m\n",
      "\u001b[0;32m/usr/local/lib/python3.7/dist-packages/matplotlib/gridspec.py\u001b[0m in \u001b[0;36msubplots\u001b[0;34m(self, sharex, sharey, squeeze, subplot_kw)\u001b[0m\n\u001b[1;32m    306\u001b[0m                 \u001b[0msubplot_kw\u001b[0m\u001b[0;34m[\u001b[0m\u001b[0;34m\"sharey\"\u001b[0m\u001b[0;34m]\u001b[0m \u001b[0;34m=\u001b[0m \u001b[0mshared_with\u001b[0m\u001b[0;34m[\u001b[0m\u001b[0msharey\u001b[0m\u001b[0;34m]\u001b[0m\u001b[0;34m\u001b[0m\u001b[0;34m\u001b[0m\u001b[0m\n\u001b[1;32m    307\u001b[0m                 axarr[row, col] = figure.add_subplot(\n\u001b[0;32m--> 308\u001b[0;31m                     self[row, col], **subplot_kw)\n\u001b[0m\u001b[1;32m    309\u001b[0m \u001b[0;34m\u001b[0m\u001b[0m\n\u001b[1;32m    310\u001b[0m         \u001b[0;31m# turn off redundant tick labeling\u001b[0m\u001b[0;34m\u001b[0m\u001b[0;34m\u001b[0m\u001b[0;34m\u001b[0m\u001b[0m\n",
      "\u001b[0;32m/usr/local/lib/python3.7/dist-packages/matplotlib/figure.py\u001b[0m in \u001b[0;36madd_subplot\u001b[0;34m(self, *args, **kwargs)\u001b[0m\n\u001b[1;32m    770\u001b[0m             projection_class, pkw = self._process_projection_requirements(\n\u001b[1;32m    771\u001b[0m                 *args, **kwargs)\n\u001b[0;32m--> 772\u001b[0;31m             \u001b[0max\u001b[0m \u001b[0;34m=\u001b[0m \u001b[0msubplot_class_factory\u001b[0m\u001b[0;34m(\u001b[0m\u001b[0mprojection_class\u001b[0m\u001b[0;34m)\u001b[0m\u001b[0;34m(\u001b[0m\u001b[0mself\u001b[0m\u001b[0;34m,\u001b[0m \u001b[0;34m*\u001b[0m\u001b[0margs\u001b[0m\u001b[0;34m,\u001b[0m \u001b[0;34m**\u001b[0m\u001b[0mpkw\u001b[0m\u001b[0;34m)\u001b[0m\u001b[0;34m\u001b[0m\u001b[0;34m\u001b[0m\u001b[0m\n\u001b[0m\u001b[1;32m    773\u001b[0m             \u001b[0mkey\u001b[0m \u001b[0;34m=\u001b[0m \u001b[0;34m(\u001b[0m\u001b[0mprojection_class\u001b[0m\u001b[0;34m,\u001b[0m \u001b[0mpkw\u001b[0m\u001b[0;34m)\u001b[0m\u001b[0;34m\u001b[0m\u001b[0;34m\u001b[0m\u001b[0m\n\u001b[1;32m    774\u001b[0m         \u001b[0;32mreturn\u001b[0m \u001b[0mself\u001b[0m\u001b[0;34m.\u001b[0m\u001b[0m_add_axes_internal\u001b[0m\u001b[0;34m(\u001b[0m\u001b[0max\u001b[0m\u001b[0;34m,\u001b[0m \u001b[0mkey\u001b[0m\u001b[0;34m)\u001b[0m\u001b[0;34m\u001b[0m\u001b[0;34m\u001b[0m\u001b[0m\n",
      "\u001b[0;32m/usr/local/lib/python3.7/dist-packages/matplotlib/axes/_subplots.py\u001b[0m in \u001b[0;36m__init__\u001b[0;34m(self, fig, *args, **kwargs)\u001b[0m\n\u001b[1;32m     32\u001b[0m         \"\"\"\n\u001b[1;32m     33\u001b[0m         \u001b[0;31m# _axes_class is set in the subplot_class_factory\u001b[0m\u001b[0;34m\u001b[0m\u001b[0;34m\u001b[0m\u001b[0;34m\u001b[0m\u001b[0m\n\u001b[0;32m---> 34\u001b[0;31m         \u001b[0mself\u001b[0m\u001b[0;34m.\u001b[0m\u001b[0m_axes_class\u001b[0m\u001b[0;34m.\u001b[0m\u001b[0m__init__\u001b[0m\u001b[0;34m(\u001b[0m\u001b[0mself\u001b[0m\u001b[0;34m,\u001b[0m \u001b[0mfig\u001b[0m\u001b[0;34m,\u001b[0m \u001b[0;34m[\u001b[0m\u001b[0;36m0\u001b[0m\u001b[0;34m,\u001b[0m \u001b[0;36m0\u001b[0m\u001b[0;34m,\u001b[0m \u001b[0;36m1\u001b[0m\u001b[0;34m,\u001b[0m \u001b[0;36m1\u001b[0m\u001b[0;34m]\u001b[0m\u001b[0;34m,\u001b[0m \u001b[0;34m**\u001b[0m\u001b[0mkwargs\u001b[0m\u001b[0;34m)\u001b[0m\u001b[0;34m\u001b[0m\u001b[0;34m\u001b[0m\u001b[0m\n\u001b[0m\u001b[1;32m     35\u001b[0m         \u001b[0;31m# This will also update the axes position.\u001b[0m\u001b[0;34m\u001b[0m\u001b[0;34m\u001b[0m\u001b[0;34m\u001b[0m\u001b[0m\n\u001b[1;32m     36\u001b[0m         \u001b[0mself\u001b[0m\u001b[0;34m.\u001b[0m\u001b[0mset_subplotspec\u001b[0m\u001b[0;34m(\u001b[0m\u001b[0mSubplotSpec\u001b[0m\u001b[0;34m.\u001b[0m\u001b[0m_from_subplot_args\u001b[0m\u001b[0;34m(\u001b[0m\u001b[0mfig\u001b[0m\u001b[0;34m,\u001b[0m \u001b[0margs\u001b[0m\u001b[0;34m)\u001b[0m\u001b[0;34m)\u001b[0m\u001b[0;34m\u001b[0m\u001b[0;34m\u001b[0m\u001b[0m\n",
      "\u001b[0;32m/usr/local/lib/python3.7/dist-packages/matplotlib/_api/deprecation.py\u001b[0m in \u001b[0;36mwrapper\u001b[0;34m(*args, **kwargs)\u001b[0m\n\u001b[1;32m    454\u001b[0m                 \u001b[0;34m\"parameter will become keyword-only %(removal)s.\"\u001b[0m\u001b[0;34m,\u001b[0m\u001b[0;34m\u001b[0m\u001b[0;34m\u001b[0m\u001b[0m\n\u001b[1;32m    455\u001b[0m                 name=name, obj_type=f\"parameter of {func.__name__}()\")\n\u001b[0;32m--> 456\u001b[0;31m         \u001b[0;32mreturn\u001b[0m \u001b[0mfunc\u001b[0m\u001b[0;34m(\u001b[0m\u001b[0;34m*\u001b[0m\u001b[0margs\u001b[0m\u001b[0;34m,\u001b[0m \u001b[0;34m**\u001b[0m\u001b[0mkwargs\u001b[0m\u001b[0;34m)\u001b[0m\u001b[0;34m\u001b[0m\u001b[0;34m\u001b[0m\u001b[0m\n\u001b[0m\u001b[1;32m    457\u001b[0m \u001b[0;34m\u001b[0m\u001b[0m\n\u001b[1;32m    458\u001b[0m     \u001b[0;31m# Don't modify *func*'s signature, as boilerplate.py needs it.\u001b[0m\u001b[0;34m\u001b[0m\u001b[0;34m\u001b[0m\u001b[0;34m\u001b[0m\u001b[0m\n",
      "\u001b[0;32m/usr/local/lib/python3.7/dist-packages/matplotlib/axes/_base.py\u001b[0m in \u001b[0;36m__init__\u001b[0;34m(self, fig, rect, facecolor, frameon, sharex, sharey, label, xscale, yscale, box_aspect, **kwargs)\u001b[0m\n\u001b[1;32m    630\u001b[0m \u001b[0;34m\u001b[0m\u001b[0m\n\u001b[1;32m    631\u001b[0m         \u001b[0mself\u001b[0m\u001b[0;34m.\u001b[0m\u001b[0m_rasterization_zorder\u001b[0m \u001b[0;34m=\u001b[0m \u001b[0;32mNone\u001b[0m\u001b[0;34m\u001b[0m\u001b[0;34m\u001b[0m\u001b[0m\n\u001b[0;32m--> 632\u001b[0;31m         \u001b[0mself\u001b[0m\u001b[0;34m.\u001b[0m\u001b[0mcla\u001b[0m\u001b[0;34m(\u001b[0m\u001b[0;34m)\u001b[0m\u001b[0;34m\u001b[0m\u001b[0;34m\u001b[0m\u001b[0m\n\u001b[0m\u001b[1;32m    633\u001b[0m \u001b[0;34m\u001b[0m\u001b[0m\n\u001b[1;32m    634\u001b[0m         \u001b[0;31m# funcs used to format x and y - fall back on major formatters\u001b[0m\u001b[0;34m\u001b[0m\u001b[0;34m\u001b[0m\u001b[0;34m\u001b[0m\u001b[0m\n",
      "\u001b[0;32m/usr/local/lib/python3.7/dist-packages/matplotlib/axes/_base.py\u001b[0m in \u001b[0;36mcla\u001b[0;34m(self)\u001b[0m\n\u001b[1;32m   1247\u001b[0m         \u001b[0mself\u001b[0m\u001b[0;34m.\u001b[0m\u001b[0mcontainers\u001b[0m \u001b[0;34m=\u001b[0m \u001b[0;34m[\u001b[0m\u001b[0;34m]\u001b[0m\u001b[0;34m\u001b[0m\u001b[0;34m\u001b[0m\u001b[0m\n\u001b[1;32m   1248\u001b[0m \u001b[0;34m\u001b[0m\u001b[0m\n\u001b[0;32m-> 1249\u001b[0;31m         \u001b[0mself\u001b[0m\u001b[0;34m.\u001b[0m\u001b[0mgrid\u001b[0m\u001b[0;34m(\u001b[0m\u001b[0;32mFalse\u001b[0m\u001b[0;34m)\u001b[0m  \u001b[0;31m# Disable grid on init to use rcParameter\u001b[0m\u001b[0;34m\u001b[0m\u001b[0;34m\u001b[0m\u001b[0m\n\u001b[0m\u001b[1;32m   1250\u001b[0m         self.grid(self._gridOn, which=mpl.rcParams['axes.grid.which'],\n\u001b[1;32m   1251\u001b[0m                   axis=mpl.rcParams['axes.grid.axis'])\n",
      "\u001b[0;32m/usr/local/lib/python3.7/dist-packages/matplotlib/_api/deprecation.py\u001b[0m in \u001b[0;36mwrapper\u001b[0;34m(*args, **kwargs)\u001b[0m\n\u001b[1;32m    297\u001b[0m                 f\"for the old name will be dropped %(removal)s.\")\n\u001b[1;32m    298\u001b[0m             \u001b[0mkwargs\u001b[0m\u001b[0;34m[\u001b[0m\u001b[0mnew\u001b[0m\u001b[0;34m]\u001b[0m \u001b[0;34m=\u001b[0m \u001b[0mkwargs\u001b[0m\u001b[0;34m.\u001b[0m\u001b[0mpop\u001b[0m\u001b[0;34m(\u001b[0m\u001b[0mold\u001b[0m\u001b[0;34m)\u001b[0m\u001b[0;34m\u001b[0m\u001b[0;34m\u001b[0m\u001b[0m\n\u001b[0;32m--> 299\u001b[0;31m         \u001b[0;32mreturn\u001b[0m \u001b[0mfunc\u001b[0m\u001b[0;34m(\u001b[0m\u001b[0;34m*\u001b[0m\u001b[0margs\u001b[0m\u001b[0;34m,\u001b[0m \u001b[0;34m**\u001b[0m\u001b[0mkwargs\u001b[0m\u001b[0;34m)\u001b[0m\u001b[0;34m\u001b[0m\u001b[0;34m\u001b[0m\u001b[0m\n\u001b[0m\u001b[1;32m    300\u001b[0m \u001b[0;34m\u001b[0m\u001b[0m\n\u001b[1;32m    301\u001b[0m     \u001b[0;31m# wrapper() must keep the same documented signature as func(): if we\u001b[0m\u001b[0;34m\u001b[0m\u001b[0;34m\u001b[0m\u001b[0;34m\u001b[0m\u001b[0m\n",
      "\u001b[0;32m/usr/local/lib/python3.7/dist-packages/matplotlib/axes/_base.py\u001b[0m in \u001b[0;36mgrid\u001b[0;34m(self, visible, which, axis, **kwargs)\u001b[0m\n\u001b[1;32m   3224\u001b[0m         \u001b[0m_api\u001b[0m\u001b[0;34m.\u001b[0m\u001b[0mcheck_in_list\u001b[0m\u001b[0;34m(\u001b[0m\u001b[0;34m[\u001b[0m\u001b[0;34m'x'\u001b[0m\u001b[0;34m,\u001b[0m \u001b[0;34m'y'\u001b[0m\u001b[0;34m,\u001b[0m \u001b[0;34m'both'\u001b[0m\u001b[0;34m]\u001b[0m\u001b[0;34m,\u001b[0m \u001b[0maxis\u001b[0m\u001b[0;34m=\u001b[0m\u001b[0maxis\u001b[0m\u001b[0;34m)\u001b[0m\u001b[0;34m\u001b[0m\u001b[0;34m\u001b[0m\u001b[0m\n\u001b[1;32m   3225\u001b[0m         \u001b[0;32mif\u001b[0m \u001b[0maxis\u001b[0m \u001b[0;32min\u001b[0m \u001b[0;34m[\u001b[0m\u001b[0;34m'x'\u001b[0m\u001b[0;34m,\u001b[0m \u001b[0;34m'both'\u001b[0m\u001b[0;34m]\u001b[0m\u001b[0;34m:\u001b[0m\u001b[0;34m\u001b[0m\u001b[0;34m\u001b[0m\u001b[0m\n\u001b[0;32m-> 3226\u001b[0;31m             \u001b[0mself\u001b[0m\u001b[0;34m.\u001b[0m\u001b[0mxaxis\u001b[0m\u001b[0;34m.\u001b[0m\u001b[0mgrid\u001b[0m\u001b[0;34m(\u001b[0m\u001b[0mvisible\u001b[0m\u001b[0;34m,\u001b[0m \u001b[0mwhich\u001b[0m\u001b[0;34m=\u001b[0m\u001b[0mwhich\u001b[0m\u001b[0;34m,\u001b[0m \u001b[0;34m**\u001b[0m\u001b[0mkwargs\u001b[0m\u001b[0;34m)\u001b[0m\u001b[0;34m\u001b[0m\u001b[0;34m\u001b[0m\u001b[0m\n\u001b[0m\u001b[1;32m   3227\u001b[0m         \u001b[0;32mif\u001b[0m \u001b[0maxis\u001b[0m \u001b[0;32min\u001b[0m \u001b[0;34m[\u001b[0m\u001b[0;34m'y'\u001b[0m\u001b[0;34m,\u001b[0m \u001b[0;34m'both'\u001b[0m\u001b[0;34m]\u001b[0m\u001b[0;34m:\u001b[0m\u001b[0;34m\u001b[0m\u001b[0;34m\u001b[0m\u001b[0m\n\u001b[1;32m   3228\u001b[0m             \u001b[0mself\u001b[0m\u001b[0;34m.\u001b[0m\u001b[0myaxis\u001b[0m\u001b[0;34m.\u001b[0m\u001b[0mgrid\u001b[0m\u001b[0;34m(\u001b[0m\u001b[0mvisible\u001b[0m\u001b[0;34m,\u001b[0m \u001b[0mwhich\u001b[0m\u001b[0;34m=\u001b[0m\u001b[0mwhich\u001b[0m\u001b[0;34m,\u001b[0m \u001b[0;34m**\u001b[0m\u001b[0mkwargs\u001b[0m\u001b[0;34m)\u001b[0m\u001b[0;34m\u001b[0m\u001b[0;34m\u001b[0m\u001b[0m\n",
      "\u001b[0;32m/usr/local/lib/python3.7/dist-packages/matplotlib/_api/deprecation.py\u001b[0m in \u001b[0;36mwrapper\u001b[0;34m(*args, **kwargs)\u001b[0m\n\u001b[1;32m    297\u001b[0m                 f\"for the old name will be dropped %(removal)s.\")\n\u001b[1;32m    298\u001b[0m             \u001b[0mkwargs\u001b[0m\u001b[0;34m[\u001b[0m\u001b[0mnew\u001b[0m\u001b[0;34m]\u001b[0m \u001b[0;34m=\u001b[0m \u001b[0mkwargs\u001b[0m\u001b[0;34m.\u001b[0m\u001b[0mpop\u001b[0m\u001b[0;34m(\u001b[0m\u001b[0mold\u001b[0m\u001b[0;34m)\u001b[0m\u001b[0;34m\u001b[0m\u001b[0;34m\u001b[0m\u001b[0m\n\u001b[0;32m--> 299\u001b[0;31m         \u001b[0;32mreturn\u001b[0m \u001b[0mfunc\u001b[0m\u001b[0;34m(\u001b[0m\u001b[0;34m*\u001b[0m\u001b[0margs\u001b[0m\u001b[0;34m,\u001b[0m \u001b[0;34m**\u001b[0m\u001b[0mkwargs\u001b[0m\u001b[0;34m)\u001b[0m\u001b[0;34m\u001b[0m\u001b[0;34m\u001b[0m\u001b[0m\n\u001b[0m\u001b[1;32m    300\u001b[0m \u001b[0;34m\u001b[0m\u001b[0m\n\u001b[1;32m    301\u001b[0m     \u001b[0;31m# wrapper() must keep the same documented signature as func(): if we\u001b[0m\u001b[0;34m\u001b[0m\u001b[0;34m\u001b[0m\u001b[0;34m\u001b[0m\u001b[0m\n",
      "\u001b[0;32m/usr/local/lib/python3.7/dist-packages/matplotlib/axis.py\u001b[0m in \u001b[0;36mgrid\u001b[0;34m(self, visible, which, **kwargs)\u001b[0m\n\u001b[1;32m   1432\u001b[0m             gridkw['gridOn'] = (not self._major_tick_kw['gridOn']\n\u001b[1;32m   1433\u001b[0m                                 if visible is None else visible)\n\u001b[0;32m-> 1434\u001b[0;31m             \u001b[0mself\u001b[0m\u001b[0;34m.\u001b[0m\u001b[0mset_tick_params\u001b[0m\u001b[0;34m(\u001b[0m\u001b[0mwhich\u001b[0m\u001b[0;34m=\u001b[0m\u001b[0;34m'major'\u001b[0m\u001b[0;34m,\u001b[0m \u001b[0;34m**\u001b[0m\u001b[0mgridkw\u001b[0m\u001b[0;34m)\u001b[0m\u001b[0;34m\u001b[0m\u001b[0;34m\u001b[0m\u001b[0m\n\u001b[0m\u001b[1;32m   1435\u001b[0m         \u001b[0mself\u001b[0m\u001b[0;34m.\u001b[0m\u001b[0mstale\u001b[0m \u001b[0;34m=\u001b[0m \u001b[0;32mTrue\u001b[0m\u001b[0;34m\u001b[0m\u001b[0;34m\u001b[0m\u001b[0m\n\u001b[1;32m   1436\u001b[0m \u001b[0;34m\u001b[0m\u001b[0m\n",
      "\u001b[0;32m/usr/local/lib/python3.7/dist-packages/matplotlib/axis.py\u001b[0m in \u001b[0;36mset_tick_params\u001b[0;34m(self, which, reset, **kw)\u001b[0m\n\u001b[1;32m    871\u001b[0m             \u001b[0;32mif\u001b[0m \u001b[0mwhich\u001b[0m \u001b[0;32min\u001b[0m \u001b[0;34m[\u001b[0m\u001b[0;34m'major'\u001b[0m\u001b[0;34m,\u001b[0m \u001b[0;34m'both'\u001b[0m\u001b[0;34m]\u001b[0m\u001b[0;34m:\u001b[0m\u001b[0;34m\u001b[0m\u001b[0;34m\u001b[0m\u001b[0m\n\u001b[1;32m    872\u001b[0m                 \u001b[0mself\u001b[0m\u001b[0;34m.\u001b[0m\u001b[0m_major_tick_kw\u001b[0m\u001b[0;34m.\u001b[0m\u001b[0mupdate\u001b[0m\u001b[0;34m(\u001b[0m\u001b[0mkwtrans\u001b[0m\u001b[0;34m)\u001b[0m\u001b[0;34m\u001b[0m\u001b[0;34m\u001b[0m\u001b[0m\n\u001b[0;32m--> 873\u001b[0;31m                 \u001b[0;32mfor\u001b[0m \u001b[0mtick\u001b[0m \u001b[0;32min\u001b[0m \u001b[0mself\u001b[0m\u001b[0;34m.\u001b[0m\u001b[0mmajorTicks\u001b[0m\u001b[0;34m:\u001b[0m\u001b[0;34m\u001b[0m\u001b[0;34m\u001b[0m\u001b[0m\n\u001b[0m\u001b[1;32m    874\u001b[0m                     \u001b[0mtick\u001b[0m\u001b[0;34m.\u001b[0m\u001b[0m_apply_params\u001b[0m\u001b[0;34m(\u001b[0m\u001b[0;34m**\u001b[0m\u001b[0mkwtrans\u001b[0m\u001b[0;34m)\u001b[0m\u001b[0;34m\u001b[0m\u001b[0;34m\u001b[0m\u001b[0m\n\u001b[1;32m    875\u001b[0m             \u001b[0;32mif\u001b[0m \u001b[0mwhich\u001b[0m \u001b[0;32min\u001b[0m \u001b[0;34m[\u001b[0m\u001b[0;34m'minor'\u001b[0m\u001b[0;34m,\u001b[0m \u001b[0;34m'both'\u001b[0m\u001b[0;34m]\u001b[0m\u001b[0;34m:\u001b[0m\u001b[0;34m\u001b[0m\u001b[0;34m\u001b[0m\u001b[0m\n",
      "\u001b[0;32m/usr/local/lib/python3.7/dist-packages/matplotlib/axis.py\u001b[0m in \u001b[0;36m__get__\u001b[0;34m(self, instance, cls)\u001b[0m\n\u001b[1;32m    591\u001b[0m                 \u001b[0minstance\u001b[0m\u001b[0;34m.\u001b[0m\u001b[0mmajorTicks\u001b[0m \u001b[0;34m=\u001b[0m \u001b[0;34m[\u001b[0m\u001b[0;34m]\u001b[0m\u001b[0;34m\u001b[0m\u001b[0;34m\u001b[0m\u001b[0m\n\u001b[1;32m    592\u001b[0m                 \u001b[0mtick\u001b[0m \u001b[0;34m=\u001b[0m \u001b[0minstance\u001b[0m\u001b[0;34m.\u001b[0m\u001b[0m_get_tick\u001b[0m\u001b[0;34m(\u001b[0m\u001b[0mmajor\u001b[0m\u001b[0;34m=\u001b[0m\u001b[0;32mTrue\u001b[0m\u001b[0;34m)\u001b[0m\u001b[0;34m\u001b[0m\u001b[0;34m\u001b[0m\u001b[0m\n\u001b[0;32m--> 593\u001b[0;31m                 \u001b[0minstance\u001b[0m\u001b[0;34m.\u001b[0m\u001b[0mmajorTicks\u001b[0m\u001b[0;34m.\u001b[0m\u001b[0mappend\u001b[0m\u001b[0;34m(\u001b[0m\u001b[0mtick\u001b[0m\u001b[0;34m)\u001b[0m\u001b[0;34m\u001b[0m\u001b[0;34m\u001b[0m\u001b[0m\n\u001b[0m\u001b[1;32m    594\u001b[0m                 \u001b[0;32mreturn\u001b[0m \u001b[0minstance\u001b[0m\u001b[0;34m.\u001b[0m\u001b[0mmajorTicks\u001b[0m\u001b[0;34m\u001b[0m\u001b[0;34m\u001b[0m\u001b[0m\n\u001b[1;32m    595\u001b[0m             \u001b[0;32melse\u001b[0m\u001b[0;34m:\u001b[0m\u001b[0;34m\u001b[0m\u001b[0;34m\u001b[0m\u001b[0m\n",
      "\u001b[0;32m/usr/local/lib/python3.7/dist-packages/matplotlib/axis.py\u001b[0m in \u001b[0;36m__get__\u001b[0;34m(self, instance, cls)\u001b[0m\n\u001b[1;32m    590\u001b[0m             \u001b[0;32mif\u001b[0m \u001b[0mself\u001b[0m\u001b[0;34m.\u001b[0m\u001b[0m_major\u001b[0m\u001b[0;34m:\u001b[0m\u001b[0;34m\u001b[0m\u001b[0;34m\u001b[0m\u001b[0m\n\u001b[1;32m    591\u001b[0m                 \u001b[0minstance\u001b[0m\u001b[0;34m.\u001b[0m\u001b[0mmajorTicks\u001b[0m \u001b[0;34m=\u001b[0m \u001b[0;34m[\u001b[0m\u001b[0;34m]\u001b[0m\u001b[0;34m\u001b[0m\u001b[0;34m\u001b[0m\u001b[0m\n\u001b[0;32m--> 592\u001b[0;31m                 \u001b[0mtick\u001b[0m \u001b[0;34m=\u001b[0m \u001b[0minstance\u001b[0m\u001b[0;34m.\u001b[0m\u001b[0m_get_tick\u001b[0m\u001b[0;34m(\u001b[0m\u001b[0mmajor\u001b[0m\u001b[0;34m=\u001b[0m\u001b[0;32mTrue\u001b[0m\u001b[0;34m)\u001b[0m\u001b[0;34m\u001b[0m\u001b[0;34m\u001b[0m\u001b[0m\n\u001b[0m\u001b[1;32m    593\u001b[0m                 \u001b[0minstance\u001b[0m\u001b[0;34m.\u001b[0m\u001b[0mmajorTicks\u001b[0m\u001b[0;34m.\u001b[0m\u001b[0mappend\u001b[0m\u001b[0;34m(\u001b[0m\u001b[0mtick\u001b[0m\u001b[0;34m)\u001b[0m\u001b[0;34m\u001b[0m\u001b[0;34m\u001b[0m\u001b[0m\n\u001b[1;32m    594\u001b[0m                 \u001b[0;32mreturn\u001b[0m \u001b[0minstance\u001b[0m\u001b[0;34m.\u001b[0m\u001b[0mmajorTicks\u001b[0m\u001b[0;34m\u001b[0m\u001b[0;34m\u001b[0m\u001b[0m\n",
      "\u001b[0;32m/usr/local/lib/python3.7/dist-packages/matplotlib/axis.py\u001b[0m in \u001b[0;36m_get_tick\u001b[0;34m(self, major)\u001b[0m\n\u001b[1;32m   2055\u001b[0m         \u001b[0;32melse\u001b[0m\u001b[0;34m:\u001b[0m\u001b[0;34m\u001b[0m\u001b[0;34m\u001b[0m\u001b[0m\n\u001b[1;32m   2056\u001b[0m             \u001b[0mtick_kw\u001b[0m \u001b[0;34m=\u001b[0m \u001b[0mself\u001b[0m\u001b[0;34m.\u001b[0m\u001b[0m_minor_tick_kw\u001b[0m\u001b[0;34m\u001b[0m\u001b[0;34m\u001b[0m\u001b[0m\n\u001b[0;32m-> 2057\u001b[0;31m         \u001b[0;32mreturn\u001b[0m \u001b[0mXTick\u001b[0m\u001b[0;34m(\u001b[0m\u001b[0mself\u001b[0m\u001b[0;34m.\u001b[0m\u001b[0maxes\u001b[0m\u001b[0;34m,\u001b[0m \u001b[0;36m0\u001b[0m\u001b[0;34m,\u001b[0m \u001b[0mmajor\u001b[0m\u001b[0;34m=\u001b[0m\u001b[0mmajor\u001b[0m\u001b[0;34m,\u001b[0m \u001b[0;34m**\u001b[0m\u001b[0mtick_kw\u001b[0m\u001b[0;34m)\u001b[0m\u001b[0;34m\u001b[0m\u001b[0;34m\u001b[0m\u001b[0m\n\u001b[0m\u001b[1;32m   2058\u001b[0m \u001b[0;34m\u001b[0m\u001b[0m\n\u001b[1;32m   2059\u001b[0m     \u001b[0;32mdef\u001b[0m \u001b[0mset_label_position\u001b[0m\u001b[0;34m(\u001b[0m\u001b[0mself\u001b[0m\u001b[0;34m,\u001b[0m \u001b[0mposition\u001b[0m\u001b[0;34m)\u001b[0m\u001b[0;34m:\u001b[0m\u001b[0;34m\u001b[0m\u001b[0;34m\u001b[0m\u001b[0m\n",
      "\u001b[0;32m/usr/local/lib/python3.7/dist-packages/matplotlib/axis.py\u001b[0m in \u001b[0;36m__init__\u001b[0;34m(self, *args, **kwargs)\u001b[0m\n\u001b[1;32m    413\u001b[0m \u001b[0;34m\u001b[0m\u001b[0m\n\u001b[1;32m    414\u001b[0m     \u001b[0;32mdef\u001b[0m \u001b[0m__init__\u001b[0m\u001b[0;34m(\u001b[0m\u001b[0mself\u001b[0m\u001b[0;34m,\u001b[0m \u001b[0;34m*\u001b[0m\u001b[0margs\u001b[0m\u001b[0;34m,\u001b[0m \u001b[0;34m**\u001b[0m\u001b[0mkwargs\u001b[0m\u001b[0;34m)\u001b[0m\u001b[0;34m:\u001b[0m\u001b[0;34m\u001b[0m\u001b[0;34m\u001b[0m\u001b[0m\n\u001b[0;32m--> 415\u001b[0;31m         \u001b[0msuper\u001b[0m\u001b[0;34m(\u001b[0m\u001b[0;34m)\u001b[0m\u001b[0;34m.\u001b[0m\u001b[0m__init__\u001b[0m\u001b[0;34m(\u001b[0m\u001b[0;34m*\u001b[0m\u001b[0margs\u001b[0m\u001b[0;34m,\u001b[0m \u001b[0;34m**\u001b[0m\u001b[0mkwargs\u001b[0m\u001b[0;34m)\u001b[0m\u001b[0;34m\u001b[0m\u001b[0;34m\u001b[0m\u001b[0m\n\u001b[0m\u001b[1;32m    416\u001b[0m         \u001b[0;31m# x in data coords, y in axes coords\u001b[0m\u001b[0;34m\u001b[0m\u001b[0;34m\u001b[0m\u001b[0;34m\u001b[0m\u001b[0m\n\u001b[1;32m    417\u001b[0m         \u001b[0max\u001b[0m \u001b[0;34m=\u001b[0m \u001b[0mself\u001b[0m\u001b[0;34m.\u001b[0m\u001b[0maxes\u001b[0m\u001b[0;34m\u001b[0m\u001b[0;34m\u001b[0m\u001b[0m\n",
      "\u001b[0;32m/usr/local/lib/python3.7/dist-packages/matplotlib/axis.py\u001b[0m in \u001b[0;36m__init__\u001b[0;34m(self, axes, loc, size, width, color, tickdir, pad, labelsize, labelcolor, zorder, gridOn, tick1On, tick2On, label1On, label2On, major, labelrotation, grid_color, grid_linestyle, grid_linewidth, grid_alpha, **kw)\u001b[0m\n\u001b[1;32m    151\u001b[0m             \u001b[0;34m[\u001b[0m\u001b[0;34m]\u001b[0m\u001b[0;34m,\u001b[0m \u001b[0;34m[\u001b[0m\u001b[0;34m]\u001b[0m\u001b[0;34m,\u001b[0m\u001b[0;34m\u001b[0m\u001b[0;34m\u001b[0m\u001b[0m\n\u001b[1;32m    152\u001b[0m             \u001b[0mcolor\u001b[0m\u001b[0;34m=\u001b[0m\u001b[0mcolor\u001b[0m\u001b[0;34m,\u001b[0m \u001b[0mlinestyle\u001b[0m\u001b[0;34m=\u001b[0m\u001b[0;34m\"none\"\u001b[0m\u001b[0;34m,\u001b[0m \u001b[0mzorder\u001b[0m\u001b[0;34m=\u001b[0m\u001b[0mzorder\u001b[0m\u001b[0;34m,\u001b[0m \u001b[0mvisible\u001b[0m\u001b[0;34m=\u001b[0m\u001b[0mtick1On\u001b[0m\u001b[0;34m,\u001b[0m\u001b[0;34m\u001b[0m\u001b[0;34m\u001b[0m\u001b[0m\n\u001b[0;32m--> 153\u001b[0;31m             \u001b[0mmarkeredgecolor\u001b[0m\u001b[0;34m=\u001b[0m\u001b[0mcolor\u001b[0m\u001b[0;34m,\u001b[0m \u001b[0mmarkersize\u001b[0m\u001b[0;34m=\u001b[0m\u001b[0msize\u001b[0m\u001b[0;34m,\u001b[0m \u001b[0mmarkeredgewidth\u001b[0m\u001b[0;34m=\u001b[0m\u001b[0mwidth\u001b[0m\u001b[0;34m,\u001b[0m\u001b[0;34m\u001b[0m\u001b[0;34m\u001b[0m\u001b[0m\n\u001b[0m\u001b[1;32m    154\u001b[0m         )\n\u001b[1;32m    155\u001b[0m         self.tick2line = mlines.Line2D(\n",
      "\u001b[0;32m/usr/local/lib/python3.7/dist-packages/matplotlib/lines.py\u001b[0m in \u001b[0;36m__init__\u001b[0;34m(self, xdata, ydata, linewidth, linestyle, color, marker, markersize, markeredgewidth, markeredgecolor, markerfacecolor, markerfacecoloralt, fillstyle, antialiased, dash_capstyle, solid_capstyle, dash_joinstyle, solid_joinstyle, pickradius, drawstyle, markevery, **kwargs)\u001b[0m\n\u001b[1;32m    346\u001b[0m         \u001b[0mself\u001b[0m\u001b[0;34m.\u001b[0m\u001b[0m_solidjoinstyle\u001b[0m \u001b[0;34m=\u001b[0m \u001b[0;32mNone\u001b[0m\u001b[0;34m\u001b[0m\u001b[0;34m\u001b[0m\u001b[0m\n\u001b[1;32m    347\u001b[0m         \u001b[0mself\u001b[0m\u001b[0;34m.\u001b[0m\u001b[0m_solidcapstyle\u001b[0m \u001b[0;34m=\u001b[0m \u001b[0;32mNone\u001b[0m\u001b[0;34m\u001b[0m\u001b[0;34m\u001b[0m\u001b[0m\n\u001b[0;32m--> 348\u001b[0;31m         \u001b[0mself\u001b[0m\u001b[0;34m.\u001b[0m\u001b[0mset_dash_capstyle\u001b[0m\u001b[0;34m(\u001b[0m\u001b[0mdash_capstyle\u001b[0m\u001b[0;34m)\u001b[0m\u001b[0;34m\u001b[0m\u001b[0;34m\u001b[0m\u001b[0m\n\u001b[0m\u001b[1;32m    349\u001b[0m         \u001b[0mself\u001b[0m\u001b[0;34m.\u001b[0m\u001b[0mset_dash_joinstyle\u001b[0m\u001b[0;34m(\u001b[0m\u001b[0mdash_joinstyle\u001b[0m\u001b[0;34m)\u001b[0m\u001b[0;34m\u001b[0m\u001b[0;34m\u001b[0m\u001b[0m\n\u001b[1;32m    350\u001b[0m         \u001b[0mself\u001b[0m\u001b[0;34m.\u001b[0m\u001b[0mset_solid_capstyle\u001b[0m\u001b[0;34m(\u001b[0m\u001b[0msolid_capstyle\u001b[0m\u001b[0;34m)\u001b[0m\u001b[0;34m\u001b[0m\u001b[0;34m\u001b[0m\u001b[0m\n",
      "\u001b[0;32m/usr/local/lib/python3.7/dist-packages/matplotlib/lines.py\u001b[0m in \u001b[0;36mset_dash_capstyle\u001b[0;34m(self, s)\u001b[0m\n\u001b[1;32m   1342\u001b[0m         \u001b[0ms\u001b[0m \u001b[0;34m:\u001b[0m\u001b[0;31m \u001b[0m\u001b[0;31m`\u001b[0m\u001b[0;34m.\u001b[0m\u001b[0mCapStyle\u001b[0m\u001b[0;31m`\u001b[0m \u001b[0;32mor\u001b[0m \u001b[0;34m%\u001b[0m\u001b[0;34m(\u001b[0m\u001b[0mCapStyle\u001b[0m\u001b[0;34m)\u001b[0m\u001b[0ms\u001b[0m\u001b[0;34m\u001b[0m\u001b[0;34m\u001b[0m\u001b[0m\n\u001b[1;32m   1343\u001b[0m         \"\"\"\n\u001b[0;32m-> 1344\u001b[0;31m         \u001b[0mcs\u001b[0m \u001b[0;34m=\u001b[0m \u001b[0mCapStyle\u001b[0m\u001b[0;34m(\u001b[0m\u001b[0ms\u001b[0m\u001b[0;34m)\u001b[0m\u001b[0;34m\u001b[0m\u001b[0;34m\u001b[0m\u001b[0m\n\u001b[0m\u001b[1;32m   1345\u001b[0m         \u001b[0;32mif\u001b[0m \u001b[0mself\u001b[0m\u001b[0;34m.\u001b[0m\u001b[0m_dashcapstyle\u001b[0m \u001b[0;34m!=\u001b[0m \u001b[0mcs\u001b[0m\u001b[0;34m:\u001b[0m\u001b[0;34m\u001b[0m\u001b[0;34m\u001b[0m\u001b[0m\n\u001b[1;32m   1346\u001b[0m             \u001b[0mself\u001b[0m\u001b[0;34m.\u001b[0m\u001b[0mstale\u001b[0m \u001b[0;34m=\u001b[0m \u001b[0;32mTrue\u001b[0m\u001b[0;34m\u001b[0m\u001b[0;34m\u001b[0m\u001b[0m\n",
      "\u001b[0;32m/usr/lib/python3.7/enum.py\u001b[0m in \u001b[0;36m__call__\u001b[0;34m(cls, value, names, module, qualname, type, start)\u001b[0m\n\u001b[1;32m    282\u001b[0m         \u001b[0;32mreturn\u001b[0m \u001b[0;32mTrue\u001b[0m\u001b[0;34m\u001b[0m\u001b[0;34m\u001b[0m\u001b[0m\n\u001b[1;32m    283\u001b[0m \u001b[0;34m\u001b[0m\u001b[0m\n\u001b[0;32m--> 284\u001b[0;31m     \u001b[0;32mdef\u001b[0m \u001b[0m__call__\u001b[0m\u001b[0;34m(\u001b[0m\u001b[0mcls\u001b[0m\u001b[0;34m,\u001b[0m \u001b[0mvalue\u001b[0m\u001b[0;34m,\u001b[0m \u001b[0mnames\u001b[0m\u001b[0;34m=\u001b[0m\u001b[0;32mNone\u001b[0m\u001b[0;34m,\u001b[0m \u001b[0;34m*\u001b[0m\u001b[0;34m,\u001b[0m \u001b[0mmodule\u001b[0m\u001b[0;34m=\u001b[0m\u001b[0;32mNone\u001b[0m\u001b[0;34m,\u001b[0m \u001b[0mqualname\u001b[0m\u001b[0;34m=\u001b[0m\u001b[0;32mNone\u001b[0m\u001b[0;34m,\u001b[0m \u001b[0mtype\u001b[0m\u001b[0;34m=\u001b[0m\u001b[0;32mNone\u001b[0m\u001b[0;34m,\u001b[0m \u001b[0mstart\u001b[0m\u001b[0;34m=\u001b[0m\u001b[0;36m1\u001b[0m\u001b[0;34m)\u001b[0m\u001b[0;34m:\u001b[0m\u001b[0;34m\u001b[0m\u001b[0;34m\u001b[0m\u001b[0m\n\u001b[0m\u001b[1;32m    285\u001b[0m         \"\"\"Either returns an existing member, or creates a new enum class.\n\u001b[1;32m    286\u001b[0m \u001b[0;34m\u001b[0m\u001b[0m\n",
      "\u001b[0;31mKeyboardInterrupt\u001b[0m: "
     ]
    },
    {
     "data": {
      "text/plain": [
       "<Figure size 720x648 with 0 Axes>"
      ]
     },
     "metadata": {},
     "output_type": "display_data"
    }
   ],
   "source": [
    "clust_desc_cpt_dwh = calc_cluster_maxp(df, w, attrs_name, threshold_name_hsld, threshold_value, top_n)"
   ]
  },
  {
   "cell_type": "code",
   "execution_count": 496,
   "id": "6ed4784b",
   "metadata": {
    "ExecuteTime": {
     "end_time": "2022-01-17T12:02:22.586559Z",
     "start_time": "2022-01-17T12:02:19.212813Z"
    }
   },
   "outputs": [
    {
     "data": {
      "image/png": "[encoded data removed]",
      "text/plain": [
       "<Figure size 720x648 with 1 Axes>"
      ]
     },
     "metadata": {
      "needs_background": "light"
     },
     "output_type": "display_data"
    },
    {
     "name": "stdout",
     "output_type": "stream",
     "text": [
      "             formal_dwellings  White     Pop  Employed    area_km\n",
      "cluster_pop                                                      \n",
      "1                       33595  42265   89231     38847  50.251190\n",
      "2                       34104  68840  104599     49583  57.661759\n",
      "3                       29602  41671   81385     35937  37.673964\n",
      "4                       26283  46395   76717     33903  81.378972\n",
      "5                       24136  20655   84383     36731  62.858418\n",
      "6                       38641  79140  116852     56884  61.334965\n",
      "7                       23755  52489   68347     36209  31.030203\n"
     ]
    },
    {
     "name": "stderr",
     "output_type": "stream",
     "text": [
      "/usr/local/lib/python3.7/dist-packages/ipykernel_launcher.py:16: FutureWarning: Indexing with multiple keys (implicitly converted to a tuple of keys) will be deprecated, use a list instead.\n",
      "  app.launch_new_instance()\n",
      "/usr/local/lib/python3.7/dist-packages/ipykernel_launcher.py:20: FutureWarning: Indexing with multiple keys (implicitly converted to a tuple of keys) will be deprecated, use a list instead.\n"
     ]
    }
   ],
   "source": [
    "# input 5\n",
    "top_n = 1\n",
    "# gdf_fin_cpt_jhb_wrd_bests[\"count\"] = 1\n",
    "threshold_name_empl = \"Employed\"\n",
    "attrs_name = [\"index\"]\n",
    "\n",
    "threshold_value = 30000\n",
    "\n",
    "clust_desc_cpt_empl = calc_cluster_maxp(df, w, attrs_name, threshold_name_empl, threshold_value, top_n)"
   ]
  },
  {
   "cell_type": "code",
   "execution_count": 500,
   "id": "6821ee28",
   "metadata": {
    "ExecuteTime": {
     "end_time": "2022-01-17T12:02:55.324541Z",
     "start_time": "2022-01-17T12:02:55.318979Z"
    }
   },
   "outputs": [],
   "source": [
    "clust_desc_cpt_empl['dwl_density']= clust_desc_cpt_empl['formal_dwellings']/clust_desc_cpt_empl['area_km']"
   ]
  },
  {
   "cell_type": "code",
   "execution_count": 501,
   "id": "907e8887",
   "metadata": {
    "ExecuteTime": {
     "end_time": "2022-01-17T12:02:58.811379Z",
     "start_time": "2022-01-17T12:02:58.805479Z"
    }
   },
   "outputs": [
    {
     "data": {
      "text/plain": [
       "0    668.541385\n",
       "1    591.449180\n",
       "2    785.741588\n",
       "3    322.970413\n",
       "4    383.974028\n",
       "5    629.999540\n",
       "6    765.544466\n",
       "Name: dwl_density, dtype: float64"
      ]
     },
     "execution_count": 501,
     "metadata": {},
     "output_type": "execute_result"
    }
   ],
   "source": [
    "clust_desc_cpt_empl['dwl_density']"
   ]
  },
  {
   "cell_type": "code",
   "execution_count": 502,
   "id": "eb5fed7e",
   "metadata": {
    "ExecuteTime": {
     "end_time": "2022-01-17T12:03:21.558684Z",
     "start_time": "2022-01-17T12:03:21.459596Z"
    }
   },
   "outputs": [],
   "source": [
    "clust_desc_cpt_empl.to_file('clust_desc_cpt_empl.geojson', driver='GeoJSON')"
   ]
  },
  {
   "cell_type": "code",
   "execution_count": 485,
   "id": "d7d7a9e8",
   "metadata": {
    "ExecuteTime": {
     "end_time": "2022-01-17T11:57:04.869787Z",
     "start_time": "2022-01-17T11:57:04.715288Z"
    }
   },
   "outputs": [
    {
     "data": {
      "text/plain": [
       "<AxesSubplot:>"
      ]
     },
     "execution_count": 485,
     "metadata": {},
     "output_type": "execute_result"
    },
    {
     "data": {
      "image/png": "[encoded data removed]",
      "text/plain": [
       "<Figure size 432x288 with 1 Axes>"
      ]
     },
     "metadata": {
      "needs_background": "light"
     },
     "output_type": "display_data"
    }
   ],
   "source": [
    "clust_desc_cpt_dwh.plot()"
   ]
  },
  {
   "cell_type": "code",
   "execution_count": 471,
   "id": "6aa16684",
   "metadata": {
    "ExecuteTime": {
     "end_time": "2022-01-17T11:50:23.958962Z",
     "start_time": "2022-01-17T11:50:23.955014Z"
    }
   },
   "outputs": [
    {
     "data": {
      "text/plain": [
       "591.0313766166372"
      ]
     },
     "execution_count": 471,
     "metadata": {},
     "output_type": "execute_result"
    }
   ],
   "source": [
    "clust_desc_cpt_dwh['dwl_density'].mean()"
   ]
  },
  {
   "cell_type": "code",
   "execution_count": 468,
   "id": "a6b89f2f",
   "metadata": {
    "ExecuteTime": {
     "end_time": "2022-01-17T11:49:01.812164Z",
     "start_time": "2022-01-17T11:49:01.808153Z"
    }
   },
   "outputs": [],
   "source": [
    "clust_desc_employed_gr['dwl_density']= clust_desc_employed_gr['formal_dwellings']/clust_desc_employed_gr['area_km']"
   ]
  },
  {
   "cell_type": "code",
   "execution_count": 504,
   "id": "a8b71901",
   "metadata": {
    "ExecuteTime": {
     "end_time": "2022-01-17T12:27:35.949614Z",
     "start_time": "2022-01-17T12:27:35.909230Z"
    }
   },
   "outputs": [
    {
     "data": {
      "text/html": [
       "<div>\n",
       "<style scoped>\n",
       "    .dataframe tbody tr th:only-of-type {\n",
       "        vertical-align: middle;\n",
       "    }\n",
       "\n",
       "    .dataframe tbody tr th {\n",
       "        vertical-align: top;\n",
       "    }\n",
       "\n",
       "    .dataframe thead th {\n",
       "        text-align: right;\n",
       "    }\n",
       "</style>\n",
       "<table border=\"1\" class=\"dataframe\">\n",
       "  <thead>\n",
       "    <tr style=\"text-align: right;\">\n",
       "      <th></th>\n",
       "      <th>area_km</th>\n",
       "      <th>formal_dwellings</th>\n",
       "      <th>Employed</th>\n",
       "    </tr>\n",
       "  </thead>\n",
       "  <tbody>\n",
       "    <tr>\n",
       "      <th>5</th>\n",
       "      <td>54.491418</td>\n",
       "      <td>37395</td>\n",
       "      <td>55117</td>\n",
       "    </tr>\n",
       "    <tr>\n",
       "      <th>7</th>\n",
       "      <td>40.802082</td>\n",
       "      <td>35147</td>\n",
       "      <td>57231</td>\n",
       "    </tr>\n",
       "    <tr>\n",
       "      <th>1</th>\n",
       "      <td>48.692121</td>\n",
       "      <td>31490</td>\n",
       "      <td>50390</td>\n",
       "    </tr>\n",
       "    <tr>\n",
       "      <th>2</th>\n",
       "      <td>86.508352</td>\n",
       "      <td>29897</td>\n",
       "      <td>46801</td>\n",
       "    </tr>\n",
       "    <tr>\n",
       "      <th>6</th>\n",
       "      <td>59.136836</td>\n",
       "      <td>26053</td>\n",
       "      <td>41940</td>\n",
       "    </tr>\n",
       "  </tbody>\n",
       "</table>\n",
       "</div>"
      ],
      "text/plain": [
       "     area_km  formal_dwellings  Employed\n",
       "5  54.491418             37395     55117\n",
       "7  40.802082             35147     57231\n",
       "1  48.692121             31490     50390\n",
       "2  86.508352             29897     46801\n",
       "6  59.136836             26053     41940"
      ]
     },
     "execution_count": 504,
     "metadata": {},
     "output_type": "execute_result"
    }
   ],
   "source": [
    "# Йоханнесбург\n",
    "clust_desc_employed_gr.sort_values(by=['formal_dwellings'], ascending=False).head(5)[['area_km','formal_dwellings','Employed']]"
   ]
  },
  {
   "cell_type": "code",
   "execution_count": 505,
   "id": "075cc742",
   "metadata": {
    "ExecuteTime": {
     "end_time": "2022-01-17T12:29:17.554706Z",
     "start_time": "2022-01-17T12:29:17.514183Z"
    }
   },
   "outputs": [
    {
     "data": {
      "text/html": [
       "<div>\n",
       "<style scoped>\n",
       "    .dataframe tbody tr th:only-of-type {\n",
       "        vertical-align: middle;\n",
       "    }\n",
       "\n",
       "    .dataframe tbody tr th {\n",
       "        vertical-align: top;\n",
       "    }\n",
       "\n",
       "    .dataframe thead th {\n",
       "        text-align: right;\n",
       "    }\n",
       "</style>\n",
       "<table border=\"1\" class=\"dataframe\">\n",
       "  <thead>\n",
       "    <tr style=\"text-align: right;\">\n",
       "      <th></th>\n",
       "      <th>area_km</th>\n",
       "      <th>formal_dwellings</th>\n",
       "      <th>Employed</th>\n",
       "    </tr>\n",
       "  </thead>\n",
       "  <tbody>\n",
       "    <tr>\n",
       "      <th>5</th>\n",
       "      <td>61.334965</td>\n",
       "      <td>38641</td>\n",
       "      <td>56884</td>\n",
       "    </tr>\n",
       "    <tr>\n",
       "      <th>1</th>\n",
       "      <td>57.661759</td>\n",
       "      <td>34104</td>\n",
       "      <td>49583</td>\n",
       "    </tr>\n",
       "    <tr>\n",
       "      <th>0</th>\n",
       "      <td>50.251190</td>\n",
       "      <td>33595</td>\n",
       "      <td>38847</td>\n",
       "    </tr>\n",
       "    <tr>\n",
       "      <th>2</th>\n",
       "      <td>37.673964</td>\n",
       "      <td>29602</td>\n",
       "      <td>35937</td>\n",
       "    </tr>\n",
       "    <tr>\n",
       "      <th>3</th>\n",
       "      <td>81.378972</td>\n",
       "      <td>26283</td>\n",
       "      <td>33903</td>\n",
       "    </tr>\n",
       "  </tbody>\n",
       "</table>\n",
       "</div>"
      ],
      "text/plain": [
       "     area_km  formal_dwellings  Employed\n",
       "5  61.334965             38641     56884\n",
       "1  57.661759             34104     49583\n",
       "0  50.251190             33595     38847\n",
       "2  37.673964             29602     35937\n",
       "3  81.378972             26283     33903"
      ]
     },
     "execution_count": 505,
     "metadata": {},
     "output_type": "execute_result"
    }
   ],
   "source": [
    "# Кейптаун\n",
    "clust_desc_cpt_empl.sort_values(by=['formal_dwellings'], ascending=False).head(5)[['area_km','formal_dwellings','Employed']]"
   ]
  },
  {
   "cell_type": "code",
   "execution_count": 499,
   "id": "26caf905",
   "metadata": {
    "ExecuteTime": {
     "end_time": "2022-01-17T12:02:38.009225Z",
     "start_time": "2022-01-17T12:02:37.862397Z"
    }
   },
   "outputs": [
    {
     "data": {
      "text/plain": [
       "<AxesSubplot:>"
      ]
     },
     "execution_count": 499,
     "metadata": {},
     "output_type": "execute_result"
    },
    {
     "data": {
      "image/png": "[encoded data removed]",
      "text/plain": [
       "<Figure size 432x288 with 1 Axes>"
      ]
     },
     "metadata": {
      "needs_background": "light"
     },
     "output_type": "display_data"
    }
   ],
   "source": [
    "clust_desc_cpt_empl.plot()"
   ]
  },
  {
   "cell_type": "code",
   "execution_count": 494,
   "id": "1f4284bf",
   "metadata": {
    "ExecuteTime": {
     "end_time": "2022-01-17T12:01:07.937192Z",
     "start_time": "2022-01-17T12:01:07.895414Z"
    }
   },
   "outputs": [
    {
     "data": {
      "text/html": [
       "<div>\n",
       "<style scoped>\n",
       "    .dataframe tbody tr th:only-of-type {\n",
       "        vertical-align: middle;\n",
       "    }\n",
       "\n",
       "    .dataframe tbody tr th {\n",
       "        vertical-align: top;\n",
       "    }\n",
       "\n",
       "    .dataframe thead th {\n",
       "        text-align: right;\n",
       "    }\n",
       "</style>\n",
       "<table border=\"1\" class=\"dataframe\">\n",
       "  <thead>\n",
       "    <tr style=\"text-align: right;\">\n",
       "      <th></th>\n",
       "      <th>cluster_pop</th>\n",
       "      <th>formal_dwellings</th>\n",
       "      <th>White</th>\n",
       "      <th>Pop</th>\n",
       "      <th>Employed</th>\n",
       "      <th>area_km</th>\n",
       "      <th>geometry</th>\n",
       "    </tr>\n",
       "  </thead>\n",
       "  <tbody>\n",
       "    <tr>\n",
       "      <th>0</th>\n",
       "      <td>1</td>\n",
       "      <td>33595</td>\n",
       "      <td>42265</td>\n",
       "      <td>89231</td>\n",
       "      <td>38847</td>\n",
       "      <td>50.251190</td>\n",
       "      <td>POLYGON ((28.09601 -26.04677, 28.09564 -26.047...</td>\n",
       "    </tr>\n",
       "    <tr>\n",
       "      <th>1</th>\n",
       "      <td>2</td>\n",
       "      <td>34104</td>\n",
       "      <td>68840</td>\n",
       "      <td>104599</td>\n",
       "      <td>49583</td>\n",
       "      <td>57.661759</td>\n",
       "      <td>POLYGON ((28.01435 -26.14256, 28.01451 -26.142...</td>\n",
       "    </tr>\n",
       "    <tr>\n",
       "      <th>2</th>\n",
       "      <td>3</td>\n",
       "      <td>29602</td>\n",
       "      <td>41671</td>\n",
       "      <td>81385</td>\n",
       "      <td>35937</td>\n",
       "      <td>37.673964</td>\n",
       "      <td>POLYGON ((28.07578 -25.99720, 28.07548 -25.997...</td>\n",
       "    </tr>\n",
       "    <tr>\n",
       "      <th>3</th>\n",
       "      <td>4</td>\n",
       "      <td>26283</td>\n",
       "      <td>46395</td>\n",
       "      <td>76717</td>\n",
       "      <td>33903</td>\n",
       "      <td>81.378972</td>\n",
       "      <td>POLYGON ((28.08749 -26.16750, 28.08739 -26.167...</td>\n",
       "    </tr>\n",
       "    <tr>\n",
       "      <th>4</th>\n",
       "      <td>5</td>\n",
       "      <td>24136</td>\n",
       "      <td>20655</td>\n",
       "      <td>84383</td>\n",
       "      <td>36731</td>\n",
       "      <td>62.858418</td>\n",
       "      <td>POLYGON ((28.04398 -26.14119, 28.04379 -26.141...</td>\n",
       "    </tr>\n",
       "    <tr>\n",
       "      <th>5</th>\n",
       "      <td>6</td>\n",
       "      <td>38641</td>\n",
       "      <td>79140</td>\n",
       "      <td>116852</td>\n",
       "      <td>56884</td>\n",
       "      <td>61.334965</td>\n",
       "      <td>POLYGON ((28.02760 -26.09165, 28.02760 -26.091...</td>\n",
       "    </tr>\n",
       "    <tr>\n",
       "      <th>6</th>\n",
       "      <td>7</td>\n",
       "      <td>23755</td>\n",
       "      <td>52489</td>\n",
       "      <td>68347</td>\n",
       "      <td>36209</td>\n",
       "      <td>31.030203</td>\n",
       "      <td>POLYGON ((27.87916 -26.12588, 27.87907 -26.126...</td>\n",
       "    </tr>\n",
       "  </tbody>\n",
       "</table>\n",
       "</div>"
      ],
      "text/plain": [
       "  cluster_pop  formal_dwellings  White     Pop  Employed    area_km  \\\n",
       "0           1             33595  42265   89231     38847  50.251190   \n",
       "1           2             34104  68840  104599     49583  57.661759   \n",
       "2           3             29602  41671   81385     35937  37.673964   \n",
       "3           4             26283  46395   76717     33903  81.378972   \n",
       "4           5             24136  20655   84383     36731  62.858418   \n",
       "5           6             38641  79140  116852     56884  61.334965   \n",
       "6           7             23755  52489   68347     36209  31.030203   \n",
       "\n",
       "                                            geometry  \n",
       "0  POLYGON ((28.09601 -26.04677, 28.09564 -26.047...  \n",
       "1  POLYGON ((28.01435 -26.14256, 28.01451 -26.142...  \n",
       "2  POLYGON ((28.07578 -25.99720, 28.07548 -25.997...  \n",
       "3  POLYGON ((28.08749 -26.16750, 28.08739 -26.167...  \n",
       "4  POLYGON ((28.04398 -26.14119, 28.04379 -26.141...  \n",
       "5  POLYGON ((28.02760 -26.09165, 28.02760 -26.091...  \n",
       "6  POLYGON ((27.87916 -26.12588, 27.87907 -26.126...  "
      ]
     },
     "execution_count": 494,
     "metadata": {},
     "output_type": "execute_result"
    }
   ],
   "source": [
    "clust_desc_cpt_empl"
   ]
  },
  {
   "cell_type": "code",
   "execution_count": 545,
   "id": "0eb2dcac",
   "metadata": {
    "ExecuteTime": {
     "end_time": "2022-02-03T06:57:31.617918Z",
     "start_time": "2022-02-03T06:57:31.572576Z"
    }
   },
   "outputs": [
    {
     "data": {
      "text/html": [
       "<div>\n",
       "<style scoped>\n",
       "    .dataframe tbody tr th:only-of-type {\n",
       "        vertical-align: middle;\n",
       "    }\n",
       "\n",
       "    .dataframe tbody tr th {\n",
       "        vertical-align: top;\n",
       "    }\n",
       "\n",
       "    .dataframe thead th {\n",
       "        text-align: right;\n",
       "    }\n",
       "</style>\n",
       "<table border=\"1\" class=\"dataframe\">\n",
       "  <thead>\n",
       "    <tr style=\"text-align: right;\">\n",
       "      <th></th>\n",
       "      <th>cluster_pop</th>\n",
       "      <th>formal_dwellings</th>\n",
       "      <th>White</th>\n",
       "      <th>Pop</th>\n",
       "      <th>Employed</th>\n",
       "      <th>area_km</th>\n",
       "      <th>geometry</th>\n",
       "      <th>dwl_density</th>\n",
       "    </tr>\n",
       "  </thead>\n",
       "  <tbody>\n",
       "    <tr>\n",
       "      <th>0</th>\n",
       "      <td>1</td>\n",
       "      <td>23989</td>\n",
       "      <td>30809</td>\n",
       "      <td>58314</td>\n",
       "      <td>35388</td>\n",
       "      <td>56.960249</td>\n",
       "      <td>POLYGON ((28.09601 -26.04677, 28.09564 -26.047...</td>\n",
       "      <td>421.153353</td>\n",
       "    </tr>\n",
       "    <tr>\n",
       "      <th>1</th>\n",
       "      <td>2</td>\n",
       "      <td>31490</td>\n",
       "      <td>49090</td>\n",
       "      <td>93015</td>\n",
       "      <td>50390</td>\n",
       "      <td>48.692121</td>\n",
       "      <td>POLYGON ((28.01435 -26.14256, 28.01451 -26.142...</td>\n",
       "      <td>646.716545</td>\n",
       "    </tr>\n",
       "    <tr>\n",
       "      <th>2</th>\n",
       "      <td>3</td>\n",
       "      <td>29897</td>\n",
       "      <td>26257</td>\n",
       "      <td>78408</td>\n",
       "      <td>46801</td>\n",
       "      <td>86.508352</td>\n",
       "      <td>POLYGON ((28.07578 -25.99720, 28.07548 -25.997...</td>\n",
       "      <td>345.596688</td>\n",
       "    </tr>\n",
       "    <tr>\n",
       "      <th>3</th>\n",
       "      <td>4</td>\n",
       "      <td>24621</td>\n",
       "      <td>35782</td>\n",
       "      <td>72128</td>\n",
       "      <td>36651</td>\n",
       "      <td>34.608549</td>\n",
       "      <td>POLYGON ((28.08749 -26.16750, 28.08739 -26.167...</td>\n",
       "      <td>711.413818</td>\n",
       "    </tr>\n",
       "    <tr>\n",
       "      <th>4</th>\n",
       "      <td>5</td>\n",
       "      <td>24468</td>\n",
       "      <td>38296</td>\n",
       "      <td>62549</td>\n",
       "      <td>35817</td>\n",
       "      <td>34.267317</td>\n",
       "      <td>POLYGON ((28.04398 -26.14119, 28.04379 -26.141...</td>\n",
       "      <td>714.033151</td>\n",
       "    </tr>\n",
       "    <tr>\n",
       "      <th>5</th>\n",
       "      <td>6</td>\n",
       "      <td>37395</td>\n",
       "      <td>50671</td>\n",
       "      <td>98704</td>\n",
       "      <td>55117</td>\n",
       "      <td>54.491418</td>\n",
       "      <td>POLYGON ((28.02760 -26.09165, 28.02760 -26.091...</td>\n",
       "      <td>686.254850</td>\n",
       "    </tr>\n",
       "    <tr>\n",
       "      <th>6</th>\n",
       "      <td>7</td>\n",
       "      <td>26053</td>\n",
       "      <td>46040</td>\n",
       "      <td>75428</td>\n",
       "      <td>41940</td>\n",
       "      <td>59.136836</td>\n",
       "      <td>POLYGON ((27.87916 -26.12588, 27.87907 -26.126...</td>\n",
       "      <td>440.554511</td>\n",
       "    </tr>\n",
       "    <tr>\n",
       "      <th>7</th>\n",
       "      <td>8</td>\n",
       "      <td>35147</td>\n",
       "      <td>59768</td>\n",
       "      <td>96221</td>\n",
       "      <td>57231</td>\n",
       "      <td>40.802082</td>\n",
       "      <td>POLYGON ((27.94480 -26.12285, 27.94404 -26.123...</td>\n",
       "      <td>861.402129</td>\n",
       "    </tr>\n",
       "  </tbody>\n",
       "</table>\n",
       "</div>"
      ],
      "text/plain": [
       "  cluster_pop  formal_dwellings  White    Pop  Employed    area_km  \\\n",
       "0           1             23989  30809  58314     35388  56.960249   \n",
       "1           2             31490  49090  93015     50390  48.692121   \n",
       "2           3             29897  26257  78408     46801  86.508352   \n",
       "3           4             24621  35782  72128     36651  34.608549   \n",
       "4           5             24468  38296  62549     35817  34.267317   \n",
       "5           6             37395  50671  98704     55117  54.491418   \n",
       "6           7             26053  46040  75428     41940  59.136836   \n",
       "7           8             35147  59768  96221     57231  40.802082   \n",
       "\n",
       "                                            geometry  dwl_density  \n",
       "0  POLYGON ((28.09601 -26.04677, 28.09564 -26.047...   421.153353  \n",
       "1  POLYGON ((28.01435 -26.14256, 28.01451 -26.142...   646.716545  \n",
       "2  POLYGON ((28.07578 -25.99720, 28.07548 -25.997...   345.596688  \n",
       "3  POLYGON ((28.08749 -26.16750, 28.08739 -26.167...   711.413818  \n",
       "4  POLYGON ((28.04398 -26.14119, 28.04379 -26.141...   714.033151  \n",
       "5  POLYGON ((28.02760 -26.09165, 28.02760 -26.091...   686.254850  \n",
       "6  POLYGON ((27.87916 -26.12588, 27.87907 -26.126...   440.554511  \n",
       "7  POLYGON ((27.94480 -26.12285, 27.94404 -26.123...   861.402129  "
      ]
     },
     "execution_count": 545,
     "metadata": {},
     "output_type": "execute_result"
    }
   ],
   "source": [
    "clust_desc_employed_gr"
   ]
  },
  {
   "cell_type": "code",
   "execution_count": null,
   "id": "a73e92fa",
   "metadata": {},
   "outputs": [],
   "source": [
    "## Upload isochrones"
   ]
  },
  {
   "cell_type": "code",
   "execution_count": 547,
   "id": "9bff6674",
   "metadata": {
    "ExecuteTime": {
     "end_time": "2022-02-03T08:00:22.178457Z",
     "start_time": "2022-02-03T08:00:22.097145Z"
    }
   },
   "outputs": [],
   "source": [
    "gdf_iso = gpd.read_file('isochrones_4loc_joburg.geojson')"
   ]
  },
  {
   "cell_type": "code",
   "execution_count": 556,
   "id": "92f051ca",
   "metadata": {
    "ExecuteTime": {
     "end_time": "2022-02-03T08:06:03.968539Z",
     "start_time": "2022-02-03T08:06:03.936866Z"
    }
   },
   "outputs": [
    {
     "data": {
      "text/html": [
       "<div>\n",
       "<style scoped>\n",
       "    .dataframe tbody tr th:only-of-type {\n",
       "        vertical-align: middle;\n",
       "    }\n",
       "\n",
       "    .dataframe tbody tr th {\n",
       "        vertical-align: top;\n",
       "    }\n",
       "\n",
       "    .dataframe thead th {\n",
       "        text-align: right;\n",
       "    }\n",
       "</style>\n",
       "<table border=\"1\" class=\"dataframe\">\n",
       "  <thead>\n",
       "    <tr style=\"text-align: right;\">\n",
       "      <th></th>\n",
       "      <th>group_index</th>\n",
       "      <th>value</th>\n",
       "      <th>center</th>\n",
       "      <th>area</th>\n",
       "      <th>reachfactor</th>\n",
       "      <th>total_pop</th>\n",
       "      <th>id</th>\n",
       "      <th>layer</th>\n",
       "      <th>path</th>\n",
       "      <th>geometry</th>\n",
       "    </tr>\n",
       "  </thead>\n",
       "  <tbody>\n",
       "    <tr>\n",
       "      <th>0</th>\n",
       "      <td>0</td>\n",
       "      <td>720</td>\n",
       "      <td>(2:28.05972960839568,-26.0606657014103)</td>\n",
       "      <td>9.815367e+07</td>\n",
       "      <td>0.0781</td>\n",
       "      <td>162594</td>\n",
       "      <td>0</td>\n",
       "      <td>Aldeia Rivonia_12_min_isochrone</td>\n",
       "      <td>/Users/intra26/Desktop/лавка/заграница/South a...</td>\n",
       "      <td>POLYGON ((27.96366 -26.09718, 27.96677 -26.098...</td>\n",
       "    </tr>\n",
       "    <tr>\n",
       "      <th>1</th>\n",
       "      <td>0</td>\n",
       "      <td>720</td>\n",
       "      <td>(2:28.02360003204948,-26.05936695327426)</td>\n",
       "      <td>1.079688e+08</td>\n",
       "      <td>0.0859</td>\n",
       "      <td>217190</td>\n",
       "      <td>0</td>\n",
       "      <td>Bryanston carvenience_12min_isochrone</td>\n",
       "      <td>/Users/intra26/Desktop/лавка/заграница/South a...</td>\n",
       "      <td>POLYGON ((27.94114 -26.12442, 27.94396 -26.126...</td>\n",
       "    </tr>\n",
       "    <tr>\n",
       "      <th>2</th>\n",
       "      <td>0</td>\n",
       "      <td>720</td>\n",
       "      <td>(2:28.02737898266612,-26.0752000167087)</td>\n",
       "      <td>1.108416e+08</td>\n",
       "      <td>0.0882</td>\n",
       "      <td>219493</td>\n",
       "      <td>0</td>\n",
       "      <td>Bryanston Shopping Centre_12m_isochrone</td>\n",
       "      <td>/Users/intra26/Desktop/лавка/заграница/South a...</td>\n",
       "      <td>POLYGON ((27.96454 -26.09565, 27.96776 -26.097...</td>\n",
       "    </tr>\n",
       "    <tr>\n",
       "      <th>3</th>\n",
       "      <td>0</td>\n",
       "      <td>720</td>\n",
       "      <td>(2:28.07982996607706,-26.10771130247793)</td>\n",
       "      <td>1.032065e+08</td>\n",
       "      <td>0.0821</td>\n",
       "      <td>397263</td>\n",
       "      <td>0</td>\n",
       "      <td>wyberg_12min_isochrone</td>\n",
       "      <td>/Users/intra26/Desktop/лавка/заграница/South a...</td>\n",
       "      <td>POLYGON ((28.03117 -26.18243, 28.03152 -26.183...</td>\n",
       "    </tr>\n",
       "  </tbody>\n",
       "</table>\n",
       "</div>"
      ],
      "text/plain": [
       "   group_index  value                                    center          area  \\\n",
       "0            0    720   (2:28.05972960839568,-26.0606657014103)  9.815367e+07   \n",
       "1            0    720  (2:28.02360003204948,-26.05936695327426)  1.079688e+08   \n",
       "2            0    720   (2:28.02737898266612,-26.0752000167087)  1.108416e+08   \n",
       "3            0    720  (2:28.07982996607706,-26.10771130247793)  1.032065e+08   \n",
       "\n",
       "   reachfactor  total_pop  id                                    layer  \\\n",
       "0       0.0781     162594   0          Aldeia Rivonia_12_min_isochrone   \n",
       "1       0.0859     217190   0    Bryanston carvenience_12min_isochrone   \n",
       "2       0.0882     219493   0  Bryanston Shopping Centre_12m_isochrone   \n",
       "3       0.0821     397263   0                   wyberg_12min_isochrone   \n",
       "\n",
       "                                                path  \\\n",
       "0  /Users/intra26/Desktop/лавка/заграница/South a...   \n",
       "1  /Users/intra26/Desktop/лавка/заграница/South a...   \n",
       "2  /Users/intra26/Desktop/лавка/заграница/South a...   \n",
       "3  /Users/intra26/Desktop/лавка/заграница/South a...   \n",
       "\n",
       "                                            geometry  \n",
       "0  POLYGON ((27.96366 -26.09718, 27.96677 -26.098...  \n",
       "1  POLYGON ((27.94114 -26.12442, 27.94396 -26.126...  \n",
       "2  POLYGON ((27.96454 -26.09565, 27.96776 -26.097...  \n",
       "3  POLYGON ((28.03117 -26.18243, 28.03152 -26.183...  "
      ]
     },
     "execution_count": 556,
     "metadata": {},
     "output_type": "execute_result"
    }
   ],
   "source": [
    "gdf_iso.head()"
   ]
  },
  {
   "cell_type": "code",
   "execution_count": 552,
   "id": "8f1470f0",
   "metadata": {
    "ExecuteTime": {
     "end_time": "2022-02-03T08:04:40.378874Z",
     "start_time": "2022-02-03T08:04:40.326306Z"
    }
   },
   "outputs": [],
   "source": [
    "pop_grid_best_wards=gf.get_gdf(pop_grid_best_wards, 'geometry', 4326)"
   ]
  },
  {
   "cell_type": "code",
   "execution_count": 555,
   "id": "424a8824",
   "metadata": {
    "ExecuteTime": {
     "end_time": "2022-02-03T08:05:34.201649Z",
     "start_time": "2022-02-03T08:05:33.449497Z"
    }
   },
   "outputs": [
    {
     "name": "stderr",
     "output_type": "stream",
     "text": [
      "/usr/local/lib/python3.7/dist-packages/IPython/core/interactiveshell.py:3377: FutureWarning: The `op` parameter is deprecated and will be removed in a future release. Please use the `predicate` parameter instead.\n",
      "  if (await self.run_code(code, result,  async_=asy)):\n"
     ]
    }
   ],
   "source": [
    "gdf_iso_pop_raw = gpd.sjoin(gdf_iso,pop_grid_best_wards[pop_grid_best_wards['CAT_B']=='JHB'][['index','pop','geometry']], how='inner', op='contains')"
   ]
  },
  {
   "cell_type": "code",
   "execution_count": 565,
   "id": "4bdfd4d0",
   "metadata": {
    "ExecuteTime": {
     "end_time": "2022-02-03T08:11:29.941236Z",
     "start_time": "2022-02-03T08:11:29.904902Z"
    }
   },
   "outputs": [
    {
     "data": {
      "text/html": [
       "<div>\n",
       "<style scoped>\n",
       "    .dataframe tbody tr th:only-of-type {\n",
       "        vertical-align: middle;\n",
       "    }\n",
       "\n",
       "    .dataframe tbody tr th {\n",
       "        vertical-align: top;\n",
       "    }\n",
       "\n",
       "    .dataframe thead th {\n",
       "        text-align: right;\n",
       "    }\n",
       "</style>\n",
       "<table border=\"1\" class=\"dataframe\">\n",
       "  <thead>\n",
       "    <tr style=\"text-align: right;\">\n",
       "      <th></th>\n",
       "      <th>group_index</th>\n",
       "      <th>value</th>\n",
       "      <th>center</th>\n",
       "      <th>area</th>\n",
       "      <th>reachfactor</th>\n",
       "      <th>total_pop</th>\n",
       "      <th>id</th>\n",
       "      <th>layer</th>\n",
       "      <th>path</th>\n",
       "      <th>geometry</th>\n",
       "      <th>index_right</th>\n",
       "      <th>index</th>\n",
       "      <th>pop</th>\n",
       "    </tr>\n",
       "  </thead>\n",
       "  <tbody>\n",
       "    <tr>\n",
       "      <th>0</th>\n",
       "      <td>0</td>\n",
       "      <td>720</td>\n",
       "      <td>(2:28.05972960839568,-26.0606657014103)</td>\n",
       "      <td>9.815367e+07</td>\n",
       "      <td>0.0781</td>\n",
       "      <td>162594</td>\n",
       "      <td>0</td>\n",
       "      <td>Aldeia Rivonia_12_min_isochrone</td>\n",
       "      <td>/Users/intra26/Desktop/лавка/заграница/South a...</td>\n",
       "      <td>POLYGON ((27.96366 -26.09718, 27.96677 -26.098...</td>\n",
       "      <td>25829</td>\n",
       "      <td>45778</td>\n",
       "      <td>3</td>\n",
       "    </tr>\n",
       "    <tr>\n",
       "      <th>1</th>\n",
       "      <td>0</td>\n",
       "      <td>720</td>\n",
       "      <td>(2:28.02360003204948,-26.05936695327426)</td>\n",
       "      <td>1.079688e+08</td>\n",
       "      <td>0.0859</td>\n",
       "      <td>217190</td>\n",
       "      <td>0</td>\n",
       "      <td>Bryanston carvenience_12min_isochrone</td>\n",
       "      <td>/Users/intra26/Desktop/лавка/заграница/South a...</td>\n",
       "      <td>POLYGON ((27.94114 -26.12442, 27.94396 -26.126...</td>\n",
       "      <td>25829</td>\n",
       "      <td>45778</td>\n",
       "      <td>3</td>\n",
       "    </tr>\n",
       "    <tr>\n",
       "      <th>2</th>\n",
       "      <td>0</td>\n",
       "      <td>720</td>\n",
       "      <td>(2:28.02737898266612,-26.0752000167087)</td>\n",
       "      <td>1.108416e+08</td>\n",
       "      <td>0.0882</td>\n",
       "      <td>219493</td>\n",
       "      <td>0</td>\n",
       "      <td>Bryanston Shopping Centre_12m_isochrone</td>\n",
       "      <td>/Users/intra26/Desktop/лавка/заграница/South a...</td>\n",
       "      <td>POLYGON ((27.96454 -26.09565, 27.96776 -26.097...</td>\n",
       "      <td>25829</td>\n",
       "      <td>45778</td>\n",
       "      <td>3</td>\n",
       "    </tr>\n",
       "    <tr>\n",
       "      <th>0</th>\n",
       "      <td>0</td>\n",
       "      <td>720</td>\n",
       "      <td>(2:28.05972960839568,-26.0606657014103)</td>\n",
       "      <td>9.815367e+07</td>\n",
       "      <td>0.0781</td>\n",
       "      <td>162594</td>\n",
       "      <td>0</td>\n",
       "      <td>Aldeia Rivonia_12_min_isochrone</td>\n",
       "      <td>/Users/intra26/Desktop/лавка/заграница/South a...</td>\n",
       "      <td>POLYGON ((27.96366 -26.09718, 27.96677 -26.098...</td>\n",
       "      <td>25816</td>\n",
       "      <td>45765</td>\n",
       "      <td>11</td>\n",
       "    </tr>\n",
       "    <tr>\n",
       "      <th>1</th>\n",
       "      <td>0</td>\n",
       "      <td>720</td>\n",
       "      <td>(2:28.02360003204948,-26.05936695327426)</td>\n",
       "      <td>1.079688e+08</td>\n",
       "      <td>0.0859</td>\n",
       "      <td>217190</td>\n",
       "      <td>0</td>\n",
       "      <td>Bryanston carvenience_12min_isochrone</td>\n",
       "      <td>/Users/intra26/Desktop/лавка/заграница/South a...</td>\n",
       "      <td>POLYGON ((27.94114 -26.12442, 27.94396 -26.126...</td>\n",
       "      <td>25816</td>\n",
       "      <td>45765</td>\n",
       "      <td>11</td>\n",
       "    </tr>\n",
       "  </tbody>\n",
       "</table>\n",
       "</div>"
      ],
      "text/plain": [
       "   group_index  value                                    center          area  \\\n",
       "0            0    720   (2:28.05972960839568,-26.0606657014103)  9.815367e+07   \n",
       "1            0    720  (2:28.02360003204948,-26.05936695327426)  1.079688e+08   \n",
       "2            0    720   (2:28.02737898266612,-26.0752000167087)  1.108416e+08   \n",
       "0            0    720   (2:28.05972960839568,-26.0606657014103)  9.815367e+07   \n",
       "1            0    720  (2:28.02360003204948,-26.05936695327426)  1.079688e+08   \n",
       "\n",
       "   reachfactor  total_pop  id                                    layer  \\\n",
       "0       0.0781     162594   0          Aldeia Rivonia_12_min_isochrone   \n",
       "1       0.0859     217190   0    Bryanston carvenience_12min_isochrone   \n",
       "2       0.0882     219493   0  Bryanston Shopping Centre_12m_isochrone   \n",
       "0       0.0781     162594   0          Aldeia Rivonia_12_min_isochrone   \n",
       "1       0.0859     217190   0    Bryanston carvenience_12min_isochrone   \n",
       "\n",
       "                                                path  \\\n",
       "0  /Users/intra26/Desktop/лавка/заграница/South a...   \n",
       "1  /Users/intra26/Desktop/лавка/заграница/South a...   \n",
       "2  /Users/intra26/Desktop/лавка/заграница/South a...   \n",
       "0  /Users/intra26/Desktop/лавка/заграница/South a...   \n",
       "1  /Users/intra26/Desktop/лавка/заграница/South a...   \n",
       "\n",
       "                                            geometry  index_right  index  pop  \n",
       "0  POLYGON ((27.96366 -26.09718, 27.96677 -26.098...        25829  45778    3  \n",
       "1  POLYGON ((27.94114 -26.12442, 27.94396 -26.126...        25829  45778    3  \n",
       "2  POLYGON ((27.96454 -26.09565, 27.96776 -26.097...        25829  45778    3  \n",
       "0  POLYGON ((27.96366 -26.09718, 27.96677 -26.098...        25816  45765   11  \n",
       "1  POLYGON ((27.94114 -26.12442, 27.94396 -26.126...        25816  45765   11  "
      ]
     },
     "execution_count": 565,
     "metadata": {},
     "output_type": "execute_result"
    }
   ],
   "source": [
    "gdf_iso_pop_raw.head()"
   ]
  },
  {
   "cell_type": "code",
   "execution_count": 560,
   "id": "d249d8ed",
   "metadata": {
    "ExecuteTime": {
     "end_time": "2022-02-03T08:08:05.045437Z",
     "start_time": "2022-02-03T08:08:05.036764Z"
    }
   },
   "outputs": [],
   "source": [
    "gdf_iso_pop = gdf_iso_pop_raw.groupby('layer')['pop'].sum().reset_index()"
   ]
  },
  {
   "cell_type": "code",
   "execution_count": 561,
   "id": "a4ffcb99",
   "metadata": {
    "ExecuteTime": {
     "end_time": "2022-02-03T08:08:06.758662Z",
     "start_time": "2022-02-03T08:08:06.750134Z"
    }
   },
   "outputs": [
    {
     "data": {
      "text/html": [
       "<div>\n",
       "<style scoped>\n",
       "    .dataframe tbody tr th:only-of-type {\n",
       "        vertical-align: middle;\n",
       "    }\n",
       "\n",
       "    .dataframe tbody tr th {\n",
       "        vertical-align: top;\n",
       "    }\n",
       "\n",
       "    .dataframe thead th {\n",
       "        text-align: right;\n",
       "    }\n",
       "</style>\n",
       "<table border=\"1\" class=\"dataframe\">\n",
       "  <thead>\n",
       "    <tr style=\"text-align: right;\">\n",
       "      <th></th>\n",
       "      <th>layer</th>\n",
       "      <th>pop</th>\n",
       "    </tr>\n",
       "  </thead>\n",
       "  <tbody>\n",
       "    <tr>\n",
       "      <th>0</th>\n",
       "      <td>Aldeia Rivonia_12_min_isochrone</td>\n",
       "      <td>124458</td>\n",
       "    </tr>\n",
       "    <tr>\n",
       "      <th>1</th>\n",
       "      <td>Bryanston Shopping Centre_12m_isochrone</td>\n",
       "      <td>212087</td>\n",
       "    </tr>\n",
       "    <tr>\n",
       "      <th>2</th>\n",
       "      <td>Bryanston carvenience_12min_isochrone</td>\n",
       "      <td>202623</td>\n",
       "    </tr>\n",
       "    <tr>\n",
       "      <th>3</th>\n",
       "      <td>wyberg_12min_isochrone</td>\n",
       "      <td>90267</td>\n",
       "    </tr>\n",
       "  </tbody>\n",
       "</table>\n",
       "</div>"
      ],
      "text/plain": [
       "                                     layer     pop\n",
       "0          Aldeia Rivonia_12_min_isochrone  124458\n",
       "1  Bryanston Shopping Centre_12m_isochrone  212087\n",
       "2    Bryanston carvenience_12min_isochrone  202623\n",
       "3                   wyberg_12min_isochrone   90267"
      ]
     },
     "execution_count": 561,
     "metadata": {},
     "output_type": "execute_result"
    }
   ],
   "source": [
    "gdf_iso_pop"
   ]
  },
  {
   "cell_type": "code",
   "execution_count": 580,
   "id": "fd35043e",
   "metadata": {
    "ExecuteTime": {
     "end_time": "2022-02-03T08:20:41.873148Z",
     "start_time": "2022-02-03T08:20:41.864314Z"
    }
   },
   "outputs": [
    {
     "data": {
      "text/html": [
       "<div>\n",
       "<style scoped>\n",
       "    .dataframe tbody tr th:only-of-type {\n",
       "        vertical-align: middle;\n",
       "    }\n",
       "\n",
       "    .dataframe tbody tr th {\n",
       "        vertical-align: top;\n",
       "    }\n",
       "\n",
       "    .dataframe thead th {\n",
       "        text-align: right;\n",
       "    }\n",
       "</style>\n",
       "<table border=\"1\" class=\"dataframe\">\n",
       "  <thead>\n",
       "    <tr style=\"text-align: right;\">\n",
       "      <th></th>\n",
       "      <th>layer</th>\n",
       "      <th>pop</th>\n",
       "    </tr>\n",
       "  </thead>\n",
       "  <tbody>\n",
       "    <tr>\n",
       "      <th>1</th>\n",
       "      <td>Bryanston Shopping Centre_12m_isochrone</td>\n",
       "      <td>212087</td>\n",
       "    </tr>\n",
       "    <tr>\n",
       "      <th>2</th>\n",
       "      <td>Bryanston carvenience_12min_isochrone</td>\n",
       "      <td>202623</td>\n",
       "    </tr>\n",
       "    <tr>\n",
       "      <th>0</th>\n",
       "      <td>Aldeia Rivonia_12_min_isochrone</td>\n",
       "      <td>124458</td>\n",
       "    </tr>\n",
       "    <tr>\n",
       "      <th>3</th>\n",
       "      <td>wyberg_12min_isochrone</td>\n",
       "      <td>90267</td>\n",
       "    </tr>\n",
       "  </tbody>\n",
       "</table>\n",
       "</div>"
      ],
      "text/plain": [
       "                                     layer     pop\n",
       "1  Bryanston Shopping Centre_12m_isochrone  212087\n",
       "2    Bryanston carvenience_12min_isochrone  202623\n",
       "0          Aldeia Rivonia_12_min_isochrone  124458\n",
       "3                   wyberg_12min_isochrone   90267"
      ]
     },
     "execution_count": 580,
     "metadata": {},
     "output_type": "execute_result"
    }
   ],
   "source": [
    "gdf_iso_pop.sort_values('pop', ascending=False)"
   ]
  },
  {
   "cell_type": "code",
   "execution_count": 581,
   "id": "f04bb2c3",
   "metadata": {
    "ExecuteTime": {
     "end_time": "2022-02-03T08:20:50.043723Z",
     "start_time": "2022-02-03T08:20:50.040143Z"
    }
   },
   "outputs": [],
   "source": [
    "dict_uniq_pop={}\n",
    "set_unique_index=set()\n",
    "\n",
    "for n, l in enumerate(gdf_iso_pop.sort_values('pop', ascending=False)['layer'].values):\n",
    "    print(n)\n",
    "    if n==0:\n",
    "        dict_uniq_pop[l]= gdf_iso_pop_raw[gdf_iso_pop_raw.layer==l]['pop'].sum()\n",
    "        set_unique_index.update(gdf_iso_pop_raw[gdf_iso_pop_raw.layer==l]['index_right'].values)\n",
    "    else:\n",
    "        index_new = gdf_iso_pop_raw[(gdf_iso_pop_raw.layer==l)&(gdf_iso_pop_raw['index_right'].isin(set_unique_index)==False)]['index_right'].values\n",
    "        dict_uniq_pop[l] = gdf_iso_pop_raw.loc[ gdf_iso_pop_raw.index_right.isin(index_new)]['pop'].sum()\n",
    "        set_unique_index.update(index_new)"
   ]
  },
  {
   "cell_type": "code",
   "execution_count": 583,
   "id": "d9f93f22",
   "metadata": {
    "ExecuteTime": {
     "end_time": "2022-02-03T08:20:54.122839Z",
     "start_time": "2022-02-03T08:20:54.118211Z"
    }
   },
   "outputs": [
    {
     "data": {
      "text/plain": [
       "{'Bryanston Shopping Centre_12m_isochrone': 212087,\n",
       " 'Bryanston carvenience_12min_isochrone': 36515,\n",
       " 'Aldeia Rivonia_12_min_isochrone': 23628,\n",
       " 'wyberg_12min_isochrone': 69709}"
      ]
     },
     "execution_count": 583,
     "metadata": {},
     "output_type": "execute_result"
    }
   ],
   "source": [
    "dict_uniq_pop"
   ]
  },
  {
   "cell_type": "code",
   "execution_count": 584,
   "id": "f11088b5",
   "metadata": {
    "ExecuteTime": {
     "end_time": "2022-02-03T08:22:20.086315Z",
     "start_time": "2022-02-03T08:22:20.080765Z"
    }
   },
   "outputs": [],
   "source": [
    "gdf_iso_pop['add_covered_audience']= gdf_iso_pop['layer'].map(dict_uniq_pop)"
   ]
  },
  {
   "cell_type": "code",
   "execution_count": 588,
   "id": "b18f433c",
   "metadata": {
    "ExecuteTime": {
     "end_time": "2022-02-03T08:31:15.726427Z",
     "start_time": "2022-02-03T08:31:15.703552Z"
    }
   },
   "outputs": [],
   "source": [
    "gdf_iso_desc = gdf_iso.merge(gdf_iso_pop, on='layer')\n",
    "#.to_file('4loc_joburg_iso_pop.geojson', driver='GeoJSON')"
   ]
  },
  {
   "cell_type": "code",
   "execution_count": 594,
   "id": "7ee42933",
   "metadata": {
    "ExecuteTime": {
     "end_time": "2022-02-03T08:33:55.259972Z",
     "start_time": "2022-02-03T08:33:55.158147Z"
    }
   },
   "outputs": [],
   "source": [
    "gdf_iso_desc.loc[0:0].to_file('Aldeia Rivonia_12_min_isochrone.geojson', driver='GeoJSON')"
   ]
  },
  {
   "cell_type": "code",
   "execution_count": 597,
   "id": "1bfbad64",
   "metadata": {
    "ExecuteTime": {
     "end_time": "2022-02-03T08:34:45.982215Z",
     "start_time": "2022-02-03T08:34:45.909262Z"
    }
   },
   "outputs": [],
   "source": [
    "gdf_iso_desc.loc[1:1].to_file('Bryanston carvenience_12min_isochrone.geojson', driver='GeoJSON')"
   ]
  },
  {
   "cell_type": "code",
   "execution_count": 596,
   "id": "be5dd468",
   "metadata": {
    "ExecuteTime": {
     "end_time": "2022-02-03T08:34:31.077222Z",
     "start_time": "2022-02-03T08:34:31.047411Z"
    }
   },
   "outputs": [
    {
     "data": {
      "text/html": [
       "<div>\n",
       "<style scoped>\n",
       "    .dataframe tbody tr th:only-of-type {\n",
       "        vertical-align: middle;\n",
       "    }\n",
       "\n",
       "    .dataframe tbody tr th {\n",
       "        vertical-align: top;\n",
       "    }\n",
       "\n",
       "    .dataframe thead th {\n",
       "        text-align: right;\n",
       "    }\n",
       "</style>\n",
       "<table border=\"1\" class=\"dataframe\">\n",
       "  <thead>\n",
       "    <tr style=\"text-align: right;\">\n",
       "      <th></th>\n",
       "      <th>group_index</th>\n",
       "      <th>value</th>\n",
       "      <th>center</th>\n",
       "      <th>area</th>\n",
       "      <th>reachfactor</th>\n",
       "      <th>total_pop</th>\n",
       "      <th>id</th>\n",
       "      <th>layer</th>\n",
       "      <th>path</th>\n",
       "      <th>geometry</th>\n",
       "      <th>pop</th>\n",
       "      <th>add_covered_audience</th>\n",
       "    </tr>\n",
       "  </thead>\n",
       "  <tbody>\n",
       "    <tr>\n",
       "      <th>1</th>\n",
       "      <td>0</td>\n",
       "      <td>720</td>\n",
       "      <td>(2:28.02360003204948,-26.05936695327426)</td>\n",
       "      <td>1.079688e+08</td>\n",
       "      <td>0.0859</td>\n",
       "      <td>217190</td>\n",
       "      <td>0</td>\n",
       "      <td>Bryanston carvenience_12min_isochrone</td>\n",
       "      <td>/Users/intra26/Desktop/лавка/заграница/South a...</td>\n",
       "      <td>POLYGON ((27.94114 -26.12442, 27.94396 -26.126...</td>\n",
       "      <td>202623</td>\n",
       "      <td>36515</td>\n",
       "    </tr>\n",
       "    <tr>\n",
       "      <th>2</th>\n",
       "      <td>0</td>\n",
       "      <td>720</td>\n",
       "      <td>(2:28.02737898266612,-26.0752000167087)</td>\n",
       "      <td>1.108416e+08</td>\n",
       "      <td>0.0882</td>\n",
       "      <td>219493</td>\n",
       "      <td>0</td>\n",
       "      <td>Bryanston Shopping Centre_12m_isochrone</td>\n",
       "      <td>/Users/intra26/Desktop/лавка/заграница/South a...</td>\n",
       "      <td>POLYGON ((27.96454 -26.09565, 27.96776 -26.097...</td>\n",
       "      <td>212087</td>\n",
       "      <td>212087</td>\n",
       "    </tr>\n",
       "  </tbody>\n",
       "</table>\n",
       "</div>"
      ],
      "text/plain": [
       "   group_index  value                                    center          area  \\\n",
       "1            0    720  (2:28.02360003204948,-26.05936695327426)  1.079688e+08   \n",
       "2            0    720   (2:28.02737898266612,-26.0752000167087)  1.108416e+08   \n",
       "\n",
       "   reachfactor  total_pop  id                                    layer  \\\n",
       "1       0.0859     217190   0    Bryanston carvenience_12min_isochrone   \n",
       "2       0.0882     219493   0  Bryanston Shopping Centre_12m_isochrone   \n",
       "\n",
       "                                                path  \\\n",
       "1  /Users/intra26/Desktop/лавка/заграница/South a...   \n",
       "2  /Users/intra26/Desktop/лавка/заграница/South a...   \n",
       "\n",
       "                                            geometry     pop  \\\n",
       "1  POLYGON ((27.94114 -26.12442, 27.94396 -26.126...  202623   \n",
       "2  POLYGON ((27.96454 -26.09565, 27.96776 -26.097...  212087   \n",
       "\n",
       "   add_covered_audience  \n",
       "1                 36515  \n",
       "2                212087  "
      ]
     },
     "execution_count": 596,
     "metadata": {},
     "output_type": "execute_result"
    }
   ],
   "source": [
    "gdf_iso_desc.loc[1:2]"
   ]
  },
  {
   "cell_type": "code",
   "execution_count": 598,
   "id": "3194bf0e",
   "metadata": {
    "ExecuteTime": {
     "end_time": "2022-02-03T08:34:47.983915Z",
     "start_time": "2022-02-03T08:34:47.909564Z"
    }
   },
   "outputs": [],
   "source": [
    "gdf_iso_desc.loc[2:2].to_file('Bryanston Shopping Centre_12m_isochrone.geojson', driver='GeoJSON')"
   ]
  },
  {
   "cell_type": "code",
   "execution_count": 600,
   "id": "0b789d18",
   "metadata": {
    "ExecuteTime": {
     "end_time": "2022-02-03T08:36:56.867417Z",
     "start_time": "2022-02-03T08:36:56.796454Z"
    }
   },
   "outputs": [],
   "source": [
    "gdf_iso_desc.loc[3:3].to_file('wyberg_12min_isochrone.geojson', driver='GeoJSON')"
   ]
  },
  {
   "cell_type": "code",
   "execution_count": 601,
   "id": "97da03dd",
   "metadata": {
    "ExecuteTime": {
     "end_time": "2022-02-07T11:30:10.845254Z",
     "start_time": "2022-02-07T11:30:10.795512Z"
    }
   },
   "outputs": [],
   "source": [
    "gdf_new_zones = gpd.read_file('joburg_zones_0702.geojson')"
   ]
  },
  {
   "cell_type": "code",
   "execution_count": 608,
   "id": "5ed93246",
   "metadata": {
    "ExecuteTime": {
     "end_time": "2022-02-07T11:35:32.666731Z",
     "start_time": "2022-02-07T11:35:32.634148Z"
    }
   },
   "outputs": [],
   "source": [
    "gdf_new_zones = pd.concat([gdf_iso.loc[1:1],gdf_new_zones])"
   ]
  },
  {
   "cell_type": "code",
   "execution_count": 620,
   "id": "9ab52aac",
   "metadata": {
    "ExecuteTime": {
     "end_time": "2022-02-07T11:47:21.389886Z",
     "start_time": "2022-02-07T11:47:21.386450Z"
    }
   },
   "outputs": [],
   "source": [
    "gdf_new_zones.reset_index(inplace=True)"
   ]
  },
  {
   "cell_type": "code",
   "execution_count": 631,
   "id": "0757a39d",
   "metadata": {
    "ExecuteTime": {
     "end_time": "2022-02-07T11:49:21.698951Z",
     "start_time": "2022-02-07T11:49:21.695685Z"
    }
   },
   "outputs": [
    {
     "data": {
      "text/plain": [
       "(57620, 10)"
      ]
     },
     "execution_count": 631,
     "metadata": {},
     "output_type": "execute_result"
    }
   ],
   "source": [
    "pop_grid_best_wards.shape"
   ]
  },
  {
   "cell_type": "code",
   "execution_count": 45,
   "id": "d969e543",
   "metadata": {
    "ExecuteTime": {
     "end_time": "2022-02-15T10:10:10.300895Z",
     "start_time": "2022-02-15T10:10:10.292398Z"
    }
   },
   "outputs": [],
   "source": [
    "def receive_gdf_zone_pop(gdf_new_zones,pop_grid_best_wards):\n",
    "\n",
    "    gdf_new_zones_pop_raw = gpd.sjoin(gdf_new_zones,pop_grid_best_wards[pop_grid_best_wards['CAT_B']=='JHB'][['index','pop','geometry']], how='inner', op='contains')\n",
    "    gdf_iso_pop = gdf_new_zones_pop_raw.groupby('layer')['pop'].sum().reset_index()\n",
    "    \n",
    "    dict_uniq_pop={}\n",
    "    set_unique_index=set()\n",
    "\n",
    "    for n, l in enumerate( gdf_new_zones.sort_values('steps', ascending=True)['layer'].values):\n",
    "        print(n)\n",
    "        if n==0:\n",
    "            dict_uniq_pop[l]= gdf_new_zones_pop_raw[gdf_new_zones_pop_raw.layer==l]['pop'].sum()\n",
    "            set_unique_index.update(gdf_new_zones_pop_raw[gdf_new_zones_pop_raw.layer==l]['index_right'].values)\n",
    "            print(l,'len(set_unique_index)',len(set_unique_index))\n",
    "        else:\n",
    "            index_new = gdf_new_zones_pop_raw[(gdf_new_zones_pop_raw.layer==l)&(gdf_new_zones_pop_raw['index_right'].isin(set_unique_index)==False)]['index_right'].values\n",
    "            print(l, 'len index_new', len(index_new))\n",
    "            dict_uniq_pop[l] = gdf_new_zones_pop_raw.loc[(gdf_new_zones_pop_raw.index_right.isin(index_new))&(gdf_new_zones_pop_raw.layer==l)]['pop'].sum()\n",
    "            set_unique_index.update(index_new)\n",
    "            \n",
    "    gdf_iso_pop['add_covered_audience']= gdf_iso_pop['layer'].map(dict_uniq_pop)\n",
    "    gdf_new_zones_desc = gdf_new_zones.merge(gdf_iso_pop, on='layer')\n",
    "    return gdf_new_zones_desc"
   ]
  },
  {
   "cell_type": "code",
   "execution_count": 638,
   "id": "66713a2d",
   "metadata": {
    "ExecuteTime": {
     "end_time": "2022-02-07T11:52:04.071959Z",
     "start_time": "2022-02-07T11:52:04.068446Z"
    }
   },
   "outputs": [],
   "source": [
    "pop_grid_best_wards.rename(columns={'index':'grid_id'}, inplace=True)"
   ]
  },
  {
   "cell_type": "code",
   "execution_count": 655,
   "id": "727cfff2",
   "metadata": {
    "ExecuteTime": {
     "end_time": "2022-02-07T11:59:24.325872Z",
     "start_time": "2022-02-07T11:59:23.653453Z"
    },
    "scrolled": true
   },
   "outputs": [
    {
     "name": "stderr",
     "output_type": "stream",
     "text": [
      "/usr/local/lib/python3.7/dist-packages/IPython/core/interactiveshell.py:3377: FutureWarning: The `op` parameter is deprecated and will be removed in a future release. Please use the `predicate` parameter instead.\n",
      "  if (await self.run_code(code, result,  async_=asy)):\n"
     ]
    }
   ],
   "source": [
    "gdf_new_zones_pop_raw = gpd.sjoin(gdf_new_zones,pop_grid_best_wards[pop_grid_best_wards['CAT_B']=='JHB'][['grid_id','pop','geometry']], how='inner', op='contains')\n",
    "gdf_iso_pop = gdf_new_zones_pop_raw.groupby('layer')['pop'].sum().reset_index()\n",
    "\n",
    "dict_uniq_pop={}\n",
    "set_unique_index=set()\n",
    "\n"
   ]
  },
  {
   "cell_type": "code",
   "execution_count": 656,
   "id": "32d1ad2c",
   "metadata": {
    "ExecuteTime": {
     "end_time": "2022-02-07T11:59:24.331148Z",
     "start_time": "2022-02-07T11:59:24.328119Z"
    }
   },
   "outputs": [],
   "source": [
    "gdf_iso_pop = gdf_iso_pop.sort_values('pop', ascending=False)"
   ]
  },
  {
   "cell_type": "code",
   "execution_count": 658,
   "id": "d5e74f02",
   "metadata": {
    "ExecuteTime": {
     "end_time": "2022-02-07T11:59:29.837806Z",
     "start_time": "2022-02-07T11:59:29.833879Z"
    }
   },
   "outputs": [
    {
     "data": {
      "text/plain": [
       "{'joburg_zone1_0702': 230743,\n",
       " 'Bryanston carvenience_12min_isochrone': 227369,\n",
       " 'joburg_zone3_0702': 98372,\n",
       " 'joburg_zone2_0702': 29424,\n",
       " 'ors-export-polygon-4': 19169}"
      ]
     },
     "execution_count": 658,
     "metadata": {},
     "output_type": "execute_result"
    }
   ],
   "source": [
    "dict_uniq_pop"
   ]
  },
  {
   "cell_type": "code",
   "execution_count": 672,
   "id": "c4bfb814",
   "metadata": {
    "ExecuteTime": {
     "end_time": "2022-02-07T12:11:18.313482Z",
     "start_time": "2022-02-07T12:11:18.310373Z"
    },
    "scrolled": true
   },
   "outputs": [],
   "source": [
    "gdf_new_zones_desc.loc[0,'add_covered_audience']=118215"
   ]
  },
  {
   "cell_type": "code",
   "execution_count": 674,
   "id": "42b265af",
   "metadata": {
    "ExecuteTime": {
     "end_time": "2022-02-07T12:11:33.636291Z",
     "start_time": "2022-02-07T12:11:33.538068Z"
    }
   },
   "outputs": [],
   "source": [
    "gdf_new_zones_desc[gdf_new_zones_desc.columns[:-1]].to_file('gdf_new_zones_desc.geojson', driver='GeoJSON')"
   ]
  },
  {
   "cell_type": "code",
   "execution_count": 670,
   "id": "97cf9175",
   "metadata": {
    "ExecuteTime": {
     "end_time": "2022-02-07T12:10:58.644293Z",
     "start_time": "2022-02-07T12:10:58.636307Z"
    }
   },
   "outputs": [
    {
     "data": {
      "text/html": [
       "<div>\n",
       "<style scoped>\n",
       "    .dataframe tbody tr th:only-of-type {\n",
       "        vertical-align: middle;\n",
       "    }\n",
       "\n",
       "    .dataframe tbody tr th {\n",
       "        vertical-align: top;\n",
       "    }\n",
       "\n",
       "    .dataframe thead th {\n",
       "        text-align: right;\n",
       "    }\n",
       "</style>\n",
       "<table border=\"1\" class=\"dataframe\">\n",
       "  <thead>\n",
       "    <tr style=\"text-align: right;\">\n",
       "      <th></th>\n",
       "      <th>pop</th>\n",
       "      <th>add_covered_audience</th>\n",
       "    </tr>\n",
       "  </thead>\n",
       "  <tbody>\n",
       "    <tr>\n",
       "      <th>0</th>\n",
       "      <td>202623</td>\n",
       "      <td>227369</td>\n",
       "    </tr>\n",
       "    <tr>\n",
       "      <th>1</th>\n",
       "      <td>230743</td>\n",
       "      <td>230743</td>\n",
       "    </tr>\n",
       "    <tr>\n",
       "      <th>2</th>\n",
       "      <td>105398</td>\n",
       "      <td>29424</td>\n",
       "    </tr>\n",
       "    <tr>\n",
       "      <th>3</th>\n",
       "      <td>139560</td>\n",
       "      <td>98372</td>\n",
       "    </tr>\n",
       "    <tr>\n",
       "      <th>4</th>\n",
       "      <td>30974</td>\n",
       "      <td>19169</td>\n",
       "    </tr>\n",
       "  </tbody>\n",
       "</table>\n",
       "</div>"
      ],
      "text/plain": [
       "      pop  add_covered_audience\n",
       "0  202623                227369\n",
       "1  230743                230743\n",
       "2  105398                 29424\n",
       "3  139560                 98372\n",
       "4   30974                 19169"
      ]
     },
     "execution_count": 670,
     "metadata": {},
     "output_type": "execute_result"
    }
   ],
   "source": [
    "gdf_new_zones_desc[['pop','add_covered_audience']]"
   ]
  },
  {
   "cell_type": "code",
   "execution_count": 25,
   "id": "558686a7",
   "metadata": {
    "ExecuteTime": {
     "end_time": "2022-02-15T09:41:23.477738Z",
     "start_time": "2022-02-15T09:41:23.406768Z"
    }
   },
   "outputs": [],
   "source": [
    "gdf_new_zones_3z=gpd.read_file('3zones_Joburg.geojson')"
   ]
  },
  {
   "cell_type": "code",
   "execution_count": 21,
   "id": "7c35bcde",
   "metadata": {
    "ExecuteTime": {
     "end_time": "2022-02-15T09:40:36.979207Z",
     "start_time": "2022-02-15T09:40:36.948179Z"
    }
   },
   "outputs": [],
   "source": [
    "pop_grid_best_wards = pop_grid_best_wards.reset_index()"
   ]
  },
  {
   "cell_type": "code",
   "execution_count": 27,
   "id": "523a49ee",
   "metadata": {
    "ExecuteTime": {
     "end_time": "2022-02-15T09:43:42.854185Z",
     "start_time": "2022-02-15T09:43:42.848984Z"
    }
   },
   "outputs": [],
   "source": [
    "gdf_new_zones_3z.loc[1,'layer'] = \"Eagle's centre\"\n",
    "gdf_new_zones_3z.loc[2,'layer'] = 'Linden'"
   ]
  },
  {
   "cell_type": "code",
   "execution_count": 29,
   "id": "53bddeac",
   "metadata": {
    "ExecuteTime": {
     "end_time": "2022-02-15T09:49:05.757421Z",
     "start_time": "2022-02-15T09:49:05.751696Z"
    }
   },
   "outputs": [
    {
     "data": {
      "text/plain": [
       "array(['Bryanston carvenience_12min_isochrone', \"Eagle's centre\",\n",
       "       'Linden'], dtype=object)"
      ]
     },
     "execution_count": 29,
     "metadata": {},
     "output_type": "execute_result"
    }
   ],
   "source": [
    "gdf_new_zones_3z.layer.unique()"
   ]
  },
  {
   "cell_type": "code",
   "execution_count": 30,
   "id": "218bdcda",
   "metadata": {
    "ExecuteTime": {
     "end_time": "2022-02-15T09:51:06.125023Z",
     "start_time": "2022-02-15T09:51:06.121046Z"
    }
   },
   "outputs": [],
   "source": [
    "dict_stepts = dict(zip(['Bryanston carvenience_12min_isochrone', \"Eagle's centre\",\n",
    "       'Linden'],[1,2,3]))"
   ]
  },
  {
   "cell_type": "code",
   "execution_count": 31,
   "id": "54cfd2cf",
   "metadata": {
    "ExecuteTime": {
     "end_time": "2022-02-15T09:51:36.727235Z",
     "start_time": "2022-02-15T09:51:36.706322Z"
    },
    "scrolled": false
   },
   "outputs": [
    {
     "data": {
      "text/html": [
       "<div>\n",
       "<style scoped>\n",
       "    .dataframe tbody tr th:only-of-type {\n",
       "        vertical-align: middle;\n",
       "    }\n",
       "\n",
       "    .dataframe tbody tr th {\n",
       "        vertical-align: top;\n",
       "    }\n",
       "\n",
       "    .dataframe thead th {\n",
       "        text-align: right;\n",
       "    }\n",
       "</style>\n",
       "<table border=\"1\" class=\"dataframe\">\n",
       "  <thead>\n",
       "    <tr style=\"text-align: right;\">\n",
       "      <th></th>\n",
       "      <th>group_index</th>\n",
       "      <th>value</th>\n",
       "      <th>center</th>\n",
       "      <th>area</th>\n",
       "      <th>reachfactor</th>\n",
       "      <th>total_pop</th>\n",
       "      <th>id</th>\n",
       "      <th>layer</th>\n",
       "      <th>path</th>\n",
       "      <th>pop</th>\n",
       "      <th>add_covered_audience</th>\n",
       "      <th>geometry</th>\n",
       "      <th>steps</th>\n",
       "    </tr>\n",
       "  </thead>\n",
       "  <tbody>\n",
       "    <tr>\n",
       "      <th>0</th>\n",
       "      <td>0</td>\n",
       "      <td>720</td>\n",
       "      <td>(2:28.02360003204948,-26.05936695327426)</td>\n",
       "      <td>1.079688e+08</td>\n",
       "      <td>0.0859</td>\n",
       "      <td>217190</td>\n",
       "      <td>0</td>\n",
       "      <td>Bryanston carvenience_12min_isochrone</td>\n",
       "      <td>/Users/intra26/Desktop/лавка/заграница/South a...</td>\n",
       "      <td>202623.0</td>\n",
       "      <td>36515.0</td>\n",
       "      <td>POLYGON ((27.94114 -26.12442, 27.94396 -26.126...</td>\n",
       "      <td>1</td>\n",
       "    </tr>\n",
       "    <tr>\n",
       "      <th>1</th>\n",
       "      <td>0</td>\n",
       "      <td>720</td>\n",
       "      <td>(2:27.92757621771397,-26.09585333749305)</td>\n",
       "      <td>1.310233e+08</td>\n",
       "      <td>0.1043</td>\n",
       "      <td>276885</td>\n",
       "      <td>0</td>\n",
       "      <td>Eagle's centre</td>\n",
       "      <td>None</td>\n",
       "      <td>NaN</td>\n",
       "      <td>NaN</td>\n",
       "      <td>POLYGON ((27.85571 -26.12060, 27.86357 -26.128...</td>\n",
       "      <td>2</td>\n",
       "    </tr>\n",
       "    <tr>\n",
       "      <th>2</th>\n",
       "      <td>0</td>\n",
       "      <td>720</td>\n",
       "      <td>(2:27.98766542627254,-26.13105663859045)</td>\n",
       "      <td>1.252459e+08</td>\n",
       "      <td>0.0997</td>\n",
       "      <td>317081</td>\n",
       "      <td>0</td>\n",
       "      <td>Linden</td>\n",
       "      <td>None</td>\n",
       "      <td>NaN</td>\n",
       "      <td>NaN</td>\n",
       "      <td>POLYGON ((27.91662 -26.15269, 27.91741 -26.153...</td>\n",
       "      <td>3</td>\n",
       "    </tr>\n",
       "  </tbody>\n",
       "</table>\n",
       "</div>"
      ],
      "text/plain": [
       "   group_index  value                                    center          area  \\\n",
       "0            0    720  (2:28.02360003204948,-26.05936695327426)  1.079688e+08   \n",
       "1            0    720  (2:27.92757621771397,-26.09585333749305)  1.310233e+08   \n",
       "2            0    720  (2:27.98766542627254,-26.13105663859045)  1.252459e+08   \n",
       "\n",
       "   reachfactor  total_pop  id                                  layer  \\\n",
       "0       0.0859     217190   0  Bryanston carvenience_12min_isochrone   \n",
       "1       0.1043     276885   0                         Eagle's centre   \n",
       "2       0.0997     317081   0                                 Linden   \n",
       "\n",
       "                                                path       pop  \\\n",
       "0  /Users/intra26/Desktop/лавка/заграница/South a...  202623.0   \n",
       "1                                               None       NaN   \n",
       "2                                               None       NaN   \n",
       "\n",
       "   add_covered_audience                                           geometry  \\\n",
       "0               36515.0  POLYGON ((27.94114 -26.12442, 27.94396 -26.126...   \n",
       "1                   NaN  POLYGON ((27.85571 -26.12060, 27.86357 -26.128...   \n",
       "2                   NaN  POLYGON ((27.91662 -26.15269, 27.91741 -26.153...   \n",
       "\n",
       "   steps  \n",
       "0      1  \n",
       "1      2  \n",
       "2      3  "
      ]
     },
     "execution_count": 31,
     "metadata": {},
     "output_type": "execute_result"
    }
   ],
   "source": [
    "gdf_new_zones_3z['steps'] = gdf_new_zones_3z.layer.map(dict_stepts )\n",
    "gdf_new_zones_3z"
   ]
  },
  {
   "cell_type": "code",
   "execution_count": 46,
   "id": "c1da7065",
   "metadata": {
    "ExecuteTime": {
     "end_time": "2022-02-15T10:10:25.115237Z",
     "start_time": "2022-02-15T10:10:24.159654Z"
    },
    "scrolled": true
   },
   "outputs": [
    {
     "name": "stderr",
     "output_type": "stream",
     "text": [
      "/usr/local/lib/python3.7/dist-packages/IPython/core/interactiveshell.py:3457: FutureWarning: The `op` parameter is deprecated and will be removed in a future release. Please use the `predicate` parameter instead.\n",
      "  exec(code_obj, self.user_global_ns, self.user_ns)\n"
     ]
    },
    {
     "name": "stdout",
     "output_type": "stream",
     "text": [
      "0\n",
      "Bryanston carvenience_12min_isochrone len(set_unique_index) 11021\n",
      "1\n",
      "Eagle's centre len index_new 7912\n",
      "2\n",
      "Linden len index_new 6262\n"
     ]
    }
   ],
   "source": [
    "\n",
    "gdf_zones3_results = receive_gdf_zone_pop(gdf_new_zones_3z[['geometry','layer','steps']],pop_grid_best_wards)"
   ]
  },
  {
   "cell_type": "code",
   "execution_count": 59,
   "id": "cd6ce466",
   "metadata": {
    "ExecuteTime": {
     "end_time": "2022-02-15T10:14:31.396577Z",
     "start_time": "2022-02-15T10:14:31.383760Z"
    }
   },
   "outputs": [
    {
     "data": {
      "text/html": [
       "<div>\n",
       "<style scoped>\n",
       "    .dataframe tbody tr th:only-of-type {\n",
       "        vertical-align: middle;\n",
       "    }\n",
       "\n",
       "    .dataframe tbody tr th {\n",
       "        vertical-align: top;\n",
       "    }\n",
       "\n",
       "    .dataframe thead th {\n",
       "        text-align: right;\n",
       "    }\n",
       "</style>\n",
       "<table border=\"1\" class=\"dataframe\">\n",
       "  <thead>\n",
       "    <tr style=\"text-align: right;\">\n",
       "      <th></th>\n",
       "      <th>geometry</th>\n",
       "      <th>layer</th>\n",
       "      <th>steps</th>\n",
       "      <th>pop</th>\n",
       "      <th>add_covered_audience</th>\n",
       "    </tr>\n",
       "  </thead>\n",
       "  <tbody>\n",
       "    <tr>\n",
       "      <th>0</th>\n",
       "      <td>POLYGON ((27.94114 -26.12442, 27.94396 -26.126...</td>\n",
       "      <td>Bryanston carvenience_12min_isochrone</td>\n",
       "      <td>1</td>\n",
       "      <td>202623</td>\n",
       "      <td>202623</td>\n",
       "    </tr>\n",
       "    <tr>\n",
       "      <th>1</th>\n",
       "      <td>POLYGON ((27.85571 -26.12060, 27.86357 -26.128...</td>\n",
       "      <td>Eagle's centre</td>\n",
       "      <td>2</td>\n",
       "      <td>168244</td>\n",
       "      <td>156431</td>\n",
       "    </tr>\n",
       "    <tr>\n",
       "      <th>2</th>\n",
       "      <td>POLYGON ((27.91662 -26.15269, 27.91741 -26.153...</td>\n",
       "      <td>Linden</td>\n",
       "      <td>3</td>\n",
       "      <td>239641</td>\n",
       "      <td>136413</td>\n",
       "    </tr>\n",
       "  </tbody>\n",
       "</table>\n",
       "</div>"
      ],
      "text/plain": [
       "                                            geometry  \\\n",
       "0  POLYGON ((27.94114 -26.12442, 27.94396 -26.126...   \n",
       "1  POLYGON ((27.85571 -26.12060, 27.86357 -26.128...   \n",
       "2  POLYGON ((27.91662 -26.15269, 27.91741 -26.153...   \n",
       "\n",
       "                                   layer  steps     pop  add_covered_audience  \n",
       "0  Bryanston carvenience_12min_isochrone      1  202623                202623  \n",
       "1                         Eagle's centre      2  168244                156431  \n",
       "2                                 Linden      3  239641                136413  "
      ]
     },
     "execution_count": 59,
     "metadata": {},
     "output_type": "execute_result"
    }
   ],
   "source": [
    "\n",
    "gdf_zones3_results"
   ]
  },
  {
   "cell_type": "code",
   "execution_count": 49,
   "id": "12f5fb82",
   "metadata": {
    "ExecuteTime": {
     "end_time": "2022-02-15T10:11:46.525470Z",
     "start_time": "2022-02-15T10:11:46.445937Z"
    }
   },
   "outputs": [],
   "source": [
    "gdf_zones_Joburg_dissolved = gpd.read_file('3zones_Joburg_dissolved.geojson')"
   ]
  },
  {
   "cell_type": "code",
   "execution_count": 58,
   "id": "8ccd672e",
   "metadata": {
    "ExecuteTime": {
     "end_time": "2022-02-15T10:14:05.185812Z",
     "start_time": "2022-02-15T10:14:04.600397Z"
    }
   },
   "outputs": [
    {
     "name": "stderr",
     "output_type": "stream",
     "text": [
      "/usr/local/lib/python3.7/dist-packages/IPython/core/interactiveshell.py:3377: FutureWarning: The `op` parameter is deprecated and will be removed in a future release. Please use the `predicate` parameter instead.\n",
      "  if (await self.run_code(code, result,  async_=asy)):\n"
     ]
    },
    {
     "data": {
      "text/plain": [
       "506167"
      ]
     },
     "execution_count": 58,
     "metadata": {},
     "output_type": "execute_result"
    }
   ],
   "source": [
    "gpd.sjoin(gdf_zones_Joburg_dissolved[['layer','geometry']], pop_grid_best_wards.drop('index_right', axis=1), op='intersects')['pop'].sum()"
   ]
  },
  {
   "cell_type": "code",
   "execution_count": 66,
   "id": "017c2d8a",
   "metadata": {
    "ExecuteTime": {
     "end_time": "2022-02-15T10:35:57.235588Z",
     "start_time": "2022-02-15T10:35:57.230432Z"
    }
   },
   "outputs": [],
   "source": [
    "gdf_new_zones_3z['center']=gdf_new_zones_3z['center'].apply(lambda x: Point([float(v) for v in x[3:-1].split(',')]))"
   ]
  },
  {
   "cell_type": "code",
   "execution_count": 69,
   "id": "f5101495",
   "metadata": {
    "ExecuteTime": {
     "end_time": "2022-02-15T10:37:12.188858Z",
     "start_time": "2022-02-15T10:37:12.157112Z"
    }
   },
   "outputs": [],
   "source": [
    "gdf_new_zones_3z_stores = gpd.GeoDataFrame(gdf_new_zones_3z[['center','layer']], geometry='center',crs='epsg:4326')"
   ]
  },
  {
   "cell_type": "code",
   "execution_count": 70,
   "id": "a069c0b0",
   "metadata": {
    "ExecuteTime": {
     "end_time": "2022-02-15T10:37:31.427768Z",
     "start_time": "2022-02-15T10:37:31.358447Z"
    }
   },
   "outputs": [],
   "source": [
    "gdf_new_zones_3z_stores.to_file('gdf_new_zones_3z_stores.geojson', driver='GeoJSON')"
   ]
  },
  {
   "cell_type": "code",
   "execution_count": null,
   "id": "5882604e",
   "metadata": {},
   "outputs": [],
   "source": [
    "gdf_new_zones_3z_stores"
   ]
  }
 ],
 "metadata": {
  "kernelspec": {
   "display_name": "Python 3",
   "language": "python",
   "name": "python3"
  },
  "language_info": {
   "codemirror_mode": {
    "name": "ipython",
    "version": 3
   },
   "file_extension": ".py",
   "mimetype": "text/x-python",
   "name": "python",
   "nbconvert_exporter": "python",
   "pygments_lexer": "ipython3",
   "version": "3.7.5"
  }
 },
 "nbformat": 4,
 "nbformat_minor": 5
}
