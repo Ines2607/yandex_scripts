{
 "cells": [
  {
   "cell_type": "code",
   "execution_count": 3,
   "id": "54656bd8",
   "metadata": {
    "ExecuteTime": {
     "end_time": "2022-08-08T09:43:38.999385Z",
     "start_time": "2022-08-08T09:43:36.553183Z"
    }
   },
   "outputs": [],
   "source": [
    "# %run -i ../../GitHub/Useful_ML_Notebooks/libs.py\n",
    "import pandas as pd\n",
    "import numpy as np\n",
    "from datetime import datetime as dt\n",
    "from sklearn.model_selection import GridSearchCV\n",
    "import matplotlib.pyplot as plt\n",
    "from business_models import hahn, greenplum \n",
    "\n",
    "def get_zaic(df,*args):\n",
    "    ti()\n",
    "    if not(isinstance(df,pd.DataFrame) or isinstance(df,pd.Series)):\n",
    "        print('Не могу вернуть размер для объекта с типом',type(df))\n",
    "    elif isinstance(df,pd.Series) or isinstance(df,pd.DataFrame) and df.shape[1] == 1:\n",
    "        print(round(df.memory_usage(deep=True)/1024**2,2),'Mb')\n",
    "    else:\n",
    "        print(round(df.memory_usage(deep=True).sum()/1024**2,2),'Mb')\n",
    "    print(df.shape)\n",
    "    \n",
    "def ti():\n",
    "    print(dt.now().replace(microsecond=0))\n",
    "    \n",
    "\n",
    "%matplotlib inline"
   ]
  },
  {
   "cell_type": "code",
   "execution_count": 462,
   "id": "a05efa90",
   "metadata": {
    "ExecuteTime": {
     "end_time": "2022-07-13T13:24:57.791376Z",
     "start_time": "2022-07-13T13:24:57.730272Z"
    }
   },
   "outputs": [
    {
     "name": "stdout",
     "output_type": "stream",
     "text": [
      "2022-07-13 16:24:57\n",
      "0.65 Mb\n",
      "(1448, 45)\n"
     ]
    },
    {
     "data": {
      "text/html": [
       "<div>\n",
       "<style scoped>\n",
       "    .dataframe tbody tr th:only-of-type {\n",
       "        vertical-align: middle;\n",
       "    }\n",
       "\n",
       "    .dataframe tbody tr th {\n",
       "        vertical-align: top;\n",
       "    }\n",
       "\n",
       "    .dataframe thead th {\n",
       "        text-align: right;\n",
       "    }\n",
       "</style>\n",
       "<table border=\"1\" class=\"dataframe\">\n",
       "  <thead>\n",
       "    <tr style=\"text-align: right;\">\n",
       "      <th></th>\n",
       "      <th>hex_gid</th>\n",
       "      <th>pop_v3</th>\n",
       "      <th>coef_v3</th>\n",
       "      <th>jews_share</th>\n",
       "      <th>penetration</th>\n",
       "      <th>is_target_area</th>\n",
       "      <th>is_service_bad</th>\n",
       "      <th>christian</th>\n",
       "      <th>jewish</th>\n",
       "      <th>muslim</th>\n",
       "      <th>...</th>\n",
       "      <th>distance_straight</th>\n",
       "      <th>FAR</th>\n",
       "      <th>buildings_area</th>\n",
       "      <th>sq</th>\n",
       "      <th>density</th>\n",
       "      <th>age_months</th>\n",
       "      <th>cluster_6.0</th>\n",
       "      <th>cluster_7.0</th>\n",
       "      <th>cluster_8.0</th>\n",
       "      <th>sample</th>\n",
       "    </tr>\n",
       "  </thead>\n",
       "  <tbody>\n",
       "    <tr>\n",
       "      <th>0</th>\n",
       "      <td>892db0cd0c7ffff</td>\n",
       "      <td>1792.720570</td>\n",
       "      <td>2.317997</td>\n",
       "      <td>0.833646</td>\n",
       "      <td>0.012830</td>\n",
       "      <td>True</td>\n",
       "      <td>0.0</td>\n",
       "      <td>0.0</td>\n",
       "      <td>1.0</td>\n",
       "      <td>0.0</td>\n",
       "      <td>...</td>\n",
       "      <td>578.547661</td>\n",
       "      <td>0.583076</td>\n",
       "      <td>17038.519577</td>\n",
       "      <td>70150.265887</td>\n",
       "      <td>0.025555</td>\n",
       "      <td>13</td>\n",
       "      <td>0</td>\n",
       "      <td>0</td>\n",
       "      <td>0</td>\n",
       "      <td>train</td>\n",
       "    </tr>\n",
       "    <tr>\n",
       "      <th>1</th>\n",
       "      <td>892db0cd083ffff</td>\n",
       "      <td>3020.350410</td>\n",
       "      <td>2.317997</td>\n",
       "      <td>0.785028</td>\n",
       "      <td>0.021521</td>\n",
       "      <td>True</td>\n",
       "      <td>0.0</td>\n",
       "      <td>0.0</td>\n",
       "      <td>2.0</td>\n",
       "      <td>0.0</td>\n",
       "      <td>...</td>\n",
       "      <td>454.061590</td>\n",
       "      <td>0.820112</td>\n",
       "      <td>11619.445412</td>\n",
       "      <td>98668.600247</td>\n",
       "      <td>0.030611</td>\n",
       "      <td>13</td>\n",
       "      <td>0</td>\n",
       "      <td>1</td>\n",
       "      <td>0</td>\n",
       "      <td>test</td>\n",
       "    </tr>\n",
       "    <tr>\n",
       "      <th>2</th>\n",
       "      <td>892db0c892fffff</td>\n",
       "      <td>490.640261</td>\n",
       "      <td>0.787184</td>\n",
       "      <td>0.899304</td>\n",
       "      <td>0.008153</td>\n",
       "      <td>False</td>\n",
       "      <td>0.0</td>\n",
       "      <td>1.0</td>\n",
       "      <td>1.0</td>\n",
       "      <td>1.0</td>\n",
       "      <td>...</td>\n",
       "      <td>1826.279596</td>\n",
       "      <td>0.034901</td>\n",
       "      <td>4195.410288</td>\n",
       "      <td>9488.240712</td>\n",
       "      <td>0.015422</td>\n",
       "      <td>13</td>\n",
       "      <td>0</td>\n",
       "      <td>0</td>\n",
       "      <td>0</td>\n",
       "      <td>train</td>\n",
       "    </tr>\n",
       "  </tbody>\n",
       "</table>\n",
       "<p>3 rows × 45 columns</p>\n",
       "</div>"
      ],
      "text/plain": [
       "           hex_gid       pop_v3   coef_v3  jews_share  penetration  \\\n",
       "0  892db0cd0c7ffff  1792.720570  2.317997    0.833646     0.012830   \n",
       "1  892db0cd083ffff  3020.350410  2.317997    0.785028     0.021521   \n",
       "2  892db0c892fffff   490.640261  0.787184    0.899304     0.008153   \n",
       "\n",
       "   is_target_area  is_service_bad  christian  jewish  muslim  ...  \\\n",
       "0            True             0.0        0.0     1.0     0.0  ...   \n",
       "1            True             0.0        0.0     2.0     0.0  ...   \n",
       "2           False             0.0        1.0     1.0     1.0  ...   \n",
       "\n",
       "   distance_straight       FAR  buildings_area            sq   density  \\\n",
       "0         578.547661  0.583076    17038.519577  70150.265887  0.025555   \n",
       "1         454.061590  0.820112    11619.445412  98668.600247  0.030611   \n",
       "2        1826.279596  0.034901     4195.410288   9488.240712  0.015422   \n",
       "\n",
       "   age_months  cluster_6.0  cluster_7.0  cluster_8.0  sample  \n",
       "0          13            0            0            0   train  \n",
       "1          13            0            1            0    test  \n",
       "2          13            0            0            0   train  \n",
       "\n",
       "[3 rows x 45 columns]"
      ]
     },
     "execution_count": 462,
     "metadata": {},
     "output_type": "execute_result"
    }
   ],
   "source": [
    "cols = ['hex_gid',\n",
    "        'pop_v3', 'coef_v3', \n",
    "       'jews_share', \n",
    "       'penetration', 'is_target_area', 'is_service_bad', 'christian',\n",
    "       'jewish', 'muslim', 'unknown', 'is_not_habitated', 'coffee',\n",
    "       'kindergarten', 'parks',  'university', \n",
    "       'resid_buildings_share', 'mean height', 'resid_buildings_count', 'hist',\n",
    "       'urban-business-center', 'urban-gov', 'urban-industrial',\n",
    "       'urban-leisure', 'urban-med-hospital', 'urban-public', 'urban-shopping',\n",
    "        'cluster_6',\n",
    "       'cluster_3',  'cluster_1.0', 'cluster_2.0',\n",
    "       'cluster_3.0', 'cluster_4.0', 'cluster_5.0', \n",
    "       'soc-econom index',  'distance_straight',\n",
    "       'FAR', 'buildings_area', 'sq', 'density', 'age_months',\n",
    "       'cluster_6.0', 'cluster_7.0', 'cluster_8.0','sample'\n",
    "       ]\n",
    "corr_cols = ['odds', 'log_odds', 'predict_rf', 'pop_v3', 'orders', 'avg_check', 'avg_cte', 'coef_v3',\n",
    "       'others_share', 'is_target_area','hex_gid',\n",
    "       'is_service_bad', 'count','y_predict' ,'FAR', 'resid_buildings_count',\n",
    "             'english name']\n",
    "df = pd.read_csv('./data_isr.csv')\n",
    "df = df[cols]\n",
    "get_zaic(df)\n",
    "df.head(3)"
   ]
  },
  {
   "cell_type": "code",
   "execution_count": 463,
   "id": "30779b89",
   "metadata": {
    "ExecuteTime": {
     "end_time": "2022-07-13T13:24:58.875996Z",
     "start_time": "2022-07-13T13:24:58.872589Z"
    }
   },
   "outputs": [],
   "source": [
    "# prof.ProfileReport(df)"
   ]
  },
  {
   "cell_type": "code",
   "execution_count": 464,
   "id": "30c676c6",
   "metadata": {
    "ExecuteTime": {
     "end_time": "2022-07-13T13:24:59.430676Z",
     "start_time": "2022-07-13T13:24:59.394602Z"
    }
   },
   "outputs": [
    {
     "name": "stdout",
     "output_type": "stream",
     "text": [
      "2022-07-13 16:24:59\n",
      "0.6 Mb\n",
      "(1448, 39)\n"
     ]
    },
    {
     "data": {
      "text/html": [
       "<div>\n",
       "<style scoped>\n",
       "    .dataframe tbody tr th:only-of-type {\n",
       "        vertical-align: middle;\n",
       "    }\n",
       "\n",
       "    .dataframe tbody tr th {\n",
       "        vertical-align: top;\n",
       "    }\n",
       "\n",
       "    .dataframe thead th {\n",
       "        text-align: right;\n",
       "    }\n",
       "</style>\n",
       "<table border=\"1\" class=\"dataframe\">\n",
       "  <thead>\n",
       "    <tr style=\"text-align: right;\">\n",
       "      <th></th>\n",
       "      <th>jews_share</th>\n",
       "      <th>christian</th>\n",
       "      <th>jewish</th>\n",
       "      <th>muslim</th>\n",
       "      <th>unknown</th>\n",
       "      <th>is_not_habitated</th>\n",
       "      <th>coffee</th>\n",
       "      <th>kindergarten</th>\n",
       "      <th>parks</th>\n",
       "      <th>university</th>\n",
       "      <th>...</th>\n",
       "      <th>buildings_area</th>\n",
       "      <th>sq</th>\n",
       "      <th>density</th>\n",
       "      <th>age_months</th>\n",
       "      <th>cluster_6.0</th>\n",
       "      <th>cluster_7.0</th>\n",
       "      <th>cluster_8.0</th>\n",
       "      <th>sample</th>\n",
       "      <th>penetration</th>\n",
       "      <th>hex_gid</th>\n",
       "    </tr>\n",
       "  </thead>\n",
       "  <tbody>\n",
       "    <tr>\n",
       "      <th>0</th>\n",
       "      <td>0.833646</td>\n",
       "      <td>0.0</td>\n",
       "      <td>1.0</td>\n",
       "      <td>0.0</td>\n",
       "      <td>0.0</td>\n",
       "      <td>0</td>\n",
       "      <td>1.0</td>\n",
       "      <td>3.0</td>\n",
       "      <td>51.0</td>\n",
       "      <td>0.0</td>\n",
       "      <td>...</td>\n",
       "      <td>17038.519577</td>\n",
       "      <td>70150.265887</td>\n",
       "      <td>0.025555</td>\n",
       "      <td>13</td>\n",
       "      <td>0</td>\n",
       "      <td>0</td>\n",
       "      <td>0</td>\n",
       "      <td>train</td>\n",
       "      <td>0.012830</td>\n",
       "      <td>892db0cd0c7ffff</td>\n",
       "    </tr>\n",
       "    <tr>\n",
       "      <th>1</th>\n",
       "      <td>0.785028</td>\n",
       "      <td>0.0</td>\n",
       "      <td>2.0</td>\n",
       "      <td>0.0</td>\n",
       "      <td>0.0</td>\n",
       "      <td>1</td>\n",
       "      <td>2.0</td>\n",
       "      <td>3.0</td>\n",
       "      <td>64.0</td>\n",
       "      <td>0.0</td>\n",
       "      <td>...</td>\n",
       "      <td>11619.445412</td>\n",
       "      <td>98668.600247</td>\n",
       "      <td>0.030611</td>\n",
       "      <td>13</td>\n",
       "      <td>0</td>\n",
       "      <td>1</td>\n",
       "      <td>0</td>\n",
       "      <td>test</td>\n",
       "      <td>0.021521</td>\n",
       "      <td>892db0cd083ffff</td>\n",
       "    </tr>\n",
       "    <tr>\n",
       "      <th>2</th>\n",
       "      <td>0.899304</td>\n",
       "      <td>1.0</td>\n",
       "      <td>1.0</td>\n",
       "      <td>1.0</td>\n",
       "      <td>1.0</td>\n",
       "      <td>0</td>\n",
       "      <td>3.0</td>\n",
       "      <td>4.0</td>\n",
       "      <td>16.0</td>\n",
       "      <td>0.0</td>\n",
       "      <td>...</td>\n",
       "      <td>4195.410288</td>\n",
       "      <td>9488.240712</td>\n",
       "      <td>0.015422</td>\n",
       "      <td>13</td>\n",
       "      <td>0</td>\n",
       "      <td>0</td>\n",
       "      <td>0</td>\n",
       "      <td>train</td>\n",
       "      <td>0.008153</td>\n",
       "      <td>892db0c892fffff</td>\n",
       "    </tr>\n",
       "  </tbody>\n",
       "</table>\n",
       "<p>3 rows × 39 columns</p>\n",
       "</div>"
      ],
      "text/plain": [
       "   jews_share  christian  jewish  muslim  unknown  is_not_habitated  coffee  \\\n",
       "0    0.833646        0.0     1.0     0.0      0.0                 0     1.0   \n",
       "1    0.785028        0.0     2.0     0.0      0.0                 1     2.0   \n",
       "2    0.899304        1.0     1.0     1.0      1.0                 0     3.0   \n",
       "\n",
       "   kindergarten  parks  university  ...  buildings_area            sq  \\\n",
       "0           3.0   51.0         0.0  ...    17038.519577  70150.265887   \n",
       "1           3.0   64.0         0.0  ...    11619.445412  98668.600247   \n",
       "2           4.0   16.0         0.0  ...     4195.410288   9488.240712   \n",
       "\n",
       "    density  age_months  cluster_6.0  cluster_7.0  cluster_8.0  sample  \\\n",
       "0  0.025555          13            0            0            0   train   \n",
       "1  0.030611          13            0            1            0    test   \n",
       "2  0.015422          13            0            0            0   train   \n",
       "\n",
       "   penetration          hex_gid  \n",
       "0     0.012830  892db0cd0c7ffff  \n",
       "1     0.021521  892db0cd083ffff  \n",
       "2     0.008153  892db0c892fffff  \n",
       "\n",
       "[3 rows x 39 columns]"
      ]
     },
     "execution_count": 464,
     "metadata": {},
     "output_type": "execute_result"
    }
   ],
   "source": [
    "target = 'penetration'\n",
    "model_cols = [x for x in df.columns if x not in corr_cols + [target]]\n",
    "\n",
    "df_model = df[model_cols + [target,'hex_gid']].copy()\n",
    "df_model = df_model[~df_model[target].isna()]\n",
    "get_zaic(df_model)\n",
    "df_model.head(3)"
   ]
  },
  {
   "cell_type": "code",
   "execution_count": 467,
   "id": "52d98453",
   "metadata": {
    "ExecuteTime": {
     "end_time": "2022-07-13T13:25:46.112968Z",
     "start_time": "2022-07-13T13:25:46.098793Z"
    }
   },
   "outputs": [
    {
     "data": {
      "text/html": [
       "<div>\n",
       "<style scoped>\n",
       "    .dataframe tbody tr th:only-of-type {\n",
       "        vertical-align: middle;\n",
       "    }\n",
       "\n",
       "    .dataframe tbody tr th {\n",
       "        vertical-align: top;\n",
       "    }\n",
       "\n",
       "    .dataframe thead th {\n",
       "        text-align: right;\n",
       "    }\n",
       "</style>\n",
       "<table border=\"1\" class=\"dataframe\">\n",
       "  <thead>\n",
       "    <tr style=\"text-align: right;\">\n",
       "      <th></th>\n",
       "      <th>0</th>\n",
       "    </tr>\n",
       "  </thead>\n",
       "  <tbody>\n",
       "    <tr>\n",
       "      <th>sample</th>\n",
       "      <td>object</td>\n",
       "    </tr>\n",
       "    <tr>\n",
       "      <th>hex_gid</th>\n",
       "      <td>object</td>\n",
       "    </tr>\n",
       "  </tbody>\n",
       "</table>\n",
       "</div>"
      ],
      "text/plain": [
       "              0\n",
       "sample   object\n",
       "hex_gid  object"
      ]
     },
     "metadata": {},
     "output_type": "display_data"
    },
    {
     "name": "stdout",
     "output_type": "stream",
     "text": [
      "\n",
      "nunique():\n",
      "\n",
      "hex_gid 1448\n",
      "df shape =  (1448, 39)\n",
      "df shape =  (1448, 39)\n"
     ]
    }
   ],
   "source": [
    "df_types = pd.DataFrame(df_model.dtypes)\n",
    "display(df_types[df_types[0] == object])\n",
    "list_obj = [x for x in list(df_types[df_types[0] == object].index) if x != 'sample']\n",
    "\n",
    "print()\n",
    "print('nunique():')\n",
    "print()\n",
    "for elem in list_obj:\n",
    "    print(elem, df_model[elem].nunique())\n",
    "    \n",
    "print('df shape = ', df_model.shape)\n",
    "# df_model = pd.get_dummies(df_model, columns=list_obj)\n",
    "print('df shape = ', df_model.shape)\n",
    "\n",
    "# lgb работает с категориальными хорошо, но потом сложнее отбирать признаки\n",
    "# for elem in list_obj:\n",
    "#     df_model[elem] = df_model[elem].astype('category')"
   ]
  },
  {
   "cell_type": "code",
   "execution_count": 471,
   "id": "90ae37ad",
   "metadata": {
    "ExecuteTime": {
     "end_time": "2022-07-13T13:26:28.802756Z",
     "start_time": "2022-07-13T13:26:28.786671Z"
    }
   },
   "outputs": [],
   "source": [
    "model_cols = [x for x in df_model.columns if x != target and x != 'sample' and x!='hex_gid']\n",
    "seed_val = 7575\n",
    "\n",
    "encode_dict = {}\n",
    "k = 0\n",
    "for elem in model_cols:\n",
    "    new_elem = ''\n",
    "    for sym in elem:\n",
    "        if str.isalpha(sym) or str.isdigit(sym) or sym == '_':\n",
    "            new_elem += sym\n",
    "        elif str.isspace(sym) or sym == '-':\n",
    "            new_elem += '_'\n",
    "    encode_dict[elem] = new_elem\n",
    "\n",
    "model_cols = list(encode_dict.values())\n",
    "df_model.rename(columns=encode_dict, inplace=True)\n",
    "\n",
    "X_train = df_model[(df_model['sample'] == 'train')][model_cols]\n",
    "y_train = df_model[(df_model['sample'] == 'train')][target]\n",
    "X_test = df_model[(df_model['sample'] == 'test')][model_cols]\n",
    "y_test = df_model[(df_model['sample'] == 'test')][target]"
   ]
  },
  {
   "cell_type": "code",
   "execution_count": 472,
   "id": "263a867b",
   "metadata": {
    "ExecuteTime": {
     "end_time": "2022-07-13T13:26:29.535812Z",
     "start_time": "2022-07-13T13:26:29.530863Z"
    }
   },
   "outputs": [],
   "source": [
    "df.rename(columns=encode_dict, inplace=True)"
   ]
  },
  {
   "cell_type": "code",
   "execution_count": 473,
   "id": "786b6f16",
   "metadata": {
    "ExecuteTime": {
     "end_time": "2022-07-13T13:26:30.029436Z",
     "start_time": "2022-07-13T13:26:30.025520Z"
    }
   },
   "outputs": [],
   "source": [
    "import lightgbm as lgb"
   ]
  },
  {
   "cell_type": "code",
   "execution_count": 474,
   "id": "a69e251e",
   "metadata": {
    "ExecuteTime": {
     "end_time": "2022-07-13T13:26:30.397440Z",
     "start_time": "2022-07-13T13:26:30.391956Z"
    }
   },
   "outputs": [],
   "source": [
    "\n",
    "\n",
    "def rmsle(y_true, y_pred):\n",
    "    return 'RMSLE', np.sqrt(np.mean(np.power(np.log1p(y_pred) - np.log1p(y_true), 2))), False\n",
    "\n",
    "METRIC = 'rmse' # rmsle 'mae'"
   ]
  },
  {
   "cell_type": "code",
   "execution_count": 475,
   "id": "fa6138da",
   "metadata": {
    "ExecuteTime": {
     "end_time": "2022-07-13T13:26:31.565230Z",
     "start_time": "2022-07-13T13:26:31.223967Z"
    }
   },
   "outputs": [
    {
     "name": "stdout",
     "output_type": "stream",
     "text": [
      "[1]\tvalid_0's rmse: 0.0488608\tvalid_0's l2: 0.00238738\tvalid_1's rmse: 0.0416908\tvalid_1's l2: 0.00173812\n",
      "[2]\tvalid_0's rmse: 0.0481316\tvalid_0's l2: 0.00231665\tvalid_1's rmse: 0.0409437\tvalid_1's l2: 0.00167639\n",
      "[3]\tvalid_0's rmse: 0.0477089\tvalid_0's l2: 0.00227614\tvalid_1's rmse: 0.0405624\tvalid_1's l2: 0.00164531\n",
      "[4]\tvalid_0's rmse: 0.0471962\tvalid_0's l2: 0.00222748\tvalid_1's rmse: 0.0400665\tvalid_1's l2: 0.00160533\n",
      "[5]\tvalid_0's rmse: 0.0467826\tvalid_0's l2: 0.00218861\tvalid_1's rmse: 0.0397763\tvalid_1's l2: 0.00158215\n",
      "[6]\tvalid_0's rmse: 0.0463201\tvalid_0's l2: 0.00214555\tvalid_1's rmse: 0.0393654\tvalid_1's l2: 0.00154964\n",
      "[7]\tvalid_0's rmse: 0.0458688\tvalid_0's l2: 0.00210395\tvalid_1's rmse: 0.038901\tvalid_1's l2: 0.00151329\n",
      "[8]\tvalid_0's rmse: 0.0455006\tvalid_0's l2: 0.00207031\tvalid_1's rmse: 0.0386416\tvalid_1's l2: 0.00149317\n",
      "[9]\tvalid_0's rmse: 0.0451584\tvalid_0's l2: 0.00203928\tvalid_1's rmse: 0.0382545\tvalid_1's l2: 0.00146341\n",
      "[10]\tvalid_0's rmse: 0.0448144\tvalid_0's l2: 0.00200833\tvalid_1's rmse: 0.0379871\tvalid_1's l2: 0.00144302\n",
      "[11]\tvalid_0's rmse: 0.0445569\tvalid_0's l2: 0.00198532\tvalid_1's rmse: 0.0377246\tvalid_1's l2: 0.00142315\n",
      "[12]\tvalid_0's rmse: 0.0443855\tvalid_0's l2: 0.00197007\tvalid_1's rmse: 0.0376502\tvalid_1's l2: 0.00141753\n",
      "[13]\tvalid_0's rmse: 0.0441619\tvalid_0's l2: 0.00195028\tvalid_1's rmse: 0.0374471\tvalid_1's l2: 0.00140229\n",
      "[14]\tvalid_0's rmse: 0.0438031\tvalid_0's l2: 0.00191871\tvalid_1's rmse: 0.0372538\tvalid_1's l2: 0.00138784\n",
      "[15]\tvalid_0's rmse: 0.0436301\tvalid_0's l2: 0.00190358\tvalid_1's rmse: 0.037171\tvalid_1's l2: 0.00138168\n",
      "[16]\tvalid_0's rmse: 0.0434894\tvalid_0's l2: 0.00189133\tvalid_1's rmse: 0.0370534\tvalid_1's l2: 0.00137295\n",
      "[17]\tvalid_0's rmse: 0.0431314\tvalid_0's l2: 0.00186032\tvalid_1's rmse: 0.036768\tvalid_1's l2: 0.00135188\n",
      "[18]\tvalid_0's rmse: 0.0429614\tvalid_0's l2: 0.00184569\tvalid_1's rmse: 0.0365972\tvalid_1's l2: 0.00133935\n",
      "[19]\tvalid_0's rmse: 0.0428538\tvalid_0's l2: 0.00183645\tvalid_1's rmse: 0.0365138\tvalid_1's l2: 0.00133326\n",
      "[20]\tvalid_0's rmse: 0.0425592\tvalid_0's l2: 0.00181128\tvalid_1's rmse: 0.0362795\tvalid_1's l2: 0.00131621\n",
      "[1]\tvalid_0's rmse: 0.0488608\tvalid_0's l2: 0.00238738\tvalid_1's rmse: 0.0416908\tvalid_1's l2: 0.00173812\n",
      "[2]\tvalid_0's rmse: 0.0481316\tvalid_0's l2: 0.00231665\tvalid_1's rmse: 0.0409437\tvalid_1's l2: 0.00167639\n",
      "[3]\tvalid_0's rmse: 0.0477089\tvalid_0's l2: 0.00227614\tvalid_1's rmse: 0.0405624\tvalid_1's l2: 0.00164531\n",
      "[4]\tvalid_0's rmse: 0.0471962\tvalid_0's l2: 0.00222748\tvalid_1's rmse: 0.0400665\tvalid_1's l2: 0.00160533\n",
      "[5]\tvalid_0's rmse: 0.0467826\tvalid_0's l2: 0.00218861\tvalid_1's rmse: 0.0397763\tvalid_1's l2: 0.00158215\n",
      "[6]\tvalid_0's rmse: 0.0463201\tvalid_0's l2: 0.00214555\tvalid_1's rmse: 0.0393654\tvalid_1's l2: 0.00154964\n",
      "[7]\tvalid_0's rmse: 0.0458688\tvalid_0's l2: 0.00210395\tvalid_1's rmse: 0.038901\tvalid_1's l2: 0.00151329\n",
      "[8]\tvalid_0's rmse: 0.0455006\tvalid_0's l2: 0.00207031\tvalid_1's rmse: 0.0386416\tvalid_1's l2: 0.00149317\n",
      "[9]\tvalid_0's rmse: 0.0451584\tvalid_0's l2: 0.00203928\tvalid_1's rmse: 0.0382545\tvalid_1's l2: 0.00146341\n",
      "[10]\tvalid_0's rmse: 0.0448144\tvalid_0's l2: 0.00200833\tvalid_1's rmse: 0.0379871\tvalid_1's l2: 0.00144302\n",
      "[11]\tvalid_0's rmse: 0.0445569\tvalid_0's l2: 0.00198532\tvalid_1's rmse: 0.0377246\tvalid_1's l2: 0.00142315\n",
      "[12]\tvalid_0's rmse: 0.0443855\tvalid_0's l2: 0.00197007\tvalid_1's rmse: 0.0376502\tvalid_1's l2: 0.00141753\n",
      "[13]\tvalid_0's rmse: 0.0441619\tvalid_0's l2: 0.00195028\tvalid_1's rmse: 0.0374471\tvalid_1's l2: 0.00140229\n",
      "[14]\tvalid_0's rmse: 0.0438031\tvalid_0's l2: 0.00191871\tvalid_1's rmse: 0.0372538\tvalid_1's l2: 0.00138784\n",
      "[15]\tvalid_0's rmse: 0.0436301\tvalid_0's l2: 0.00190358\tvalid_1's rmse: 0.037171\tvalid_1's l2: 0.00138168\n",
      "[16]\tvalid_0's rmse: 0.0434894\tvalid_0's l2: 0.00189133\tvalid_1's rmse: 0.0370534\tvalid_1's l2: 0.00137295\n",
      "[17]\tvalid_0's rmse: 0.0431314\tvalid_0's l2: 0.00186032\tvalid_1's rmse: 0.036768\tvalid_1's l2: 0.00135188\n",
      "[18]\tvalid_0's rmse: 0.0429614\tvalid_0's l2: 0.00184569\tvalid_1's rmse: 0.0365972\tvalid_1's l2: 0.00133935\n",
      "[19]\tvalid_0's rmse: 0.0428538\tvalid_0's l2: 0.00183645\tvalid_1's rmse: 0.0365138\tvalid_1's l2: 0.00133326\n",
      "[20]\tvalid_0's rmse: 0.0425592\tvalid_0's l2: 0.00181128\tvalid_1's rmse: 0.0362795\tvalid_1's l2: 0.00131621\n",
      "[21]\tvalid_0's rmse: 0.0424112\tvalid_0's l2: 0.00179871\tvalid_1's rmse: 0.0361269\tvalid_1's l2: 0.00130515\n",
      "[22]\tvalid_0's rmse: 0.0422611\tvalid_0's l2: 0.001786\tvalid_1's rmse: 0.0360551\tvalid_1's l2: 0.00129997\n",
      "[23]\tvalid_0's rmse: 0.0420652\tvalid_0's l2: 0.00176948\tvalid_1's rmse: 0.0359645\tvalid_1's l2: 0.00129345\n",
      "[24]\tvalid_0's rmse: 0.0420246\tvalid_0's l2: 0.00176607\tvalid_1's rmse: 0.035982\tvalid_1's l2: 0.00129471\n",
      "[25]\tvalid_0's rmse: 0.0418892\tvalid_0's l2: 0.0017547\tvalid_1's rmse: 0.0358692\tvalid_1's l2: 0.0012866\n",
      "[26]\tvalid_0's rmse: 0.0417567\tvalid_0's l2: 0.00174362\tvalid_1's rmse: 0.0358526\tvalid_1's l2: 0.00128541\n",
      "[1]\tvalid_0's rmse: 0.0488608\tvalid_0's l2: 0.00238738\tvalid_1's rmse: 0.0416908\tvalid_1's l2: 0.00173812\n",
      "[2]\tvalid_0's rmse: 0.0481316\tvalid_0's l2: 0.00231665\tvalid_1's rmse: 0.0409437\tvalid_1's l2: 0.00167639\n",
      "[3]\tvalid_0's rmse: 0.0477089\tvalid_0's l2: 0.00227614\tvalid_1's rmse: 0.0405624\tvalid_1's l2: 0.00164531\n",
      "[4]\tvalid_0's rmse: 0.0471962\tvalid_0's l2: 0.00222748\tvalid_1's rmse: 0.0400665\tvalid_1's l2: 0.00160533\n",
      "[5]\tvalid_0's rmse: 0.0467826\tvalid_0's l2: 0.00218861\tvalid_1's rmse: 0.0397763\tvalid_1's l2: 0.00158215\n",
      "[6]\tvalid_0's rmse: 0.0463201\tvalid_0's l2: 0.00214555\tvalid_1's rmse: 0.0393654\tvalid_1's l2: 0.00154964\n",
      "[7]\tvalid_0's rmse: 0.0458688\tvalid_0's l2: 0.00210395\tvalid_1's rmse: 0.038901\tvalid_1's l2: 0.00151329\n",
      "[8]\tvalid_0's rmse: 0.0455006\tvalid_0's l2: 0.00207031\tvalid_1's rmse: 0.0386416\tvalid_1's l2: 0.00149317\n",
      "[9]\tvalid_0's rmse: 0.0451584\tvalid_0's l2: 0.00203928\tvalid_1's rmse: 0.0382545\tvalid_1's l2: 0.00146341\n",
      "[10]\tvalid_0's rmse: 0.0448144\tvalid_0's l2: 0.00200833\tvalid_1's rmse: 0.0379871\tvalid_1's l2: 0.00144302\n",
      "[11]\tvalid_0's rmse: 0.0445569\tvalid_0's l2: 0.00198532\tvalid_1's rmse: 0.0377246\tvalid_1's l2: 0.00142315\n",
      "[12]\tvalid_0's rmse: 0.0443855\tvalid_0's l2: 0.00197007\tvalid_1's rmse: 0.0376502\tvalid_1's l2: 0.00141753\n",
      "[13]\tvalid_0's rmse: 0.0441619\tvalid_0's l2: 0.00195028\tvalid_1's rmse: 0.0374471\tvalid_1's l2: 0.00140229\n",
      "[14]\tvalid_0's rmse: 0.0438031\tvalid_0's l2: 0.00191871\tvalid_1's rmse: 0.0372538\tvalid_1's l2: 0.00138784\n",
      "[15]\tvalid_0's rmse: 0.0436301\tvalid_0's l2: 0.00190358\tvalid_1's rmse: 0.037171\tvalid_1's l2: 0.00138168\n",
      "[16]\tvalid_0's rmse: 0.0434894\tvalid_0's l2: 0.00189133\tvalid_1's rmse: 0.0370534\tvalid_1's l2: 0.00137295\n",
      "[17]\tvalid_0's rmse: 0.0431314\tvalid_0's l2: 0.00186032\tvalid_1's rmse: 0.036768\tvalid_1's l2: 0.00135188\n",
      "[18]\tvalid_0's rmse: 0.0429614\tvalid_0's l2: 0.00184569\tvalid_1's rmse: 0.0365972\tvalid_1's l2: 0.00133935\n",
      "[19]\tvalid_0's rmse: 0.0428538\tvalid_0's l2: 0.00183645\tvalid_1's rmse: 0.0365138\tvalid_1's l2: 0.00133326\n",
      "[20]\tvalid_0's rmse: 0.0425592\tvalid_0's l2: 0.00181128\tvalid_1's rmse: 0.0362795\tvalid_1's l2: 0.00131621\n",
      "[21]\tvalid_0's rmse: 0.0424112\tvalid_0's l2: 0.00179871\tvalid_1's rmse: 0.0361269\tvalid_1's l2: 0.00130515\n",
      "[22]\tvalid_0's rmse: 0.0422611\tvalid_0's l2: 0.001786\tvalid_1's rmse: 0.0360551\tvalid_1's l2: 0.00129997\n",
      "[23]\tvalid_0's rmse: 0.0420652\tvalid_0's l2: 0.00176948\tvalid_1's rmse: 0.0359645\tvalid_1's l2: 0.00129345\n",
      "[24]\tvalid_0's rmse: 0.0420246\tvalid_0's l2: 0.00176607\tvalid_1's rmse: 0.035982\tvalid_1's l2: 0.00129471\n",
      "[25]\tvalid_0's rmse: 0.0418892\tvalid_0's l2: 0.0017547\tvalid_1's rmse: 0.0358692\tvalid_1's l2: 0.0012866\n",
      "[26]\tvalid_0's rmse: 0.0417567\tvalid_0's l2: 0.00174362\tvalid_1's rmse: 0.0358526\tvalid_1's l2: 0.00128541\n",
      "[27]\tvalid_0's rmse: 0.0416149\tvalid_0's l2: 0.0017318\tvalid_1's rmse: 0.0357217\tvalid_1's l2: 0.00127604\n",
      "[28]\tvalid_0's rmse: 0.0415011\tvalid_0's l2: 0.00172234\tvalid_1's rmse: 0.0356036\tvalid_1's l2: 0.00126762\n",
      "[29]\tvalid_0's rmse: 0.0413921\tvalid_0's l2: 0.00171331\tvalid_1's rmse: 0.0355189\tvalid_1's l2: 0.00126159\n",
      "[30]\tvalid_0's rmse: 0.0412889\tvalid_0's l2: 0.00170477\tvalid_1's rmse: 0.0354209\tvalid_1's l2: 0.00125464\n",
      "[31]\tvalid_0's rmse: 0.041202\tvalid_0's l2: 0.0016976\tvalid_1's rmse: 0.0353955\tvalid_1's l2: 0.00125284\n",
      "[32]\tvalid_0's rmse: 0.0411021\tvalid_0's l2: 0.00168938\tvalid_1's rmse: 0.0353938\tvalid_1's l2: 0.00125272[1]\tvalid_0's rmse: 0.0491617\tvalid_0's l2: 0.00241687\tvalid_1's rmse: 0.0410027\tvalid_1's l2: 0.00168122\n",
      "[2]\tvalid_0's rmse: 0.0486316\tvalid_0's l2: 0.00236503\tvalid_1's rmse: 0.0406986\tvalid_1's l2: 0.00165638\n",
      "[3]\tvalid_0's rmse: 0.0482339\tvalid_0's l2: 0.0023265\tvalid_1's rmse: 0.0403724\tvalid_1's l2: 0.00162993\n",
      "[4]\tvalid_0's rmse: 0.0478524\tvalid_0's l2: 0.00228985\tvalid_1's rmse: 0.0400531\tvalid_1's l2: 0.00160425\n",
      "[5]\tvalid_0's rmse: 0.0475061\tvalid_0's l2: 0.00225683\tvalid_1's rmse: 0.0398699\tvalid_1's l2: 0.00158961\n",
      "[6]\tvalid_0's rmse: 0.0472592\tvalid_0's l2: 0.00223343\tvalid_1's rmse: 0.0396547\tvalid_1's l2: 0.00157249\n",
      "[7]\tvalid_0's rmse: 0.046776\tvalid_0's l2: 0.00218799\tvalid_1's rmse: 0.0391357\tvalid_1's l2: 0.0015316\n",
      "[8]\tvalid_0's rmse: 0.0465075\tvalid_0's l2: 0.00216295\tvalid_1's rmse: 0.0389261\tvalid_1's l2: 0.00151524\n",
      "[9]\tvalid_0's rmse: 0.046255\tvalid_0's l2: 0.00213952\tvalid_1's rmse: 0.0387754\tvalid_1's l2: 0.00150353\n",
      "[10]\tvalid_0's rmse: 0.0458407\tvalid_0's l2: 0.00210137\tvalid_1's rmse: 0.0383507\tvalid_1's l2: 0.00147078\n",
      "[11]\tvalid_0's rmse: 0.045579\tvalid_0's l2: 0.00207745\tvalid_1's rmse: 0.038261\tvalid_1's l2: 0.0014639\n",
      "[12]\tvalid_0's rmse: 0.0452728\tvalid_0's l2: 0.00204963\tvalid_1's rmse: 0.0379036\tvalid_1's l2: 0.00143669\n",
      "[13]\tvalid_0's rmse: 0.045066\tvalid_0's l2: 0.00203094\tvalid_1's rmse: 0.0377658\tvalid_1's l2: 0.00142626\n",
      "[14]\tvalid_0's rmse: 0.0446723\tvalid_0's l2: 0.00199562\tvalid_1's rmse: 0.0375164\tvalid_1's l2: 0.00140748\n",
      "[15]\tvalid_0's rmse: 0.0442829\tvalid_0's l2: 0.00196098\tvalid_1's rmse: 0.0371922\tvalid_1's l2: 0.00138326\n",
      "[16]\tvalid_0's rmse: 0.0441156\tvalid_0's l2: 0.00194619\tvalid_1's rmse: 0.0371524\tvalid_1's l2: 0.0013803\n",
      "[17]\tvalid_0's rmse: 0.0438019\tvalid_0's l2: 0.00191861\tvalid_1's rmse: 0.0369053\tvalid_1's l2: 0.001362\n",
      "[18]\tvalid_0's rmse: 0.04373\tvalid_0's l2: 0.00191231\tvalid_1's rmse: 0.0368646\tvalid_1's l2: 0.001359\n",
      "[19]\tvalid_0's rmse: 0.0434041\tvalid_0's l2: 0.00188392\tvalid_1's rmse: 0.0366815\tvalid_1's l2: 0.00134554\n",
      "[20]\tvalid_0's rmse: 0.0431436\tvalid_0's l2: 0.00186137\tvalid_1's rmse: 0.0364903\tvalid_1's l2: 0.00133154\n",
      "[1]\tvalid_0's rmse: 0.0491617\tvalid_0's l2: 0.00241687\tvalid_1's rmse: 0.0410027\tvalid_1's l2: 0.00168122\n",
      "[2]\tvalid_0's rmse: 0.0486316\tvalid_0's l2: 0.00236503\tvalid_1's rmse: 0.0406986\tvalid_1's l2: 0.00165638\n",
      "[3]\tvalid_0's rmse: 0.0482339\tvalid_0's l2: 0.0023265\tvalid_1's rmse: 0.0403724\tvalid_1's l2: 0.00162993\n",
      "[4]\tvalid_0's rmse: 0.0478524\tvalid_0's l2: 0.00228985\tvalid_1's rmse: 0.0400531\tvalid_1's l2: 0.00160425\n",
      "[5]\tvalid_0's rmse: 0.0475061\tvalid_0's l2: 0.00225683\tvalid_1's rmse: 0.0398699\tvalid_1's l2: 0.00158961\n",
      "[6]\tvalid_0's rmse: 0.0472592\tvalid_0's l2: 0.00223343\tvalid_1's rmse: 0.0396547\tvalid_1's l2: 0.00157249\n",
      "[7]\tvalid_0's rmse: 0.046776\tvalid_0's l2: 0.00218799\tvalid_1's rmse: 0.0391357\tvalid_1's l2: 0.0015316\n",
      "[8]\tvalid_0's rmse: 0.0465075\tvalid_0's l2: 0.00216295\tvalid_1's rmse: 0.0389261\tvalid_1's l2: 0.00151524\n",
      "[9]\tvalid_0's rmse: 0.046255\tvalid_0's l2: 0.00213952\tvalid_1's rmse: 0.0387754\tvalid_1's l2: 0.00150353\n",
      "[10]\tvalid_0's rmse: 0.0458407\tvalid_0's l2: 0.00210137\tvalid_1's rmse: 0.0383507\tvalid_1's l2: 0.00147078\n",
      "[11]\tvalid_0's rmse: 0.045579\tvalid_0's l2: 0.00207745\tvalid_1's rmse: 0.038261\tvalid_1's l2: 0.0014639\n",
      "[12]\tvalid_0's rmse: 0.0452728\tvalid_0's l2: 0.00204963\tvalid_1's rmse: 0.0379036\tvalid_1's l2: 0.00143669\n",
      "[13]\tvalid_0's rmse: 0.045066\tvalid_0's l2: 0.00203094\tvalid_1's rmse: 0.0377658\tvalid_1's l2: 0.00142626\n",
      "[14]\tvalid_0's rmse: 0.0446723\tvalid_0's l2: 0.00199562\tvalid_1's rmse: 0.0375164\tvalid_1's l2: 0.00140748\n",
      "[15]\tvalid_0's rmse: 0.0442829\tvalid_0's l2: 0.00196098\tvalid_1's rmse: 0.0371922\tvalid_1's l2: 0.00138326\n",
      "[16]\tvalid_0's rmse: 0.0441156\tvalid_0's l2: 0.00194619\tvalid_1's rmse: 0.0371524\tvalid_1's l2: 0.0013803\n",
      "[17]\tvalid_0's rmse: 0.0438019\tvalid_0's l2: 0.00191861\tvalid_1's rmse: 0.0369053\tvalid_1's l2: 0.001362\n",
      "[18]\tvalid_0's rmse: 0.04373\tvalid_0's l2: 0.00191231\tvalid_1's rmse: 0.0368646\tvalid_1's l2: 0.001359\n",
      "[19]\tvalid_0's rmse: 0.0434041\tvalid_0's l2: 0.00188392\tvalid_1's rmse: 0.0366815\tvalid_1's l2: 0.00134554\n",
      "[20]\tvalid_0's rmse: 0.0431436\tvalid_0's l2: 0.00186137\tvalid_1's rmse: 0.0364903\tvalid_1's l2: 0.00133154\n",
      "[21]\tvalid_0's rmse: 0.0429374\tvalid_0's l2: 0.00184362\tvalid_1's rmse: 0.0364158\tvalid_1's l2: 0.00132611\n",
      "[22]\tvalid_0's rmse: 0.0427022\tvalid_0's l2: 0.00182347\tvalid_1's rmse: 0.0361659\tvalid_1's l2: 0.00130797\n",
      "[23]\tvalid_0's rmse: 0.042572\tvalid_0's l2: 0.00181238\tvalid_1's rmse: 0.0360335\tvalid_1's l2: 0.00129841\n",
      "[24]\tvalid_0's rmse: 0.042353\tvalid_0's l2: 0.00179378\tvalid_1's rmse: 0.0358246\tvalid_1's l2: 0.0012834\n",
      "[25]\tvalid_0's rmse: 0.0421383\tvalid_0's l2: 0.00177563\tvalid_1's rmse: 0.0355693\tvalid_1's l2: 0.00126517\n",
      "[26]\tvalid_0's rmse: 0.0419908\tvalid_0's l2: 0.00176322\tvalid_1's rmse: 0.0355517\tvalid_1's l2: 0.00126392\n",
      "[1]\tvalid_0's rmse: 0.0486713\tvalid_0's l2: 0.00236889\tvalid_1's rmse: 0.0412484\tvalid_1's l2: 0.00170143\n",
      "[2]\tvalid_0's rmse: 0.0478937\tvalid_0's l2: 0.00229381\tvalid_1's rmse: 0.0406285\tvalid_1's l2: 0.00165067\n",
      "[3]\tvalid_0's rmse: 0.0471681\tvalid_0's l2: 0.00222483\tvalid_1's rmse: 0.0398968\tvalid_1's l2: 0.00159175\n",
      "[4]\tvalid_0's rmse: 0.0464978\tvalid_0's l2: 0.00216204\tvalid_1's rmse: 0.0392551\tvalid_1's l2: 0.00154096\n",
      "[5]\tvalid_0's rmse: 0.0459137\tvalid_0's l2: 0.00210807\tvalid_1's rmse: 0.0387508\tvalid_1's l2: 0.00150163\n",
      "[6]\tvalid_0's rmse: 0.0454293\tvalid_0's l2: 0.00206382\tvalid_1's rmse: 0.0382799\tvalid_1's l2: 0.00146535\n",
      "[7]\tvalid_0's rmse: 0.0449804\tvalid_0's l2: 0.00202323\tvalid_1's rmse: 0.0378694\tvalid_1's l2: 0.00143409\n",
      "[8]\tvalid_0's rmse: 0.0445941\tvalid_0's l2: 0.00198863\tvalid_1's rmse: 0.0375339\tvalid_1's l2: 0.00140879\n",
      "[9]\tvalid_0's rmse: 0.0441331\tvalid_0's l2: 0.00194773\tvalid_1's rmse: 0.0371796\tvalid_1's l2: 0.00138232\n",
      "[10]\tvalid_0's rmse: 0.0437589\tvalid_0's l2: 0.00191484\tvalid_1's rmse: 0.0369005\tvalid_1's l2: 0.00136165\n",
      "[11]\tvalid_0's rmse: 0.04349\tvalid_0's l2: 0.00189138\tvalid_1's rmse: 0.0366616\tvalid_1's l2: 0.00134407\n",
      "[12]\tvalid_0's rmse: 0.0431614\tvalid_0's l2: 0.00186291\tvalid_1's rmse: 0.0365417\tvalid_1's l2: 0.00133529\n",
      "[13]\tvalid_0's rmse: 0.0429776\tvalid_0's l2: 0.00184707\tvalid_1's rmse: 0.0363868\tvalid_1's l2: 0.001324\n",
      "[14]\tvalid_0's rmse: 0.0427071\tvalid_0's l2: 0.0018239\tvalid_1's rmse: 0.0362124\tvalid_1's l2: 0.00131134\n",
      "[15]\tvalid_0's rmse: 0.0425481\tvalid_0's l2: 0.00181034\tvalid_1's rmse: 0.0361668\tvalid_1's l2: 0.00130804\n",
      "[16]\tvalid_0's rmse: 0.0423421\tvalid_0's l2: 0.00179286\tvalid_1's rmse: 0.0361503\tvalid_1's l2: 0.00130684\n",
      "[17]\tvalid_0's rmse: 0.0420339\tvalid_0's l2: 0.00176685\tvalid_1's rmse: 0.0361129\tvalid_1's l2: 0.00130414\n",
      "[18]\tvalid_0's rmse: 0.0419114\tvalid_0's l2: 0.00175656\tvalid_1's rmse: 0.0360252\tvalid_1's l2: 0.00129782\n",
      "[19]\tvalid_0's rmse: 0.041772\tvalid_0's l2: 0.0017449\tvalid_1's rmse: 0.0359097\tvalid_1's l2: 0.0012895\n",
      "[20]\tvalid_0's rmse: 0.0415481\tvalid_0's l2: 0.00172624\tvalid_1's rmse: 0.0356853\tvalid_1's l2: 0.00127344\n",
      "[21]\tvalid_0's rmse: 0.0413912\tvalid_0's l2: 0.00171323\tvalid_1's rmse: 0.0356706\tvalid_1's l2: 0.00127239\n",
      "[22]\tvalid_0's rmse: 0.0411801\tvalid_0's l2: 0.0016958\tvalid_1's rmse: 0.0355379\tvalid_1's l2: 0.00126294\n",
      "[23]\tvalid_0's rmse: 0.0410619\tvalid_0's l2: 0.00168608\tvalid_1's rmse: 0.0354726\tvalid_1's l2: 0.00125831\n",
      "[24]\tvalid_0's rmse: 0.0408979\tvalid_0's l2: 0.00167264\tvalid_1's rmse: 0.0353591\tvalid_1's l2: 0.00125027\n",
      "[25]\tvalid_0's rmse: 0.040659\tvalid_0's l2: 0.00165315\tvalid_1's rmse: 0.0352526\tvalid_1's l2: 0.00124274\n",
      "[26]\tvalid_0's rmse: 0.0404969\tvalid_0's l2: 0.00164\tvalid_1's rmse: 0.0350875\tvalid_1's l2: 0.00123113\n",
      "[27]\tvalid_0's rmse: 0.0403673\tvalid_0's l2: 0.00162952\tvalid_1's rmse: 0.0349536\tvalid_1's l2: 0.00122176\n",
      "[28]\tvalid_0's rmse: 0.0402811\tvalid_0's l2: 0.00162256\tvalid_1's rmse: 0.0349548\tvalid_1's l2: 0.00122184\n",
      "[29]\tvalid_0's rmse: 0.0401456\tvalid_0's l2: 0.00161167\tvalid_1's rmse: 0.0348686\tvalid_1's l2: 0.00121582\n",
      "[30]\tvalid_0's rmse: 0.0399596\tvalid_0's l2: 0.00159677\tvalid_1's rmse: 0.0348789\tvalid_1's l2: 0.00121654\n",
      "[31]\tvalid_0's rmse: 0.0398586\tvalid_0's l2: 0.00158871\tvalid_1's rmse: 0.0348802\tvalid_1's l2: 0.00121663\n",
      "[32]\tvalid_0's rmse: 0.0397414\tvalid_0's l2: 0.00157938\tvalid_1's rmse: 0.0348204\tvalid_1's l2: 0.00121246[1]\tvalid_0's rmse: 0.0486713\tvalid_0's l2: 0.00236889\tvalid_1's rmse: 0.0412484\tvalid_1's l2: 0.00170143\n",
      "[2]\tvalid_0's rmse: 0.0478937\tvalid_0's l2: 0.00229381\tvalid_1's rmse: 0.0406285\tvalid_1's l2: 0.00165067\n",
      "[3]\tvalid_0's rmse: 0.0471681\tvalid_0's l2: 0.00222483\tvalid_1's rmse: 0.0398968\tvalid_1's l2: 0.00159175\n",
      "[4]\tvalid_0's rmse: 0.0464978\tvalid_0's l2: 0.00216204\tvalid_1's rmse: 0.0392551\tvalid_1's l2: 0.00154096\n",
      "[5]\tvalid_0's rmse: 0.0459137\tvalid_0's l2: 0.00210807\tvalid_1's rmse: 0.0387508\tvalid_1's l2: 0.00150163\n",
      "[6]\tvalid_0's rmse: 0.0454293\tvalid_0's l2: 0.00206382\tvalid_1's rmse: 0.0382799\tvalid_1's l2: 0.00146535\n",
      "[7]\tvalid_0's rmse: 0.0449804\tvalid_0's l2: 0.00202323\tvalid_1's rmse: 0.0378694\tvalid_1's l2: 0.00143409\n",
      "[8]\tvalid_0's rmse: 0.0445941\tvalid_0's l2: 0.00198863\tvalid_1's rmse: 0.0375339\tvalid_1's l2: 0.00140879\n",
      "[9]\tvalid_0's rmse: 0.0441331\tvalid_0's l2: 0.00194773\tvalid_1's rmse: 0.0371796\tvalid_1's l2: 0.00138232\n",
      "[10]\tvalid_0's rmse: 0.0437589\tvalid_0's l2: 0.00191484\tvalid_1's rmse: 0.0369005\tvalid_1's l2: 0.00136165\n",
      "[11]\tvalid_0's rmse: 0.04349\tvalid_0's l2: 0.00189138\tvalid_1's rmse: 0.0366616\tvalid_1's l2: 0.00134407\n",
      "[12]\tvalid_0's rmse: 0.0431614\tvalid_0's l2: 0.00186291\tvalid_1's rmse: 0.0365417\tvalid_1's l2: 0.00133529\n",
      "[13]\tvalid_0's rmse: 0.0429776\tvalid_0's l2: 0.00184707\tvalid_1's rmse: 0.0363868\tvalid_1's l2: 0.001324\n",
      "[14]\tvalid_0's rmse: 0.0427071\tvalid_0's l2: 0.0018239\tvalid_1's rmse: 0.0362124\tvalid_1's l2: 0.00131134\n",
      "[15]\tvalid_0's rmse: 0.0425481\tvalid_0's l2: 0.00181034\tvalid_1's rmse: 0.0361668\tvalid_1's l2: 0.00130804\n",
      "[16]\tvalid_0's rmse: 0.0423421\tvalid_0's l2: 0.00179286\tvalid_1's rmse: 0.0361503\tvalid_1's l2: 0.00130684\n",
      "[17]\tvalid_0's rmse: 0.0420339\tvalid_0's l2: 0.00176685\tvalid_1's rmse: 0.0361129\tvalid_1's l2: 0.00130414\n",
      "[18]\tvalid_0's rmse: 0.0419114\tvalid_0's l2: 0.00175656\tvalid_1's rmse: 0.0360252\tvalid_1's l2: 0.00129782\n",
      "[19]\tvalid_0's rmse: 0.041772\tvalid_0's l2: 0.0017449\tvalid_1's rmse: 0.0359097\tvalid_1's l2: 0.0012895\n",
      "[20]\tvalid_0's rmse: 0.0415481\tvalid_0's l2: 0.00172624\tvalid_1's rmse: 0.0356853\tvalid_1's l2: 0.00127344\n",
      "[1]\tvalid_0's rmse: 0.0486713\tvalid_0's l2: 0.00236889\tvalid_1's rmse: 0.0412484\tvalid_1's l2: 0.00170143\n",
      "[2]\tvalid_0's rmse: 0.0478937\tvalid_0's l2: 0.00229381\tvalid_1's rmse: 0.0406285\tvalid_1's l2: 0.00165067\n",
      "[3]\tvalid_0's rmse: 0.0471681\tvalid_0's l2: 0.00222483\tvalid_1's rmse: 0.0398968\tvalid_1's l2: 0.00159175\n",
      "[4]\tvalid_0's rmse: 0.0464978\tvalid_0's l2: 0.00216204\tvalid_1's rmse: 0.0392551\tvalid_1's l2: 0.00154096\n",
      "[5]\tvalid_0's rmse: 0.0459137\tvalid_0's l2: 0.00210807\tvalid_1's rmse: 0.0387508\tvalid_1's l2: 0.00150163\n",
      "[6]\tvalid_0's rmse: 0.0454293\tvalid_0's l2: 0.00206382\tvalid_1's rmse: 0.0382799\tvalid_1's l2: 0.00146535\n",
      "[7]\tvalid_0's rmse: 0.0449804\tvalid_0's l2: 0.00202323\tvalid_1's rmse: 0.0378694\tvalid_1's l2: 0.00143409\n",
      "[8]\tvalid_0's rmse: 0.0445941\tvalid_0's l2: 0.00198863\tvalid_1's rmse: 0.0375339\tvalid_1's l2: 0.00140879\n",
      "[9]\tvalid_0's rmse: 0.0441331\tvalid_0's l2: 0.00194773\tvalid_1's rmse: 0.0371796\tvalid_1's l2: 0.00138232\n",
      "[10]\tvalid_0's rmse: 0.0437589\tvalid_0's l2: 0.00191484\tvalid_1's rmse: 0.0369005\tvalid_1's l2: 0.00136165\n",
      "[11]\tvalid_0's rmse: 0.04349\tvalid_0's l2: 0.00189138\tvalid_1's rmse: 0.0366616\tvalid_1's l2: 0.00134407\n",
      "[12]\tvalid_0's rmse: 0.0431614\tvalid_0's l2: 0.00186291\tvalid_1's rmse: 0.0365417\tvalid_1's l2: 0.00133529\n",
      "[13]\tvalid_0's rmse: 0.0429776\tvalid_0's l2: 0.00184707\tvalid_1's rmse: 0.0363868\tvalid_1's l2: 0.001324\n",
      "[14]\tvalid_0's rmse: 0.0427071\tvalid_0's l2: 0.0018239\tvalid_1's rmse: 0.0362124\tvalid_1's l2: 0.00131134\n",
      "[15]\tvalid_0's rmse: 0.0425481\tvalid_0's l2: 0.00181034\tvalid_1's rmse: 0.0361668\tvalid_1's l2: 0.00130804\n",
      "[16]\tvalid_0's rmse: 0.0423421\tvalid_0's l2: 0.00179286\tvalid_1's rmse: 0.0361503\tvalid_1's l2: 0.00130684\n",
      "[17]\tvalid_0's rmse: 0.0420339\tvalid_0's l2: 0.00176685\tvalid_1's rmse: 0.0361129\tvalid_1's l2: 0.00130414\n",
      "[18]\tvalid_0's rmse: 0.0419114\tvalid_0's l2: 0.00175656\tvalid_1's rmse: 0.0360252\tvalid_1's l2: 0.00129782\n",
      "[19]\tvalid_0's rmse: 0.041772\tvalid_0's l2: 0.0017449\tvalid_1's rmse: 0.0359097\tvalid_1's l2: 0.0012895\n",
      "[20]\tvalid_0's rmse: 0.0415481\tvalid_0's l2: 0.00172624\tvalid_1's rmse: 0.0356853\tvalid_1's l2: 0.00127344\n",
      "[21]\tvalid_0's rmse: 0.0413912\tvalid_0's l2: 0.00171323\tvalid_1's rmse: 0.0356706\tvalid_1's l2: 0.00127239\n",
      "[22]\tvalid_0's rmse: 0.0411801\tvalid_0's l2: 0.0016958\tvalid_1's rmse: 0.0355379\tvalid_1's l2: 0.00126294\n",
      "[23]\tvalid_0's rmse: 0.0410619\tvalid_0's l2: 0.00168608\tvalid_1's rmse: 0.0354726\tvalid_1's l2: 0.00125831\n",
      "[24]\tvalid_0's rmse: 0.0408979\tvalid_0's l2: 0.00167264\tvalid_1's rmse: 0.0353591\tvalid_1's l2: 0.00125027\n",
      "[25]\tvalid_0's rmse: 0.040659\tvalid_0's l2: 0.00165315\tvalid_1's rmse: 0.0352526\tvalid_1's l2: 0.00124274\n",
      "[26]\tvalid_0's rmse: 0.0404969\tvalid_0's l2: 0.00164\tvalid_1's rmse: 0.0350875\tvalid_1's l2: 0.00123113\n",
      "[1]\tvalid_0's rmse: 0.0491617\tvalid_0's l2: 0.00241687\tvalid_1's rmse: 0.0410027\tvalid_1's l2: 0.00168122\n",
      "[2]\tvalid_0's rmse: 0.0486316\tvalid_0's l2: 0.00236503\tvalid_1's rmse: 0.0406986\tvalid_1's l2: 0.00165638\n",
      "[3]\tvalid_0's rmse: 0.0482339\tvalid_0's l2: 0.0023265\tvalid_1's rmse: 0.0403724\tvalid_1's l2: 0.00162993\n",
      "[4]\tvalid_0's rmse: 0.0478524\tvalid_0's l2: 0.00228985\tvalid_1's rmse: 0.0400531\tvalid_1's l2: 0.00160425\n",
      "[5]\tvalid_0's rmse: 0.0475061\tvalid_0's l2: 0.00225683\tvalid_1's rmse: 0.0398699\tvalid_1's l2: 0.00158961\n",
      "[6]\tvalid_0's rmse: 0.0472592\tvalid_0's l2: 0.00223343\tvalid_1's rmse: 0.0396547\tvalid_1's l2: 0.00157249\n",
      "[7]\tvalid_0's rmse: 0.046776\tvalid_0's l2: 0.00218799\tvalid_1's rmse: 0.0391357\tvalid_1's l2: 0.0015316\n",
      "[8]\tvalid_0's rmse: 0.0465075\tvalid_0's l2: 0.00216295\tvalid_1's rmse: 0.0389261\tvalid_1's l2: 0.00151524\n",
      "[9]\tvalid_0's rmse: 0.046255\tvalid_0's l2: 0.00213952\tvalid_1's rmse: 0.0387754\tvalid_1's l2: 0.00150353\n",
      "[10]\tvalid_0's rmse: 0.0458407\tvalid_0's l2: 0.00210137\tvalid_1's rmse: 0.0383507\tvalid_1's l2: 0.00147078\n",
      "[11]\tvalid_0's rmse: 0.045579\tvalid_0's l2: 0.00207745\tvalid_1's rmse: 0.038261\tvalid_1's l2: 0.0014639\n",
      "[12]\tvalid_0's rmse: 0.0452728\tvalid_0's l2: 0.00204963\tvalid_1's rmse: 0.0379036\tvalid_1's l2: 0.00143669\n",
      "[13]\tvalid_0's rmse: 0.045066\tvalid_0's l2: 0.00203094\tvalid_1's rmse: 0.0377658\tvalid_1's l2: 0.00142626\n",
      "[14]\tvalid_0's rmse: 0.0446723\tvalid_0's l2: 0.00199562\tvalid_1's rmse: 0.0375164\tvalid_1's l2: 0.00140748\n",
      "[15]\tvalid_0's rmse: 0.0442829\tvalid_0's l2: 0.00196098\tvalid_1's rmse: 0.0371922\tvalid_1's l2: 0.00138326\n",
      "[16]\tvalid_0's rmse: 0.0441156\tvalid_0's l2: 0.00194619\tvalid_1's rmse: 0.0371524\tvalid_1's l2: 0.0013803\n",
      "[17]\tvalid_0's rmse: 0.0438019\tvalid_0's l2: 0.00191861\tvalid_1's rmse: 0.0369053\tvalid_1's l2: 0.001362\n",
      "[18]\tvalid_0's rmse: 0.04373\tvalid_0's l2: 0.00191231\tvalid_1's rmse: 0.0368646\tvalid_1's l2: 0.001359\n",
      "[19]\tvalid_0's rmse: 0.0434041\tvalid_0's l2: 0.00188392\tvalid_1's rmse: 0.0366815\tvalid_1's l2: 0.00134554\n",
      "[20]\tvalid_0's rmse: 0.0431436\tvalid_0's l2: 0.00186137\tvalid_1's rmse: 0.0364903\tvalid_1's l2: 0.00133154\n",
      "[21]\tvalid_0's rmse: 0.0429374\tvalid_0's l2: 0.00184362\tvalid_1's rmse: 0.0364158\tvalid_1's l2: 0.00132611\n",
      "[22]\tvalid_0's rmse: 0.0427022\tvalid_0's l2: 0.00182347\tvalid_1's rmse: 0.0361659\tvalid_1's l2: 0.00130797\n",
      "[23]\tvalid_0's rmse: 0.042572\tvalid_0's l2: 0.00181238\tvalid_1's rmse: 0.0360335\tvalid_1's l2: 0.00129841\n",
      "[24]\tvalid_0's rmse: 0.042353\tvalid_0's l2: 0.00179378\tvalid_1's rmse: 0.0358246\tvalid_1's l2: 0.0012834\n",
      "[25]\tvalid_0's rmse: 0.0421383\tvalid_0's l2: 0.00177563\tvalid_1's rmse: 0.0355693\tvalid_1's l2: 0.00126517\n",
      "[26]\tvalid_0's rmse: 0.0419908\tvalid_0's l2: 0.00176322\tvalid_1's rmse: 0.0355517\tvalid_1's l2: 0.00126392\n",
      "[27]\tvalid_0's rmse: 0.0417454\tvalid_0's l2: 0.00174268\tvalid_1's rmse: 0.0354634\tvalid_1's l2: 0.00125765\n",
      "[28]\tvalid_0's rmse: 0.0415323\tvalid_0's l2: 0.00172493\tvalid_1's rmse: 0.0353795\tvalid_1's l2: 0.00125171\n",
      "[29]\tvalid_0's rmse: 0.0414945\tvalid_0's l2: 0.0017218\tvalid_1's rmse: 0.0352896\tvalid_1's l2: 0.00124535\n",
      "[30]\tvalid_0's rmse: 0.0413887\tvalid_0's l2: 0.00171302\tvalid_1's rmse: 0.0351427\tvalid_1's l2: 0.00123501\n",
      "[31]\tvalid_0's rmse: 0.0412441\tvalid_0's l2: 0.00170107\tvalid_1's rmse: 0.0350517\tvalid_1's l2: 0.00122862\n",
      "[32]\tvalid_0's rmse: 0.0410921\tvalid_0's l2: 0.00168856\tvalid_1's rmse: 0.0349464\tvalid_1's l2: 0.00122125[1]\tvalid_0's rmse: 0.0488608\tvalid_0's l2: 0.00238738\tvalid_1's rmse: 0.0416908\tvalid_1's l2: 0.00173812\n",
      "[2]\tvalid_0's rmse: 0.0481316\tvalid_0's l2: 0.00231665\tvalid_1's rmse: 0.0409437\tvalid_1's l2: 0.00167639\n",
      "[3]\tvalid_0's rmse: 0.0477089\tvalid_0's l2: 0.00227614\tvalid_1's rmse: 0.0405624\tvalid_1's l2: 0.00164531\n",
      "[4]\tvalid_0's rmse: 0.0471962\tvalid_0's l2: 0.00222748\tvalid_1's rmse: 0.0400665\tvalid_1's l2: 0.00160533\n",
      "[5]\tvalid_0's rmse: 0.0467826\tvalid_0's l2: 0.00218861\tvalid_1's rmse: 0.0397763\tvalid_1's l2: 0.00158215\n",
      "[6]\tvalid_0's rmse: 0.0463201\tvalid_0's l2: 0.00214555\tvalid_1's rmse: 0.0393654\tvalid_1's l2: 0.00154964\n",
      "[7]\tvalid_0's rmse: 0.0458688\tvalid_0's l2: 0.00210395\tvalid_1's rmse: 0.038901\tvalid_1's l2: 0.00151329\n",
      "[8]\tvalid_0's rmse: 0.0455006\tvalid_0's l2: 0.00207031\tvalid_1's rmse: 0.0386416\tvalid_1's l2: 0.00149317\n",
      "[9]\tvalid_0's rmse: 0.0451584\tvalid_0's l2: 0.00203928\tvalid_1's rmse: 0.0382545\tvalid_1's l2: 0.00146341\n",
      "[10]\tvalid_0's rmse: 0.0448144\tvalid_0's l2: 0.00200833\tvalid_1's rmse: 0.0379871\tvalid_1's l2: 0.00144302\n",
      "[11]\tvalid_0's rmse: 0.0445569\tvalid_0's l2: 0.00198532\tvalid_1's rmse: 0.0377246\tvalid_1's l2: 0.00142315\n",
      "[12]\tvalid_0's rmse: 0.0443855\tvalid_0's l2: 0.00197007\tvalid_1's rmse: 0.0376502\tvalid_1's l2: 0.00141753\n",
      "[13]\tvalid_0's rmse: 0.0441619\tvalid_0's l2: 0.00195028\tvalid_1's rmse: 0.0374471\tvalid_1's l2: 0.00140229\n",
      "[14]\tvalid_0's rmse: 0.0438031\tvalid_0's l2: 0.00191871\tvalid_1's rmse: 0.0372538\tvalid_1's l2: 0.00138784\n",
      "[15]\tvalid_0's rmse: 0.0436301\tvalid_0's l2: 0.00190358\tvalid_1's rmse: 0.037171\tvalid_1's l2: 0.00138168\n",
      "[16]\tvalid_0's rmse: 0.0434894\tvalid_0's l2: 0.00189133\tvalid_1's rmse: 0.0370534\tvalid_1's l2: 0.00137295\n",
      "[17]\tvalid_0's rmse: 0.0431314\tvalid_0's l2: 0.00186032\tvalid_1's rmse: 0.036768\tvalid_1's l2: 0.00135188\n",
      "[18]\tvalid_0's rmse: 0.0429614\tvalid_0's l2: 0.00184569\tvalid_1's rmse: 0.0365972\tvalid_1's l2: 0.00133935\n",
      "[19]\tvalid_0's rmse: 0.0428538\tvalid_0's l2: 0.00183645\tvalid_1's rmse: 0.0365138\tvalid_1's l2: 0.00133326\n",
      "[20]\tvalid_0's rmse: 0.0425592\tvalid_0's l2: 0.00181128\tvalid_1's rmse: 0.0362795\tvalid_1's l2: 0.00131621\n",
      "[21]\tvalid_0's rmse: 0.0424112\tvalid_0's l2: 0.00179871\tvalid_1's rmse: 0.0361269\tvalid_1's l2: 0.00130515\n",
      "[22]\tvalid_0's rmse: 0.0422611\tvalid_0's l2: 0.001786\tvalid_1's rmse: 0.0360551\tvalid_1's l2: 0.00129997\n",
      "[23]\tvalid_0's rmse: 0.0420652\tvalid_0's l2: 0.00176948\tvalid_1's rmse: 0.0359645\tvalid_1's l2: 0.00129345\n",
      "[1]\tvalid_0's rmse: 0.0488608\tvalid_0's l2: 0.00238738\tvalid_1's rmse: 0.0416908\tvalid_1's l2: 0.00173812\n",
      "[2]\tvalid_0's rmse: 0.0481316\tvalid_0's l2: 0.00231665\tvalid_1's rmse: 0.0409437\tvalid_1's l2: 0.00167639\n",
      "[3]\tvalid_0's rmse: 0.0477089\tvalid_0's l2: 0.00227614\tvalid_1's rmse: 0.0405624\tvalid_1's l2: 0.00164531\n",
      "[4]\tvalid_0's rmse: 0.0471962\tvalid_0's l2: 0.00222748\tvalid_1's rmse: 0.0400665\tvalid_1's l2: 0.00160533\n",
      "[5]\tvalid_0's rmse: 0.0467826\tvalid_0's l2: 0.00218861\tvalid_1's rmse: 0.0397763\tvalid_1's l2: 0.00158215\n",
      "[6]\tvalid_0's rmse: 0.0463201\tvalid_0's l2: 0.00214555\tvalid_1's rmse: 0.0393654\tvalid_1's l2: 0.00154964\n",
      "[7]\tvalid_0's rmse: 0.0458688\tvalid_0's l2: 0.00210395\tvalid_1's rmse: 0.038901\tvalid_1's l2: 0.00151329\n",
      "[8]\tvalid_0's rmse: 0.0455006\tvalid_0's l2: 0.00207031\tvalid_1's rmse: 0.0386416\tvalid_1's l2: 0.00149317\n",
      "[9]\tvalid_0's rmse: 0.0451584\tvalid_0's l2: 0.00203928\tvalid_1's rmse: 0.0382545\tvalid_1's l2: 0.00146341\n",
      "[10]\tvalid_0's rmse: 0.0448144\tvalid_0's l2: 0.00200833\tvalid_1's rmse: 0.0379871\tvalid_1's l2: 0.00144302\n",
      "[11]\tvalid_0's rmse: 0.0445569\tvalid_0's l2: 0.00198532\tvalid_1's rmse: 0.0377246\tvalid_1's l2: 0.00142315\n",
      "[12]\tvalid_0's rmse: 0.0443855\tvalid_0's l2: 0.00197007\tvalid_1's rmse: 0.0376502\tvalid_1's l2: 0.00141753\n",
      "[13]\tvalid_0's rmse: 0.0441619\tvalid_0's l2: 0.00195028\tvalid_1's rmse: 0.0374471\tvalid_1's l2: 0.00140229\n",
      "[14]\tvalid_0's rmse: 0.0438031\tvalid_0's l2: 0.00191871\tvalid_1's rmse: 0.0372538\tvalid_1's l2: 0.00138784\n",
      "[15]\tvalid_0's rmse: 0.0436301\tvalid_0's l2: 0.00190358\tvalid_1's rmse: 0.037171\tvalid_1's l2: 0.00138168\n",
      "[16]\tvalid_0's rmse: 0.0434894\tvalid_0's l2: 0.00189133\tvalid_1's rmse: 0.0370534\tvalid_1's l2: 0.00137295\n",
      "[17]\tvalid_0's rmse: 0.0431314\tvalid_0's l2: 0.00186032\tvalid_1's rmse: 0.036768\tvalid_1's l2: 0.00135188\n",
      "[18]\tvalid_0's rmse: 0.0429614\tvalid_0's l2: 0.00184569\tvalid_1's rmse: 0.0365972\tvalid_1's l2: 0.00133935\n",
      "[19]\tvalid_0's rmse: 0.0428538\tvalid_0's l2: 0.00183645\tvalid_1's rmse: 0.0365138\tvalid_1's l2: 0.00133326\n",
      "[20]\tvalid_0's rmse: 0.0425592\tvalid_0's l2: 0.00181128\tvalid_1's rmse: 0.0362795\tvalid_1's l2: 0.00131621\n",
      "[21]\tvalid_0's rmse: 0.0424112\tvalid_0's l2: 0.00179871\tvalid_1's rmse: 0.0361269\tvalid_1's l2: 0.00130515\n",
      "[22]\tvalid_0's rmse: 0.0422611\tvalid_0's l2: 0.001786\tvalid_1's rmse: 0.0360551\tvalid_1's l2: 0.00129997\n",
      "[23]\tvalid_0's rmse: 0.0420652\tvalid_0's l2: 0.00176948\tvalid_1's rmse: 0.0359645\tvalid_1's l2: 0.00129345\n",
      "[24]\tvalid_0's rmse: 0.0420246\tvalid_0's l2: 0.00176607\tvalid_1's rmse: 0.035982\tvalid_1's l2: 0.00129471\n",
      "[25]\tvalid_0's rmse: 0.0418892\tvalid_0's l2: 0.0017547\tvalid_1's rmse: 0.0358692\tvalid_1's l2: 0.0012866\n",
      "[26]\tvalid_0's rmse: 0.0417567\tvalid_0's l2: 0.00174362\tvalid_1's rmse: 0.0358526\tvalid_1's l2: 0.00128541\n",
      "[27]\tvalid_0's rmse: 0.0416149\tvalid_0's l2: 0.0017318\tvalid_1's rmse: 0.0357217\tvalid_1's l2: 0.00127604\n",
      "[28]\tvalid_0's rmse: 0.0415011\tvalid_0's l2: 0.00172234\tvalid_1's rmse: 0.0356036\tvalid_1's l2: 0.00126762\n",
      "[29]\tvalid_0's rmse: 0.0413921\tvalid_0's l2: 0.00171331\tvalid_1's rmse: 0.0355189\tvalid_1's l2: 0.00126159\n",
      "[1]\tvalid_0's rmse: 0.0488608\tvalid_0's l2: 0.00238738\tvalid_1's rmse: 0.0416908\tvalid_1's l2: 0.00173812\n",
      "[2]\tvalid_0's rmse: 0.0481316\tvalid_0's l2: 0.00231665\tvalid_1's rmse: 0.0409437\tvalid_1's l2: 0.00167639\n",
      "[3]\tvalid_0's rmse: 0.0477089\tvalid_0's l2: 0.00227614\tvalid_1's rmse: 0.0405624\tvalid_1's l2: 0.00164531\n",
      "[4]\tvalid_0's rmse: 0.0471962\tvalid_0's l2: 0.00222748\tvalid_1's rmse: 0.0400665\tvalid_1's l2: 0.00160533\n",
      "[5]\tvalid_0's rmse: 0.0467826\tvalid_0's l2: 0.00218861\tvalid_1's rmse: 0.0397763\tvalid_1's l2: 0.00158215\n",
      "[6]\tvalid_0's rmse: 0.0463201\tvalid_0's l2: 0.00214555\tvalid_1's rmse: 0.0393654\tvalid_1's l2: 0.00154964\n",
      "[7]\tvalid_0's rmse: 0.0458688\tvalid_0's l2: 0.00210395\tvalid_1's rmse: 0.038901\tvalid_1's l2: 0.00151329\n",
      "[8]\tvalid_0's rmse: 0.0455006\tvalid_0's l2: 0.00207031\tvalid_1's rmse: 0.0386416\tvalid_1's l2: 0.00149317\n",
      "[9]\tvalid_0's rmse: 0.0451584\tvalid_0's l2: 0.00203928\tvalid_1's rmse: 0.0382545\tvalid_1's l2: 0.00146341\n",
      "[10]\tvalid_0's rmse: 0.0448144\tvalid_0's l2: 0.00200833\tvalid_1's rmse: 0.0379871\tvalid_1's l2: 0.00144302\n",
      "[11]\tvalid_0's rmse: 0.0445569\tvalid_0's l2: 0.00198532\tvalid_1's rmse: 0.0377246\tvalid_1's l2: 0.00142315\n",
      "[12]\tvalid_0's rmse: 0.0443855\tvalid_0's l2: 0.00197007\tvalid_1's rmse: 0.0376502\tvalid_1's l2: 0.00141753\n",
      "[13]\tvalid_0's rmse: 0.0441619\tvalid_0's l2: 0.00195028\tvalid_1's rmse: 0.0374471\tvalid_1's l2: 0.00140229\n",
      "[14]\tvalid_0's rmse: 0.0438031\tvalid_0's l2: 0.00191871\tvalid_1's rmse: 0.0372538\tvalid_1's l2: 0.00138784\n",
      "[15]\tvalid_0's rmse: 0.0436301\tvalid_0's l2: 0.00190358\tvalid_1's rmse: 0.037171\tvalid_1's l2: 0.00138168\n",
      "[16]\tvalid_0's rmse: 0.0434894\tvalid_0's l2: 0.00189133\tvalid_1's rmse: 0.0370534\tvalid_1's l2: 0.00137295\n",
      "[17]\tvalid_0's rmse: 0.0431314\tvalid_0's l2: 0.00186032\tvalid_1's rmse: 0.036768\tvalid_1's l2: 0.00135188\n",
      "[18]\tvalid_0's rmse: 0.0429614\tvalid_0's l2: 0.00184569\tvalid_1's rmse: 0.0365972\tvalid_1's l2: 0.00133935\n",
      "[19]\tvalid_0's rmse: 0.0428538\tvalid_0's l2: 0.00183645\tvalid_1's rmse: 0.0365138\tvalid_1's l2: 0.00133326\n",
      "[20]\tvalid_0's rmse: 0.0425592\tvalid_0's l2: 0.00181128\tvalid_1's rmse: 0.0362795\tvalid_1's l2: 0.00131621\n",
      "[21]\tvalid_0's rmse: 0.0424112\tvalid_0's l2: 0.00179871\tvalid_1's rmse: 0.0361269\tvalid_1's l2: 0.00130515\n",
      "[22]\tvalid_0's rmse: 0.0422611\tvalid_0's l2: 0.001786\tvalid_1's rmse: 0.0360551\tvalid_1's l2: 0.00129997\n",
      "[23]\tvalid_0's rmse: 0.0420652\tvalid_0's l2: 0.00176948\tvalid_1's rmse: 0.0359645\tvalid_1's l2: 0.00129345\n",
      "[24]\tvalid_0's rmse: 0.0420246\tvalid_0's l2: 0.00176607\tvalid_1's rmse: 0.035982\tvalid_1's l2: 0.00129471\n",
      "[25]\tvalid_0's rmse: 0.0418892\tvalid_0's l2: 0.0017547\tvalid_1's rmse: 0.0358692\tvalid_1's l2: 0.0012866\n",
      "[26]\tvalid_0's rmse: 0.0417567\tvalid_0's l2: 0.00174362\tvalid_1's rmse: 0.0358526\tvalid_1's l2: 0.00128541[1]\tvalid_0's rmse: 0.0491617\tvalid_0's l2: 0.00241687\tvalid_1's rmse: 0.0410027\tvalid_1's l2: 0.00168122\n",
      "[2]\tvalid_0's rmse: 0.0486316\tvalid_0's l2: 0.00236503\tvalid_1's rmse: 0.0406986\tvalid_1's l2: 0.00165638\n",
      "[3]\tvalid_0's rmse: 0.0482339\tvalid_0's l2: 0.0023265\tvalid_1's rmse: 0.0403724\tvalid_1's l2: 0.00162993\n",
      "[4]\tvalid_0's rmse: 0.0478524\tvalid_0's l2: 0.00228985\tvalid_1's rmse: 0.0400531\tvalid_1's l2: 0.00160425\n",
      "[5]\tvalid_0's rmse: 0.0475061\tvalid_0's l2: 0.00225683\tvalid_1's rmse: 0.0398699\tvalid_1's l2: 0.00158961\n",
      "[6]\tvalid_0's rmse: 0.0472592\tvalid_0's l2: 0.00223343\tvalid_1's rmse: 0.0396547\tvalid_1's l2: 0.00157249\n",
      "[7]\tvalid_0's rmse: 0.046776\tvalid_0's l2: 0.00218799\tvalid_1's rmse: 0.0391357\tvalid_1's l2: 0.0015316\n",
      "[8]\tvalid_0's rmse: 0.0465075\tvalid_0's l2: 0.00216295\tvalid_1's rmse: 0.0389261\tvalid_1's l2: 0.00151524\n",
      "[9]\tvalid_0's rmse: 0.046255\tvalid_0's l2: 0.00213952\tvalid_1's rmse: 0.0387754\tvalid_1's l2: 0.00150353\n",
      "[10]\tvalid_0's rmse: 0.0458407\tvalid_0's l2: 0.00210137\tvalid_1's rmse: 0.0383507\tvalid_1's l2: 0.00147078\n",
      "[11]\tvalid_0's rmse: 0.045579\tvalid_0's l2: 0.00207745\tvalid_1's rmse: 0.038261\tvalid_1's l2: 0.0014639\n",
      "[12]\tvalid_0's rmse: 0.0452728\tvalid_0's l2: 0.00204963\tvalid_1's rmse: 0.0379036\tvalid_1's l2: 0.00143669\n",
      "[13]\tvalid_0's rmse: 0.045066\tvalid_0's l2: 0.00203094\tvalid_1's rmse: 0.0377658\tvalid_1's l2: 0.00142626\n",
      "[14]\tvalid_0's rmse: 0.0446723\tvalid_0's l2: 0.00199562\tvalid_1's rmse: 0.0375164\tvalid_1's l2: 0.00140748\n",
      "[15]\tvalid_0's rmse: 0.0442829\tvalid_0's l2: 0.00196098\tvalid_1's rmse: 0.0371922\tvalid_1's l2: 0.00138326\n",
      "[16]\tvalid_0's rmse: 0.0441156\tvalid_0's l2: 0.00194619\tvalid_1's rmse: 0.0371524\tvalid_1's l2: 0.0013803\n",
      "[17]\tvalid_0's rmse: 0.0438019\tvalid_0's l2: 0.00191861\tvalid_1's rmse: 0.0369053\tvalid_1's l2: 0.001362\n",
      "[18]\tvalid_0's rmse: 0.04373\tvalid_0's l2: 0.00191231\tvalid_1's rmse: 0.0368646\tvalid_1's l2: 0.001359\n",
      "[19]\tvalid_0's rmse: 0.0434041\tvalid_0's l2: 0.00188392\tvalid_1's rmse: 0.0366815\tvalid_1's l2: 0.00134554\n",
      "[20]\tvalid_0's rmse: 0.0431436\tvalid_0's l2: 0.00186137\tvalid_1's rmse: 0.0364903\tvalid_1's l2: 0.00133154\n",
      "[21]\tvalid_0's rmse: 0.0429374\tvalid_0's l2: 0.00184362\tvalid_1's rmse: 0.0364158\tvalid_1's l2: 0.00132611\n",
      "[22]\tvalid_0's rmse: 0.0427022\tvalid_0's l2: 0.00182347\tvalid_1's rmse: 0.0361659\tvalid_1's l2: 0.00130797\n",
      "[23]\tvalid_0's rmse: 0.042572\tvalid_0's l2: 0.00181238\tvalid_1's rmse: 0.0360335\tvalid_1's l2: 0.00129841\n",
      "[1]\tvalid_0's rmse: 0.0491617\tvalid_0's l2: 0.00241687\tvalid_1's rmse: 0.0410027\tvalid_1's l2: 0.00168122\n",
      "[2]\tvalid_0's rmse: 0.0486316\tvalid_0's l2: 0.00236503\tvalid_1's rmse: 0.0406986\tvalid_1's l2: 0.00165638\n",
      "[3]\tvalid_0's rmse: 0.0482339\tvalid_0's l2: 0.0023265\tvalid_1's rmse: 0.0403724\tvalid_1's l2: 0.00162993\n",
      "[4]\tvalid_0's rmse: 0.0478524\tvalid_0's l2: 0.00228985\tvalid_1's rmse: 0.0400531\tvalid_1's l2: 0.00160425\n",
      "[5]\tvalid_0's rmse: 0.0475061\tvalid_0's l2: 0.00225683\tvalid_1's rmse: 0.0398699\tvalid_1's l2: 0.00158961\n",
      "[6]\tvalid_0's rmse: 0.0472592\tvalid_0's l2: 0.00223343\tvalid_1's rmse: 0.0396547\tvalid_1's l2: 0.00157249\n",
      "[7]\tvalid_0's rmse: 0.046776\tvalid_0's l2: 0.00218799\tvalid_1's rmse: 0.0391357\tvalid_1's l2: 0.0015316\n",
      "[8]\tvalid_0's rmse: 0.0465075\tvalid_0's l2: 0.00216295\tvalid_1's rmse: 0.0389261\tvalid_1's l2: 0.00151524\n",
      "[9]\tvalid_0's rmse: 0.046255\tvalid_0's l2: 0.00213952\tvalid_1's rmse: 0.0387754\tvalid_1's l2: 0.00150353\n",
      "[10]\tvalid_0's rmse: 0.0458407\tvalid_0's l2: 0.00210137\tvalid_1's rmse: 0.0383507\tvalid_1's l2: 0.00147078\n",
      "[11]\tvalid_0's rmse: 0.045579\tvalid_0's l2: 0.00207745\tvalid_1's rmse: 0.038261\tvalid_1's l2: 0.0014639\n",
      "[12]\tvalid_0's rmse: 0.0452728\tvalid_0's l2: 0.00204963\tvalid_1's rmse: 0.0379036\tvalid_1's l2: 0.00143669\n",
      "[13]\tvalid_0's rmse: 0.045066\tvalid_0's l2: 0.00203094\tvalid_1's rmse: 0.0377658\tvalid_1's l2: 0.00142626\n",
      "[14]\tvalid_0's rmse: 0.0446723\tvalid_0's l2: 0.00199562\tvalid_1's rmse: 0.0375164\tvalid_1's l2: 0.00140748\n",
      "[15]\tvalid_0's rmse: 0.0442829\tvalid_0's l2: 0.00196098\tvalid_1's rmse: 0.0371922\tvalid_1's l2: 0.00138326\n",
      "[16]\tvalid_0's rmse: 0.0441156\tvalid_0's l2: 0.00194619\tvalid_1's rmse: 0.0371524\tvalid_1's l2: 0.0013803\n",
      "[17]\tvalid_0's rmse: 0.0438019\tvalid_0's l2: 0.00191861\tvalid_1's rmse: 0.0369053\tvalid_1's l2: 0.001362\n",
      "[18]\tvalid_0's rmse: 0.04373\tvalid_0's l2: 0.00191231\tvalid_1's rmse: 0.0368646\tvalid_1's l2: 0.001359\n",
      "[19]\tvalid_0's rmse: 0.0434041\tvalid_0's l2: 0.00188392\tvalid_1's rmse: 0.0366815\tvalid_1's l2: 0.00134554\n",
      "[20]\tvalid_0's rmse: 0.0431436\tvalid_0's l2: 0.00186137\tvalid_1's rmse: 0.0364903\tvalid_1's l2: 0.00133154\n",
      "[21]\tvalid_0's rmse: 0.0429374\tvalid_0's l2: 0.00184362\tvalid_1's rmse: 0.0364158\tvalid_1's l2: 0.00132611\n",
      "[22]\tvalid_0's rmse: 0.0427022\tvalid_0's l2: 0.00182347\tvalid_1's rmse: 0.0361659\tvalid_1's l2: 0.00130797\n",
      "[23]\tvalid_0's rmse: 0.042572\tvalid_0's l2: 0.00181238\tvalid_1's rmse: 0.0360335\tvalid_1's l2: 0.00129841\n",
      "[24]\tvalid_0's rmse: 0.042353\tvalid_0's l2: 0.00179378\tvalid_1's rmse: 0.0358246\tvalid_1's l2: 0.0012834\n",
      "[25]\tvalid_0's rmse: 0.0421383\tvalid_0's l2: 0.00177563\tvalid_1's rmse: 0.0355693\tvalid_1's l2: 0.00126517\n",
      "[26]\tvalid_0's rmse: 0.0419908\tvalid_0's l2: 0.00176322\tvalid_1's rmse: 0.0355517\tvalid_1's l2: 0.00126392\n",
      "[27]\tvalid_0's rmse: 0.0417454\tvalid_0's l2: 0.00174268\tvalid_1's rmse: 0.0354634\tvalid_1's l2: 0.00125765\n",
      "[28]\tvalid_0's rmse: 0.0415323\tvalid_0's l2: 0.00172493\tvalid_1's rmse: 0.0353795\tvalid_1's l2: 0.00125171\n",
      "[29]\tvalid_0's rmse: 0.0414945\tvalid_0's l2: 0.0017218\tvalid_1's rmse: 0.0352896\tvalid_1's l2: 0.00124535\n",
      "[1]\tvalid_0's rmse: 0.0486713\tvalid_0's l2: 0.00236889\tvalid_1's rmse: 0.0412484\tvalid_1's l2: 0.00170143\n",
      "[2]\tvalid_0's rmse: 0.0478937\tvalid_0's l2: 0.00229381\tvalid_1's rmse: 0.0406285\tvalid_1's l2: 0.00165067\n",
      "[3]\tvalid_0's rmse: 0.0471681\tvalid_0's l2: 0.00222483\tvalid_1's rmse: 0.0398968\tvalid_1's l2: 0.00159175\n",
      "[4]\tvalid_0's rmse: 0.0464978\tvalid_0's l2: 0.00216204\tvalid_1's rmse: 0.0392551\tvalid_1's l2: 0.00154096\n",
      "[5]\tvalid_0's rmse: 0.0459137\tvalid_0's l2: 0.00210807\tvalid_1's rmse: 0.0387508\tvalid_1's l2: 0.00150163\n",
      "[6]\tvalid_0's rmse: 0.0454293\tvalid_0's l2: 0.00206382\tvalid_1's rmse: 0.0382799\tvalid_1's l2: 0.00146535\n",
      "[7]\tvalid_0's rmse: 0.0449804\tvalid_0's l2: 0.00202323\tvalid_1's rmse: 0.0378694\tvalid_1's l2: 0.00143409\n",
      "[8]\tvalid_0's rmse: 0.0445941\tvalid_0's l2: 0.00198863\tvalid_1's rmse: 0.0375339\tvalid_1's l2: 0.00140879\n",
      "[9]\tvalid_0's rmse: 0.0441331\tvalid_0's l2: 0.00194773\tvalid_1's rmse: 0.0371796\tvalid_1's l2: 0.00138232\n",
      "[10]\tvalid_0's rmse: 0.0437589\tvalid_0's l2: 0.00191484\tvalid_1's rmse: 0.0369005\tvalid_1's l2: 0.00136165\n",
      "[11]\tvalid_0's rmse: 0.04349\tvalid_0's l2: 0.00189138\tvalid_1's rmse: 0.0366616\tvalid_1's l2: 0.00134407\n",
      "[12]\tvalid_0's rmse: 0.0431614\tvalid_0's l2: 0.00186291\tvalid_1's rmse: 0.0365417\tvalid_1's l2: 0.00133529\n",
      "[13]\tvalid_0's rmse: 0.0429776\tvalid_0's l2: 0.00184707\tvalid_1's rmse: 0.0363868\tvalid_1's l2: 0.001324\n",
      "[14]\tvalid_0's rmse: 0.0427071\tvalid_0's l2: 0.0018239\tvalid_1's rmse: 0.0362124\tvalid_1's l2: 0.00131134\n",
      "[15]\tvalid_0's rmse: 0.0425481\tvalid_0's l2: 0.00181034\tvalid_1's rmse: 0.0361668\tvalid_1's l2: 0.00130804\n",
      "[16]\tvalid_0's rmse: 0.0423421\tvalid_0's l2: 0.00179286\tvalid_1's rmse: 0.0361503\tvalid_1's l2: 0.00130684\n",
      "[17]\tvalid_0's rmse: 0.0420339\tvalid_0's l2: 0.00176685\tvalid_1's rmse: 0.0361129\tvalid_1's l2: 0.00130414\n",
      "[18]\tvalid_0's rmse: 0.0419114\tvalid_0's l2: 0.00175656\tvalid_1's rmse: 0.0360252\tvalid_1's l2: 0.00129782\n",
      "[19]\tvalid_0's rmse: 0.041772\tvalid_0's l2: 0.0017449\tvalid_1's rmse: 0.0359097\tvalid_1's l2: 0.0012895\n",
      "[20]\tvalid_0's rmse: 0.0415481\tvalid_0's l2: 0.00172624\tvalid_1's rmse: 0.0356853\tvalid_1's l2: 0.00127344\n",
      "[21]\tvalid_0's rmse: 0.0413912\tvalid_0's l2: 0.00171323\tvalid_1's rmse: 0.0356706\tvalid_1's l2: 0.00127239\n",
      "[22]\tvalid_0's rmse: 0.0411801\tvalid_0's l2: 0.0016958\tvalid_1's rmse: 0.0355379\tvalid_1's l2: 0.00126294\n",
      "[23]\tvalid_0's rmse: 0.0410619\tvalid_0's l2: 0.00168608\tvalid_1's rmse: 0.0354726\tvalid_1's l2: 0.00125831\n",
      "[24]\tvalid_0's rmse: 0.0408979\tvalid_0's l2: 0.00167264\tvalid_1's rmse: 0.0353591\tvalid_1's l2: 0.00125027\n",
      "[25]\tvalid_0's rmse: 0.040659\tvalid_0's l2: 0.00165315\tvalid_1's rmse: 0.0352526\tvalid_1's l2: 0.00124274\n",
      "[26]\tvalid_0's rmse: 0.0404969\tvalid_0's l2: 0.00164\tvalid_1's rmse: 0.0350875\tvalid_1's l2: 0.00123113[1]\tvalid_0's rmse: 0.0486713\tvalid_0's l2: 0.00236889\tvalid_1's rmse: 0.0412484\tvalid_1's l2: 0.00170143\n",
      "[2]\tvalid_0's rmse: 0.0478937\tvalid_0's l2: 0.00229381\tvalid_1's rmse: 0.0406285\tvalid_1's l2: 0.00165067\n",
      "[3]\tvalid_0's rmse: 0.0471681\tvalid_0's l2: 0.00222483\tvalid_1's rmse: 0.0398968\tvalid_1's l2: 0.00159175\n",
      "[4]\tvalid_0's rmse: 0.0464978\tvalid_0's l2: 0.00216204\tvalid_1's rmse: 0.0392551\tvalid_1's l2: 0.00154096\n",
      "[5]\tvalid_0's rmse: 0.0459137\tvalid_0's l2: 0.00210807\tvalid_1's rmse: 0.0387508\tvalid_1's l2: 0.00150163\n",
      "[6]\tvalid_0's rmse: 0.0454293\tvalid_0's l2: 0.00206382\tvalid_1's rmse: 0.0382799\tvalid_1's l2: 0.00146535\n",
      "[7]\tvalid_0's rmse: 0.0449804\tvalid_0's l2: 0.00202323\tvalid_1's rmse: 0.0378694\tvalid_1's l2: 0.00143409\n",
      "[8]\tvalid_0's rmse: 0.0445941\tvalid_0's l2: 0.00198863\tvalid_1's rmse: 0.0375339\tvalid_1's l2: 0.00140879\n",
      "[9]\tvalid_0's rmse: 0.0441331\tvalid_0's l2: 0.00194773\tvalid_1's rmse: 0.0371796\tvalid_1's l2: 0.00138232\n",
      "[10]\tvalid_0's rmse: 0.0437589\tvalid_0's l2: 0.00191484\tvalid_1's rmse: 0.0369005\tvalid_1's l2: 0.00136165\n",
      "[11]\tvalid_0's rmse: 0.04349\tvalid_0's l2: 0.00189138\tvalid_1's rmse: 0.0366616\tvalid_1's l2: 0.00134407\n",
      "[12]\tvalid_0's rmse: 0.0431614\tvalid_0's l2: 0.00186291\tvalid_1's rmse: 0.0365417\tvalid_1's l2: 0.00133529\n",
      "[13]\tvalid_0's rmse: 0.0429776\tvalid_0's l2: 0.00184707\tvalid_1's rmse: 0.0363868\tvalid_1's l2: 0.001324\n",
      "[14]\tvalid_0's rmse: 0.0427071\tvalid_0's l2: 0.0018239\tvalid_1's rmse: 0.0362124\tvalid_1's l2: 0.00131134\n",
      "[15]\tvalid_0's rmse: 0.0425481\tvalid_0's l2: 0.00181034\tvalid_1's rmse: 0.0361668\tvalid_1's l2: 0.00130804\n",
      "[16]\tvalid_0's rmse: 0.0423421\tvalid_0's l2: 0.00179286\tvalid_1's rmse: 0.0361503\tvalid_1's l2: 0.00130684\n",
      "[17]\tvalid_0's rmse: 0.0420339\tvalid_0's l2: 0.00176685\tvalid_1's rmse: 0.0361129\tvalid_1's l2: 0.00130414\n",
      "[18]\tvalid_0's rmse: 0.0419114\tvalid_0's l2: 0.00175656\tvalid_1's rmse: 0.0360252\tvalid_1's l2: 0.00129782\n",
      "[19]\tvalid_0's rmse: 0.041772\tvalid_0's l2: 0.0017449\tvalid_1's rmse: 0.0359097\tvalid_1's l2: 0.0012895\n",
      "[20]\tvalid_0's rmse: 0.0415481\tvalid_0's l2: 0.00172624\tvalid_1's rmse: 0.0356853\tvalid_1's l2: 0.00127344\n",
      "[21]\tvalid_0's rmse: 0.0413912\tvalid_0's l2: 0.00171323\tvalid_1's rmse: 0.0356706\tvalid_1's l2: 0.00127239\n",
      "[22]\tvalid_0's rmse: 0.0411801\tvalid_0's l2: 0.0016958\tvalid_1's rmse: 0.0355379\tvalid_1's l2: 0.00126294\n",
      "[23]\tvalid_0's rmse: 0.0410619\tvalid_0's l2: 0.00168608\tvalid_1's rmse: 0.0354726\tvalid_1's l2: 0.00125831\n",
      "[1]\tvalid_0's rmse: 0.0486713\tvalid_0's l2: 0.00236889\tvalid_1's rmse: 0.0412484\tvalid_1's l2: 0.00170143\n",
      "[2]\tvalid_0's rmse: 0.0478937\tvalid_0's l2: 0.00229381\tvalid_1's rmse: 0.0406285\tvalid_1's l2: 0.00165067\n",
      "[3]\tvalid_0's rmse: 0.0471681\tvalid_0's l2: 0.00222483\tvalid_1's rmse: 0.0398968\tvalid_1's l2: 0.00159175\n",
      "[4]\tvalid_0's rmse: 0.0464978\tvalid_0's l2: 0.00216204\tvalid_1's rmse: 0.0392551\tvalid_1's l2: 0.00154096\n",
      "[5]\tvalid_0's rmse: 0.0459137\tvalid_0's l2: 0.00210807\tvalid_1's rmse: 0.0387508\tvalid_1's l2: 0.00150163\n",
      "[6]\tvalid_0's rmse: 0.0454293\tvalid_0's l2: 0.00206382\tvalid_1's rmse: 0.0382799\tvalid_1's l2: 0.00146535\n",
      "[7]\tvalid_0's rmse: 0.0449804\tvalid_0's l2: 0.00202323\tvalid_1's rmse: 0.0378694\tvalid_1's l2: 0.00143409\n",
      "[8]\tvalid_0's rmse: 0.0445941\tvalid_0's l2: 0.00198863\tvalid_1's rmse: 0.0375339\tvalid_1's l2: 0.00140879\n",
      "[9]\tvalid_0's rmse: 0.0441331\tvalid_0's l2: 0.00194773\tvalid_1's rmse: 0.0371796\tvalid_1's l2: 0.00138232\n",
      "[10]\tvalid_0's rmse: 0.0437589\tvalid_0's l2: 0.00191484\tvalid_1's rmse: 0.0369005\tvalid_1's l2: 0.00136165\n",
      "[11]\tvalid_0's rmse: 0.04349\tvalid_0's l2: 0.00189138\tvalid_1's rmse: 0.0366616\tvalid_1's l2: 0.00134407\n",
      "[12]\tvalid_0's rmse: 0.0431614\tvalid_0's l2: 0.00186291\tvalid_1's rmse: 0.0365417\tvalid_1's l2: 0.00133529\n",
      "[13]\tvalid_0's rmse: 0.0429776\tvalid_0's l2: 0.00184707\tvalid_1's rmse: 0.0363868\tvalid_1's l2: 0.001324\n",
      "[14]\tvalid_0's rmse: 0.0427071\tvalid_0's l2: 0.0018239\tvalid_1's rmse: 0.0362124\tvalid_1's l2: 0.00131134\n",
      "[15]\tvalid_0's rmse: 0.0425481\tvalid_0's l2: 0.00181034\tvalid_1's rmse: 0.0361668\tvalid_1's l2: 0.00130804\n",
      "[16]\tvalid_0's rmse: 0.0423421\tvalid_0's l2: 0.00179286\tvalid_1's rmse: 0.0361503\tvalid_1's l2: 0.00130684\n",
      "[17]\tvalid_0's rmse: 0.0420339\tvalid_0's l2: 0.00176685\tvalid_1's rmse: 0.0361129\tvalid_1's l2: 0.00130414\n",
      "[18]\tvalid_0's rmse: 0.0419114\tvalid_0's l2: 0.00175656\tvalid_1's rmse: 0.0360252\tvalid_1's l2: 0.00129782\n",
      "[19]\tvalid_0's rmse: 0.041772\tvalid_0's l2: 0.0017449\tvalid_1's rmse: 0.0359097\tvalid_1's l2: 0.0012895\n",
      "[20]\tvalid_0's rmse: 0.0415481\tvalid_0's l2: 0.00172624\tvalid_1's rmse: 0.0356853\tvalid_1's l2: 0.00127344\n",
      "[21]\tvalid_0's rmse: 0.0413912\tvalid_0's l2: 0.00171323\tvalid_1's rmse: 0.0356706\tvalid_1's l2: 0.00127239\n",
      "[22]\tvalid_0's rmse: 0.0411801\tvalid_0's l2: 0.0016958\tvalid_1's rmse: 0.0355379\tvalid_1's l2: 0.00126294\n",
      "[23]\tvalid_0's rmse: 0.0410619\tvalid_0's l2: 0.00168608\tvalid_1's rmse: 0.0354726\tvalid_1's l2: 0.00125831\n",
      "[24]\tvalid_0's rmse: 0.0408979\tvalid_0's l2: 0.00167264\tvalid_1's rmse: 0.0353591\tvalid_1's l2: 0.00125027\n",
      "[25]\tvalid_0's rmse: 0.040659\tvalid_0's l2: 0.00165315\tvalid_1's rmse: 0.0352526\tvalid_1's l2: 0.00124274\n",
      "[26]\tvalid_0's rmse: 0.0404969\tvalid_0's l2: 0.00164\tvalid_1's rmse: 0.0350875\tvalid_1's l2: 0.00123113\n",
      "[27]\tvalid_0's rmse: 0.0403673\tvalid_0's l2: 0.00162952\tvalid_1's rmse: 0.0349536\tvalid_1's l2: 0.00122176\n",
      "[28]\tvalid_0's rmse: 0.0402811\tvalid_0's l2: 0.00162256\tvalid_1's rmse: 0.0349548\tvalid_1's l2: 0.00122184\n",
      "[29]\tvalid_0's rmse: 0.0401456\tvalid_0's l2: 0.00161167\tvalid_1's rmse: 0.0348686\tvalid_1's l2: 0.00121582\n",
      "[1]\tvalid_0's rmse: 0.0489358\tvalid_0's l2: 0.00239471\tvalid_1's rmse: 0.0409003\tvalid_1's l2: 0.00167283\n",
      "[2]\tvalid_0's rmse: 0.0482008\tvalid_0's l2: 0.00232332\tvalid_1's rmse: 0.0404861\tvalid_1's l2: 0.00163912\n",
      "[3]\tvalid_0's rmse: 0.0475319\tvalid_0's l2: 0.00225928\tvalid_1's rmse: 0.0401217\tvalid_1's l2: 0.00160975\n",
      "[4]\tvalid_0's rmse: 0.0468758\tvalid_0's l2: 0.00219734\tvalid_1's rmse: 0.0396267\tvalid_1's l2: 0.00157028\n",
      "[5]\tvalid_0's rmse: 0.0463122\tvalid_0's l2: 0.00214482\tvalid_1's rmse: 0.0394053\tvalid_1's l2: 0.00155278\n",
      "[6]\tvalid_0's rmse: 0.0459034\tvalid_0's l2: 0.00210712\tvalid_1's rmse: 0.0391774\tvalid_1's l2: 0.00153487\n",
      "[7]\tvalid_0's rmse: 0.0453595\tvalid_0's l2: 0.00205748\tvalid_1's rmse: 0.03866\tvalid_1's l2: 0.00149459\n",
      "[8]\tvalid_0's rmse: 0.0449453\tvalid_0's l2: 0.00202008\tvalid_1's rmse: 0.038165\tvalid_1's l2: 0.00145657\n",
      "[9]\tvalid_0's rmse: 0.044457\tvalid_0's l2: 0.00197643\tvalid_1's rmse: 0.0379132\tvalid_1's l2: 0.00143741\n",
      "[10]\tvalid_0's rmse: 0.0440188\tvalid_0's l2: 0.00193766\tvalid_1's rmse: 0.0375279\tvalid_1's l2: 0.00140835\n",
      "[11]\tvalid_0's rmse: 0.0435701\tvalid_0's l2: 0.00189835\tvalid_1's rmse: 0.03739\tvalid_1's l2: 0.00139801\n",
      "[12]\tvalid_0's rmse: 0.0431907\tvalid_0's l2: 0.00186544\tvalid_1's rmse: 0.0371841\tvalid_1's l2: 0.00138266\n",
      "[13]\tvalid_0's rmse: 0.0428293\tvalid_0's l2: 0.00183435\tvalid_1's rmse: 0.0369241\tvalid_1's l2: 0.00136339\n",
      "[14]\tvalid_0's rmse: 0.0425426\tvalid_0's l2: 0.00180987\tvalid_1's rmse: 0.0366964\tvalid_1's l2: 0.00134663\n",
      "[15]\tvalid_0's rmse: 0.042077\tvalid_0's l2: 0.00177048\tvalid_1's rmse: 0.0364483\tvalid_1's l2: 0.00132848\n",
      "[16]\tvalid_0's rmse: 0.0415844\tvalid_0's l2: 0.00172926\tvalid_1's rmse: 0.0360389\tvalid_1's l2: 0.0012988\n",
      "[17]\tvalid_0's rmse: 0.0414055\tvalid_0's l2: 0.00171441\tvalid_1's rmse: 0.0358457\tvalid_1's l2: 0.00128491\n",
      "[18]\tvalid_0's rmse: 0.0410079\tvalid_0's l2: 0.00168165\tvalid_1's rmse: 0.035543\tvalid_1's l2: 0.00126331\n",
      "[19]\tvalid_0's rmse: 0.040717\tvalid_0's l2: 0.00165787\tvalid_1's rmse: 0.0355027\tvalid_1's l2: 0.00126044\n",
      "[20]\tvalid_0's rmse: 0.0403646\tvalid_0's l2: 0.0016293\tvalid_1's rmse: 0.0352595\tvalid_1's l2: 0.00124323\n",
      "[1]\tvalid_0's rmse: 0.0482671\tvalid_0's l2: 0.00232971\tvalid_1's rmse: 0.0409418\tvalid_1's l2: 0.00167623\n",
      "[2]\tvalid_0's rmse: 0.047143\tvalid_0's l2: 0.00222246\tvalid_1's rmse: 0.0399337\tvalid_1's l2: 0.0015947\n",
      "[3]\tvalid_0's rmse: 0.0462154\tvalid_0's l2: 0.00213587\tvalid_1's rmse: 0.0390963\tvalid_1's l2: 0.00152852\n",
      "[4]\tvalid_0's rmse: 0.0454522\tvalid_0's l2: 0.0020659\tvalid_1's rmse: 0.0384541\tvalid_1's l2: 0.00147872\n",
      "[5]\tvalid_0's rmse: 0.0448521\tvalid_0's l2: 0.00201171\tvalid_1's rmse: 0.0379616\tvalid_1's l2: 0.00144108\n",
      "[6]\tvalid_0's rmse: 0.044207\tvalid_0's l2: 0.00195426\tvalid_1's rmse: 0.0376234\tvalid_1's l2: 0.00141552\n",
      "[1]\tvalid_0's rmse: 0.0491617\tvalid_0's l2: 0.00241687\tvalid_1's rmse: 0.0410027\tvalid_1's l2: 0.00168122\n",
      "[2]\tvalid_0's rmse: 0.0486316\tvalid_0's l2: 0.00236503\tvalid_1's rmse: 0.0406986\tvalid_1's l2: 0.00165638\n",
      "[3]\tvalid_0's rmse: 0.0482339\tvalid_0's l2: 0.0023265\tvalid_1's rmse: 0.0403724\tvalid_1's l2: 0.00162993\n",
      "[4]\tvalid_0's rmse: 0.0478524\tvalid_0's l2: 0.00228985\tvalid_1's rmse: 0.0400531\tvalid_1's l2: 0.00160425\n",
      "[5]\tvalid_0's rmse: 0.0475061\tvalid_0's l2: 0.00225683\tvalid_1's rmse: 0.0398699\tvalid_1's l2: 0.00158961\n",
      "[6]\tvalid_0's rmse: 0.0472592\tvalid_0's l2: 0.00223343\tvalid_1's rmse: 0.0396547\tvalid_1's l2: 0.00157249\n",
      "[7]\tvalid_0's rmse: 0.046776\tvalid_0's l2: 0.00218799\tvalid_1's rmse: 0.0391357\tvalid_1's l2: 0.0015316\n",
      "[8]\tvalid_0's rmse: 0.0465075\tvalid_0's l2: 0.00216295\tvalid_1's rmse: 0.0389261\tvalid_1's l2: 0.00151524\n",
      "[9]\tvalid_0's rmse: 0.046255\tvalid_0's l2: 0.00213952\tvalid_1's rmse: 0.0387754\tvalid_1's l2: 0.00150353\n",
      "[10]\tvalid_0's rmse: 0.0458407\tvalid_0's l2: 0.00210137\tvalid_1's rmse: 0.0383507\tvalid_1's l2: 0.00147078\n",
      "[11]\tvalid_0's rmse: 0.045579\tvalid_0's l2: 0.00207745\tvalid_1's rmse: 0.038261\tvalid_1's l2: 0.0014639\n",
      "[12]\tvalid_0's rmse: 0.0452728\tvalid_0's l2: 0.00204963\tvalid_1's rmse: 0.0379036\tvalid_1's l2: 0.00143669\n",
      "[13]\tvalid_0's rmse: 0.045066\tvalid_0's l2: 0.00203094\tvalid_1's rmse: 0.0377658\tvalid_1's l2: 0.00142626\n",
      "[14]\tvalid_0's rmse: 0.0446723\tvalid_0's l2: 0.00199562\tvalid_1's rmse: 0.0375164\tvalid_1's l2: 0.00140748\n",
      "[15]\tvalid_0's rmse: 0.0442829\tvalid_0's l2: 0.00196098\tvalid_1's rmse: 0.0371922\tvalid_1's l2: 0.00138326\n",
      "[16]\tvalid_0's rmse: 0.0441156\tvalid_0's l2: 0.00194619\tvalid_1's rmse: 0.0371524\tvalid_1's l2: 0.0013803\n",
      "[17]\tvalid_0's rmse: 0.0438019\tvalid_0's l2: 0.00191861\tvalid_1's rmse: 0.0369053\tvalid_1's l2: 0.001362\n",
      "[18]\tvalid_0's rmse: 0.04373\tvalid_0's l2: 0.00191231\tvalid_1's rmse: 0.0368646\tvalid_1's l2: 0.001359\n",
      "[19]\tvalid_0's rmse: 0.0434041\tvalid_0's l2: 0.00188392\tvalid_1's rmse: 0.0366815\tvalid_1's l2: 0.00134554\n",
      "[20]\tvalid_0's rmse: 0.0431436\tvalid_0's l2: 0.00186137\tvalid_1's rmse: 0.0364903\tvalid_1's l2: 0.00133154\n",
      "[21]\tvalid_0's rmse: 0.0429374\tvalid_0's l2: 0.00184362\tvalid_1's rmse: 0.0364158\tvalid_1's l2: 0.00132611\n",
      "[22]\tvalid_0's rmse: 0.0427022\tvalid_0's l2: 0.00182347\tvalid_1's rmse: 0.0361659\tvalid_1's l2: 0.00130797\n",
      "[23]\tvalid_0's rmse: 0.042572\tvalid_0's l2: 0.00181238\tvalid_1's rmse: 0.0360335\tvalid_1's l2: 0.00129841\n",
      "[24]\tvalid_0's rmse: 0.042353\tvalid_0's l2: 0.00179378\tvalid_1's rmse: 0.0358246\tvalid_1's l2: 0.0012834\n",
      "[25]\tvalid_0's rmse: 0.0421383\tvalid_0's l2: 0.00177563\tvalid_1's rmse: 0.0355693\tvalid_1's l2: 0.00126517\n",
      "[26]\tvalid_0's rmse: 0.0419908\tvalid_0's l2: 0.00176322\tvalid_1's rmse: 0.0355517\tvalid_1's l2: 0.00126392\n",
      "[27]\tvalid_0's rmse: 0.0417454\tvalid_0's l2: 0.00174268\tvalid_1's rmse: 0.0354634\tvalid_1's l2: 0.00125765\n",
      "[28]\tvalid_0's rmse: 0.0415323\tvalid_0's l2: 0.00172493\tvalid_1's rmse: 0.0353795\tvalid_1's l2: 0.00125171\n",
      "[29]\tvalid_0's rmse: 0.0414945\tvalid_0's l2: 0.0017218\tvalid_1's rmse: 0.0352896\tvalid_1's l2: 0.00124535\n",
      "[30]\tvalid_0's rmse: 0.0413887\tvalid_0's l2: 0.00171302\tvalid_1's rmse: 0.0351427\tvalid_1's l2: 0.00123501\n",
      "[31]\tvalid_0's rmse: 0.0412441\tvalid_0's l2: 0.00170107\tvalid_1's rmse: 0.0350517\tvalid_1's l2: 0.00122862\n",
      "[32]\tvalid_0's rmse: 0.0410921\tvalid_0's l2: 0.00168856\tvalid_1's rmse: 0.0349464\tvalid_1's l2: 0.00122125\n",
      "[1]\tvalid_0's rmse: 0.04867\tvalid_0's l2: 0.00236877\tvalid_1's rmse: 0.0415434\tvalid_1's l2: 0.00172585\n",
      "[2]\tvalid_0's rmse: 0.0477685\tvalid_0's l2: 0.00228183\tvalid_1's rmse: 0.0406023\tvalid_1's l2: 0.00164855\n",
      "[3]\tvalid_0's rmse: 0.0468981\tvalid_0's l2: 0.00219944\tvalid_1's rmse: 0.0398151\tvalid_1's l2: 0.00158524\n",
      "[4]\tvalid_0's rmse: 0.0461823\tvalid_0's l2: 0.00213281\tvalid_1's rmse: 0.0391243\tvalid_1's l2: 0.00153071\n",
      "[5]\tvalid_0's rmse: 0.0456483\tvalid_0's l2: 0.00208377\tvalid_1's rmse: 0.038774\tvalid_1's l2: 0.00150342\n",
      "[6]\tvalid_0's rmse: 0.0451286\tvalid_0's l2: 0.00203659\tvalid_1's rmse: 0.0384563\tvalid_1's l2: 0.00147889\n",
      "[7]\tvalid_0's rmse: 0.044499\tvalid_0's l2: 0.00198016\tvalid_1's rmse: 0.0381587\tvalid_1's l2: 0.00145608\n",
      "[8]\tvalid_0's rmse: 0.0440153\tvalid_0's l2: 0.00193735\tvalid_1's rmse: 0.037894\tvalid_1's l2: 0.00143596\n",
      "[9]\tvalid_0's rmse: 0.0438446\tvalid_0's l2: 0.00192235\tvalid_1's rmse: 0.0376885\tvalid_1's l2: 0.00142042\n",
      "[10]\tvalid_0's rmse: 0.0433402\tvalid_0's l2: 0.00187838\tvalid_1's rmse: 0.0373162\tvalid_1's l2: 0.0013925\n",
      "[11]\tvalid_0's rmse: 0.0430527\tvalid_0's l2: 0.00185354\tvalid_1's rmse: 0.037078\tvalid_1's l2: 0.00137478\n",
      "[12]\tvalid_0's rmse: 0.0426787\tvalid_0's l2: 0.00182147\tvalid_1's rmse: 0.0368135\tvalid_1's l2: 0.00135524\n",
      "[13]\tvalid_0's rmse: 0.0424319\tvalid_0's l2: 0.00180046\tvalid_1's rmse: 0.0366481\tvalid_1's l2: 0.00134308\n",
      "[14]\tvalid_0's rmse: 0.0421585\tvalid_0's l2: 0.00177734\tvalid_1's rmse: 0.0364629\tvalid_1's l2: 0.00132954\n",
      "[15]\tvalid_0's rmse: 0.0418803\tvalid_0's l2: 0.00175396\tvalid_1's rmse: 0.0361925\tvalid_1's l2: 0.0013099\n",
      "[16]\tvalid_0's rmse: 0.0417128\tvalid_0's l2: 0.00173996\tvalid_1's rmse: 0.0360683\tvalid_1's l2: 0.00130093\n",
      "[17]\tvalid_0's rmse: 0.0414975\tvalid_0's l2: 0.00172204\tvalid_1's rmse: 0.0359992\tvalid_1's l2: 0.00129595\n",
      "[18]\tvalid_0's rmse: 0.0412722\tvalid_0's l2: 0.0017034\tvalid_1's rmse: 0.0357952\tvalid_1's l2: 0.0012813\n",
      "[19]\tvalid_0's rmse: 0.0411186\tvalid_0's l2: 0.00169074\tvalid_1's rmse: 0.035641\tvalid_1's l2: 0.00127028\n",
      "[20]\tvalid_0's rmse: 0.0409782\tvalid_0's l2: 0.00167922\tvalid_1's rmse: 0.0355579\tvalid_1's l2: 0.00126437\n",
      "[21]\tvalid_0's rmse: 0.0408503\tvalid_0's l2: 0.00166874\tvalid_1's rmse: 0.035502\tvalid_1's l2: 0.00126039\n",
      "[22]\tvalid_0's rmse: 0.04068\tvalid_0's l2: 0.00165487\tvalid_1's rmse: 0.0353562\tvalid_1's l2: 0.00125006\n",
      "[23]\tvalid_0's rmse: 0.0405485\tvalid_0's l2: 0.00164418\tvalid_1's rmse: 0.0353134\tvalid_1's l2: 0.00124704\n",
      "[1]\tvalid_0's rmse: 0.0489358\tvalid_0's l2: 0.00239471\tvalid_1's rmse: 0.0409003\tvalid_1's l2: 0.00167283\n",
      "[2]\tvalid_0's rmse: 0.0482008\tvalid_0's l2: 0.00232332\tvalid_1's rmse: 0.0404861\tvalid_1's l2: 0.00163912\n",
      "[3]\tvalid_0's rmse: 0.0475319\tvalid_0's l2: 0.00225928\tvalid_1's rmse: 0.0401217\tvalid_1's l2: 0.00160975\n",
      "[4]\tvalid_0's rmse: 0.0468758\tvalid_0's l2: 0.00219734\tvalid_1's rmse: 0.0396267\tvalid_1's l2: 0.00157028\n",
      "[5]\tvalid_0's rmse: 0.0463122\tvalid_0's l2: 0.00214482\tvalid_1's rmse: 0.0394053\tvalid_1's l2: 0.00155278\n",
      "[6]\tvalid_0's rmse: 0.0459034\tvalid_0's l2: 0.00210712\tvalid_1's rmse: 0.0391774\tvalid_1's l2: 0.00153487\n",
      "[7]\tvalid_0's rmse: 0.0453595\tvalid_0's l2: 0.00205748\tvalid_1's rmse: 0.03866\tvalid_1's l2: 0.00149459\n",
      "[8]\tvalid_0's rmse: 0.0449453\tvalid_0's l2: 0.00202008\tvalid_1's rmse: 0.038165\tvalid_1's l2: 0.00145657\n",
      "[9]\tvalid_0's rmse: 0.044457\tvalid_0's l2: 0.00197643\tvalid_1's rmse: 0.0379132\tvalid_1's l2: 0.00143741\n",
      "[10]\tvalid_0's rmse: 0.0440188\tvalid_0's l2: 0.00193766\tvalid_1's rmse: 0.0375279\tvalid_1's l2: 0.00140835\n",
      "[11]\tvalid_0's rmse: 0.0435701\tvalid_0's l2: 0.00189835\tvalid_1's rmse: 0.03739\tvalid_1's l2: 0.00139801\n",
      "[12]\tvalid_0's rmse: 0.0431907\tvalid_0's l2: 0.00186544\tvalid_1's rmse: 0.0371841\tvalid_1's l2: 0.00138266\n",
      "[13]\tvalid_0's rmse: 0.0428293\tvalid_0's l2: 0.00183435\tvalid_1's rmse: 0.0369241\tvalid_1's l2: 0.00136339\n",
      "[14]\tvalid_0's rmse: 0.0425426\tvalid_0's l2: 0.00180987\tvalid_1's rmse: 0.0366964\tvalid_1's l2: 0.00134663\n",
      "[15]\tvalid_0's rmse: 0.042077\tvalid_0's l2: 0.00177048\tvalid_1's rmse: 0.0364483\tvalid_1's l2: 0.00132848\n",
      "[16]\tvalid_0's rmse: 0.0415844\tvalid_0's l2: 0.00172926\tvalid_1's rmse: 0.0360389\tvalid_1's l2: 0.0012988\n",
      "[17]\tvalid_0's rmse: 0.0414055\tvalid_0's l2: 0.00171441\tvalid_1's rmse: 0.0358457\tvalid_1's l2: 0.00128491\n",
      "[18]\tvalid_0's rmse: 0.0410079\tvalid_0's l2: 0.00168165\tvalid_1's rmse: 0.035543\tvalid_1's l2: 0.00126331\n",
      "[19]\tvalid_0's rmse: 0.040717\tvalid_0's l2: 0.00165787\tvalid_1's rmse: 0.0355027\tvalid_1's l2: 0.00126044\n",
      "[20]\tvalid_0's rmse: 0.0403646\tvalid_0's l2: 0.0016293\tvalid_1's rmse: 0.0352595\tvalid_1's l2: 0.00124323\n",
      "[21]\tvalid_0's rmse: 0.040001\tvalid_0's l2: 0.00160008\tvalid_1's rmse: 0.0350008\tvalid_1's l2: 0.00122505\n",
      "[22]\tvalid_0's rmse: 0.0396612\tvalid_0's l2: 0.00157301\tvalid_1's rmse: 0.0347448\tvalid_1's l2: 0.0012072\n",
      "[23]\tvalid_0's rmse: 0.0392259\tvalid_0's l2: 0.00153867\tvalid_1's rmse: 0.0345691\tvalid_1's l2: 0.00119503\n",
      "[1]\tvalid_0's rmse: 0.0488608\tvalid_0's l2: 0.00238738\tvalid_1's rmse: 0.0416908\tvalid_1's l2: 0.00173812\n",
      "[2]\tvalid_0's rmse: 0.0481316\tvalid_0's l2: 0.00231665\tvalid_1's rmse: 0.0409437\tvalid_1's l2: 0.00167639\n",
      "[3]\tvalid_0's rmse: 0.0477089\tvalid_0's l2: 0.00227614\tvalid_1's rmse: 0.0405624\tvalid_1's l2: 0.00164531\n",
      "[4]\tvalid_0's rmse: 0.0471962\tvalid_0's l2: 0.00222748\tvalid_1's rmse: 0.0400665\tvalid_1's l2: 0.00160533\n",
      "[5]\tvalid_0's rmse: 0.0467826\tvalid_0's l2: 0.00218861\tvalid_1's rmse: 0.0397763\tvalid_1's l2: 0.00158215\n",
      "[6]\tvalid_0's rmse: 0.0463201\tvalid_0's l2: 0.00214555\tvalid_1's rmse: 0.0393654\tvalid_1's l2: 0.00154964\n",
      "[7]\tvalid_0's rmse: 0.0458688\tvalid_0's l2: 0.00210395\tvalid_1's rmse: 0.038901\tvalid_1's l2: 0.00151329\n",
      "[8]\tvalid_0's rmse: 0.0455006\tvalid_0's l2: 0.00207031\tvalid_1's rmse: 0.0386416\tvalid_1's l2: 0.00149317\n",
      "[9]\tvalid_0's rmse: 0.0451584\tvalid_0's l2: 0.00203928\tvalid_1's rmse: 0.0382545\tvalid_1's l2: 0.00146341\n",
      "[10]\tvalid_0's rmse: 0.0448144\tvalid_0's l2: 0.00200833\tvalid_1's rmse: 0.0379871\tvalid_1's l2: 0.00144302\n",
      "[11]\tvalid_0's rmse: 0.0445569\tvalid_0's l2: 0.00198532\tvalid_1's rmse: 0.0377246\tvalid_1's l2: 0.00142315\n",
      "[12]\tvalid_0's rmse: 0.0443855\tvalid_0's l2: 0.00197007\tvalid_1's rmse: 0.0376502\tvalid_1's l2: 0.00141753\n",
      "[13]\tvalid_0's rmse: 0.0441619\tvalid_0's l2: 0.00195028\tvalid_1's rmse: 0.0374471\tvalid_1's l2: 0.00140229\n",
      "[14]\tvalid_0's rmse: 0.0438031\tvalid_0's l2: 0.00191871\tvalid_1's rmse: 0.0372538\tvalid_1's l2: 0.00138784\n",
      "[15]\tvalid_0's rmse: 0.0436301\tvalid_0's l2: 0.00190358\tvalid_1's rmse: 0.037171\tvalid_1's l2: 0.00138168\n",
      "[16]\tvalid_0's rmse: 0.0434894\tvalid_0's l2: 0.00189133\tvalid_1's rmse: 0.0370534\tvalid_1's l2: 0.00137295\n",
      "[17]\tvalid_0's rmse: 0.0431314\tvalid_0's l2: 0.00186032\tvalid_1's rmse: 0.036768\tvalid_1's l2: 0.00135188\n",
      "[18]\tvalid_0's rmse: 0.0429614\tvalid_0's l2: 0.00184569\tvalid_1's rmse: 0.0365972\tvalid_1's l2: 0.00133935\n",
      "[19]\tvalid_0's rmse: 0.0428538\tvalid_0's l2: 0.00183645\tvalid_1's rmse: 0.0365138\tvalid_1's l2: 0.00133326\n",
      "[20]\tvalid_0's rmse: 0.0425592\tvalid_0's l2: 0.00181128\tvalid_1's rmse: 0.0362795\tvalid_1's l2: 0.00131621\n",
      "[21]\tvalid_0's rmse: 0.0424112\tvalid_0's l2: 0.00179871\tvalid_1's rmse: 0.0361269\tvalid_1's l2: 0.00130515\n",
      "[22]\tvalid_0's rmse: 0.0422611\tvalid_0's l2: 0.001786\tvalid_1's rmse: 0.0360551\tvalid_1's l2: 0.00129997\n",
      "[23]\tvalid_0's rmse: 0.0420652\tvalid_0's l2: 0.00176948\tvalid_1's rmse: 0.0359645\tvalid_1's l2: 0.00129345\n",
      "[24]\tvalid_0's rmse: 0.0420246\tvalid_0's l2: 0.00176607\tvalid_1's rmse: 0.035982\tvalid_1's l2: 0.00129471\n",
      "[25]\tvalid_0's rmse: 0.0418892\tvalid_0's l2: 0.0017547\tvalid_1's rmse: 0.0358692\tvalid_1's l2: 0.0012866\n",
      "[26]\tvalid_0's rmse: 0.0417567\tvalid_0's l2: 0.00174362\tvalid_1's rmse: 0.0358526\tvalid_1's l2: 0.00128541\n",
      "[27]\tvalid_0's rmse: 0.0416149\tvalid_0's l2: 0.0017318\tvalid_1's rmse: 0.0357217\tvalid_1's l2: 0.00127604\n",
      "[28]\tvalid_0's rmse: 0.0415011\tvalid_0's l2: 0.00172234\tvalid_1's rmse: 0.0356036\tvalid_1's l2: 0.00126762\n",
      "[29]\tvalid_0's rmse: 0.0413921\tvalid_0's l2: 0.00171331\tvalid_1's rmse: 0.0355189\tvalid_1's l2: 0.00126159\n",
      "[30]\tvalid_0's rmse: 0.0412889\tvalid_0's l2: 0.00170477\tvalid_1's rmse: 0.0354209\tvalid_1's l2: 0.00125464\n",
      "[31]\tvalid_0's rmse: 0.041202\tvalid_0's l2: 0.0016976\tvalid_1's rmse: 0.0353955\tvalid_1's l2: 0.00125284\n",
      "[32]\tvalid_0's rmse: 0.0411021\tvalid_0's l2: 0.00168938\tvalid_1's rmse: 0.0353938\tvalid_1's l2: 0.00125272\n",
      "[33]\tvalid_0's rmse: 0.0410737\tvalid_0's l2: 0.00168704\tvalid_1's rmse: 0.0354369\tvalid_1's l2: 0.00125577\n",
      "[34]\tvalid_0's rmse: 0.0409873\tvalid_0's l2: 0.00167995\tvalid_1's rmse: 0.035378\tvalid_1's l2: 0.00125161\n",
      "[35]\tvalid_0's rmse: 0.0409001\tvalid_0's l2: 0.00167282\tvalid_1's rmse: 0.0352875\tvalid_1's l2: 0.0012452\n",
      "[1]\tvalid_0's rmse: 0.0482671\tvalid_0's l2: 0.00232971\tvalid_1's rmse: 0.0409418\tvalid_1's l2: 0.00167623\n",
      "[2]\tvalid_0's rmse: 0.047143\tvalid_0's l2: 0.00222246\tvalid_1's rmse: 0.0399337\tvalid_1's l2: 0.0015947\n",
      "[3]\tvalid_0's rmse: 0.0462154\tvalid_0's l2: 0.00213587\tvalid_1's rmse: 0.0390963\tvalid_1's l2: 0.00152852\n",
      "[4]\tvalid_0's rmse: 0.0454522\tvalid_0's l2: 0.0020659\tvalid_1's rmse: 0.0384541\tvalid_1's l2: 0.00147872\n",
      "[5]\tvalid_0's rmse: 0.0448521\tvalid_0's l2: 0.00201171\tvalid_1's rmse: 0.0379616\tvalid_1's l2: 0.00144108\n",
      "[6]\tvalid_0's rmse: 0.044207\tvalid_0's l2: 0.00195426\tvalid_1's rmse: 0.0376234\tvalid_1's l2: 0.00141552\n",
      "[7]\tvalid_0's rmse: 0.0437472\tvalid_0's l2: 0.00191382\tvalid_1's rmse: 0.0372432\tvalid_1's l2: 0.00138705\n",
      "[8]\tvalid_0's rmse: 0.0433888\tvalid_0's l2: 0.00188259\tvalid_1's rmse: 0.03705\tvalid_1's l2: 0.0013727\n",
      "[9]\tvalid_0's rmse: 0.042955\tvalid_0's l2: 0.00184513\tvalid_1's rmse: 0.0368201\tvalid_1's l2: 0.00135572\n",
      "[10]\tvalid_0's rmse: 0.0425741\tvalid_0's l2: 0.00181255\tvalid_1's rmse: 0.0365884\tvalid_1's l2: 0.00133871\n",
      "[11]\tvalid_0's rmse: 0.0420529\tvalid_0's l2: 0.00176844\tvalid_1's rmse: 0.0364868\tvalid_1's l2: 0.00133128\n",
      "[12]\tvalid_0's rmse: 0.0418539\tvalid_0's l2: 0.00175175\tvalid_1's rmse: 0.0363661\tvalid_1's l2: 0.00132249\n",
      "[13]\tvalid_0's rmse: 0.0414056\tvalid_0's l2: 0.00171442\tvalid_1's rmse: 0.0363158\tvalid_1's l2: 0.00131884\n",
      "[14]\tvalid_0's rmse: 0.0411921\tvalid_0's l2: 0.00169679\tvalid_1's rmse: 0.0361921\tvalid_1's l2: 0.00130986\n",
      "[15]\tvalid_0's rmse: 0.0407669\tvalid_0's l2: 0.00166194\tvalid_1's rmse: 0.0361013\tvalid_1's l2: 0.0013033\n",
      "[16]\tvalid_0's rmse: 0.0403203\tvalid_0's l2: 0.00162573\tvalid_1's rmse: 0.0359146\tvalid_1's l2: 0.00128986\n",
      "[17]\tvalid_0's rmse: 0.0401606\tvalid_0's l2: 0.00161287\tvalid_1's rmse: 0.0357938\tvalid_1's l2: 0.0012812\n",
      "[18]\tvalid_0's rmse: 0.0398688\tvalid_0's l2: 0.00158952\tvalid_1's rmse: 0.0358064\tvalid_1's l2: 0.0012821\n",
      "[19]\tvalid_0's rmse: 0.0396071\tvalid_0's l2: 0.00156872\tvalid_1's rmse: 0.0355378\tvalid_1's l2: 0.00126294\n",
      "[20]\tvalid_0's rmse: 0.0393291\tvalid_0's l2: 0.00154678\tvalid_1's rmse: 0.0354537\tvalid_1's l2: 0.00125696\n",
      "[21]\tvalid_0's rmse: 0.0390956\tvalid_0's l2: 0.00152847\tvalid_1's rmse: 0.0354511\tvalid_1's l2: 0.00125678\n",
      "[22]\tvalid_0's rmse: 0.0389671\tvalid_0's l2: 0.00151843\tvalid_1's rmse: 0.0353656\tvalid_1's l2: 0.00125073\n",
      "[23]\tvalid_0's rmse: 0.0386787\tvalid_0's l2: 0.00149604\tvalid_1's rmse: 0.0352894\tvalid_1's l2: 0.00124534\n",
      "[1]\tvalid_0's rmse: 0.04867\tvalid_0's l2: 0.00236877\tvalid_1's rmse: 0.0415434\tvalid_1's l2: 0.00172585\n",
      "[2]\tvalid_0's rmse: 0.0477685\tvalid_0's l2: 0.00228183\tvalid_1's rmse: 0.0406023\tvalid_1's l2: 0.00164855\n",
      "[3]\tvalid_0's rmse: 0.0468981\tvalid_0's l2: 0.00219944\tvalid_1's rmse: 0.0398151\tvalid_1's l2: 0.00158524\n",
      "[4]\tvalid_0's rmse: 0.0461823\tvalid_0's l2: 0.00213281\tvalid_1's rmse: 0.0391243\tvalid_1's l2: 0.00153071\n",
      "[5]\tvalid_0's rmse: 0.0456483\tvalid_0's l2: 0.00208377\tvalid_1's rmse: 0.038774\tvalid_1's l2: 0.00150342\n",
      "[6]\tvalid_0's rmse: 0.0451286\tvalid_0's l2: 0.00203659\tvalid_1's rmse: 0.0384563\tvalid_1's l2: 0.00147889\n",
      "[7]\tvalid_0's rmse: 0.044499\tvalid_0's l2: 0.00198016\tvalid_1's rmse: 0.0381587\tvalid_1's l2: 0.00145608\n",
      "[8]\tvalid_0's rmse: 0.0440153\tvalid_0's l2: 0.00193735\tvalid_1's rmse: 0.037894\tvalid_1's l2: 0.00143596\n",
      "[9]\tvalid_0's rmse: 0.0438446\tvalid_0's l2: 0.00192235\tvalid_1's rmse: 0.0376885\tvalid_1's l2: 0.00142042\n",
      "[10]\tvalid_0's rmse: 0.0433402\tvalid_0's l2: 0.00187838\tvalid_1's rmse: 0.0373162\tvalid_1's l2: 0.0013925\n",
      "[11]\tvalid_0's rmse: 0.0430527\tvalid_0's l2: 0.00185354\tvalid_1's rmse: 0.037078\tvalid_1's l2: 0.00137478\n",
      "[12]\tvalid_0's rmse: 0.0426787\tvalid_0's l2: 0.00182147\tvalid_1's rmse: 0.0368135\tvalid_1's l2: 0.00135524\n",
      "[13]\tvalid_0's rmse: 0.0424319\tvalid_0's l2: 0.00180046\tvalid_1's rmse: 0.0366481\tvalid_1's l2: 0.00134308\n",
      "[14]\tvalid_0's rmse: 0.0421585\tvalid_0's l2: 0.00177734\tvalid_1's rmse: 0.0364629\tvalid_1's l2: 0.00132954\n",
      "[15]\tvalid_0's rmse: 0.0418803\tvalid_0's l2: 0.00175396\tvalid_1's rmse: 0.0361925\tvalid_1's l2: 0.0013099\n",
      "[16]\tvalid_0's rmse: 0.0417128\tvalid_0's l2: 0.00173996\tvalid_1's rmse: 0.0360683\tvalid_1's l2: 0.00130093\n",
      "[17]\tvalid_0's rmse: 0.0414975\tvalid_0's l2: 0.00172204\tvalid_1's rmse: 0.0359992\tvalid_1's l2: 0.00129595\n",
      "[18]\tvalid_0's rmse: 0.0412722\tvalid_0's l2: 0.0017034\tvalid_1's rmse: 0.0357952\tvalid_1's l2: 0.0012813\n",
      "[19]\tvalid_0's rmse: 0.0411186\tvalid_0's l2: 0.00169074\tvalid_1's rmse: 0.035641\tvalid_1's l2: 0.00127028\n",
      "[20]\tvalid_0's rmse: 0.0409782\tvalid_0's l2: 0.00167922\tvalid_1's rmse: 0.0355579\tvalid_1's l2: 0.00126437\n",
      "[27]\tvalid_0's rmse: 0.0416149\tvalid_0's l2: 0.0017318\tvalid_1's rmse: 0.0357217\tvalid_1's l2: 0.00127604\n",
      "[28]\tvalid_0's rmse: 0.0415011\tvalid_0's l2: 0.00172234\tvalid_1's rmse: 0.0356036\tvalid_1's l2: 0.00126762\n",
      "[29]\tvalid_0's rmse: 0.0413921\tvalid_0's l2: 0.00171331\tvalid_1's rmse: 0.0355189\tvalid_1's l2: 0.00126159\n",
      "[30]\tvalid_0's rmse: 0.0412889\tvalid_0's l2: 0.00170477\tvalid_1's rmse: 0.0354209\tvalid_1's l2: 0.00125464\n",
      "[31]\tvalid_0's rmse: 0.041202\tvalid_0's l2: 0.0016976\tvalid_1's rmse: 0.0353955\tvalid_1's l2: 0.00125284\n",
      "[32]\tvalid_0's rmse: 0.0411021\tvalid_0's l2: 0.00168938\tvalid_1's rmse: 0.0353938\tvalid_1's l2: 0.00125272\n",
      "[33]\tvalid_0's rmse: 0.0410737\tvalid_0's l2: 0.00168704\tvalid_1's rmse: 0.0354369\tvalid_1's l2: 0.00125577\n",
      "[34]\tvalid_0's rmse: 0.0409873\tvalid_0's l2: 0.00167995\tvalid_1's rmse: 0.035378\tvalid_1's l2: 0.00125161\n",
      "[35]\tvalid_0's rmse: 0.0409001\tvalid_0's l2: 0.00167282\tvalid_1's rmse: 0.0352875\tvalid_1's l2: 0.0012452\n",
      "[36]\tvalid_0's rmse: 0.0410404\tvalid_0's l2: 0.00168431\tvalid_1's rmse: 0.0354238\tvalid_1's l2: 0.00125485\n",
      "[37]\tvalid_0's rmse: 0.0410027\tvalid_0's l2: 0.00168122\tvalid_1's rmse: 0.0354006\tvalid_1's l2: 0.0012532\n",
      "[38]\tvalid_0's rmse: 0.0409248\tvalid_0's l2: 0.00167484\tvalid_1's rmse: 0.0353358\tvalid_1's l2: 0.00124862\n",
      "[1]\tvalid_0's rmse: 0.0491617\tvalid_0's l2: 0.00241687\tvalid_1's rmse: 0.0410027\tvalid_1's l2: 0.00168122\n",
      "[2]\tvalid_0's rmse: 0.0486316\tvalid_0's l2: 0.00236503\tvalid_1's rmse: 0.0406986\tvalid_1's l2: 0.00165638\n",
      "[3]\tvalid_0's rmse: 0.0482339\tvalid_0's l2: 0.0023265\tvalid_1's rmse: 0.0403724\tvalid_1's l2: 0.00162993\n",
      "[4]\tvalid_0's rmse: 0.0478524\tvalid_0's l2: 0.00228985\tvalid_1's rmse: 0.0400531\tvalid_1's l2: 0.00160425\n",
      "[5]\tvalid_0's rmse: 0.0475061\tvalid_0's l2: 0.00225683\tvalid_1's rmse: 0.0398699\tvalid_1's l2: 0.00158961\n",
      "[6]\tvalid_0's rmse: 0.0472592\tvalid_0's l2: 0.00223343\tvalid_1's rmse: 0.0396547\tvalid_1's l2: 0.00157249\n",
      "[7]\tvalid_0's rmse: 0.046776\tvalid_0's l2: 0.00218799\tvalid_1's rmse: 0.0391357\tvalid_1's l2: 0.0015316\n",
      "[8]\tvalid_0's rmse: 0.0465075\tvalid_0's l2: 0.00216295\tvalid_1's rmse: 0.0389261\tvalid_1's l2: 0.00151524\n",
      "[9]\tvalid_0's rmse: 0.046255\tvalid_0's l2: 0.00213952\tvalid_1's rmse: 0.0387754\tvalid_1's l2: 0.00150353\n",
      "[10]\tvalid_0's rmse: 0.0458407\tvalid_0's l2: 0.00210137\tvalid_1's rmse: 0.0383507\tvalid_1's l2: 0.00147078\n",
      "[11]\tvalid_0's rmse: 0.045579\tvalid_0's l2: 0.00207745\tvalid_1's rmse: 0.038261\tvalid_1's l2: 0.0014639\n",
      "[12]\tvalid_0's rmse: 0.0452728\tvalid_0's l2: 0.00204963\tvalid_1's rmse: 0.0379036\tvalid_1's l2: 0.00143669\n",
      "[13]\tvalid_0's rmse: 0.045066\tvalid_0's l2: 0.00203094\tvalid_1's rmse: 0.0377658\tvalid_1's l2: 0.00142626\n",
      "[14]\tvalid_0's rmse: 0.0446723\tvalid_0's l2: 0.00199562\tvalid_1's rmse: 0.0375164\tvalid_1's l2: 0.00140748\n",
      "[15]\tvalid_0's rmse: 0.0442829\tvalid_0's l2: 0.00196098\tvalid_1's rmse: 0.0371922\tvalid_1's l2: 0.00138326\n",
      "[16]\tvalid_0's rmse: 0.0441156\tvalid_0's l2: 0.00194619\tvalid_1's rmse: 0.0371524\tvalid_1's l2: 0.0013803\n",
      "[17]\tvalid_0's rmse: 0.0438019\tvalid_0's l2: 0.00191861\tvalid_1's rmse: 0.0369053\tvalid_1's l2: 0.001362\n",
      "[18]\tvalid_0's rmse: 0.04373\tvalid_0's l2: 0.00191231\tvalid_1's rmse: 0.0368646\tvalid_1's l2: 0.001359\n",
      "[19]\tvalid_0's rmse: 0.0434041\tvalid_0's l2: 0.00188392\tvalid_1's rmse: 0.0366815\tvalid_1's l2: 0.00134554\n",
      "[20]\tvalid_0's rmse: 0.0431436\tvalid_0's l2: 0.00186137\tvalid_1's rmse: 0.0364903\tvalid_1's l2: 0.00133154\n",
      "[21]\tvalid_0's rmse: 0.0429374\tvalid_0's l2: 0.00184362\tvalid_1's rmse: 0.0364158\tvalid_1's l2: 0.00132611\n",
      "[22]\tvalid_0's rmse: 0.0427022\tvalid_0's l2: 0.00182347\tvalid_1's rmse: 0.0361659\tvalid_1's l2: 0.00130797\n",
      "[23]\tvalid_0's rmse: 0.042572\tvalid_0's l2: 0.00181238\tvalid_1's rmse: 0.0360335\tvalid_1's l2: 0.00129841\n",
      "[24]\tvalid_0's rmse: 0.042353\tvalid_0's l2: 0.00179378\tvalid_1's rmse: 0.0358246\tvalid_1's l2: 0.0012834\n",
      "[25]\tvalid_0's rmse: 0.0421383\tvalid_0's l2: 0.00177563\tvalid_1's rmse: 0.0355693\tvalid_1's l2: 0.00126517\n",
      "[26]\tvalid_0's rmse: 0.0419908\tvalid_0's l2: 0.00176322\tvalid_1's rmse: 0.0355517\tvalid_1's l2: 0.00126392\n",
      "[27]\tvalid_0's rmse: 0.0417454\tvalid_0's l2: 0.00174268\tvalid_1's rmse: 0.0354634\tvalid_1's l2: 0.00125765\n",
      "[28]\tvalid_0's rmse: 0.0415323\tvalid_0's l2: 0.00172493\tvalid_1's rmse: 0.0353795\tvalid_1's l2: 0.00125171\n",
      "[29]\tvalid_0's rmse: 0.0414945\tvalid_0's l2: 0.0017218\tvalid_1's rmse: 0.0352896\tvalid_1's l2: 0.00124535\n",
      "[30]\tvalid_0's rmse: 0.0413887\tvalid_0's l2: 0.00171302\tvalid_1's rmse: 0.0351427\tvalid_1's l2: 0.00123501\n",
      "[31]\tvalid_0's rmse: 0.0412441\tvalid_0's l2: 0.00170107\tvalid_1's rmse: 0.0350517\tvalid_1's l2: 0.00122862\n",
      "[32]\tvalid_0's rmse: 0.0410921\tvalid_0's l2: 0.00168856\tvalid_1's rmse: 0.0349464\tvalid_1's l2: 0.00122125\n",
      "[33]\tvalid_0's rmse: 0.0409196\tvalid_0's l2: 0.00167441\tvalid_1's rmse: 0.0348199\tvalid_1's l2: 0.00121242\n",
      "[34]\tvalid_0's rmse: 0.040798\tvalid_0's l2: 0.00166447\tvalid_1's rmse: 0.0346679\tvalid_1's l2: 0.00120187\n",
      "[35]\tvalid_0's rmse: 0.0407689\tvalid_0's l2: 0.00166211\tvalid_1's rmse: 0.0346444\tvalid_1's l2: 0.00120024\n",
      "[36]\tvalid_0's rmse: 0.0405738\tvalid_0's l2: 0.00164624\tvalid_1's rmse: 0.0344654\tvalid_1's l2: 0.00118787\n",
      "[37]\tvalid_0's rmse: 0.0404666\tvalid_0's l2: 0.00163754\tvalid_1's rmse: 0.0344342\tvalid_1's l2: 0.00118571\n",
      "[38]\tvalid_0's rmse: 0.04031\tvalid_0's l2: 0.00162489\tvalid_1's rmse: 0.0343029\tvalid_1's l2: 0.00117669\n",
      "[1]\tvalid_0's rmse: 0.0489358\tvalid_0's l2: 0.00239471\tvalid_1's rmse: 0.0409003\tvalid_1's l2: 0.00167283\n",
      "[2]\tvalid_0's rmse: 0.0482008\tvalid_0's l2: 0.00232332\tvalid_1's rmse: 0.0404861\tvalid_1's l2: 0.00163912\n",
      "[3]\tvalid_0's rmse: 0.0475319\tvalid_0's l2: 0.00225928\tvalid_1's rmse: 0.0401217\tvalid_1's l2: 0.00160975\n",
      "[4]\tvalid_0's rmse: 0.0468758\tvalid_0's l2: 0.00219734\tvalid_1's rmse: 0.0396267\tvalid_1's l2: 0.00157028\n",
      "[5]\tvalid_0's rmse: 0.0463122\tvalid_0's l2: 0.00214482\tvalid_1's rmse: 0.0394053\tvalid_1's l2: 0.00155278\n",
      "[6]\tvalid_0's rmse: 0.0459034\tvalid_0's l2: 0.00210712\tvalid_1's rmse: 0.0391774\tvalid_1's l2: 0.00153487\n",
      "[7]\tvalid_0's rmse: 0.0453595\tvalid_0's l2: 0.00205748\tvalid_1's rmse: 0.03866\tvalid_1's l2: 0.00149459\n",
      "[8]\tvalid_0's rmse: 0.0449453\tvalid_0's l2: 0.00202008\tvalid_1's rmse: 0.038165\tvalid_1's l2: 0.00145657\n",
      "[9]\tvalid_0's rmse: 0.044457\tvalid_0's l2: 0.00197643\tvalid_1's rmse: 0.0379132\tvalid_1's l2: 0.00143741\n",
      "[10]\tvalid_0's rmse: 0.0440188\tvalid_0's l2: 0.00193766\tvalid_1's rmse: 0.0375279\tvalid_1's l2: 0.00140835\n",
      "[11]\tvalid_0's rmse: 0.0435701\tvalid_0's l2: 0.00189835\tvalid_1's rmse: 0.03739\tvalid_1's l2: 0.00139801\n",
      "[12]\tvalid_0's rmse: 0.0431907\tvalid_0's l2: 0.00186544\tvalid_1's rmse: 0.0371841\tvalid_1's l2: 0.00138266\n",
      "[13]\tvalid_0's rmse: 0.0428293\tvalid_0's l2: 0.00183435\tvalid_1's rmse: 0.0369241\tvalid_1's l2: 0.00136339\n",
      "[14]\tvalid_0's rmse: 0.0425426\tvalid_0's l2: 0.00180987\tvalid_1's rmse: 0.0366964\tvalid_1's l2: 0.00134663\n",
      "[15]\tvalid_0's rmse: 0.042077\tvalid_0's l2: 0.00177048\tvalid_1's rmse: 0.0364483\tvalid_1's l2: 0.00132848\n",
      "[16]\tvalid_0's rmse: 0.0415844\tvalid_0's l2: 0.00172926\tvalid_1's rmse: 0.0360389\tvalid_1's l2: 0.0012988\n",
      "[17]\tvalid_0's rmse: 0.0414055\tvalid_0's l2: 0.00171441\tvalid_1's rmse: 0.0358457\tvalid_1's l2: 0.00128491\n",
      "[18]\tvalid_0's rmse: 0.0410079\tvalid_0's l2: 0.00168165\tvalid_1's rmse: 0.035543\tvalid_1's l2: 0.00126331\n",
      "[19]\tvalid_0's rmse: 0.040717\tvalid_0's l2: 0.00165787\tvalid_1's rmse: 0.0355027\tvalid_1's l2: 0.00126044\n",
      "[20]\tvalid_0's rmse: 0.0403646\tvalid_0's l2: 0.0016293\tvalid_1's rmse: 0.0352595\tvalid_1's l2: 0.00124323\n",
      "[21]\tvalid_0's rmse: 0.040001\tvalid_0's l2: 0.00160008\tvalid_1's rmse: 0.0350008\tvalid_1's l2: 0.00122505\n",
      "[22]\tvalid_0's rmse: 0.0396612\tvalid_0's l2: 0.00157301\tvalid_1's rmse: 0.0347448\tvalid_1's l2: 0.0012072\n",
      "[23]\tvalid_0's rmse: 0.0392259\tvalid_0's l2: 0.00153867\tvalid_1's rmse: 0.0345691\tvalid_1's l2: 0.00119503\n",
      "[24]\tvalid_0's rmse: 0.0391087\tvalid_0's l2: 0.00152949\tvalid_1's rmse: 0.0345455\tvalid_1's l2: 0.00119339\n",
      "[25]\tvalid_0's rmse: 0.0388657\tvalid_0's l2: 0.00151054\tvalid_1's rmse: 0.0344023\tvalid_1's l2: 0.00118352\n",
      "[26]\tvalid_0's rmse: 0.0387478\tvalid_0's l2: 0.00150139\tvalid_1's rmse: 0.0343563\tvalid_1's l2: 0.00118036\n",
      "[1]\tvalid_0's rmse: 0.0482671\tvalid_0's l2: 0.00232971\tvalid_1's rmse: 0.0409418\tvalid_1's l2: 0.00167623\n",
      "[2]\tvalid_0's rmse: 0.047143\tvalid_0's l2: 0.00222246\tvalid_1's rmse: 0.0399337\tvalid_1's l2: 0.0015947\n",
      "[27]\tvalid_0's rmse: 0.0403673\tvalid_0's l2: 0.00162952\tvalid_1's rmse: 0.0349536\tvalid_1's l2: 0.00122176\n",
      "[28]\tvalid_0's rmse: 0.0402811\tvalid_0's l2: 0.00162256\tvalid_1's rmse: 0.0349548\tvalid_1's l2: 0.00122184\n",
      "[29]\tvalid_0's rmse: 0.0401456\tvalid_0's l2: 0.00161167\tvalid_1's rmse: 0.0348686\tvalid_1's l2: 0.00121582\n",
      "[30]\tvalid_0's rmse: 0.0399596\tvalid_0's l2: 0.00159677\tvalid_1's rmse: 0.0348789\tvalid_1's l2: 0.00121654\n",
      "[31]\tvalid_0's rmse: 0.0398586\tvalid_0's l2: 0.00158871\tvalid_1's rmse: 0.0348802\tvalid_1's l2: 0.00121663\n",
      "[32]\tvalid_0's rmse: 0.0397414\tvalid_0's l2: 0.00157938\tvalid_1's rmse: 0.0348204\tvalid_1's l2: 0.00121246\n",
      "[33]\tvalid_0's rmse: 0.0395728\tvalid_0's l2: 0.001566\tvalid_1's rmse: 0.0346767\tvalid_1's l2: 0.00120247\n",
      "[34]\tvalid_0's rmse: 0.0395033\tvalid_0's l2: 0.00156051\tvalid_1's rmse: 0.0346863\tvalid_1's l2: 0.00120314\n",
      "[35]\tvalid_0's rmse: 0.0394175\tvalid_0's l2: 0.00155374\tvalid_1's rmse: 0.0346696\tvalid_1's l2: 0.00120198\n",
      "[36]\tvalid_0's rmse: 0.0393244\tvalid_0's l2: 0.00154641\tvalid_1's rmse: 0.0347077\tvalid_1's l2: 0.00120462\n",
      "[37]\tvalid_0's rmse: 0.039203\tvalid_0's l2: 0.00153687\tvalid_1's rmse: 0.0346306\tvalid_1's l2: 0.00119928\n",
      "[38]\tvalid_0's rmse: 0.0390662\tvalid_0's l2: 0.00152617\tvalid_1's rmse: 0.0346052\tvalid_1's l2: 0.00119752\n",
      "[1]\tvalid_0's rmse: 0.04867\tvalid_0's l2: 0.00236877\tvalid_1's rmse: 0.0415434\tvalid_1's l2: 0.00172585\n",
      "[2]\tvalid_0's rmse: 0.0477685\tvalid_0's l2: 0.00228183\tvalid_1's rmse: 0.0406023\tvalid_1's l2: 0.00164855\n",
      "[3]\tvalid_0's rmse: 0.0468981\tvalid_0's l2: 0.00219944\tvalid_1's rmse: 0.0398151\tvalid_1's l2: 0.00158524\n",
      "[4]\tvalid_0's rmse: 0.0461823\tvalid_0's l2: 0.00213281\tvalid_1's rmse: 0.0391243\tvalid_1's l2: 0.00153071\n",
      "[5]\tvalid_0's rmse: 0.0456483\tvalid_0's l2: 0.00208377\tvalid_1's rmse: 0.038774\tvalid_1's l2: 0.00150342\n",
      "[6]\tvalid_0's rmse: 0.0451286\tvalid_0's l2: 0.00203659\tvalid_1's rmse: 0.0384563\tvalid_1's l2: 0.00147889\n",
      "[7]\tvalid_0's rmse: 0.044499\tvalid_0's l2: 0.00198016\tvalid_1's rmse: 0.0381587\tvalid_1's l2: 0.00145608\n",
      "[8]\tvalid_0's rmse: 0.0440153\tvalid_0's l2: 0.00193735\tvalid_1's rmse: 0.037894\tvalid_1's l2: 0.00143596\n",
      "[9]\tvalid_0's rmse: 0.0438446\tvalid_0's l2: 0.00192235\tvalid_1's rmse: 0.0376885\tvalid_1's l2: 0.00142042\n",
      "[10]\tvalid_0's rmse: 0.0433402\tvalid_0's l2: 0.00187838\tvalid_1's rmse: 0.0373162\tvalid_1's l2: 0.0013925\n",
      "[11]\tvalid_0's rmse: 0.0430527\tvalid_0's l2: 0.00185354\tvalid_1's rmse: 0.037078\tvalid_1's l2: 0.00137478\n",
      "[12]\tvalid_0's rmse: 0.0426787\tvalid_0's l2: 0.00182147\tvalid_1's rmse: 0.0368135\tvalid_1's l2: 0.00135524\n",
      "[13]\tvalid_0's rmse: 0.0424319\tvalid_0's l2: 0.00180046\tvalid_1's rmse: 0.0366481\tvalid_1's l2: 0.00134308\n",
      "[14]\tvalid_0's rmse: 0.0421585\tvalid_0's l2: 0.00177734\tvalid_1's rmse: 0.0364629\tvalid_1's l2: 0.00132954\n",
      "[15]\tvalid_0's rmse: 0.0418803\tvalid_0's l2: 0.00175396\tvalid_1's rmse: 0.0361925\tvalid_1's l2: 0.0013099\n",
      "[16]\tvalid_0's rmse: 0.0417128\tvalid_0's l2: 0.00173996\tvalid_1's rmse: 0.0360683\tvalid_1's l2: 0.00130093\n",
      "[17]\tvalid_0's rmse: 0.0414975\tvalid_0's l2: 0.00172204\tvalid_1's rmse: 0.0359992\tvalid_1's l2: 0.00129595\n",
      "[18]\tvalid_0's rmse: 0.0412722\tvalid_0's l2: 0.0017034\tvalid_1's rmse: 0.0357952\tvalid_1's l2: 0.0012813\n",
      "[19]\tvalid_0's rmse: 0.0411186\tvalid_0's l2: 0.00169074\tvalid_1's rmse: 0.035641\tvalid_1's l2: 0.00127028\n",
      "[20]\tvalid_0's rmse: 0.0409782\tvalid_0's l2: 0.00167922\tvalid_1's rmse: 0.0355579\tvalid_1's l2: 0.00126437\n",
      "[1]\tvalid_0's rmse: 0.04867\tvalid_0's l2: 0.00236877\tvalid_1's rmse: 0.0415434\tvalid_1's l2: 0.00172585\n",
      "[2]\tvalid_0's rmse: 0.0477685\tvalid_0's l2: 0.00228183\tvalid_1's rmse: 0.0406023\tvalid_1's l2: 0.00164855\n",
      "[3]\tvalid_0's rmse: 0.0468981\tvalid_0's l2: 0.00219944\tvalid_1's rmse: 0.0398151\tvalid_1's l2: 0.00158524\n",
      "[4]\tvalid_0's rmse: 0.0461823\tvalid_0's l2: 0.00213281\tvalid_1's rmse: 0.0391243\tvalid_1's l2: 0.00153071\n",
      "[5]\tvalid_0's rmse: 0.0456483\tvalid_0's l2: 0.00208377\tvalid_1's rmse: 0.038774\tvalid_1's l2: 0.00150342\n",
      "[6]\tvalid_0's rmse: 0.0451286\tvalid_0's l2: 0.00203659\tvalid_1's rmse: 0.0384563\tvalid_1's l2: 0.00147889\n",
      "[7]\tvalid_0's rmse: 0.044499\tvalid_0's l2: 0.00198016\tvalid_1's rmse: 0.0381587\tvalid_1's l2: 0.00145608\n",
      "[8]\tvalid_0's rmse: 0.0440153\tvalid_0's l2: 0.00193735\tvalid_1's rmse: 0.037894\tvalid_1's l2: 0.00143596\n",
      "[9]\tvalid_0's rmse: 0.0438446\tvalid_0's l2: 0.00192235\tvalid_1's rmse: 0.0376885\tvalid_1's l2: 0.00142042\n",
      "[10]\tvalid_0's rmse: 0.0433402\tvalid_0's l2: 0.00187838\tvalid_1's rmse: 0.0373162\tvalid_1's l2: 0.0013925\n",
      "[11]\tvalid_0's rmse: 0.0430527\tvalid_0's l2: 0.00185354\tvalid_1's rmse: 0.037078\tvalid_1's l2: 0.00137478\n",
      "[12]\tvalid_0's rmse: 0.0426787\tvalid_0's l2: 0.00182147\tvalid_1's rmse: 0.0368135\tvalid_1's l2: 0.00135524\n",
      "[13]\tvalid_0's rmse: 0.0424319\tvalid_0's l2: 0.00180046\tvalid_1's rmse: 0.0366481\tvalid_1's l2: 0.00134308\n",
      "[14]\tvalid_0's rmse: 0.0421585\tvalid_0's l2: 0.00177734\tvalid_1's rmse: 0.0364629\tvalid_1's l2: 0.00132954\n",
      "[15]\tvalid_0's rmse: 0.0418803\tvalid_0's l2: 0.00175396\tvalid_1's rmse: 0.0361925\tvalid_1's l2: 0.0013099\n",
      "[16]\tvalid_0's rmse: 0.0417128\tvalid_0's l2: 0.00173996\tvalid_1's rmse: 0.0360683\tvalid_1's l2: 0.00130093\n",
      "[17]\tvalid_0's rmse: 0.0414975\tvalid_0's l2: 0.00172204\tvalid_1's rmse: 0.0359992\tvalid_1's l2: 0.00129595\n",
      "[18]\tvalid_0's rmse: 0.0412722\tvalid_0's l2: 0.0017034\tvalid_1's rmse: 0.0357952\tvalid_1's l2: 0.0012813\n",
      "[19]\tvalid_0's rmse: 0.0411186\tvalid_0's l2: 0.00169074\tvalid_1's rmse: 0.035641\tvalid_1's l2: 0.00127028\n",
      "[20]\tvalid_0's rmse: 0.0409782\tvalid_0's l2: 0.00167922\tvalid_1's rmse: 0.0355579\tvalid_1's l2: 0.00126437\n",
      "[21]\tvalid_0's rmse: 0.0408503\tvalid_0's l2: 0.00166874\tvalid_1's rmse: 0.035502\tvalid_1's l2: 0.00126039\n",
      "[22]\tvalid_0's rmse: 0.04068\tvalid_0's l2: 0.00165487\tvalid_1's rmse: 0.0353562\tvalid_1's l2: 0.00125006\n",
      "[23]\tvalid_0's rmse: 0.0405485\tvalid_0's l2: 0.00164418\tvalid_1's rmse: 0.0353134\tvalid_1's l2: 0.00124704\n",
      "[24]\tvalid_0's rmse: 0.0404667\tvalid_0's l2: 0.00163755\tvalid_1's rmse: 0.0353089\tvalid_1's l2: 0.00124672\n",
      "[25]\tvalid_0's rmse: 0.0403697\tvalid_0's l2: 0.00162971\tvalid_1's rmse: 0.0352523\tvalid_1's l2: 0.00124273\n",
      "[26]\tvalid_0's rmse: 0.0403141\tvalid_0's l2: 0.00162523\tvalid_1's rmse: 0.0352609\tvalid_1's l2: 0.00124333\n",
      "[27]\tvalid_0's rmse: 0.0402343\tvalid_0's l2: 0.0016188\tvalid_1's rmse: 0.0351993\tvalid_1's l2: 0.00123899\n",
      "[28]\tvalid_0's rmse: 0.0401877\tvalid_0's l2: 0.00161505\tvalid_1's rmse: 0.0351546\tvalid_1's l2: 0.00123584\n",
      "[29]\tvalid_0's rmse: 0.0400031\tvalid_0's l2: 0.00160025\tvalid_1's rmse: 0.0351402\tvalid_1's l2: 0.00123484\n",
      "[1]\tvalid_0's rmse: 0.0489358\tvalid_0's l2: 0.00239471\tvalid_1's rmse: 0.0409003\tvalid_1's l2: 0.00167283\n",
      "[2]\tvalid_0's rmse: 0.0482008\tvalid_0's l2: 0.00232332\tvalid_1's rmse: 0.0404861\tvalid_1's l2: 0.00163912\n",
      "[3]\tvalid_0's rmse: 0.0475319\tvalid_0's l2: 0.00225928\tvalid_1's rmse: 0.0401217\tvalid_1's l2: 0.00160975\n",
      "[4]\tvalid_0's rmse: 0.0468758\tvalid_0's l2: 0.00219734\tvalid_1's rmse: 0.0396267\tvalid_1's l2: 0.00157028\n",
      "[5]\tvalid_0's rmse: 0.0463122\tvalid_0's l2: 0.00214482\tvalid_1's rmse: 0.0394053\tvalid_1's l2: 0.00155278\n",
      "[6]\tvalid_0's rmse: 0.0459034\tvalid_0's l2: 0.00210712\tvalid_1's rmse: 0.0391774\tvalid_1's l2: 0.00153487\n",
      "[7]\tvalid_0's rmse: 0.0453595\tvalid_0's l2: 0.00205748\tvalid_1's rmse: 0.03866\tvalid_1's l2: 0.00149459\n",
      "[8]\tvalid_0's rmse: 0.0449453\tvalid_0's l2: 0.00202008\tvalid_1's rmse: 0.038165\tvalid_1's l2: 0.00145657\n",
      "[9]\tvalid_0's rmse: 0.044457\tvalid_0's l2: 0.00197643\tvalid_1's rmse: 0.0379132\tvalid_1's l2: 0.00143741\n",
      "[10]\tvalid_0's rmse: 0.0440188\tvalid_0's l2: 0.00193766\tvalid_1's rmse: 0.0375279\tvalid_1's l2: 0.00140835\n",
      "[11]\tvalid_0's rmse: 0.0435701\tvalid_0's l2: 0.00189835\tvalid_1's rmse: 0.03739\tvalid_1's l2: 0.00139801\n",
      "[12]\tvalid_0's rmse: 0.0431907\tvalid_0's l2: 0.00186544\tvalid_1's rmse: 0.0371841\tvalid_1's l2: 0.00138266\n",
      "[13]\tvalid_0's rmse: 0.0428293\tvalid_0's l2: 0.00183435\tvalid_1's rmse: 0.0369241\tvalid_1's l2: 0.00136339\n",
      "[14]\tvalid_0's rmse: 0.0425426\tvalid_0's l2: 0.00180987\tvalid_1's rmse: 0.0366964\tvalid_1's l2: 0.00134663\n",
      "[15]\tvalid_0's rmse: 0.042077\tvalid_0's l2: 0.00177048\tvalid_1's rmse: 0.0364483\tvalid_1's l2: 0.00132848\n",
      "[16]\tvalid_0's rmse: 0.0415844\tvalid_0's l2: 0.00172926\tvalid_1's rmse: 0.0360389\tvalid_1's l2: 0.0012988\n",
      "[17]\tvalid_0's rmse: 0.0414055\tvalid_0's l2: 0.00171441\tvalid_1's rmse: 0.0358457\tvalid_1's l2: 0.00128491\n",
      "[33]\tvalid_0's rmse: 0.0409196\tvalid_0's l2: 0.00167441\tvalid_1's rmse: 0.0348199\tvalid_1's l2: 0.00121242\n",
      "[34]\tvalid_0's rmse: 0.040798\tvalid_0's l2: 0.00166447\tvalid_1's rmse: 0.0346679\tvalid_1's l2: 0.00120187\n",
      "[35]\tvalid_0's rmse: 0.0407689\tvalid_0's l2: 0.00166211\tvalid_1's rmse: 0.0346444\tvalid_1's l2: 0.00120024\n",
      "[1]\tvalid_0's rmse: 0.0486713\tvalid_0's l2: 0.00236889\tvalid_1's rmse: 0.0412484\tvalid_1's l2: 0.00170143\n",
      "[2]\tvalid_0's rmse: 0.0478937\tvalid_0's l2: 0.00229381\tvalid_1's rmse: 0.0406285\tvalid_1's l2: 0.00165067\n",
      "[3]\tvalid_0's rmse: 0.0471681\tvalid_0's l2: 0.00222483\tvalid_1's rmse: 0.0398968\tvalid_1's l2: 0.00159175\n",
      "[4]\tvalid_0's rmse: 0.0464978\tvalid_0's l2: 0.00216204\tvalid_1's rmse: 0.0392551\tvalid_1's l2: 0.00154096\n",
      "[5]\tvalid_0's rmse: 0.0459137\tvalid_0's l2: 0.00210807\tvalid_1's rmse: 0.0387508\tvalid_1's l2: 0.00150163\n",
      "[6]\tvalid_0's rmse: 0.0454293\tvalid_0's l2: 0.00206382\tvalid_1's rmse: 0.0382799\tvalid_1's l2: 0.00146535\n",
      "[7]\tvalid_0's rmse: 0.0449804\tvalid_0's l2: 0.00202323\tvalid_1's rmse: 0.0378694\tvalid_1's l2: 0.00143409\n",
      "[8]\tvalid_0's rmse: 0.0445941\tvalid_0's l2: 0.00198863\tvalid_1's rmse: 0.0375339\tvalid_1's l2: 0.00140879\n",
      "[9]\tvalid_0's rmse: 0.0441331\tvalid_0's l2: 0.00194773\tvalid_1's rmse: 0.0371796\tvalid_1's l2: 0.00138232\n",
      "[10]\tvalid_0's rmse: 0.0437589\tvalid_0's l2: 0.00191484\tvalid_1's rmse: 0.0369005\tvalid_1's l2: 0.00136165\n",
      "[11]\tvalid_0's rmse: 0.04349\tvalid_0's l2: 0.00189138\tvalid_1's rmse: 0.0366616\tvalid_1's l2: 0.00134407\n",
      "[12]\tvalid_0's rmse: 0.0431614\tvalid_0's l2: 0.00186291\tvalid_1's rmse: 0.0365417\tvalid_1's l2: 0.00133529\n",
      "[13]\tvalid_0's rmse: 0.0429776\tvalid_0's l2: 0.00184707\tvalid_1's rmse: 0.0363868\tvalid_1's l2: 0.001324\n",
      "[14]\tvalid_0's rmse: 0.0427071\tvalid_0's l2: 0.0018239\tvalid_1's rmse: 0.0362124\tvalid_1's l2: 0.00131134\n",
      "[15]\tvalid_0's rmse: 0.0425481\tvalid_0's l2: 0.00181034\tvalid_1's rmse: 0.0361668\tvalid_1's l2: 0.00130804\n",
      "[16]\tvalid_0's rmse: 0.0423421\tvalid_0's l2: 0.00179286\tvalid_1's rmse: 0.0361503\tvalid_1's l2: 0.00130684\n",
      "[17]\tvalid_0's rmse: 0.0420339\tvalid_0's l2: 0.00176685\tvalid_1's rmse: 0.0361129\tvalid_1's l2: 0.00130414\n",
      "[18]\tvalid_0's rmse: 0.0419114\tvalid_0's l2: 0.00175656\tvalid_1's rmse: 0.0360252\tvalid_1's l2: 0.00129782\n",
      "[19]\tvalid_0's rmse: 0.041772\tvalid_0's l2: 0.0017449\tvalid_1's rmse: 0.0359097\tvalid_1's l2: 0.0012895\n",
      "[20]\tvalid_0's rmse: 0.0415481\tvalid_0's l2: 0.00172624\tvalid_1's rmse: 0.0356853\tvalid_1's l2: 0.00127344\n",
      "[21]\tvalid_0's rmse: 0.0413912\tvalid_0's l2: 0.00171323\tvalid_1's rmse: 0.0356706\tvalid_1's l2: 0.00127239\n",
      "[22]\tvalid_0's rmse: 0.0411801\tvalid_0's l2: 0.0016958\tvalid_1's rmse: 0.0355379\tvalid_1's l2: 0.00126294\n",
      "[23]\tvalid_0's rmse: 0.0410619\tvalid_0's l2: 0.00168608\tvalid_1's rmse: 0.0354726\tvalid_1's l2: 0.00125831\n",
      "[24]\tvalid_0's rmse: 0.0408979\tvalid_0's l2: 0.00167264\tvalid_1's rmse: 0.0353591\tvalid_1's l2: 0.00125027\n",
      "[25]\tvalid_0's rmse: 0.040659\tvalid_0's l2: 0.00165315\tvalid_1's rmse: 0.0352526\tvalid_1's l2: 0.00124274\n",
      "[26]\tvalid_0's rmse: 0.0404969\tvalid_0's l2: 0.00164\tvalid_1's rmse: 0.0350875\tvalid_1's l2: 0.00123113\n",
      "[27]\tvalid_0's rmse: 0.0403673\tvalid_0's l2: 0.00162952\tvalid_1's rmse: 0.0349536\tvalid_1's l2: 0.00122176\n",
      "[28]\tvalid_0's rmse: 0.0402811\tvalid_0's l2: 0.00162256\tvalid_1's rmse: 0.0349548\tvalid_1's l2: 0.00122184\n",
      "[29]\tvalid_0's rmse: 0.0401456\tvalid_0's l2: 0.00161167\tvalid_1's rmse: 0.0348686\tvalid_1's l2: 0.00121582\n",
      "[30]\tvalid_0's rmse: 0.0399596\tvalid_0's l2: 0.00159677\tvalid_1's rmse: 0.0348789\tvalid_1's l2: 0.00121654\n",
      "[31]\tvalid_0's rmse: 0.0398586\tvalid_0's l2: 0.00158871\tvalid_1's rmse: 0.0348802\tvalid_1's l2: 0.00121663\n",
      "[32]\tvalid_0's rmse: 0.0397414\tvalid_0's l2: 0.00157938\tvalid_1's rmse: 0.0348204\tvalid_1's l2: 0.00121246\n",
      "[33]\tvalid_0's rmse: 0.0395728\tvalid_0's l2: 0.001566\tvalid_1's rmse: 0.0346767\tvalid_1's l2: 0.00120247\n",
      "[34]\tvalid_0's rmse: 0.0395033\tvalid_0's l2: 0.00156051\tvalid_1's rmse: 0.0346863\tvalid_1's l2: 0.00120314\n",
      "[35]\tvalid_0's rmse: 0.0394175\tvalid_0's l2: 0.00155374\tvalid_1's rmse: 0.0346696\tvalid_1's l2: 0.00120198\n",
      "[1]\tvalid_0's rmse: 0.0482671\tvalid_0's l2: 0.00232971\tvalid_1's rmse: 0.0409418\tvalid_1's l2: 0.00167623\n",
      "[2]\tvalid_0's rmse: 0.047143\tvalid_0's l2: 0.00222246\tvalid_1's rmse: 0.0399337\tvalid_1's l2: 0.0015947\n",
      "[3]\tvalid_0's rmse: 0.0462154\tvalid_0's l2: 0.00213587\tvalid_1's rmse: 0.0390963\tvalid_1's l2: 0.00152852\n",
      "[4]\tvalid_0's rmse: 0.0454522\tvalid_0's l2: 0.0020659\tvalid_1's rmse: 0.0384541\tvalid_1's l2: 0.00147872\n",
      "[5]\tvalid_0's rmse: 0.0448521\tvalid_0's l2: 0.00201171\tvalid_1's rmse: 0.0379616\tvalid_1's l2: 0.00144108\n",
      "[6]\tvalid_0's rmse: 0.044207\tvalid_0's l2: 0.00195426\tvalid_1's rmse: 0.0376234\tvalid_1's l2: 0.00141552\n",
      "[7]\tvalid_0's rmse: 0.0437472\tvalid_0's l2: 0.00191382\tvalid_1's rmse: 0.0372432\tvalid_1's l2: 0.00138705\n",
      "[8]\tvalid_0's rmse: 0.0433888\tvalid_0's l2: 0.00188259\tvalid_1's rmse: 0.03705\tvalid_1's l2: 0.0013727\n",
      "[9]\tvalid_0's rmse: 0.042955\tvalid_0's l2: 0.00184513\tvalid_1's rmse: 0.0368201\tvalid_1's l2: 0.00135572\n",
      "[10]\tvalid_0's rmse: 0.0425741\tvalid_0's l2: 0.00181255\tvalid_1's rmse: 0.0365884\tvalid_1's l2: 0.00133871\n",
      "[11]\tvalid_0's rmse: 0.0420529\tvalid_0's l2: 0.00176844\tvalid_1's rmse: 0.0364868\tvalid_1's l2: 0.00133128\n",
      "[12]\tvalid_0's rmse: 0.0418539\tvalid_0's l2: 0.00175175\tvalid_1's rmse: 0.0363661\tvalid_1's l2: 0.00132249\n",
      "[13]\tvalid_0's rmse: 0.0414056\tvalid_0's l2: 0.00171442\tvalid_1's rmse: 0.0363158\tvalid_1's l2: 0.00131884\n",
      "[14]\tvalid_0's rmse: 0.0411921\tvalid_0's l2: 0.00169679\tvalid_1's rmse: 0.0361921\tvalid_1's l2: 0.00130986\n",
      "[15]\tvalid_0's rmse: 0.0407669\tvalid_0's l2: 0.00166194\tvalid_1's rmse: 0.0361013\tvalid_1's l2: 0.0013033\n",
      "[16]\tvalid_0's rmse: 0.0403203\tvalid_0's l2: 0.00162573\tvalid_1's rmse: 0.0359146\tvalid_1's l2: 0.00128986\n",
      "[17]\tvalid_0's rmse: 0.0401606\tvalid_0's l2: 0.00161287\tvalid_1's rmse: 0.0357938\tvalid_1's l2: 0.0012812\n",
      "[18]\tvalid_0's rmse: 0.0398688\tvalid_0's l2: 0.00158952\tvalid_1's rmse: 0.0358064\tvalid_1's l2: 0.0012821\n",
      "[19]\tvalid_0's rmse: 0.0396071\tvalid_0's l2: 0.00156872\tvalid_1's rmse: 0.0355378\tvalid_1's l2: 0.00126294\n",
      "[20]\tvalid_0's rmse: 0.0393291\tvalid_0's l2: 0.00154678\tvalid_1's rmse: 0.0354537\tvalid_1's l2: 0.00125696\n",
      "[21]\tvalid_0's rmse: 0.0390956\tvalid_0's l2: 0.00152847\tvalid_1's rmse: 0.0354511\tvalid_1's l2: 0.00125678\n",
      "[22]\tvalid_0's rmse: 0.0389671\tvalid_0's l2: 0.00151843\tvalid_1's rmse: 0.0353656\tvalid_1's l2: 0.00125073\n",
      "[23]\tvalid_0's rmse: 0.0386787\tvalid_0's l2: 0.00149604\tvalid_1's rmse: 0.0352894\tvalid_1's l2: 0.00124534\n",
      "[24]\tvalid_0's rmse: 0.0385701\tvalid_0's l2: 0.00148766\tvalid_1's rmse: 0.0352931\tvalid_1's l2: 0.0012456\n",
      "[25]\tvalid_0's rmse: 0.0384219\tvalid_0's l2: 0.00147624\tvalid_1's rmse: 0.0352389\tvalid_1's l2: 0.00124178\n",
      "[26]\tvalid_0's rmse: 0.0383652\tvalid_0's l2: 0.00147189\tvalid_1's rmse: 0.03518\tvalid_1's l2: 0.00123763\n",
      "[27]\tvalid_0's rmse: 0.0381944\tvalid_0's l2: 0.00145881\tvalid_1's rmse: 0.0350742\tvalid_1's l2: 0.0012302\n",
      "[28]\tvalid_0's rmse: 0.0379767\tvalid_0's l2: 0.00144223\tvalid_1's rmse: 0.0349182\tvalid_1's l2: 0.00121928\n",
      "[29]\tvalid_0's rmse: 0.0379317\tvalid_0's l2: 0.00143881\tvalid_1's rmse: 0.0349589\tvalid_1's l2: 0.00122213\n",
      "[1]\tvalid_0's rmse: 0.04867\tvalid_0's l2: 0.00236877\tvalid_1's rmse: 0.0415434\tvalid_1's l2: 0.00172585\n",
      "[2]\tvalid_0's rmse: 0.0477685\tvalid_0's l2: 0.00228183\tvalid_1's rmse: 0.0406023\tvalid_1's l2: 0.00164855\n",
      "[3]\tvalid_0's rmse: 0.0468981\tvalid_0's l2: 0.00219944\tvalid_1's rmse: 0.0398151\tvalid_1's l2: 0.00158524\n",
      "[4]\tvalid_0's rmse: 0.0461823\tvalid_0's l2: 0.00213281\tvalid_1's rmse: 0.0391243\tvalid_1's l2: 0.00153071\n",
      "[5]\tvalid_0's rmse: 0.0456483\tvalid_0's l2: 0.00208377\tvalid_1's rmse: 0.038774\tvalid_1's l2: 0.00150342\n",
      "[6]\tvalid_0's rmse: 0.0451286\tvalid_0's l2: 0.00203659\tvalid_1's rmse: 0.0384563\tvalid_1's l2: 0.00147889\n",
      "[7]\tvalid_0's rmse: 0.044499\tvalid_0's l2: 0.00198016\tvalid_1's rmse: 0.0381587\tvalid_1's l2: 0.00145608\n",
      "[8]\tvalid_0's rmse: 0.0440153\tvalid_0's l2: 0.00193735\tvalid_1's rmse: 0.037894\tvalid_1's l2: 0.00143596\n",
      "[9]\tvalid_0's rmse: 0.0438446\tvalid_0's l2: 0.00192235\tvalid_1's rmse: 0.0376885\tvalid_1's l2: 0.00142042\n",
      "[10]\tvalid_0's rmse: 0.0433402\tvalid_0's l2: 0.00187838\tvalid_1's rmse: 0.0373162\tvalid_1's l2: 0.0013925\n",
      "[11]\tvalid_0's rmse: 0.0430527\tvalid_0's l2: 0.00185354\tvalid_1's rmse: 0.037078\tvalid_1's l2: 0.00137478\n",
      "[7]\tvalid_0's rmse: 0.0437472\tvalid_0's l2: 0.00191382\tvalid_1's rmse: 0.0372432\tvalid_1's l2: 0.00138705\n",
      "[8]\tvalid_0's rmse: 0.0433888\tvalid_0's l2: 0.00188259\tvalid_1's rmse: 0.03705\tvalid_1's l2: 0.0013727\n",
      "[9]\tvalid_0's rmse: 0.042955\tvalid_0's l2: 0.00184513\tvalid_1's rmse: 0.0368201\tvalid_1's l2: 0.00135572\n",
      "[10]\tvalid_0's rmse: 0.0425741\tvalid_0's l2: 0.00181255\tvalid_1's rmse: 0.0365884\tvalid_1's l2: 0.00133871\n",
      "[11]\tvalid_0's rmse: 0.0420529\tvalid_0's l2: 0.00176844\tvalid_1's rmse: 0.0364868\tvalid_1's l2: 0.00133128\n",
      "[12]\tvalid_0's rmse: 0.0418539\tvalid_0's l2: 0.00175175\tvalid_1's rmse: 0.0363661\tvalid_1's l2: 0.00132249\n",
      "[13]\tvalid_0's rmse: 0.0414056\tvalid_0's l2: 0.00171442\tvalid_1's rmse: 0.0363158\tvalid_1's l2: 0.00131884\n",
      "[14]\tvalid_0's rmse: 0.0411921\tvalid_0's l2: 0.00169679\tvalid_1's rmse: 0.0361921\tvalid_1's l2: 0.00130986\n",
      "[15]\tvalid_0's rmse: 0.0407669\tvalid_0's l2: 0.00166194\tvalid_1's rmse: 0.0361013\tvalid_1's l2: 0.0013033\n",
      "[16]\tvalid_0's rmse: 0.0403203\tvalid_0's l2: 0.00162573\tvalid_1's rmse: 0.0359146\tvalid_1's l2: 0.00128986\n",
      "[17]\tvalid_0's rmse: 0.0401606\tvalid_0's l2: 0.00161287\tvalid_1's rmse: 0.0357938\tvalid_1's l2: 0.0012812\n",
      "[18]\tvalid_0's rmse: 0.0398688\tvalid_0's l2: 0.00158952\tvalid_1's rmse: 0.0358064\tvalid_1's l2: 0.0012821\n",
      "[19]\tvalid_0's rmse: 0.0396071\tvalid_0's l2: 0.00156872\tvalid_1's rmse: 0.0355378\tvalid_1's l2: 0.00126294\n",
      "[20]\tvalid_0's rmse: 0.0393291\tvalid_0's l2: 0.00154678\tvalid_1's rmse: 0.0354537\tvalid_1's l2: 0.00125696\n",
      "[1]\tvalid_0's rmse: 0.0489358\tvalid_0's l2: 0.00239471\tvalid_1's rmse: 0.0409003\tvalid_1's l2: 0.00167283\n",
      "[2]\tvalid_0's rmse: 0.0482008\tvalid_0's l2: 0.00232332\tvalid_1's rmse: 0.0404861\tvalid_1's l2: 0.00163912\n",
      "[3]\tvalid_0's rmse: 0.0475319\tvalid_0's l2: 0.00225928\tvalid_1's rmse: 0.0401217\tvalid_1's l2: 0.00160975\n",
      "[4]\tvalid_0's rmse: 0.0468758\tvalid_0's l2: 0.00219734\tvalid_1's rmse: 0.0396267\tvalid_1's l2: 0.00157028\n",
      "[5]\tvalid_0's rmse: 0.0463122\tvalid_0's l2: 0.00214482\tvalid_1's rmse: 0.0394053\tvalid_1's l2: 0.00155278\n",
      "[6]\tvalid_0's rmse: 0.0459034\tvalid_0's l2: 0.00210712\tvalid_1's rmse: 0.0391774\tvalid_1's l2: 0.00153487\n",
      "[7]\tvalid_0's rmse: 0.0453595\tvalid_0's l2: 0.00205748\tvalid_1's rmse: 0.03866\tvalid_1's l2: 0.00149459\n",
      "[8]\tvalid_0's rmse: 0.0449453\tvalid_0's l2: 0.00202008\tvalid_1's rmse: 0.038165\tvalid_1's l2: 0.00145657\n",
      "[9]\tvalid_0's rmse: 0.044457\tvalid_0's l2: 0.00197643\tvalid_1's rmse: 0.0379132\tvalid_1's l2: 0.00143741\n",
      "[10]\tvalid_0's rmse: 0.0440188\tvalid_0's l2: 0.00193766\tvalid_1's rmse: 0.0375279\tvalid_1's l2: 0.00140835\n",
      "[11]\tvalid_0's rmse: 0.0435701\tvalid_0's l2: 0.00189835\tvalid_1's rmse: 0.03739\tvalid_1's l2: 0.00139801\n",
      "[12]\tvalid_0's rmse: 0.0431907\tvalid_0's l2: 0.00186544\tvalid_1's rmse: 0.0371841\tvalid_1's l2: 0.00138266\n",
      "[13]\tvalid_0's rmse: 0.0428293\tvalid_0's l2: 0.00183435\tvalid_1's rmse: 0.0369241\tvalid_1's l2: 0.00136339\n",
      "[14]\tvalid_0's rmse: 0.0425426\tvalid_0's l2: 0.00180987\tvalid_1's rmse: 0.0366964\tvalid_1's l2: 0.00134663\n",
      "[15]\tvalid_0's rmse: 0.042077\tvalid_0's l2: 0.00177048\tvalid_1's rmse: 0.0364483\tvalid_1's l2: 0.00132848\n",
      "[16]\tvalid_0's rmse: 0.0415844\tvalid_0's l2: 0.00172926\tvalid_1's rmse: 0.0360389\tvalid_1's l2: 0.0012988\n",
      "[17]\tvalid_0's rmse: 0.0414055\tvalid_0's l2: 0.00171441\tvalid_1's rmse: 0.0358457\tvalid_1's l2: 0.00128491\n",
      "[18]\tvalid_0's rmse: 0.0410079\tvalid_0's l2: 0.00168165\tvalid_1's rmse: 0.035543\tvalid_1's l2: 0.00126331\n",
      "[19]\tvalid_0's rmse: 0.040717\tvalid_0's l2: 0.00165787\tvalid_1's rmse: 0.0355027\tvalid_1's l2: 0.00126044\n",
      "[20]\tvalid_0's rmse: 0.0403646\tvalid_0's l2: 0.0016293\tvalid_1's rmse: 0.0352595\tvalid_1's l2: 0.00124323\n",
      "[21]\tvalid_0's rmse: 0.040001\tvalid_0's l2: 0.00160008\tvalid_1's rmse: 0.0350008\tvalid_1's l2: 0.00122505\n",
      "[22]\tvalid_0's rmse: 0.0396612\tvalid_0's l2: 0.00157301\tvalid_1's rmse: 0.0347448\tvalid_1's l2: 0.0012072\n",
      "[23]\tvalid_0's rmse: 0.0392259\tvalid_0's l2: 0.00153867\tvalid_1's rmse: 0.0345691\tvalid_1's l2: 0.00119503\n",
      "[24]\tvalid_0's rmse: 0.0391087\tvalid_0's l2: 0.00152949\tvalid_1's rmse: 0.0345455\tvalid_1's l2: 0.00119339\n",
      "[25]\tvalid_0's rmse: 0.0388657\tvalid_0's l2: 0.00151054\tvalid_1's rmse: 0.0344023\tvalid_1's l2: 0.00118352\n",
      "[26]\tvalid_0's rmse: 0.0387478\tvalid_0's l2: 0.00150139\tvalid_1's rmse: 0.0343563\tvalid_1's l2: 0.00118036\n",
      "[27]\tvalid_0's rmse: 0.0385525\tvalid_0's l2: 0.0014863\tvalid_1's rmse: 0.0342398\tvalid_1's l2: 0.00117236\n",
      "[28]\tvalid_0's rmse: 0.038302\tvalid_0's l2: 0.00146704\tvalid_1's rmse: 0.0341406\tvalid_1's l2: 0.00116558\n",
      "[29]\tvalid_0's rmse: 0.0380244\tvalid_0's l2: 0.00144586\tvalid_1's rmse: 0.0339417\tvalid_1's l2: 0.00115204\n",
      "[30]\tvalid_0's rmse: 0.0379633\tvalid_0's l2: 0.00144121\tvalid_1's rmse: 0.0339184\tvalid_1's l2: 0.00115045\n",
      "[31]\tvalid_0's rmse: 0.0377958\tvalid_0's l2: 0.00142852\tvalid_1's rmse: 0.0338693\tvalid_1's l2: 0.00114713\n",
      "[32]\tvalid_0's rmse: 0.0376438\tvalid_0's l2: 0.00141706\tvalid_1's rmse: 0.0337189\tvalid_1's l2: 0.00113696\n",
      "[1]\tvalid_0's rmse: 0.0482671\tvalid_0's l2: 0.00232971\tvalid_1's rmse: 0.0409418\tvalid_1's l2: 0.00167623\n",
      "[2]\tvalid_0's rmse: 0.047143\tvalid_0's l2: 0.00222246\tvalid_1's rmse: 0.0399337\tvalid_1's l2: 0.0015947\n",
      "[3]\tvalid_0's rmse: 0.0462154\tvalid_0's l2: 0.00213587\tvalid_1's rmse: 0.0390963\tvalid_1's l2: 0.00152852\n",
      "[4]\tvalid_0's rmse: 0.0454522\tvalid_0's l2: 0.0020659\tvalid_1's rmse: 0.0384541\tvalid_1's l2: 0.00147872\n",
      "[5]\tvalid_0's rmse: 0.0448521\tvalid_0's l2: 0.00201171\tvalid_1's rmse: 0.0379616\tvalid_1's l2: 0.00144108\n",
      "[6]\tvalid_0's rmse: 0.044207\tvalid_0's l2: 0.00195426\tvalid_1's rmse: 0.0376234\tvalid_1's l2: 0.00141552\n",
      "[7]\tvalid_0's rmse: 0.0437472\tvalid_0's l2: 0.00191382\tvalid_1's rmse: 0.0372432\tvalid_1's l2: 0.00138705\n",
      "[8]\tvalid_0's rmse: 0.0433888\tvalid_0's l2: 0.00188259\tvalid_1's rmse: 0.03705\tvalid_1's l2: 0.0013727\n",
      "[9]\tvalid_0's rmse: 0.042955\tvalid_0's l2: 0.00184513\tvalid_1's rmse: 0.0368201\tvalid_1's l2: 0.00135572\n",
      "[10]\tvalid_0's rmse: 0.0425741\tvalid_0's l2: 0.00181255\tvalid_1's rmse: 0.0365884\tvalid_1's l2: 0.00133871\n",
      "[11]\tvalid_0's rmse: 0.0420529\tvalid_0's l2: 0.00176844\tvalid_1's rmse: 0.0364868\tvalid_1's l2: 0.00133128\n",
      "[12]\tvalid_0's rmse: 0.0418539\tvalid_0's l2: 0.00175175\tvalid_1's rmse: 0.0363661\tvalid_1's l2: 0.00132249\n",
      "[13]\tvalid_0's rmse: 0.0414056\tvalid_0's l2: 0.00171442\tvalid_1's rmse: 0.0363158\tvalid_1's l2: 0.00131884\n",
      "[14]\tvalid_0's rmse: 0.0411921\tvalid_0's l2: 0.00169679\tvalid_1's rmse: 0.0361921\tvalid_1's l2: 0.00130986\n",
      "[15]\tvalid_0's rmse: 0.0407669\tvalid_0's l2: 0.00166194\tvalid_1's rmse: 0.0361013\tvalid_1's l2: 0.0013033\n",
      "[16]\tvalid_0's rmse: 0.0403203\tvalid_0's l2: 0.00162573\tvalid_1's rmse: 0.0359146\tvalid_1's l2: 0.00128986\n",
      "[17]\tvalid_0's rmse: 0.0401606\tvalid_0's l2: 0.00161287\tvalid_1's rmse: 0.0357938\tvalid_1's l2: 0.0012812\n",
      "[18]\tvalid_0's rmse: 0.0398688\tvalid_0's l2: 0.00158952\tvalid_1's rmse: 0.0358064\tvalid_1's l2: 0.0012821\n",
      "[19]\tvalid_0's rmse: 0.0396071\tvalid_0's l2: 0.00156872\tvalid_1's rmse: 0.0355378\tvalid_1's l2: 0.00126294\n",
      "[20]\tvalid_0's rmse: 0.0393291\tvalid_0's l2: 0.00154678\tvalid_1's rmse: 0.0354537\tvalid_1's l2: 0.00125696\n",
      "[21]\tvalid_0's rmse: 0.0390956\tvalid_0's l2: 0.00152847\tvalid_1's rmse: 0.0354511\tvalid_1's l2: 0.00125678\n",
      "[22]\tvalid_0's rmse: 0.0389671\tvalid_0's l2: 0.00151843\tvalid_1's rmse: 0.0353656\tvalid_1's l2: 0.00125073\n",
      "[23]\tvalid_0's rmse: 0.0386787\tvalid_0's l2: 0.00149604\tvalid_1's rmse: 0.0352894\tvalid_1's l2: 0.00124534\n",
      "[24]\tvalid_0's rmse: 0.0385701\tvalid_0's l2: 0.00148766\tvalid_1's rmse: 0.0352931\tvalid_1's l2: 0.0012456\n",
      "[25]\tvalid_0's rmse: 0.0384219\tvalid_0's l2: 0.00147624\tvalid_1's rmse: 0.0352389\tvalid_1's l2: 0.00124178\n",
      "[26]\tvalid_0's rmse: 0.0383652\tvalid_0's l2: 0.00147189\tvalid_1's rmse: 0.03518\tvalid_1's l2: 0.00123763\n",
      "[27]\tvalid_0's rmse: 0.0381944\tvalid_0's l2: 0.00145881\tvalid_1's rmse: 0.0350742\tvalid_1's l2: 0.0012302\n",
      "[28]\tvalid_0's rmse: 0.0379767\tvalid_0's l2: 0.00144223\tvalid_1's rmse: 0.0349182\tvalid_1's l2: 0.00121928\n",
      "[29]\tvalid_0's rmse: 0.0379317\tvalid_0's l2: 0.00143881\tvalid_1's rmse: 0.0349589\tvalid_1's l2: 0.00122213\n",
      "[30]\tvalid_0's rmse: 0.0377443\tvalid_0's l2: 0.00142463\tvalid_1's rmse: 0.034937\tvalid_1's l2: 0.00122059\n",
      "[31]\tvalid_0's rmse: 0.0374833\tvalid_0's l2: 0.001405\tvalid_1's rmse: 0.0348089\tvalid_1's l2: 0.00121166\n",
      "[32]\tvalid_0's rmse: 0.0373863\tvalid_0's l2: 0.00139773\tvalid_1's rmse: 0.0348269\tvalid_1's l2: 0.00121292[1]\ttraining's rmse: 0.0483217\ttraining's l2: 0.00233499\tvalid_1's rmse: 0.0409012\tvalid_1's l2: 0.00167291\n",
      "[2]\ttraining's rmse: 0.0472784\ttraining's l2: 0.00223525\tvalid_1's rmse: 0.0398936\tvalid_1's l2: 0.0015915\n",
      "[3]\ttraining's rmse: 0.0463868\ttraining's l2: 0.00215173\tvalid_1's rmse: 0.0391535\tvalid_1's l2: 0.001533\n",
      "[4]\ttraining's rmse: 0.045469\ttraining's l2: 0.00206743\tvalid_1's rmse: 0.0385174\tvalid_1's l2: 0.00148359\n",
      "[5]\ttraining's rmse: 0.0447366\ttraining's l2: 0.00200136\tvalid_1's rmse: 0.0378813\tvalid_1's l2: 0.00143499\n",
      "[6]\ttraining's rmse: 0.0440445\ttraining's l2: 0.00193992\tvalid_1's rmse: 0.0373037\tvalid_1's l2: 0.00139157\n",
      "[7]\ttraining's rmse: 0.0434089\ttraining's l2: 0.00188433\tvalid_1's rmse: 0.036922\tvalid_1's l2: 0.00136323\n",
      "[8]\ttraining's rmse: 0.0427303\ttraining's l2: 0.00182588\tvalid_1's rmse: 0.0366302\tvalid_1's l2: 0.00134177\n",
      "[9]\ttraining's rmse: 0.0422004\ttraining's l2: 0.00178088\tvalid_1's rmse: 0.0361673\tvalid_1's l2: 0.00130808\n"
     ]
    },
    {
     "name": "stdout",
     "output_type": "stream",
     "text": [
      "[10]\ttraining's rmse: 0.041532\ttraining's l2: 0.00172491\tvalid_1's rmse: 0.0358562\tvalid_1's l2: 0.00128567\n",
      "[11]\ttraining's rmse: 0.0410985\ttraining's l2: 0.00168909\tvalid_1's rmse: 0.0356145\tvalid_1's l2: 0.00126839\n",
      "[12]\ttraining's rmse: 0.0405441\ttraining's l2: 0.00164382\tvalid_1's rmse: 0.0353921\tvalid_1's l2: 0.0012526\n",
      "[13]\ttraining's rmse: 0.0401407\ttraining's l2: 0.00161127\tvalid_1's rmse: 0.035054\tvalid_1's l2: 0.00122878\n",
      "[14]\ttraining's rmse: 0.0396588\ttraining's l2: 0.00157282\tvalid_1's rmse: 0.0346973\tvalid_1's l2: 0.0012039\n",
      "[15]\ttraining's rmse: 0.0393135\ttraining's l2: 0.00154555\tvalid_1's rmse: 0.0344809\tvalid_1's l2: 0.00118893\n",
      "[16]\ttraining's rmse: 0.0389392\ttraining's l2: 0.00151626\tvalid_1's rmse: 0.034393\tvalid_1's l2: 0.00118288\n",
      "[17]\ttraining's rmse: 0.0385384\ttraining's l2: 0.00148521\tvalid_1's rmse: 0.0341835\tvalid_1's l2: 0.00116851\n",
      "[18]\ttraining's rmse: 0.038268\ttraining's l2: 0.00146444\tvalid_1's rmse: 0.0340864\tvalid_1's l2: 0.00116188\n",
      "[19]\ttraining's rmse: 0.038006\ttraining's l2: 0.00144446\tvalid_1's rmse: 0.0338756\tvalid_1's l2: 0.00114755\n",
      "[20]\ttraining's rmse: 0.0375962\ttraining's l2: 0.00141348\tvalid_1's rmse: 0.0336469\tvalid_1's l2: 0.00113211\n",
      "[21]\ttraining's rmse: 0.0371673\ttraining's l2: 0.00138141\tvalid_1's rmse: 0.0335941\tvalid_1's l2: 0.00112856\n",
      "[22]\ttraining's rmse: 0.0368911\ttraining's l2: 0.00136095\tvalid_1's rmse: 0.033537\tvalid_1's l2: 0.00112473\n",
      "[23]\ttraining's rmse: 0.0366267\ttraining's l2: 0.00134151\tvalid_1's rmse: 0.0333985\tvalid_1's l2: 0.00111546\n",
      "[24]\ttraining's rmse: 0.0364166\ttraining's l2: 0.00132617\tvalid_1's rmse: 0.033375\tvalid_1's l2: 0.00111389\n",
      "[25]\ttraining's rmse: 0.0361808\ttraining's l2: 0.00130905\tvalid_1's rmse: 0.0332003\tvalid_1's l2: 0.00110226\n",
      "[26]\ttraining's rmse: 0.0359088\ttraining's l2: 0.00128944\tvalid_1's rmse: 0.0330609\tvalid_1's l2: 0.00109303\n",
      "[27]\ttraining's rmse: 0.0356854\ttraining's l2: 0.00127344\tvalid_1's rmse: 0.0329607\tvalid_1's l2: 0.00108641\n",
      "[28]\ttraining's rmse: 0.0355325\ttraining's l2: 0.00126256\tvalid_1's rmse: 0.0329618\tvalid_1's l2: 0.00108648\n",
      "[29]\ttraining's rmse: 0.0353141\ttraining's l2: 0.00124709\tvalid_1's rmse: 0.0328584\tvalid_1's l2: 0.00107967\n",
      "[30]\ttraining's rmse: 0.0350725\ttraining's l2: 0.00123008\tvalid_1's rmse: 0.0327685\tvalid_1's l2: 0.00107377\n",
      "[31]\ttraining's rmse: 0.0348918\ttraining's l2: 0.00121744\tvalid_1's rmse: 0.0327378\tvalid_1's l2: 0.00107176\n",
      "[32]\ttraining's rmse: 0.0348072\ttraining's l2: 0.00121154\tvalid_1's rmse: 0.0327235\tvalid_1's l2: 0.00107083\n",
      "[33]\ttraining's rmse: 0.0346416\ttraining's l2: 0.00120004\tvalid_1's rmse: 0.032661\tvalid_1's l2: 0.00106674\n",
      "[34]\ttraining's rmse: 0.0345026\ttraining's l2: 0.00119043\tvalid_1's rmse: 0.0325484\tvalid_1's l2: 0.0010594\n",
      "[35]\ttraining's rmse: 0.0344083\ttraining's l2: 0.00118393\tvalid_1's rmse: 0.0325249\tvalid_1's l2: 0.00105787\n",
      "[36]\ttraining's rmse: 0.0342551\ttraining's l2: 0.00117341\tvalid_1's rmse: 0.0324764\tvalid_1's l2: 0.00105472\n",
      "[37]\ttraining's rmse: 0.0340905\ttraining's l2: 0.00116216\tvalid_1's rmse: 0.0323789\tvalid_1's l2: 0.00104839\n",
      "[38]\ttraining's rmse: 0.0340028\ttraining's l2: 0.00115619\tvalid_1's rmse: 0.0324025\tvalid_1's l2: 0.00104992\n",
      "CPU times: user 433 ms, sys: 9.92 ms, total: 443 ms\n",
      "Wall time: 335 ms\n"
     ]
    },
    {
     "name": "stderr",
     "output_type": "stream",
     "text": [
      "/home/intra26/.local/lib/python3.7/site-packages/lightgbm/sklearn.py:598: UserWarning: 'silent' argument is deprecated and will be removed in a future release of LightGBM. Pass 'verbose' parameter via keyword arguments instead.\n",
      "  _log_warning(\"'silent' argument is deprecated and will be removed in a future release of LightGBM. \"\n",
      "/home/intra26/.local/lib/python3.7/site-packages/lightgbm/sklearn.py:726: UserWarning: 'early_stopping_rounds' argument is deprecated and will be removed in a future release of LightGBM. Pass 'early_stopping()' callback via 'callbacks' argument instead.\n",
      "  _log_warning(\"'early_stopping_rounds' argument is deprecated and will be removed in a future release of LightGBM. \"\n",
      "/home/intra26/.local/lib/python3.7/site-packages/lightgbm/sklearn.py:598: UserWarning: 'silent' argument is deprecated and will be removed in a future release of LightGBM. Pass 'verbose' parameter via keyword arguments instead.\n",
      "  _log_warning(\"'silent' argument is deprecated and will be removed in a future release of LightGBM. \"\n",
      "/home/intra26/.local/lib/python3.7/site-packages/lightgbm/sklearn.py:726: UserWarning: 'early_stopping_rounds' argument is deprecated and will be removed in a future release of LightGBM. Pass 'early_stopping()' callback via 'callbacks' argument instead.\n",
      "  _log_warning(\"'early_stopping_rounds' argument is deprecated and will be removed in a future release of LightGBM. \"\n",
      "/home/intra26/.local/lib/python3.7/site-packages/lightgbm/sklearn.py:598: UserWarning: 'silent' argument is deprecated and will be removed in a future release of LightGBM. Pass 'verbose' parameter via keyword arguments instead.\n",
      "  _log_warning(\"'silent' argument is deprecated and will be removed in a future release of LightGBM. \"\n",
      "/home/intra26/.local/lib/python3.7/site-packages/lightgbm/sklearn.py:726: UserWarning: 'early_stopping_rounds' argument is deprecated and will be removed in a future release of LightGBM. Pass 'early_stopping()' callback via 'callbacks' argument instead.\n",
      "  _log_warning(\"'early_stopping_rounds' argument is deprecated and will be removed in a future release of LightGBM. \"\n",
      "/home/intra26/.local/lib/python3.7/site-packages/lightgbm/sklearn.py:598: UserWarning: 'silent' argument is deprecated and will be removed in a future release of LightGBM. Pass 'verbose' parameter via keyword arguments instead.\n",
      "  _log_warning(\"'silent' argument is deprecated and will be removed in a future release of LightGBM. \"\n",
      "/home/intra26/.local/lib/python3.7/site-packages/lightgbm/sklearn.py:726: UserWarning: 'early_stopping_rounds' argument is deprecated and will be removed in a future release of LightGBM. Pass 'early_stopping()' callback via 'callbacks' argument instead.\n",
      "  _log_warning(\"'early_stopping_rounds' argument is deprecated and will be removed in a future release of LightGBM. \"\n",
      "/home/intra26/.local/lib/python3.7/site-packages/lightgbm/sklearn.py:598: UserWarning: 'silent' argument is deprecated and will be removed in a future release of LightGBM. Pass 'verbose' parameter via keyword arguments instead.\n",
      "  _log_warning(\"'silent' argument is deprecated and will be removed in a future release of LightGBM. \"\n",
      "/home/intra26/.local/lib/python3.7/site-packages/lightgbm/sklearn.py:726: UserWarning: 'early_stopping_rounds' argument is deprecated and will be removed in a future release of LightGBM. Pass 'early_stopping()' callback via 'callbacks' argument instead.\n",
      "  _log_warning(\"'early_stopping_rounds' argument is deprecated and will be removed in a future release of LightGBM. \"\n",
      "/home/intra26/.local/lib/python3.7/site-packages/lightgbm/sklearn.py:598: UserWarning: 'silent' argument is deprecated and will be removed in a future release of LightGBM. Pass 'verbose' parameter via keyword arguments instead.\n",
      "  _log_warning(\"'silent' argument is deprecated and will be removed in a future release of LightGBM. \"\n",
      "/home/intra26/.local/lib/python3.7/site-packages/lightgbm/sklearn.py:726: UserWarning: 'early_stopping_rounds' argument is deprecated and will be removed in a future release of LightGBM. Pass 'early_stopping()' callback via 'callbacks' argument instead.\n",
      "  _log_warning(\"'early_stopping_rounds' argument is deprecated and will be removed in a future release of LightGBM. \"\n",
      "/home/intra26/.local/lib/python3.7/site-packages/lightgbm/sklearn.py:598: UserWarning: 'silent' argument is deprecated and will be removed in a future release of LightGBM. Pass 'verbose' parameter via keyword arguments instead.\n",
      "  _log_warning(\"'silent' argument is deprecated and will be removed in a future release of LightGBM. \"\n",
      "/home/intra26/.local/lib/python3.7/site-packages/lightgbm/sklearn.py:726: UserWarning: 'early_stopping_rounds' argument is deprecated and will be removed in a future release of LightGBM. Pass 'early_stopping()' callback via 'callbacks' argument instead.\n",
      "  _log_warning(\"'early_stopping_rounds' argument is deprecated and will be removed in a future release of LightGBM. \"\n",
      "/home/intra26/.local/lib/python3.7/site-packages/lightgbm/sklearn.py:598: UserWarning: 'silent' argument is deprecated and will be removed in a future release of LightGBM. Pass 'verbose' parameter via keyword arguments instead.\n",
      "  _log_warning(\"'silent' argument is deprecated and will be removed in a future release of LightGBM. \"\n",
      "/home/intra26/.local/lib/python3.7/site-packages/lightgbm/sklearn.py:726: UserWarning: 'early_stopping_rounds' argument is deprecated and will be removed in a future release of LightGBM. Pass 'early_stopping()' callback via 'callbacks' argument instead.\n",
      "  _log_warning(\"'early_stopping_rounds' argument is deprecated and will be removed in a future release of LightGBM. \"\n",
      "/home/intra26/.local/lib/python3.7/site-packages/lightgbm/sklearn.py:598: UserWarning: 'silent' argument is deprecated and will be removed in a future release of LightGBM. Pass 'verbose' parameter via keyword arguments instead.\n",
      "  _log_warning(\"'silent' argument is deprecated and will be removed in a future release of LightGBM. \"\n",
      "/home/intra26/.local/lib/python3.7/site-packages/lightgbm/sklearn.py:726: UserWarning: 'early_stopping_rounds' argument is deprecated and will be removed in a future release of LightGBM. Pass 'early_stopping()' callback via 'callbacks' argument instead.\n",
      "  _log_warning(\"'early_stopping_rounds' argument is deprecated and will be removed in a future release of LightGBM. \"\n",
      "/home/intra26/.local/lib/python3.7/site-packages/lightgbm/sklearn.py:598: UserWarning: 'silent' argument is deprecated and will be removed in a future release of LightGBM. Pass 'verbose' parameter via keyword arguments instead.\n",
      "  _log_warning(\"'silent' argument is deprecated and will be removed in a future release of LightGBM. \"\n",
      "/home/intra26/.local/lib/python3.7/site-packages/lightgbm/sklearn.py:726: UserWarning: 'early_stopping_rounds' argument is deprecated and will be removed in a future release of LightGBM. Pass 'early_stopping()' callback via 'callbacks' argument instead.\n",
      "  _log_warning(\"'early_stopping_rounds' argument is deprecated and will be removed in a future release of LightGBM. \"\n",
      "/home/intra26/.local/lib/python3.7/site-packages/lightgbm/sklearn.py:598: UserWarning: 'silent' argument is deprecated and will be removed in a future release of LightGBM. Pass 'verbose' parameter via keyword arguments instead.\n",
      "  _log_warning(\"'silent' argument is deprecated and will be removed in a future release of LightGBM. \"\n",
      "/home/intra26/.local/lib/python3.7/site-packages/lightgbm/sklearn.py:726: UserWarning: 'early_stopping_rounds' argument is deprecated and will be removed in a future release of LightGBM. Pass 'early_stopping()' callback via 'callbacks' argument instead.\n",
      "  _log_warning(\"'early_stopping_rounds' argument is deprecated and will be removed in a future release of LightGBM. \"\n",
      "/home/intra26/.local/lib/python3.7/site-packages/lightgbm/sklearn.py:598: UserWarning: 'silent' argument is deprecated and will be removed in a future release of LightGBM. Pass 'verbose' parameter via keyword arguments instead.\n",
      "  _log_warning(\"'silent' argument is deprecated and will be removed in a future release of LightGBM. \"\n",
      "/home/intra26/.local/lib/python3.7/site-packages/lightgbm/sklearn.py:726: UserWarning: 'early_stopping_rounds' argument is deprecated and will be removed in a future release of LightGBM. Pass 'early_stopping()' callback via 'callbacks' argument instead.\n",
      "  _log_warning(\"'early_stopping_rounds' argument is deprecated and will be removed in a future release of LightGBM. \"\n",
      "/home/intra26/.local/lib/python3.7/site-packages/lightgbm/sklearn.py:598: UserWarning: 'silent' argument is deprecated and will be removed in a future release of LightGBM. Pass 'verbose' parameter via keyword arguments instead.\n",
      "  _log_warning(\"'silent' argument is deprecated and will be removed in a future release of LightGBM. \"\n",
      "/home/intra26/.local/lib/python3.7/site-packages/lightgbm/sklearn.py:726: UserWarning: 'early_stopping_rounds' argument is deprecated and will be removed in a future release of LightGBM. Pass 'early_stopping()' callback via 'callbacks' argument instead.\n",
      "  _log_warning(\"'early_stopping_rounds' argument is deprecated and will be removed in a future release of LightGBM. \"\n",
      "/home/intra26/.local/lib/python3.7/site-packages/lightgbm/sklearn.py:598: UserWarning: 'silent' argument is deprecated and will be removed in a future release of LightGBM. Pass 'verbose' parameter via keyword arguments instead.\n",
      "  _log_warning(\"'silent' argument is deprecated and will be removed in a future release of LightGBM. \"\n",
      "/home/intra26/.local/lib/python3.7/site-packages/lightgbm/sklearn.py:726: UserWarning: 'early_stopping_rounds' argument is deprecated and will be removed in a future release of LightGBM. Pass 'early_stopping()' callback via 'callbacks' argument instead.\n",
      "  _log_warning(\"'early_stopping_rounds' argument is deprecated and will be removed in a future release of LightGBM. \"\n",
      "/home/intra26/.local/lib/python3.7/site-packages/lightgbm/sklearn.py:598: UserWarning: 'silent' argument is deprecated and will be removed in a future release of LightGBM. Pass 'verbose' parameter via keyword arguments instead.\n",
      "  _log_warning(\"'silent' argument is deprecated and will be removed in a future release of LightGBM. \"\n",
      "/home/intra26/.local/lib/python3.7/site-packages/lightgbm/sklearn.py:726: UserWarning: 'early_stopping_rounds' argument is deprecated and will be removed in a future release of LightGBM. Pass 'early_stopping()' callback via 'callbacks' argument instead.\n",
      "  _log_warning(\"'early_stopping_rounds' argument is deprecated and will be removed in a future release of LightGBM. \"\n",
      "/home/intra26/.local/lib/python3.7/site-packages/lightgbm/sklearn.py:598: UserWarning: 'silent' argument is deprecated and will be removed in a future release of LightGBM. Pass 'verbose' parameter via keyword arguments instead.\n",
      "  _log_warning(\"'silent' argument is deprecated and will be removed in a future release of LightGBM. \"\n",
      "/home/intra26/.local/lib/python3.7/site-packages/lightgbm/sklearn.py:726: UserWarning: 'early_stopping_rounds' argument is deprecated and will be removed in a future release of LightGBM. Pass 'early_stopping()' callback via 'callbacks' argument instead.\n",
      "  _log_warning(\"'early_stopping_rounds' argument is deprecated and will be removed in a future release of LightGBM. \"\n",
      "/home/intra26/.local/lib/python3.7/site-packages/lightgbm/sklearn.py:598: UserWarning: 'silent' argument is deprecated and will be removed in a future release of LightGBM. Pass 'verbose' parameter via keyword arguments instead.\n",
      "  _log_warning(\"'silent' argument is deprecated and will be removed in a future release of LightGBM. \"\n",
      "/home/intra26/.local/lib/python3.7/site-packages/lightgbm/sklearn.py:726: UserWarning: 'early_stopping_rounds' argument is deprecated and will be removed in a future release of LightGBM. Pass 'early_stopping()' callback via 'callbacks' argument instead.\n",
      "  _log_warning(\"'early_stopping_rounds' argument is deprecated and will be removed in a future release of LightGBM. \"\n",
      "/home/intra26/.local/lib/python3.7/site-packages/lightgbm/sklearn.py:598: UserWarning: 'silent' argument is deprecated and will be removed in a future release of LightGBM. Pass 'verbose' parameter via keyword arguments instead.\n",
      "  _log_warning(\"'silent' argument is deprecated and will be removed in a future release of LightGBM. \"\n",
      "/home/intra26/.local/lib/python3.7/site-packages/lightgbm/sklearn.py:726: UserWarning: 'early_stopping_rounds' argument is deprecated and will be removed in a future release of LightGBM. Pass 'early_stopping()' callback via 'callbacks' argument instead.\n",
      "  _log_warning(\"'early_stopping_rounds' argument is deprecated and will be removed in a future release of LightGBM. \"\n",
      "/home/intra26/.local/lib/python3.7/site-packages/lightgbm/sklearn.py:598: UserWarning: 'silent' argument is deprecated and will be removed in a future release of LightGBM. Pass 'verbose' parameter via keyword arguments instead.\n",
      "  _log_warning(\"'silent' argument is deprecated and will be removed in a future release of LightGBM. \"\n",
      "/home/intra26/.local/lib/python3.7/site-packages/lightgbm/sklearn.py:726: UserWarning: 'early_stopping_rounds' argument is deprecated and will be removed in a future release of LightGBM. Pass 'early_stopping()' callback via 'callbacks' argument instead.\n",
      "  _log_warning(\"'early_stopping_rounds' argument is deprecated and will be removed in a future release of LightGBM. \"\n",
      "/home/intra26/.local/lib/python3.7/site-packages/lightgbm/sklearn.py:598: UserWarning: 'silent' argument is deprecated and will be removed in a future release of LightGBM. Pass 'verbose' parameter via keyword arguments instead.\n",
      "  _log_warning(\"'silent' argument is deprecated and will be removed in a future release of LightGBM. \"\n",
      "/home/intra26/.local/lib/python3.7/site-packages/lightgbm/sklearn.py:726: UserWarning: 'early_stopping_rounds' argument is deprecated and will be removed in a future release of LightGBM. Pass 'early_stopping()' callback via 'callbacks' argument instead.\n",
      "  _log_warning(\"'early_stopping_rounds' argument is deprecated and will be removed in a future release of LightGBM. \"\n",
      "/home/intra26/.local/lib/python3.7/site-packages/lightgbm/sklearn.py:598: UserWarning: 'silent' argument is deprecated and will be removed in a future release of LightGBM. Pass 'verbose' parameter via keyword arguments instead.\n",
      "  _log_warning(\"'silent' argument is deprecated and will be removed in a future release of LightGBM. \"\n",
      "/home/intra26/.local/lib/python3.7/site-packages/lightgbm/sklearn.py:726: UserWarning: 'early_stopping_rounds' argument is deprecated and will be removed in a future release of LightGBM. Pass 'early_stopping()' callback via 'callbacks' argument instead.\n",
      "  _log_warning(\"'early_stopping_rounds' argument is deprecated and will be removed in a future release of LightGBM. \"\n",
      "/home/intra26/.local/lib/python3.7/site-packages/lightgbm/sklearn.py:598: UserWarning: 'silent' argument is deprecated and will be removed in a future release of LightGBM. Pass 'verbose' parameter via keyword arguments instead.\n",
      "  _log_warning(\"'silent' argument is deprecated and will be removed in a future release of LightGBM. \"\n",
      "/home/intra26/.local/lib/python3.7/site-packages/lightgbm/sklearn.py:726: UserWarning: 'early_stopping_rounds' argument is deprecated and will be removed in a future release of LightGBM. Pass 'early_stopping()' callback via 'callbacks' argument instead.\n",
      "  _log_warning(\"'early_stopping_rounds' argument is deprecated and will be removed in a future release of LightGBM. \"\n",
      "/home/intra26/.local/lib/python3.7/site-packages/lightgbm/sklearn.py:598: UserWarning: 'silent' argument is deprecated and will be removed in a future release of LightGBM. Pass 'verbose' parameter via keyword arguments instead.\n",
      "  _log_warning(\"'silent' argument is deprecated and will be removed in a future release of LightGBM. \"\n",
      "/home/intra26/.local/lib/python3.7/site-packages/lightgbm/sklearn.py:726: UserWarning: 'early_stopping_rounds' argument is deprecated and will be removed in a future release of LightGBM. Pass 'early_stopping()' callback via 'callbacks' argument instead.\n",
      "  _log_warning(\"'early_stopping_rounds' argument is deprecated and will be removed in a future release of LightGBM. \"\n",
      "/home/intra26/.local/lib/python3.7/site-packages/lightgbm/sklearn.py:598: UserWarning: 'silent' argument is deprecated and will be removed in a future release of LightGBM. Pass 'verbose' parameter via keyword arguments instead.\n",
      "  _log_warning(\"'silent' argument is deprecated and will be removed in a future release of LightGBM. \"\n",
      "/home/intra26/.local/lib/python3.7/site-packages/lightgbm/sklearn.py:726: UserWarning: 'early_stopping_rounds' argument is deprecated and will be removed in a future release of LightGBM. Pass 'early_stopping()' callback via 'callbacks' argument instead.\n",
      "  _log_warning(\"'early_stopping_rounds' argument is deprecated and will be removed in a future release of LightGBM. \"\n",
      "/home/intra26/.local/lib/python3.7/site-packages/lightgbm/sklearn.py:598: UserWarning: 'silent' argument is deprecated and will be removed in a future release of LightGBM. Pass 'verbose' parameter via keyword arguments instead.\n",
      "  _log_warning(\"'silent' argument is deprecated and will be removed in a future release of LightGBM. \"\n",
      "/home/intra26/.local/lib/python3.7/site-packages/lightgbm/sklearn.py:726: UserWarning: 'early_stopping_rounds' argument is deprecated and will be removed in a future release of LightGBM. Pass 'early_stopping()' callback via 'callbacks' argument instead.\n",
      "  _log_warning(\"'early_stopping_rounds' argument is deprecated and will be removed in a future release of LightGBM. \"\n",
      "/home/intra26/.local/lib/python3.7/site-packages/lightgbm/sklearn.py:598: UserWarning: 'silent' argument is deprecated and will be removed in a future release of LightGBM. Pass 'verbose' parameter via keyword arguments instead.\n",
      "  _log_warning(\"'silent' argument is deprecated and will be removed in a future release of LightGBM. \"\n",
      "/home/intra26/.local/lib/python3.7/site-packages/lightgbm/sklearn.py:726: UserWarning: 'early_stopping_rounds' argument is deprecated and will be removed in a future release of LightGBM. Pass 'early_stopping()' callback via 'callbacks' argument instead.\n",
      "  _log_warning(\"'early_stopping_rounds' argument is deprecated and will be removed in a future release of LightGBM. \"\n",
      "/home/intra26/.local/lib/python3.7/site-packages/lightgbm/sklearn.py:598: UserWarning: 'silent' argument is deprecated and will be removed in a future release of LightGBM. Pass 'verbose' parameter via keyword arguments instead.\n",
      "  _log_warning(\"'silent' argument is deprecated and will be removed in a future release of LightGBM. \"\n",
      "/home/intra26/.local/lib/python3.7/site-packages/lightgbm/sklearn.py:726: UserWarning: 'early_stopping_rounds' argument is deprecated and will be removed in a future release of LightGBM. Pass 'early_stopping()' callback via 'callbacks' argument instead.\n",
      "  _log_warning(\"'early_stopping_rounds' argument is deprecated and will be removed in a future release of LightGBM. \"\n",
      "/home/intra26/.local/lib/python3.7/site-packages/lightgbm/sklearn.py:598: UserWarning: 'silent' argument is deprecated and will be removed in a future release of LightGBM. Pass 'verbose' parameter via keyword arguments instead.\n",
      "  _log_warning(\"'silent' argument is deprecated and will be removed in a future release of LightGBM. \"\n",
      "/home/intra26/.local/lib/python3.7/site-packages/lightgbm/sklearn.py:726: UserWarning: 'early_stopping_rounds' argument is deprecated and will be removed in a future release of LightGBM. Pass 'early_stopping()' callback via 'callbacks' argument instead.\n",
      "  _log_warning(\"'early_stopping_rounds' argument is deprecated and will be removed in a future release of LightGBM. \"\n",
      "/home/intra26/.local/lib/python3.7/site-packages/lightgbm/sklearn.py:598: UserWarning: 'silent' argument is deprecated and will be removed in a future release of LightGBM. Pass 'verbose' parameter via keyword arguments instead.\n",
      "  _log_warning(\"'silent' argument is deprecated and will be removed in a future release of LightGBM. \"\n",
      "/home/intra26/.local/lib/python3.7/site-packages/lightgbm/sklearn.py:726: UserWarning: 'early_stopping_rounds' argument is deprecated and will be removed in a future release of LightGBM. Pass 'early_stopping()' callback via 'callbacks' argument instead.\n",
      "  _log_warning(\"'early_stopping_rounds' argument is deprecated and will be removed in a future release of LightGBM. \"\n",
      "/home/intra26/.local/lib/python3.7/site-packages/lightgbm/sklearn.py:598: UserWarning: 'silent' argument is deprecated and will be removed in a future release of LightGBM. Pass 'verbose' parameter via keyword arguments instead.\n",
      "  _log_warning(\"'silent' argument is deprecated and will be removed in a future release of LightGBM. \"\n",
      "/home/intra26/.local/lib/python3.7/site-packages/lightgbm/sklearn.py:726: UserWarning: 'early_stopping_rounds' argument is deprecated and will be removed in a future release of LightGBM. Pass 'early_stopping()' callback via 'callbacks' argument instead.\n",
      "  _log_warning(\"'early_stopping_rounds' argument is deprecated and will be removed in a future release of LightGBM. \"\n",
      "/home/intra26/.local/lib/python3.7/site-packages/lightgbm/sklearn.py:598: UserWarning: 'silent' argument is deprecated and will be removed in a future release of LightGBM. Pass 'verbose' parameter via keyword arguments instead.\n",
      "  _log_warning(\"'silent' argument is deprecated and will be removed in a future release of LightGBM. \"\n",
      "/home/intra26/.local/lib/python3.7/site-packages/lightgbm/sklearn.py:726: UserWarning: 'early_stopping_rounds' argument is deprecated and will be removed in a future release of LightGBM. Pass 'early_stopping()' callback via 'callbacks' argument instead.\n",
      "  _log_warning(\"'early_stopping_rounds' argument is deprecated and will be removed in a future release of LightGBM. \"\n",
      "/home/intra26/.local/lib/python3.7/site-packages/lightgbm/sklearn.py:598: UserWarning: 'silent' argument is deprecated and will be removed in a future release of LightGBM. Pass 'verbose' parameter via keyword arguments instead.\n",
      "  _log_warning(\"'silent' argument is deprecated and will be removed in a future release of LightGBM. \"\n",
      "/home/intra26/.local/lib/python3.7/site-packages/lightgbm/sklearn.py:726: UserWarning: 'early_stopping_rounds' argument is deprecated and will be removed in a future release of LightGBM. Pass 'early_stopping()' callback via 'callbacks' argument instead.\n",
      "  _log_warning(\"'early_stopping_rounds' argument is deprecated and will be removed in a future release of LightGBM. \"\n",
      "/home/intra26/.local/lib/python3.7/site-packages/lightgbm/sklearn.py:598: UserWarning: 'silent' argument is deprecated and will be removed in a future release of LightGBM. Pass 'verbose' parameter via keyword arguments instead.\n",
      "  _log_warning(\"'silent' argument is deprecated and will be removed in a future release of LightGBM. \"\n",
      "/home/intra26/.local/lib/python3.7/site-packages/lightgbm/sklearn.py:726: UserWarning: 'early_stopping_rounds' argument is deprecated and will be removed in a future release of LightGBM. Pass 'early_stopping()' callback via 'callbacks' argument instead.\n",
      "  _log_warning(\"'early_stopping_rounds' argument is deprecated and will be removed in a future release of LightGBM. \"\n",
      "/home/intra26/.local/lib/python3.7/site-packages/lightgbm/sklearn.py:598: UserWarning: 'silent' argument is deprecated and will be removed in a future release of LightGBM. Pass 'verbose' parameter via keyword arguments instead.\n",
      "  _log_warning(\"'silent' argument is deprecated and will be removed in a future release of LightGBM. \"\n",
      "/home/intra26/.local/lib/python3.7/site-packages/lightgbm/sklearn.py:726: UserWarning: 'early_stopping_rounds' argument is deprecated and will be removed in a future release of LightGBM. Pass 'early_stopping()' callback via 'callbacks' argument instead.\n",
      "  _log_warning(\"'early_stopping_rounds' argument is deprecated and will be removed in a future release of LightGBM. \"\n",
      "/home/intra26/.local/lib/python3.7/site-packages/lightgbm/sklearn.py:598: UserWarning: 'silent' argument is deprecated and will be removed in a future release of LightGBM. Pass 'verbose' parameter via keyword arguments instead.\n",
      "  _log_warning(\"'silent' argument is deprecated and will be removed in a future release of LightGBM. \"\n",
      "/home/intra26/.local/lib/python3.7/site-packages/lightgbm/sklearn.py:726: UserWarning: 'early_stopping_rounds' argument is deprecated and will be removed in a future release of LightGBM. Pass 'early_stopping()' callback via 'callbacks' argument instead.\n",
      "  _log_warning(\"'early_stopping_rounds' argument is deprecated and will be removed in a future release of LightGBM. \"\n",
      "/home/intra26/.local/lib/python3.7/site-packages/lightgbm/sklearn.py:598: UserWarning: 'silent' argument is deprecated and will be removed in a future release of LightGBM. Pass 'verbose' parameter via keyword arguments instead.\n",
      "  _log_warning(\"'silent' argument is deprecated and will be removed in a future release of LightGBM. \"\n",
      "/home/intra26/.local/lib/python3.7/site-packages/lightgbm/sklearn.py:726: UserWarning: 'early_stopping_rounds' argument is deprecated and will be removed in a future release of LightGBM. Pass 'early_stopping()' callback via 'callbacks' argument instead.\n",
      "  _log_warning(\"'early_stopping_rounds' argument is deprecated and will be removed in a future release of LightGBM. \"\n",
      "/home/intra26/.local/lib/python3.7/site-packages/lightgbm/sklearn.py:598: UserWarning: 'silent' argument is deprecated and will be removed in a future release of LightGBM. Pass 'verbose' parameter via keyword arguments instead.\n",
      "  _log_warning(\"'silent' argument is deprecated and will be removed in a future release of LightGBM. \"\n",
      "/home/intra26/.local/lib/python3.7/site-packages/lightgbm/sklearn.py:726: UserWarning: 'early_stopping_rounds' argument is deprecated and will be removed in a future release of LightGBM. Pass 'early_stopping()' callback via 'callbacks' argument instead.\n",
      "  _log_warning(\"'early_stopping_rounds' argument is deprecated and will be removed in a future release of LightGBM. \"\n",
      "/home/intra26/.local/lib/python3.7/site-packages/lightgbm/sklearn.py:598: UserWarning: 'silent' argument is deprecated and will be removed in a future release of LightGBM. Pass 'verbose' parameter via keyword arguments instead.\n",
      "  _log_warning(\"'silent' argument is deprecated and will be removed in a future release of LightGBM. \"\n",
      "/home/intra26/.local/lib/python3.7/site-packages/lightgbm/sklearn.py:726: UserWarning: 'early_stopping_rounds' argument is deprecated and will be removed in a future release of LightGBM. Pass 'early_stopping()' callback via 'callbacks' argument instead.\n",
      "  _log_warning(\"'early_stopping_rounds' argument is deprecated and will be removed in a future release of LightGBM. \"\n",
      "/home/intra26/.local/lib/python3.7/site-packages/lightgbm/sklearn.py:598: UserWarning: 'silent' argument is deprecated and will be removed in a future release of LightGBM. Pass 'verbose' parameter via keyword arguments instead.\n",
      "  _log_warning(\"'silent' argument is deprecated and will be removed in a future release of LightGBM. \"\n",
      "/home/intra26/.local/lib/python3.7/site-packages/lightgbm/sklearn.py:726: UserWarning: 'early_stopping_rounds' argument is deprecated and will be removed in a future release of LightGBM. Pass 'early_stopping()' callback via 'callbacks' argument instead.\n",
      "  _log_warning(\"'early_stopping_rounds' argument is deprecated and will be removed in a future release of LightGBM. \"\n",
      "/home/intra26/.local/lib/python3.7/site-packages/lightgbm/sklearn.py:598: UserWarning: 'silent' argument is deprecated and will be removed in a future release of LightGBM. Pass 'verbose' parameter via keyword arguments instead.\n",
      "  _log_warning(\"'silent' argument is deprecated and will be removed in a future release of LightGBM. \"\n",
      "/home/intra26/.local/lib/python3.7/site-packages/lightgbm/sklearn.py:726: UserWarning: 'early_stopping_rounds' argument is deprecated and will be removed in a future release of LightGBM. Pass 'early_stopping()' callback via 'callbacks' argument instead.\n",
      "  _log_warning(\"'early_stopping_rounds' argument is deprecated and will be removed in a future release of LightGBM. \"\n",
      "/home/intra26/.local/lib/python3.7/site-packages/lightgbm/sklearn.py:598: UserWarning: 'silent' argument is deprecated and will be removed in a future release of LightGBM. Pass 'verbose' parameter via keyword arguments instead.\n",
      "  _log_warning(\"'silent' argument is deprecated and will be removed in a future release of LightGBM. \"\n",
      "/home/intra26/.local/lib/python3.7/site-packages/lightgbm/sklearn.py:726: UserWarning: 'early_stopping_rounds' argument is deprecated and will be removed in a future release of LightGBM. Pass 'early_stopping()' callback via 'callbacks' argument instead.\n",
      "  _log_warning(\"'early_stopping_rounds' argument is deprecated and will be removed in a future release of LightGBM. \"\n",
      "/home/intra26/.local/lib/python3.7/site-packages/lightgbm/sklearn.py:598: UserWarning: 'silent' argument is deprecated and will be removed in a future release of LightGBM. Pass 'verbose' parameter via keyword arguments instead.\n",
      "  _log_warning(\"'silent' argument is deprecated and will be removed in a future release of LightGBM. \"\n",
      "/home/intra26/.local/lib/python3.7/site-packages/lightgbm/sklearn.py:726: UserWarning: 'early_stopping_rounds' argument is deprecated and will be removed in a future release of LightGBM. Pass 'early_stopping()' callback via 'callbacks' argument instead.\n",
      "  _log_warning(\"'early_stopping_rounds' argument is deprecated and will be removed in a future release of LightGBM. \"\n",
      "/home/intra26/.local/lib/python3.7/site-packages/lightgbm/sklearn.py:598: UserWarning: 'silent' argument is deprecated and will be removed in a future release of LightGBM. Pass 'verbose' parameter via keyword arguments instead.\n",
      "  _log_warning(\"'silent' argument is deprecated and will be removed in a future release of LightGBM. \"\n",
      "/home/intra26/.local/lib/python3.7/site-packages/lightgbm/sklearn.py:726: UserWarning: 'early_stopping_rounds' argument is deprecated and will be removed in a future release of LightGBM. Pass 'early_stopping()' callback via 'callbacks' argument instead.\n",
      "  _log_warning(\"'early_stopping_rounds' argument is deprecated and will be removed in a future release of LightGBM. \"\n",
      "/home/intra26/.local/lib/python3.7/site-packages/lightgbm/sklearn.py:598: UserWarning: 'silent' argument is deprecated and will be removed in a future release of LightGBM. Pass 'verbose' parameter via keyword arguments instead.\n",
      "  _log_warning(\"'silent' argument is deprecated and will be removed in a future release of LightGBM. \"\n",
      "/home/intra26/.local/lib/python3.7/site-packages/lightgbm/sklearn.py:726: UserWarning: 'early_stopping_rounds' argument is deprecated and will be removed in a future release of LightGBM. Pass 'early_stopping()' callback via 'callbacks' argument instead.\n",
      "  _log_warning(\"'early_stopping_rounds' argument is deprecated and will be removed in a future release of LightGBM. \"\n",
      "/home/intra26/.local/lib/python3.7/site-packages/lightgbm/sklearn.py:598: UserWarning: 'silent' argument is deprecated and will be removed in a future release of LightGBM. Pass 'verbose' parameter via keyword arguments instead.\n",
      "  _log_warning(\"'silent' argument is deprecated and will be removed in a future release of LightGBM. \"\n",
      "/home/intra26/.local/lib/python3.7/site-packages/lightgbm/sklearn.py:726: UserWarning: 'early_stopping_rounds' argument is deprecated and will be removed in a future release of LightGBM. Pass 'early_stopping()' callback via 'callbacks' argument instead.\n",
      "  _log_warning(\"'early_stopping_rounds' argument is deprecated and will be removed in a future release of LightGBM. \"\n",
      "/home/intra26/.local/lib/python3.7/site-packages/lightgbm/sklearn.py:598: UserWarning: 'silent' argument is deprecated and will be removed in a future release of LightGBM. Pass 'verbose' parameter via keyword arguments instead.\n",
      "  _log_warning(\"'silent' argument is deprecated and will be removed in a future release of LightGBM. \"\n",
      "/home/intra26/.local/lib/python3.7/site-packages/lightgbm/sklearn.py:726: UserWarning: 'early_stopping_rounds' argument is deprecated and will be removed in a future release of LightGBM. Pass 'early_stopping()' callback via 'callbacks' argument instead.\n",
      "  _log_warning(\"'early_stopping_rounds' argument is deprecated and will be removed in a future release of LightGBM. \"\n",
      "/home/intra26/.local/lib/python3.7/site-packages/lightgbm/sklearn.py:598: UserWarning: 'silent' argument is deprecated and will be removed in a future release of LightGBM. Pass 'verbose' parameter via keyword arguments instead.\n",
      "  _log_warning(\"'silent' argument is deprecated and will be removed in a future release of LightGBM. \"\n",
      "/home/intra26/.local/lib/python3.7/site-packages/lightgbm/sklearn.py:726: UserWarning: 'early_stopping_rounds' argument is deprecated and will be removed in a future release of LightGBM. Pass 'early_stopping()' callback via 'callbacks' argument instead.\n",
      "  _log_warning(\"'early_stopping_rounds' argument is deprecated and will be removed in a future release of LightGBM. \"\n",
      "/home/intra26/.local/lib/python3.7/site-packages/lightgbm/sklearn.py:598: UserWarning: 'silent' argument is deprecated and will be removed in a future release of LightGBM. Pass 'verbose' parameter via keyword arguments instead.\n",
      "  _log_warning(\"'silent' argument is deprecated and will be removed in a future release of LightGBM. \"\n",
      "/home/intra26/.local/lib/python3.7/site-packages/lightgbm/sklearn.py:726: UserWarning: 'early_stopping_rounds' argument is deprecated and will be removed in a future release of LightGBM. Pass 'early_stopping()' callback via 'callbacks' argument instead.\n",
      "  _log_warning(\"'early_stopping_rounds' argument is deprecated and will be removed in a future release of LightGBM. \"\n",
      "/home/intra26/.local/lib/python3.7/site-packages/lightgbm/sklearn.py:598: UserWarning: 'silent' argument is deprecated and will be removed in a future release of LightGBM. Pass 'verbose' parameter via keyword arguments instead.\n",
      "  _log_warning(\"'silent' argument is deprecated and will be removed in a future release of LightGBM. \"\n",
      "/home/intra26/.local/lib/python3.7/site-packages/lightgbm/sklearn.py:726: UserWarning: 'early_stopping_rounds' argument is deprecated and will be removed in a future release of LightGBM. Pass 'early_stopping()' callback via 'callbacks' argument instead.\n",
      "  _log_warning(\"'early_stopping_rounds' argument is deprecated and will be removed in a future release of LightGBM. \"\n",
      "/home/intra26/.local/lib/python3.7/site-packages/lightgbm/sklearn.py:598: UserWarning: 'silent' argument is deprecated and will be removed in a future release of LightGBM. Pass 'verbose' parameter via keyword arguments instead.\n",
      "  _log_warning(\"'silent' argument is deprecated and will be removed in a future release of LightGBM. \"\n",
      "/home/intra26/.local/lib/python3.7/site-packages/lightgbm/sklearn.py:726: UserWarning: 'early_stopping_rounds' argument is deprecated and will be removed in a future release of LightGBM. Pass 'early_stopping()' callback via 'callbacks' argument instead.\n",
      "  _log_warning(\"'early_stopping_rounds' argument is deprecated and will be removed in a future release of LightGBM. \"\n",
      "/home/intra26/.local/lib/python3.7/site-packages/lightgbm/sklearn.py:598: UserWarning: 'silent' argument is deprecated and will be removed in a future release of LightGBM. Pass 'verbose' parameter via keyword arguments instead.\n",
      "  _log_warning(\"'silent' argument is deprecated and will be removed in a future release of LightGBM. \"\n",
      "/home/intra26/.local/lib/python3.7/site-packages/lightgbm/sklearn.py:726: UserWarning: 'early_stopping_rounds' argument is deprecated and will be removed in a future release of LightGBM. Pass 'early_stopping()' callback via 'callbacks' argument instead.\n",
      "  _log_warning(\"'early_stopping_rounds' argument is deprecated and will be removed in a future release of LightGBM. \"\n",
      "/home/intra26/.local/lib/python3.7/site-packages/lightgbm/sklearn.py:598: UserWarning: 'silent' argument is deprecated and will be removed in a future release of LightGBM. Pass 'verbose' parameter via keyword arguments instead.\n",
      "  _log_warning(\"'silent' argument is deprecated and will be removed in a future release of LightGBM. \"\n",
      "/home/intra26/.local/lib/python3.7/site-packages/lightgbm/sklearn.py:726: UserWarning: 'early_stopping_rounds' argument is deprecated and will be removed in a future release of LightGBM. Pass 'early_stopping()' callback via 'callbacks' argument instead.\n",
      "  _log_warning(\"'early_stopping_rounds' argument is deprecated and will be removed in a future release of LightGBM. \"\n",
      "/home/intra26/.local/lib/python3.7/site-packages/lightgbm/sklearn.py:598: UserWarning: 'silent' argument is deprecated and will be removed in a future release of LightGBM. Pass 'verbose' parameter via keyword arguments instead.\n",
      "  _log_warning(\"'silent' argument is deprecated and will be removed in a future release of LightGBM. \"\n",
      "/home/intra26/.local/lib/python3.7/site-packages/lightgbm/sklearn.py:726: UserWarning: 'early_stopping_rounds' argument is deprecated and will be removed in a future release of LightGBM. Pass 'early_stopping()' callback via 'callbacks' argument instead.\n",
      "  _log_warning(\"'early_stopping_rounds' argument is deprecated and will be removed in a future release of LightGBM. \"\n",
      "/home/intra26/.local/lib/python3.7/site-packages/lightgbm/sklearn.py:598: UserWarning: 'silent' argument is deprecated and will be removed in a future release of LightGBM. Pass 'verbose' parameter via keyword arguments instead.\n",
      "  _log_warning(\"'silent' argument is deprecated and will be removed in a future release of LightGBM. \"\n",
      "/home/intra26/.local/lib/python3.7/site-packages/lightgbm/sklearn.py:726: UserWarning: 'early_stopping_rounds' argument is deprecated and will be removed in a future release of LightGBM. Pass 'early_stopping()' callback via 'callbacks' argument instead.\n",
      "  _log_warning(\"'early_stopping_rounds' argument is deprecated and will be removed in a future release of LightGBM. \"\n",
      "/home/intra26/.local/lib/python3.7/site-packages/lightgbm/sklearn.py:598: UserWarning: 'silent' argument is deprecated and will be removed in a future release of LightGBM. Pass 'verbose' parameter via keyword arguments instead.\n",
      "  _log_warning(\"'silent' argument is deprecated and will be removed in a future release of LightGBM. \"\n",
      "/home/intra26/.local/lib/python3.7/site-packages/lightgbm/sklearn.py:726: UserWarning: 'early_stopping_rounds' argument is deprecated and will be removed in a future release of LightGBM. Pass 'early_stopping()' callback via 'callbacks' argument instead.\n",
      "  _log_warning(\"'early_stopping_rounds' argument is deprecated and will be removed in a future release of LightGBM. \"\n",
      "/home/intra26/.local/lib/python3.7/site-packages/lightgbm/sklearn.py:598: UserWarning: 'silent' argument is deprecated and will be removed in a future release of LightGBM. Pass 'verbose' parameter via keyword arguments instead.\n",
      "  _log_warning(\"'silent' argument is deprecated and will be removed in a future release of LightGBM. \"\n",
      "/home/intra26/.local/lib/python3.7/site-packages/lightgbm/sklearn.py:726: UserWarning: 'early_stopping_rounds' argument is deprecated and will be removed in a future release of LightGBM. Pass 'early_stopping()' callback via 'callbacks' argument instead.\n",
      "  _log_warning(\"'early_stopping_rounds' argument is deprecated and will be removed in a future release of LightGBM. \"\n",
      "/home/intra26/.local/lib/python3.7/site-packages/lightgbm/sklearn.py:598: UserWarning: 'silent' argument is deprecated and will be removed in a future release of LightGBM. Pass 'verbose' parameter via keyword arguments instead.\n",
      "  _log_warning(\"'silent' argument is deprecated and will be removed in a future release of LightGBM. \"\n",
      "/home/intra26/.local/lib/python3.7/site-packages/lightgbm/sklearn.py:726: UserWarning: 'early_stopping_rounds' argument is deprecated and will be removed in a future release of LightGBM. Pass 'early_stopping()' callback via 'callbacks' argument instead.\n",
      "  _log_warning(\"'early_stopping_rounds' argument is deprecated and will be removed in a future release of LightGBM. \"\n",
      "/home/intra26/.local/lib/python3.7/site-packages/lightgbm/sklearn.py:598: UserWarning: 'silent' argument is deprecated and will be removed in a future release of LightGBM. Pass 'verbose' parameter via keyword arguments instead.\n",
      "  _log_warning(\"'silent' argument is deprecated and will be removed in a future release of LightGBM. \"\n",
      "/home/intra26/.local/lib/python3.7/site-packages/lightgbm/sklearn.py:726: UserWarning: 'early_stopping_rounds' argument is deprecated and will be removed in a future release of LightGBM. Pass 'early_stopping()' callback via 'callbacks' argument instead.\n",
      "  _log_warning(\"'early_stopping_rounds' argument is deprecated and will be removed in a future release of LightGBM. \"\n",
      "/home/intra26/.local/lib/python3.7/site-packages/lightgbm/sklearn.py:598: UserWarning: 'silent' argument is deprecated and will be removed in a future release of LightGBM. Pass 'verbose' parameter via keyword arguments instead.\n",
      "  _log_warning(\"'silent' argument is deprecated and will be removed in a future release of LightGBM. \"\n",
      "/home/intra26/.local/lib/python3.7/site-packages/lightgbm/sklearn.py:726: UserWarning: 'early_stopping_rounds' argument is deprecated and will be removed in a future release of LightGBM. Pass 'early_stopping()' callback via 'callbacks' argument instead.\n",
      "  _log_warning(\"'early_stopping_rounds' argument is deprecated and will be removed in a future release of LightGBM. \"\n",
      "/home/intra26/.local/lib/python3.7/site-packages/lightgbm/sklearn.py:598: UserWarning: 'silent' argument is deprecated and will be removed in a future release of LightGBM. Pass 'verbose' parameter via keyword arguments instead.\n",
      "  _log_warning(\"'silent' argument is deprecated and will be removed in a future release of LightGBM. \"\n",
      "/home/intra26/.local/lib/python3.7/site-packages/lightgbm/sklearn.py:726: UserWarning: 'early_stopping_rounds' argument is deprecated and will be removed in a future release of LightGBM. Pass 'early_stopping()' callback via 'callbacks' argument instead.\n",
      "  _log_warning(\"'early_stopping_rounds' argument is deprecated and will be removed in a future release of LightGBM. \"\n",
      "/home/intra26/.local/lib/python3.7/site-packages/lightgbm/sklearn.py:598: UserWarning: 'silent' argument is deprecated and will be removed in a future release of LightGBM. Pass 'verbose' parameter via keyword arguments instead.\n",
      "  _log_warning(\"'silent' argument is deprecated and will be removed in a future release of LightGBM. \"\n",
      "/home/intra26/.local/lib/python3.7/site-packages/lightgbm/sklearn.py:726: UserWarning: 'early_stopping_rounds' argument is deprecated and will be removed in a future release of LightGBM. Pass 'early_stopping()' callback via 'callbacks' argument instead.\n",
      "  _log_warning(\"'early_stopping_rounds' argument is deprecated and will be removed in a future release of LightGBM. \"\n",
      "/home/intra26/.local/lib/python3.7/site-packages/lightgbm/sklearn.py:598: UserWarning: 'silent' argument is deprecated and will be removed in a future release of LightGBM. Pass 'verbose' parameter via keyword arguments instead.\n",
      "  _log_warning(\"'silent' argument is deprecated and will be removed in a future release of LightGBM. \"\n",
      "/home/intra26/.local/lib/python3.7/site-packages/lightgbm/sklearn.py:726: UserWarning: 'early_stopping_rounds' argument is deprecated and will be removed in a future release of LightGBM. Pass 'early_stopping()' callback via 'callbacks' argument instead.\n",
      "  _log_warning(\"'early_stopping_rounds' argument is deprecated and will be removed in a future release of LightGBM. \"\n",
      "/home/intra26/.local/lib/python3.7/site-packages/lightgbm/sklearn.py:598: UserWarning: 'silent' argument is deprecated and will be removed in a future release of LightGBM. Pass 'verbose' parameter via keyword arguments instead.\n",
      "  _log_warning(\"'silent' argument is deprecated and will be removed in a future release of LightGBM. \"\n",
      "/home/intra26/.local/lib/python3.7/site-packages/lightgbm/sklearn.py:726: UserWarning: 'early_stopping_rounds' argument is deprecated and will be removed in a future release of LightGBM. Pass 'early_stopping()' callback via 'callbacks' argument instead.\n",
      "  _log_warning(\"'early_stopping_rounds' argument is deprecated and will be removed in a future release of LightGBM. \"\n",
      "/home/intra26/.local/lib/python3.7/site-packages/lightgbm/sklearn.py:598: UserWarning: 'silent' argument is deprecated and will be removed in a future release of LightGBM. Pass 'verbose' parameter via keyword arguments instead.\n",
      "  _log_warning(\"'silent' argument is deprecated and will be removed in a future release of LightGBM. \"\n",
      "/home/intra26/.local/lib/python3.7/site-packages/lightgbm/sklearn.py:726: UserWarning: 'early_stopping_rounds' argument is deprecated and will be removed in a future release of LightGBM. Pass 'early_stopping()' callback via 'callbacks' argument instead.\n",
      "  _log_warning(\"'early_stopping_rounds' argument is deprecated and will be removed in a future release of LightGBM. \"\n",
      "/home/intra26/.local/lib/python3.7/site-packages/lightgbm/sklearn.py:598: UserWarning: 'silent' argument is deprecated and will be removed in a future release of LightGBM. Pass 'verbose' parameter via keyword arguments instead.\n",
      "  _log_warning(\"'silent' argument is deprecated and will be removed in a future release of LightGBM. \"\n",
      "/home/intra26/.local/lib/python3.7/site-packages/lightgbm/sklearn.py:726: UserWarning: 'early_stopping_rounds' argument is deprecated and will be removed in a future release of LightGBM. Pass 'early_stopping()' callback via 'callbacks' argument instead.\n",
      "  _log_warning(\"'early_stopping_rounds' argument is deprecated and will be removed in a future release of LightGBM. \"\n",
      "/home/intra26/.local/lib/python3.7/site-packages/lightgbm/sklearn.py:598: UserWarning: 'silent' argument is deprecated and will be removed in a future release of LightGBM. Pass 'verbose' parameter via keyword arguments instead.\n",
      "  _log_warning(\"'silent' argument is deprecated and will be removed in a future release of LightGBM. \"\n",
      "/home/intra26/.local/lib/python3.7/site-packages/lightgbm/sklearn.py:726: UserWarning: 'early_stopping_rounds' argument is deprecated and will be removed in a future release of LightGBM. Pass 'early_stopping()' callback via 'callbacks' argument instead.\n",
      "  _log_warning(\"'early_stopping_rounds' argument is deprecated and will be removed in a future release of LightGBM. \"\n",
      "/home/intra26/.local/lib/python3.7/site-packages/lightgbm/sklearn.py:598: UserWarning: 'silent' argument is deprecated and will be removed in a future release of LightGBM. Pass 'verbose' parameter via keyword arguments instead.\n",
      "  _log_warning(\"'silent' argument is deprecated and will be removed in a future release of LightGBM. \"\n",
      "/home/intra26/.local/lib/python3.7/site-packages/lightgbm/sklearn.py:726: UserWarning: 'early_stopping_rounds' argument is deprecated and will be removed in a future release of LightGBM. Pass 'early_stopping()' callback via 'callbacks' argument instead.\n",
      "  _log_warning(\"'early_stopping_rounds' argument is deprecated and will be removed in a future release of LightGBM. \"\n",
      "/home/intra26/.local/lib/python3.7/site-packages/lightgbm/sklearn.py:598: UserWarning: 'silent' argument is deprecated and will be removed in a future release of LightGBM. Pass 'verbose' parameter via keyword arguments instead.\n",
      "  _log_warning(\"'silent' argument is deprecated and will be removed in a future release of LightGBM. \"\n",
      "/home/intra26/.local/lib/python3.7/site-packages/lightgbm/sklearn.py:726: UserWarning: 'early_stopping_rounds' argument is deprecated and will be removed in a future release of LightGBM. Pass 'early_stopping()' callback via 'callbacks' argument instead.\n",
      "  _log_warning(\"'early_stopping_rounds' argument is deprecated and will be removed in a future release of LightGBM. \"\n",
      "/home/intra26/.local/lib/python3.7/site-packages/lightgbm/sklearn.py:598: UserWarning: 'silent' argument is deprecated and will be removed in a future release of LightGBM. Pass 'verbose' parameter via keyword arguments instead.\n",
      "  _log_warning(\"'silent' argument is deprecated and will be removed in a future release of LightGBM. \"\n",
      "/home/intra26/.local/lib/python3.7/site-packages/lightgbm/sklearn.py:726: UserWarning: 'early_stopping_rounds' argument is deprecated and will be removed in a future release of LightGBM. Pass 'early_stopping()' callback via 'callbacks' argument instead.\n",
      "  _log_warning(\"'early_stopping_rounds' argument is deprecated and will be removed in a future release of LightGBM. \"\n",
      "/home/intra26/.local/lib/python3.7/site-packages/lightgbm/sklearn.py:598: UserWarning: 'silent' argument is deprecated and will be removed in a future release of LightGBM. Pass 'verbose' parameter via keyword arguments instead.\n",
      "  _log_warning(\"'silent' argument is deprecated and will be removed in a future release of LightGBM. \"\n",
      "/home/intra26/.local/lib/python3.7/site-packages/lightgbm/sklearn.py:726: UserWarning: 'early_stopping_rounds' argument is deprecated and will be removed in a future release of LightGBM. Pass 'early_stopping()' callback via 'callbacks' argument instead.\n",
      "  _log_warning(\"'early_stopping_rounds' argument is deprecated and will be removed in a future release of LightGBM. \"\n",
      "/home/intra26/.local/lib/python3.7/site-packages/lightgbm/sklearn.py:598: UserWarning: 'silent' argument is deprecated and will be removed in a future release of LightGBM. Pass 'verbose' parameter via keyword arguments instead.\n",
      "  _log_warning(\"'silent' argument is deprecated and will be removed in a future release of LightGBM. \"\n",
      "/home/intra26/.local/lib/python3.7/site-packages/lightgbm/sklearn.py:726: UserWarning: 'early_stopping_rounds' argument is deprecated and will be removed in a future release of LightGBM. Pass 'early_stopping()' callback via 'callbacks' argument instead.\n",
      "  _log_warning(\"'early_stopping_rounds' argument is deprecated and will be removed in a future release of LightGBM. \"\n",
      "/home/intra26/.local/lib/python3.7/site-packages/lightgbm/sklearn.py:598: UserWarning: 'silent' argument is deprecated and will be removed in a future release of LightGBM. Pass 'verbose' parameter via keyword arguments instead.\n",
      "  _log_warning(\"'silent' argument is deprecated and will be removed in a future release of LightGBM. \"\n",
      "/home/intra26/.local/lib/python3.7/site-packages/lightgbm/sklearn.py:726: UserWarning: 'early_stopping_rounds' argument is deprecated and will be removed in a future release of LightGBM. Pass 'early_stopping()' callback via 'callbacks' argument instead.\n",
      "  _log_warning(\"'early_stopping_rounds' argument is deprecated and will be removed in a future release of LightGBM. \"\n"
     ]
    }
   ],
   "source": [
    "%%time\n",
    "grid2 ={'n_estimators':np.arange(20,40,3),\n",
    "         'max_depth': [ 2,3]}\n",
    "lgbc = lgb.LGBMRegressor(n_jobs=-1, \n",
    "                          silent = True, \n",
    "                          random_state = seed_val,\n",
    "                          importance_type='gain')\n",
    "fit_params = {\n",
    "    'eval_metric': METRIC, \n",
    "    'eval_set':[(X_train, y_train), (X_test, y_test)], \n",
    "    'early_stopping_rounds' : 50\n",
    "}\n",
    "# rscv = RandomizedSearchCV(lgbc, grid2, cv=3, random_state=seed_val, verbose=1,)\n",
    "rscv = GridSearchCV(lgbc, grid2, cv=3, n_jobs=6)\n",
    "search = rscv.fit(X_train, y_train, **fit_params)"
   ]
  },
  {
   "cell_type": "code",
   "execution_count": 196,
   "id": "1042cb97",
   "metadata": {
    "ExecuteTime": {
     "end_time": "2022-07-12T11:54:06.489359Z",
     "start_time": "2022-07-12T11:54:06.484379Z"
    }
   },
   "outputs": [],
   "source": [
    "from sklearn.metrics import r2_score"
   ]
  },
  {
   "cell_type": "code",
   "execution_count": 476,
   "id": "37110a6f",
   "metadata": {
    "ExecuteTime": {
     "end_time": "2022-07-13T13:26:35.506980Z",
     "start_time": "2022-07-13T13:26:35.475218Z"
    }
   },
   "outputs": [
    {
     "name": "stdout",
     "output_type": "stream",
     "text": [
      "{'max_depth': 3, 'n_estimators': 38}\n",
      "r2_score Train:  0.531\n",
      "r2_score Test:  0.386\n"
     ]
    }
   ],
   "source": [
    "print(search.best_params_)\n",
    "\n",
    "model = lgb.LGBMRegressor(**search.best_params_)\n",
    "model.fit(X_train,y_train)\n",
    "y_train_hat = model.predict(X_train)\n",
    "max_gini_train = r2_score(y_train, y_train_hat)\n",
    "print('r2_score Train: ', np.round(max_gini_train, 3))\n",
    "\n",
    "y_test_hat = model.predict(X_test)\n",
    "print('r2_score Test: ', np.round(r2_score(y_test, y_test_hat), 3))"
   ]
  },
  {
   "cell_type": "code",
   "execution_count": 477,
   "id": "a03330da",
   "metadata": {
    "ExecuteTime": {
     "end_time": "2022-07-13T13:26:38.089156Z",
     "start_time": "2022-07-13T13:26:38.078489Z"
    }
   },
   "outputs": [
    {
     "name": "stdout",
     "output_type": "stream",
     "text": [
      "r2_score Test:  0.476\n"
     ]
    }
   ],
   "source": [
    "y_test_hat = model.predict(df_model[model_cols])\n",
    "print('r2_score Test: ', np.round(r2_score(df_model[target], y_test_hat), 3))"
   ]
  },
  {
   "cell_type": "code",
   "execution_count": 478,
   "id": "7ae541c2",
   "metadata": {
    "ExecuteTime": {
     "end_time": "2022-07-13T13:26:39.339593Z",
     "start_time": "2022-07-13T13:26:38.939225Z"
    }
   },
   "outputs": [
    {
     "data": {
      "image/png": "[encoded data removed]",
      "text/plain": [
       "<Figure size 720x1440 with 1 Axes>"
      ]
     },
     "metadata": {
      "needs_background": "light"
     },
     "output_type": "display_data"
    }
   ],
   "source": [
    "fig, ax = plt.subplots(1,1,figsize=(10, 20))\n",
    "ax.set_xlabel('Значимость фактора')\n",
    "ax.set_ylabel('Имя фактора')\n",
    "ax.set_title('')\n",
    "_ = lgb.plot_importance(model, height=0.8, ax=ax)"
   ]
  },
  {
   "cell_type": "code",
   "execution_count": 479,
   "id": "112c38c7",
   "metadata": {
    "ExecuteTime": {
     "end_time": "2022-07-13T13:26:45.377999Z",
     "start_time": "2022-07-13T13:26:45.368887Z"
    }
   },
   "outputs": [
    {
     "data": {
      "text/plain": [
       "['density',\n",
       " 'distance_straight',\n",
       " 'sq',\n",
       " 'soc_econom_index',\n",
       " 'resid_buildings_share',\n",
       " 'age_months',\n",
       " 'mean_height',\n",
       " 'coffee',\n",
       " 'jews_share',\n",
       " 'parks',\n",
       " 'kindergarten',\n",
       " 'urban_public',\n",
       " 'urban_industrial',\n",
       " 'cluster_6',\n",
       " 'buildings_area',\n",
       " 'urban_leisure',\n",
       " 'hist',\n",
       " 'urban_shopping',\n",
       " 'is_not_habitated',\n",
       " 'cluster_30']"
      ]
     },
     "execution_count": 479,
     "metadata": {},
     "output_type": "execute_result"
    }
   ],
   "source": [
    "tuple_feat = list()\n",
    "imp = model.feature_importances_\n",
    "cols = X_train.columns\n",
    "for i in range(len(X_train.columns)):\n",
    "    tuple_feat.append((imp[i], cols[i]))\n",
    "tuple_feat.sort(reverse=True)\n",
    "\n",
    "top_feat = list()\n",
    "for elem in tuple_feat[:20]:\n",
    "    top_feat.append(elem[1])\n",
    "top_feat"
   ]
  },
  {
   "cell_type": "code",
   "execution_count": 480,
   "id": "68054c10",
   "metadata": {
    "ExecuteTime": {
     "end_time": "2022-07-13T13:26:52.512651Z",
     "start_time": "2022-07-13T13:26:50.309931Z"
    },
    "scrolled": false
   },
   "outputs": [
    {
     "data": {
      "text/plain": [
       "<AxesSubplot:>"
      ]
     },
     "execution_count": 480,
     "metadata": {},
     "output_type": "execute_result"
    },
    {
     "data": {
      "image/png": "[encoded data removed]",
      "text/plain": [
       "<Figure size 936x720 with 2 Axes>"
      ]
     },
     "metadata": {
      "needs_background": "light"
     },
     "output_type": "display_data"
    }
   ],
   "source": [
    "import seaborn as sns\n",
    "plt.figure(figsize=(13,10))\n",
    "sns.heatmap(df_model[top_feat].corr(), annot=True)"
   ]
  },
  {
   "cell_type": "code",
   "execution_count": 481,
   "id": "e76f07d8",
   "metadata": {
    "ExecuteTime": {
     "end_time": "2022-07-13T13:26:56.359739Z",
     "start_time": "2022-07-13T13:26:56.349407Z"
    }
   },
   "outputs": [],
   "source": [
    "model_cols = top_feat\n",
    "\n",
    "X_train = df_model[(df_model['sample'] == 'train')][model_cols]\n",
    "y_train = df_model[(df_model['sample'] == 'train')][target]\n",
    "X_test = df_model[(df_model['sample'] == 'test')][model_cols]\n",
    "y_test = df_model[(df_model['sample'] == 'test')][target]"
   ]
  },
  {
   "cell_type": "code",
   "execution_count": 482,
   "id": "2d342df3",
   "metadata": {
    "ExecuteTime": {
     "end_time": "2022-07-13T13:26:57.741326Z",
     "start_time": "2022-07-13T13:26:57.486719Z"
    }
   },
   "outputs": [
    {
     "name": "stdout",
     "output_type": "stream",
     "text": [
      "\n",
      "[1]\tvalid_0's rmse: 0.04867\tvalid_0's l2: 0.00236877\tvalid_1's rmse: 0.0415434\tvalid_1's l2: 0.00172585\n",
      "[2]\tvalid_0's rmse: 0.0477685\tvalid_0's l2: 0.00228183\tvalid_1's rmse: 0.0406023\tvalid_1's l2: 0.00164855\n",
      "[3]\tvalid_0's rmse: 0.0468981\tvalid_0's l2: 0.00219944\tvalid_1's rmse: 0.0398151\tvalid_1's l2: 0.00158524\n",
      "[4]\tvalid_0's rmse: 0.0461823\tvalid_0's l2: 0.00213281\tvalid_1's rmse: 0.0391243\tvalid_1's l2: 0.00153071\n",
      "[5]\tvalid_0's rmse: 0.0456483\tvalid_0's l2: 0.00208377\tvalid_1's rmse: 0.038774\tvalid_1's l2: 0.00150342\n",
      "[6]\tvalid_0's rmse: 0.0451286\tvalid_0's l2: 0.00203659\tvalid_1's rmse: 0.0384563\tvalid_1's l2: 0.00147889\n",
      "[7]\tvalid_0's rmse: 0.044499\tvalid_0's l2: 0.00198016\tvalid_1's rmse: 0.0381587\tvalid_1's l2: 0.00145608\n",
      "[8]\tvalid_0's rmse: 0.0440153\tvalid_0's l2: 0.00193735\tvalid_1's rmse: 0.037894\tvalid_1's l2: 0.00143596\n",
      "[9]\tvalid_0's rmse: 0.0438446\tvalid_0's l2: 0.00192235\tvalid_1's rmse: 0.0376885\tvalid_1's l2: 0.00142042\n",
      "[10]\tvalid_0's rmse: 0.0433402\tvalid_0's l2: 0.00187838\tvalid_1's rmse: 0.0373162\tvalid_1's l2: 0.0013925\n",
      "[11]\tvalid_0's rmse: 0.0430527\tvalid_0's l2: 0.00185354\tvalid_1's rmse: 0.037078\tvalid_1's l2: 0.00137478\n",
      "[12]\tvalid_0's rmse: 0.0426787\tvalid_0's l2: 0.00182147\tvalid_1's rmse: 0.0368135\tvalid_1's l2: 0.00135524\n",
      "[13]\tvalid_0's rmse: 0.0424319\tvalid_0's l2: 0.00180046\tvalid_1's rmse: 0.0366481\tvalid_1's l2: 0.00134308\n",
      "[14]\tvalid_0's rmse: 0.0421585\tvalid_0's l2: 0.00177734\tvalid_1's rmse: 0.0364629\tvalid_1's l2: 0.00132954\n",
      "[15]\tvalid_0's rmse: 0.0418803\tvalid_0's l2: 0.00175396\tvalid_1's rmse: 0.0361925\tvalid_1's l2: 0.0013099\n",
      "[16]\tvalid_0's rmse: 0.0417128\tvalid_0's l2: 0.00173996\tvalid_1's rmse: 0.0360683\tvalid_1's l2: 0.00130093\n",
      "[17]\tvalid_0's rmse: 0.0414975\tvalid_0's l2: 0.00172204\tvalid_1's rmse: 0.0359992\tvalid_1's l2: 0.00129595\n",
      "[18]\tvalid_0's rmse: 0.0412722\tvalid_0's l2: 0.0017034\tvalid_1's rmse: 0.0357952\tvalid_1's l2: 0.0012813\n",
      "[19]\tvalid_0's rmse: 0.0411186\tvalid_0's l2: 0.00169074\tvalid_1's rmse: 0.035641\tvalid_1's l2: 0.00127028\n",
      "[20]\tvalid_0's rmse: 0.0409782\tvalid_0's l2: 0.00167922\tvalid_1's rmse: 0.0355579\tvalid_1's l2: 0.00126437\n",
      "[21]\tvalid_0's rmse: 0.0408503\tvalid_0's l2: 0.00166874\tvalid_1's rmse: 0.035502\tvalid_1's l2: 0.00126039\n",
      "[22]\tvalid_0's rmse: 0.04068\tvalid_0's l2: 0.00165487\tvalid_1's rmse: 0.0353562\tvalid_1's l2: 0.00125006\n",
      "[23]\tvalid_0's rmse: 0.0405485\tvalid_0's l2: 0.00164418\tvalid_1's rmse: 0.0353134\tvalid_1's l2: 0.00124704\n",
      "[24]\tvalid_0's rmse: 0.0404667\tvalid_0's l2: 0.00163755\tvalid_1's rmse: 0.0353089\tvalid_1's l2: 0.00124672\n",
      "[25]\tvalid_0's rmse: 0.0403697\tvalid_0's l2: 0.00162971\tvalid_1's rmse: 0.0352523\tvalid_1's l2: 0.00124273\n",
      "[26]\tvalid_0's rmse: 0.0403141\tvalid_0's l2: 0.00162523\tvalid_1's rmse: 0.0352609\tvalid_1's l2: 0.00124333\n",
      "[27]\tvalid_0's rmse: 0.0402343\tvalid_0's l2: 0.0016188\tvalid_1's rmse: 0.0351993\tvalid_1's l2: 0.00123899\n",
      "[28]\tvalid_0's rmse: 0.0401877\tvalid_0's l2: 0.00161505\tvalid_1's rmse: 0.0351546\tvalid_1's l2: 0.00123584\n",
      "[29]\tvalid_0's rmse: 0.0400031\tvalid_0's l2: 0.00160025\tvalid_1's rmse: 0.0351402\tvalid_1's l2: 0.00123484\n",
      "[30]\tvalid_0's rmse: 0.039798\tvalid_0's l2: 0.00158388\tvalid_1's rmse: 0.0350561\tvalid_1's l2: 0.00122893\n",
      "[31]\tvalid_0's rmse: 0.0397252\tvalid_0's l2: 0.00157809\tvalid_1's rmse: 0.035028\tvalid_1's l2: 0.00122696\n",
      "[32]\tvalid_0's rmse: 0.0396457\tvalid_0's l2: 0.00157179\tvalid_1's rmse: 0.0350146\tvalid_1's l2: 0.00122602\n",
      "[33]\tvalid_0's rmse: 0.0395881\tvalid_0's l2: 0.00156721\tvalid_1's rmse: 0.0349797\tvalid_1's l2: 0.00122358\n",
      "[34]\tvalid_0's rmse: 0.0395538\tvalid_0's l2: 0.0015645\tvalid_1's rmse: 0.0350081\tvalid_1's l2: 0.00122557\n",
      "[35]\tvalid_0's rmse: 0.0394824\tvalid_0's l2: 0.00155886\tvalid_1's rmse: 0.0350155\tvalid_1's l2: 0.00122608\n",
      "[1]\tvalid_0's rmse: 0.0489358\tvalid_0's l2: 0.00239471\tvalid_1's rmse: 0.0409003\tvalid_1's l2: 0.00167283\n",
      "[2]\tvalid_0's rmse: 0.0482008\tvalid_0's l2: 0.00232332\tvalid_1's rmse: 0.0404861\tvalid_1's l2: 0.00163912\n",
      "[3]\tvalid_0's rmse: 0.0475319\tvalid_0's l2: 0.00225928\tvalid_1's rmse: 0.0401217\tvalid_1's l2: 0.00160975\n",
      "[4]\tvalid_0's rmse: 0.0468758\tvalid_0's l2: 0.00219734\tvalid_1's rmse: 0.0396267\tvalid_1's l2: 0.00157028\n",
      "[5]\tvalid_0's rmse: 0.0463122\tvalid_0's l2: 0.00214482\tvalid_1's rmse: 0.0394053\tvalid_1's l2: 0.00155278\n",
      "[6]\tvalid_0's rmse: 0.0459034\tvalid_0's l2: 0.00210712\tvalid_1's rmse: 0.0391774\tvalid_1's l2: 0.00153487\n",
      "[7]\tvalid_0's rmse: 0.0453595\tvalid_0's l2: 0.00205748\tvalid_1's rmse: 0.03866\tvalid_1's l2: 0.00149459\n",
      "[8]\tvalid_0's rmse: 0.0449453\tvalid_0's l2: 0.00202008\tvalid_1's rmse: 0.038165\tvalid_1's l2: 0.00145657\n",
      "[9]\tvalid_0's rmse: 0.044457\tvalid_0's l2: 0.00197643\tvalid_1's rmse: 0.0379132\tvalid_1's l2: 0.00143741\n",
      "[10]\tvalid_0's rmse: 0.0440188\tvalid_0's l2: 0.00193766\tvalid_1's rmse: 0.0375279\tvalid_1's l2: 0.00140835\n",
      "[11]\tvalid_0's rmse: 0.0435701\tvalid_0's l2: 0.00189835\tvalid_1's rmse: 0.03739\tvalid_1's l2: 0.00139801\n",
      "[12]\tvalid_0's rmse: 0.0431907\tvalid_0's l2: 0.00186544\tvalid_1's rmse: 0.0371841\tvalid_1's l2: 0.00138266\n",
      "[13]\tvalid_0's rmse: 0.0428293\tvalid_0's l2: 0.00183435\tvalid_1's rmse: 0.0369241\tvalid_1's l2: 0.00136339\n",
      "[14]\tvalid_0's rmse: 0.0425426\tvalid_0's l2: 0.00180987\tvalid_1's rmse: 0.0366964\tvalid_1's l2: 0.00134663\n",
      "[15]\tvalid_0's rmse: 0.042077\tvalid_0's l2: 0.00177048\tvalid_1's rmse: 0.0364483\tvalid_1's l2: 0.00132848\n",
      "[16]\tvalid_0's rmse: 0.0415844\tvalid_0's l2: 0.00172926\tvalid_1's rmse: 0.0360389\tvalid_1's l2: 0.0012988\n",
      "[17]\tvalid_0's rmse: 0.0414055\tvalid_0's l2: 0.00171441\tvalid_1's rmse: 0.0358457\tvalid_1's l2: 0.00128491\n",
      "[18]\tvalid_0's rmse: 0.0410079\tvalid_0's l2: 0.00168165\tvalid_1's rmse: 0.035543\tvalid_1's l2: 0.00126331\n",
      "[19]\tvalid_0's rmse: 0.040717\tvalid_0's l2: 0.00165787\tvalid_1's rmse: 0.0355027\tvalid_1's l2: 0.00126044\n",
      "[20]\tvalid_0's rmse: 0.0403646\tvalid_0's l2: 0.0016293\tvalid_1's rmse: 0.0352595\tvalid_1's l2: 0.00124323\n",
      "[21]\tvalid_0's rmse: 0.040001\tvalid_0's l2: 0.00160008\tvalid_1's rmse: 0.0350008\tvalid_1's l2: 0.00122505\n",
      "[22]\tvalid_0's rmse: 0.0396612\tvalid_0's l2: 0.00157301\tvalid_1's rmse: 0.0347448\tvalid_1's l2: 0.0012072\n",
      "[23]\tvalid_0's rmse: 0.0392259\tvalid_0's l2: 0.00153867\tvalid_1's rmse: 0.0345691\tvalid_1's l2: 0.00119503\n",
      "[24]\tvalid_0's rmse: 0.0391087\tvalid_0's l2: 0.00152949\tvalid_1's rmse: 0.0345455\tvalid_1's l2: 0.00119339\n",
      "[25]\tvalid_0's rmse: 0.0388657\tvalid_0's l2: 0.00151054\tvalid_1's rmse: 0.0344023\tvalid_1's l2: 0.00118352\n",
      "[26]\tvalid_0's rmse: 0.0387478\tvalid_0's l2: 0.00150139\tvalid_1's rmse: 0.0343563\tvalid_1's l2: 0.00118036\n",
      "[27]\tvalid_0's rmse: 0.0385525\tvalid_0's l2: 0.0014863\tvalid_1's rmse: 0.0342398\tvalid_1's l2: 0.00117236\n",
      "[28]\tvalid_0's rmse: 0.038302\tvalid_0's l2: 0.00146704\tvalid_1's rmse: 0.0341406\tvalid_1's l2: 0.00116558\n",
      "[29]\tvalid_0's rmse: 0.0380244\tvalid_0's l2: 0.00144586\tvalid_1's rmse: 0.0339417\tvalid_1's l2: 0.00115204\n",
      "[30]\tvalid_0's rmse: 0.0379633\tvalid_0's l2: 0.00144121\tvalid_1's rmse: 0.0339184\tvalid_1's l2: 0.00115045\n",
      "[31]\tvalid_0's rmse: 0.0377958\tvalid_0's l2: 0.00142852\tvalid_1's rmse: 0.0338693\tvalid_1's l2: 0.00114713\n",
      "[32]\tvalid_0's rmse: 0.0376438\tvalid_0's l2: 0.00141706\tvalid_1's rmse: 0.0337189\tvalid_1's l2: 0.00113696\n",
      "[33]\tvalid_0's rmse: 0.0375149\tvalid_0's l2: 0.00140737\tvalid_1's rmse: 0.0337257\tvalid_1's l2: 0.00113743\n",
      "[34]\tvalid_0's rmse: 0.0374258\tvalid_0's l2: 0.00140069\tvalid_1's rmse: 0.03368\tvalid_1's l2: 0.00113434\n",
      "[35]\tvalid_0's rmse: 0.0371302\tvalid_0's l2: 0.00137866\tvalid_1's rmse: 0.0335948\tvalid_1's l2: 0.00112861\n",
      "[36]\tvalid_0's rmse: 0.0370464\tvalid_0's l2: 0.00137244\tvalid_1's rmse: 0.0336244\tvalid_1's l2: 0.0011306\n",
      "[37]\tvalid_0's rmse: 0.036926\tvalid_0's l2: 0.00136353\tvalid_1's rmse: 0.03359\tvalid_1's l2: 0.00112829\n",
      "[38]\tvalid_0's rmse: 0.0367187\tvalid_0's l2: 0.00134826\tvalid_1's rmse: 0.0335182\tvalid_1's l2: 0.00112347\n",
      "[1]\tvalid_0's rmse: 0.0491617\tvalid_0's l2: 0.00241687\tvalid_1's rmse: 0.0410027\tvalid_1's l2: 0.00168122\n",
      "[2]\tvalid_0's rmse: 0.0486316\tvalid_0's l2: 0.00236503\tvalid_1's rmse: 0.0406986\tvalid_1's l2: 0.00165638\n",
      "[3]\tvalid_0's rmse: 0.0482339\tvalid_0's l2: 0.0023265\tvalid_1's rmse: 0.0403724\tvalid_1's l2: 0.00162993\n",
      "[4]\tvalid_0's rmse: 0.0478524\tvalid_0's l2: 0.00228985\tvalid_1's rmse: 0.0400531\tvalid_1's l2: 0.00160425\n",
      "[5]\tvalid_0's rmse: 0.0475061\tvalid_0's l2: 0.00225683\tvalid_1's rmse: 0.0398699\tvalid_1's l2: 0.00158961\n",
      "[3]\tvalid_0's rmse: 0.0462154\tvalid_0's l2: 0.00213587\tvalid_1's rmse: 0.0390963\tvalid_1's l2: 0.00152852\n",
      "[4]\tvalid_0's rmse: 0.0454522\tvalid_0's l2: 0.0020659\tvalid_1's rmse: 0.0384541\tvalid_1's l2: 0.00147872\n",
      "[5]\tvalid_0's rmse: 0.0448521\tvalid_0's l2: 0.00201171\tvalid_1's rmse: 0.0379616\tvalid_1's l2: 0.00144108\n",
      "[6]\tvalid_0's rmse: 0.044207\tvalid_0's l2: 0.00195426\tvalid_1's rmse: 0.0376234\tvalid_1's l2: 0.00141552\n",
      "[7]\tvalid_0's rmse: 0.0437472\tvalid_0's l2: 0.00191382\tvalid_1's rmse: 0.0372432\tvalid_1's l2: 0.00138705\n",
      "[8]\tvalid_0's rmse: 0.0433888\tvalid_0's l2: 0.00188259\tvalid_1's rmse: 0.03705\tvalid_1's l2: 0.0013727\n",
      "[9]\tvalid_0's rmse: 0.042955\tvalid_0's l2: 0.00184513\tvalid_1's rmse: 0.0368201\tvalid_1's l2: 0.00135572\n",
      "[10]\tvalid_0's rmse: 0.0425741\tvalid_0's l2: 0.00181255\tvalid_1's rmse: 0.0365884\tvalid_1's l2: 0.00133871\n",
      "[11]\tvalid_0's rmse: 0.0420529\tvalid_0's l2: 0.00176844\tvalid_1's rmse: 0.0364868\tvalid_1's l2: 0.00133128\n",
      "[12]\tvalid_0's rmse: 0.0418539\tvalid_0's l2: 0.00175175\tvalid_1's rmse: 0.0363661\tvalid_1's l2: 0.00132249\n",
      "[13]\tvalid_0's rmse: 0.0414056\tvalid_0's l2: 0.00171442\tvalid_1's rmse: 0.0363158\tvalid_1's l2: 0.00131884\n",
      "[14]\tvalid_0's rmse: 0.0411921\tvalid_0's l2: 0.00169679\tvalid_1's rmse: 0.0361921\tvalid_1's l2: 0.00130986\n",
      "[15]\tvalid_0's rmse: 0.0407669\tvalid_0's l2: 0.00166194\tvalid_1's rmse: 0.0361013\tvalid_1's l2: 0.0013033\n",
      "[16]\tvalid_0's rmse: 0.0403203\tvalid_0's l2: 0.00162573\tvalid_1's rmse: 0.0359146\tvalid_1's l2: 0.00128986\n",
      "[17]\tvalid_0's rmse: 0.0401606\tvalid_0's l2: 0.00161287\tvalid_1's rmse: 0.0357938\tvalid_1's l2: 0.0012812\n",
      "[18]\tvalid_0's rmse: 0.0398688\tvalid_0's l2: 0.00158952\tvalid_1's rmse: 0.0358064\tvalid_1's l2: 0.0012821\n",
      "[19]\tvalid_0's rmse: 0.0396071\tvalid_0's l2: 0.00156872\tvalid_1's rmse: 0.0355378\tvalid_1's l2: 0.00126294\n",
      "[20]\tvalid_0's rmse: 0.0393291\tvalid_0's l2: 0.00154678\tvalid_1's rmse: 0.0354537\tvalid_1's l2: 0.00125696\n",
      "[21]\tvalid_0's rmse: 0.0390956\tvalid_0's l2: 0.00152847\tvalid_1's rmse: 0.0354511\tvalid_1's l2: 0.00125678\n",
      "[22]\tvalid_0's rmse: 0.0389671\tvalid_0's l2: 0.00151843\tvalid_1's rmse: 0.0353656\tvalid_1's l2: 0.00125073\n",
      "[23]\tvalid_0's rmse: 0.0386787\tvalid_0's l2: 0.00149604\tvalid_1's rmse: 0.0352894\tvalid_1's l2: 0.00124534\n",
      "[24]\tvalid_0's rmse: 0.0385701\tvalid_0's l2: 0.00148766\tvalid_1's rmse: 0.0352931\tvalid_1's l2: 0.0012456\n",
      "[25]\tvalid_0's rmse: 0.0384219\tvalid_0's l2: 0.00147624\tvalid_1's rmse: 0.0352389\tvalid_1's l2: 0.00124178\n",
      "[26]\tvalid_0's rmse: 0.0383652\tvalid_0's l2: 0.00147189\tvalid_1's rmse: 0.03518\tvalid_1's l2: 0.00123763\n",
      "[1]\tvalid_0's rmse: 0.0482671\tvalid_0's l2: 0.00232971\tvalid_1's rmse: 0.0409418\tvalid_1's l2: 0.00167623\n",
      "[2]\tvalid_0's rmse: 0.047143\tvalid_0's l2: 0.00222246\tvalid_1's rmse: 0.0399337\tvalid_1's l2: 0.0015947\n",
      "[3]\tvalid_0's rmse: 0.0462154\tvalid_0's l2: 0.00213587\tvalid_1's rmse: 0.0390963\tvalid_1's l2: 0.00152852\n",
      "[4]\tvalid_0's rmse: 0.0454522\tvalid_0's l2: 0.0020659\tvalid_1's rmse: 0.0384541\tvalid_1's l2: 0.00147872\n",
      "[5]\tvalid_0's rmse: 0.0448521\tvalid_0's l2: 0.00201171\tvalid_1's rmse: 0.0379616\tvalid_1's l2: 0.00144108\n",
      "[6]\tvalid_0's rmse: 0.044207\tvalid_0's l2: 0.00195426\tvalid_1's rmse: 0.0376234\tvalid_1's l2: 0.00141552\n",
      "[7]\tvalid_0's rmse: 0.0437472\tvalid_0's l2: 0.00191382\tvalid_1's rmse: 0.0372432\tvalid_1's l2: 0.00138705\n",
      "[8]\tvalid_0's rmse: 0.0433888\tvalid_0's l2: 0.00188259\tvalid_1's rmse: 0.03705\tvalid_1's l2: 0.0013727\n",
      "[9]\tvalid_0's rmse: 0.042955\tvalid_0's l2: 0.00184513\tvalid_1's rmse: 0.0368201\tvalid_1's l2: 0.00135572\n",
      "[10]\tvalid_0's rmse: 0.0425741\tvalid_0's l2: 0.00181255\tvalid_1's rmse: 0.0365884\tvalid_1's l2: 0.00133871\n",
      "[11]\tvalid_0's rmse: 0.0420529\tvalid_0's l2: 0.00176844\tvalid_1's rmse: 0.0364868\tvalid_1's l2: 0.00133128\n",
      "[12]\tvalid_0's rmse: 0.0418539\tvalid_0's l2: 0.00175175\tvalid_1's rmse: 0.0363661\tvalid_1's l2: 0.00132249\n",
      "[13]\tvalid_0's rmse: 0.0414056\tvalid_0's l2: 0.00171442\tvalid_1's rmse: 0.0363158\tvalid_1's l2: 0.00131884\n",
      "[14]\tvalid_0's rmse: 0.0411921\tvalid_0's l2: 0.00169679\tvalid_1's rmse: 0.0361921\tvalid_1's l2: 0.00130986\n",
      "[15]\tvalid_0's rmse: 0.0407669\tvalid_0's l2: 0.00166194\tvalid_1's rmse: 0.0361013\tvalid_1's l2: 0.0013033\n",
      "[16]\tvalid_0's rmse: 0.0403203\tvalid_0's l2: 0.00162573\tvalid_1's rmse: 0.0359146\tvalid_1's l2: 0.00128986\n",
      "[17]\tvalid_0's rmse: 0.0401606\tvalid_0's l2: 0.00161287\tvalid_1's rmse: 0.0357938\tvalid_1's l2: 0.0012812\n",
      "[18]\tvalid_0's rmse: 0.0398688\tvalid_0's l2: 0.00158952\tvalid_1's rmse: 0.0358064\tvalid_1's l2: 0.0012821\n",
      "[19]\tvalid_0's rmse: 0.0396071\tvalid_0's l2: 0.00156872\tvalid_1's rmse: 0.0355378\tvalid_1's l2: 0.00126294\n",
      "[20]\tvalid_0's rmse: 0.0393291\tvalid_0's l2: 0.00154678\tvalid_1's rmse: 0.0354537\tvalid_1's l2: 0.00125696\n",
      "[21]\tvalid_0's rmse: 0.0390956\tvalid_0's l2: 0.00152847\tvalid_1's rmse: 0.0354511\tvalid_1's l2: 0.00125678\n",
      "[22]\tvalid_0's rmse: 0.0389671\tvalid_0's l2: 0.00151843\tvalid_1's rmse: 0.0353656\tvalid_1's l2: 0.00125073\n",
      "[23]\tvalid_0's rmse: 0.0386787\tvalid_0's l2: 0.00149604\tvalid_1's rmse: 0.0352894\tvalid_1's l2: 0.00124534\n",
      "[24]\tvalid_0's rmse: 0.0385701\tvalid_0's l2: 0.00148766\tvalid_1's rmse: 0.0352931\tvalid_1's l2: 0.0012456\n",
      "[25]\tvalid_0's rmse: 0.0384219\tvalid_0's l2: 0.00147624\tvalid_1's rmse: 0.0352389\tvalid_1's l2: 0.00124178\n",
      "[26]\tvalid_0's rmse: 0.0383652\tvalid_0's l2: 0.00147189\tvalid_1's rmse: 0.03518\tvalid_1's l2: 0.00123763\n",
      "[27]\tvalid_0's rmse: 0.0381944\tvalid_0's l2: 0.00145881\tvalid_1's rmse: 0.0350742\tvalid_1's l2: 0.0012302\n",
      "[28]\tvalid_0's rmse: 0.0379767\tvalid_0's l2: 0.00144223\tvalid_1's rmse: 0.0349182\tvalid_1's l2: 0.00121928\n",
      "[29]\tvalid_0's rmse: 0.0379317\tvalid_0's l2: 0.00143881\tvalid_1's rmse: 0.0349589\tvalid_1's l2: 0.00122213\n",
      "[30]\tvalid_0's rmse: 0.0377443\tvalid_0's l2: 0.00142463\tvalid_1's rmse: 0.034937\tvalid_1's l2: 0.00122059\n",
      "[31]\tvalid_0's rmse: 0.0374833\tvalid_0's l2: 0.001405\tvalid_1's rmse: 0.0348089\tvalid_1's l2: 0.00121166\n",
      "[32]\tvalid_0's rmse: 0.0373863\tvalid_0's l2: 0.00139773\tvalid_1's rmse: 0.0348269\tvalid_1's l2: 0.00121292\n",
      "[33]\tvalid_0's rmse: 0.0373245\tvalid_0's l2: 0.00139312\tvalid_1's rmse: 0.034792\tvalid_1's l2: 0.00121049\n",
      "[34]\tvalid_0's rmse: 0.0370857\tvalid_0's l2: 0.00137535\tvalid_1's rmse: 0.0347242\tvalid_1's l2: 0.00120577\n",
      "[35]\tvalid_0's rmse: 0.0370104\tvalid_0's l2: 0.00136977\tvalid_1's rmse: 0.0346948\tvalid_1's l2: 0.00120373\n",
      "[1]\tvalid_0's rmse: 0.0486713\tvalid_0's l2: 0.00236889\tvalid_1's rmse: 0.0412484\tvalid_1's l2: 0.00170143\n",
      "[2]\tvalid_0's rmse: 0.0478937\tvalid_0's l2: 0.00229381\tvalid_1's rmse: 0.0406285\tvalid_1's l2: 0.00165067\n",
      "[3]\tvalid_0's rmse: 0.0471681\tvalid_0's l2: 0.00222483\tvalid_1's rmse: 0.0398968\tvalid_1's l2: 0.00159175\n",
      "[4]\tvalid_0's rmse: 0.0464978\tvalid_0's l2: 0.00216204\tvalid_1's rmse: 0.0392551\tvalid_1's l2: 0.00154096\n",
      "[5]\tvalid_0's rmse: 0.0459137\tvalid_0's l2: 0.00210807\tvalid_1's rmse: 0.0387508\tvalid_1's l2: 0.00150163\n",
      "[1]\tvalid_0's rmse: 0.0486713\tvalid_0's l2: 0.00236889\tvalid_1's rmse: 0.0412484\tvalid_1's l2: 0.00170143\n",
      "[2]\tvalid_0's rmse: 0.0478937\tvalid_0's l2: 0.00229381\tvalid_1's rmse: 0.0406285\tvalid_1's l2: 0.00165067\n",
      "[3]\tvalid_0's rmse: 0.0471681\tvalid_0's l2: 0.00222483\tvalid_1's rmse: 0.0398968\tvalid_1's l2: 0.00159175\n",
      "[4]\tvalid_0's rmse: 0.0464978\tvalid_0's l2: 0.00216204\tvalid_1's rmse: 0.0392551\tvalid_1's l2: 0.00154096\n",
      "[5]\tvalid_0's rmse: 0.0459137\tvalid_0's l2: 0.00210807\tvalid_1's rmse: 0.0387508\tvalid_1's l2: 0.00150163\n",
      "[6]\tvalid_0's rmse: 0.0454293\tvalid_0's l2: 0.00206382\tvalid_1's rmse: 0.0382799\tvalid_1's l2: 0.00146535\n",
      "[7]\tvalid_0's rmse: 0.0449804\tvalid_0's l2: 0.00202323\tvalid_1's rmse: 0.0378694\tvalid_1's l2: 0.00143409\n",
      "[8]\tvalid_0's rmse: 0.0445941\tvalid_0's l2: 0.00198863\tvalid_1's rmse: 0.0375339\tvalid_1's l2: 0.00140879\n",
      "[9]\tvalid_0's rmse: 0.0441331\tvalid_0's l2: 0.00194773\tvalid_1's rmse: 0.0371796\tvalid_1's l2: 0.00138232\n",
      "[10]\tvalid_0's rmse: 0.0437589\tvalid_0's l2: 0.00191484\tvalid_1's rmse: 0.0369005\tvalid_1's l2: 0.00136165\n",
      "[11]\tvalid_0's rmse: 0.04349\tvalid_0's l2: 0.00189138\tvalid_1's rmse: 0.0366616\tvalid_1's l2: 0.00134407\n",
      "[12]\tvalid_0's rmse: 0.0431614\tvalid_0's l2: 0.00186291\tvalid_1's rmse: 0.0365417\tvalid_1's l2: 0.00133529\n",
      "[13]\tvalid_0's rmse: 0.0429776\tvalid_0's l2: 0.00184707\tvalid_1's rmse: 0.0363868\tvalid_1's l2: 0.001324\n",
      "[14]\tvalid_0's rmse: 0.0427071\tvalid_0's l2: 0.0018239\tvalid_1's rmse: 0.0362124\tvalid_1's l2: 0.00131134\n",
      "[18]\tvalid_0's rmse: 0.0410079\tvalid_0's l2: 0.00168165\tvalid_1's rmse: 0.035543\tvalid_1's l2: 0.00126331\n",
      "[19]\tvalid_0's rmse: 0.040717\tvalid_0's l2: 0.00165787\tvalid_1's rmse: 0.0355027\tvalid_1's l2: 0.00126044\n",
      "[20]\tvalid_0's rmse: 0.0403646\tvalid_0's l2: 0.0016293\tvalid_1's rmse: 0.0352595\tvalid_1's l2: 0.00124323\n",
      "[21]\tvalid_0's rmse: 0.040001\tvalid_0's l2: 0.00160008\tvalid_1's rmse: 0.0350008\tvalid_1's l2: 0.00122505\n",
      "[22]\tvalid_0's rmse: 0.0396612\tvalid_0's l2: 0.00157301\tvalid_1's rmse: 0.0347448\tvalid_1's l2: 0.0012072\n",
      "[23]\tvalid_0's rmse: 0.0392259\tvalid_0's l2: 0.00153867\tvalid_1's rmse: 0.0345691\tvalid_1's l2: 0.00119503\n",
      "[24]\tvalid_0's rmse: 0.0391087\tvalid_0's l2: 0.00152949\tvalid_1's rmse: 0.0345455\tvalid_1's l2: 0.00119339\n",
      "[25]\tvalid_0's rmse: 0.0388657\tvalid_0's l2: 0.00151054\tvalid_1's rmse: 0.0344023\tvalid_1's l2: 0.00118352\n",
      "[26]\tvalid_0's rmse: 0.0387478\tvalid_0's l2: 0.00150139\tvalid_1's rmse: 0.0343563\tvalid_1's l2: 0.00118036\n",
      "[27]\tvalid_0's rmse: 0.0385525\tvalid_0's l2: 0.0014863\tvalid_1's rmse: 0.0342398\tvalid_1's l2: 0.00117236\n",
      "[28]\tvalid_0's rmse: 0.038302\tvalid_0's l2: 0.00146704\tvalid_1's rmse: 0.0341406\tvalid_1's l2: 0.00116558\n",
      "[29]\tvalid_0's rmse: 0.0380244\tvalid_0's l2: 0.00144586\tvalid_1's rmse: 0.0339417\tvalid_1's l2: 0.00115204\n",
      "[1]\tvalid_0's rmse: 0.04867\tvalid_0's l2: 0.00236877\tvalid_1's rmse: 0.0415434\tvalid_1's l2: 0.00172585\n",
      "[2]\tvalid_0's rmse: 0.0477685\tvalid_0's l2: 0.00228183\tvalid_1's rmse: 0.0406023\tvalid_1's l2: 0.00164855\n",
      "[3]\tvalid_0's rmse: 0.0468981\tvalid_0's l2: 0.00219944\tvalid_1's rmse: 0.0398151\tvalid_1's l2: 0.00158524\n",
      "[4]\tvalid_0's rmse: 0.0461823\tvalid_0's l2: 0.00213281\tvalid_1's rmse: 0.0391243\tvalid_1's l2: 0.00153071\n",
      "[5]\tvalid_0's rmse: 0.0456483\tvalid_0's l2: 0.00208377\tvalid_1's rmse: 0.038774\tvalid_1's l2: 0.00150342\n",
      "[6]\tvalid_0's rmse: 0.0451286\tvalid_0's l2: 0.00203659\tvalid_1's rmse: 0.0384563\tvalid_1's l2: 0.00147889\n",
      "[7]\tvalid_0's rmse: 0.044499\tvalid_0's l2: 0.00198016\tvalid_1's rmse: 0.0381587\tvalid_1's l2: 0.00145608\n",
      "[8]\tvalid_0's rmse: 0.0440153\tvalid_0's l2: 0.00193735\tvalid_1's rmse: 0.037894\tvalid_1's l2: 0.00143596\n",
      "[9]\tvalid_0's rmse: 0.0438446\tvalid_0's l2: 0.00192235\tvalid_1's rmse: 0.0376885\tvalid_1's l2: 0.00142042\n",
      "[10]\tvalid_0's rmse: 0.0433402\tvalid_0's l2: 0.00187838\tvalid_1's rmse: 0.0373162\tvalid_1's l2: 0.0013925\n",
      "[11]\tvalid_0's rmse: 0.0430527\tvalid_0's l2: 0.00185354\tvalid_1's rmse: 0.037078\tvalid_1's l2: 0.00137478\n",
      "[12]\tvalid_0's rmse: 0.0426787\tvalid_0's l2: 0.00182147\tvalid_1's rmse: 0.0368135\tvalid_1's l2: 0.00135524\n",
      "[13]\tvalid_0's rmse: 0.0424319\tvalid_0's l2: 0.00180046\tvalid_1's rmse: 0.0366481\tvalid_1's l2: 0.00134308\n",
      "[14]\tvalid_0's rmse: 0.0421585\tvalid_0's l2: 0.00177734\tvalid_1's rmse: 0.0364629\tvalid_1's l2: 0.00132954\n",
      "[15]\tvalid_0's rmse: 0.0418803\tvalid_0's l2: 0.00175396\tvalid_1's rmse: 0.0361925\tvalid_1's l2: 0.0013099\n",
      "[16]\tvalid_0's rmse: 0.0417128\tvalid_0's l2: 0.00173996\tvalid_1's rmse: 0.0360683\tvalid_1's l2: 0.00130093\n",
      "[17]\tvalid_0's rmse: 0.0414975\tvalid_0's l2: 0.00172204\tvalid_1's rmse: 0.0359992\tvalid_1's l2: 0.00129595\n",
      "[18]\tvalid_0's rmse: 0.0412722\tvalid_0's l2: 0.0017034\tvalid_1's rmse: 0.0357952\tvalid_1's l2: 0.0012813\n",
      "[19]\tvalid_0's rmse: 0.0411186\tvalid_0's l2: 0.00169074\tvalid_1's rmse: 0.035641\tvalid_1's l2: 0.00127028\n",
      "[20]\tvalid_0's rmse: 0.0409782\tvalid_0's l2: 0.00167922\tvalid_1's rmse: 0.0355579\tvalid_1's l2: 0.00126437\n",
      "[21]\tvalid_0's rmse: 0.0408503\tvalid_0's l2: 0.00166874\tvalid_1's rmse: 0.035502\tvalid_1's l2: 0.00126039\n",
      "[22]\tvalid_0's rmse: 0.04068\tvalid_0's l2: 0.00165487\tvalid_1's rmse: 0.0353562\tvalid_1's l2: 0.00125006\n",
      "[23]\tvalid_0's rmse: 0.0405485\tvalid_0's l2: 0.00164418\tvalid_1's rmse: 0.0353134\tvalid_1's l2: 0.00124704\n",
      "[24]\tvalid_0's rmse: 0.0404667\tvalid_0's l2: 0.00163755\tvalid_1's rmse: 0.0353089\tvalid_1's l2: 0.00124672\n",
      "[25]\tvalid_0's rmse: 0.0403697\tvalid_0's l2: 0.00162971\tvalid_1's rmse: 0.0352523\tvalid_1's l2: 0.00124273\n",
      "[26]\tvalid_0's rmse: 0.0403141\tvalid_0's l2: 0.00162523\tvalid_1's rmse: 0.0352609\tvalid_1's l2: 0.00124333\n",
      "[27]\tvalid_0's rmse: 0.0402343\tvalid_0's l2: 0.0016188\tvalid_1's rmse: 0.0351993\tvalid_1's l2: 0.00123899\n",
      "[28]\tvalid_0's rmse: 0.0401877\tvalid_0's l2: 0.00161505\tvalid_1's rmse: 0.0351546\tvalid_1's l2: 0.00123584\n",
      "[29]\tvalid_0's rmse: 0.0400031\tvalid_0's l2: 0.00160025\tvalid_1's rmse: 0.0351402\tvalid_1's l2: 0.00123484\n",
      "[30]\tvalid_0's rmse: 0.039798\tvalid_0's l2: 0.00158388\tvalid_1's rmse: 0.0350561\tvalid_1's l2: 0.00122893\n",
      "[31]\tvalid_0's rmse: 0.0397252\tvalid_0's l2: 0.00157809\tvalid_1's rmse: 0.035028\tvalid_1's l2: 0.00122696\n",
      "[32]\tvalid_0's rmse: 0.0396457\tvalid_0's l2: 0.00157179\tvalid_1's rmse: 0.0350146\tvalid_1's l2: 0.00122602\n",
      "[33]\tvalid_0's rmse: 0.0395881\tvalid_0's l2: 0.00156721\tvalid_1's rmse: 0.0349797\tvalid_1's l2: 0.00122358\n",
      "[34]\tvalid_0's rmse: 0.0395538\tvalid_0's l2: 0.0015645\tvalid_1's rmse: 0.0350081\tvalid_1's l2: 0.00122557\n",
      "[35]\tvalid_0's rmse: 0.0394824\tvalid_0's l2: 0.00155886\tvalid_1's rmse: 0.0350155\tvalid_1's l2: 0.00122608\n",
      "[36]\tvalid_0's rmse: 0.0394195\tvalid_0's l2: 0.0015539\tvalid_1's rmse: 0.0349414\tvalid_1's l2: 0.0012209\n",
      "[37]\tvalid_0's rmse: 0.039379\tvalid_0's l2: 0.00155071\tvalid_1's rmse: 0.0349408\tvalid_1's l2: 0.00122086\n",
      "[38]\tvalid_0's rmse: 0.0393406\tvalid_0's l2: 0.00154769\tvalid_1's rmse: 0.0349185\tvalid_1's l2: 0.0012193\n",
      "[1]\tvalid_0's rmse: 0.0488608\tvalid_0's l2: 0.00238738\tvalid_1's rmse: 0.0416908\tvalid_1's l2: 0.00173812\n",
      "[2]\tvalid_0's rmse: 0.0481316\tvalid_0's l2: 0.00231665\tvalid_1's rmse: 0.0409437\tvalid_1's l2: 0.00167639\n",
      "[3]\tvalid_0's rmse: 0.0477089\tvalid_0's l2: 0.00227614\tvalid_1's rmse: 0.0405624\tvalid_1's l2: 0.00164531\n",
      "[4]\tvalid_0's rmse: 0.0471962\tvalid_0's l2: 0.00222748\tvalid_1's rmse: 0.0400665\tvalid_1's l2: 0.00160533\n",
      "[5]\tvalid_0's rmse: 0.0467826\tvalid_0's l2: 0.00218861\tvalid_1's rmse: 0.0397763\tvalid_1's l2: 0.00158215\n",
      "[6]\tvalid_0's rmse: 0.0463201\tvalid_0's l2: 0.00214555\tvalid_1's rmse: 0.0393654\tvalid_1's l2: 0.00154964\n",
      "[7]\tvalid_0's rmse: 0.0458688\tvalid_0's l2: 0.00210395\tvalid_1's rmse: 0.038901\tvalid_1's l2: 0.00151329\n",
      "[8]\tvalid_0's rmse: 0.0455006\tvalid_0's l2: 0.00207031\tvalid_1's rmse: 0.0386416\tvalid_1's l2: 0.00149317\n",
      "[9]\tvalid_0's rmse: 0.0451584\tvalid_0's l2: 0.00203928\tvalid_1's rmse: 0.0382545\tvalid_1's l2: 0.00146341\n",
      "[10]\tvalid_0's rmse: 0.0448144\tvalid_0's l2: 0.00200833\tvalid_1's rmse: 0.0379871\tvalid_1's l2: 0.00144302\n",
      "[1]\tvalid_0's rmse: 0.0488608\tvalid_0's l2: 0.00238738\tvalid_1's rmse: 0.0416908\tvalid_1's l2: 0.00173812\n",
      "[2]\tvalid_0's rmse: 0.0481316\tvalid_0's l2: 0.00231665\tvalid_1's rmse: 0.0409437\tvalid_1's l2: 0.00167639\n",
      "[3]\tvalid_0's rmse: 0.0477089\tvalid_0's l2: 0.00227614\tvalid_1's rmse: 0.0405624\tvalid_1's l2: 0.00164531\n",
      "[4]\tvalid_0's rmse: 0.0471962\tvalid_0's l2: 0.00222748\tvalid_1's rmse: 0.0400665\tvalid_1's l2: 0.00160533\n",
      "[5]\tvalid_0's rmse: 0.0467826\tvalid_0's l2: 0.00218861\tvalid_1's rmse: 0.0397763\tvalid_1's l2: 0.00158215\n",
      "[6]\tvalid_0's rmse: 0.0463201\tvalid_0's l2: 0.00214555\tvalid_1's rmse: 0.0393654\tvalid_1's l2: 0.00154964\n",
      "[7]\tvalid_0's rmse: 0.0458688\tvalid_0's l2: 0.00210395\tvalid_1's rmse: 0.038901\tvalid_1's l2: 0.00151329\n",
      "[8]\tvalid_0's rmse: 0.0455006\tvalid_0's l2: 0.00207031\tvalid_1's rmse: 0.0386416\tvalid_1's l2: 0.00149317\n",
      "[9]\tvalid_0's rmse: 0.0451584\tvalid_0's l2: 0.00203928\tvalid_1's rmse: 0.0382545\tvalid_1's l2: 0.00146341\n",
      "[10]\tvalid_0's rmse: 0.0448144\tvalid_0's l2: 0.00200833\tvalid_1's rmse: 0.0379871\tvalid_1's l2: 0.00144302\n",
      "[11]\tvalid_0's rmse: 0.0445569\tvalid_0's l2: 0.00198532\tvalid_1's rmse: 0.0377246\tvalid_1's l2: 0.00142315\n",
      "[12]\tvalid_0's rmse: 0.0443153\tvalid_0's l2: 0.00196385\tvalid_1's rmse: 0.0374633\tvalid_1's l2: 0.0014035\n",
      "[13]\tvalid_0's rmse: 0.0440803\tvalid_0's l2: 0.00194307\tvalid_1's rmse: 0.0373085\tvalid_1's l2: 0.00139192\n",
      "[14]\tvalid_0's rmse: 0.0437196\tvalid_0's l2: 0.0019114\tvalid_1's rmse: 0.0371178\tvalid_1's l2: 0.00137773\n",
      "[15]\tvalid_0's rmse: 0.0435311\tvalid_0's l2: 0.00189496\tvalid_1's rmse: 0.0369352\tvalid_1's l2: 0.00136421\n",
      "[16]\tvalid_0's rmse: 0.0433379\tvalid_0's l2: 0.00187818\tvalid_1's rmse: 0.0367522\tvalid_1's l2: 0.00135073\n",
      "[17]\tvalid_0's rmse: 0.043067\tvalid_0's l2: 0.00185477\tvalid_1's rmse: 0.0365773\tvalid_1's l2: 0.0013379\n",
      "[18]\tvalid_0's rmse: 0.0428869\tvalid_0's l2: 0.00183929\tvalid_1's rmse: 0.0364214\tvalid_1's l2: 0.00132652\n",
      "[21]\tvalid_0's rmse: 0.0408503\tvalid_0's l2: 0.00166874\tvalid_1's rmse: 0.035502\tvalid_1's l2: 0.00126039\n",
      "[22]\tvalid_0's rmse: 0.04068\tvalid_0's l2: 0.00165487\tvalid_1's rmse: 0.0353562\tvalid_1's l2: 0.00125006\n",
      "[23]\tvalid_0's rmse: 0.0405485\tvalid_0's l2: 0.00164418\tvalid_1's rmse: 0.0353134\tvalid_1's l2: 0.00124704\n",
      "[24]\tvalid_0's rmse: 0.0404667\tvalid_0's l2: 0.00163755\tvalid_1's rmse: 0.0353089\tvalid_1's l2: 0.00124672\n",
      "[25]\tvalid_0's rmse: 0.0403697\tvalid_0's l2: 0.00162971\tvalid_1's rmse: 0.0352523\tvalid_1's l2: 0.00124273\n",
      "[26]\tvalid_0's rmse: 0.0403141\tvalid_0's l2: 0.00162523\tvalid_1's rmse: 0.0352609\tvalid_1's l2: 0.00124333\n",
      "[1]\tvalid_0's rmse: 0.0489358\tvalid_0's l2: 0.00239471\tvalid_1's rmse: 0.0409003\tvalid_1's l2: 0.00167283\n",
      "[2]\tvalid_0's rmse: 0.0482008\tvalid_0's l2: 0.00232332\tvalid_1's rmse: 0.0404861\tvalid_1's l2: 0.00163912\n",
      "[3]\tvalid_0's rmse: 0.0475319\tvalid_0's l2: 0.00225928\tvalid_1's rmse: 0.0401217\tvalid_1's l2: 0.00160975\n",
      "[4]\tvalid_0's rmse: 0.0468758\tvalid_0's l2: 0.00219734\tvalid_1's rmse: 0.0396267\tvalid_1's l2: 0.00157028\n",
      "[5]\tvalid_0's rmse: 0.0463122\tvalid_0's l2: 0.00214482\tvalid_1's rmse: 0.0394053\tvalid_1's l2: 0.00155278\n",
      "[6]\tvalid_0's rmse: 0.0459034\tvalid_0's l2: 0.00210712\tvalid_1's rmse: 0.0391774\tvalid_1's l2: 0.00153487\n",
      "[7]\tvalid_0's rmse: 0.0453595\tvalid_0's l2: 0.00205748\tvalid_1's rmse: 0.03866\tvalid_1's l2: 0.00149459\n",
      "[8]\tvalid_0's rmse: 0.0449453\tvalid_0's l2: 0.00202008\tvalid_1's rmse: 0.038165\tvalid_1's l2: 0.00145657\n",
      "[9]\tvalid_0's rmse: 0.044457\tvalid_0's l2: 0.00197643\tvalid_1's rmse: 0.0379132\tvalid_1's l2: 0.00143741\n",
      "[10]\tvalid_0's rmse: 0.0440188\tvalid_0's l2: 0.00193766\tvalid_1's rmse: 0.0375279\tvalid_1's l2: 0.00140835\n",
      "[11]\tvalid_0's rmse: 0.0435701\tvalid_0's l2: 0.00189835\tvalid_1's rmse: 0.03739\tvalid_1's l2: 0.00139801\n",
      "[12]\tvalid_0's rmse: 0.0431907\tvalid_0's l2: 0.00186544\tvalid_1's rmse: 0.0371841\tvalid_1's l2: 0.00138266\n",
      "[13]\tvalid_0's rmse: 0.0428293\tvalid_0's l2: 0.00183435\tvalid_1's rmse: 0.0369241\tvalid_1's l2: 0.00136339\n",
      "[14]\tvalid_0's rmse: 0.0425426\tvalid_0's l2: 0.00180987\tvalid_1's rmse: 0.0366964\tvalid_1's l2: 0.00134663\n",
      "[15]\tvalid_0's rmse: 0.042077\tvalid_0's l2: 0.00177048\tvalid_1's rmse: 0.0364483\tvalid_1's l2: 0.00132848\n",
      "[16]\tvalid_0's rmse: 0.0415844\tvalid_0's l2: 0.00172926\tvalid_1's rmse: 0.0360389\tvalid_1's l2: 0.0012988\n",
      "[17]\tvalid_0's rmse: 0.0414055\tvalid_0's l2: 0.00171441\tvalid_1's rmse: 0.0358457\tvalid_1's l2: 0.00128491\n",
      "[18]\tvalid_0's rmse: 0.0410079\tvalid_0's l2: 0.00168165\tvalid_1's rmse: 0.035543\tvalid_1's l2: 0.00126331\n",
      "[19]\tvalid_0's rmse: 0.040717\tvalid_0's l2: 0.00165787\tvalid_1's rmse: 0.0355027\tvalid_1's l2: 0.00126044\n",
      "[20]\tvalid_0's rmse: 0.0403646\tvalid_0's l2: 0.0016293\tvalid_1's rmse: 0.0352595\tvalid_1's l2: 0.00124323\n",
      "[21]\tvalid_0's rmse: 0.040001\tvalid_0's l2: 0.00160008\tvalid_1's rmse: 0.0350008\tvalid_1's l2: 0.00122505\n",
      "[22]\tvalid_0's rmse: 0.0396612\tvalid_0's l2: 0.00157301\tvalid_1's rmse: 0.0347448\tvalid_1's l2: 0.0012072\n",
      "[23]\tvalid_0's rmse: 0.0392259\tvalid_0's l2: 0.00153867\tvalid_1's rmse: 0.0345691\tvalid_1's l2: 0.00119503\n",
      "[24]\tvalid_0's rmse: 0.0391087\tvalid_0's l2: 0.00152949\tvalid_1's rmse: 0.0345455\tvalid_1's l2: 0.00119339\n",
      "[25]\tvalid_0's rmse: 0.0388657\tvalid_0's l2: 0.00151054\tvalid_1's rmse: 0.0344023\tvalid_1's l2: 0.00118352\n",
      "[26]\tvalid_0's rmse: 0.0387478\tvalid_0's l2: 0.00150139\tvalid_1's rmse: 0.0343563\tvalid_1's l2: 0.00118036\n",
      "[27]\tvalid_0's rmse: 0.0385525\tvalid_0's l2: 0.0014863\tvalid_1's rmse: 0.0342398\tvalid_1's l2: 0.00117236\n",
      "[28]\tvalid_0's rmse: 0.038302\tvalid_0's l2: 0.00146704\tvalid_1's rmse: 0.0341406\tvalid_1's l2: 0.00116558\n",
      "[29]\tvalid_0's rmse: 0.0380244\tvalid_0's l2: 0.00144586\tvalid_1's rmse: 0.0339417\tvalid_1's l2: 0.00115204\n",
      "[30]\tvalid_0's rmse: 0.0379633\tvalid_0's l2: 0.00144121\tvalid_1's rmse: 0.0339184\tvalid_1's l2: 0.00115045\n",
      "[31]\tvalid_0's rmse: 0.0377958\tvalid_0's l2: 0.00142852\tvalid_1's rmse: 0.0338693\tvalid_1's l2: 0.00114713\n",
      "[32]\tvalid_0's rmse: 0.0376438\tvalid_0's l2: 0.00141706\tvalid_1's rmse: 0.0337189\tvalid_1's l2: 0.00113696\n",
      "[33]\tvalid_0's rmse: 0.0375149\tvalid_0's l2: 0.00140737\tvalid_1's rmse: 0.0337257\tvalid_1's l2: 0.00113743\n",
      "[34]\tvalid_0's rmse: 0.0374258\tvalid_0's l2: 0.00140069\tvalid_1's rmse: 0.03368\tvalid_1's l2: 0.00113434\n",
      "[35]\tvalid_0's rmse: 0.0371302\tvalid_0's l2: 0.00137866\tvalid_1's rmse: 0.0335948\tvalid_1's l2: 0.00112861\n",
      "[1]\tvalid_0's rmse: 0.0488608\tvalid_0's l2: 0.00238738\tvalid_1's rmse: 0.0416908\tvalid_1's l2: 0.00173812\n",
      "[2]\tvalid_0's rmse: 0.0481316\tvalid_0's l2: 0.00231665\tvalid_1's rmse: 0.0409437\tvalid_1's l2: 0.00167639\n",
      "[3]\tvalid_0's rmse: 0.0477089\tvalid_0's l2: 0.00227614\tvalid_1's rmse: 0.0405624\tvalid_1's l2: 0.00164531\n",
      "[4]\tvalid_0's rmse: 0.0471962\tvalid_0's l2: 0.00222748\tvalid_1's rmse: 0.0400665\tvalid_1's l2: 0.00160533\n",
      "[5]\tvalid_0's rmse: 0.0467826\tvalid_0's l2: 0.00218861\tvalid_1's rmse: 0.0397763\tvalid_1's l2: 0.00158215\n",
      "[1]\tvalid_0's rmse: 0.0488608\tvalid_0's l2: 0.00238738\tvalid_1's rmse: 0.0416908\tvalid_1's l2: 0.00173812\n",
      "[2]\tvalid_0's rmse: 0.0481316\tvalid_0's l2: 0.00231665\tvalid_1's rmse: 0.0409437\tvalid_1's l2: 0.00167639\n",
      "[3]\tvalid_0's rmse: 0.0477089\tvalid_0's l2: 0.00227614\tvalid_1's rmse: 0.0405624\tvalid_1's l2: 0.00164531\n",
      "[4]\tvalid_0's rmse: 0.0471962\tvalid_0's l2: 0.00222748\tvalid_1's rmse: 0.0400665\tvalid_1's l2: 0.00160533\n",
      "[5]\tvalid_0's rmse: 0.0467826\tvalid_0's l2: 0.00218861\tvalid_1's rmse: 0.0397763\tvalid_1's l2: 0.00158215\n",
      "[6]\tvalid_0's rmse: 0.0463201\tvalid_0's l2: 0.00214555\tvalid_1's rmse: 0.0393654\tvalid_1's l2: 0.00154964\n",
      "[7]\tvalid_0's rmse: 0.0458688\tvalid_0's l2: 0.00210395\tvalid_1's rmse: 0.038901\tvalid_1's l2: 0.00151329\n",
      "[8]\tvalid_0's rmse: 0.0455006\tvalid_0's l2: 0.00207031\tvalid_1's rmse: 0.0386416\tvalid_1's l2: 0.00149317\n",
      "[9]\tvalid_0's rmse: 0.0451584\tvalid_0's l2: 0.00203928\tvalid_1's rmse: 0.0382545\tvalid_1's l2: 0.00146341\n",
      "[10]\tvalid_0's rmse: 0.0448144\tvalid_0's l2: 0.00200833\tvalid_1's rmse: 0.0379871\tvalid_1's l2: 0.00144302\n",
      "[11]\tvalid_0's rmse: 0.0445569\tvalid_0's l2: 0.00198532\tvalid_1's rmse: 0.0377246\tvalid_1's l2: 0.00142315\n",
      "[12]\tvalid_0's rmse: 0.0443153\tvalid_0's l2: 0.00196385\tvalid_1's rmse: 0.0374633\tvalid_1's l2: 0.0014035\n",
      "[13]\tvalid_0's rmse: 0.0440803\tvalid_0's l2: 0.00194307\tvalid_1's rmse: 0.0373085\tvalid_1's l2: 0.00139192\n",
      "[14]\tvalid_0's rmse: 0.0437196\tvalid_0's l2: 0.0019114\tvalid_1's rmse: 0.0371178\tvalid_1's l2: 0.00137773\n",
      "[15]\tvalid_0's rmse: 0.0435311\tvalid_0's l2: 0.00189496\tvalid_1's rmse: 0.0369352\tvalid_1's l2: 0.00136421\n",
      "[1]\tvalid_0's rmse: 0.0488608\tvalid_0's l2: 0.00238738\tvalid_1's rmse: 0.0416908\tvalid_1's l2: 0.00173812\n",
      "[2]\tvalid_0's rmse: 0.0481316\tvalid_0's l2: 0.00231665\tvalid_1's rmse: 0.0409437\tvalid_1's l2: 0.00167639\n",
      "[3]\tvalid_0's rmse: 0.0477089\tvalid_0's l2: 0.00227614\tvalid_1's rmse: 0.0405624\tvalid_1's l2: 0.00164531\n",
      "[4]\tvalid_0's rmse: 0.0471962\tvalid_0's l2: 0.00222748\tvalid_1's rmse: 0.0400665\tvalid_1's l2: 0.00160533\n",
      "[5]\tvalid_0's rmse: 0.0467826\tvalid_0's l2: 0.00218861\tvalid_1's rmse: 0.0397763\tvalid_1's l2: 0.00158215\n",
      "[6]\tvalid_0's rmse: 0.0463201\tvalid_0's l2: 0.00214555\tvalid_1's rmse: 0.0393654\tvalid_1's l2: 0.00154964\n",
      "[7]\tvalid_0's rmse: 0.0458688\tvalid_0's l2: 0.00210395\tvalid_1's rmse: 0.038901\tvalid_1's l2: 0.00151329\n",
      "[8]\tvalid_0's rmse: 0.0455006\tvalid_0's l2: 0.00207031\tvalid_1's rmse: 0.0386416\tvalid_1's l2: 0.00149317\n",
      "[9]\tvalid_0's rmse: 0.0451584\tvalid_0's l2: 0.00203928\tvalid_1's rmse: 0.0382545\tvalid_1's l2: 0.00146341\n",
      "[10]\tvalid_0's rmse: 0.0448144\tvalid_0's l2: 0.00200833\tvalid_1's rmse: 0.0379871\tvalid_1's l2: 0.00144302\n",
      "[11]\tvalid_0's rmse: 0.0445569\tvalid_0's l2: 0.00198532\tvalid_1's rmse: 0.0377246\tvalid_1's l2: 0.00142315\n",
      "[12]\tvalid_0's rmse: 0.0443153\tvalid_0's l2: 0.00196385\tvalid_1's rmse: 0.0374633\tvalid_1's l2: 0.0014035\n",
      "[13]\tvalid_0's rmse: 0.0440803\tvalid_0's l2: 0.00194307\tvalid_1's rmse: 0.0373085\tvalid_1's l2: 0.00139192\n",
      "[14]\tvalid_0's rmse: 0.0437196\tvalid_0's l2: 0.0019114\tvalid_1's rmse: 0.0371178\tvalid_1's l2: 0.00137773\n",
      "[15]\tvalid_0's rmse: 0.0435311\tvalid_0's l2: 0.00189496\tvalid_1's rmse: 0.0369352\tvalid_1's l2: 0.00136421\n",
      "[16]\tvalid_0's rmse: 0.0433379\tvalid_0's l2: 0.00187818\tvalid_1's rmse: 0.0367522\tvalid_1's l2: 0.00135073\n",
      "[17]\tvalid_0's rmse: 0.043067\tvalid_0's l2: 0.00185477\tvalid_1's rmse: 0.0365773\tvalid_1's l2: 0.0013379\n",
      "[1]\tvalid_0's rmse: 0.0482671\tvalid_0's l2: 0.00232971\tvalid_1's rmse: 0.0409418\tvalid_1's l2: 0.00167623\n",
      "[2]\tvalid_0's rmse: 0.047143\tvalid_0's l2: 0.00222246\tvalid_1's rmse: 0.0399337\tvalid_1's l2: 0.0015947\n",
      "[3]\tvalid_0's rmse: 0.0462154\tvalid_0's l2: 0.00213587\tvalid_1's rmse: 0.0390963\tvalid_1's l2: 0.00152852\n",
      "[4]\tvalid_0's rmse: 0.0454522\tvalid_0's l2: 0.0020659\tvalid_1's rmse: 0.0384541\tvalid_1's l2: 0.00147872\n",
      "[5]\tvalid_0's rmse: 0.0448521\tvalid_0's l2: 0.00201171\tvalid_1's rmse: 0.0379616\tvalid_1's l2: 0.00144108\n",
      "[6]\tvalid_0's rmse: 0.044207\tvalid_0's l2: 0.00195426\tvalid_1's rmse: 0.0376234\tvalid_1's l2: 0.00141552\n",
      "[7]\tvalid_0's rmse: 0.0437472\tvalid_0's l2: 0.00191382\tvalid_1's rmse: 0.0372432\tvalid_1's l2: 0.00138705\n",
      "[8]\tvalid_0's rmse: 0.0433888\tvalid_0's l2: 0.00188259\tvalid_1's rmse: 0.03705\tvalid_1's l2: 0.0013727\n",
      "[9]\tvalid_0's rmse: 0.042955\tvalid_0's l2: 0.00184513\tvalid_1's rmse: 0.0368201\tvalid_1's l2: 0.00135572\n",
      "[10]\tvalid_0's rmse: 0.0425741\tvalid_0's l2: 0.00181255\tvalid_1's rmse: 0.0365884\tvalid_1's l2: 0.00133871\n",
      "[11]\tvalid_0's rmse: 0.0420529\tvalid_0's l2: 0.00176844\tvalid_1's rmse: 0.0364868\tvalid_1's l2: 0.00133128\n",
      "[12]\tvalid_0's rmse: 0.0418539\tvalid_0's l2: 0.00175175\tvalid_1's rmse: 0.0363661\tvalid_1's l2: 0.00132249\n",
      "[13]\tvalid_0's rmse: 0.0414056\tvalid_0's l2: 0.00171442\tvalid_1's rmse: 0.0363158\tvalid_1's l2: 0.00131884\n",
      "[14]\tvalid_0's rmse: 0.0411921\tvalid_0's l2: 0.00169679\tvalid_1's rmse: 0.0361921\tvalid_1's l2: 0.00130986\n",
      "[15]\tvalid_0's rmse: 0.0407669\tvalid_0's l2: 0.00166194\tvalid_1's rmse: 0.0361013\tvalid_1's l2: 0.0013033\n",
      "[16]\tvalid_0's rmse: 0.0403203\tvalid_0's l2: 0.00162573\tvalid_1's rmse: 0.0359146\tvalid_1's l2: 0.00128986\n",
      "[17]\tvalid_0's rmse: 0.0401606\tvalid_0's l2: 0.00161287\tvalid_1's rmse: 0.0357938\tvalid_1's l2: 0.0012812\n",
      "[18]\tvalid_0's rmse: 0.0398688\tvalid_0's l2: 0.00158952\tvalid_1's rmse: 0.0358064\tvalid_1's l2: 0.0012821\n",
      "[19]\tvalid_0's rmse: 0.0396071\tvalid_0's l2: 0.00156872\tvalid_1's rmse: 0.0355378\tvalid_1's l2: 0.00126294\n",
      "[20]\tvalid_0's rmse: 0.0393291\tvalid_0's l2: 0.00154678\tvalid_1's rmse: 0.0354537\tvalid_1's l2: 0.00125696\n",
      "[21]\tvalid_0's rmse: 0.0390956\tvalid_0's l2: 0.00152847\tvalid_1's rmse: 0.0354511\tvalid_1's l2: 0.00125678\n",
      "[22]\tvalid_0's rmse: 0.0389671\tvalid_0's l2: 0.00151843\tvalid_1's rmse: 0.0353656\tvalid_1's l2: 0.00125073\n",
      "[23]\tvalid_0's rmse: 0.0386787\tvalid_0's l2: 0.00149604\tvalid_1's rmse: 0.0352894\tvalid_1's l2: 0.00124534\n",
      "[24]\tvalid_0's rmse: 0.0385701\tvalid_0's l2: 0.00148766\tvalid_1's rmse: 0.0352931\tvalid_1's l2: 0.0012456\n",
      "[25]\tvalid_0's rmse: 0.0384219\tvalid_0's l2: 0.00147624\tvalid_1's rmse: 0.0352389\tvalid_1's l2: 0.00124178\n",
      "[26]\tvalid_0's rmse: 0.0383652\tvalid_0's l2: 0.00147189\tvalid_1's rmse: 0.03518\tvalid_1's l2: 0.00123763\n",
      "[27]\tvalid_0's rmse: 0.0381944\tvalid_0's l2: 0.00145881\tvalid_1's rmse: 0.0350742\tvalid_1's l2: 0.0012302\n",
      "[28]\tvalid_0's rmse: 0.0379767\tvalid_0's l2: 0.00144223\tvalid_1's rmse: 0.0349182\tvalid_1's l2: 0.00121928\n",
      "[29]\tvalid_0's rmse: 0.0379317\tvalid_0's l2: 0.00143881\tvalid_1's rmse: 0.0349589\tvalid_1's l2: 0.00122213\n",
      "[30]\tvalid_0's rmse: 0.0377443\tvalid_0's l2: 0.00142463\tvalid_1's rmse: 0.034937\tvalid_1's l2: 0.00122059\n",
      "[31]\tvalid_0's rmse: 0.0374833\tvalid_0's l2: 0.001405\tvalid_1's rmse: 0.0348089\tvalid_1's l2: 0.00121166\n",
      "[32]\tvalid_0's rmse: 0.0373863\tvalid_0's l2: 0.00139773\tvalid_1's rmse: 0.0348269\tvalid_1's l2: 0.00121292\n",
      "[33]\tvalid_0's rmse: 0.0373245\tvalid_0's l2: 0.00139312\tvalid_1's rmse: 0.034792\tvalid_1's l2: 0.00121049\n",
      "[34]\tvalid_0's rmse: 0.0370857\tvalid_0's l2: 0.00137535\tvalid_1's rmse: 0.0347242\tvalid_1's l2: 0.00120577\n",
      "[35]\tvalid_0's rmse: 0.0370104\tvalid_0's l2: 0.00136977\tvalid_1's rmse: 0.0346948\tvalid_1's l2: 0.00120373\n",
      "[36]\tvalid_0's rmse: 0.0369971\tvalid_0's l2: 0.00136879\tvalid_1's rmse: 0.0347535\tvalid_1's l2: 0.0012078\n",
      "[37]\tvalid_0's rmse: 0.0368982\tvalid_0's l2: 0.00136148\tvalid_1's rmse: 0.0347477\tvalid_1's l2: 0.0012074\n",
      "[38]\tvalid_0's rmse: 0.0368429\tvalid_0's l2: 0.0013574\tvalid_1's rmse: 0.03469\tvalid_1's l2: 0.00120339\n",
      "[1]\tvalid_0's rmse: 0.0486713\tvalid_0's l2: 0.00236889\tvalid_1's rmse: 0.0412484\tvalid_1's l2: 0.00170143\n",
      "[2]\tvalid_0's rmse: 0.0478937\tvalid_0's l2: 0.00229381\tvalid_1's rmse: 0.0406285\tvalid_1's l2: 0.00165067\n",
      "[3]\tvalid_0's rmse: 0.0471681\tvalid_0's l2: 0.00222483\tvalid_1's rmse: 0.0398968\tvalid_1's l2: 0.00159175\n",
      "[4]\tvalid_0's rmse: 0.0464978\tvalid_0's l2: 0.00216204\tvalid_1's rmse: 0.0392551\tvalid_1's l2: 0.00154096\n",
      "[5]\tvalid_0's rmse: 0.0459137\tvalid_0's l2: 0.00210807\tvalid_1's rmse: 0.0387508\tvalid_1's l2: 0.00150163\n",
      "[6]\tvalid_0's rmse: 0.0454293\tvalid_0's l2: 0.00206382\tvalid_1's rmse: 0.0382799\tvalid_1's l2: 0.00146535\n",
      "[7]\tvalid_0's rmse: 0.0449804\tvalid_0's l2: 0.00202323\tvalid_1's rmse: 0.0378694\tvalid_1's l2: 0.00143409\n",
      "[8]\tvalid_0's rmse: 0.0445941\tvalid_0's l2: 0.00198863\tvalid_1's rmse: 0.0375339\tvalid_1's l2: 0.00140879\n",
      "[9]\tvalid_0's rmse: 0.0441331\tvalid_0's l2: 0.00194773\tvalid_1's rmse: 0.0371796\tvalid_1's l2: 0.00138232\n",
      "[10]\tvalid_0's rmse: 0.0437589\tvalid_0's l2: 0.00191484\tvalid_1's rmse: 0.0369005\tvalid_1's l2: 0.00136165\n",
      "[1]\tvalid_0's rmse: 0.0486713\tvalid_0's l2: 0.00236889\tvalid_1's rmse: 0.0412484\tvalid_1's l2: 0.00170143\n",
      "[2]\tvalid_0's rmse: 0.0478937\tvalid_0's l2: 0.00229381\tvalid_1's rmse: 0.0406285\tvalid_1's l2: 0.00165067\n",
      "[3]\tvalid_0's rmse: 0.0471681\tvalid_0's l2: 0.00222483\tvalid_1's rmse: 0.0398968\tvalid_1's l2: 0.00159175\n",
      "[4]\tvalid_0's rmse: 0.0464978\tvalid_0's l2: 0.00216204\tvalid_1's rmse: 0.0392551\tvalid_1's l2: 0.00154096\n",
      "[5]\tvalid_0's rmse: 0.0459137\tvalid_0's l2: 0.00210807\tvalid_1's rmse: 0.0387508\tvalid_1's l2: 0.00150163\n",
      "[6]\tvalid_0's rmse: 0.0454293\tvalid_0's l2: 0.00206382\tvalid_1's rmse: 0.0382799\tvalid_1's l2: 0.00146535\n",
      "[7]\tvalid_0's rmse: 0.0449804\tvalid_0's l2: 0.00202323\tvalid_1's rmse: 0.0378694\tvalid_1's l2: 0.00143409\n",
      "[8]\tvalid_0's rmse: 0.0445941\tvalid_0's l2: 0.00198863\tvalid_1's rmse: 0.0375339\tvalid_1's l2: 0.00140879\n",
      "[9]\tvalid_0's rmse: 0.0441331\tvalid_0's l2: 0.00194773\tvalid_1's rmse: 0.0371796\tvalid_1's l2: 0.00138232\n",
      "[10]\tvalid_0's rmse: 0.0437589\tvalid_0's l2: 0.00191484\tvalid_1's rmse: 0.0369005\tvalid_1's l2: 0.00136165\n",
      "[11]\tvalid_0's rmse: 0.04349\tvalid_0's l2: 0.00189138\tvalid_1's rmse: 0.0366616\tvalid_1's l2: 0.00134407\n",
      "[12]\tvalid_0's rmse: 0.0431614\tvalid_0's l2: 0.00186291\tvalid_1's rmse: 0.0365417\tvalid_1's l2: 0.00133529\n",
      "[13]\tvalid_0's rmse: 0.0429776\tvalid_0's l2: 0.00184707\tvalid_1's rmse: 0.0363868\tvalid_1's l2: 0.001324\n",
      "[14]\tvalid_0's rmse: 0.0427071\tvalid_0's l2: 0.0018239\tvalid_1's rmse: 0.0362124\tvalid_1's l2: 0.00131134\n",
      "[15]\tvalid_0's rmse: 0.0425481\tvalid_0's l2: 0.00181034\tvalid_1's rmse: 0.0361668\tvalid_1's l2: 0.00130804\n",
      "[16]\tvalid_0's rmse: 0.0423421\tvalid_0's l2: 0.00179286\tvalid_1's rmse: 0.0361503\tvalid_1's l2: 0.00130684\n",
      "[17]\tvalid_0's rmse: 0.0420339\tvalid_0's l2: 0.00176685\tvalid_1's rmse: 0.0361129\tvalid_1's l2: 0.00130414\n",
      "[18]\tvalid_0's rmse: 0.0419114\tvalid_0's l2: 0.00175656\tvalid_1's rmse: 0.0360252\tvalid_1's l2: 0.00129782\n",
      "[19]\tvalid_0's rmse: 0.041772\tvalid_0's l2: 0.0017449\tvalid_1's rmse: 0.0359097\tvalid_1's l2: 0.0012895\n",
      "[20]\tvalid_0's rmse: 0.0415481\tvalid_0's l2: 0.00172624\tvalid_1's rmse: 0.0356853\tvalid_1's l2: 0.00127344\n",
      "[1]\tvalid_0's rmse: 0.0486565\tvalid_0's l2: 0.00236746\tvalid_1's rmse: 0.0407151\tvalid_1's l2: 0.00165772\n",
      "[2]\tvalid_0's rmse: 0.0478779\tvalid_0's l2: 0.00229229\tvalid_1's rmse: 0.0400925\tvalid_1's l2: 0.00160741\n",
      "[3]\tvalid_0's rmse: 0.0469519\tvalid_0's l2: 0.00220448\tvalid_1's rmse: 0.0395486\tvalid_1's l2: 0.00156409\n",
      "[4]\tvalid_0's rmse: 0.046171\tvalid_0's l2: 0.00213176\tvalid_1's rmse: 0.0390565\tvalid_1's l2: 0.00152541\n",
      "[5]\tvalid_0's rmse: 0.0454461\tvalid_0's l2: 0.00206535\tvalid_1's rmse: 0.038698\tvalid_1's l2: 0.00149753\n",
      "[6]\tvalid_0's rmse: 0.0448816\tvalid_0's l2: 0.00201436\tvalid_1's rmse: 0.038405\tvalid_1's l2: 0.00147495\n",
      "[7]\tvalid_0's rmse: 0.0443641\tvalid_0's l2: 0.00196817\tvalid_1's rmse: 0.0378969\tvalid_1's l2: 0.00143618\n",
      "[8]\tvalid_0's rmse: 0.0437295\tvalid_0's l2: 0.00191227\tvalid_1's rmse: 0.0374467\tvalid_1's l2: 0.00140226\n",
      "[9]\tvalid_0's rmse: 0.0430954\tvalid_0's l2: 0.00185721\tvalid_1's rmse: 0.037234\tvalid_1's l2: 0.00138637\n",
      "[10]\tvalid_0's rmse: 0.0427003\tvalid_0's l2: 0.00182332\tvalid_1's rmse: 0.0369849\tvalid_1's l2: 0.00136788\n",
      "[12]\tvalid_0's rmse: 0.0426787\tvalid_0's l2: 0.00182147\tvalid_1's rmse: 0.0368135\tvalid_1's l2: 0.00135524\n",
      "[13]\tvalid_0's rmse: 0.0424319\tvalid_0's l2: 0.00180046\tvalid_1's rmse: 0.0366481\tvalid_1's l2: 0.00134308\n",
      "[14]\tvalid_0's rmse: 0.0421585\tvalid_0's l2: 0.00177734\tvalid_1's rmse: 0.0364629\tvalid_1's l2: 0.00132954\n",
      "[15]\tvalid_0's rmse: 0.0418803\tvalid_0's l2: 0.00175396\tvalid_1's rmse: 0.0361925\tvalid_1's l2: 0.0013099\n",
      "[16]\tvalid_0's rmse: 0.0417128\tvalid_0's l2: 0.00173996\tvalid_1's rmse: 0.0360683\tvalid_1's l2: 0.00130093\n",
      "[17]\tvalid_0's rmse: 0.0414975\tvalid_0's l2: 0.00172204\tvalid_1's rmse: 0.0359992\tvalid_1's l2: 0.00129595\n",
      "[18]\tvalid_0's rmse: 0.0412722\tvalid_0's l2: 0.0017034\tvalid_1's rmse: 0.0357952\tvalid_1's l2: 0.0012813\n",
      "[19]\tvalid_0's rmse: 0.0411186\tvalid_0's l2: 0.00169074\tvalid_1's rmse: 0.035641\tvalid_1's l2: 0.00127028\n",
      "[20]\tvalid_0's rmse: 0.0409782\tvalid_0's l2: 0.00167922\tvalid_1's rmse: 0.0355579\tvalid_1's l2: 0.00126437\n",
      "[21]\tvalid_0's rmse: 0.0408503\tvalid_0's l2: 0.00166874\tvalid_1's rmse: 0.035502\tvalid_1's l2: 0.00126039\n",
      "[22]\tvalid_0's rmse: 0.04068\tvalid_0's l2: 0.00165487\tvalid_1's rmse: 0.0353562\tvalid_1's l2: 0.00125006\n",
      "[23]\tvalid_0's rmse: 0.0405485\tvalid_0's l2: 0.00164418\tvalid_1's rmse: 0.0353134\tvalid_1's l2: 0.00124704\n",
      "[24]\tvalid_0's rmse: 0.0404667\tvalid_0's l2: 0.00163755\tvalid_1's rmse: 0.0353089\tvalid_1's l2: 0.00124672\n",
      "[25]\tvalid_0's rmse: 0.0403697\tvalid_0's l2: 0.00162971\tvalid_1's rmse: 0.0352523\tvalid_1's l2: 0.00124273\n",
      "[26]\tvalid_0's rmse: 0.0403141\tvalid_0's l2: 0.00162523\tvalid_1's rmse: 0.0352609\tvalid_1's l2: 0.00124333\n",
      "[27]\tvalid_0's rmse: 0.0402343\tvalid_0's l2: 0.0016188\tvalid_1's rmse: 0.0351993\tvalid_1's l2: 0.00123899\n",
      "[28]\tvalid_0's rmse: 0.0401877\tvalid_0's l2: 0.00161505\tvalid_1's rmse: 0.0351546\tvalid_1's l2: 0.00123584\n",
      "[29]\tvalid_0's rmse: 0.0400031\tvalid_0's l2: 0.00160025\tvalid_1's rmse: 0.0351402\tvalid_1's l2: 0.00123484\n",
      "[30]\tvalid_0's rmse: 0.039798\tvalid_0's l2: 0.00158388\tvalid_1's rmse: 0.0350561\tvalid_1's l2: 0.00122893\n",
      "[31]\tvalid_0's rmse: 0.0397252\tvalid_0's l2: 0.00157809\tvalid_1's rmse: 0.035028\tvalid_1's l2: 0.00122696\n",
      "[32]\tvalid_0's rmse: 0.0396457\tvalid_0's l2: 0.00157179\tvalid_1's rmse: 0.0350146\tvalid_1's l2: 0.00122602\n",
      "[1]\tvalid_0's rmse: 0.0491617\tvalid_0's l2: 0.00241687\tvalid_1's rmse: 0.0410027\tvalid_1's l2: 0.00168122\n",
      "[2]\tvalid_0's rmse: 0.0486316\tvalid_0's l2: 0.00236503\tvalid_1's rmse: 0.0406986\tvalid_1's l2: 0.00165638\n",
      "[3]\tvalid_0's rmse: 0.0482339\tvalid_0's l2: 0.0023265\tvalid_1's rmse: 0.0403724\tvalid_1's l2: 0.00162993\n",
      "[4]\tvalid_0's rmse: 0.0478524\tvalid_0's l2: 0.00228985\tvalid_1's rmse: 0.0400531\tvalid_1's l2: 0.00160425\n",
      "[5]\tvalid_0's rmse: 0.0475061\tvalid_0's l2: 0.00225683\tvalid_1's rmse: 0.0398699\tvalid_1's l2: 0.00158961\n",
      "[1]\tvalid_0's rmse: 0.0491617\tvalid_0's l2: 0.00241687\tvalid_1's rmse: 0.0410027\tvalid_1's l2: 0.00168122\n",
      "[2]\tvalid_0's rmse: 0.0486316\tvalid_0's l2: 0.00236503\tvalid_1's rmse: 0.0406986\tvalid_1's l2: 0.00165638\n",
      "[3]\tvalid_0's rmse: 0.0482339\tvalid_0's l2: 0.0023265\tvalid_1's rmse: 0.0403724\tvalid_1's l2: 0.00162993\n",
      "[4]\tvalid_0's rmse: 0.0478524\tvalid_0's l2: 0.00228985\tvalid_1's rmse: 0.0400531\tvalid_1's l2: 0.00160425\n",
      "[5]\tvalid_0's rmse: 0.0475061\tvalid_0's l2: 0.00225683\tvalid_1's rmse: 0.0398699\tvalid_1's l2: 0.00158961\n",
      "[6]\tvalid_0's rmse: 0.0472592\tvalid_0's l2: 0.00223343\tvalid_1's rmse: 0.0396547\tvalid_1's l2: 0.00157249\n",
      "[7]\tvalid_0's rmse: 0.046776\tvalid_0's l2: 0.00218799\tvalid_1's rmse: 0.0391357\tvalid_1's l2: 0.0015316\n",
      "[8]\tvalid_0's rmse: 0.0465075\tvalid_0's l2: 0.00216295\tvalid_1's rmse: 0.0389261\tvalid_1's l2: 0.00151524\n",
      "[9]\tvalid_0's rmse: 0.046255\tvalid_0's l2: 0.00213952\tvalid_1's rmse: 0.0387754\tvalid_1's l2: 0.00150353\n",
      "[10]\tvalid_0's rmse: 0.0458407\tvalid_0's l2: 0.00210137\tvalid_1's rmse: 0.0383507\tvalid_1's l2: 0.00147078\n",
      "[11]\tvalid_0's rmse: 0.045579\tvalid_0's l2: 0.00207745\tvalid_1's rmse: 0.038261\tvalid_1's l2: 0.0014639\n",
      "[12]\tvalid_0's rmse: 0.0452728\tvalid_0's l2: 0.00204963\tvalid_1's rmse: 0.0379036\tvalid_1's l2: 0.00143669\n",
      "[13]\tvalid_0's rmse: 0.045066\tvalid_0's l2: 0.00203094\tvalid_1's rmse: 0.0377658\tvalid_1's l2: 0.00142626\n",
      "[14]\tvalid_0's rmse: 0.0446723\tvalid_0's l2: 0.00199562\tvalid_1's rmse: 0.0375164\tvalid_1's l2: 0.00140748\n",
      "[15]\tvalid_0's rmse: 0.0442829\tvalid_0's l2: 0.00196098\tvalid_1's rmse: 0.0371922\tvalid_1's l2: 0.00138326\n",
      "[1]\tvalid_0's rmse: 0.0486713\tvalid_0's l2: 0.00236889\tvalid_1's rmse: 0.0412484\tvalid_1's l2: 0.00170143\n",
      "[2]\tvalid_0's rmse: 0.0478937\tvalid_0's l2: 0.00229381\tvalid_1's rmse: 0.0406285\tvalid_1's l2: 0.00165067\n",
      "[3]\tvalid_0's rmse: 0.0471681\tvalid_0's l2: 0.00222483\tvalid_1's rmse: 0.0398968\tvalid_1's l2: 0.00159175\n",
      "[4]\tvalid_0's rmse: 0.0464978\tvalid_0's l2: 0.00216204\tvalid_1's rmse: 0.0392551\tvalid_1's l2: 0.00154096\n",
      "[5]\tvalid_0's rmse: 0.0459137\tvalid_0's l2: 0.00210807\tvalid_1's rmse: 0.0387508\tvalid_1's l2: 0.00150163\n",
      "[6]\tvalid_0's rmse: 0.0454293\tvalid_0's l2: 0.00206382\tvalid_1's rmse: 0.0382799\tvalid_1's l2: 0.00146535\n",
      "[7]\tvalid_0's rmse: 0.0449804\tvalid_0's l2: 0.00202323\tvalid_1's rmse: 0.0378694\tvalid_1's l2: 0.00143409\n",
      "[8]\tvalid_0's rmse: 0.0445941\tvalid_0's l2: 0.00198863\tvalid_1's rmse: 0.0375339\tvalid_1's l2: 0.00140879\n",
      "[9]\tvalid_0's rmse: 0.0441331\tvalid_0's l2: 0.00194773\tvalid_1's rmse: 0.0371796\tvalid_1's l2: 0.00138232\n",
      "[10]\tvalid_0's rmse: 0.0437589\tvalid_0's l2: 0.00191484\tvalid_1's rmse: 0.0369005\tvalid_1's l2: 0.00136165\n",
      "[11]\tvalid_0's rmse: 0.04349\tvalid_0's l2: 0.00189138\tvalid_1's rmse: 0.0366616\tvalid_1's l2: 0.00134407\n",
      "[12]\tvalid_0's rmse: 0.0431614\tvalid_0's l2: 0.00186291\tvalid_1's rmse: 0.0365417\tvalid_1's l2: 0.00133529\n",
      "[13]\tvalid_0's rmse: 0.0429776\tvalid_0's l2: 0.00184707\tvalid_1's rmse: 0.0363868\tvalid_1's l2: 0.001324\n",
      "[14]\tvalid_0's rmse: 0.0427071\tvalid_0's l2: 0.0018239\tvalid_1's rmse: 0.0362124\tvalid_1's l2: 0.00131134\n",
      "[15]\tvalid_0's rmse: 0.0425481\tvalid_0's l2: 0.00181034\tvalid_1's rmse: 0.0361668\tvalid_1's l2: 0.00130804\n",
      "[16]\tvalid_0's rmse: 0.0423421\tvalid_0's l2: 0.00179286\tvalid_1's rmse: 0.0361503\tvalid_1's l2: 0.00130684\n",
      "[17]\tvalid_0's rmse: 0.0420339\tvalid_0's l2: 0.00176685\tvalid_1's rmse: 0.0361129\tvalid_1's l2: 0.00130414\n",
      "[18]\tvalid_0's rmse: 0.0419114\tvalid_0's l2: 0.00175656\tvalid_1's rmse: 0.0360252\tvalid_1's l2: 0.00129782\n",
      "[19]\tvalid_0's rmse: 0.041772\tvalid_0's l2: 0.0017449\tvalid_1's rmse: 0.0359097\tvalid_1's l2: 0.0012895\n",
      "[20]\tvalid_0's rmse: 0.0415481\tvalid_0's l2: 0.00172624\tvalid_1's rmse: 0.0356853\tvalid_1's l2: 0.00127344\n",
      "[21]\tvalid_0's rmse: 0.0413912\tvalid_0's l2: 0.00171323\tvalid_1's rmse: 0.0356706\tvalid_1's l2: 0.00127239\n",
      "[22]\tvalid_0's rmse: 0.0411801\tvalid_0's l2: 0.0016958\tvalid_1's rmse: 0.0355379\tvalid_1's l2: 0.00126294\n",
      "[23]\tvalid_0's rmse: 0.0410619\tvalid_0's l2: 0.00168608\tvalid_1's rmse: 0.0354726\tvalid_1's l2: 0.00125831\n",
      "[24]\tvalid_0's rmse: 0.0408979\tvalid_0's l2: 0.00167264\tvalid_1's rmse: 0.0353591\tvalid_1's l2: 0.00125027\n",
      "[25]\tvalid_0's rmse: 0.040659\tvalid_0's l2: 0.00165315\tvalid_1's rmse: 0.0352526\tvalid_1's l2: 0.00124274\n",
      "[1]\tvalid_0's rmse: 0.0488608\tvalid_0's l2: 0.00238738\tvalid_1's rmse: 0.0416908\tvalid_1's l2: 0.00173812\n",
      "[2]\tvalid_0's rmse: 0.0481316\tvalid_0's l2: 0.00231665\tvalid_1's rmse: 0.0409437\tvalid_1's l2: 0.00167639\n",
      "[3]\tvalid_0's rmse: 0.0477089\tvalid_0's l2: 0.00227614\tvalid_1's rmse: 0.0405624\tvalid_1's l2: 0.00164531\n",
      "[4]\tvalid_0's rmse: 0.0471962\tvalid_0's l2: 0.00222748\tvalid_1's rmse: 0.0400665\tvalid_1's l2: 0.00160533\n",
      "[5]\tvalid_0's rmse: 0.0467826\tvalid_0's l2: 0.00218861\tvalid_1's rmse: 0.0397763\tvalid_1's l2: 0.00158215\n",
      "[6]\tvalid_0's rmse: 0.0463201\tvalid_0's l2: 0.00214555\tvalid_1's rmse: 0.0393654\tvalid_1's l2: 0.00154964\n",
      "[7]\tvalid_0's rmse: 0.0458688\tvalid_0's l2: 0.00210395\tvalid_1's rmse: 0.038901\tvalid_1's l2: 0.00151329\n",
      "[8]\tvalid_0's rmse: 0.0455006\tvalid_0's l2: 0.00207031\tvalid_1's rmse: 0.0386416\tvalid_1's l2: 0.00149317\n",
      "[9]\tvalid_0's rmse: 0.0451584\tvalid_0's l2: 0.00203928\tvalid_1's rmse: 0.0382545\tvalid_1's l2: 0.00146341\n",
      "[10]\tvalid_0's rmse: 0.0448144\tvalid_0's l2: 0.00200833\tvalid_1's rmse: 0.0379871\tvalid_1's l2: 0.00144302\n",
      "[11]\tvalid_0's rmse: 0.0445569\tvalid_0's l2: 0.00198532\tvalid_1's rmse: 0.0377246\tvalid_1's l2: 0.00142315\n",
      "[12]\tvalid_0's rmse: 0.0443153\tvalid_0's l2: 0.00196385\tvalid_1's rmse: 0.0374633\tvalid_1's l2: 0.0014035\n",
      "[15]\tvalid_0's rmse: 0.0425481\tvalid_0's l2: 0.00181034\tvalid_1's rmse: 0.0361668\tvalid_1's l2: 0.00130804\n",
      "[1]\tvalid_0's rmse: 0.0491617\tvalid_0's l2: 0.00241687\tvalid_1's rmse: 0.0410027\tvalid_1's l2: 0.00168122\n",
      "[2]\tvalid_0's rmse: 0.0486316\tvalid_0's l2: 0.00236503\tvalid_1's rmse: 0.0406986\tvalid_1's l2: 0.00165638\n",
      "[3]\tvalid_0's rmse: 0.0482339\tvalid_0's l2: 0.0023265\tvalid_1's rmse: 0.0403724\tvalid_1's l2: 0.00162993\n",
      "[4]\tvalid_0's rmse: 0.0478524\tvalid_0's l2: 0.00228985\tvalid_1's rmse: 0.0400531\tvalid_1's l2: 0.00160425\n",
      "[5]\tvalid_0's rmse: 0.0475061\tvalid_0's l2: 0.00225683\tvalid_1's rmse: 0.0398699\tvalid_1's l2: 0.00158961\n",
      "[6]\tvalid_0's rmse: 0.0472592\tvalid_0's l2: 0.00223343\tvalid_1's rmse: 0.0396547\tvalid_1's l2: 0.00157249\n",
      "[7]\tvalid_0's rmse: 0.046776\tvalid_0's l2: 0.00218799\tvalid_1's rmse: 0.0391357\tvalid_1's l2: 0.0015316\n",
      "[8]\tvalid_0's rmse: 0.0465075\tvalid_0's l2: 0.00216295\tvalid_1's rmse: 0.0389261\tvalid_1's l2: 0.00151524\n",
      "[9]\tvalid_0's rmse: 0.046255\tvalid_0's l2: 0.00213952\tvalid_1's rmse: 0.0387754\tvalid_1's l2: 0.00150353\n",
      "[10]\tvalid_0's rmse: 0.0458407\tvalid_0's l2: 0.00210137\tvalid_1's rmse: 0.0383507\tvalid_1's l2: 0.00147078\n",
      "[11]\tvalid_0's rmse: 0.045579\tvalid_0's l2: 0.00207745\tvalid_1's rmse: 0.038261\tvalid_1's l2: 0.0014639\n",
      "[12]\tvalid_0's rmse: 0.0452728\tvalid_0's l2: 0.00204963\tvalid_1's rmse: 0.0379036\tvalid_1's l2: 0.00143669\n",
      "[13]\tvalid_0's rmse: 0.045066\tvalid_0's l2: 0.00203094\tvalid_1's rmse: 0.0377658\tvalid_1's l2: 0.00142626\n",
      "[14]\tvalid_0's rmse: 0.0446723\tvalid_0's l2: 0.00199562\tvalid_1's rmse: 0.0375164\tvalid_1's l2: 0.00140748\n",
      "[15]\tvalid_0's rmse: 0.0442829\tvalid_0's l2: 0.00196098\tvalid_1's rmse: 0.0371922\tvalid_1's l2: 0.00138326\n",
      "[16]\tvalid_0's rmse: 0.0441156\tvalid_0's l2: 0.00194619\tvalid_1's rmse: 0.0371524\tvalid_1's l2: 0.0013803\n",
      "[17]\tvalid_0's rmse: 0.0438019\tvalid_0's l2: 0.00191861\tvalid_1's rmse: 0.0369053\tvalid_1's l2: 0.001362\n",
      "[18]\tvalid_0's rmse: 0.04373\tvalid_0's l2: 0.00191231\tvalid_1's rmse: 0.0368646\tvalid_1's l2: 0.001359\n",
      "[19]\tvalid_0's rmse: 0.0434041\tvalid_0's l2: 0.00188392\tvalid_1's rmse: 0.0366815\tvalid_1's l2: 0.00134554\n",
      "[20]\tvalid_0's rmse: 0.0431436\tvalid_0's l2: 0.00186137\tvalid_1's rmse: 0.0364903\tvalid_1's l2: 0.00133154\n",
      "[21]\tvalid_0's rmse: 0.0429374\tvalid_0's l2: 0.00184362\tvalid_1's rmse: 0.0364158\tvalid_1's l2: 0.00132611\n",
      "[22]\tvalid_0's rmse: 0.0427022\tvalid_0's l2: 0.00182347\tvalid_1's rmse: 0.0361659\tvalid_1's l2: 0.00130797\n",
      "[23]\tvalid_0's rmse: 0.042572\tvalid_0's l2: 0.00181238\tvalid_1's rmse: 0.0360335\tvalid_1's l2: 0.00129841\n",
      "[24]\tvalid_0's rmse: 0.042353\tvalid_0's l2: 0.00179378\tvalid_1's rmse: 0.0358246\tvalid_1's l2: 0.0012834\n",
      "[25]\tvalid_0's rmse: 0.0421383\tvalid_0's l2: 0.00177563\tvalid_1's rmse: 0.0355693\tvalid_1's l2: 0.00126517\n",
      "[26]\tvalid_0's rmse: 0.0419908\tvalid_0's l2: 0.00176322\tvalid_1's rmse: 0.0355517\tvalid_1's l2: 0.00126392\n",
      "[27]\tvalid_0's rmse: 0.0417454\tvalid_0's l2: 0.00174268\tvalid_1's rmse: 0.0354634\tvalid_1's l2: 0.00125765\n",
      "[28]\tvalid_0's rmse: 0.0415323\tvalid_0's l2: 0.00172493\tvalid_1's rmse: 0.0353795\tvalid_1's l2: 0.00125171\n",
      "[29]\tvalid_0's rmse: 0.0414945\tvalid_0's l2: 0.0017218\tvalid_1's rmse: 0.0352896\tvalid_1's l2: 0.00124535\n",
      "[30]\tvalid_0's rmse: 0.0413887\tvalid_0's l2: 0.00171302\tvalid_1's rmse: 0.0351427\tvalid_1's l2: 0.00123501\n",
      "[1]\tvalid_0's rmse: 0.0486713\tvalid_0's l2: 0.00236889\tvalid_1's rmse: 0.0412484\tvalid_1's l2: 0.00170143\n",
      "[2]\tvalid_0's rmse: 0.0478937\tvalid_0's l2: 0.00229381\tvalid_1's rmse: 0.0406285\tvalid_1's l2: 0.00165067\n",
      "[3]\tvalid_0's rmse: 0.0471681\tvalid_0's l2: 0.00222483\tvalid_1's rmse: 0.0398968\tvalid_1's l2: 0.00159175\n",
      "[4]\tvalid_0's rmse: 0.0464978\tvalid_0's l2: 0.00216204\tvalid_1's rmse: 0.0392551\tvalid_1's l2: 0.00154096\n",
      "[5]\tvalid_0's rmse: 0.0459137\tvalid_0's l2: 0.00210807\tvalid_1's rmse: 0.0387508\tvalid_1's l2: 0.00150163\n",
      "[6]\tvalid_0's rmse: 0.0454293\tvalid_0's l2: 0.00206382\tvalid_1's rmse: 0.0382799\tvalid_1's l2: 0.00146535\n",
      "[7]\tvalid_0's rmse: 0.0449804\tvalid_0's l2: 0.00202323\tvalid_1's rmse: 0.0378694\tvalid_1's l2: 0.00143409\n",
      "[8]\tvalid_0's rmse: 0.0445941\tvalid_0's l2: 0.00198863\tvalid_1's rmse: 0.0375339\tvalid_1's l2: 0.00140879\n",
      "[9]\tvalid_0's rmse: 0.0441331\tvalid_0's l2: 0.00194773\tvalid_1's rmse: 0.0371796\tvalid_1's l2: 0.00138232\n",
      "[10]\tvalid_0's rmse: 0.0437589\tvalid_0's l2: 0.00191484\tvalid_1's rmse: 0.0369005\tvalid_1's l2: 0.00136165\n",
      "[11]\tvalid_0's rmse: 0.04349\tvalid_0's l2: 0.00189138\tvalid_1's rmse: 0.0366616\tvalid_1's l2: 0.00134407\n",
      "[12]\tvalid_0's rmse: 0.0431614\tvalid_0's l2: 0.00186291\tvalid_1's rmse: 0.0365417\tvalid_1's l2: 0.00133529\n",
      "[13]\tvalid_0's rmse: 0.0429776\tvalid_0's l2: 0.00184707\tvalid_1's rmse: 0.0363868\tvalid_1's l2: 0.001324\n",
      "[14]\tvalid_0's rmse: 0.0427071\tvalid_0's l2: 0.0018239\tvalid_1's rmse: 0.0362124\tvalid_1's l2: 0.00131134\n",
      "[15]\tvalid_0's rmse: 0.0425481\tvalid_0's l2: 0.00181034\tvalid_1's rmse: 0.0361668\tvalid_1's l2: 0.00130804\n",
      "[16]\tvalid_0's rmse: 0.0423421\tvalid_0's l2: 0.00179286\tvalid_1's rmse: 0.0361503\tvalid_1's l2: 0.00130684\n",
      "[17]\tvalid_0's rmse: 0.0420339\tvalid_0's l2: 0.00176685\tvalid_1's rmse: 0.0361129\tvalid_1's l2: 0.00130414\n",
      "[18]\tvalid_0's rmse: 0.0419114\tvalid_0's l2: 0.00175656\tvalid_1's rmse: 0.0360252\tvalid_1's l2: 0.00129782\n",
      "[19]\tvalid_0's rmse: 0.041772\tvalid_0's l2: 0.0017449\tvalid_1's rmse: 0.0359097\tvalid_1's l2: 0.0012895\n",
      "[20]\tvalid_0's rmse: 0.0415481\tvalid_0's l2: 0.00172624\tvalid_1's rmse: 0.0356853\tvalid_1's l2: 0.00127344\n",
      "[21]\tvalid_0's rmse: 0.0413912\tvalid_0's l2: 0.00171323\tvalid_1's rmse: 0.0356706\tvalid_1's l2: 0.00127239\n",
      "[22]\tvalid_0's rmse: 0.0411801\tvalid_0's l2: 0.0016958\tvalid_1's rmse: 0.0355379\tvalid_1's l2: 0.00126294\n",
      "[23]\tvalid_0's rmse: 0.0410619\tvalid_0's l2: 0.00168608\tvalid_1's rmse: 0.0354726\tvalid_1's l2: 0.00125831\n",
      "[24]\tvalid_0's rmse: 0.0408979\tvalid_0's l2: 0.00167264\tvalid_1's rmse: 0.0353591\tvalid_1's l2: 0.00125027\n",
      "[25]\tvalid_0's rmse: 0.040659\tvalid_0's l2: 0.00165315\tvalid_1's rmse: 0.0352526\tvalid_1's l2: 0.00124274\n",
      "[26]\tvalid_0's rmse: 0.0404969\tvalid_0's l2: 0.00164\tvalid_1's rmse: 0.0350875\tvalid_1's l2: 0.00123113\n",
      "[27]\tvalid_0's rmse: 0.0403673\tvalid_0's l2: 0.00162952\tvalid_1's rmse: 0.0349536\tvalid_1's l2: 0.00122176\n",
      "[28]\tvalid_0's rmse: 0.0402811\tvalid_0's l2: 0.00162256\tvalid_1's rmse: 0.0349548\tvalid_1's l2: 0.00122184\n",
      "[29]\tvalid_0's rmse: 0.0401456\tvalid_0's l2: 0.00161167\tvalid_1's rmse: 0.0348686\tvalid_1's l2: 0.00121582\n",
      "[30]\tvalid_0's rmse: 0.0399596\tvalid_0's l2: 0.00159677\tvalid_1's rmse: 0.0348789\tvalid_1's l2: 0.00121654\n",
      "[1]\tvalid_0's rmse: 0.048165\tvalid_0's l2: 0.00231986\tvalid_1's rmse: 0.0409568\tvalid_1's l2: 0.00167746\n",
      "[2]\tvalid_0's rmse: 0.0468991\tvalid_0's l2: 0.00219952\tvalid_1's rmse: 0.039815\tvalid_1's l2: 0.00158524\n",
      "[3]\tvalid_0's rmse: 0.0459101\tvalid_0's l2: 0.00210774\tvalid_1's rmse: 0.0390724\tvalid_1's l2: 0.00152665\n",
      "[4]\tvalid_0's rmse: 0.045002\tvalid_0's l2: 0.00202518\tvalid_1's rmse: 0.0382824\tvalid_1's l2: 0.00146554\n",
      "[5]\tvalid_0's rmse: 0.0443175\tvalid_0's l2: 0.00196404\tvalid_1's rmse: 0.037782\tvalid_1's l2: 0.00142748\n",
      "[6]\tvalid_0's rmse: 0.0436934\tvalid_0's l2: 0.00190911\tvalid_1's rmse: 0.0373115\tvalid_1's l2: 0.00139215\n",
      "[7]\tvalid_0's rmse: 0.0429501\tvalid_0's l2: 0.00184471\tvalid_1's rmse: 0.0370676\tvalid_1's l2: 0.00137401\n",
      "[8]\tvalid_0's rmse: 0.0424793\tvalid_0's l2: 0.00180449\tvalid_1's rmse: 0.0367345\tvalid_1's l2: 0.00134943\n",
      "[9]\tvalid_0's rmse: 0.042157\tvalid_0's l2: 0.00177722\tvalid_1's rmse: 0.0365554\tvalid_1's l2: 0.0013363\n",
      "[10]\tvalid_0's rmse: 0.0417903\tvalid_0's l2: 0.00174643\tvalid_1's rmse: 0.0362724\tvalid_1's l2: 0.00131569\n",
      "[11]\tvalid_0's rmse: 0.0412903\tvalid_0's l2: 0.00170489\tvalid_1's rmse: 0.0362173\tvalid_1's l2: 0.00131169\n",
      "[12]\tvalid_0's rmse: 0.0410132\tvalid_0's l2: 0.00168208\tvalid_1's rmse: 0.0360418\tvalid_1's l2: 0.00129901\n",
      "[13]\tvalid_0's rmse: 0.0407054\tvalid_0's l2: 0.00165693\tvalid_1's rmse: 0.0358443\tvalid_1's l2: 0.00128482\n",
      "[14]\tvalid_0's rmse: 0.0402347\tvalid_0's l2: 0.00161883\tvalid_1's rmse: 0.0357383\tvalid_1's l2: 0.00127722\n",
      "[15]\tvalid_0's rmse: 0.0396364\tvalid_0's l2: 0.00157104\tvalid_1's rmse: 0.0356828\tvalid_1's l2: 0.00127327\n",
      "[16]\tvalid_0's rmse: 0.0394427\tvalid_0's l2: 0.00155573\tvalid_1's rmse: 0.0356269\tvalid_1's l2: 0.00126928\n",
      "[17]\tvalid_0's rmse: 0.0389968\tvalid_0's l2: 0.00152075\tvalid_1's rmse: 0.0355728\tvalid_1's l2: 0.00126543\n",
      "[6]\tvalid_0's rmse: 0.0472592\tvalid_0's l2: 0.00223343\tvalid_1's rmse: 0.0396547\tvalid_1's l2: 0.00157249\n",
      "[7]\tvalid_0's rmse: 0.046776\tvalid_0's l2: 0.00218799\tvalid_1's rmse: 0.0391357\tvalid_1's l2: 0.0015316\n",
      "[8]\tvalid_0's rmse: 0.0465075\tvalid_0's l2: 0.00216295\tvalid_1's rmse: 0.0389261\tvalid_1's l2: 0.00151524\n",
      "[9]\tvalid_0's rmse: 0.046255\tvalid_0's l2: 0.00213952\tvalid_1's rmse: 0.0387754\tvalid_1's l2: 0.00150353\n",
      "[10]\tvalid_0's rmse: 0.0458407\tvalid_0's l2: 0.00210137\tvalid_1's rmse: 0.0383507\tvalid_1's l2: 0.00147078\n",
      "[1]\tvalid_0's rmse: 0.0491617\tvalid_0's l2: 0.00241687\tvalid_1's rmse: 0.0410027\tvalid_1's l2: 0.00168122\n",
      "[2]\tvalid_0's rmse: 0.0486316\tvalid_0's l2: 0.00236503\tvalid_1's rmse: 0.0406986\tvalid_1's l2: 0.00165638\n",
      "[3]\tvalid_0's rmse: 0.0482339\tvalid_0's l2: 0.0023265\tvalid_1's rmse: 0.0403724\tvalid_1's l2: 0.00162993\n",
      "[4]\tvalid_0's rmse: 0.0478524\tvalid_0's l2: 0.00228985\tvalid_1's rmse: 0.0400531\tvalid_1's l2: 0.00160425\n",
      "[5]\tvalid_0's rmse: 0.0475061\tvalid_0's l2: 0.00225683\tvalid_1's rmse: 0.0398699\tvalid_1's l2: 0.00158961\n",
      "[6]\tvalid_0's rmse: 0.0472592\tvalid_0's l2: 0.00223343\tvalid_1's rmse: 0.0396547\tvalid_1's l2: 0.00157249\n",
      "[7]\tvalid_0's rmse: 0.046776\tvalid_0's l2: 0.00218799\tvalid_1's rmse: 0.0391357\tvalid_1's l2: 0.0015316\n",
      "[8]\tvalid_0's rmse: 0.0465075\tvalid_0's l2: 0.00216295\tvalid_1's rmse: 0.0389261\tvalid_1's l2: 0.00151524\n",
      "[9]\tvalid_0's rmse: 0.046255\tvalid_0's l2: 0.00213952\tvalid_1's rmse: 0.0387754\tvalid_1's l2: 0.00150353\n",
      "[10]\tvalid_0's rmse: 0.0458407\tvalid_0's l2: 0.00210137\tvalid_1's rmse: 0.0383507\tvalid_1's l2: 0.00147078\n",
      "[11]\tvalid_0's rmse: 0.045579\tvalid_0's l2: 0.00207745\tvalid_1's rmse: 0.038261\tvalid_1's l2: 0.0014639\n",
      "[12]\tvalid_0's rmse: 0.0452728\tvalid_0's l2: 0.00204963\tvalid_1's rmse: 0.0379036\tvalid_1's l2: 0.00143669\n",
      "[13]\tvalid_0's rmse: 0.045066\tvalid_0's l2: 0.00203094\tvalid_1's rmse: 0.0377658\tvalid_1's l2: 0.00142626\n",
      "[14]\tvalid_0's rmse: 0.0446723\tvalid_0's l2: 0.00199562\tvalid_1's rmse: 0.0375164\tvalid_1's l2: 0.00140748\n",
      "[15]\tvalid_0's rmse: 0.0442829\tvalid_0's l2: 0.00196098\tvalid_1's rmse: 0.0371922\tvalid_1's l2: 0.00138326\n",
      "[16]\tvalid_0's rmse: 0.0441156\tvalid_0's l2: 0.00194619\tvalid_1's rmse: 0.0371524\tvalid_1's l2: 0.0013803\n",
      "[17]\tvalid_0's rmse: 0.0438019\tvalid_0's l2: 0.00191861\tvalid_1's rmse: 0.0369053\tvalid_1's l2: 0.001362\n",
      "[18]\tvalid_0's rmse: 0.04373\tvalid_0's l2: 0.00191231\tvalid_1's rmse: 0.0368646\tvalid_1's l2: 0.001359\n",
      "[19]\tvalid_0's rmse: 0.0434041\tvalid_0's l2: 0.00188392\tvalid_1's rmse: 0.0366815\tvalid_1's l2: 0.00134554\n",
      "[20]\tvalid_0's rmse: 0.0431436\tvalid_0's l2: 0.00186137\tvalid_1's rmse: 0.0364903\tvalid_1's l2: 0.00133154\n",
      "[1]\tvalid_0's rmse: 0.048165\tvalid_0's l2: 0.00231986\tvalid_1's rmse: 0.0409568\tvalid_1's l2: 0.00167746\n",
      "[2]\tvalid_0's rmse: 0.0468991\tvalid_0's l2: 0.00219952\tvalid_1's rmse: 0.039815\tvalid_1's l2: 0.00158524\n",
      "[3]\tvalid_0's rmse: 0.0459101\tvalid_0's l2: 0.00210774\tvalid_1's rmse: 0.0390724\tvalid_1's l2: 0.00152665\n",
      "[4]\tvalid_0's rmse: 0.045002\tvalid_0's l2: 0.00202518\tvalid_1's rmse: 0.0382824\tvalid_1's l2: 0.00146554\n",
      "[5]\tvalid_0's rmse: 0.0443175\tvalid_0's l2: 0.00196404\tvalid_1's rmse: 0.037782\tvalid_1's l2: 0.00142748\n",
      "[1]\tvalid_0's rmse: 0.0485122\tvalid_0's l2: 0.00235343\tvalid_1's rmse: 0.0415489\tvalid_1's l2: 0.00172631\n",
      "[2]\tvalid_0's rmse: 0.047295\tvalid_0's l2: 0.00223682\tvalid_1's rmse: 0.0404059\tvalid_1's l2: 0.00163264\n",
      "[3]\tvalid_0's rmse: 0.0463401\tvalid_0's l2: 0.0021474\tvalid_1's rmse: 0.0395272\tvalid_1's l2: 0.0015624\n",
      "[4]\tvalid_0's rmse: 0.0454923\tvalid_0's l2: 0.00206955\tvalid_1's rmse: 0.0387992\tvalid_1's l2: 0.00150538\n",
      "[5]\tvalid_0's rmse: 0.0448037\tvalid_0's l2: 0.00200737\tvalid_1's rmse: 0.0381729\tvalid_1's l2: 0.00145717\n",
      "[6]\tvalid_0's rmse: 0.0441498\tvalid_0's l2: 0.00194921\tvalid_1's rmse: 0.0378912\tvalid_1's l2: 0.00143574\n",
      "[7]\tvalid_0's rmse: 0.0437867\tvalid_0's l2: 0.00191727\tvalid_1's rmse: 0.0375784\tvalid_1's l2: 0.00141214\n",
      "[8]\tvalid_0's rmse: 0.0431338\tvalid_0's l2: 0.00186053\tvalid_1's rmse: 0.0372624\tvalid_1's l2: 0.00138849\n",
      "[9]\tvalid_0's rmse: 0.0429174\tvalid_0's l2: 0.0018419\tvalid_1's rmse: 0.0370648\tvalid_1's l2: 0.0013738\n",
      "[10]\tvalid_0's rmse: 0.0427627\tvalid_0's l2: 0.00182865\tvalid_1's rmse: 0.0370934\tvalid_1's l2: 0.00137592\n",
      "[1]\tvalid_0's rmse: 0.0485122\tvalid_0's l2: 0.00235343\tvalid_1's rmse: 0.0415489\tvalid_1's l2: 0.00172631\n",
      "[2]\tvalid_0's rmse: 0.047295\tvalid_0's l2: 0.00223682\tvalid_1's rmse: 0.0404059\tvalid_1's l2: 0.00163264\n",
      "[3]\tvalid_0's rmse: 0.0463401\tvalid_0's l2: 0.0021474\tvalid_1's rmse: 0.0395272\tvalid_1's l2: 0.0015624\n",
      "[4]\tvalid_0's rmse: 0.0454923\tvalid_0's l2: 0.00206955\tvalid_1's rmse: 0.0387992\tvalid_1's l2: 0.00150538\n",
      "[5]\tvalid_0's rmse: 0.0448037\tvalid_0's l2: 0.00200737\tvalid_1's rmse: 0.0381729\tvalid_1's l2: 0.00145717\n",
      "[6]\tvalid_0's rmse: 0.0441498\tvalid_0's l2: 0.00194921\tvalid_1's rmse: 0.0378912\tvalid_1's l2: 0.00143574\n",
      "[7]\tvalid_0's rmse: 0.0437867\tvalid_0's l2: 0.00191727\tvalid_1's rmse: 0.0375784\tvalid_1's l2: 0.00141214\n",
      "[8]\tvalid_0's rmse: 0.0431338\tvalid_0's l2: 0.00186053\tvalid_1's rmse: 0.0372624\tvalid_1's l2: 0.00138849\n",
      "[9]\tvalid_0's rmse: 0.0429174\tvalid_0's l2: 0.0018419\tvalid_1's rmse: 0.0370648\tvalid_1's l2: 0.0013738\n",
      "[10]\tvalid_0's rmse: 0.0427627\tvalid_0's l2: 0.00182865\tvalid_1's rmse: 0.0370934\tvalid_1's l2: 0.00137592\n",
      "[11]\tvalid_0's rmse: 0.0422562\tvalid_0's l2: 0.00178559\tvalid_1's rmse: 0.0368471\tvalid_1's l2: 0.00135771\n",
      "[12]\tvalid_0's rmse: 0.0418952\tvalid_0's l2: 0.00175521\tvalid_1's rmse: 0.0365381\tvalid_1's l2: 0.00133503\n",
      "[13]\tvalid_0's rmse: 0.0415631\tvalid_0's l2: 0.00172749\tvalid_1's rmse: 0.0362766\tvalid_1's l2: 0.00131599\n",
      "[14]\tvalid_0's rmse: 0.0412407\tvalid_0's l2: 0.0017008\tvalid_1's rmse: 0.0360308\tvalid_1's l2: 0.00129822\n",
      "[15]\tvalid_0's rmse: 0.0407806\tvalid_0's l2: 0.00166306\tvalid_1's rmse: 0.0358193\tvalid_1's l2: 0.00128302\n",
      "[16]\tvalid_0's rmse: 0.0404135\tvalid_0's l2: 0.00163325\tvalid_1's rmse: 0.0356415\tvalid_1's l2: 0.00127031\n",
      "[17]\tvalid_0's rmse: 0.0401894\tvalid_0's l2: 0.00161519\tvalid_1's rmse: 0.0355161\tvalid_1's l2: 0.00126139\n",
      "[18]\tvalid_0's rmse: 0.039925\tvalid_0's l2: 0.00159401\tvalid_1's rmse: 0.0353242\tvalid_1's l2: 0.0012478\n",
      "[19]\tvalid_0's rmse: 0.0395708\tvalid_0's l2: 0.00156585\tvalid_1's rmse: 0.0349535\tvalid_1's l2: 0.00122175\n",
      "[20]\tvalid_0's rmse: 0.0393895\tvalid_0's l2: 0.00155153\tvalid_1's rmse: 0.0348252\tvalid_1's l2: 0.00121279\n",
      "[21]\tvalid_0's rmse: 0.0391736\tvalid_0's l2: 0.00153457\tvalid_1's rmse: 0.0347209\tvalid_1's l2: 0.00120554\n",
      "[22]\tvalid_0's rmse: 0.039014\tvalid_0's l2: 0.00152209\tvalid_1's rmse: 0.034637\tvalid_1's l2: 0.00119972\n",
      "[23]\tvalid_0's rmse: 0.038919\tvalid_0's l2: 0.00151469\tvalid_1's rmse: 0.034611\tvalid_1's l2: 0.00119792\n",
      "[24]\tvalid_0's rmse: 0.0387354\tvalid_0's l2: 0.00150043\tvalid_1's rmse: 0.0345747\tvalid_1's l2: 0.00119541\n",
      "[25]\tvalid_0's rmse: 0.0386483\tvalid_0's l2: 0.00149369\tvalid_1's rmse: 0.034591\tvalid_1's l2: 0.00119654\n",
      "[1]\tvalid_0's rmse: 0.0486565\tvalid_0's l2: 0.00236746\tvalid_1's rmse: 0.0407151\tvalid_1's l2: 0.00165772\n",
      "[2]\tvalid_0's rmse: 0.0478779\tvalid_0's l2: 0.00229229\tvalid_1's rmse: 0.0400925\tvalid_1's l2: 0.00160741\n",
      "[3]\tvalid_0's rmse: 0.0469519\tvalid_0's l2: 0.00220448\tvalid_1's rmse: 0.0395486\tvalid_1's l2: 0.00156409\n",
      "[4]\tvalid_0's rmse: 0.046171\tvalid_0's l2: 0.00213176\tvalid_1's rmse: 0.0390565\tvalid_1's l2: 0.00152541\n",
      "[5]\tvalid_0's rmse: 0.0454461\tvalid_0's l2: 0.00206535\tvalid_1's rmse: 0.038698\tvalid_1's l2: 0.00149753\n",
      "[6]\tvalid_0's rmse: 0.0448816\tvalid_0's l2: 0.00201436\tvalid_1's rmse: 0.038405\tvalid_1's l2: 0.00147495\n",
      "[7]\tvalid_0's rmse: 0.0443641\tvalid_0's l2: 0.00196817\tvalid_1's rmse: 0.0378969\tvalid_1's l2: 0.00143618\n",
      "[8]\tvalid_0's rmse: 0.0437295\tvalid_0's l2: 0.00191227\tvalid_1's rmse: 0.0374467\tvalid_1's l2: 0.00140226\n",
      "[9]\tvalid_0's rmse: 0.0430954\tvalid_0's l2: 0.00185721\tvalid_1's rmse: 0.037234\tvalid_1's l2: 0.00138637\n",
      "[10]\tvalid_0's rmse: 0.0427003\tvalid_0's l2: 0.00182332\tvalid_1's rmse: 0.0369849\tvalid_1's l2: 0.00136788\n",
      "[11]\tvalid_0's rmse: 0.0422279\tvalid_0's l2: 0.00178319\tvalid_1's rmse: 0.0364836\tvalid_1's l2: 0.00133106\n",
      "[12]\tvalid_0's rmse: 0.0418585\tvalid_0's l2: 0.00175214\tvalid_1's rmse: 0.0363807\tvalid_1's l2: 0.00132356\n",
      "[13]\tvalid_0's rmse: 0.0414638\tvalid_0's l2: 0.00171925\tvalid_1's rmse: 0.0361523\tvalid_1's l2: 0.00130699[1]\ttraining's rmse: 0.0481364\ttraining's l2: 0.00231712\tvalid_1's rmse: 0.0407505\tvalid_1's l2: 0.0016606\n",
      "[2]\ttraining's rmse: 0.0469427\ttraining's l2: 0.00220362\tvalid_1's rmse: 0.0396738\tvalid_1's l2: 0.00157401\n",
      "[3]\ttraining's rmse: 0.0458594\ttraining's l2: 0.00210309\tvalid_1's rmse: 0.0388189\tvalid_1's l2: 0.0015069\n",
      "[4]\ttraining's rmse: 0.0449169\ttraining's l2: 0.00201752\tvalid_1's rmse: 0.037959\tvalid_1's l2: 0.00144088\n",
      "[5]\ttraining's rmse: 0.0440014\ttraining's l2: 0.00193612\tvalid_1's rmse: 0.0374335\tvalid_1's l2: 0.00140127\n",
      "[6]\ttraining's rmse: 0.0432385\ttraining's l2: 0.00186957\tvalid_1's rmse: 0.0368192\tvalid_1's l2: 0.00135565\n",
      "[7]\ttraining's rmse: 0.0425344\ttraining's l2: 0.00180918\tvalid_1's rmse: 0.0363341\tvalid_1's l2: 0.00132017\n",
      "[8]\ttraining's rmse: 0.0419581\ttraining's l2: 0.00176048\tvalid_1's rmse: 0.0359204\tvalid_1's l2: 0.00129027\n",
      "[9]\ttraining's rmse: 0.041222\ttraining's l2: 0.00169925\tvalid_1's rmse: 0.0354936\tvalid_1's l2: 0.0012598\n",
      "[10]\ttraining's rmse: 0.0405857\ttraining's l2: 0.0016472\tvalid_1's rmse: 0.0349429\tvalid_1's l2: 0.001221\n",
      "[11]\ttraining's rmse: 0.0397901\ttraining's l2: 0.00158325\tvalid_1's rmse: 0.0346711\tvalid_1's l2: 0.00120209\n",
      "[12]\ttraining's rmse: 0.0393644\ttraining's l2: 0.00154955\tvalid_1's rmse: 0.0345004\tvalid_1's l2: 0.00119028\n",
      "[13]\ttraining's rmse: 0.0389016\ttraining's l2: 0.00151334\tvalid_1's rmse: 0.0341374\tvalid_1's l2: 0.00116536\n",
      "[14]\ttraining's rmse: 0.0382762\ttraining's l2: 0.00146506\tvalid_1's rmse: 0.034\tvalid_1's l2: 0.001156\n",
      "[15]\ttraining's rmse: 0.0378669\ttraining's l2: 0.0014339\tvalid_1's rmse: 0.0337875\tvalid_1's l2: 0.00114159\n",
      "[16]\ttraining's rmse: 0.0373647\ttraining's l2: 0.00139612\tvalid_1's rmse: 0.0335938\tvalid_1's l2: 0.00112855\n",
      "[17]\ttraining's rmse: 0.0370486\ttraining's l2: 0.0013726\tvalid_1's rmse: 0.0335579\tvalid_1's l2: 0.00112613\n",
      "[18]\ttraining's rmse: 0.0364501\ttraining's l2: 0.00132861\tvalid_1's rmse: 0.0334618\tvalid_1's l2: 0.00111969\n",
      "[19]\ttraining's rmse: 0.0362494\ttraining's l2: 0.00131402\tvalid_1's rmse: 0.0333459\tvalid_1's l2: 0.00111195\n",
      "[20]\ttraining's rmse: 0.0357425\ttraining's l2: 0.00127753\tvalid_1's rmse: 0.033278\tvalid_1's l2: 0.00110743\n",
      "[21]\ttraining's rmse: 0.035467\ttraining's l2: 0.00125791\tvalid_1's rmse: 0.033144\tvalid_1's l2: 0.00109853\n",
      "[22]\ttraining's rmse: 0.0352554\ttraining's l2: 0.00124294\tvalid_1's rmse: 0.0331004\tvalid_1's l2: 0.00109563\n",
      "[23]\ttraining's rmse: 0.0348131\ttraining's l2: 0.00121195\tvalid_1's rmse: 0.0330294\tvalid_1's l2: 0.00109094\n",
      "[24]\ttraining's rmse: 0.0343712\ttraining's l2: 0.00118138\tvalid_1's rmse: 0.0329246\tvalid_1's l2: 0.00108403\n",
      "[25]\ttraining's rmse: 0.0341437\ttraining's l2: 0.00116579\tvalid_1's rmse: 0.0327659\tvalid_1's l2: 0.0010736\n",
      "[26]\ttraining's rmse: 0.0337758\ttraining's l2: 0.0011408\tvalid_1's rmse: 0.0326128\tvalid_1's l2: 0.00106359\n",
      "[27]\ttraining's rmse: 0.0336591\ttraining's l2: 0.00113294\tvalid_1's rmse: 0.03263\tvalid_1's l2: 0.00106472\n",
      "[28]\ttraining's rmse: 0.0335157\ttraining's l2: 0.0011233\tvalid_1's rmse: 0.0325152\tvalid_1's l2: 0.00105724\n",
      "[29]\ttraining's rmse: 0.0332034\ttraining's l2: 0.00110247\tvalid_1's rmse: 0.0324645\tvalid_1's l2: 0.00105394\n",
      "[30]\ttraining's rmse: 0.0329126\ttraining's l2: 0.00108324\tvalid_1's rmse: 0.0324749\tvalid_1's l2: 0.00105462\n",
      "CPU times: user 323 ms, sys: 30.2 ms, total: 353 ms\n",
      "Wall time: 249 ms\n"
     ]
    },
    {
     "name": "stderr",
     "output_type": "stream",
     "text": [
      "/home/intra26/.local/lib/python3.7/site-packages/lightgbm/sklearn.py:598: UserWarning: 'silent' argument is deprecated and will be removed in a future release of LightGBM. Pass 'verbose' parameter via keyword arguments instead.\n",
      "  _log_warning(\"'silent' argument is deprecated and will be removed in a future release of LightGBM. \"\n",
      "/home/intra26/.local/lib/python3.7/site-packages/lightgbm/sklearn.py:726: UserWarning: 'early_stopping_rounds' argument is deprecated and will be removed in a future release of LightGBM. Pass 'early_stopping()' callback via 'callbacks' argument instead.\n",
      "  _log_warning(\"'early_stopping_rounds' argument is deprecated and will be removed in a future release of LightGBM. \"\n"
     ]
    }
   ],
   "source": [
    "%%time\n",
    "grid2 = {'n_estimators':np.arange(5,35,5),\n",
    "         'max_depth': [2, 4]}\n",
    "lgbc = lgb.LGBMRegressor(n_jobs=-1, \n",
    "                          silent = True, \n",
    "                          random_state = seed_val,\n",
    "                          importance_type='gain')\n",
    "fit_params = {\n",
    "    'eval_metric': METRIC, \n",
    "    'eval_set':[(X_train, y_train), (X_test, y_test)], \n",
    "    'early_stopping_rounds' : 150\n",
    "}\n",
    "# rscv = RandomizedSearchCV(lgbc, grid2, cv=3, random_state=seed_val, verbose=1,)\n",
    "rscv = GridSearchCV(lgbc, grid2, cv=3, n_jobs=6)\n",
    "search = rscv.fit(X_train, y_train, **fit_params)"
   ]
  },
  {
   "cell_type": "code",
   "execution_count": 483,
   "id": "6f4201d1",
   "metadata": {
    "ExecuteTime": {
     "end_time": "2022-07-13T13:27:01.688702Z",
     "start_time": "2022-07-13T13:27:01.652708Z"
    },
    "run_control": {
     "marked": true
    }
   },
   "outputs": [
    {
     "name": "stdout",
     "output_type": "stream",
     "text": [
      "{'max_depth': 4, 'n_estimators': 30}\n",
      "r2_score Train:  0.525\n",
      "r2_score Test:  0.547\n"
     ]
    }
   ],
   "source": [
    "print(search.best_params_)\n",
    "\n",
    "model = lgb.LGBMRegressor(**search.best_params_)\n",
    "model.fit(df_model[model_cols],df_model[target])\n",
    "y_train_hat = model.predict(X_train)\n",
    "max_gini_train = r2_score(y_train, y_train_hat)\n",
    "print('r2_score Train: ', np.round(max_gini_train, 3))\n",
    "\n",
    "y_test_hat = model.predict(X_test)\n",
    "print('r2_score Test: ', np.round(r2_score(y_test, y_test_hat), 3))"
   ]
  },
  {
   "cell_type": "code",
   "execution_count": 484,
   "id": "272613de",
   "metadata": {
    "ExecuteTime": {
     "end_time": "2022-07-13T13:27:06.255740Z",
     "start_time": "2022-07-13T13:27:05.968398Z"
    }
   },
   "outputs": [
    {
     "data": {
      "image/png": "[encoded data removed]",
      "text/plain": [
       "<Figure size 720x360 with 1 Axes>"
      ]
     },
     "metadata": {
      "needs_background": "light"
     },
     "output_type": "display_data"
    }
   ],
   "source": [
    "fig, ax = plt.subplots(1,1,figsize=(10, 5))\n",
    "ax.set_xlabel('Значимость фактора')\n",
    "ax.set_ylabel('Имя фактора')\n",
    "ax.set_title('')\n",
    "_ = lgb.plot_importance(model, height=0.8, ax=ax)"
   ]
  },
  {
   "cell_type": "code",
   "execution_count": 485,
   "id": "9b92df3e",
   "metadata": {
    "ExecuteTime": {
     "end_time": "2022-07-13T13:27:11.592448Z",
     "start_time": "2022-07-13T13:27:11.586709Z"
    }
   },
   "outputs": [
    {
     "data": {
      "text/plain": [
       "['density',\n",
       " 'distance_straight',\n",
       " 'sq',\n",
       " 'soc_econom_index',\n",
       " 'resid_buildings_share',\n",
       " 'age_months',\n",
       " 'mean_height',\n",
       " 'coffee',\n",
       " 'jews_share',\n",
       " 'parks',\n",
       " 'kindergarten',\n",
       " 'urban_public',\n",
       " 'urban_industrial',\n",
       " 'cluster_6',\n",
       " 'buildings_area',\n",
       " 'urban_leisure',\n",
       " 'hist',\n",
       " 'urban_shopping',\n",
       " 'is_not_habitated',\n",
       " 'cluster_30']"
      ]
     },
     "execution_count": 485,
     "metadata": {},
     "output_type": "execute_result"
    }
   ],
   "source": [
    "model_cols"
   ]
  },
  {
   "cell_type": "code",
   "execution_count": 488,
   "id": "d51176ef",
   "metadata": {
    "ExecuteTime": {
     "end_time": "2022-07-13T13:28:25.813820Z",
     "start_time": "2022-07-13T13:28:25.805110Z"
    }
   },
   "outputs": [
    {
     "data": {
      "text/plain": [
       "['density',\n",
       " 'distance_straight',\n",
       " 'sq',\n",
       " 'soc_econom_index',\n",
       " 'mean_height',\n",
       " 'coffee',\n",
       " 'age_months',\n",
       " 'resid_buildings_share',\n",
       " 'jews_share',\n",
       " 'parks',\n",
       " 'kindergarten',\n",
       " 'hist',\n",
       " 'urban_industrial',\n",
       " 'cluster_6',\n",
       " 'urban_public']"
      ]
     },
     "execution_count": 488,
     "metadata": {},
     "output_type": "execute_result"
    }
   ],
   "source": [
    "tuple_feat = list()\n",
    "imp = model.feature_importances_\n",
    "cols = X_train.columns\n",
    "for i in range(len(X_train.columns)):\n",
    "    tuple_feat.append((imp[i], cols[i]))\n",
    "tuple_feat.sort(reverse=True)\n",
    "\n",
    "top_feat = list()\n",
    "for elem in tuple_feat[:15]:\n",
    "    top_feat.append(elem[1])\n",
    "top_feat"
   ]
  },
  {
   "cell_type": "code",
   "execution_count": 489,
   "id": "0449830c",
   "metadata": {
    "ExecuteTime": {
     "end_time": "2022-07-13T13:28:42.964154Z",
     "start_time": "2022-07-13T13:28:42.960082Z"
    }
   },
   "outputs": [],
   "source": [
    "model_cols = top_feat"
   ]
  },
  {
   "cell_type": "code",
   "execution_count": 435,
   "id": "777a56c3",
   "metadata": {
    "ExecuteTime": {
     "end_time": "2022-07-13T11:07:37.810393Z",
     "start_time": "2022-07-13T11:07:37.807077Z"
    }
   },
   "outputs": [],
   "source": [
    "model_cols=[ i for i in model_cols if 'hex_gid' not in i]"
   ]
  },
  {
   "cell_type": "code",
   "execution_count": 914,
   "id": "455d89d1",
   "metadata": {
    "ExecuteTime": {
     "end_time": "2022-07-18T15:47:10.373550Z",
     "start_time": "2022-07-18T15:47:10.368993Z"
    }
   },
   "outputs": [
    {
     "data": {
      "text/plain": [
       "['density',\n",
       " 'distance_straight',\n",
       " 'sq',\n",
       " 'soc_econom_index',\n",
       " 'mean_height',\n",
       " 'coffee',\n",
       " 'age_months',\n",
       " 'resid_buildings_share',\n",
       " 'jews_share',\n",
       " 'parks',\n",
       " 'kindergarten',\n",
       " 'hist',\n",
       " 'urban_industrial',\n",
       " 'cluster_6',\n",
       " 'urban_public']"
      ]
     },
     "execution_count": 914,
     "metadata": {},
     "output_type": "execute_result"
    }
   ],
   "source": [
    "model_cols"
   ]
  },
  {
   "cell_type": "code",
   "execution_count": 490,
   "id": "527ee094",
   "metadata": {
    "ExecuteTime": {
     "end_time": "2022-07-13T13:28:54.056530Z",
     "start_time": "2022-07-13T13:28:54.020545Z"
    }
   },
   "outputs": [
    {
     "name": "stdout",
     "output_type": "stream",
     "text": [
      "r2_score Train:  0.523\n",
      "r2_score Test:  0.544\n"
     ]
    }
   ],
   "source": [
    "model.fit(df_model[model_cols],df_model[target])\n",
    "y_train_hat = model.predict(X_train[model_cols])\n",
    "max_gini_train = r2_score(y_train, y_train_hat)\n",
    "print('r2_score Train: ', np.round(max_gini_train, 3))\n",
    "\n",
    "y_test_hat = model.predict(X_test[model_cols])\n",
    "print('r2_score Test: ', np.round(r2_score(y_test, y_test_hat), 3))"
   ]
  },
  {
   "cell_type": "code",
   "execution_count": 240,
   "id": "fd9b19aa",
   "metadata": {
    "ExecuteTime": {
     "end_time": "2022-07-12T12:37:35.196266Z",
     "start_time": "2022-07-12T12:37:35.190089Z"
    }
   },
   "outputs": [
    {
     "data": {
      "text/plain": [
       "(0.04966052982791973, 0.047556764242422916)"
      ]
     },
     "execution_count": 240,
     "metadata": {},
     "output_type": "execute_result"
    }
   ],
   "source": [
    "np.mean(y_test), np.mean(y_test_hat)"
   ]
  },
  {
   "cell_type": "code",
   "execution_count": 491,
   "id": "87161638",
   "metadata": {
    "ExecuteTime": {
     "end_time": "2022-07-13T13:29:00.699384Z",
     "start_time": "2022-07-13T13:29:00.690101Z"
    }
   },
   "outputs": [],
   "source": [
    "df_model['y_predict'] = model.predict(df_model[model_cols])"
   ]
  },
  {
   "cell_type": "code",
   "execution_count": 492,
   "id": "97f33721",
   "metadata": {
    "ExecuteTime": {
     "end_time": "2022-07-13T13:29:02.773270Z",
     "start_time": "2022-07-13T13:29:02.581736Z"
    }
   },
   "outputs": [
    {
     "data": {
      "text/plain": [
       "(array([608., 418., 174.,  95.,  58.,  32.,  23.,  10.,   9.,  21.]),\n",
       " array([1.62126832e-04, 2.55008156e-02, 5.08395045e-02, 7.61781933e-02,\n",
       "        1.01516882e-01, 1.26855571e-01, 1.52194260e-01, 1.77532949e-01,\n",
       "        2.02871637e-01, 2.28210326e-01, 2.53549015e-01]),\n",
       " <BarContainer object of 10 artists>)"
      ]
     },
     "execution_count": 492,
     "metadata": {},
     "output_type": "execute_result"
    },
    {
     "data": {
      "image/png": "[encoded data removed]",
      "text/plain": [
       "<Figure size 432x288 with 1 Axes>"
      ]
     },
     "metadata": {
      "needs_background": "light"
     },
     "output_type": "display_data"
    }
   ],
   "source": [
    "plt.hist(df_model['y_predict'])\n",
    "plt.hist(df_model[target], alpha=0.5)"
   ]
  },
  {
   "cell_type": "code",
   "execution_count": 493,
   "id": "4d01ae92",
   "metadata": {
    "ExecuteTime": {
     "end_time": "2022-07-13T13:29:10.998530Z",
     "start_time": "2022-07-13T13:29:10.989661Z"
    }
   },
   "outputs": [],
   "source": [
    "df1= df.join(df_model[['y_predict']])"
   ]
  },
  {
   "cell_type": "code",
   "execution_count": 494,
   "id": "d470367e",
   "metadata": {
    "ExecuteTime": {
     "end_time": "2022-07-13T13:29:11.645234Z",
     "start_time": "2022-07-13T13:29:11.639310Z"
    }
   },
   "outputs": [
    {
     "data": {
      "text/plain": [
       "Index(['hex_gid', 'pop_v3', 'coef_v3', 'jews_share', 'penetration',\n",
       "       'is_target_area', 'is_service_bad', 'christian', 'jewish', 'muslim',\n",
       "       'unknown', 'is_not_habitated', 'coffee', 'kindergarten', 'parks',\n",
       "       'university', 'resid_buildings_share', 'mean_height',\n",
       "       'resid_buildings_count', 'hist', 'urban_business_center', 'urban_gov',\n",
       "       'urban_industrial', 'urban_leisure', 'urban_med_hospital',\n",
       "       'urban_public', 'urban_shopping', 'cluster_6', 'cluster_3',\n",
       "       'cluster_10', 'cluster_20', 'cluster_30', 'cluster_40', 'cluster_50',\n",
       "       'soc_econom_index', 'distance_straight', 'FAR', 'buildings_area', 'sq',\n",
       "       'density', 'age_months', 'cluster_60', 'cluster_70', 'cluster_80',\n",
       "       'sample'],\n",
       "      dtype='object')"
      ]
     },
     "execution_count": 494,
     "metadata": {},
     "output_type": "execute_result"
    }
   ],
   "source": [
    "df.columns"
   ]
  },
  {
   "cell_type": "code",
   "execution_count": 179,
   "id": "0d4e27d3",
   "metadata": {
    "ExecuteTime": {
     "end_time": "2022-07-12T11:49:11.819532Z",
     "start_time": "2022-07-12T11:49:11.809066Z"
    }
   },
   "outputs": [
    {
     "name": "stdout",
     "output_type": "stream",
     "text": [
      "r2_score Train:  1.0\n"
     ]
    }
   ],
   "source": [
    "# max_gini_train = r2_score(model.predict(df1[model_cols]),df1['y_predict'])\n",
    "# print('r2_score Train: ', np.round(max_gini_train, 3))\n"
   ]
  },
  {
   "cell_type": "code",
   "execution_count": 495,
   "id": "4b04a88b",
   "metadata": {
    "ExecuteTime": {
     "end_time": "2022-07-13T13:29:19.311807Z",
     "start_time": "2022-07-13T13:29:19.254549Z"
    }
   },
   "outputs": [],
   "source": [
    "df1.to_csv('data_with_predict.csv')"
   ]
  },
  {
   "cell_type": "markdown",
   "id": "53cc30d5",
   "metadata": {},
   "source": [
    "### Часть 2. Считаем прогноз для всех гексов в Израиле"
   ]
  },
  {
   "cell_type": "code",
   "execution_count": 5,
   "id": "6db76f68",
   "metadata": {
    "ExecuteTime": {
     "end_time": "2022-08-08T09:44:21.406187Z",
     "start_time": "2022-08-08T09:44:21.282290Z"
    }
   },
   "outputs": [],
   "source": [
    "full_dataset = pd.read_csv('full_dataset_isr.csv')"
   ]
  },
  {
   "cell_type": "code",
   "execution_count": 6,
   "id": "3973bb44",
   "metadata": {
    "ExecuteTime": {
     "end_time": "2022-08-08T09:44:22.192773Z",
     "start_time": "2022-08-08T09:44:22.184788Z"
    }
   },
   "outputs": [
    {
     "data": {
      "text/plain": [
       "Index(['hex_gid', 'pop_v3', 'orders', 'penetration', 'place_id',\n",
       "       'english name', 'arab_share', 'soc_econom_index', 'mean_height',\n",
       "       'coffee', 'resid_buildings_share', 'jews_share', 'parks',\n",
       "       'kindergarten', 'hist', 'cluster_6', 'hex_area', 'FAR',\n",
       "       'buildings_area', 'sq', 'density', 'age_months', 'distance_straight',\n",
       "       'const', 'urban-business-center', 'urban-edu', 'urban-gov',\n",
       "       'urban-industrial', 'urban-leisure', 'urban-med-hospital',\n",
       "       'urban-public', 'urban-religion-worship', 'urban-shopping',\n",
       "       'urban-sport', 'urban-structure', 'urban-transport'],\n",
       "      dtype='object')"
      ]
     },
     "execution_count": 6,
     "metadata": {},
     "output_type": "execute_result"
    }
   ],
   "source": [
    "full_dataset.columns"
   ]
  },
  {
   "cell_type": "code",
   "execution_count": 534,
   "id": "4a6f3c64",
   "metadata": {
    "ExecuteTime": {
     "end_time": "2022-07-13T13:47:56.492823Z",
     "start_time": "2022-07-13T13:47:56.462406Z"
    }
   },
   "outputs": [
    {
     "data": {
      "text/html": [
       "<div>\n",
       "<style scoped>\n",
       "    .dataframe tbody tr th:only-of-type {\n",
       "        vertical-align: middle;\n",
       "    }\n",
       "\n",
       "    .dataframe tbody tr th {\n",
       "        vertical-align: top;\n",
       "    }\n",
       "\n",
       "    .dataframe thead th {\n",
       "        text-align: right;\n",
       "    }\n",
       "</style>\n",
       "<table border=\"1\" class=\"dataframe\">\n",
       "  <thead>\n",
       "    <tr style=\"text-align: right;\">\n",
       "      <th></th>\n",
       "      <th>density</th>\n",
       "      <th>distance_straight</th>\n",
       "      <th>sq</th>\n",
       "      <th>soc_econom_index</th>\n",
       "      <th>mean_height</th>\n",
       "      <th>coffee</th>\n",
       "      <th>age_months</th>\n",
       "      <th>resid_buildings_share</th>\n",
       "      <th>jews_share</th>\n",
       "      <th>parks</th>\n",
       "      <th>kindergarten</th>\n",
       "      <th>hist</th>\n",
       "      <th>urban_industrial</th>\n",
       "      <th>cluster_6</th>\n",
       "      <th>urban_public</th>\n",
       "    </tr>\n",
       "  </thead>\n",
       "  <tbody>\n",
       "    <tr>\n",
       "      <th>0</th>\n",
       "      <td>0.025555</td>\n",
       "      <td>578.547661</td>\n",
       "      <td>70150.265887</td>\n",
       "      <td>11.0</td>\n",
       "      <td>4.333333</td>\n",
       "      <td>1.0</td>\n",
       "      <td>13</td>\n",
       "      <td>0.141621</td>\n",
       "      <td>0.833646</td>\n",
       "      <td>51.0</td>\n",
       "      <td>3.0</td>\n",
       "      <td>1.0</td>\n",
       "      <td>0.0</td>\n",
       "      <td>2</td>\n",
       "      <td>0.0</td>\n",
       "    </tr>\n",
       "    <tr>\n",
       "      <th>1</th>\n",
       "      <td>0.030611</td>\n",
       "      <td>454.061590</td>\n",
       "      <td>98668.600247</td>\n",
       "      <td>10.0</td>\n",
       "      <td>7.703704</td>\n",
       "      <td>2.0</td>\n",
       "      <td>13</td>\n",
       "      <td>0.096578</td>\n",
       "      <td>0.785028</td>\n",
       "      <td>64.0</td>\n",
       "      <td>3.0</td>\n",
       "      <td>2.0</td>\n",
       "      <td>0.0</td>\n",
       "      <td>3</td>\n",
       "      <td>10.0</td>\n",
       "    </tr>\n",
       "    <tr>\n",
       "      <th>2</th>\n",
       "      <td>0.015422</td>\n",
       "      <td>1826.279596</td>\n",
       "      <td>9488.240712</td>\n",
       "      <td>11.0</td>\n",
       "      <td>0.000000</td>\n",
       "      <td>3.0</td>\n",
       "      <td>13</td>\n",
       "      <td>0.000000</td>\n",
       "      <td>0.899304</td>\n",
       "      <td>16.0</td>\n",
       "      <td>4.0</td>\n",
       "      <td>2.0</td>\n",
       "      <td>0.0</td>\n",
       "      <td>4</td>\n",
       "      <td>4.0</td>\n",
       "    </tr>\n",
       "    <tr>\n",
       "      <th>3</th>\n",
       "      <td>0.020447</td>\n",
       "      <td>1541.773567</td>\n",
       "      <td>30919.309872</td>\n",
       "      <td>13.0</td>\n",
       "      <td>1.064516</td>\n",
       "      <td>0.0</td>\n",
       "      <td>13</td>\n",
       "      <td>0.219277</td>\n",
       "      <td>0.909755</td>\n",
       "      <td>12.0</td>\n",
       "      <td>4.0</td>\n",
       "      <td>0.0</td>\n",
       "      <td>1.0</td>\n",
       "      <td>3</td>\n",
       "      <td>0.0</td>\n",
       "    </tr>\n",
       "    <tr>\n",
       "      <th>4</th>\n",
       "      <td>0.018894</td>\n",
       "      <td>1666.585647</td>\n",
       "      <td>164379.465069</td>\n",
       "      <td>13.0</td>\n",
       "      <td>4.097561</td>\n",
       "      <td>5.0</td>\n",
       "      <td>13</td>\n",
       "      <td>0.321742</td>\n",
       "      <td>0.916992</td>\n",
       "      <td>68.0</td>\n",
       "      <td>12.0</td>\n",
       "      <td>2.0</td>\n",
       "      <td>0.0</td>\n",
       "      <td>2</td>\n",
       "      <td>0.0</td>\n",
       "    </tr>\n",
       "    <tr>\n",
       "      <th>...</th>\n",
       "      <td>...</td>\n",
       "      <td>...</td>\n",
       "      <td>...</td>\n",
       "      <td>...</td>\n",
       "      <td>...</td>\n",
       "      <td>...</td>\n",
       "      <td>...</td>\n",
       "      <td>...</td>\n",
       "      <td>...</td>\n",
       "      <td>...</td>\n",
       "      <td>...</td>\n",
       "      <td>...</td>\n",
       "      <td>...</td>\n",
       "      <td>...</td>\n",
       "      <td>...</td>\n",
       "    </tr>\n",
       "    <tr>\n",
       "      <th>1443</th>\n",
       "      <td>0.028106</td>\n",
       "      <td>2186.777392</td>\n",
       "      <td>186085.652418</td>\n",
       "      <td>12.0</td>\n",
       "      <td>6.346154</td>\n",
       "      <td>1.0</td>\n",
       "      <td>19</td>\n",
       "      <td>0.200360</td>\n",
       "      <td>0.939451</td>\n",
       "      <td>57.0</td>\n",
       "      <td>9.0</td>\n",
       "      <td>2.0</td>\n",
       "      <td>0.0</td>\n",
       "      <td>2</td>\n",
       "      <td>0.0</td>\n",
       "    </tr>\n",
       "    <tr>\n",
       "      <th>1444</th>\n",
       "      <td>0.017404</td>\n",
       "      <td>3117.154166</td>\n",
       "      <td>164086.558985</td>\n",
       "      <td>14.0</td>\n",
       "      <td>4.937500</td>\n",
       "      <td>1.0</td>\n",
       "      <td>19</td>\n",
       "      <td>0.246059</td>\n",
       "      <td>0.932371</td>\n",
       "      <td>49.0</td>\n",
       "      <td>8.0</td>\n",
       "      <td>0.0</td>\n",
       "      <td>0.0</td>\n",
       "      <td>2</td>\n",
       "      <td>0.0</td>\n",
       "    </tr>\n",
       "    <tr>\n",
       "      <th>1445</th>\n",
       "      <td>0.015784</td>\n",
       "      <td>2788.252619</td>\n",
       "      <td>80418.414017</td>\n",
       "      <td>10.0</td>\n",
       "      <td>2.666667</td>\n",
       "      <td>2.0</td>\n",
       "      <td>19</td>\n",
       "      <td>0.239213</td>\n",
       "      <td>0.934011</td>\n",
       "      <td>51.0</td>\n",
       "      <td>9.0</td>\n",
       "      <td>1.0</td>\n",
       "      <td>0.0</td>\n",
       "      <td>2</td>\n",
       "      <td>0.0</td>\n",
       "    </tr>\n",
       "    <tr>\n",
       "      <th>1446</th>\n",
       "      <td>0.015422</td>\n",
       "      <td>1309.429890</td>\n",
       "      <td>9488.240712</td>\n",
       "      <td>11.0</td>\n",
       "      <td>0.000000</td>\n",
       "      <td>10.0</td>\n",
       "      <td>19</td>\n",
       "      <td>0.000000</td>\n",
       "      <td>0.899304</td>\n",
       "      <td>37.0</td>\n",
       "      <td>0.0</td>\n",
       "      <td>6.0</td>\n",
       "      <td>3.0</td>\n",
       "      <td>3</td>\n",
       "      <td>5.0</td>\n",
       "    </tr>\n",
       "    <tr>\n",
       "      <th>1447</th>\n",
       "      <td>0.029439</td>\n",
       "      <td>1737.511720</td>\n",
       "      <td>42920.277247</td>\n",
       "      <td>4.0</td>\n",
       "      <td>4.043478</td>\n",
       "      <td>8.0</td>\n",
       "      <td>19</td>\n",
       "      <td>0.089756</td>\n",
       "      <td>0.993051</td>\n",
       "      <td>21.0</td>\n",
       "      <td>0.0</td>\n",
       "      <td>2.0</td>\n",
       "      <td>3.0</td>\n",
       "      <td>3</td>\n",
       "      <td>0.0</td>\n",
       "    </tr>\n",
       "  </tbody>\n",
       "</table>\n",
       "<p>1448 rows × 15 columns</p>\n",
       "</div>"
      ],
      "text/plain": [
       "       density  distance_straight             sq  soc_econom_index  \\\n",
       "0     0.025555         578.547661   70150.265887              11.0   \n",
       "1     0.030611         454.061590   98668.600247              10.0   \n",
       "2     0.015422        1826.279596    9488.240712              11.0   \n",
       "3     0.020447        1541.773567   30919.309872              13.0   \n",
       "4     0.018894        1666.585647  164379.465069              13.0   \n",
       "...        ...                ...            ...               ...   \n",
       "1443  0.028106        2186.777392  186085.652418              12.0   \n",
       "1444  0.017404        3117.154166  164086.558985              14.0   \n",
       "1445  0.015784        2788.252619   80418.414017              10.0   \n",
       "1446  0.015422        1309.429890    9488.240712              11.0   \n",
       "1447  0.029439        1737.511720   42920.277247               4.0   \n",
       "\n",
       "      mean_height  coffee  age_months  resid_buildings_share  jews_share  \\\n",
       "0        4.333333     1.0          13               0.141621    0.833646   \n",
       "1        7.703704     2.0          13               0.096578    0.785028   \n",
       "2        0.000000     3.0          13               0.000000    0.899304   \n",
       "3        1.064516     0.0          13               0.219277    0.909755   \n",
       "4        4.097561     5.0          13               0.321742    0.916992   \n",
       "...           ...     ...         ...                    ...         ...   \n",
       "1443     6.346154     1.0          19               0.200360    0.939451   \n",
       "1444     4.937500     1.0          19               0.246059    0.932371   \n",
       "1445     2.666667     2.0          19               0.239213    0.934011   \n",
       "1446     0.000000    10.0          19               0.000000    0.899304   \n",
       "1447     4.043478     8.0          19               0.089756    0.993051   \n",
       "\n",
       "      parks  kindergarten  hist  urban_industrial  cluster_6  urban_public  \n",
       "0      51.0           3.0   1.0               0.0          2           0.0  \n",
       "1      64.0           3.0   2.0               0.0          3          10.0  \n",
       "2      16.0           4.0   2.0               0.0          4           4.0  \n",
       "3      12.0           4.0   0.0               1.0          3           0.0  \n",
       "4      68.0          12.0   2.0               0.0          2           0.0  \n",
       "...     ...           ...   ...               ...        ...           ...  \n",
       "1443   57.0           9.0   2.0               0.0          2           0.0  \n",
       "1444   49.0           8.0   0.0               0.0          2           0.0  \n",
       "1445   51.0           9.0   1.0               0.0          2           0.0  \n",
       "1446   37.0           0.0   6.0               3.0          3           5.0  \n",
       "1447   21.0           0.0   2.0               3.0          3           0.0  \n",
       "\n",
       "[1448 rows x 15 columns]"
      ]
     },
     "execution_count": 534,
     "metadata": {},
     "output_type": "execute_result"
    }
   ],
   "source": [
    "df_model[model_cols]"
   ]
  },
  {
   "cell_type": "code",
   "execution_count": 911,
   "id": "44c40d71",
   "metadata": {
    "ExecuteTime": {
     "end_time": "2022-07-18T15:45:41.475203Z",
     "start_time": "2022-07-18T15:45:41.450169Z"
    }
   },
   "outputs": [],
   "source": [
    "full_dataset = full_dataset.merge(df_model[['hex_gid','y_predict']], on='hex_gid', how='left')"
   ]
  },
  {
   "cell_type": "code",
   "execution_count": 907,
   "id": "47889881",
   "metadata": {
    "ExecuteTime": {
     "end_time": "2022-07-18T15:34:55.987160Z",
     "start_time": "2022-07-18T15:34:55.982076Z"
    }
   },
   "outputs": [
    {
     "data": {
      "text/plain": [
       "Index(['Unnamed: 0', 'hex_gid', 'pop_v3', 'orders', 'penetration', 'place_id',\n",
       "       'english name', 'arab_share', 'soc_econom_index', 'mean_height',\n",
       "       'coffee', 'resid_buildings_share', 'jews_share', 'parks',\n",
       "       'kindergarten', 'hist', 'urban_industrial', 'cluster_6', 'urban_public',\n",
       "       'hex_area', 'FAR', 'buildings_area', 'sq', 'density', 'age_months',\n",
       "       'distance_straight', 'const', 'urban-business-center', 'urban-edu',\n",
       "       'urban-gov', 'urban-industrial', 'urban-leisure', 'urban-med-hospital',\n",
       "       'urban-public', 'urban-religion-worship', 'urban-shopping',\n",
       "       'urban-sport', 'urban-structure', 'urban-transport'],\n",
       "      dtype='object')"
      ]
     },
     "execution_count": 907,
     "metadata": {},
     "output_type": "execute_result"
    }
   ],
   "source": [
    "full_dataset.columns"
   ]
  },
  {
   "cell_type": "code",
   "execution_count": 920,
   "id": "9e28e6ac",
   "metadata": {
    "ExecuteTime": {
     "end_time": "2022-07-18T16:00:22.867670Z",
     "start_time": "2022-07-18T16:00:22.862307Z"
    }
   },
   "outputs": [],
   "source": [
    "full_dataset.rename(columns={'urban-industrial':'urban_industrial','urban-public':'urban_public'}, inplace=True)"
   ]
  },
  {
   "cell_type": "code",
   "execution_count": 921,
   "id": "55ea431d",
   "metadata": {
    "ExecuteTime": {
     "end_time": "2022-07-18T16:00:23.396957Z",
     "start_time": "2022-07-18T16:00:23.377964Z"
    }
   },
   "outputs": [],
   "source": [
    "full_dataset.loc[pd.isnull(full_dataset['y_predict']),'y_predict']= model.predict(full_dataset.loc[pd.isnull(full_dataset['y_predict']),model_cols])"
   ]
  },
  {
   "cell_type": "code",
   "execution_count": 922,
   "id": "090c850d",
   "metadata": {
    "ExecuteTime": {
     "end_time": "2022-07-18T16:00:26.666324Z",
     "start_time": "2022-07-18T16:00:26.647194Z"
    }
   },
   "outputs": [],
   "source": [
    "full_dataset['place_id'] = full_dataset['place_id'].fillna(0).astype(int).astype(str)"
   ]
  },
  {
   "cell_type": "code",
   "execution_count": 309,
   "id": "6018ce5e",
   "metadata": {
    "ExecuteTime": {
     "end_time": "2022-07-12T13:34:17.478912Z",
     "start_time": "2022-07-12T13:34:17.407547Z"
    }
   },
   "outputs": [],
   "source": [
    "gdf_isr_zones = gpd.read_file('Тель-Авив_zones_2022-07-11.geojson')"
   ]
  },
  {
   "cell_type": "code",
   "execution_count": 310,
   "id": "7d2ee60c",
   "metadata": {
    "ExecuteTime": {
     "end_time": "2022-07-12T13:34:17.642452Z",
     "start_time": "2022-07-12T13:34:17.638998Z"
    }
   },
   "outputs": [],
   "source": [
    "import geopandas as gpd"
   ]
  },
  {
   "cell_type": "code",
   "execution_count": 952,
   "id": "2113015f",
   "metadata": {
    "ExecuteTime": {
     "end_time": "2022-07-20T14:19:41.453420Z",
     "start_time": "2022-07-20T14:19:41.443527Z"
    },
    "scrolled": true
   },
   "outputs": [
    {
     "data": {
      "text/plain": [
       "external_id  title                          \n",
       "266222       Ramat Gan, Zeev Jabutinsky, 124    2\n",
       "298248       Tel Aviv, HaShlosha, 11            2\n",
       "298283       Tel Aviv, HaRabbi Mibachrach, 4    2\n",
       "396338       Holon, Ha'Lahav, 15                2\n",
       "396798       Tel Aviv, Ben-Yehuda, 32           2\n",
       "403349       Rishon LeZion, Sakharov, 22        2\n",
       "403364       Bat Yam, Ehud Kinnamon, 37         2\n",
       "435417       Ramat Gan, Zeev Jabotinsky, 33     2\n",
       "435682       Modin, Dam HaMacbim, 36            1\n",
       "435692       Bat Yam, Sderot HaAtsmaut, 64      2\n",
       "435697       Haifa, Sderot Moriah, 11           1\n",
       "437047       Petah tikva, Bar Kochva, 75        2\n",
       "461221       Rishon LeZion, Moshe Beker, 14     2\n",
       "484191       Ness Ziona, Bialik, 1              2\n",
       "484221       Ra'anana, HaHaroshet, 14           2\n",
       "484226       Tel Aviv, Aharon Becker, 8         2\n",
       "538973       Petah Tikva, Bareket, 9            2\n",
       "575777       Kfar saba, Hagavish 5              1\n",
       "592601       Ramat hasharon, Sokolov 111        2\n",
       "dtype: int64"
      ]
     },
     "execution_count": 952,
     "metadata": {},
     "output_type": "execute_result"
    }
   ],
   "source": [
    "gdf_isr_zones.groupby(['external_id','title']).size()"
   ]
  },
  {
   "cell_type": "code",
   "execution_count": 923,
   "id": "48507371",
   "metadata": {
    "ExecuteTime": {
     "end_time": "2022-07-18T16:00:30.735638Z",
     "start_time": "2022-07-18T16:00:30.691016Z"
    }
   },
   "outputs": [],
   "source": [
    "full_dataset = full_dataset.merge(gdf_isr_zones[gdf_isr_zones.delivery_type=='foot'], left_on='place_id', right_on='external_id', how='left')"
   ]
  },
  {
   "cell_type": "code",
   "execution_count": 950,
   "id": "cf751cd4",
   "metadata": {
    "ExecuteTime": {
     "end_time": "2022-07-19T06:10:59.627846Z",
     "start_time": "2022-07-19T06:10:59.612609Z"
    }
   },
   "outputs": [
    {
     "data": {
      "text/plain": [
       "density                 -0.243497\n",
       "distance_straight       -0.223677\n",
       "sq                      -0.095584\n",
       "soc_econom_index        -0.055543\n",
       "mean_height             -0.073633\n",
       "coffee                   0.231898\n",
       "age_months               0.209148\n",
       "resid_buildings_share   -0.051244\n",
       "jews_share              -0.139759\n",
       "parks                   -0.034385\n",
       "kindergarten            -0.078529\n",
       "hist                     0.091158\n",
       "urban_industrial         0.045588\n",
       "cluster_6                0.152213\n",
       "urban_public             0.167383\n",
       "Name: penetration, dtype: float64"
      ]
     },
     "execution_count": 950,
     "metadata": {},
     "output_type": "execute_result"
    }
   ],
   "source": [
    "df.corr()['penetration'][top_feat]"
   ]
  },
  {
   "cell_type": "code",
   "execution_count": 924,
   "id": "fcda6a23",
   "metadata": {
    "ExecuteTime": {
     "end_time": "2022-07-18T16:00:31.250153Z",
     "start_time": "2022-07-18T16:00:31.235470Z"
    }
   },
   "outputs": [],
   "source": [
    "full_dataset['frq']=3\n",
    "full_dataset['penetration_users'] = full_dataset['penetration']/full_dataset['frq']\n",
    "full_dataset['predict_penetration_users'] = full_dataset['y_predict']/full_dataset['frq']"
   ]
  },
  {
   "cell_type": "code",
   "execution_count": 925,
   "id": "bb0a880a",
   "metadata": {
    "ExecuteTime": {
     "end_time": "2022-07-18T16:00:31.696223Z",
     "start_time": "2022-07-18T16:00:31.691208Z"
    }
   },
   "outputs": [],
   "source": [
    "full_dataset['predict_orders'] = full_dataset['y_predict']*full_dataset['pop_v3']"
   ]
  },
  {
   "cell_type": "code",
   "execution_count": 926,
   "id": "6bc8b41d",
   "metadata": {
    "ExecuteTime": {
     "end_time": "2022-07-18T16:00:32.282562Z",
     "start_time": "2022-07-18T16:00:32.244611Z"
    }
   },
   "outputs": [
    {
     "data": {
      "text/plain": [
       "title                       hex_gid        \n",
       "Bat Yam, Ehud Kinnamon, 37  892db0c892fffff    1\n",
       "                            892db0cd003ffff    1\n",
       "                            892db0cd007ffff    1\n",
       "                            892db0cd013ffff    1\n",
       "                            892db0cd017ffff    1\n",
       "                                              ..\n",
       "Tel Aviv, HaShlosha, 11     892db0cddcbffff    1\n",
       "                            892db0cddcfffff    1\n",
       "                            892db0cddd3ffff    1\n",
       "                            892db0cddd7ffff    1\n",
       "                            892db0cdddbffff    1\n",
       "Length: 1510, dtype: int64"
      ]
     },
     "execution_count": 926,
     "metadata": {},
     "output_type": "execute_result"
    }
   ],
   "source": [
    "full_dataset.groupby(['title','hex_gid']).size()"
   ]
  },
  {
   "cell_type": "code",
   "execution_count": 927,
   "id": "7df09443",
   "metadata": {
    "ExecuteTime": {
     "end_time": "2022-07-18T16:00:34.325508Z",
     "start_time": "2022-07-18T16:00:34.308047Z"
    }
   },
   "outputs": [
    {
     "data": {
      "text/plain": [
       "english name\n",
       "-1                         0.037373\n",
       "AZOR                       0.011172\n",
       "BAT YAM                    0.013077\n",
       "BE'ER YA'AQOV              0.011767\n",
       "BENE BERAQ                 0.007035\n",
       "GAN HAYYIM                 0.002780\n",
       "GANNE TIQWA                0.006326\n",
       "GAT RIMMON                 0.005271\n",
       "GELIL YAM                  0.019449\n",
       "GIV'AT SHEMU'EL            0.006404\n",
       "GIV'ATAYIM                 0.017824\n",
       "HAIFA                      0.014527\n",
       "HERZLIYYA                  0.005944\n",
       "HOLON                      0.010377\n",
       "KEFAR MALAL                0.001056\n",
       "KEFAR SAVA                 0.003602\n",
       "MA'AS                      0.015874\n",
       "MIQWE YISRA'EL             0.019913\n",
       "MODI'IN-MAKKABBIM-RE'UT    0.008096\n",
       "NES ZIYYONA                0.013793\n",
       "NEWE YAMIN                 0.006122\n",
       "PETAH TIQWA                0.013298\n",
       "QIRYAT ONO                 0.004485\n",
       "RA'ANNANA                  0.008466\n",
       "RAMAT GAN                  0.018911\n",
       "RAMAT HASHARON             0.009277\n",
       "RISHON LEZIYYON            0.013322\n",
       "TEL AVIV - YAFO            0.021015\n",
       "ZOFIT                      0.001370\n",
       "Name: penetration_users, dtype: float64"
      ]
     },
     "execution_count": 927,
     "metadata": {},
     "output_type": "execute_result"
    }
   ],
   "source": [
    "full_dataset[full_dataset['place_id']!='0'].groupby('english name')['penetration_users'].mean()"
   ]
  },
  {
   "cell_type": "code",
   "execution_count": null,
   "id": "5200bfdc",
   "metadata": {},
   "outputs": [],
   "source": [
    "# max penetration - 5%, current - 1.5%. calculate coefficient to make 5 from 1.5"
   ]
  },
  {
   "cell_type": "code",
   "execution_count": 865,
   "id": "c4d91386",
   "metadata": {
    "ExecuteTime": {
     "end_time": "2022-07-18T14:51:44.010114Z",
     "start_time": "2022-07-18T14:51:44.002305Z"
    }
   },
   "outputs": [
    {
     "data": {
      "text/plain": [
       "0.015114627811837254"
      ]
     },
     "execution_count": 865,
     "metadata": {},
     "output_type": "execute_result"
    }
   ],
   "source": [
    "df[df['age_months']>10&(df['age_months']<14)]['penetration'].mean()/3"
   ]
  },
  {
   "cell_type": "code",
   "execution_count": 512,
   "id": "f4eb42a0",
   "metadata": {
    "ExecuteTime": {
     "end_time": "2022-07-13T13:36:29.132774Z",
     "start_time": "2022-07-13T13:36:29.128528Z"
    }
   },
   "outputs": [
    {
     "data": {
      "text/plain": [
       "'0.020591 -> 0.021015'"
      ]
     },
     "execution_count": 512,
     "metadata": {},
     "output_type": "execute_result"
    }
   ],
   "source": [
    "'0.015114627811837254 -> 0.05'"
   ]
  },
  {
   "cell_type": "code",
   "execution_count": 723,
   "id": "e9bf5bdd",
   "metadata": {
    "ExecuteTime": {
     "end_time": "2022-07-14T10:02:36.108446Z",
     "start_time": "2022-07-14T10:02:36.104195Z"
    }
   },
   "outputs": [
    {
     "data": {
      "text/plain": [
       "3.3080536697596834"
      ]
     },
     "execution_count": 723,
     "metadata": {},
     "output_type": "execute_result"
    }
   ],
   "source": [
    "0.05/0.015114627811837254  # coefficient"
   ]
  },
  {
   "cell_type": "code",
   "execution_count": 928,
   "id": "fe1131c6",
   "metadata": {
    "ExecuteTime": {
     "end_time": "2022-07-18T16:00:39.440899Z",
     "start_time": "2022-07-18T16:00:39.435462Z"
    }
   },
   "outputs": [],
   "source": [
    "full_dataset['penetration_target'] = full_dataset['predict_penetration_users']*3.3"
   ]
  },
  {
   "cell_type": "code",
   "execution_count": 929,
   "id": "39f7aaf1",
   "metadata": {
    "ExecuteTime": {
     "end_time": "2022-07-18T16:00:40.584946Z",
     "start_time": "2022-07-18T16:00:40.555781Z"
    },
    "scrolled": true
   },
   "outputs": [
    {
     "name": "stderr",
     "output_type": "stream",
     "text": [
      "/usr/local/lib/python3.7/dist-packages/ipykernel_launcher.py:1: FutureWarning: Indexing with multiple keys (implicitly converted to a tuple of keys) will be deprecated, use a list instead.\n",
      "  \"\"\"Entry point for launching an IPython kernel.\n"
     ]
    },
    {
     "data": {
      "text/html": [
       "<div>\n",
       "<style scoped>\n",
       "    .dataframe tbody tr th:only-of-type {\n",
       "        vertical-align: middle;\n",
       "    }\n",
       "\n",
       "    .dataframe tbody tr th {\n",
       "        vertical-align: top;\n",
       "    }\n",
       "\n",
       "    .dataframe thead th {\n",
       "        text-align: right;\n",
       "    }\n",
       "</style>\n",
       "<table border=\"1\" class=\"dataframe\">\n",
       "  <thead>\n",
       "    <tr style=\"text-align: right;\">\n",
       "      <th></th>\n",
       "      <th>penetration_users</th>\n",
       "      <th>predict_penetration_users</th>\n",
       "      <th>frq</th>\n",
       "      <th>penetration_target</th>\n",
       "      <th>pop_v3</th>\n",
       "      <th>orders</th>\n",
       "      <th>predict_orders</th>\n",
       "    </tr>\n",
       "    <tr>\n",
       "      <th>title</th>\n",
       "      <th></th>\n",
       "      <th></th>\n",
       "      <th></th>\n",
       "      <th></th>\n",
       "      <th></th>\n",
       "      <th></th>\n",
       "      <th></th>\n",
       "    </tr>\n",
       "  </thead>\n",
       "  <tbody>\n",
       "    <tr>\n",
       "      <th>Bat Yam, Ehud Kinnamon, 37</th>\n",
       "      <td>0.012413</td>\n",
       "      <td>0.012928</td>\n",
       "      <td>3.0</td>\n",
       "      <td>0.042664</td>\n",
       "      <td>132566.313627</td>\n",
       "      <td>4202.0</td>\n",
       "      <td>4594.425894</td>\n",
       "    </tr>\n",
       "    <tr>\n",
       "      <th>Bat Yam, Sderot HaAtsmaut, 64</th>\n",
       "      <td>0.016600</td>\n",
       "      <td>0.018303</td>\n",
       "      <td>3.0</td>\n",
       "      <td>0.060398</td>\n",
       "      <td>126705.022453</td>\n",
       "      <td>4362.0</td>\n",
       "      <td>5101.365564</td>\n",
       "    </tr>\n",
       "    <tr>\n",
       "      <th>Haifa, Sderot Moriah, 11</th>\n",
       "      <td>0.014527</td>\n",
       "      <td>0.016412</td>\n",
       "      <td>3.0</td>\n",
       "      <td>0.054161</td>\n",
       "      <td>55137.879355</td>\n",
       "      <td>1973.0</td>\n",
       "      <td>2369.868228</td>\n",
       "    </tr>\n",
       "    <tr>\n",
       "      <th>Holon, Ha'Lahav, 15</th>\n",
       "      <td>0.017326</td>\n",
       "      <td>0.013333</td>\n",
       "      <td>3.0</td>\n",
       "      <td>0.043998</td>\n",
       "      <td>100415.302615</td>\n",
       "      <td>3053.0</td>\n",
       "      <td>3437.532957</td>\n",
       "    </tr>\n",
       "    <tr>\n",
       "      <th>Kfar saba, Hagavish 5</th>\n",
       "      <td>0.002475</td>\n",
       "      <td>0.012704</td>\n",
       "      <td>3.0</td>\n",
       "      <td>0.041922</td>\n",
       "      <td>80216.213240</td>\n",
       "      <td>475.0</td>\n",
       "      <td>2692.092667</td>\n",
       "    </tr>\n",
       "    <tr>\n",
       "      <th>Modin, Dam HaMacbim, 36</th>\n",
       "      <td>0.008096</td>\n",
       "      <td>0.011072</td>\n",
       "      <td>3.0</td>\n",
       "      <td>0.036537</td>\n",
       "      <td>96500.936426</td>\n",
       "      <td>2427.0</td>\n",
       "      <td>3194.279996</td>\n",
       "    </tr>\n",
       "    <tr>\n",
       "      <th>Ness Ziona, Bialik, 1</th>\n",
       "      <td>0.013793</td>\n",
       "      <td>0.014821</td>\n",
       "      <td>3.0</td>\n",
       "      <td>0.048910</td>\n",
       "      <td>56167.409713</td>\n",
       "      <td>2015.0</td>\n",
       "      <td>1950.514541</td>\n",
       "    </tr>\n",
       "    <tr>\n",
       "      <th>Petah Tikva, Bareket, 9</th>\n",
       "      <td>0.012880</td>\n",
       "      <td>0.012704</td>\n",
       "      <td>3.0</td>\n",
       "      <td>0.041923</td>\n",
       "      <td>124172.907389</td>\n",
       "      <td>2775.0</td>\n",
       "      <td>3447.829134</td>\n",
       "    </tr>\n",
       "    <tr>\n",
       "      <th>Petah tikva, Bar Kochva, 75</th>\n",
       "      <td>0.013774</td>\n",
       "      <td>0.012507</td>\n",
       "      <td>3.0</td>\n",
       "      <td>0.041272</td>\n",
       "      <td>198952.130308</td>\n",
       "      <td>8084.0</td>\n",
       "      <td>7656.326139</td>\n",
       "    </tr>\n",
       "    <tr>\n",
       "      <th>Ra'anana, HaHaroshet, 14</th>\n",
       "      <td>0.008156</td>\n",
       "      <td>0.009810</td>\n",
       "      <td>3.0</td>\n",
       "      <td>0.032374</td>\n",
       "      <td>115566.903944</td>\n",
       "      <td>2984.0</td>\n",
       "      <td>3311.462216</td>\n",
       "    </tr>\n",
       "    <tr>\n",
       "      <th>Ramat Gan, Zeev Jabotinsky, 33</th>\n",
       "      <td>0.019887</td>\n",
       "      <td>0.016879</td>\n",
       "      <td>3.0</td>\n",
       "      <td>0.055702</td>\n",
       "      <td>201494.037572</td>\n",
       "      <td>11164.0</td>\n",
       "      <td>11242.989392</td>\n",
       "    </tr>\n",
       "    <tr>\n",
       "      <th>Ramat Gan, Zeev Jabutinsky, 124</th>\n",
       "      <td>0.014570</td>\n",
       "      <td>0.013154</td>\n",
       "      <td>3.0</td>\n",
       "      <td>0.043409</td>\n",
       "      <td>290747.212438</td>\n",
       "      <td>10647.0</td>\n",
       "      <td>9760.542716</td>\n",
       "    </tr>\n",
       "    <tr>\n",
       "      <th>Ramat hasharon, Sokolov 111</th>\n",
       "      <td>0.007387</td>\n",
       "      <td>0.010740</td>\n",
       "      <td>3.0</td>\n",
       "      <td>0.035444</td>\n",
       "      <td>89384.185343</td>\n",
       "      <td>1932.0</td>\n",
       "      <td>2725.153873</td>\n",
       "    </tr>\n",
       "    <tr>\n",
       "      <th>Rishon LeZion, Moshe Beker, 14</th>\n",
       "      <td>0.012542</td>\n",
       "      <td>0.012395</td>\n",
       "      <td>3.0</td>\n",
       "      <td>0.040902</td>\n",
       "      <td>189004.823948</td>\n",
       "      <td>5370.0</td>\n",
       "      <td>6285.900119</td>\n",
       "    </tr>\n",
       "    <tr>\n",
       "      <th>Rishon LeZion, Sakharov, 22</th>\n",
       "      <td>0.017309</td>\n",
       "      <td>0.014483</td>\n",
       "      <td>3.0</td>\n",
       "      <td>0.047793</td>\n",
       "      <td>144802.267467</td>\n",
       "      <td>4346.0</td>\n",
       "      <td>4765.012032</td>\n",
       "    </tr>\n",
       "    <tr>\n",
       "      <th>Tel Aviv, Aharon Becker, 8</th>\n",
       "      <td>0.017084</td>\n",
       "      <td>0.015912</td>\n",
       "      <td>3.0</td>\n",
       "      <td>0.052509</td>\n",
       "      <td>76690.756642</td>\n",
       "      <td>3281.0</td>\n",
       "      <td>2988.596279</td>\n",
       "    </tr>\n",
       "    <tr>\n",
       "      <th>Tel Aviv, Ben-Yehuda, 32</th>\n",
       "      <td>0.025569</td>\n",
       "      <td>0.024279</td>\n",
       "      <td>3.0</td>\n",
       "      <td>0.080122</td>\n",
       "      <td>122516.539948</td>\n",
       "      <td>9751.0</td>\n",
       "      <td>9306.505348</td>\n",
       "    </tr>\n",
       "    <tr>\n",
       "      <th>Tel Aviv, HaRabbi Mibachrach, 4</th>\n",
       "      <td>0.028260</td>\n",
       "      <td>0.030671</td>\n",
       "      <td>3.0</td>\n",
       "      <td>0.101214</td>\n",
       "      <td>110628.415985</td>\n",
       "      <td>8300.0</td>\n",
       "      <td>7859.275799</td>\n",
       "    </tr>\n",
       "    <tr>\n",
       "      <th>Tel Aviv, HaShlosha, 11</th>\n",
       "      <td>0.017233</td>\n",
       "      <td>0.019251</td>\n",
       "      <td>3.0</td>\n",
       "      <td>0.063528</td>\n",
       "      <td>159025.991963</td>\n",
       "      <td>7668.0</td>\n",
       "      <td>8469.661807</td>\n",
       "    </tr>\n",
       "  </tbody>\n",
       "</table>\n",
       "</div>"
      ],
      "text/plain": [
       "                                 penetration_users  predict_penetration_users  \\\n",
       "title                                                                           \n",
       "Bat Yam, Ehud Kinnamon, 37                0.012413                   0.012928   \n",
       "Bat Yam, Sderot HaAtsmaut, 64             0.016600                   0.018303   \n",
       "Haifa, Sderot Moriah, 11                  0.014527                   0.016412   \n",
       "Holon, Ha'Lahav, 15                       0.017326                   0.013333   \n",
       "Kfar saba, Hagavish 5                     0.002475                   0.012704   \n",
       "Modin, Dam HaMacbim, 36                   0.008096                   0.011072   \n",
       "Ness Ziona, Bialik, 1                     0.013793                   0.014821   \n",
       "Petah Tikva, Bareket, 9                   0.012880                   0.012704   \n",
       "Petah tikva, Bar Kochva, 75               0.013774                   0.012507   \n",
       "Ra'anana, HaHaroshet, 14                  0.008156                   0.009810   \n",
       "Ramat Gan, Zeev Jabotinsky, 33            0.019887                   0.016879   \n",
       "Ramat Gan, Zeev Jabutinsky, 124           0.014570                   0.013154   \n",
       "Ramat hasharon, Sokolov 111               0.007387                   0.010740   \n",
       "Rishon LeZion, Moshe Beker, 14            0.012542                   0.012395   \n",
       "Rishon LeZion, Sakharov, 22               0.017309                   0.014483   \n",
       "Tel Aviv, Aharon Becker, 8                0.017084                   0.015912   \n",
       "Tel Aviv, Ben-Yehuda, 32                  0.025569                   0.024279   \n",
       "Tel Aviv, HaRabbi Mibachrach, 4           0.028260                   0.030671   \n",
       "Tel Aviv, HaShlosha, 11                   0.017233                   0.019251   \n",
       "\n",
       "                                 frq  penetration_target         pop_v3  \\\n",
       "title                                                                     \n",
       "Bat Yam, Ehud Kinnamon, 37       3.0            0.042664  132566.313627   \n",
       "Bat Yam, Sderot HaAtsmaut, 64    3.0            0.060398  126705.022453   \n",
       "Haifa, Sderot Moriah, 11         3.0            0.054161   55137.879355   \n",
       "Holon, Ha'Lahav, 15              3.0            0.043998  100415.302615   \n",
       "Kfar saba, Hagavish 5            3.0            0.041922   80216.213240   \n",
       "Modin, Dam HaMacbim, 36          3.0            0.036537   96500.936426   \n",
       "Ness Ziona, Bialik, 1            3.0            0.048910   56167.409713   \n",
       "Petah Tikva, Bareket, 9          3.0            0.041923  124172.907389   \n",
       "Petah tikva, Bar Kochva, 75      3.0            0.041272  198952.130308   \n",
       "Ra'anana, HaHaroshet, 14         3.0            0.032374  115566.903944   \n",
       "Ramat Gan, Zeev Jabotinsky, 33   3.0            0.055702  201494.037572   \n",
       "Ramat Gan, Zeev Jabutinsky, 124  3.0            0.043409  290747.212438   \n",
       "Ramat hasharon, Sokolov 111      3.0            0.035444   89384.185343   \n",
       "Rishon LeZion, Moshe Beker, 14   3.0            0.040902  189004.823948   \n",
       "Rishon LeZion, Sakharov, 22      3.0            0.047793  144802.267467   \n",
       "Tel Aviv, Aharon Becker, 8       3.0            0.052509   76690.756642   \n",
       "Tel Aviv, Ben-Yehuda, 32         3.0            0.080122  122516.539948   \n",
       "Tel Aviv, HaRabbi Mibachrach, 4  3.0            0.101214  110628.415985   \n",
       "Tel Aviv, HaShlosha, 11          3.0            0.063528  159025.991963   \n",
       "\n",
       "                                  orders  predict_orders  \n",
       "title                                                     \n",
       "Bat Yam, Ehud Kinnamon, 37        4202.0     4594.425894  \n",
       "Bat Yam, Sderot HaAtsmaut, 64     4362.0     5101.365564  \n",
       "Haifa, Sderot Moriah, 11          1973.0     2369.868228  \n",
       "Holon, Ha'Lahav, 15               3053.0     3437.532957  \n",
       "Kfar saba, Hagavish 5              475.0     2692.092667  \n",
       "Modin, Dam HaMacbim, 36           2427.0     3194.279996  \n",
       "Ness Ziona, Bialik, 1             2015.0     1950.514541  \n",
       "Petah Tikva, Bareket, 9           2775.0     3447.829134  \n",
       "Petah tikva, Bar Kochva, 75       8084.0     7656.326139  \n",
       "Ra'anana, HaHaroshet, 14          2984.0     3311.462216  \n",
       "Ramat Gan, Zeev Jabotinsky, 33   11164.0    11242.989392  \n",
       "Ramat Gan, Zeev Jabutinsky, 124  10647.0     9760.542716  \n",
       "Ramat hasharon, Sokolov 111       1932.0     2725.153873  \n",
       "Rishon LeZion, Moshe Beker, 14    5370.0     6285.900119  \n",
       "Rishon LeZion, Sakharov, 22       4346.0     4765.012032  \n",
       "Tel Aviv, Aharon Becker, 8        3281.0     2988.596279  \n",
       "Tel Aviv, Ben-Yehuda, 32          9751.0     9306.505348  \n",
       "Tel Aviv, HaRabbi Mibachrach, 4   8300.0     7859.275799  \n",
       "Tel Aviv, HaShlosha, 11           7668.0     8469.661807  "
      ]
     },
     "execution_count": 929,
     "metadata": {},
     "output_type": "execute_result"
    }
   ],
   "source": [
    "full_dataset.groupby('title')['penetration_users','predict_penetration_users','frq','penetration_target'].mean().join(full_dataset.groupby('title')['pop_v3','orders','predict_orders'].sum())"
   ]
  },
  {
   "cell_type": "code",
   "execution_count": 930,
   "id": "dd41edec",
   "metadata": {
    "ExecuteTime": {
     "end_time": "2022-07-18T16:00:46.533506Z",
     "start_time": "2022-07-18T16:00:46.527322Z"
    },
    "scrolled": true
   },
   "outputs": [],
   "source": [
    "full_dataset.loc[full_dataset.pop_v3<50,'penetration_target']=0.02"
   ]
  },
  {
   "cell_type": "code",
   "execution_count": 931,
   "id": "5fd69f42",
   "metadata": {
    "ExecuteTime": {
     "end_time": "2022-07-18T16:00:47.912023Z",
     "start_time": "2022-07-18T16:00:47.906382Z"
    }
   },
   "outputs": [],
   "source": [
    "full_dataset.loc[full_dataset.arab_share>0.6,'penetration_target' ]=0.0001"
   ]
  },
  {
   "cell_type": "code",
   "execution_count": 932,
   "id": "14a866f9",
   "metadata": {
    "ExecuteTime": {
     "end_time": "2022-07-18T16:00:48.954853Z",
     "start_time": "2022-07-18T16:00:48.861834Z"
    }
   },
   "outputs": [
    {
     "name": "stderr",
     "output_type": "stream",
     "text": [
      "/usr/local/lib/python3.7/dist-packages/ipykernel_launcher.py:1: FutureWarning: Indexing with multiple keys (implicitly converted to a tuple of keys) will be deprecated, use a list instead.\n",
      "  \"\"\"Entry point for launching an IPython kernel.\n"
     ]
    }
   ],
   "source": [
    "full_dataset.groupby('title')['penetration_users','predict_penetration_users','frq','penetration_target'].mean().join(full_dataset.groupby('title')['pop_v3','orders','predict_orders'].sum()).to_csv('isr_zones_predict_fact.csv')"
   ]
  },
  {
   "cell_type": "code",
   "execution_count": 728,
   "id": "d81aa885",
   "metadata": {
    "ExecuteTime": {
     "end_time": "2022-07-14T10:03:02.239772Z",
     "start_time": "2022-07-14T10:03:02.003133Z"
    }
   },
   "outputs": [
    {
     "data": {
      "text/plain": [
       "(array([3.212e+03, 1.100e+04, 1.826e+03, 9.720e+02, 1.230e+03, 9.580e+02,\n",
       "        1.740e+02, 1.900e+01, 0.000e+00, 1.000e+00]),\n",
       " array([1.00000000e-04, 1.99345035e-02, 3.97690069e-02, 5.96035104e-02,\n",
       "        7.94380139e-02, 9.92725174e-02, 1.19107021e-01, 1.38941524e-01,\n",
       "        1.58776028e-01, 1.78610531e-01, 1.98445035e-01]),\n",
       " <BarContainer object of 10 artists>)"
      ]
     },
     "execution_count": 728,
     "metadata": {},
     "output_type": "execute_result"
    },
    {
     "data": {
      "image/png": "[encoded data removed]",
      "text/plain": [
       "<Figure size 432x288 with 1 Axes>"
      ]
     },
     "metadata": {
      "needs_background": "light"
     },
     "output_type": "display_data"
    }
   ],
   "source": [
    "plt.hist(full_dataset['penetration_target'])"
   ]
  },
  {
   "cell_type": "code",
   "execution_count": 933,
   "id": "65aeab5b",
   "metadata": {
    "ExecuteTime": {
     "end_time": "2022-07-18T16:00:53.901465Z",
     "start_time": "2022-07-18T16:00:53.888860Z"
    }
   },
   "outputs": [
    {
     "data": {
      "text/plain": [
       "english name\n",
       "JERUSALEM            992022.805819\n",
       "TEL AVIV - YAFO      521945.354542\n",
       "HAIFA                262340.680922\n",
       "RISHON LEZIYYON      252381.517536\n",
       "PETAH TIQWA          250006.186677\n",
       "                         ...      \n",
       "QEDMA                     0.000000\n",
       "HAR ADAR                  0.000000\n",
       "SAWA'ID(HAMRIYYE)         0.000000\n",
       "SENIR                     0.000000\n",
       "NURIT                     0.000000\n",
       "Name: pop_v3, Length: 962, dtype: float64"
      ]
     },
     "execution_count": 933,
     "metadata": {},
     "output_type": "execute_result"
    }
   ],
   "source": [
    "full_dataset['pop_v3'] = full_dataset['pop_v3'].replace(0.01,0)\n",
    "full_dataset.groupby('english name')['pop_v3'].sum().sort_values(ascending=False)*0.90\n"
   ]
  },
  {
   "cell_type": "code",
   "execution_count": 871,
   "id": "865fc42a",
   "metadata": {
    "ExecuteTime": {
     "end_time": "2022-07-18T14:52:08.774260Z",
     "start_time": "2022-07-18T14:52:08.769356Z"
    }
   },
   "outputs": [],
   "source": [
    "# full_dataset['pop_v3']=full_dataset['pop_v3']*0.90"
   ]
  },
  {
   "cell_type": "code",
   "execution_count": 729,
   "id": "69147dba",
   "metadata": {
    "ExecuteTime": {
     "end_time": "2022-07-14T10:03:14.793849Z",
     "start_time": "2022-07-14T10:03:14.778190Z"
    }
   },
   "outputs": [
    {
     "data": {
      "text/plain": [
       "english name\n",
       "JERUSALEM            992022.805819\n",
       "TEL AVIV - YAFO      521945.354542\n",
       "HAIFA                262340.680922\n",
       "RISHON LEZIYYON      252381.517536\n",
       "PETAH TIQWA          250006.186677\n",
       "                         ...      \n",
       "QEDMA                     0.000000\n",
       "HAR ADAR                  0.000000\n",
       "SAWA'ID(HAMRIYYE)         0.000000\n",
       "SENIR                     0.000000\n",
       "NURIT                     0.000000\n",
       "Name: pop_v3, Length: 962, dtype: float64"
      ]
     },
     "execution_count": 729,
     "metadata": {},
     "output_type": "execute_result"
    }
   ],
   "source": [
    "full_dataset.groupby('english name')['pop_v3'].sum().sort_values(ascending=False)"
   ]
  },
  {
   "cell_type": "code",
   "execution_count": 934,
   "id": "6fdba3d8",
   "metadata": {
    "ExecuteTime": {
     "end_time": "2022-07-18T16:01:07.431264Z",
     "start_time": "2022-07-18T16:01:07.423030Z"
    }
   },
   "outputs": [],
   "source": [
    "full_dataset['predict_orders'] = full_dataset['y_predict']*full_dataset['pop_v3']\n",
    "full_dataset['orders_target']= full_dataset['penetration_target']*full_dataset['pop_v3']*full_dataset['frq']"
   ]
  },
  {
   "cell_type": "code",
   "execution_count": 731,
   "id": "1e28bfa8",
   "metadata": {
    "ExecuteTime": {
     "end_time": "2022-07-14T10:03:18.801814Z",
     "start_time": "2022-07-14T10:03:18.764366Z"
    }
   },
   "outputs": [
    {
     "name": "stderr",
     "output_type": "stream",
     "text": [
      "/usr/local/lib/python3.7/dist-packages/ipykernel_launcher.py:2: FutureWarning: Indexing with multiple keys (implicitly converted to a tuple of keys) will be deprecated, use a list instead.\n",
      "  \n"
     ]
    },
    {
     "data": {
      "text/html": [
       "<div>\n",
       "<style scoped>\n",
       "    .dataframe tbody tr th:only-of-type {\n",
       "        vertical-align: middle;\n",
       "    }\n",
       "\n",
       "    .dataframe tbody tr th {\n",
       "        vertical-align: top;\n",
       "    }\n",
       "\n",
       "    .dataframe thead th {\n",
       "        text-align: right;\n",
       "    }\n",
       "</style>\n",
       "<table border=\"1\" class=\"dataframe\">\n",
       "  <thead>\n",
       "    <tr style=\"text-align: right;\">\n",
       "      <th></th>\n",
       "      <th>pop_v3</th>\n",
       "      <th>penetration_target</th>\n",
       "      <th>predict_penetration_users</th>\n",
       "    </tr>\n",
       "    <tr>\n",
       "      <th>english name</th>\n",
       "      <th></th>\n",
       "      <th></th>\n",
       "      <th></th>\n",
       "    </tr>\n",
       "  </thead>\n",
       "  <tbody>\n",
       "    <tr>\n",
       "      <th>JERUSALEM</th>\n",
       "      <td>992022.805819</td>\n",
       "      <td>0.031520</td>\n",
       "      <td>0.011902</td>\n",
       "    </tr>\n",
       "    <tr>\n",
       "      <th>TEL AVIV - YAFO</th>\n",
       "      <td>521945.354542</td>\n",
       "      <td>0.069701</td>\n",
       "      <td>0.022848</td>\n",
       "    </tr>\n",
       "    <tr>\n",
       "      <th>HAIFA</th>\n",
       "      <td>262340.680922</td>\n",
       "      <td>0.040820</td>\n",
       "      <td>0.013109</td>\n",
       "    </tr>\n",
       "    <tr>\n",
       "      <th>RISHON LEZIYYON</th>\n",
       "      <td>252381.517536</td>\n",
       "      <td>0.042423</td>\n",
       "      <td>0.015513</td>\n",
       "    </tr>\n",
       "    <tr>\n",
       "      <th>PETAH TIQWA</th>\n",
       "      <td>250006.186677</td>\n",
       "      <td>0.043328</td>\n",
       "      <td>0.016282</td>\n",
       "    </tr>\n",
       "    <tr>\n",
       "      <th>...</th>\n",
       "      <td>...</td>\n",
       "      <td>...</td>\n",
       "      <td>...</td>\n",
       "    </tr>\n",
       "    <tr>\n",
       "      <th>QEDMA</th>\n",
       "      <td>0.000000</td>\n",
       "      <td>0.020000</td>\n",
       "      <td>0.048145</td>\n",
       "    </tr>\n",
       "    <tr>\n",
       "      <th>HAR ADAR</th>\n",
       "      <td>0.000000</td>\n",
       "      <td>0.020000</td>\n",
       "      <td>0.041249</td>\n",
       "    </tr>\n",
       "    <tr>\n",
       "      <th>SAWA'ID(HAMRIYYE)</th>\n",
       "      <td>0.000000</td>\n",
       "      <td>0.000100</td>\n",
       "      <td>0.048159</td>\n",
       "    </tr>\n",
       "    <tr>\n",
       "      <th>SENIR</th>\n",
       "      <td>0.000000</td>\n",
       "      <td>0.020000</td>\n",
       "      <td>0.042941</td>\n",
       "    </tr>\n",
       "    <tr>\n",
       "      <th>NURIT</th>\n",
       "      <td>0.000000</td>\n",
       "      <td>0.020000</td>\n",
       "      <td>0.044743</td>\n",
       "    </tr>\n",
       "  </tbody>\n",
       "</table>\n",
       "<p>962 rows × 3 columns</p>\n",
       "</div>"
      ],
      "text/plain": [
       "                          pop_v3  penetration_target  \\\n",
       "english name                                           \n",
       "JERUSALEM          992022.805819            0.031520   \n",
       "TEL AVIV - YAFO    521945.354542            0.069701   \n",
       "HAIFA              262340.680922            0.040820   \n",
       "RISHON LEZIYYON    252381.517536            0.042423   \n",
       "PETAH TIQWA        250006.186677            0.043328   \n",
       "...                          ...                 ...   \n",
       "QEDMA                   0.000000            0.020000   \n",
       "HAR ADAR                0.000000            0.020000   \n",
       "SAWA'ID(HAMRIYYE)       0.000000            0.000100   \n",
       "SENIR                   0.000000            0.020000   \n",
       "NURIT                   0.000000            0.020000   \n",
       "\n",
       "                   predict_penetration_users  \n",
       "english name                                  \n",
       "JERUSALEM                           0.011902  \n",
       "TEL AVIV - YAFO                     0.022848  \n",
       "HAIFA                               0.013109  \n",
       "RISHON LEZIYYON                     0.015513  \n",
       "PETAH TIQWA                         0.016282  \n",
       "...                                      ...  \n",
       "QEDMA                               0.048145  \n",
       "HAR ADAR                            0.041249  \n",
       "SAWA'ID(HAMRIYYE)                   0.048159  \n",
       "SENIR                               0.042941  \n",
       "NURIT                               0.044743  \n",
       "\n",
       "[962 rows x 3 columns]"
      ]
     },
     "execution_count": 731,
     "metadata": {},
     "output_type": "execute_result"
    }
   ],
   "source": [
    "full_dataset.groupby('english name')['pop_v3'].sum().sort_values(ascending=False).to_frame().join(\n",
    "    full_dataset.groupby('english name')['penetration_target','predict_penetration_users'].mean()\n",
    ")"
   ]
  },
  {
   "cell_type": "code",
   "execution_count": 935,
   "id": "0f2b714b",
   "metadata": {
    "ExecuteTime": {
     "end_time": "2022-07-18T16:01:15.698919Z",
     "start_time": "2022-07-18T16:01:15.660915Z"
    }
   },
   "outputs": [
    {
     "name": "stderr",
     "output_type": "stream",
     "text": [
      "/usr/local/lib/python3.7/dist-packages/ipykernel_launcher.py:1: FutureWarning: Indexing with multiple keys (implicitly converted to a tuple of keys) will be deprecated, use a list instead.\n",
      "  \"\"\"Entry point for launching an IPython kernel.\n"
     ]
    }
   ],
   "source": [
    "full_dataset.groupby('english name')['predict_orders','orders_target','pop_v3'].sum().sort_values(ascending=False, by='orders_target').join(full_dataset.groupby('english name')['predict_penetration_users','penetration_target','frq'].mean()).to_csv('isr_localities_predict_orders_1707.csv')"
   ]
  },
  {
   "cell_type": "code",
   "execution_count": 7,
   "id": "af10a0e0",
   "metadata": {
    "ExecuteTime": {
     "end_time": "2022-08-08T09:57:52.270441Z",
     "start_time": "2022-08-08T09:57:52.261361Z"
    }
   },
   "outputs": [],
   "source": [
    "df_local_predict = pd.read_csv('isr_localities_predict_orders_1707.csv')"
   ]
  },
  {
   "cell_type": "code",
   "execution_count": null,
   "id": "d15109dc",
   "metadata": {},
   "outputs": [],
   "source": [
    "greenplum.write(df_local_predict,'')"
   ]
  },
  {
   "cell_type": "code",
   "execution_count": 576,
   "id": "bf7a4f9e",
   "metadata": {
    "ExecuteTime": {
     "end_time": "2022-07-13T14:01:26.830481Z",
     "start_time": "2022-07-13T14:01:26.824135Z"
    }
   },
   "outputs": [
    {
     "data": {
      "text/plain": [
       "17882"
      ]
     },
     "execution_count": 576,
     "metadata": {},
     "output_type": "execute_result"
    }
   ],
   "source": [
    "full_dataset['geometry'].isnull().sum()"
   ]
  },
  {
   "cell_type": "code",
   "execution_count": 936,
   "id": "b4ce9366",
   "metadata": {
    "ExecuteTime": {
     "end_time": "2022-07-18T16:01:18.209342Z",
     "start_time": "2022-07-18T16:01:18.063271Z"
    }
   },
   "outputs": [
    {
     "data": {
      "text/html": [
       "<div>\n",
       "<style scoped>\n",
       "    .dataframe tbody tr th:only-of-type {\n",
       "        vertical-align: middle;\n",
       "    }\n",
       "\n",
       "    .dataframe tbody tr th {\n",
       "        vertical-align: top;\n",
       "    }\n",
       "\n",
       "    .dataframe thead th {\n",
       "        text-align: right;\n",
       "    }\n",
       "</style>\n",
       "<table border=\"1\" class=\"dataframe\">\n",
       "  <thead>\n",
       "    <tr style=\"text-align: right;\">\n",
       "      <th></th>\n",
       "      <th>pop_v3</th>\n",
       "      <th>orders</th>\n",
       "      <th>penetration</th>\n",
       "      <th>arab_share</th>\n",
       "      <th>soc_econom_index</th>\n",
       "      <th>mean_height</th>\n",
       "      <th>coffee</th>\n",
       "      <th>resid_buildings_share</th>\n",
       "      <th>jews_share</th>\n",
       "      <th>parks</th>\n",
       "      <th>...</th>\n",
       "      <th>urban-sport</th>\n",
       "      <th>urban-structure</th>\n",
       "      <th>urban-transport</th>\n",
       "      <th>y_predict</th>\n",
       "      <th>frq</th>\n",
       "      <th>penetration_users</th>\n",
       "      <th>predict_penetration_users</th>\n",
       "      <th>predict_orders</th>\n",
       "      <th>penetration_target</th>\n",
       "      <th>orders_target</th>\n",
       "    </tr>\n",
       "  </thead>\n",
       "  <tbody>\n",
       "    <tr>\n",
       "      <th>count</th>\n",
       "      <td>19392.000000</td>\n",
       "      <td>19392.000000</td>\n",
       "      <td>19392.000000</td>\n",
       "      <td>19392.000000</td>\n",
       "      <td>19392.000000</td>\n",
       "      <td>19392.000000</td>\n",
       "      <td>19392.000000</td>\n",
       "      <td>19392.000000</td>\n",
       "      <td>19392.000000</td>\n",
       "      <td>19392.000000</td>\n",
       "      <td>...</td>\n",
       "      <td>19392.000000</td>\n",
       "      <td>19392.000000</td>\n",
       "      <td>19392.000000</td>\n",
       "      <td>19392.000000</td>\n",
       "      <td>19392.0</td>\n",
       "      <td>19392.000000</td>\n",
       "      <td>19392.000000</td>\n",
       "      <td>19392.000000</td>\n",
       "      <td>19392.000000</td>\n",
       "      <td>19392.000000</td>\n",
       "    </tr>\n",
       "    <tr>\n",
       "      <th>mean</th>\n",
       "      <td>485.038671</td>\n",
       "      <td>15.954672</td>\n",
       "      <td>0.003499</td>\n",
       "      <td>0.174842</td>\n",
       "      <td>7.801026</td>\n",
       "      <td>1.424339</td>\n",
       "      <td>1.447298</td>\n",
       "      <td>0.086505</td>\n",
       "      <td>0.793587</td>\n",
       "      <td>17.505827</td>\n",
       "      <td>...</td>\n",
       "      <td>0.044245</td>\n",
       "      <td>0.881601</td>\n",
       "      <td>0.005518</td>\n",
       "      <td>0.075788</td>\n",
       "      <td>3.0</td>\n",
       "      <td>0.001166</td>\n",
       "      <td>0.025263</td>\n",
       "      <td>16.576016</td>\n",
       "      <td>0.035645</td>\n",
       "      <td>46.778484</td>\n",
       "    </tr>\n",
       "    <tr>\n",
       "      <th>std</th>\n",
       "      <td>849.642319</td>\n",
       "      <td>27.084093</td>\n",
       "      <td>0.015384</td>\n",
       "      <td>0.354085</td>\n",
       "      <td>3.711420</td>\n",
       "      <td>1.631802</td>\n",
       "      <td>5.227239</td>\n",
       "      <td>0.089298</td>\n",
       "      <td>0.298273</td>\n",
       "      <td>25.411698</td>\n",
       "      <td>...</td>\n",
       "      <td>0.362922</td>\n",
       "      <td>2.544211</td>\n",
       "      <td>0.100129</td>\n",
       "      <td>0.045867</td>\n",
       "      <td>0.0</td>\n",
       "      <td>0.005128</td>\n",
       "      <td>0.015289</td>\n",
       "      <td>31.356006</td>\n",
       "      <td>0.031618</td>\n",
       "      <td>104.946797</td>\n",
       "    </tr>\n",
       "    <tr>\n",
       "      <th>min</th>\n",
       "      <td>0.000000</td>\n",
       "      <td>1.000000</td>\n",
       "      <td>0.000100</td>\n",
       "      <td>0.000095</td>\n",
       "      <td>1.000000</td>\n",
       "      <td>0.000000</td>\n",
       "      <td>0.000000</td>\n",
       "      <td>0.000000</td>\n",
       "      <td>0.000046</td>\n",
       "      <td>0.000000</td>\n",
       "      <td>...</td>\n",
       "      <td>0.000000</td>\n",
       "      <td>0.000000</td>\n",
       "      <td>0.000000</td>\n",
       "      <td>0.009309</td>\n",
       "      <td>3.0</td>\n",
       "      <td>0.000033</td>\n",
       "      <td>0.003103</td>\n",
       "      <td>0.000000</td>\n",
       "      <td>0.000100</td>\n",
       "      <td>0.000000</td>\n",
       "    </tr>\n",
       "    <tr>\n",
       "      <th>25%</th>\n",
       "      <td>21.506222</td>\n",
       "      <td>12.000000</td>\n",
       "      <td>0.000100</td>\n",
       "      <td>0.001662</td>\n",
       "      <td>6.000000</td>\n",
       "      <td>1.000000</td>\n",
       "      <td>0.000000</td>\n",
       "      <td>0.010832</td>\n",
       "      <td>0.810435</td>\n",
       "      <td>0.000000</td>\n",
       "      <td>...</td>\n",
       "      <td>0.000000</td>\n",
       "      <td>0.000000</td>\n",
       "      <td>0.000000</td>\n",
       "      <td>0.029848</td>\n",
       "      <td>3.0</td>\n",
       "      <td>0.000033</td>\n",
       "      <td>0.009949</td>\n",
       "      <td>2.572833</td>\n",
       "      <td>0.020000</td>\n",
       "      <td>0.094581</td>\n",
       "    </tr>\n",
       "    <tr>\n",
       "      <th>50%</th>\n",
       "      <td>132.419019</td>\n",
       "      <td>12.000000</td>\n",
       "      <td>0.000100</td>\n",
       "      <td>0.001662</td>\n",
       "      <td>6.000000</td>\n",
       "      <td>1.012579</td>\n",
       "      <td>0.000000</td>\n",
       "      <td>0.058136</td>\n",
       "      <td>0.907310</td>\n",
       "      <td>7.000000</td>\n",
       "      <td>...</td>\n",
       "      <td>0.000000</td>\n",
       "      <td>0.000000</td>\n",
       "      <td>0.000000</td>\n",
       "      <td>0.070068</td>\n",
       "      <td>3.0</td>\n",
       "      <td>0.000033</td>\n",
       "      <td>0.023356</td>\n",
       "      <td>7.803042</td>\n",
       "      <td>0.022947</td>\n",
       "      <td>17.963437</td>\n",
       "    </tr>\n",
       "    <tr>\n",
       "      <th>75%</th>\n",
       "      <td>567.514443</td>\n",
       "      <td>12.000000</td>\n",
       "      <td>0.000100</td>\n",
       "      <td>0.034874</td>\n",
       "      <td>9.000000</td>\n",
       "      <td>1.265674</td>\n",
       "      <td>1.000000</td>\n",
       "      <td>0.139725</td>\n",
       "      <td>0.977175</td>\n",
       "      <td>25.000000</td>\n",
       "      <td>...</td>\n",
       "      <td>0.000000</td>\n",
       "      <td>0.000000</td>\n",
       "      <td>0.000000</td>\n",
       "      <td>0.122556</td>\n",
       "      <td>3.0</td>\n",
       "      <td>0.000033</td>\n",
       "      <td>0.040852</td>\n",
       "      <td>16.982801</td>\n",
       "      <td>0.044604</td>\n",
       "      <td>45.162998</td>\n",
       "    </tr>\n",
       "    <tr>\n",
       "      <th>max</th>\n",
       "      <td>11390.203020</td>\n",
       "      <td>629.000000</td>\n",
       "      <td>0.112118</td>\n",
       "      <td>1.000000</td>\n",
       "      <td>20.000000</td>\n",
       "      <td>30.500000</td>\n",
       "      <td>101.000000</td>\n",
       "      <td>0.686548</td>\n",
       "      <td>1.000000</td>\n",
       "      <td>220.000000</td>\n",
       "      <td>...</td>\n",
       "      <td>21.000000</td>\n",
       "      <td>36.000000</td>\n",
       "      <td>3.000000</td>\n",
       "      <td>0.180405</td>\n",
       "      <td>3.0</td>\n",
       "      <td>0.037373</td>\n",
       "      <td>0.060135</td>\n",
       "      <td>921.385432</td>\n",
       "      <td>0.198445</td>\n",
       "      <td>3040.571925</td>\n",
       "    </tr>\n",
       "  </tbody>\n",
       "</table>\n",
       "<p>8 rows × 40 columns</p>\n",
       "</div>"
      ],
      "text/plain": [
       "             pop_v3        orders   penetration    arab_share  \\\n",
       "count  19392.000000  19392.000000  19392.000000  19392.000000   \n",
       "mean     485.038671     15.954672      0.003499      0.174842   \n",
       "std      849.642319     27.084093      0.015384      0.354085   \n",
       "min        0.000000      1.000000      0.000100      0.000095   \n",
       "25%       21.506222     12.000000      0.000100      0.001662   \n",
       "50%      132.419019     12.000000      0.000100      0.001662   \n",
       "75%      567.514443     12.000000      0.000100      0.034874   \n",
       "max    11390.203020    629.000000      0.112118      1.000000   \n",
       "\n",
       "       soc_econom_index   mean_height        coffee  resid_buildings_share  \\\n",
       "count      19392.000000  19392.000000  19392.000000           19392.000000   \n",
       "mean           7.801026      1.424339      1.447298               0.086505   \n",
       "std            3.711420      1.631802      5.227239               0.089298   \n",
       "min            1.000000      0.000000      0.000000               0.000000   \n",
       "25%            6.000000      1.000000      0.000000               0.010832   \n",
       "50%            6.000000      1.012579      0.000000               0.058136   \n",
       "75%            9.000000      1.265674      1.000000               0.139725   \n",
       "max           20.000000     30.500000    101.000000               0.686548   \n",
       "\n",
       "         jews_share         parks  ...   urban-sport  urban-structure  \\\n",
       "count  19392.000000  19392.000000  ...  19392.000000     19392.000000   \n",
       "mean       0.793587     17.505827  ...      0.044245         0.881601   \n",
       "std        0.298273     25.411698  ...      0.362922         2.544211   \n",
       "min        0.000046      0.000000  ...      0.000000         0.000000   \n",
       "25%        0.810435      0.000000  ...      0.000000         0.000000   \n",
       "50%        0.907310      7.000000  ...      0.000000         0.000000   \n",
       "75%        0.977175     25.000000  ...      0.000000         0.000000   \n",
       "max        1.000000    220.000000  ...     21.000000        36.000000   \n",
       "\n",
       "       urban-transport     y_predict      frq  penetration_users  \\\n",
       "count     19392.000000  19392.000000  19392.0       19392.000000   \n",
       "mean          0.005518      0.075788      3.0           0.001166   \n",
       "std           0.100129      0.045867      0.0           0.005128   \n",
       "min           0.000000      0.009309      3.0           0.000033   \n",
       "25%           0.000000      0.029848      3.0           0.000033   \n",
       "50%           0.000000      0.070068      3.0           0.000033   \n",
       "75%           0.000000      0.122556      3.0           0.000033   \n",
       "max           3.000000      0.180405      3.0           0.037373   \n",
       "\n",
       "       predict_penetration_users  predict_orders  penetration_target  \\\n",
       "count               19392.000000    19392.000000        19392.000000   \n",
       "mean                    0.025263       16.576016            0.035645   \n",
       "std                     0.015289       31.356006            0.031618   \n",
       "min                     0.003103        0.000000            0.000100   \n",
       "25%                     0.009949        2.572833            0.020000   \n",
       "50%                     0.023356        7.803042            0.022947   \n",
       "75%                     0.040852       16.982801            0.044604   \n",
       "max                     0.060135      921.385432            0.198445   \n",
       "\n",
       "       orders_target  \n",
       "count   19392.000000  \n",
       "mean       46.778484  \n",
       "std       104.946797  \n",
       "min         0.000000  \n",
       "25%         0.094581  \n",
       "50%        17.963437  \n",
       "75%        45.162998  \n",
       "max      3040.571925  \n",
       "\n",
       "[8 rows x 40 columns]"
      ]
     },
     "execution_count": 936,
     "metadata": {},
     "output_type": "execute_result"
    }
   ],
   "source": [
    "full_dataset.describe()"
   ]
  },
  {
   "cell_type": "code",
   "execution_count": 578,
   "id": "13b96e51",
   "metadata": {
    "ExecuteTime": {
     "end_time": "2022-07-13T14:03:42.810232Z",
     "start_time": "2022-07-13T14:03:37.516829Z"
    }
   },
   "outputs": [],
   "source": [
    "gdf_hex = gpd.read_file('gdf_hex_isr_full_2604.geojson')"
   ]
  },
  {
   "cell_type": "code",
   "execution_count": 937,
   "id": "f2b32db4",
   "metadata": {
    "ExecuteTime": {
     "end_time": "2022-07-18T16:01:30.447952Z",
     "start_time": "2022-07-18T16:01:30.361305Z"
    }
   },
   "outputs": [],
   "source": [
    "gdf_full_dataset = gdf_hex[['hex_gid','geometry']].merge(full_dataset.drop('geometry', axis=1), on='hex_gid',how='left' )"
   ]
  },
  {
   "cell_type": "code",
   "execution_count": 876,
   "id": "2b29a65b",
   "metadata": {
    "ExecuteTime": {
     "end_time": "2022-07-18T14:53:41.834418Z",
     "start_time": "2022-07-18T14:53:41.828784Z"
    },
    "scrolled": true
   },
   "outputs": [
    {
     "data": {
      "text/plain": [
       "['density',\n",
       " 'distance_straight',\n",
       " 'sq',\n",
       " 'soc_econom_index',\n",
       " 'mean_height',\n",
       " 'coffee',\n",
       " 'age_months',\n",
       " 'resid_buildings_share',\n",
       " 'jews_share',\n",
       " 'parks',\n",
       " 'kindergarten',\n",
       " 'hist',\n",
       " 'urban_industrial',\n",
       " 'cluster_6',\n",
       " 'urban_public']"
      ]
     },
     "execution_count": 876,
     "metadata": {},
     "output_type": "execute_result"
    }
   ],
   "source": [
    "top_feat"
   ]
  },
  {
   "cell_type": "code",
   "execution_count": 938,
   "id": "24775b4c",
   "metadata": {
    "ExecuteTime": {
     "end_time": "2022-07-18T16:02:01.787069Z",
     "start_time": "2022-07-18T16:01:34.867065Z"
    }
   },
   "outputs": [],
   "source": [
    "gdf_full_dataset.to_file('gdf_full_dataset.geojson',driver='GeoJSON')"
   ]
  },
  {
   "cell_type": "markdown",
   "id": "efc26a4d",
   "metadata": {},
   "source": [
    "DBSCAN - to find areas with high number of predicted orders. This will be support for final lavka zones "
   ]
  },
  {
   "cell_type": "code",
   "execution_count": 878,
   "id": "d18af5fa",
   "metadata": {
    "ExecuteTime": {
     "end_time": "2022-07-18T15:17:06.025014Z",
     "start_time": "2022-07-18T15:17:06.021280Z"
    }
   },
   "outputs": [],
   "source": [
    "isr_crs='epsg:32636'"
   ]
  },
  {
   "cell_type": "code",
   "execution_count": 879,
   "id": "b4727c90",
   "metadata": {
    "ExecuteTime": {
     "end_time": "2022-07-18T15:17:14.572847Z",
     "start_time": "2022-07-18T15:17:13.998236Z"
    }
   },
   "outputs": [
    {
     "name": "stderr",
     "output_type": "stream",
     "text": [
      "/usr/local/lib/python3.7/dist-packages/geopandas/geodataframe.py:1351: SettingWithCopyWarning: \n",
      "A value is trying to be set on a copy of a slice from a DataFrame.\n",
      "Try using .loc[row_indexer,col_indexer] = value instead\n",
      "\n",
      "See the caveats in the documentation: https://pandas.pydata.org/pandas-docs/stable/user_guide/indexing.html#returning-a-view-versus-a-copy\n",
      "  super().__setitem__(key, value)\n",
      "/usr/local/lib/python3.7/dist-packages/geopandas/geodataframe.py:1351: SettingWithCopyWarning: \n",
      "A value is trying to be set on a copy of a slice from a DataFrame.\n",
      "Try using .loc[row_indexer,col_indexer] = value instead\n",
      "\n",
      "See the caveats in the documentation: https://pandas.pydata.org/pandas-docs/stable/user_guide/indexing.html#returning-a-view-versus-a-copy\n",
      "  super().__setitem__(key, value)\n",
      "/usr/local/lib/python3.7/dist-packages/geopandas/geodataframe.py:1351: SettingWithCopyWarning: \n",
      "A value is trying to be set on a copy of a slice from a DataFrame.\n",
      "Try using .loc[row_indexer,col_indexer] = value instead\n",
      "\n",
      "See the caveats in the documentation: https://pandas.pydata.org/pandas-docs/stable/user_guide/indexing.html#returning-a-view-versus-a-copy\n",
      "  super().__setitem__(key, value)\n"
     ]
    }
   ],
   "source": [
    "gdf_full_dataset_good = gdf_full_dataset[(gdf_full_dataset['orders_target']>5)]\n",
    "\n",
    "# gdf_full_dataset_good = gdf_hex_isr_full[['hex_gid','geometry']].merge(full_dataset_good, on ='hex_gid')\n",
    "\n",
    "gdf_full_dataset_good_utm = gdf_full_dataset_good.to_crs(isr_crs)\n",
    "\n",
    "gdf_full_dataset_good['center_x']=gdf_full_dataset_good_utm.geometry.centroid.x\n",
    "gdf_full_dataset_good['center_y']=gdf_full_dataset_good_utm.geometry.centroid.y\n",
    "\n",
    "from sklearn.cluster import DBSCAN\n",
    "\n",
    "X = gdf_full_dataset_good[['center_x','center_y']]\n",
    "clustering = DBSCAN(eps=1500, min_samples=40).fit(X)\n",
    "clustering.labels_\n",
    "\n",
    "gdf_full_dataset_good['dbscan_num'] = clustering.labels_"
   ]
  },
  {
   "cell_type": "code",
   "execution_count": 739,
   "id": "c906298f",
   "metadata": {
    "ExecuteTime": {
     "end_time": "2022-07-14T10:05:42.558258Z",
     "start_time": "2022-07-14T10:05:42.548815Z"
    },
    "scrolled": true
   },
   "outputs": [
    {
     "data": {
      "text/plain": [
       "-1     4406\n",
       " 1     1622\n",
       " 8      626\n",
       " 4      268\n",
       " 0      237\n",
       " 7      210\n",
       " 12     200\n",
       " 9      180\n",
       " 13     151\n",
       " 3      149\n",
       " 19     134\n",
       " 6      118\n",
       " 2      116\n",
       " 20      85\n",
       " 26      84\n",
       " 15      82\n",
       " 14      82\n",
       " 24      79\n",
       " 28      74\n",
       " 23      70\n",
       " 11      70\n",
       " 22      68\n",
       " 21      68\n",
       " 17      64\n",
       " 29      62\n",
       " 25      61\n",
       " 37      61\n",
       " 33      54\n",
       " 18      52\n",
       " 32      51\n",
       " 38      50\n",
       " 27      49\n",
       " 30      49\n",
       " 10      49\n",
       " 16      47\n",
       " 34      47\n",
       " 35      44\n",
       " 31      43\n",
       " 39      43\n",
       " 36      43\n",
       " 40      41\n",
       " 5       40\n",
       "Name: dbscan_num, dtype: int64"
      ]
     },
     "execution_count": 739,
     "metadata": {},
     "output_type": "execute_result"
    }
   ],
   "source": [
    "gdf_full_dataset_good['dbscan_num'].value_counts()"
   ]
  },
  {
   "cell_type": "code",
   "execution_count": 880,
   "id": "deff52ef",
   "metadata": {
    "ExecuteTime": {
     "end_time": "2022-07-18T15:17:31.157134Z",
     "start_time": "2022-07-18T15:17:31.150574Z"
    }
   },
   "outputs": [
    {
     "data": {
      "text/plain": [
       "41"
      ]
     },
     "execution_count": 880,
     "metadata": {},
     "output_type": "execute_result"
    }
   ],
   "source": [
    "gdf_full_dataset_good['dbscan_num'].nunique()-1"
   ]
  },
  {
   "cell_type": "code",
   "execution_count": 881,
   "id": "be5d7b46",
   "metadata": {
    "ExecuteTime": {
     "end_time": "2022-07-18T15:17:55.286800Z",
     "start_time": "2022-07-18T15:17:55.278888Z"
    }
   },
   "outputs": [],
   "source": [
    "ind = gdf_full_dataset_good.groupby(['dbscan_num'])['orders_target'].sum()[gdf_full_dataset_good.groupby(['dbscan_num'])['orders_target'].sum()>8000].index"
   ]
  },
  {
   "cell_type": "code",
   "execution_count": 882,
   "id": "03c0b131",
   "metadata": {
    "ExecuteTime": {
     "end_time": "2022-07-18T15:17:55.855579Z",
     "start_time": "2022-07-18T15:17:55.851955Z"
    }
   },
   "outputs": [],
   "source": [
    "ind = [ i for i in ind if i>=0]"
   ]
  },
  {
   "cell_type": "code",
   "execution_count": 742,
   "id": "e68068b9",
   "metadata": {
    "ExecuteTime": {
     "end_time": "2022-07-14T10:07:32.844047Z",
     "start_time": "2022-07-14T10:07:32.820471Z"
    },
    "scrolled": true
   },
   "outputs": [
    {
     "data": {
      "text/plain": [
       "dbscan_num  english name           \n",
       "0           BE'ER SHEVA                 23938.371179\n",
       "1           BAT YAM                     18464.066734\n",
       "            BENE BERAQ                  16790.391974\n",
       "            GIV'ATAYIM                  13558.688917\n",
       "            HERZLIYYA                   10797.447026\n",
       "            HOLON                       20611.192185\n",
       "            KEFAR SAVA                  11345.839535\n",
       "            PETAH TIQWA                 30361.556450\n",
       "            RAMAT GAN                   21078.972445\n",
       "            TEL AVIV - YAFO            103278.137708\n",
       "2           MODI'IN-MAKKABBIM-RE'UT     11714.411147\n",
       "4           HAIFA                       24103.846269\n",
       "8           JERUSALEM                   77251.987437\n",
       "9           REHOVOT                     13773.738801\n",
       "12          RISHON LEZIYYON             27181.131618\n",
       "13          ASHQELON                    12997.254367\n",
       "19          ASHDOD                      18894.132023\n",
       "26          NETANYA                     13800.101310\n",
       "37          NETANYA                      8182.524438\n",
       "Name: orders_target, dtype: float64"
      ]
     },
     "execution_count": 742,
     "metadata": {},
     "output_type": "execute_result"
    }
   ],
   "source": [
    "gdf_full_dataset_good.groupby(['dbscan_num','english name'])['orders_target'].sum()[gdf_full_dataset_good.groupby(['dbscan_num','english name'])['orders_target'].sum()>8000]"
   ]
  },
  {
   "cell_type": "code",
   "execution_count": 743,
   "id": "be445e3e",
   "metadata": {
    "ExecuteTime": {
     "end_time": "2022-07-14T10:07:58.588053Z",
     "start_time": "2022-07-14T10:07:58.564528Z"
    }
   },
   "outputs": [
    {
     "data": {
      "text/html": [
       "<div>\n",
       "<style scoped>\n",
       "    .dataframe tbody tr th:only-of-type {\n",
       "        vertical-align: middle;\n",
       "    }\n",
       "\n",
       "    .dataframe tbody tr th {\n",
       "        vertical-align: top;\n",
       "    }\n",
       "\n",
       "    .dataframe thead th {\n",
       "        text-align: right;\n",
       "    }\n",
       "</style>\n",
       "<table border=\"1\" class=\"dataframe\">\n",
       "  <thead>\n",
       "    <tr style=\"text-align: right;\">\n",
       "      <th></th>\n",
       "      <th>orders_target</th>\n",
       "    </tr>\n",
       "    <tr>\n",
       "      <th>english name</th>\n",
       "      <th></th>\n",
       "    </tr>\n",
       "  </thead>\n",
       "  <tbody>\n",
       "    <tr>\n",
       "      <th>TEL AVIV - YAFO</th>\n",
       "      <td>103510.383095</td>\n",
       "    </tr>\n",
       "    <tr>\n",
       "      <th>JERUSALEM</th>\n",
       "      <td>84106.326937</td>\n",
       "    </tr>\n",
       "    <tr>\n",
       "      <th>PETAH TIQWA</th>\n",
       "      <td>30380.103246</td>\n",
       "    </tr>\n",
       "    <tr>\n",
       "      <th>HAIFA</th>\n",
       "      <td>28244.035398</td>\n",
       "    </tr>\n",
       "    <tr>\n",
       "      <th>RISHON LEZIYYON</th>\n",
       "      <td>27725.217644</td>\n",
       "    </tr>\n",
       "    <tr>\n",
       "      <th>NETANYA</th>\n",
       "      <td>26191.019909</td>\n",
       "    </tr>\n",
       "    <tr>\n",
       "      <th>BE'ER SHEVA</th>\n",
       "      <td>24173.728164</td>\n",
       "    </tr>\n",
       "    <tr>\n",
       "      <th>RAMAT GAN</th>\n",
       "      <td>21078.972445</td>\n",
       "    </tr>\n",
       "    <tr>\n",
       "      <th>HOLON</th>\n",
       "      <td>20891.414191</td>\n",
       "    </tr>\n",
       "    <tr>\n",
       "      <th>ASHDOD</th>\n",
       "      <td>18894.132023</td>\n",
       "    </tr>\n",
       "    <tr>\n",
       "      <th>BAT YAM</th>\n",
       "      <td>18464.066734</td>\n",
       "    </tr>\n",
       "    <tr>\n",
       "      <th>BENE BERAQ</th>\n",
       "      <td>16790.391974</td>\n",
       "    </tr>\n",
       "    <tr>\n",
       "      <th>REHOVOT</th>\n",
       "      <td>13773.738801</td>\n",
       "    </tr>\n",
       "    <tr>\n",
       "      <th>GIV'ATAYIM</th>\n",
       "      <td>13558.688917</td>\n",
       "    </tr>\n",
       "    <tr>\n",
       "      <th>ASHQELON</th>\n",
       "      <td>13253.178153</td>\n",
       "    </tr>\n",
       "    <tr>\n",
       "      <th>MODI'IN-MAKKABBIM-RE'UT</th>\n",
       "      <td>11957.007022</td>\n",
       "    </tr>\n",
       "    <tr>\n",
       "      <th>KEFAR SAVA</th>\n",
       "      <td>11364.278441</td>\n",
       "    </tr>\n",
       "    <tr>\n",
       "      <th>HERZLIYYA</th>\n",
       "      <td>10797.447026</td>\n",
       "    </tr>\n",
       "    <tr>\n",
       "      <th>HADERA</th>\n",
       "      <td>7831.697436</td>\n",
       "    </tr>\n",
       "    <tr>\n",
       "      <th>RAMAT HASHARON</th>\n",
       "      <td>7251.913895</td>\n",
       "    </tr>\n",
       "  </tbody>\n",
       "</table>\n",
       "</div>"
      ],
      "text/plain": [
       "                         orders_target\n",
       "english name                          \n",
       "TEL AVIV - YAFO          103510.383095\n",
       "JERUSALEM                 84106.326937\n",
       "PETAH TIQWA               30380.103246\n",
       "HAIFA                     28244.035398\n",
       "RISHON LEZIYYON           27725.217644\n",
       "NETANYA                   26191.019909\n",
       "BE'ER SHEVA               24173.728164\n",
       "RAMAT GAN                 21078.972445\n",
       "HOLON                     20891.414191\n",
       "ASHDOD                    18894.132023\n",
       "BAT YAM                   18464.066734\n",
       "BENE BERAQ                16790.391974\n",
       "REHOVOT                   13773.738801\n",
       "GIV'ATAYIM                13558.688917\n",
       "ASHQELON                  13253.178153\n",
       "MODI'IN-MAKKABBIM-RE'UT   11957.007022\n",
       "KEFAR SAVA                11364.278441\n",
       "HERZLIYYA                 10797.447026\n",
       "HADERA                     7831.697436\n",
       "RAMAT HASHARON             7251.913895"
      ]
     },
     "execution_count": 743,
     "metadata": {},
     "output_type": "execute_result"
    }
   ],
   "source": [
    "gdf_full_dataset_good.groupby(['english name'])['orders_target'].sum().to_frame().sort_values(by='orders_target',ascending=False).head(20)"
   ]
  },
  {
   "cell_type": "code",
   "execution_count": 883,
   "id": "d83aa339",
   "metadata": {
    "ExecuteTime": {
     "end_time": "2022-07-18T15:17:59.187040Z",
     "start_time": "2022-07-18T15:17:59.178855Z"
    },
    "scrolled": true
   },
   "outputs": [
    {
     "name": "stderr",
     "output_type": "stream",
     "text": [
      "/usr/local/lib/python3.7/dist-packages/pandas/core/indexing.py:1817: SettingWithCopyWarning: \n",
      "A value is trying to be set on a copy of a slice from a DataFrame.\n",
      "Try using .loc[row_indexer,col_indexer] = value instead\n",
      "\n",
      "See the caveats in the documentation: https://pandas.pydata.org/pandas-docs/stable/user_guide/indexing.html#returning-a-view-versus-a-copy\n",
      "  self._setitem_single_column(loc, value, pi)\n"
     ]
    }
   ],
   "source": [
    "gdf_full_dataset_good['flg_good']=0\n",
    "gdf_full_dataset_good.loc[gdf_full_dataset_good['dbscan_num'].isin(ind),'flg_good'] = 1"
   ]
  },
  {
   "cell_type": "code",
   "execution_count": 884,
   "id": "0e5a8cf4",
   "metadata": {
    "ExecuteTime": {
     "end_time": "2022-07-18T15:18:01.922127Z",
     "start_time": "2022-07-18T15:18:01.865869Z"
    },
    "scrolled": true
   },
   "outputs": [
    {
     "data": {
      "text/plain": [
       "english name\n",
       "ASHDOD                      18913.721845\n",
       "ASHQELON                    13036.077416\n",
       "BAT YAM                     18464.066734\n",
       "BE'ER SHEVA                 23960.583539\n",
       "BENE BERAQ                  16790.391974\n",
       "GIV'ATAYIM                  13558.688917\n",
       "HAIFA                       28263.737317\n",
       "HERZLIYYA                   10809.514647\n",
       "HOD HASHARON                 5087.061462\n",
       "HOLON                       20905.967319\n",
       "JERUSALEM                   77307.928564\n",
       "KEFAR SAVA                  11345.839535\n",
       "LOD                          5638.941634\n",
       "MODI'IN-MAKKABBIM-RE'UT     11726.189112\n",
       "NES ZIYYONA                  6220.548025\n",
       "NETANYA                     21994.584751\n",
       "PETAH TIQWA                 30378.859237\n",
       "QIRYAT MOTZKIN               5394.637523\n",
       "RA'ANNANA                    7067.455781\n",
       "RAMAT GAN                   21078.972445\n",
       "RAMAT HASHARON               7227.736016\n",
       "RAMLA                        5337.274074\n",
       "REHOVOT                     13773.738801\n",
       "RISHON LEZIYYON             27607.668506\n",
       "TEL AVIV - YAFO            103293.927255\n",
       "Name: orders_target, dtype: float64"
      ]
     },
     "execution_count": 884,
     "metadata": {},
     "output_type": "execute_result"
    }
   ],
   "source": [
    "gdf_full_dataset_good.loc[gdf_full_dataset_good['flg_good']==1].groupby('english name')['orders_target'].sum()[gdf_full_dataset_good.loc[gdf_full_dataset_good['flg_good']==1].groupby('english name')['orders_target'].sum()>5000]"
   ]
  },
  {
   "cell_type": "code",
   "execution_count": 746,
   "id": "ec29239f",
   "metadata": {
    "ExecuteTime": {
     "end_time": "2022-07-14T10:17:11.072699Z",
     "start_time": "2022-07-14T10:17:11.052069Z"
    }
   },
   "outputs": [
    {
     "name": "stderr",
     "output_type": "stream",
     "text": [
      "/usr/local/lib/python3.7/dist-packages/geopandas/geodataframe.py:1351: SettingWithCopyWarning: \n",
      "A value is trying to be set on a copy of a slice from a DataFrame.\n",
      "Try using .loc[row_indexer,col_indexer] = value instead\n",
      "\n",
      "See the caveats in the documentation: https://pandas.pydata.org/pandas-docs/stable/user_guide/indexing.html#returning-a-view-versus-a-copy\n",
      "  super().__setitem__(key, value)\n"
     ]
    }
   ],
   "source": [
    "gdf_full_dataset_good['predict_orders_rank'] = gdf_full_dataset_good.groupby('dbscan_num')['orders_target'].rank(ascending=False)\n",
    "# gdf_full_dataset_good.loc[gdf_full_dataset_good['best_ord'] ==gdf_full_dataset_good['predict_orders_target'],'']"
   ]
  },
  {
   "cell_type": "code",
   "execution_count": 755,
   "id": "abbe455d",
   "metadata": {
    "ExecuteTime": {
     "end_time": "2022-07-14T10:27:02.489949Z",
     "start_time": "2022-07-14T10:26:45.568612Z"
    }
   },
   "outputs": [],
   "source": [
    "gdf_full_dataset_good.to_file('isr_gdf_full_dataset_good.geojson', driver='GeoJSON')"
   ]
  },
  {
   "cell_type": "code",
   "execution_count": null,
   "id": "b901ebb8",
   "metadata": {},
   "outputs": [],
   "source": [
    "gdf_full_dataset_good"
   ]
  },
  {
   "cell_type": "code",
   "execution_count": 603,
   "id": "afa43aa8",
   "metadata": {
    "ExecuteTime": {
     "end_time": "2022-07-13T14:16:09.044107Z",
     "start_time": "2022-07-13T14:16:03.331490Z"
    }
   },
   "outputs": [],
   "source": [
    "gdf_iso = gpd.read_file('isr_iso_10min.geojson')"
   ]
  },
  {
   "cell_type": "code",
   "execution_count": 885,
   "id": "da27e0ae",
   "metadata": {
    "ExecuteTime": {
     "end_time": "2022-07-18T15:18:31.020721Z",
     "start_time": "2022-07-18T15:18:22.557116Z"
    }
   },
   "outputs": [
    {
     "name": "stderr",
     "output_type": "stream",
     "text": [
      "/usr/local/lib/python3.7/dist-packages/IPython/core/interactiveshell.py:3444: FutureWarning: The `op` parameter is deprecated and will be removed in a future release. Please use the `predicate` parameter instead.\n",
      "  if (await self.run_code(code, result,  async_=asy)):\n"
     ]
    }
   ],
   "source": [
    "gdf_iso_raw = gpd.sjoin(gdf_iso,gdf_full_dataset_good[['hex_gid','pop_v3','orders_target','penetration_target','geometry']+model_cols], op='intersects', how='inner')"
   ]
  },
  {
   "cell_type": "code",
   "execution_count": 939,
   "id": "048bb240",
   "metadata": {
    "ExecuteTime": {
     "end_time": "2022-07-19T05:56:23.303115Z",
     "start_time": "2022-07-19T05:56:23.182400Z"
    },
    "scrolled": true
   },
   "outputs": [
    {
     "data": {
      "text/html": [
       "<div>\n",
       "<style scoped>\n",
       "    .dataframe tbody tr th:only-of-type {\n",
       "        vertical-align: middle;\n",
       "    }\n",
       "\n",
       "    .dataframe tbody tr th {\n",
       "        vertical-align: top;\n",
       "    }\n",
       "\n",
       "    .dataframe thead th {\n",
       "        text-align: right;\n",
       "    }\n",
       "</style>\n",
       "<table border=\"1\" class=\"dataframe\">\n",
       "  <thead>\n",
       "    <tr style=\"text-align: right;\">\n",
       "      <th></th>\n",
       "      <th>hex_gid_left</th>\n",
       "      <th>geometry</th>\n",
       "      <th>index_right</th>\n",
       "      <th>hex_gid_right</th>\n",
       "      <th>pop_v3</th>\n",
       "      <th>orders_target</th>\n",
       "      <th>penetration_target</th>\n",
       "      <th>density</th>\n",
       "      <th>distance_straight</th>\n",
       "      <th>sq</th>\n",
       "      <th>...</th>\n",
       "      <th>coffee</th>\n",
       "      <th>age_months</th>\n",
       "      <th>resid_buildings_share</th>\n",
       "      <th>jews_share</th>\n",
       "      <th>parks</th>\n",
       "      <th>kindergarten</th>\n",
       "      <th>hist</th>\n",
       "      <th>urban_industrial</th>\n",
       "      <th>cluster_6</th>\n",
       "      <th>urban_public</th>\n",
       "    </tr>\n",
       "  </thead>\n",
       "  <tbody>\n",
       "    <tr>\n",
       "      <th>0</th>\n",
       "      <td>892db031c4bffff</td>\n",
       "      <td>POLYGON ((35.25603 32.54691, 35.25632 32.54815...</td>\n",
       "      <td>18770</td>\n",
       "      <td>892db03116fffff</td>\n",
       "      <td>64.353947</td>\n",
       "      <td>22.608404</td>\n",
       "      <td>0.117104</td>\n",
       "      <td>0.00515</td>\n",
       "      <td>1500</td>\n",
       "      <td>13885.152981</td>\n",
       "      <td>...</td>\n",
       "      <td>0.0</td>\n",
       "      <td>12</td>\n",
       "      <td>0.116035</td>\n",
       "      <td>0.997567</td>\n",
       "      <td>5.0</td>\n",
       "      <td>0.0</td>\n",
       "      <td>0.0</td>\n",
       "      <td>0.0</td>\n",
       "      <td>4</td>\n",
       "      <td>0.0</td>\n",
       "    </tr>\n",
       "    <tr>\n",
       "      <th>1279</th>\n",
       "      <td>892db031e93ffff</td>\n",
       "      <td>POLYGON ((35.25603 32.54691, 35.25632 32.54815...</td>\n",
       "      <td>18770</td>\n",
       "      <td>892db03116fffff</td>\n",
       "      <td>64.353947</td>\n",
       "      <td>22.608404</td>\n",
       "      <td>0.117104</td>\n",
       "      <td>0.00515</td>\n",
       "      <td>1500</td>\n",
       "      <td>13885.152981</td>\n",
       "      <td>...</td>\n",
       "      <td>0.0</td>\n",
       "      <td>12</td>\n",
       "      <td>0.116035</td>\n",
       "      <td>0.997567</td>\n",
       "      <td>5.0</td>\n",
       "      <td>0.0</td>\n",
       "      <td>0.0</td>\n",
       "      <td>0.0</td>\n",
       "      <td>4</td>\n",
       "      <td>0.0</td>\n",
       "    </tr>\n",
       "    <tr>\n",
       "      <th>1383</th>\n",
       "      <td>892db031137ffff</td>\n",
       "      <td>POLYGON ((35.25603 32.54691, 35.25632 32.54815...</td>\n",
       "      <td>18770</td>\n",
       "      <td>892db03116fffff</td>\n",
       "      <td>64.353947</td>\n",
       "      <td>22.608404</td>\n",
       "      <td>0.117104</td>\n",
       "      <td>0.00515</td>\n",
       "      <td>1500</td>\n",
       "      <td>13885.152981</td>\n",
       "      <td>...</td>\n",
       "      <td>0.0</td>\n",
       "      <td>12</td>\n",
       "      <td>0.116035</td>\n",
       "      <td>0.997567</td>\n",
       "      <td>5.0</td>\n",
       "      <td>0.0</td>\n",
       "      <td>0.0</td>\n",
       "      <td>0.0</td>\n",
       "      <td>4</td>\n",
       "      <td>0.0</td>\n",
       "    </tr>\n",
       "    <tr>\n",
       "      <th>3143</th>\n",
       "      <td>892db03112fffff</td>\n",
       "      <td>POLYGON ((35.25603 32.54691, 35.25632 32.54815...</td>\n",
       "      <td>18770</td>\n",
       "      <td>892db03116fffff</td>\n",
       "      <td>64.353947</td>\n",
       "      <td>22.608404</td>\n",
       "      <td>0.117104</td>\n",
       "      <td>0.00515</td>\n",
       "      <td>1500</td>\n",
       "      <td>13885.152981</td>\n",
       "      <td>...</td>\n",
       "      <td>0.0</td>\n",
       "      <td>12</td>\n",
       "      <td>0.116035</td>\n",
       "      <td>0.997567</td>\n",
       "      <td>5.0</td>\n",
       "      <td>0.0</td>\n",
       "      <td>0.0</td>\n",
       "      <td>0.0</td>\n",
       "      <td>4</td>\n",
       "      <td>0.0</td>\n",
       "    </tr>\n",
       "    <tr>\n",
       "      <th>4503</th>\n",
       "      <td>892db0313bbffff</td>\n",
       "      <td>POLYGON ((35.25070 32.53146, 35.25412 32.53012...</td>\n",
       "      <td>18770</td>\n",
       "      <td>892db03116fffff</td>\n",
       "      <td>64.353947</td>\n",
       "      <td>22.608404</td>\n",
       "      <td>0.117104</td>\n",
       "      <td>0.00515</td>\n",
       "      <td>1500</td>\n",
       "      <td>13885.152981</td>\n",
       "      <td>...</td>\n",
       "      <td>0.0</td>\n",
       "      <td>12</td>\n",
       "      <td>0.116035</td>\n",
       "      <td>0.997567</td>\n",
       "      <td>5.0</td>\n",
       "      <td>0.0</td>\n",
       "      <td>0.0</td>\n",
       "      <td>0.0</td>\n",
       "      <td>4</td>\n",
       "      <td>0.0</td>\n",
       "    </tr>\n",
       "  </tbody>\n",
       "</table>\n",
       "<p>5 rows × 22 columns</p>\n",
       "</div>"
      ],
      "text/plain": [
       "         hex_gid_left                                           geometry  \\\n",
       "0     892db031c4bffff  POLYGON ((35.25603 32.54691, 35.25632 32.54815...   \n",
       "1279  892db031e93ffff  POLYGON ((35.25603 32.54691, 35.25632 32.54815...   \n",
       "1383  892db031137ffff  POLYGON ((35.25603 32.54691, 35.25632 32.54815...   \n",
       "3143  892db03112fffff  POLYGON ((35.25603 32.54691, 35.25632 32.54815...   \n",
       "4503  892db0313bbffff  POLYGON ((35.25070 32.53146, 35.25412 32.53012...   \n",
       "\n",
       "      index_right    hex_gid_right     pop_v3  orders_target  \\\n",
       "0           18770  892db03116fffff  64.353947      22.608404   \n",
       "1279        18770  892db03116fffff  64.353947      22.608404   \n",
       "1383        18770  892db03116fffff  64.353947      22.608404   \n",
       "3143        18770  892db03116fffff  64.353947      22.608404   \n",
       "4503        18770  892db03116fffff  64.353947      22.608404   \n",
       "\n",
       "      penetration_target  density  distance_straight            sq  ...  \\\n",
       "0               0.117104  0.00515               1500  13885.152981  ...   \n",
       "1279            0.117104  0.00515               1500  13885.152981  ...   \n",
       "1383            0.117104  0.00515               1500  13885.152981  ...   \n",
       "3143            0.117104  0.00515               1500  13885.152981  ...   \n",
       "4503            0.117104  0.00515               1500  13885.152981  ...   \n",
       "\n",
       "      coffee  age_months  resid_buildings_share  jews_share  parks  \\\n",
       "0        0.0          12               0.116035    0.997567    5.0   \n",
       "1279     0.0          12               0.116035    0.997567    5.0   \n",
       "1383     0.0          12               0.116035    0.997567    5.0   \n",
       "3143     0.0          12               0.116035    0.997567    5.0   \n",
       "4503     0.0          12               0.116035    0.997567    5.0   \n",
       "\n",
       "      kindergarten  hist  urban_industrial  cluster_6  urban_public  \n",
       "0              0.0   0.0               0.0          4           0.0  \n",
       "1279           0.0   0.0               0.0          4           0.0  \n",
       "1383           0.0   0.0               0.0          4           0.0  \n",
       "3143           0.0   0.0               0.0          4           0.0  \n",
       "4503           0.0   0.0               0.0          4           0.0  \n",
       "\n",
       "[5 rows x 22 columns]"
      ]
     },
     "execution_count": 939,
     "metadata": {},
     "output_type": "execute_result"
    }
   ],
   "source": [
    "gdf_iso_raw.head()"
   ]
  },
  {
   "cell_type": "code",
   "execution_count": 940,
   "id": "2797a797",
   "metadata": {
    "ExecuteTime": {
     "end_time": "2022-07-19T05:56:29.769088Z",
     "start_time": "2022-07-19T05:56:28.916961Z"
    }
   },
   "outputs": [
    {
     "name": "stderr",
     "output_type": "stream",
     "text": [
      "/usr/local/lib/python3.7/dist-packages/pandas/core/frame.py:9203: FutureWarning: Passing 'suffixes' which cause duplicate columns {'hex_gid_right'} in the result is deprecated and will raise a MergeError in a future version.\n",
      "  validate=validate,\n"
     ]
    }
   ],
   "source": [
    "gdf_iso_raw = gdf_iso_raw.merge(gdf_hex[['hex_gid','geometry']], \n",
    "                  right_on='hex_gid', \n",
    "                  left_on='hex_gid_left', suffixes=('','_left')).\\\n",
    "            merge(gdf_hex[['hex_gid','geometry']],\n",
    "                  right_on='hex_gid', \n",
    "                  left_on='hex_gid_right', \n",
    "                  suffixes=('_right',''))"
   ]
  },
  {
   "cell_type": "markdown",
   "id": "ba44ff97",
   "metadata": {},
   "source": [
    "Считаем дистанцию от выбранного гекса до всех гексов в изохроне, чтобы учесть в прогнозе заказов расстояние до стора."
   ]
  },
  {
   "cell_type": "code",
   "execution_count": 941,
   "id": "7ad46caf",
   "metadata": {
    "ExecuteTime": {
     "end_time": "2022-07-19T05:56:40.592168Z",
     "start_time": "2022-07-19T05:56:29.771898Z"
    }
   },
   "outputs": [
    {
     "name": "stderr",
     "output_type": "stream",
     "text": [
      "/usr/local/lib/python3.7/dist-packages/ipykernel_launcher.py:1: UserWarning: Geometry is in a geographic CRS. Results from 'centroid' are likely incorrect. Use 'GeoSeries.to_crs()' to re-project geometries to a projected CRS before this operation.\n",
      "\n",
      "  \"\"\"Entry point for launching an IPython kernel.\n",
      "/usr/local/lib/python3.7/dist-packages/ipykernel_launcher.py:1: UserWarning: Geometry is in a geographic CRS. Results from 'centroid' are likely incorrect. Use 'GeoSeries.to_crs()' to re-project geometries to a projected CRS before this operation.\n",
      "\n",
      "  \"\"\"Entry point for launching an IPython kernel.\n"
     ]
    }
   ],
   "source": [
    "gdf_iso_raw['distance_straight'] = gpd.GeoSeries(gdf_iso_raw['geometry_left'].centroid).set_crs('epsg:4326').to_crs(isr_crs).distance(gpd.GeoSeries(gdf_iso_raw['geometry_right'].centroid).set_crs('epsg:4326').to_crs(isr_crs))"
   ]
  },
  {
   "cell_type": "code",
   "execution_count": 942,
   "id": "5435f7e3",
   "metadata": {
    "ExecuteTime": {
     "end_time": "2022-07-19T05:56:40.739707Z",
     "start_time": "2022-07-19T05:56:40.594941Z"
    }
   },
   "outputs": [],
   "source": [
    "gdf_iso_raw = gdf_iso_raw.loc[:,~gdf_iso_raw.columns.duplicated()].copy()\n"
   ]
  },
  {
   "cell_type": "code",
   "execution_count": 943,
   "id": "014b4098",
   "metadata": {
    "ExecuteTime": {
     "end_time": "2022-07-19T05:56:40.778672Z",
     "start_time": "2022-07-19T05:56:40.741849Z"
    }
   },
   "outputs": [
    {
     "data": {
      "text/plain": [
       "density                  0.0\n",
       "distance_straight        0.0\n",
       "sq                       0.0\n",
       "soc_econom_index         0.0\n",
       "mean_height              0.0\n",
       "coffee                   0.0\n",
       "age_months               0.0\n",
       "resid_buildings_share    0.0\n",
       "jews_share               0.0\n",
       "parks                    0.0\n",
       "kindergarten             0.0\n",
       "hist                     0.0\n",
       "urban_industrial         0.0\n",
       "cluster_6                0.0\n",
       "urban_public             0.0\n",
       "dtype: float64"
      ]
     },
     "execution_count": 943,
     "metadata": {},
     "output_type": "execute_result"
    }
   ],
   "source": [
    "gdf_iso_raw[model_cols].isnull().mean()"
   ]
  },
  {
   "cell_type": "code",
   "execution_count": 944,
   "id": "ebd8a5fa",
   "metadata": {
    "ExecuteTime": {
     "end_time": "2022-07-19T05:56:44.033733Z",
     "start_time": "2022-07-19T05:56:44.024561Z"
    }
   },
   "outputs": [],
   "source": [
    "gdf_iso_raw['urban_public'] =gdf_iso_raw['urban_public'].fillna(0)\n",
    "gdf_iso_raw['urban_industrial'] =gdf_iso_raw['urban_industrial'].fillna(0)"
   ]
  },
  {
   "cell_type": "code",
   "execution_count": 945,
   "id": "0e5e90e9",
   "metadata": {
    "ExecuteTime": {
     "end_time": "2022-07-19T05:56:44.445663Z",
     "start_time": "2022-07-19T05:56:44.293154Z"
    }
   },
   "outputs": [],
   "source": [
    "gdf_iso_raw['predict_penetration_users_fin'] = model.predict(gdf_iso_raw[model_cols])/3 # делим на частоту\n",
    "gdf_iso_raw['penetration_target_fin'] = gdf_iso_raw['predict_penetration_users_fin']*2.4\n",
    "gdf_iso_raw['orders_predict_fin'] = gdf_iso_raw['predict_penetration_users_fin']*gdf_iso_raw['pop_v3']*3\n",
    "gdf_iso_raw['orders_target_fin'] = gdf_iso_raw['penetration_target_fin']*gdf_iso_raw['pop_v3']*3"
   ]
  },
  {
   "cell_type": "code",
   "execution_count": 843,
   "id": "515f0d97",
   "metadata": {
    "ExecuteTime": {
     "end_time": "2022-07-14T13:58:31.773036Z",
     "start_time": "2022-07-14T13:58:31.766544Z"
    }
   },
   "outputs": [
    {
     "data": {
      "text/plain": [
       "0.05030942087368756"
      ]
     },
     "execution_count": 843,
     "metadata": {},
     "output_type": "execute_result"
    }
   ],
   "source": [
    "gdf_iso_raw['penetration_target_fin'].mean()"
   ]
  },
  {
   "cell_type": "code",
   "execution_count": 844,
   "id": "34edc9da",
   "metadata": {
    "ExecuteTime": {
     "end_time": "2022-07-14T13:58:35.655832Z",
     "start_time": "2022-07-14T13:58:35.643302Z"
    }
   },
   "outputs": [
    {
     "data": {
      "text/plain": [
       "orders_target        4.554077e+07\n",
       "orders_target_fin    4.822446e+07\n",
       "dtype: float64"
      ]
     },
     "execution_count": 844,
     "metadata": {},
     "output_type": "execute_result"
    }
   ],
   "source": [
    "gdf_iso_raw[['orders_target','orders_target_fin']].sum()"
   ]
  },
  {
   "cell_type": "code",
   "execution_count": 845,
   "id": "4cf5815b",
   "metadata": {
    "ExecuteTime": {
     "end_time": "2022-07-14T13:58:54.687599Z",
     "start_time": "2022-07-14T13:58:54.474721Z"
    }
   },
   "outputs": [
    {
     "name": "stderr",
     "output_type": "stream",
     "text": [
      "/usr/local/lib/python3.7/dist-packages/ipykernel_launcher.py:1: FutureWarning: Indexing with multiple keys (implicitly converted to a tuple of keys) will be deprecated, use a list instead.\n",
      "  \"\"\"Entry point for launching an IPython kernel.\n",
      "/usr/local/lib/python3.7/dist-packages/ipykernel_launcher.py:2: FutureWarning: Indexing with multiple keys (implicitly converted to a tuple of keys) will be deprecated, use a list instead.\n",
      "  \n"
     ]
    }
   ],
   "source": [
    "gdf_iso_stat = gdf_iso_raw.groupby('hex_gid_left')['pop_v3','orders_target','orders_target_fin'].sum().join(\n",
    "    gdf_iso_raw.groupby('hex_gid_left')['penetration_target','penetration_target_fin'].mean()\n",
    ").join(gdf_iso.set_index('hex_gid')[['geometry']]).reset_index()"
   ]
  },
  {
   "cell_type": "code",
   "execution_count": 821,
   "id": "3fdd253d",
   "metadata": {
    "ExecuteTime": {
     "end_time": "2022-07-14T11:36:39.874065Z",
     "start_time": "2022-07-14T11:36:39.852342Z"
    },
    "scrolled": true
   },
   "outputs": [
    {
     "data": {
      "text/html": [
       "<div>\n",
       "<style scoped>\n",
       "    .dataframe tbody tr th:only-of-type {\n",
       "        vertical-align: middle;\n",
       "    }\n",
       "\n",
       "    .dataframe tbody tr th {\n",
       "        vertical-align: top;\n",
       "    }\n",
       "\n",
       "    .dataframe thead th {\n",
       "        text-align: right;\n",
       "    }\n",
       "</style>\n",
       "<table border=\"1\" class=\"dataframe\">\n",
       "  <thead>\n",
       "    <tr style=\"text-align: right;\">\n",
       "      <th></th>\n",
       "      <th>orders_target</th>\n",
       "      <th>orders_target_fin</th>\n",
       "      <th>distance_straight</th>\n",
       "      <th>penetration_target_fin</th>\n",
       "      <th>penetration_target</th>\n",
       "    </tr>\n",
       "  </thead>\n",
       "  <tbody>\n",
       "    <tr>\n",
       "      <th>0</th>\n",
       "      <td>22.608404</td>\n",
       "      <td>21.261278</td>\n",
       "      <td>701.013146</td>\n",
       "      <td>0.110127</td>\n",
       "      <td>0.117104</td>\n",
       "    </tr>\n",
       "    <tr>\n",
       "      <th>1</th>\n",
       "      <td>22.608404</td>\n",
       "      <td>22.960516</td>\n",
       "      <td>245.774500</td>\n",
       "      <td>0.118928</td>\n",
       "      <td>0.117104</td>\n",
       "    </tr>\n",
       "    <tr>\n",
       "      <th>2</th>\n",
       "      <td>22.608404</td>\n",
       "      <td>22.006491</td>\n",
       "      <td>664.041184</td>\n",
       "      <td>0.113987</td>\n",
       "      <td>0.117104</td>\n",
       "    </tr>\n",
       "    <tr>\n",
       "      <th>3</th>\n",
       "      <td>22.608404</td>\n",
       "      <td>22.960516</td>\n",
       "      <td>292.406505</td>\n",
       "      <td>0.118928</td>\n",
       "      <td>0.117104</td>\n",
       "    </tr>\n",
       "    <tr>\n",
       "      <th>4</th>\n",
       "      <td>22.608404</td>\n",
       "      <td>22.960516</td>\n",
       "      <td>481.424788</td>\n",
       "      <td>0.118928</td>\n",
       "      <td>0.117104</td>\n",
       "    </tr>\n",
       "    <tr>\n",
       "      <th>...</th>\n",
       "      <td>...</td>\n",
       "      <td>...</td>\n",
       "      <td>...</td>\n",
       "      <td>...</td>\n",
       "      <td>...</td>\n",
       "    </tr>\n",
       "    <tr>\n",
       "      <th>386930</th>\n",
       "      <td>51.984700</td>\n",
       "      <td>53.979235</td>\n",
       "      <td>780.224511</td>\n",
       "      <td>0.047619</td>\n",
       "      <td>0.045860</td>\n",
       "    </tr>\n",
       "    <tr>\n",
       "      <th>386931</th>\n",
       "      <td>76.388856</td>\n",
       "      <td>84.178610</td>\n",
       "      <td>780.224511</td>\n",
       "      <td>0.048800</td>\n",
       "      <td>0.044284</td>\n",
       "    </tr>\n",
       "    <tr>\n",
       "      <th>386932</th>\n",
       "      <td>11.938560</td>\n",
       "      <td>17.156222</td>\n",
       "      <td>780.224511</td>\n",
       "      <td>0.112898</td>\n",
       "      <td>0.078562</td>\n",
       "    </tr>\n",
       "    <tr>\n",
       "      <th>386933</th>\n",
       "      <td>14.943209</td>\n",
       "      <td>19.355387</td>\n",
       "      <td>780.224511</td>\n",
       "      <td>0.127369</td>\n",
       "      <td>0.098335</td>\n",
       "    </tr>\n",
       "    <tr>\n",
       "      <th>386934</th>\n",
       "      <td>26.682025</td>\n",
       "      <td>56.693181</td>\n",
       "      <td>357.757674</td>\n",
       "      <td>0.106048</td>\n",
       "      <td>0.049910</td>\n",
       "    </tr>\n",
       "  </tbody>\n",
       "</table>\n",
       "<p>386935 rows × 5 columns</p>\n",
       "</div>"
      ],
      "text/plain": [
       "        orders_target  orders_target_fin  distance_straight  \\\n",
       "0           22.608404          21.261278         701.013146   \n",
       "1           22.608404          22.960516         245.774500   \n",
       "2           22.608404          22.006491         664.041184   \n",
       "3           22.608404          22.960516         292.406505   \n",
       "4           22.608404          22.960516         481.424788   \n",
       "...               ...                ...                ...   \n",
       "386930      51.984700          53.979235         780.224511   \n",
       "386931      76.388856          84.178610         780.224511   \n",
       "386932      11.938560          17.156222         780.224511   \n",
       "386933      14.943209          19.355387         780.224511   \n",
       "386934      26.682025          56.693181         357.757674   \n",
       "\n",
       "        penetration_target_fin  penetration_target  \n",
       "0                     0.110127            0.117104  \n",
       "1                     0.118928            0.117104  \n",
       "2                     0.113987            0.117104  \n",
       "3                     0.118928            0.117104  \n",
       "4                     0.118928            0.117104  \n",
       "...                        ...                 ...  \n",
       "386930                0.047619            0.045860  \n",
       "386931                0.048800            0.044284  \n",
       "386932                0.112898            0.078562  \n",
       "386933                0.127369            0.098335  \n",
       "386934                0.106048            0.049910  \n",
       "\n",
       "[386935 rows x 5 columns]"
      ]
     },
     "execution_count": 821,
     "metadata": {},
     "output_type": "execute_result"
    }
   ],
   "source": [
    "gdf_iso_raw[['orders_target','orders_target_fin','distance_straight','penetration_target_fin','penetration_target']]"
   ]
  },
  {
   "cell_type": "code",
   "execution_count": 846,
   "id": "c9351204",
   "metadata": {
    "ExecuteTime": {
     "end_time": "2022-07-14T13:59:05.850142Z",
     "start_time": "2022-07-14T13:59:05.426485Z"
    }
   },
   "outputs": [],
   "source": [
    "gdf_full_dataset_good =gdf_full_dataset_good.drop(gdf_full_dataset_good.columns[-6:],axis=1).merge(gdf_iso_stat, left_on='hex_gid', right_on='hex_gid_left', how='left', suffixes=('','_iso'))\n",
    "gdf_full_dataset_good['predict_orders_rank_iso'] = gdf_full_dataset_good.groupby('dbscan_num')['orders_target_fin'].rank(ascending=False)"
   ]
  },
  {
   "cell_type": "code",
   "execution_count": 828,
   "id": "9294a6cb",
   "metadata": {
    "ExecuteTime": {
     "end_time": "2022-07-14T12:04:59.794352Z",
     "start_time": "2022-07-14T12:04:59.786326Z"
    }
   },
   "outputs": [
    {
     "data": {
      "text/plain": [
       "0        12718.121709\n",
       "1         1740.669562\n",
       "2        13677.148874\n",
       "3         4184.815904\n",
       "4        17693.289383\n",
       "             ...     \n",
       "10124    55646.092786\n",
       "10125     9880.886144\n",
       "10126     1106.194045\n",
       "10127    12771.235492\n",
       "10128     5409.971966\n",
       "Name: orders_target_fin, Length: 10129, dtype: float64"
      ]
     },
     "execution_count": 828,
     "metadata": {},
     "output_type": "execute_result"
    }
   ],
   "source": [
    "gdf_full_dataset_good['orders_target_fin']"
   ]
  },
  {
   "cell_type": "code",
   "execution_count": 823,
   "id": "d256ca41",
   "metadata": {
    "ExecuteTime": {
     "end_time": "2022-07-14T11:37:14.200235Z",
     "start_time": "2022-07-14T11:37:14.186921Z"
    }
   },
   "outputs": [
    {
     "data": {
      "text/html": [
       "<div>\n",
       "<style scoped>\n",
       "    .dataframe tbody tr th:only-of-type {\n",
       "        vertical-align: middle;\n",
       "    }\n",
       "\n",
       "    .dataframe tbody tr th {\n",
       "        vertical-align: top;\n",
       "    }\n",
       "\n",
       "    .dataframe thead th {\n",
       "        text-align: right;\n",
       "    }\n",
       "</style>\n",
       "<table border=\"1\" class=\"dataframe\">\n",
       "  <thead>\n",
       "    <tr style=\"text-align: right;\">\n",
       "      <th></th>\n",
       "      <th>orders_target_iso</th>\n",
       "      <th>orders_target_fin</th>\n",
       "      <th>distance_straight</th>\n",
       "    </tr>\n",
       "  </thead>\n",
       "  <tbody>\n",
       "    <tr>\n",
       "      <th>0</th>\n",
       "      <td>8033.622133</td>\n",
       "      <td>12718.121709</td>\n",
       "      <td>1500</td>\n",
       "    </tr>\n",
       "    <tr>\n",
       "      <th>1</th>\n",
       "      <td>1109.438480</td>\n",
       "      <td>1740.669562</td>\n",
       "      <td>1500</td>\n",
       "    </tr>\n",
       "    <tr>\n",
       "      <th>2</th>\n",
       "      <td>8498.670821</td>\n",
       "      <td>13677.148874</td>\n",
       "      <td>1500</td>\n",
       "    </tr>\n",
       "    <tr>\n",
       "      <th>3</th>\n",
       "      <td>2709.604061</td>\n",
       "      <td>4184.815904</td>\n",
       "      <td>1500</td>\n",
       "    </tr>\n",
       "    <tr>\n",
       "      <th>4</th>\n",
       "      <td>15445.525692</td>\n",
       "      <td>17693.289383</td>\n",
       "      <td>1500</td>\n",
       "    </tr>\n",
       "    <tr>\n",
       "      <th>...</th>\n",
       "      <td>...</td>\n",
       "      <td>...</td>\n",
       "      <td>...</td>\n",
       "    </tr>\n",
       "    <tr>\n",
       "      <th>10124</th>\n",
       "      <td>47647.629382</td>\n",
       "      <td>55646.092786</td>\n",
       "      <td>1500</td>\n",
       "    </tr>\n",
       "    <tr>\n",
       "      <th>10125</th>\n",
       "      <td>5792.218421</td>\n",
       "      <td>9880.886144</td>\n",
       "      <td>1500</td>\n",
       "    </tr>\n",
       "    <tr>\n",
       "      <th>10126</th>\n",
       "      <td>634.294999</td>\n",
       "      <td>1106.194045</td>\n",
       "      <td>1500</td>\n",
       "    </tr>\n",
       "    <tr>\n",
       "      <th>10127</th>\n",
       "      <td>5550.246818</td>\n",
       "      <td>12771.235492</td>\n",
       "      <td>1500</td>\n",
       "    </tr>\n",
       "    <tr>\n",
       "      <th>10128</th>\n",
       "      <td>2545.436402</td>\n",
       "      <td>5409.971966</td>\n",
       "      <td>1500</td>\n",
       "    </tr>\n",
       "  </tbody>\n",
       "</table>\n",
       "<p>10129 rows × 3 columns</p>\n",
       "</div>"
      ],
      "text/plain": [
       "       orders_target_iso  orders_target_fin  distance_straight\n",
       "0            8033.622133       12718.121709               1500\n",
       "1            1109.438480        1740.669562               1500\n",
       "2            8498.670821       13677.148874               1500\n",
       "3            2709.604061        4184.815904               1500\n",
       "4           15445.525692       17693.289383               1500\n",
       "...                  ...                ...                ...\n",
       "10124       47647.629382       55646.092786               1500\n",
       "10125        5792.218421        9880.886144               1500\n",
       "10126         634.294999        1106.194045               1500\n",
       "10127        5550.246818       12771.235492               1500\n",
       "10128        2545.436402        5409.971966               1500\n",
       "\n",
       "[10129 rows x 3 columns]"
      ]
     },
     "execution_count": 823,
     "metadata": {},
     "output_type": "execute_result"
    }
   ],
   "source": [
    "gdf_full_dataset_good[['orders_target_iso','orders_target_fin','distance_straight']]"
   ]
  },
  {
   "cell_type": "code",
   "execution_count": 849,
   "id": "6c0e78fa",
   "metadata": {
    "ExecuteTime": {
     "end_time": "2022-07-14T15:16:44.899455Z",
     "start_time": "2022-07-14T15:16:44.882760Z"
    }
   },
   "outputs": [
    {
     "data": {
      "text/plain": [
       "892db66e3a7ffff    1\n",
       "892db6768d3ffff    1\n",
       "892db2b2193ffff    1\n",
       "892db048d57ffff    1\n",
       "892db0a0c6fffff    1\n",
       "                  ..\n",
       "892db00300fffff    1\n",
       "892db0cdc8bffff    1\n",
       "892db62048bffff    1\n",
       "892db04a4afffff    1\n",
       "892db015583ffff    1\n",
       "Name: hex_gid, Length: 10129, dtype: int64"
      ]
     },
     "execution_count": 849,
     "metadata": {},
     "output_type": "execute_result"
    }
   ],
   "source": [
    "gdf_full_dataset_good['hex_gid'].value_counts()"
   ]
  },
  {
   "cell_type": "code",
   "execution_count": 850,
   "id": "58fcf072",
   "metadata": {
    "ExecuteTime": {
     "end_time": "2022-07-14T15:17:23.468338Z",
     "start_time": "2022-07-14T15:17:23.462833Z"
    }
   },
   "outputs": [
    {
     "data": {
      "text/plain": [
       "(10129, 66)"
      ]
     },
     "execution_count": 850,
     "metadata": {},
     "output_type": "execute_result"
    }
   ],
   "source": [
    "gdf_full_dataset_good.shape"
   ]
  },
  {
   "cell_type": "code",
   "execution_count": 847,
   "id": "9b3a14c9",
   "metadata": {
    "ExecuteTime": {
     "end_time": "2022-07-14T13:59:10.725677Z",
     "start_time": "2022-07-14T13:59:10.682901Z"
    }
   },
   "outputs": [],
   "source": [
    "gdf_iso_stat = gdf_iso_stat.merge(gdf_full_dataset_good[['hex_gid_left','dbscan_num','english name','predict_orders_rank_iso']], on='hex_gid_left')"
   ]
  },
  {
   "cell_type": "code",
   "execution_count": 848,
   "id": "21ef3ea5",
   "metadata": {
    "ExecuteTime": {
     "end_time": "2022-07-14T13:59:47.916045Z",
     "start_time": "2022-07-14T13:59:39.526564Z"
    }
   },
   "outputs": [],
   "source": [
    "gdf_iso_stat.to_file('gdf_iso_stat.geojson', driver='GeoJSON')"
   ]
  },
  {
   "cell_type": "code",
   "execution_count": 705,
   "id": "13821813",
   "metadata": {
    "ExecuteTime": {
     "end_time": "2022-07-13T16:27:27.865323Z",
     "start_time": "2022-07-13T16:27:26.492516Z"
    }
   },
   "outputs": [
    {
     "data": {
      "text/plain": [
       "(array([2338.,  468.,  743., 1899., 2747., 3395., 3150., 2661., 1480.,\n",
       "         415.]),\n",
       " array([5.89914946e-01, 1.90109876e+02, 3.79629837e+02, 5.69149799e+02,\n",
       "        7.58669760e+02, 9.48189721e+02, 1.13770968e+03, 1.32722964e+03,\n",
       "        1.51674960e+03, 1.70626957e+03, 1.89578953e+03]),\n",
       " <BarContainer object of 10 artists>)"
      ]
     },
     "execution_count": 705,
     "metadata": {},
     "output_type": "execute_result"
    },
    {
     "data": {
      "image/png": "[encoded data removed]",
      "text/plain": [
       "<Figure size 432x288 with 1 Axes>"
      ]
     },
     "metadata": {
      "needs_background": "light"
     },
     "output_type": "display_data"
    }
   ],
   "source": [
    "plt.hist(gdf_iso.geometry.to_crs(isr_crs).area.apply(lambda x: np.sqrt(x/np.pi)))"
   ]
  },
  {
   "cell_type": "code",
   "execution_count": 707,
   "id": "4d05d59a",
   "metadata": {
    "ExecuteTime": {
     "end_time": "2022-07-13T16:28:27.288139Z",
     "start_time": "2022-07-13T16:28:24.889874Z"
    }
   },
   "outputs": [
    {
     "data": {
      "text/plain": [
       "1057.9478696522249"
      ]
     },
     "execution_count": 707,
     "metadata": {},
     "output_type": "execute_result"
    }
   ],
   "source": [
    "gdf_iso.geometry.to_crs(isr_crs).area.apply(lambda x: np.sqrt(x/np.pi))[gdf_iso.geometry.to_crs(isr_crs).area.apply(lambda x: np.sqrt(x/np.pi))>100].mean()"
   ]
  },
  {
   "cell_type": "code",
   "execution_count": 703,
   "id": "3776c363",
   "metadata": {
    "ExecuteTime": {
     "end_time": "2022-07-13T16:26:53.086596Z",
     "start_time": "2022-07-13T16:26:53.082554Z"
    }
   },
   "outputs": [],
   "source": [
    "import numpy as np"
   ]
  },
  {
   "cell_type": "code",
   "execution_count": 694,
   "id": "2df18d6e",
   "metadata": {
    "ExecuteTime": {
     "end_time": "2022-07-13T15:23:52.711189Z",
     "start_time": "2022-07-13T15:23:45.399163Z"
    }
   },
   "outputs": [
    {
     "name": "stderr",
     "output_type": "stream",
     "text": [
      "/usr/local/lib/python3.7/dist-packages/ipykernel_launcher.py:2: FutureWarning: Indexing with multiple keys (implicitly converted to a tuple of keys) will be deprecated, use a list instead.\n",
      "  \n"
     ]
    }
   ],
   "source": [
    "gdf_zones_raw_stat = gdf_full_dataset_good[['dbscan_num','geometry','penetration_target','predict_penetration_users']+model_cols].dissolve(by=['dbscan_num'], aggfunc='mean').\\\n",
    "join(gdf_full_dataset_good.groupby(['dbscan_num'])['orders_target','predict_orders','pop_v3'].sum())"
   ]
  },
  {
   "cell_type": "code",
   "execution_count": 695,
   "id": "f2b3918f",
   "metadata": {
    "ExecuteTime": {
     "end_time": "2022-07-13T15:23:53.076000Z",
     "start_time": "2022-07-13T15:23:52.713597Z"
    }
   },
   "outputs": [],
   "source": [
    "gdf_zones_raw_stat.to_file('gdf_zones_raw_stat.geojson', driver='GeoJSON')"
   ]
  },
  {
   "cell_type": "code",
   "execution_count": 9,
   "id": "16fe71d0",
   "metadata": {
    "ExecuteTime": {
     "end_time": "2022-08-08T09:59:18.511095Z",
     "start_time": "2022-08-08T09:59:18.507152Z"
    }
   },
   "outputs": [],
   "source": []
  },
  {
   "cell_type": "code",
   "execution_count": 955,
   "id": "a72dd26f",
   "metadata": {
    "ExecuteTime": {
     "end_time": "2022-07-21T08:52:05.357889Z",
     "start_time": "2022-07-21T08:51:56.164640Z"
    }
   },
   "outputs": [],
   "source": [
    "greenplum.write(full_dataset, 'snb_geo_lavka.isr_hex_main_stat_with_prediction')"
   ]
  },
  {
   "cell_type": "code",
   "execution_count": null,
   "id": "3e7264bd",
   "metadata": {},
   "outputs": [],
   "source": []
  }
 ],
 "metadata": {
  "kernelspec": {
   "display_name": "Python 3",
   "language": "python",
   "name": "python3"
  },
  "language_info": {
   "codemirror_mode": {
    "name": "ipython",
    "version": 3
   },
   "file_extension": ".py",
   "mimetype": "text/x-python",
   "name": "python",
   "nbconvert_exporter": "python",
   "pygments_lexer": "ipython3",
   "version": "3.7.5"
  }
 },
 "nbformat": 4,
 "nbformat_minor": 5
}
