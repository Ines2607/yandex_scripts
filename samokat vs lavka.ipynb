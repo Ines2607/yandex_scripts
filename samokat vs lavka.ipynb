{
 "cells": [
  {
   "cell_type": "code",
   "execution_count": 2,
   "id": "59f0de8f",
   "metadata": {
    "ExecuteTime": {
     "end_time": "2021-05-31T17:47:30.782714Z",
     "start_time": "2021-05-31T17:47:25.797361Z"
    }
   },
   "outputs": [
    {
     "name": "stderr",
     "output_type": "stream",
     "text": [
      "/usr/local/lib/python3.7/dist-packages/geopandas/_compat.py:110: UserWarning: The Shapely GEOS version (3.8.0-CAPI-1.13.1 ) is incompatible with the GEOS version PyGEOS was compiled with (3.9.0-CAPI-1.16.2). Conversions between both will be slow.\n",
      "  shapely_geos_version, geos_capi_version_string\n"
     ]
    }
   ],
   "source": [
    "from h3 import h3\n",
    "\n",
    "import pandas as pd\n",
    "\n",
    "from shapely.geometry import Point,Polygon\n",
    "\n",
    "from shapely.geometry import shape\n",
    "\n",
    "import folium\n",
    "\n",
    "# from cartoframes.viz import Map, Layer, color_continuous_style, palettes, histogram_widget\n",
    "\n",
    "import numpy as np\n",
    "import geopandas as gpd\n",
    "\n",
    "# from cartoframes.viz import color_category_style, color_bins_style, popup_element, size_bins_style\n",
    "\n",
    "# from cartoframes.viz import  basic_widget , category_widget\n",
    "\n",
    "from shapely.geometry import shape, GeometryCollection\n",
    "\n",
    "import time\n",
    "\n",
    "import seaborn as sn\n",
    "\n",
    "from sklearn.cluster import DBSCAN, KMeans\n",
    "\n",
    "from matplotlib import pyplot as plt"
   ]
  },
  {
   "cell_type": "markdown",
   "id": "b2f9b14b",
   "metadata": {},
   "source": [
    "## Содержание:\n",
    "* [Грузим датасет лавки](#zero-bullet)\n",
    "* [Грузим и обрабатываем датасет самоката](#first-bullet)\n",
    "* [Сцепляем датасет самоката и лавки](#first-half-bullet)"
   ]
  },
  {
   "cell_type": "code",
   "execution_count": 40,
   "id": "c3f86828",
   "metadata": {
    "ExecuteTime": {
     "end_time": "2021-05-31T18:27:11.724304Z",
     "start_time": "2021-05-31T18:27:08.598226Z"
    }
   },
   "outputs": [],
   "source": [
    "df_lavka = gpd.read_file('гексы_лавки_изохроны_охват.geojson', driver='GeoJSON')"
   ]
  },
  {
   "cell_type": "code",
   "execution_count": 41,
   "id": "c0aabec1",
   "metadata": {
    "ExecuteTime": {
     "end_time": "2021-05-31T18:27:13.128671Z",
     "start_time": "2021-05-31T18:27:12.985685Z"
    },
    "scrolled": true
   },
   "outputs": [
    {
     "data": {
      "text/html": [
       "<div>\n",
       "<style scoped>\n",
       "    .dataframe tbody tr th:only-of-type {\n",
       "        vertical-align: middle;\n",
       "    }\n",
       "\n",
       "    .dataframe tbody tr th {\n",
       "        vertical-align: top;\n",
       "    }\n",
       "\n",
       "    .dataframe thead th {\n",
       "        text-align: right;\n",
       "    }\n",
       "</style>\n",
       "<table border=\"1\" class=\"dataframe\">\n",
       "  <thead>\n",
       "    <tr style=\"text-align: right;\">\n",
       "      <th></th>\n",
       "      <th>external_id</th>\n",
       "      <th>hex_gid</th>\n",
       "      <th>C1C2_res_500</th>\n",
       "      <th>C1C2_res_500_no_borders</th>\n",
       "      <th>C1C2_res_1000</th>\n",
       "      <th>C1C2_res_1000_no_borders</th>\n",
       "      <th>rank_within_zone</th>\n",
       "      <th>lavka_id</th>\n",
       "      <th>lavka_slug</th>\n",
       "      <th>hex_coverage_rank_percent</th>\n",
       "      <th>...</th>\n",
       "      <th>lat</th>\n",
       "      <th>long</th>\n",
       "      <th>C1C2_res_6m_no_borders</th>\n",
       "      <th>C1C2_res_6m</th>\n",
       "      <th>C1C2_res_12m_no_borders</th>\n",
       "      <th>C1C2_res_12m</th>\n",
       "      <th>C1C2_res</th>\n",
       "      <th>lavka_exist_month</th>\n",
       "      <th>count_orders_sum</th>\n",
       "      <th>geometry</th>\n",
       "    </tr>\n",
       "  </thead>\n",
       "  <tbody>\n",
       "    <tr>\n",
       "      <th>0</th>\n",
       "      <td>202983</td>\n",
       "      <td>891181b4cdbffff</td>\n",
       "      <td>842.0</td>\n",
       "      <td>1577.0</td>\n",
       "      <td>3357.0</td>\n",
       "      <td>5450.0</td>\n",
       "      <td>44.0</td>\n",
       "      <td>NaN</td>\n",
       "      <td>None</td>\n",
       "      <td>9.0</td>\n",
       "      <td>...</td>\n",
       "      <td>37.730615</td>\n",
       "      <td>55.593054</td>\n",
       "      <td>125.0</td>\n",
       "      <td>1.0</td>\n",
       "      <td>3424.0</td>\n",
       "      <td>1775.0</td>\n",
       "      <td>1.0</td>\n",
       "      <td>8</td>\n",
       "      <td>0.0</td>\n",
       "      <td>POLYGON ((37.72786 55.59230, 37.73024 55.59124...</td>\n",
       "    </tr>\n",
       "    <tr>\n",
       "      <th>1</th>\n",
       "      <td>375098</td>\n",
       "      <td>891181b4ccfffff</td>\n",
       "      <td>181.0</td>\n",
       "      <td>1527.0</td>\n",
       "      <td>927.0</td>\n",
       "      <td>6644.0</td>\n",
       "      <td>31.0</td>\n",
       "      <td>NaN</td>\n",
       "      <td>None</td>\n",
       "      <td>8.0</td>\n",
       "      <td>...</td>\n",
       "      <td>37.738874</td>\n",
       "      <td>55.595324</td>\n",
       "      <td>771.0</td>\n",
       "      <td>379.0</td>\n",
       "      <td>11977.0</td>\n",
       "      <td>2506.0</td>\n",
       "      <td>11.0</td>\n",
       "      <td>1</td>\n",
       "      <td>0.0</td>\n",
       "      <td>POLYGON ((37.73612 55.59457, 37.73850 55.59351...</td>\n",
       "    </tr>\n",
       "    <tr>\n",
       "      <th>2</th>\n",
       "      <td>202983</td>\n",
       "      <td>891181b4c1bffff</td>\n",
       "      <td>1725.0</td>\n",
       "      <td>1794.0</td>\n",
       "      <td>6059.0</td>\n",
       "      <td>7705.0</td>\n",
       "      <td>34.0</td>\n",
       "      <td>NaN</td>\n",
       "      <td>None</td>\n",
       "      <td>8.0</td>\n",
       "      <td>...</td>\n",
       "      <td>37.742000</td>\n",
       "      <td>55.597897</td>\n",
       "      <td>3745.0</td>\n",
       "      <td>3564.0</td>\n",
       "      <td>17657.0</td>\n",
       "      <td>9451.0</td>\n",
       "      <td>4.0</td>\n",
       "      <td>8</td>\n",
       "      <td>0.0</td>\n",
       "      <td>POLYGON ((37.73925 55.59714, 37.74163 55.59608...</td>\n",
       "    </tr>\n",
       "    <tr>\n",
       "      <th>3</th>\n",
       "      <td>202983</td>\n",
       "      <td>891181b4c0fffff</td>\n",
       "      <td>1591.0</td>\n",
       "      <td>1883.0</td>\n",
       "      <td>5260.0</td>\n",
       "      <td>6399.0</td>\n",
       "      <td>43.0</td>\n",
       "      <td>NaN</td>\n",
       "      <td>None</td>\n",
       "      <td>8.0</td>\n",
       "      <td>...</td>\n",
       "      <td>37.750262</td>\n",
       "      <td>55.600167</td>\n",
       "      <td>457.0</td>\n",
       "      <td>391.0</td>\n",
       "      <td>10339.0</td>\n",
       "      <td>7644.0</td>\n",
       "      <td>0.0</td>\n",
       "      <td>8</td>\n",
       "      <td>0.0</td>\n",
       "      <td>POLYGON ((37.74751 55.59941, 37.74989 55.59835...</td>\n",
       "    </tr>\n",
       "    <tr>\n",
       "      <th>4</th>\n",
       "      <td>202983</td>\n",
       "      <td>891181b4d5bffff</td>\n",
       "      <td>1313.0</td>\n",
       "      <td>1348.0</td>\n",
       "      <td>2367.0</td>\n",
       "      <td>3883.0</td>\n",
       "      <td>42.0</td>\n",
       "      <td>NaN</td>\n",
       "      <td>None</td>\n",
       "      <td>9.0</td>\n",
       "      <td>...</td>\n",
       "      <td>37.764783</td>\n",
       "      <td>55.607583</td>\n",
       "      <td>1245.0</td>\n",
       "      <td>1150.0</td>\n",
       "      <td>8378.0</td>\n",
       "      <td>4425.0</td>\n",
       "      <td>1.0</td>\n",
       "      <td>8</td>\n",
       "      <td>0.0</td>\n",
       "      <td>POLYGON ((37.76203 55.60683, 37.76441 55.60577...</td>\n",
       "    </tr>\n",
       "  </tbody>\n",
       "</table>\n",
       "<p>5 rows × 22 columns</p>\n",
       "</div>"
      ],
      "text/plain": [
       "   external_id          hex_gid  C1C2_res_500  C1C2_res_500_no_borders  \\\n",
       "0       202983  891181b4cdbffff         842.0                   1577.0   \n",
       "1       375098  891181b4ccfffff         181.0                   1527.0   \n",
       "2       202983  891181b4c1bffff        1725.0                   1794.0   \n",
       "3       202983  891181b4c0fffff        1591.0                   1883.0   \n",
       "4       202983  891181b4d5bffff        1313.0                   1348.0   \n",
       "\n",
       "   C1C2_res_1000  C1C2_res_1000_no_borders  rank_within_zone  lavka_id  \\\n",
       "0         3357.0                    5450.0              44.0       NaN   \n",
       "1          927.0                    6644.0              31.0       NaN   \n",
       "2         6059.0                    7705.0              34.0       NaN   \n",
       "3         5260.0                    6399.0              43.0       NaN   \n",
       "4         2367.0                    3883.0              42.0       NaN   \n",
       "\n",
       "  lavka_slug  hex_coverage_rank_percent  ...        lat       long  \\\n",
       "0       None                        9.0  ...  37.730615  55.593054   \n",
       "1       None                        8.0  ...  37.738874  55.595324   \n",
       "2       None                        8.0  ...  37.742000  55.597897   \n",
       "3       None                        8.0  ...  37.750262  55.600167   \n",
       "4       None                        9.0  ...  37.764783  55.607583   \n",
       "\n",
       "   C1C2_res_6m_no_borders  C1C2_res_6m  C1C2_res_12m_no_borders  C1C2_res_12m  \\\n",
       "0                   125.0          1.0                   3424.0        1775.0   \n",
       "1                   771.0        379.0                  11977.0        2506.0   \n",
       "2                  3745.0       3564.0                  17657.0        9451.0   \n",
       "3                   457.0        391.0                  10339.0        7644.0   \n",
       "4                  1245.0       1150.0                   8378.0        4425.0   \n",
       "\n",
       "   C1C2_res  lavka_exist_month  count_orders_sum  \\\n",
       "0       1.0                  8               0.0   \n",
       "1      11.0                  1               0.0   \n",
       "2       4.0                  8               0.0   \n",
       "3       0.0                  8               0.0   \n",
       "4       1.0                  8               0.0   \n",
       "\n",
       "                                            geometry  \n",
       "0  POLYGON ((37.72786 55.59230, 37.73024 55.59124...  \n",
       "1  POLYGON ((37.73612 55.59457, 37.73850 55.59351...  \n",
       "2  POLYGON ((37.73925 55.59714, 37.74163 55.59608...  \n",
       "3  POLYGON ((37.74751 55.59941, 37.74989 55.59835...  \n",
       "4  POLYGON ((37.76203 55.60683, 37.76441 55.60577...  \n",
       "\n",
       "[5 rows x 22 columns]"
      ]
     },
     "execution_count": 41,
     "metadata": {},
     "output_type": "execute_result"
    }
   ],
   "source": [
    "df_lavka.head()"
   ]
  },
  {
   "cell_type": "code",
   "execution_count": 4,
   "id": "b79e52c5",
   "metadata": {
    "ExecuteTime": {
     "end_time": "2021-05-31T17:47:33.860750Z",
     "start_time": "2021-05-31T17:47:33.767138Z"
    }
   },
   "outputs": [],
   "source": [
    "gdf_lavki_loc = gpd.read_file('gdf_lavki_loc.geojson', driver='GeoJSON')"
   ]
  },
  {
   "cell_type": "code",
   "execution_count": null,
   "id": "e53f7fb8",
   "metadata": {},
   "outputs": [],
   "source": []
  },
  {
   "cell_type": "code",
   "execution_count": 6,
   "id": "a60df71e",
   "metadata": {
    "ExecuteTime": {
     "end_time": "2021-05-31T17:47:40.680365Z",
     "start_time": "2021-05-31T17:47:40.673998Z"
    }
   },
   "outputs": [],
   "source": [
    "def get_points(lat, long):\n",
    "    return[ Point (j,i) for i, j in zip(lat, long)]\n",
    "\n",
    "def get_gdf(df, geometry, crs):\n",
    "    return gpd.GeoDataFrame(df, geometry=geometry, crs='epsg:%s'%str(crs))"
   ]
  },
  {
   "cell_type": "code",
   "execution_count": 7,
   "id": "7f2618fb",
   "metadata": {
    "ExecuteTime": {
     "end_time": "2021-05-31T17:47:41.301600Z",
     "start_time": "2021-05-31T17:47:41.036351Z"
    }
   },
   "outputs": [
    {
     "name": "stderr",
     "output_type": "stream",
     "text": [
      "/usr/local/lib/python3.7/dist-packages/ipykernel_launcher.py:18: SettingWithCopyWarning: \n",
      "A value is trying to be set on a copy of a slice from a DataFrame\n",
      "\n",
      "See the caveats in the documentation: https://pandas.pydata.org/pandas-docs/stable/user_guide/indexing.html#returning-a-view-versus-a-copy\n"
     ]
    }
   ],
   "source": [
    "df_samokat=pd.read_csv('yt__home_maps_geocoder_geocoding_result_lavka_samokat6209c75da785b0d4.csv', sep=',')\n",
    "\n",
    "df_samokat.head()\n",
    "\n",
    "df_samokat.drop(0,inplace=True)\n",
    "\n",
    "df_samokat['point_lat'] = df_samokat['point_lat'].astype(float)\n",
    "df_samokat['point_lon'] = df_samokat['point_lon'].astype(float)\n",
    "\n",
    "df_samokat['geometry']=get_points(df_samokat['point_lat'].astype(float),df_samokat['point_lon'].astype(float))\n",
    "\n",
    "gdf_samokat=get_gdf(df_samokat, crs=4326, geometry='geometry')\n",
    "\n",
    "gdf_samokat_mos = gdf_samokat[(gdf_samokat['point_lon']>37.0)&(gdf_samokat['point_lon']<39.0)&(gdf_samokat['point_lat']>50.0)]\n",
    "\n",
    "\n",
    "\n",
    "gdf_samokat_mos.drop_duplicates(inplace=True)\n",
    "\n",
    "import yt.wrapper as yt\n",
    "\n",
    "yt.config[\"proxy\"][\"url\"] = \"hahn\"\n",
    "\n",
    "from yt.wrapper import YtClient\n",
    "client = YtClient(proxy=\"hahn\", config={\"tabular_data_format\": \"dsv\"})\n",
    "\n",
    "\n",
    "table = \"//home/taxi-ci/samokat/v2/coverage_actual\"\n",
    "\n",
    "\n",
    "# yt.run_sort(table, sort_by=[\"live_agglomeration_node_id\"])\n",
    "\n",
    "#%%time \n",
    "\n",
    "df=pd.DataFrame()\n",
    "\n",
    "for n,row in enumerate(yt.read_table(yt.TablePath(table),format=\"yson\")):\n",
    "    df_tmp=pd.DataFrame({n:row}).T\n",
    "    df=pd.concat([df,df_tmp])\n",
    "\n",
    "\n",
    "#     print (df_tmp)\n",
    "\n",
    "df_samokat = df.merge(gdf_samokat_mos, left_on='address', right_on='input_request', how='left')"
   ]
  },
  {
   "cell_type": "code",
   "execution_count": 22,
   "id": "07f2d79f",
   "metadata": {
    "ExecuteTime": {
     "end_time": "2021-05-31T12:19:30.357207Z",
     "start_time": "2021-05-31T12:19:30.345261Z"
    }
   },
   "outputs": [
    {
     "data": {
      "text/plain": [
       "acceptingOrders           0.000000\n",
       "address_x                 0.000000\n",
       "coverage_id               0.000000\n",
       "full_response_coverage    0.000000\n",
       "full_response_list        0.000000\n",
       "full_response_settings    0.000000\n",
       "lavka_ids                 0.000000\n",
       "minimalAmount             0.000000\n",
       "showcaseId                0.000000\n",
       "type                      0.000000\n",
       "utc_dt                    0.000000\n",
       "utc_tm                    0.000000\n",
       "zone                      0.000000\n",
       "input_request             0.539936\n",
       "input_lang                0.539936\n",
       "input_lon                 0.539936\n",
       "input_lat                 0.539936\n",
       "distance                  0.539936\n",
       "precision                 0.539936\n",
       "accuracy                  0.539936\n",
       "point_lon                 0.539936\n",
       "point_lat                 0.539936\n",
       "geoid                     0.539936\n",
       "address_y                 0.539936\n",
       "kind                      0.539936\n",
       "geometry                  0.539936\n",
       "dtype: float64"
      ]
     },
     "execution_count": 22,
     "metadata": {},
     "output_type": "execute_result"
    }
   ],
   "source": [
    "df_samokat.isnull().mean()"
   ]
  },
  {
   "cell_type": "code",
   "execution_count": 13,
   "id": "753858e9",
   "metadata": {
    "ExecuteTime": {
     "end_time": "2021-05-31T17:47:59.025514Z",
     "start_time": "2021-05-31T17:47:59.017722Z"
    }
   },
   "outputs": [],
   "source": [
    "df_samokat_msk = df_samokat[df_samokat.zone=='msk']"
   ]
  },
  {
   "cell_type": "code",
   "execution_count": 14,
   "id": "26da20df",
   "metadata": {
    "ExecuteTime": {
     "end_time": "2021-05-31T17:48:00.613840Z",
     "start_time": "2021-05-31T17:48:00.597669Z"
    }
   },
   "outputs": [
    {
     "data": {
      "text/plain": [
       "acceptingOrders           0.000000\n",
       "address_x                 0.000000\n",
       "coverage_id               0.000000\n",
       "full_response_coverage    0.000000\n",
       "full_response_list        0.000000\n",
       "full_response_settings    0.000000\n",
       "lavka_ids                 0.000000\n",
       "minimalAmount             0.000000\n",
       "showcaseId                0.000000\n",
       "type                      0.000000\n",
       "utc_dt                    0.000000\n",
       "utc_tm                    0.000000\n",
       "zone                      0.000000\n",
       "input_request             0.106291\n",
       "input_lang                0.106291\n",
       "input_lon                 0.106291\n",
       "input_lat                 0.106291\n",
       "distance                  0.106291\n",
       "precision                 0.106291\n",
       "accuracy                  0.106291\n",
       "point_lon                 0.106291\n",
       "point_lat                 0.106291\n",
       "geoid                     0.106291\n",
       "address_y                 0.106291\n",
       "kind                      0.106291\n",
       "geometry                  0.106291\n",
       "dtype: float64"
      ]
     },
     "execution_count": 14,
     "metadata": {},
     "output_type": "execute_result"
    }
   ],
   "source": [
    "df_samokat_msk.isnull().mean()"
   ]
  },
  {
   "cell_type": "code",
   "execution_count": 15,
   "id": "d5256518",
   "metadata": {
    "ExecuteTime": {
     "end_time": "2021-05-31T17:48:04.829889Z",
     "start_time": "2021-05-31T17:48:04.804235Z"
    },
    "scrolled": true
   },
   "outputs": [
    {
     "name": "stderr",
     "output_type": "stream",
     "text": [
      "/usr/local/lib/python3.7/dist-packages/ipykernel_launcher.py:1: SettingWithCopyWarning: \n",
      "A value is trying to be set on a copy of a slice from a DataFrame.\n",
      "Try using .loc[row_indexer,col_indexer] = value instead\n",
      "\n",
      "See the caveats in the documentation: https://pandas.pydata.org/pandas-docs/stable/user_guide/indexing.html#returning-a-view-versus-a-copy\n",
      "  \"\"\"Entry point for launching an IPython kernel.\n"
     ]
    }
   ],
   "source": [
    "df_samokat_msk['geometry_zone'] = df_samokat_msk['full_response_coverage'].apply(lambda x: None if pd.isnull(x) else Polygon(x['geometry']['coordinates'][0]))"
   ]
  },
  {
   "cell_type": "code",
   "execution_count": 36,
   "id": "0bbd6cb2",
   "metadata": {
    "ExecuteTime": {
     "end_time": "2021-05-31T13:30:21.461493Z",
     "start_time": "2021-05-31T13:30:21.450170Z"
    }
   },
   "outputs": [
    {
     "data": {
      "text/plain": [
       "0      POLYGON ((37.406051 55.726402, 37.406147 55.72...\n",
       "1      POLYGON ((37.406051 55.726402, 37.406147 55.72...\n",
       "2      POLYGON ((37.658879 55.776149, 37.656771 55.77...\n",
       "3      POLYGON ((37.658879 55.776149, 37.656771 55.77...\n",
       "4      POLYGON ((37.832346 55.639171, 37.826207 55.63...\n",
       "                             ...                        \n",
       "934    POLYGON ((56.2777 58.117199, 56.281002 58.1175...\n",
       "935    POLYGON ((56.199017 57.991301, 56.201813 57.98...\n",
       "936    POLYGON ((56.224767 57.998374, 56.224318 57.99...\n",
       "937    POLYGON ((56.290596 57.987862, 56.29059 57.989...\n",
       "938    POLYGON ((56.204946 57.993132, 56.202646 57.99...\n",
       "Name: geometry_zone, Length: 939, dtype: object"
      ]
     },
     "execution_count": 36,
     "metadata": {},
     "output_type": "execute_result"
    }
   ],
   "source": [
    "df_samokat['geometry_zone']"
   ]
  },
  {
   "cell_type": "code",
   "execution_count": 16,
   "id": "88f73e5a",
   "metadata": {
    "ExecuteTime": {
     "end_time": "2021-05-31T17:48:09.258345Z",
     "start_time": "2021-05-31T17:48:09.229196Z"
    }
   },
   "outputs": [],
   "source": [
    "gdf_samokat_msk = get_gdf(df_samokat_msk[pd.isnull(df_samokat_msk['kind'])],'geometry_zone', 4326 )"
   ]
  },
  {
   "cell_type": "code",
   "execution_count": 150,
   "id": "e5bdf7e0",
   "metadata": {
    "ExecuteTime": {
     "end_time": "2021-06-01T11:00:44.107165Z",
     "start_time": "2021-06-01T11:00:43.913400Z"
    }
   },
   "outputs": [
    {
     "data": {
      "text/html": [
       "<div>\n",
       "<style scoped>\n",
       "    .dataframe tbody tr th:only-of-type {\n",
       "        vertical-align: middle;\n",
       "    }\n",
       "\n",
       "    .dataframe tbody tr th {\n",
       "        vertical-align: top;\n",
       "    }\n",
       "\n",
       "    .dataframe thead th {\n",
       "        text-align: right;\n",
       "    }\n",
       "</style>\n",
       "<table border=\"1\" class=\"dataframe\">\n",
       "  <thead>\n",
       "    <tr style=\"text-align: right;\">\n",
       "      <th></th>\n",
       "      <th>geometry</th>\n",
       "      <th>address_x</th>\n",
       "    </tr>\n",
       "  </thead>\n",
       "  <tbody>\n",
       "    <tr>\n",
       "      <th>0</th>\n",
       "      <td>POINT (37.42911 55.72536)</td>\n",
       "      <td>Красных зорь 59Г</td>\n",
       "    </tr>\n",
       "    <tr>\n",
       "      <th>1</th>\n",
       "      <td>POINT (37.42911 55.72536)</td>\n",
       "      <td>Красных зорь 59Г</td>\n",
       "    </tr>\n",
       "    <tr>\n",
       "      <th>2</th>\n",
       "      <td>POINT (37.67822 55.76674)</td>\n",
       "      <td>Денисовский 30стр10</td>\n",
       "    </tr>\n",
       "    <tr>\n",
       "      <th>3</th>\n",
       "      <td>POINT (37.67822 55.76674)</td>\n",
       "      <td>Денисовский 30стр10</td>\n",
       "    </tr>\n",
       "    <tr>\n",
       "      <th>4</th>\n",
       "      <td>POINT (37.85014 55.63589)</td>\n",
       "      <td>Угрешская 15а</td>\n",
       "    </tr>\n",
       "    <tr>\n",
       "      <th>...</th>\n",
       "      <td>...</td>\n",
       "      <td>...</td>\n",
       "    </tr>\n",
       "    <tr>\n",
       "      <th>456</th>\n",
       "      <td>POINT (37.53706 55.77296)</td>\n",
       "      <td>3-й Хорошёвский 5стр1</td>\n",
       "    </tr>\n",
       "    <tr>\n",
       "      <th>457</th>\n",
       "      <td>POINT (37.53706 55.77296)</td>\n",
       "      <td>3-й Хорошёвский 5стр1</td>\n",
       "    </tr>\n",
       "    <tr>\n",
       "      <th>458</th>\n",
       "      <td>POINT (37.70990 55.73714)</td>\n",
       "      <td>Подъемный 1</td>\n",
       "    </tr>\n",
       "    <tr>\n",
       "      <th>459</th>\n",
       "      <td>POINT (37.70990 55.73714)</td>\n",
       "      <td>Подъемный 1</td>\n",
       "    </tr>\n",
       "    <tr>\n",
       "      <th>460</th>\n",
       "      <td>POINT (37.65263 55.68153)</td>\n",
       "      <td>Нагатинская 16</td>\n",
       "    </tr>\n",
       "  </tbody>\n",
       "</table>\n",
       "<p>461 rows × 2 columns</p>\n",
       "</div>"
      ],
      "text/plain": [
       "                      geometry              address_x\n",
       "0    POINT (37.42911 55.72536)       Красных зорь 59Г\n",
       "1    POINT (37.42911 55.72536)       Красных зорь 59Г\n",
       "2    POINT (37.67822 55.76674)    Денисовский 30стр10\n",
       "3    POINT (37.67822 55.76674)    Денисовский 30стр10\n",
       "4    POINT (37.85014 55.63589)          Угрешская 15а\n",
       "..                         ...                    ...\n",
       "456  POINT (37.53706 55.77296)  3-й Хорошёвский 5стр1\n",
       "457  POINT (37.53706 55.77296)  3-й Хорошёвский 5стр1\n",
       "458  POINT (37.70990 55.73714)            Подъемный 1\n",
       "459  POINT (37.70990 55.73714)            Подъемный 1\n",
       "460  POINT (37.65263 55.68153)         Нагатинская 16\n",
       "\n",
       "[461 rows x 2 columns]"
      ]
     },
     "execution_count": 150,
     "metadata": {},
     "output_type": "execute_result"
    }
   ],
   "source": [
    "df_samokat_msk.set_geometry('geometry')[['geometry','address_x']]"
   ]
  },
  {
   "cell_type": "code",
   "execution_count": 22,
   "id": "7ca56a44",
   "metadata": {
    "ExecuteTime": {
     "end_time": "2021-05-31T17:49:04.228125Z",
     "start_time": "2021-05-31T17:49:04.223183Z"
    }
   },
   "outputs": [],
   "source": [
    "gdf_samokat_msk.loc[25,'geometry']=Point( 37.931255, 55.970131)"
   ]
  },
  {
   "cell_type": "code",
   "execution_count": 76,
   "id": "b891b79b",
   "metadata": {
    "ExecuteTime": {
     "end_time": "2021-05-31T14:47:46.370366Z",
     "start_time": "2021-05-31T14:47:46.364684Z"
    }
   },
   "outputs": [],
   "source": [
    "gdf_samokat_msk.loc[gdf_samokat_msk['address_x']=='Жуковского 7','geometry']=Point( 37.324569, 55.815564)"
   ]
  },
  {
   "cell_type": "code",
   "execution_count": 75,
   "id": "03d11757",
   "metadata": {
    "ExecuteTime": {
     "end_time": "2021-05-31T14:47:22.727923Z",
     "start_time": "2021-05-31T14:47:22.718802Z"
    }
   },
   "outputs": [
    {
     "data": {
      "text/plain": [
       "106    POINT (55.81556 37.32457)\n",
       "Name: geometry, dtype: geometry"
      ]
     },
     "execution_count": 75,
     "metadata": {},
     "output_type": "execute_result"
    }
   ],
   "source": [
    "gdf_samokat_msk.loc[gdf_samokat_msk['address_x']=='Жуковского 7','geometry']"
   ]
  },
  {
   "cell_type": "code",
   "execution_count": 79,
   "id": "9d910618",
   "metadata": {
    "ExecuteTime": {
     "end_time": "2021-05-31T14:49:23.987174Z",
     "start_time": "2021-05-31T14:49:23.981743Z"
    }
   },
   "outputs": [],
   "source": [
    "gdf_samokat_msk.loc[79,'geometry'] = Point( 37.696516, 55.816713)"
   ]
  },
  {
   "cell_type": "code",
   "execution_count": 80,
   "id": "a788d087",
   "metadata": {
    "ExecuteTime": {
     "end_time": "2021-05-31T14:49:27.693543Z",
     "start_time": "2021-05-31T14:49:27.593016Z"
    },
    "scrolled": true
   },
   "outputs": [
    {
     "data": {
      "text/html": [
       "<div>\n",
       "<style scoped>\n",
       "    .dataframe tbody tr th:only-of-type {\n",
       "        vertical-align: middle;\n",
       "    }\n",
       "\n",
       "    .dataframe tbody tr th {\n",
       "        vertical-align: top;\n",
       "    }\n",
       "\n",
       "    .dataframe thead th {\n",
       "        text-align: right;\n",
       "    }\n",
       "</style>\n",
       "<table border=\"1\" class=\"dataframe\">\n",
       "  <thead>\n",
       "    <tr style=\"text-align: right;\">\n",
       "      <th></th>\n",
       "      <th>acceptingOrders</th>\n",
       "      <th>address_x</th>\n",
       "      <th>coverage_id</th>\n",
       "      <th>full_response_coverage</th>\n",
       "      <th>full_response_list</th>\n",
       "      <th>full_response_settings</th>\n",
       "      <th>lavka_ids</th>\n",
       "      <th>minimalAmount</th>\n",
       "      <th>showcaseId</th>\n",
       "      <th>type</th>\n",
       "      <th>...</th>\n",
       "      <th>distance</th>\n",
       "      <th>precision</th>\n",
       "      <th>accuracy</th>\n",
       "      <th>point_lon</th>\n",
       "      <th>point_lat</th>\n",
       "      <th>geoid</th>\n",
       "      <th>address_y</th>\n",
       "      <th>kind</th>\n",
       "      <th>geometry</th>\n",
       "      <th>geometry_zone</th>\n",
       "    </tr>\n",
       "  </thead>\n",
       "  <tbody>\n",
       "  </tbody>\n",
       "</table>\n",
       "<p>0 rows × 27 columns</p>\n",
       "</div>"
      ],
      "text/plain": [
       "Empty GeoDataFrame\n",
       "Columns: [acceptingOrders, address_x, coverage_id, full_response_coverage, full_response_list, full_response_settings, lavka_ids, minimalAmount, showcaseId, type, utc_dt, utc_tm, zone, input_request, input_lang, input_lon, input_lat, distance, precision, accuracy, point_lon, point_lat, geoid, address_y, kind, geometry, geometry_zone]\n",
       "Index: []\n",
       "\n",
       "[0 rows x 27 columns]"
      ]
     },
     "execution_count": 80,
     "metadata": {},
     "output_type": "execute_result"
    }
   ],
   "source": [
    "gdf_samokat_msk[pd.isnull(gdf_samokat_msk['geometry'])]"
   ]
  },
  {
   "cell_type": "code",
   "execution_count": 17,
   "id": "b3c05e9b",
   "metadata": {
    "ExecuteTime": {
     "end_time": "2021-05-31T17:48:17.482887Z",
     "start_time": "2021-05-31T17:48:17.464447Z"
    }
   },
   "outputs": [],
   "source": [
    "dic_point_samokat ={26: Point(55.922449, 37.832324),\n",
    "43: Point(55.886786, 37.443173),\n",
    "44: Point(55.886786, 37.443173),\n",
    "54:  Point( 55.902717, 37.40459),\n",
    "64: Point(55.802163, 37.465461),\n",
    "65: Point(55.802163, 37.465461),\n",
    "78: Point(55.816713, 37.696516),\n",
    "79: Point(55.816713, 37.696516),\n",
    "95: Point(55.754162, 37.880958),\n",
    "96:  Point( 55.754162, 37.880958),\n",
    "329: Point(55.820217, 37.329546), \n",
    "330: Point(55.820217, 37.329546),\n",
    "106: Point(55.815564, 37.324569),\n",
    "107: Point(55.753519, 37.862660),\n",
    "108: Point(55.753519, 37.862660),\n",
    "118: Point(55.510558, 37.564168),\n",
    "135:Point(55.796987, 37.984849),\n",
    "161:Point(55.823550, 37.933950),\n",
    "162: Point(55.721518, 37.452749), \n",
    "163:Point( 55.721518, 37.452749),\n",
    "182:  Point(55.889477, 37.479600),\n",
    "183: Point(55.889477, 37.479600),\n",
    "193: Point(55.695936, 37.813764),\n",
    "194: Point(55.695936, 37.813764),\n",
    "210: Point(55.744875, 37.553199),\n",
    "211: Point(55.744875, 37.553199),\n",
    "212: Point(55.744875, 37.553199),\n",
    "254: Point(55.894535, 37.716046),\n",
    "277: Point(55.908580, 37.868256),\n",
    "280: Point(55.579210, 38.219551),\n",
    "286: Point(55.586257, 37.674247),\n",
    "287: Point(55.586257, 37.674247),\n",
    "298: Point(55.704681, 37.323087),\n",
    "299: Point(55.704681, 37.323087),\n",
    "302: Point(55.630533, 37.798691),\n",
    "307: Point(55.605882, 38.075282),\n",
    "348: Point(55.919685, 37.746373),\n",
    "368: Point(55.797534, 37.947344),\n",
    "371: Point(55.670935, 37.286426),\n",
    "372: Point(55.670935, 37.286426),\n",
    "403: Point(55.815666, 37.635206),\n",
    "404: Point(55.815666, 37.635206),\n",
    "420: Point(55.793804, 37.818741),\n",
    "421: Point(55.793804, 37.818741),\n",
    "422: Point(55.687863, 37.898278),\n",
    "444: Point(55.817411, 37.593147),\n",
    "445: Point(55.817411, 37.593147),\n",
    "455: Point(55.698944, 37.919604),\n",
    " }\n",
    "\n",
    "for k,v in dic_point_samokat.items():\n",
    "    gdf_samokat_msk.loc[k,'geometry']=v\n",
    "\n",
    "gdf_samokat_msk['geometry']=gdf_samokat_msk['geometry'].apply(lambda x: None if pd.isnull(x) else Point(x.centroid.y, x.centroid.x))\n",
    "\n",
    "gdf_samokat_msk=get_gdf(df_samokat_msk,'geometry_zone', 4326 )\n",
    "\n",
    "get_gdf(pd.concat([df_samokat_msk[~pd.isnull(df_samokat_msk['kind'])],gdf_samokat_msk]),'geometry_zone', 4326 ).isnull().mean()\n",
    "\n",
    "df_samokat_msk.columns\n",
    "\n",
    "gdf_samokat_fin = get_gdf(pd.concat([df_samokat_msk[~pd.isnull(df_samokat_msk['kind'])],gdf_samokat_msk]),'geometry_zone', 4326 )[['acceptingOrders', 'address_x', 'coverage_id', 'full_response_coverage',\n",
    "       'full_response_list', 'full_response_settings', 'lavka_ids',\n",
    "       'minimalAmount', 'showcaseId', 'type', 'utc_dt', 'utc_tm', 'zone','geometry', 'geometry_zone']]\n",
    "\n",
    "gdf_samokat_fin.rename(columns={'address_x':'address'}, inplace=True)\n",
    "\n",
    "gdf_samokat_fin['geometry_str']=gdf_samokat_fin['geometry'].astype(str)\n",
    "\n",
    "gdf_samokat_fin[['acceptingOrders', 'address', 'coverage_id', \n",
    "       'minimalAmount', 'showcaseId', 'type', 'utc_dt', 'utc_tm', 'zone','geometry_str', 'geometry_zone']].to_file('gdf_samokat_fin.geojson', driver='GeoJSON')\n",
    "\n",
    "gdf_samokat_fin[['acceptingOrders', 'address', 'coverage_id', \n",
    "       'minimalAmount', 'showcaseId', 'type', 'utc_dt', 'utc_tm', 'zone','geometry_str', 'geometry_zone']].to_csv('gdf_samokat_fin.csv')\n",
    "\n",
    "gdf_samokat_fin[gdf_samokat_fin['address']=='3-й Хорошёвский 5стр1']\n",
    "\n",
    "gdf_samokat_mmrkts[gdf_samokat_mmrkts['address']=='3-й Хорошёвский 5стр1']\n",
    "\n",
    "### Соединяем гексы, дарксторы и зоны самоката и лавки <a class=\"anchor\" id=\"first-half-bullet\"></a>\n",
    "\n",
    "\n",
    "m1 = folium.Map([55.753637, 37.621179], zoom_start=11, attr='My Data Attribution')\n",
    "  \n",
    "\n",
    "transparetn_style = lambda feature: {'fillColor': 'gray','color': 'gray','weight': 0,'fillOpacity':0.00}\n",
    "\n",
    "\n",
    "layer = folium.GeoJson(\n",
    "   gdf_samokat_msk[['geometry_zone','address_x']],\n",
    "    name='zone',\n",
    "    style_function=lambda feature: {\n",
    "        'color' : 'black',\n",
    "        'weight' : 3,\n",
    "        'fillOpacity' : 0.0,\n",
    "        },\n",
    "     tooltip=folium.features.GeoJsonTooltip(\n",
    "                fields=['address_x',\n",
    "                       ],\n",
    "                aliases=['Адрес:',\n",
    "                      ],\n",
    "                style=(\"background-color: white; color: #333333; font-family: arial; font-size: 12px; padding: 10px;\") \n",
    "    )\n",
    "    ).add_to(m1)\n",
    "\n",
    "layer2 = folium.GeoJson(\n",
    "    df_lavka.set_geometry('geometry')[['geometry','hex_gid','external_id']],\n",
    "    name='зоны лавки',\n",
    "    style_function=lambda feature: {\n",
    "        'color' : 'feature.properties.external_id',\n",
    "        'weight' : 3,\n",
    "        'fillOpacity' : 0.8,\n",
    "        },\n",
    "     tooltip=folium.features.GeoJsonTooltip(\n",
    "                fields=['external_id',\n",
    "                       ],\n",
    "                aliases=['Лавка:',\n",
    "                      ],\n",
    "                style=(\"background-color: white; color: #333333; font-family: arial; font-size: 12px; padding: 10px;\") \n",
    "    )\n",
    "    ).add_to(m1)\n",
    "\n",
    "# layer2 = folium.GeoJson(\n",
    "#     df_samokat_msk.set_geometry('geometry')[['geometry','address_x']],\n",
    "#     name='stores Самокат',\n",
    "#     style_function=lambda feature: {\n",
    "#         'color' : 'green',\n",
    "#         'weight' : 3,\n",
    "#         'fillOpacity' : 0.0,\n",
    "#         },\n",
    "#      tooltip=folium.features.GeoJsonTooltip(\n",
    "#                 fields=['address_x',\n",
    "#                        ],\n",
    "#                 aliases=['Самокат:',\n",
    "#                       ],\n",
    "#                 style=(\"background-color: white; color: #333333; font-family: arial; font-size: 12px; padding: 10px;\") \n",
    "#     )\n",
    "#     ).add_to(m1)\n",
    "m1\n",
    "\n",
    "df_lavka\n",
    "\n",
    "gdf_samokat_mmrkts = gdf_samokat_fin[gdf_samokat_fin['type']=='MINIMARKET']\n",
    "\n",
    "gdf_samokat_mmrkts['acceptingOrders'].value_counts()\n",
    "\n",
    " gpd.sjoin(\n",
    "        gpd.sjoin(\n",
    "            df_lavka,\n",
    "            gdf_lavki_loc,\n",
    "            op='contains',\n",
    "            how='left'\n",
    "        ).drop('index_right', axis=1),\n",
    "        gdf_samokat_fin.set_geometry('geometry'),\n",
    "        how='left',\n",
    "        op='contains').isnull().mean()\n",
    "\n",
    "gdf_lavki_samokats = gpd.sjoin(\n",
    "    gpd.sjoin(\n",
    "        get_gdf(\n",
    "            df_lavka.merge(\n",
    "            gdf_lavki_loc,\n",
    "            on=['lavka_id','lavka_slug'],\n",
    "            how='left',\n",
    "            suffixes=('_hex','_lavka_store')\n",
    "        ), \n",
    "            'geometry_hex',4326),\n",
    "        gdf_samokat_mmrkts.set_geometry('geometry')[['address','coverage_id','showcaseId','geometry_str','geometry']],\n",
    "        how='left',\n",
    "        op='contains',\n",
    "        rsuffix='_samokat_store'),\n",
    "    gdf_samokat_mmrkts[['address','coverage_id','showcaseId','geometry_zone']],\n",
    "    how='left',\n",
    "    op='intersects',\n",
    "    rsuffix='_zone',\n",
    "    lsuffix ='_store'\n",
    ")\n",
    "\n",
    "gdf_lavki_samokats[(gdf_lavki_samokats['coverage_id__zone']!= gdf_lavki_samokats['coverage_id__store'])&(~pd.isnull(gdf_lavki_samokats['coverage_id__store']))]['hex_gid']\n",
    "\n",
    "gdf_lavki_samokats[gdf_lavki_samokats['hex_gid']=='8911aa710abffff']\n",
    "\n",
    "gdf_lavki_samokats = gdf_lavki_samokats[(gdf_lavki_samokats['coverage_id__zone']== gdf_lavki_samokats['coverage_id__store'])|(pd.isnull(gdf_lavki_samokats['coverage_id__store']))]\n",
    "\n",
    "# добавляем geometry_zone\n",
    "gdf_lavki_samokats = gdf_lavki_samokats.merge(gdf_samokat_mmrkts[['coverage_id','showcaseId','geometry_zone']], left_on=['coverage_id__zone','showcaseId__zone'], \n",
    "                        right_on = ['coverage_id','showcaseId'])\n",
    "\n",
    "gdf_lavki_samokats.isnull().mean()\n",
    "\n",
    "gdf_lavki_samokats.shape\n",
    "\n",
    "gdf_lavki_samokats[~pd.isnull(gdf_lavki_samokats['coverage_id__store'])]\n",
    "\n",
    "gdf_lavki_samokats.to_csv('gdf_lavki_samokats.csv')\n",
    "\n",
    "gdf_lavki_samokats[~pd.isnull(gdf_lavki_samokats['address__store'])]['C1C2_res_6m'].sum()\n",
    "\n",
    "gdf_lavki_samokats[~pd.isnull(gdf_lavki_samokats['address__store'])]['C1C2_res_6m'].mean()\n",
    "\n",
    "gdf_lavki_samokats[~pd.isnull(gdf_lavki_samokats['address__store'])]['C1C2_res_12m'].mean()\n",
    "\n",
    "gdf_lavki_samokats[~pd.isnull(gdf_lavki_samokats['lavka_slug'])]['C1C2_res_6m'].sum()\n",
    "\n",
    "gdf_lavki_samokats[~pd.isnull(gdf_lavki_samokats['lavka_slug'])]['C1C2_res_6m'].mean()\n",
    "\n",
    "gdf_lavki_samokats[~pd.isnull(gdf_lavki_samokats['lavka_slug'])]['C1C2_res_12m'].mean()\n",
    "\n",
    "gdf_lavki_samokats[gdf_lavki_samokats['coverage_id']=='53126bf5d50c520805a1df43fe5346ca']['hex_gid'].nunique()\n",
    "\n",
    "gdf_lavki_samokats[gdf_lavki_samokats['address__zone']=='3-й Хорошёвский 5стр1']['coverage_id__store'].unique()\n",
    "\n",
    "plt.hist(gdf_lavki_samokats[~pd.isnull(gdf_lavki_samokats['address__store'])]['C1C2_res_6m'], color='pink', alpha=1, label='samokat')\n",
    "plt.hist(gdf_lavki_samokats[~pd.isnull(gdf_lavki_samokats['lavka_slug'])]['C1C2_res_6m'],color='blue', alpha=0.4, label='lavka')\n",
    "plt.legend()\n",
    "plt.title('audience coverage with 15cte');\n",
    "\n",
    "gdf_lavki_samokats.groupby(['external_id','coverage_id__zone']).size()\n",
    "\n",
    "gdf_lavki_samokats[(~pd.isnull(gdf_lavki_samokats['coverage_id__zone']))&(~pd.isnull(gdf_lavki_samokats['lavka_id']))][['coverage_id__zone','lavka_id','C1C2_res_6m']].drop_duplicates()\n",
    "\n",
    "gpd_lavka6m = gpd.read_file('lavka_iso6m.geojson')\n",
    "\n",
    "gpd_lavka6m\n",
    "\n",
    "import gc\n",
    "\n",
    "gc.collect()\n",
    "\n",
    "gpd_lavka_iso=gpd_lavka6m[~pd.isnull(gpd_lavka6m['lavka_id'])]\n",
    "\n",
    "gpd_lavka_iso.shape\n",
    "\n",
    "gpd_lavka_iso['lavka_id'].nunique()\n",
    "\n",
    "#здесь и ниже убираю с1с2 из изохроны не в зоне самоката\n",
    "gdf_samokat_6m = gpd_lavka6m.merge(gdf_lavki_samokats[~pd.isnull(gdf_lavki_samokats['coverage_id__store'])][['coverage_id__store','hex_gid']], on='hex_gid')\n",
    "\n",
    "gdf_lavki_samokats.geometry\n",
    "\n",
    "samokat_joned = gpd.sjoin(gdf_samokat_6m,gdf_lavki_samokats[['hex_gid','geometry_hex','C1C2_res','coverage_id__zone']], op='intersects', how='inner')\n",
    "\n",
    "samokat_joned = samokat_joned[samokat_joned['coverage_id__zone']==samokat_joned['coverage_id__store']]\n",
    "\n",
    "samokat_joned.groupby('coverage_id__store')['C1C2_res'].agg(['sum','size'])\n",
    "\n",
    "gdf_lavki_samokats['rank']=gdf_lavki_samokats.groupby(['hex_gid'])['C1C2_res'].rank('first')\n",
    "\n",
    "gdf_lavki_samokats = gdf_lavki_samokats[gdf_lavki_samokats['rank']==1]\n",
    "\n",
    "df_lavka[['hex_gid','geometry','external_id']]\n",
    "\n",
    "gpd_lavka_iso =gpd.sjoin(gpd_lavka_iso,df_lavka[['hex_gid','geometry','external_id']], op='intersects', how='inner').drop('index_right', axis=1)\n",
    "\n",
    "gpd_lavka_iso = gpd_lavka_iso[gpd_lavka_iso['lavka_id']==gpd_lavka_iso['external_id']]\n",
    "\n",
    "gpd_lavka_iso\n",
    "\n",
    "gpd_lavka_iso_coverage_inter = gpd_lavka_iso.merge(gdf_lavki_samokats[['hex_gid','coverage_id__zone']],\n",
    "                   on='hex_gid', how='inner')\n",
    "\n",
    "gpd_lavka_iso_coverage_inter['hex_gid'].value_counts()\n",
    "\n",
    "gpd_lavka_iso_coverage_inter = gpd_lavka_iso_coverage_inter.merge(df_lavka[['hex_gid','C1C2_res']])\n",
    "\n",
    "gpd_lavka_iso_coverage_inter['hex_gid'].value_counts()\n",
    "\n",
    "gpd_lavka_iso_coverage_inter[gpd_lavka_iso_coverage_inter['coverage_id__zone']=='53126bf5d50c520805a1df43fe5346ca']\n",
    "\n",
    "gdf_lavki_samokats\n",
    "\n",
    "gpd_lavka15_samokat_zone_inter = gpd_lavka_iso_coverage_inter.groupby(['coverage_id__zone','lavka_id'])['C1C2_res'].agg(['sum','size']).reset_index().merge(\n",
    "gdf_lavki_samokats[~pd.isnull(gdf_lavki_samokats['coverage_id__store'])][['coverage_id__store','C1C2_res_6m','address__zone']],\n",
    "    left_on = 'coverage_id__zone', right_on = 'coverage_id__store'\n",
    ").merge(\n",
    "gdf_lavki_samokats[~pd.isnull(gdf_lavki_samokats['lavka_id'])][['lavka_id','C1C2_res_6m']],\n",
    "    on = 'lavka_id'\n",
    ")\n",
    "\n",
    "gpd_lavka15_samokat_zone_inter.rename(columns={'sum':'C1C2_res_inter_lavka',\n",
    "                                               'C1C2_res_6m_x':'C1C2_res_15samokat',\n",
    "                                               'C1C2_res_6m_y':'C1C2_res_15lavka',\n",
    "                                               'size':'hex_intersected'\n",
    "                                              }, inplace=True)\n",
    "\n",
    "gpd_lavka15_samokat_zone_inter[gpd_lavka15_samokat_zone_inter['C1C2_res_15lavka']==gpd_lavka15_samokat_zone_inter['C1C2_res_inter_lavka']]\n",
    "\n",
    "gpd_lavka15_samokat_zone_inter['coverage_id__zone'].value_counts()\n",
    "\n",
    "gpd_lavka15_samokat_zone_inter[gpd_lavka15_samokat_zone_inter['address__zone']=='Зарайская 37']\n",
    "\n",
    "# размеры лавки самоката\n",
    "gpd_lavka15_samokat_zone_inter = gpd_lavka15_samokat_zone_inter.merge(\n",
    "gdf_lavki_samokats.groupby('coverage_id__zone')['C1C2_res'].agg(['sum','size']).reset_index(),\n",
    "    on='coverage_id__zone'\n",
    ")\n",
    "\n",
    "gpd_lavka15_samokat_zone_inter.rename(columns={'sum':'C1C2_res_zone_samokat',\n",
    "                                \n",
    "                                               'size':'hex_zone_samokat'\n",
    "                                              }, inplace=True)\n",
    "\n",
    "gpd_lavka15_samokat_zone_inter\n",
    "\n",
    "gpd_lavka15_samokat_zone_inter.to_csv('gpd_lavka15_samokat_zone_inter_0106.csv')\n",
    "\n",
    "gpd_lavka15_samokat_zone_inter.merge(samokat_joned.groupby('coverage_id__store')['C1C2_res'].agg(['sum','size']), how='left', on='coverage_id__store')\n",
    "\n",
    "\n",
    "\n",
    "samokat_joned.groupby('coverage_id__store')['C1C2_res'].agg(['sum','size']).to_csv('gdf_samokat_c1c2_15.csv')\n",
    "\n",
    "samokat_orders = pd.read_csv('Table view_crosstab.csv')\n",
    "\n",
    "samokat_orders.head()\n",
    "\n",
    "gdf_lavki_samokats.isnull().mean()\n",
    "\n",
    "gdf_lavki_samokats[gdf_lavki_samokats[]]"
   ]
  },
  {
   "cell_type": "code",
   "execution_count": null,
   "id": "23fbff3b",
   "metadata": {},
   "outputs": [],
   "source": []
  }
 ],
 "metadata": {
  "kernelspec": {
   "display_name": "Python 3",
   "language": "python",
   "name": "python3"
  },
  "language_info": {
   "codemirror_mode": {
    "name": "ipython",
    "version": 3
   },
   "file_extension": ".py",
   "mimetype": "text/x-python",
   "name": "python",
   "nbconvert_exporter": "python",
   "pygments_lexer": "ipython3",
   "version": "3.7.5"
  }
 },
 "nbformat": 4,
 "nbformat_minor": 5
}
